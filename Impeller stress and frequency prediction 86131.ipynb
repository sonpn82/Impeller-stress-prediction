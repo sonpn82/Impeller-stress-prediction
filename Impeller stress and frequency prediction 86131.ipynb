{
 "cells": [
  {
   "cell_type": "markdown",
   "metadata": {},
   "source": [
    "# Impeller Stress and Frequency Prediction"
   ]
  },
  {
   "cell_type": "markdown",
   "metadata": {},
   "source": [
    "## Polynominal Linear Regression"
   ]
  },
  {
   "cell_type": "markdown",
   "metadata": {},
   "source": [
    "<h2 style=\"color:cyan\">Import Libraries</h2>"
   ]
  },
  {
   "cell_type": "code",
   "execution_count": 1,
   "metadata": {},
   "outputs": [],
   "source": [
    "import pandas as pd\n",
    "import numpy as np\n",
    "from sklearn.preprocessing import PolynomialFeatures\n",
    "from sklearn.linear_model import LinearRegression\n",
    "from sklearn.metrics import r2_score\n",
    "import plotly.express as px\n",
    "import matplotlib.pyplot as plt\n",
    "%matplotlib inline"
   ]
  },
  {
   "cell_type": "markdown",
   "metadata": {},
   "source": [
    "<h2 style=\"color:cyan\">Read Data</h2>"
   ]
  },
  {
   "cell_type": "code",
   "execution_count": 2,
   "metadata": {},
   "outputs": [],
   "source": [
    "filename_train = 'https://raw.githubusercontent.com/sonpn82/Impeller-stress-prediction/main/Impeller%20stress%20prediction%20database%20-%20stress%20and%20freq%2086131.csv'\n",
    "filename_test = 'https://raw.githubusercontent.com/sonpn82/Impeller-stress-prediction/main/Impeller%20stress%20prediction%20database%20-%20test%20data%2086131.csv'\n",
    "# filename_eva = 'https://raw.githubusercontent.com/sonpn82/Impeller-stress-prediction/main/Impeller%20stress%20prediction%20database%20-%20evaluation%20data.csv'\n",
    "\n",
    "df = pd.read_csv(filename_train)\n",
    "df_test = pd.read_csv(filename_test)\n",
    "# df_eva = pd.read_csv(filename_eva)"
   ]
  },
  {
   "cell_type": "markdown",
   "metadata": {},
   "source": [
    "<h2 style=\"color:cyan\">Data Exploring</h2>"
   ]
  },
  {
   "cell_type": "code",
   "execution_count": 3,
   "metadata": {},
   "outputs": [
    {
     "data": {
      "text/html": [
       "<div>\n",
       "<style scoped>\n",
       "    .dataframe tbody tr th:only-of-type {\n",
       "        vertical-align: middle;\n",
       "    }\n",
       "\n",
       "    .dataframe tbody tr th {\n",
       "        vertical-align: top;\n",
       "    }\n",
       "\n",
       "    .dataframe thead th {\n",
       "        text-align: right;\n",
       "    }\n",
       "</style>\n",
       "<table border=\"1\" class=\"dataframe\">\n",
       "  <thead>\n",
       "    <tr style=\"text-align: right;\">\n",
       "      <th></th>\n",
       "      <th>No</th>\n",
       "      <th>Model</th>\n",
       "      <th>Speed</th>\n",
       "      <th>MatDensity</th>\n",
       "      <th>MatYoung</th>\n",
       "      <th>D2</th>\n",
       "      <th>DB</th>\n",
       "      <th>tm</th>\n",
       "      <th>ts</th>\n",
       "      <th>ti</th>\n",
       "      <th>tv</th>\n",
       "      <th>Rib</th>\n",
       "      <th>Sm</th>\n",
       "      <th>Ss</th>\n",
       "      <th>Sv</th>\n",
       "      <th>Si</th>\n",
       "      <th>Frequency</th>\n",
       "      <th>Frequency0</th>\n",
       "    </tr>\n",
       "  </thead>\n",
       "  <tbody>\n",
       "    <tr>\n",
       "      <th>0</th>\n",
       "      <td>1</td>\n",
       "      <td>86131</td>\n",
       "      <td>3550</td>\n",
       "      <td>7850</td>\n",
       "      <td>200</td>\n",
       "      <td>525</td>\n",
       "      <td>120</td>\n",
       "      <td>4.5</td>\n",
       "      <td>3.2</td>\n",
       "      <td>0</td>\n",
       "      <td>3.2</td>\n",
       "      <td>0</td>\n",
       "      <td>100.90</td>\n",
       "      <td>111.10</td>\n",
       "      <td>98.80</td>\n",
       "      <td>0</td>\n",
       "      <td>165.10</td>\n",
       "      <td>153.19</td>\n",
       "    </tr>\n",
       "    <tr>\n",
       "      <th>1</th>\n",
       "      <td>2</td>\n",
       "      <td>86131</td>\n",
       "      <td>3550</td>\n",
       "      <td>7850</td>\n",
       "      <td>200</td>\n",
       "      <td>525</td>\n",
       "      <td>120</td>\n",
       "      <td>6.0</td>\n",
       "      <td>3.2</td>\n",
       "      <td>0</td>\n",
       "      <td>3.2</td>\n",
       "      <td>0</td>\n",
       "      <td>52.90</td>\n",
       "      <td>114.50</td>\n",
       "      <td>99.50</td>\n",
       "      <td>0</td>\n",
       "      <td>174.93</td>\n",
       "      <td>163.73</td>\n",
       "    </tr>\n",
       "    <tr>\n",
       "      <th>2</th>\n",
       "      <td>3</td>\n",
       "      <td>86131</td>\n",
       "      <td>3550</td>\n",
       "      <td>7850</td>\n",
       "      <td>200</td>\n",
       "      <td>525</td>\n",
       "      <td>120</td>\n",
       "      <td>6.0</td>\n",
       "      <td>4.5</td>\n",
       "      <td>0</td>\n",
       "      <td>3.2</td>\n",
       "      <td>0</td>\n",
       "      <td>53.59</td>\n",
       "      <td>94.25</td>\n",
       "      <td>101.00</td>\n",
       "      <td>0</td>\n",
       "      <td>171.01</td>\n",
       "      <td>159.96</td>\n",
       "    </tr>\n",
       "    <tr>\n",
       "      <th>3</th>\n",
       "      <td>4</td>\n",
       "      <td>86131</td>\n",
       "      <td>3550</td>\n",
       "      <td>7850</td>\n",
       "      <td>200</td>\n",
       "      <td>625</td>\n",
       "      <td>160</td>\n",
       "      <td>4.5</td>\n",
       "      <td>3.2</td>\n",
       "      <td>0</td>\n",
       "      <td>3.2</td>\n",
       "      <td>0</td>\n",
       "      <td>83.13</td>\n",
       "      <td>140.85</td>\n",
       "      <td>91.91</td>\n",
       "      <td>0</td>\n",
       "      <td>152.90</td>\n",
       "      <td>139.19</td>\n",
       "    </tr>\n",
       "    <tr>\n",
       "      <th>4</th>\n",
       "      <td>5</td>\n",
       "      <td>86131</td>\n",
       "      <td>3550</td>\n",
       "      <td>7850</td>\n",
       "      <td>200</td>\n",
       "      <td>625</td>\n",
       "      <td>160</td>\n",
       "      <td>6.0</td>\n",
       "      <td>3.2</td>\n",
       "      <td>0</td>\n",
       "      <td>3.2</td>\n",
       "      <td>0</td>\n",
       "      <td>81.30</td>\n",
       "      <td>147.10</td>\n",
       "      <td>97.50</td>\n",
       "      <td>0</td>\n",
       "      <td>160.37</td>\n",
       "      <td>147.48</td>\n",
       "    </tr>\n",
       "  </tbody>\n",
       "</table>\n",
       "</div>"
      ],
      "text/plain": [
       "   No  Model  Speed  MatDensity  MatYoung   D2   DB   tm   ts  ti   tv  Rib  \\\n",
       "0   1  86131   3550        7850       200  525  120  4.5  3.2   0  3.2    0   \n",
       "1   2  86131   3550        7850       200  525  120  6.0  3.2   0  3.2    0   \n",
       "2   3  86131   3550        7850       200  525  120  6.0  4.5   0  3.2    0   \n",
       "3   4  86131   3550        7850       200  625  160  4.5  3.2   0  3.2    0   \n",
       "4   5  86131   3550        7850       200  625  160  6.0  3.2   0  3.2    0   \n",
       "\n",
       "       Sm      Ss      Sv  Si  Frequency  Frequency0  \n",
       "0  100.90  111.10   98.80   0     165.10      153.19  \n",
       "1   52.90  114.50   99.50   0     174.93      163.73  \n",
       "2   53.59   94.25  101.00   0     171.01      159.96  \n",
       "3   83.13  140.85   91.91   0     152.90      139.19  \n",
       "4   81.30  147.10   97.50   0     160.37      147.48  "
      ]
     },
     "execution_count": 3,
     "metadata": {},
     "output_type": "execute_result"
    }
   ],
   "source": [
    "df_test.head()"
   ]
  },
  {
   "cell_type": "code",
   "execution_count": 4,
   "metadata": {},
   "outputs": [
    {
     "name": "stdout",
     "output_type": "stream",
     "text": [
      "(210, 18)\n",
      "(45, 18)\n"
     ]
    }
   ],
   "source": [
    "print(df.shape)\n",
    "print(df_test.shape)\n",
    "#print(df_eva.shape)"
   ]
  },
  {
   "cell_type": "code",
   "execution_count": 5,
   "metadata": {},
   "outputs": [
    {
     "data": {
      "text/html": [
       "<div>\n",
       "<style scoped>\n",
       "    .dataframe tbody tr th:only-of-type {\n",
       "        vertical-align: middle;\n",
       "    }\n",
       "\n",
       "    .dataframe tbody tr th {\n",
       "        vertical-align: top;\n",
       "    }\n",
       "\n",
       "    .dataframe thead th {\n",
       "        text-align: right;\n",
       "    }\n",
       "</style>\n",
       "<table border=\"1\" class=\"dataframe\">\n",
       "  <thead>\n",
       "    <tr style=\"text-align: right;\">\n",
       "      <th></th>\n",
       "      <th>No</th>\n",
       "      <th>Model</th>\n",
       "      <th>Speed</th>\n",
       "      <th>MatDensity</th>\n",
       "      <th>MatYoung</th>\n",
       "      <th>D2</th>\n",
       "      <th>DB</th>\n",
       "      <th>tm</th>\n",
       "      <th>ts</th>\n",
       "      <th>ti</th>\n",
       "      <th>tv</th>\n",
       "      <th>Rib</th>\n",
       "      <th>Sm</th>\n",
       "      <th>Ss</th>\n",
       "      <th>Sv</th>\n",
       "      <th>Si</th>\n",
       "      <th>Frequency</th>\n",
       "      <th>Frequency0</th>\n",
       "    </tr>\n",
       "  </thead>\n",
       "  <tbody>\n",
       "    <tr>\n",
       "      <th>count</th>\n",
       "      <td>210.000000</td>\n",
       "      <td>210.0</td>\n",
       "      <td>210.0</td>\n",
       "      <td>210.0</td>\n",
       "      <td>210.0</td>\n",
       "      <td>210.000000</td>\n",
       "      <td>210.000000</td>\n",
       "      <td>210.000000</td>\n",
       "      <td>210.000000</td>\n",
       "      <td>210.0</td>\n",
       "      <td>210.000000</td>\n",
       "      <td>210.0</td>\n",
       "      <td>210.000000</td>\n",
       "      <td>210.000000</td>\n",
       "      <td>210.000000</td>\n",
       "      <td>210.0</td>\n",
       "      <td>210.000000</td>\n",
       "      <td>210.000000</td>\n",
       "    </tr>\n",
       "    <tr>\n",
       "      <th>mean</th>\n",
       "      <td>105.500000</td>\n",
       "      <td>86131.0</td>\n",
       "      <td>3550.0</td>\n",
       "      <td>7850.0</td>\n",
       "      <td>200.0</td>\n",
       "      <td>1000.000000</td>\n",
       "      <td>346.190476</td>\n",
       "      <td>7.948095</td>\n",
       "      <td>5.537619</td>\n",
       "      <td>0.0</td>\n",
       "      <td>4.311905</td>\n",
       "      <td>0.0</td>\n",
       "      <td>238.374000</td>\n",
       "      <td>348.087619</td>\n",
       "      <td>438.609952</td>\n",
       "      <td>0.0</td>\n",
       "      <td>112.243857</td>\n",
       "      <td>91.726857</td>\n",
       "    </tr>\n",
       "    <tr>\n",
       "      <th>std</th>\n",
       "      <td>60.765944</td>\n",
       "      <td>0.0</td>\n",
       "      <td>0.0</td>\n",
       "      <td>0.0</td>\n",
       "      <td>0.0</td>\n",
       "      <td>303.488489</td>\n",
       "      <td>182.368159</td>\n",
       "      <td>3.162508</td>\n",
       "      <td>2.522561</td>\n",
       "      <td>0.0</td>\n",
       "      <td>1.547061</td>\n",
       "      <td>0.0</td>\n",
       "      <td>134.009466</td>\n",
       "      <td>197.377051</td>\n",
       "      <td>295.563061</td>\n",
       "      <td>0.0</td>\n",
       "      <td>26.841942</td>\n",
       "      <td>31.884822</td>\n",
       "    </tr>\n",
       "    <tr>\n",
       "      <th>min</th>\n",
       "      <td>1.000000</td>\n",
       "      <td>86131.0</td>\n",
       "      <td>3550.0</td>\n",
       "      <td>7850.0</td>\n",
       "      <td>200.0</td>\n",
       "      <td>500.000000</td>\n",
       "      <td>120.000000</td>\n",
       "      <td>3.200000</td>\n",
       "      <td>3.200000</td>\n",
       "      <td>0.0</td>\n",
       "      <td>3.200000</td>\n",
       "      <td>0.0</td>\n",
       "      <td>44.140000</td>\n",
       "      <td>73.100000</td>\n",
       "      <td>66.200000</td>\n",
       "      <td>0.0</td>\n",
       "      <td>80.110000</td>\n",
       "      <td>48.240000</td>\n",
       "    </tr>\n",
       "    <tr>\n",
       "      <th>25%</th>\n",
       "      <td>53.250000</td>\n",
       "      <td>86131.0</td>\n",
       "      <td>3550.0</td>\n",
       "      <td>7850.0</td>\n",
       "      <td>200.0</td>\n",
       "      <td>750.000000</td>\n",
       "      <td>200.000000</td>\n",
       "      <td>6.000000</td>\n",
       "      <td>3.200000</td>\n",
       "      <td>0.0</td>\n",
       "      <td>3.200000</td>\n",
       "      <td>0.0</td>\n",
       "      <td>127.875000</td>\n",
       "      <td>178.950000</td>\n",
       "      <td>163.750000</td>\n",
       "      <td>0.0</td>\n",
       "      <td>93.845000</td>\n",
       "      <td>68.655000</td>\n",
       "    </tr>\n",
       "    <tr>\n",
       "      <th>50%</th>\n",
       "      <td>105.500000</td>\n",
       "      <td>86131.0</td>\n",
       "      <td>3550.0</td>\n",
       "      <td>7850.0</td>\n",
       "      <td>200.0</td>\n",
       "      <td>1000.000000</td>\n",
       "      <td>280.000000</td>\n",
       "      <td>6.000000</td>\n",
       "      <td>4.500000</td>\n",
       "      <td>0.0</td>\n",
       "      <td>3.200000</td>\n",
       "      <td>0.0</td>\n",
       "      <td>217.640000</td>\n",
       "      <td>308.250000</td>\n",
       "      <td>384.000000</td>\n",
       "      <td>0.0</td>\n",
       "      <td>103.900000</td>\n",
       "      <td>83.185000</td>\n",
       "    </tr>\n",
       "    <tr>\n",
       "      <th>75%</th>\n",
       "      <td>157.750000</td>\n",
       "      <td>86131.0</td>\n",
       "      <td>3550.0</td>\n",
       "      <td>7850.0</td>\n",
       "      <td>200.0</td>\n",
       "      <td>1250.000000</td>\n",
       "      <td>510.000000</td>\n",
       "      <td>9.000000</td>\n",
       "      <td>6.000000</td>\n",
       "      <td>0.0</td>\n",
       "      <td>4.500000</td>\n",
       "      <td>0.0</td>\n",
       "      <td>326.350000</td>\n",
       "      <td>480.500000</td>\n",
       "      <td>681.250000</td>\n",
       "      <td>0.0</td>\n",
       "      <td>122.390000</td>\n",
       "      <td>104.837500</td>\n",
       "    </tr>\n",
       "    <tr>\n",
       "      <th>max</th>\n",
       "      <td>210.000000</td>\n",
       "      <td>86131.0</td>\n",
       "      <td>3550.0</td>\n",
       "      <td>7850.0</td>\n",
       "      <td>200.0</td>\n",
       "      <td>1500.000000</td>\n",
       "      <td>660.000000</td>\n",
       "      <td>18.000000</td>\n",
       "      <td>15.000000</td>\n",
       "      <td>0.0</td>\n",
       "      <td>12.000000</td>\n",
       "      <td>0.0</td>\n",
       "      <td>740.800000</td>\n",
       "      <td>1055.200000</td>\n",
       "      <td>1253.000000</td>\n",
       "      <td>0.0</td>\n",
       "      <td>215.700000</td>\n",
       "      <td>206.700000</td>\n",
       "    </tr>\n",
       "  </tbody>\n",
       "</table>\n",
       "</div>"
      ],
      "text/plain": [
       "               No    Model   Speed  MatDensity  MatYoung           D2  \\\n",
       "count  210.000000    210.0   210.0       210.0     210.0   210.000000   \n",
       "mean   105.500000  86131.0  3550.0      7850.0     200.0  1000.000000   \n",
       "std     60.765944      0.0     0.0         0.0       0.0   303.488489   \n",
       "min      1.000000  86131.0  3550.0      7850.0     200.0   500.000000   \n",
       "25%     53.250000  86131.0  3550.0      7850.0     200.0   750.000000   \n",
       "50%    105.500000  86131.0  3550.0      7850.0     200.0  1000.000000   \n",
       "75%    157.750000  86131.0  3550.0      7850.0     200.0  1250.000000   \n",
       "max    210.000000  86131.0  3550.0      7850.0     200.0  1500.000000   \n",
       "\n",
       "               DB          tm          ts     ti          tv    Rib  \\\n",
       "count  210.000000  210.000000  210.000000  210.0  210.000000  210.0   \n",
       "mean   346.190476    7.948095    5.537619    0.0    4.311905    0.0   \n",
       "std    182.368159    3.162508    2.522561    0.0    1.547061    0.0   \n",
       "min    120.000000    3.200000    3.200000    0.0    3.200000    0.0   \n",
       "25%    200.000000    6.000000    3.200000    0.0    3.200000    0.0   \n",
       "50%    280.000000    6.000000    4.500000    0.0    3.200000    0.0   \n",
       "75%    510.000000    9.000000    6.000000    0.0    4.500000    0.0   \n",
       "max    660.000000   18.000000   15.000000    0.0   12.000000    0.0   \n",
       "\n",
       "               Sm           Ss           Sv     Si   Frequency  Frequency0  \n",
       "count  210.000000   210.000000   210.000000  210.0  210.000000  210.000000  \n",
       "mean   238.374000   348.087619   438.609952    0.0  112.243857   91.726857  \n",
       "std    134.009466   197.377051   295.563061    0.0   26.841942   31.884822  \n",
       "min     44.140000    73.100000    66.200000    0.0   80.110000   48.240000  \n",
       "25%    127.875000   178.950000   163.750000    0.0   93.845000   68.655000  \n",
       "50%    217.640000   308.250000   384.000000    0.0  103.900000   83.185000  \n",
       "75%    326.350000   480.500000   681.250000    0.0  122.390000  104.837500  \n",
       "max    740.800000  1055.200000  1253.000000    0.0  215.700000  206.700000  "
      ]
     },
     "execution_count": 5,
     "metadata": {},
     "output_type": "execute_result"
    }
   ],
   "source": [
    "df.describe()"
   ]
  },
  {
   "cell_type": "markdown",
   "metadata": {},
   "source": [
    "<h2 style=\"color:cyan\">Drop unused column</h2>"
   ]
  },
  {
   "cell_type": "code",
   "execution_count": 6,
   "metadata": {},
   "outputs": [],
   "source": [
    "df.drop(['No', 'Model'], axis=1, inplace=True)\n",
    "df_test.drop(['No', 'Model'], axis=1, inplace=True)\n",
    "#df_eva.drop(['No', 'Model', 'Vane max stress loc'], axis=1, inplace=True)\n",
    "\n",
    "# fill NA with 0\n",
    "df.fillna(0, inplace=True)\n",
    "df_test.fillna(0, inplace=True)\n",
    "#df_eva.fillna(0, inplace=True)"
   ]
  },
  {
   "cell_type": "code",
   "execution_count": 7,
   "metadata": {},
   "outputs": [
    {
     "data": {
      "text/html": [
       "<div>\n",
       "<style scoped>\n",
       "    .dataframe tbody tr th:only-of-type {\n",
       "        vertical-align: middle;\n",
       "    }\n",
       "\n",
       "    .dataframe tbody tr th {\n",
       "        vertical-align: top;\n",
       "    }\n",
       "\n",
       "    .dataframe thead th {\n",
       "        text-align: right;\n",
       "    }\n",
       "</style>\n",
       "<table border=\"1\" class=\"dataframe\">\n",
       "  <thead>\n",
       "    <tr style=\"text-align: right;\">\n",
       "      <th></th>\n",
       "      <th>Speed</th>\n",
       "      <th>MatDensity</th>\n",
       "      <th>MatYoung</th>\n",
       "      <th>D2</th>\n",
       "      <th>DB</th>\n",
       "      <th>tm</th>\n",
       "      <th>ts</th>\n",
       "      <th>ti</th>\n",
       "      <th>tv</th>\n",
       "      <th>Rib</th>\n",
       "      <th>Sm</th>\n",
       "      <th>Ss</th>\n",
       "      <th>Sv</th>\n",
       "      <th>Si</th>\n",
       "      <th>Frequency</th>\n",
       "      <th>Frequency0</th>\n",
       "    </tr>\n",
       "  </thead>\n",
       "  <tbody>\n",
       "    <tr>\n",
       "      <th>0</th>\n",
       "      <td>3550</td>\n",
       "      <td>7850</td>\n",
       "      <td>200</td>\n",
       "      <td>500</td>\n",
       "      <td>120</td>\n",
       "      <td>4.5</td>\n",
       "      <td>3.2</td>\n",
       "      <td>0</td>\n",
       "      <td>3.2</td>\n",
       "      <td>0</td>\n",
       "      <td>83.10</td>\n",
       "      <td>103.3</td>\n",
       "      <td>82.2</td>\n",
       "      <td>0</td>\n",
       "      <td>188.7</td>\n",
       "      <td>178.40</td>\n",
       "    </tr>\n",
       "    <tr>\n",
       "      <th>1</th>\n",
       "      <td>3550</td>\n",
       "      <td>7850</td>\n",
       "      <td>200</td>\n",
       "      <td>500</td>\n",
       "      <td>120</td>\n",
       "      <td>6.0</td>\n",
       "      <td>3.2</td>\n",
       "      <td>0</td>\n",
       "      <td>3.2</td>\n",
       "      <td>0</td>\n",
       "      <td>48.20</td>\n",
       "      <td>105.3</td>\n",
       "      <td>88.0</td>\n",
       "      <td>0</td>\n",
       "      <td>198.3</td>\n",
       "      <td>188.50</td>\n",
       "    </tr>\n",
       "    <tr>\n",
       "      <th>2</th>\n",
       "      <td>3550</td>\n",
       "      <td>7850</td>\n",
       "      <td>200</td>\n",
       "      <td>500</td>\n",
       "      <td>120</td>\n",
       "      <td>9.0</td>\n",
       "      <td>3.2</td>\n",
       "      <td>0</td>\n",
       "      <td>3.2</td>\n",
       "      <td>0</td>\n",
       "      <td>44.14</td>\n",
       "      <td>108.7</td>\n",
       "      <td>91.8</td>\n",
       "      <td>0</td>\n",
       "      <td>215.7</td>\n",
       "      <td>206.70</td>\n",
       "    </tr>\n",
       "    <tr>\n",
       "      <th>3</th>\n",
       "      <td>3550</td>\n",
       "      <td>7850</td>\n",
       "      <td>200</td>\n",
       "      <td>500</td>\n",
       "      <td>120</td>\n",
       "      <td>4.5</td>\n",
       "      <td>4.5</td>\n",
       "      <td>0</td>\n",
       "      <td>3.2</td>\n",
       "      <td>0</td>\n",
       "      <td>85.82</td>\n",
       "      <td>86.5</td>\n",
       "      <td>89.0</td>\n",
       "      <td>0</td>\n",
       "      <td>183.8</td>\n",
       "      <td>173.40</td>\n",
       "    </tr>\n",
       "    <tr>\n",
       "      <th>4</th>\n",
       "      <td>3550</td>\n",
       "      <td>7850</td>\n",
       "      <td>200</td>\n",
       "      <td>500</td>\n",
       "      <td>120</td>\n",
       "      <td>4.5</td>\n",
       "      <td>6.0</td>\n",
       "      <td>0</td>\n",
       "      <td>3.2</td>\n",
       "      <td>0</td>\n",
       "      <td>88.30</td>\n",
       "      <td>73.1</td>\n",
       "      <td>89.5</td>\n",
       "      <td>0</td>\n",
       "      <td>177.1</td>\n",
       "      <td>166.67</td>\n",
       "    </tr>\n",
       "  </tbody>\n",
       "</table>\n",
       "</div>"
      ],
      "text/plain": [
       "   Speed  MatDensity  MatYoung   D2   DB   tm   ts  ti   tv  Rib     Sm  \\\n",
       "0   3550        7850       200  500  120  4.5  3.2   0  3.2    0  83.10   \n",
       "1   3550        7850       200  500  120  6.0  3.2   0  3.2    0  48.20   \n",
       "2   3550        7850       200  500  120  9.0  3.2   0  3.2    0  44.14   \n",
       "3   3550        7850       200  500  120  4.5  4.5   0  3.2    0  85.82   \n",
       "4   3550        7850       200  500  120  4.5  6.0   0  3.2    0  88.30   \n",
       "\n",
       "      Ss    Sv  Si  Frequency  Frequency0  \n",
       "0  103.3  82.2   0      188.7      178.40  \n",
       "1  105.3  88.0   0      198.3      188.50  \n",
       "2  108.7  91.8   0      215.7      206.70  \n",
       "3   86.5  89.0   0      183.8      173.40  \n",
       "4   73.1  89.5   0      177.1      166.67  "
      ]
     },
     "execution_count": 7,
     "metadata": {},
     "output_type": "execute_result"
    }
   ],
   "source": [
    "df.head()"
   ]
  },
  {
   "cell_type": "markdown",
   "metadata": {},
   "source": [
    "<h2 style=\"color:cyan\">Check correlation between columns</h2>"
   ]
  },
  {
   "cell_type": "code",
   "execution_count": 8,
   "metadata": {},
   "outputs": [
    {
     "data": {
      "text/html": [
       "<div>\n",
       "<style scoped>\n",
       "    .dataframe tbody tr th:only-of-type {\n",
       "        vertical-align: middle;\n",
       "    }\n",
       "\n",
       "    .dataframe tbody tr th {\n",
       "        vertical-align: top;\n",
       "    }\n",
       "\n",
       "    .dataframe thead th {\n",
       "        text-align: right;\n",
       "    }\n",
       "</style>\n",
       "<table border=\"1\" class=\"dataframe\">\n",
       "  <thead>\n",
       "    <tr style=\"text-align: right;\">\n",
       "      <th></th>\n",
       "      <th>Speed</th>\n",
       "      <th>MatDensity</th>\n",
       "      <th>MatYoung</th>\n",
       "      <th>D2</th>\n",
       "      <th>DB</th>\n",
       "      <th>tm</th>\n",
       "      <th>ts</th>\n",
       "      <th>ti</th>\n",
       "      <th>tv</th>\n",
       "      <th>Rib</th>\n",
       "      <th>Sm</th>\n",
       "      <th>Ss</th>\n",
       "      <th>Sv</th>\n",
       "      <th>Si</th>\n",
       "      <th>Frequency</th>\n",
       "      <th>Frequency0</th>\n",
       "    </tr>\n",
       "  </thead>\n",
       "  <tbody>\n",
       "    <tr>\n",
       "      <th>Speed</th>\n",
       "      <td>NaN</td>\n",
       "      <td>NaN</td>\n",
       "      <td>NaN</td>\n",
       "      <td>NaN</td>\n",
       "      <td>NaN</td>\n",
       "      <td>NaN</td>\n",
       "      <td>NaN</td>\n",
       "      <td>NaN</td>\n",
       "      <td>NaN</td>\n",
       "      <td>NaN</td>\n",
       "      <td>NaN</td>\n",
       "      <td>NaN</td>\n",
       "      <td>NaN</td>\n",
       "      <td>NaN</td>\n",
       "      <td>NaN</td>\n",
       "      <td>NaN</td>\n",
       "    </tr>\n",
       "    <tr>\n",
       "      <th>MatDensity</th>\n",
       "      <td>NaN</td>\n",
       "      <td>NaN</td>\n",
       "      <td>NaN</td>\n",
       "      <td>NaN</td>\n",
       "      <td>NaN</td>\n",
       "      <td>NaN</td>\n",
       "      <td>NaN</td>\n",
       "      <td>NaN</td>\n",
       "      <td>NaN</td>\n",
       "      <td>NaN</td>\n",
       "      <td>NaN</td>\n",
       "      <td>NaN</td>\n",
       "      <td>NaN</td>\n",
       "      <td>NaN</td>\n",
       "      <td>NaN</td>\n",
       "      <td>NaN</td>\n",
       "    </tr>\n",
       "    <tr>\n",
       "      <th>MatYoung</th>\n",
       "      <td>NaN</td>\n",
       "      <td>NaN</td>\n",
       "      <td>NaN</td>\n",
       "      <td>NaN</td>\n",
       "      <td>NaN</td>\n",
       "      <td>NaN</td>\n",
       "      <td>NaN</td>\n",
       "      <td>NaN</td>\n",
       "      <td>NaN</td>\n",
       "      <td>NaN</td>\n",
       "      <td>NaN</td>\n",
       "      <td>NaN</td>\n",
       "      <td>NaN</td>\n",
       "      <td>NaN</td>\n",
       "      <td>NaN</td>\n",
       "      <td>NaN</td>\n",
       "    </tr>\n",
       "    <tr>\n",
       "      <th>D2</th>\n",
       "      <td>NaN</td>\n",
       "      <td>NaN</td>\n",
       "      <td>NaN</td>\n",
       "      <td>1.000000</td>\n",
       "      <td>0.975150</td>\n",
       "      <td>0.695107</td>\n",
       "      <td>0.693609</td>\n",
       "      <td>NaN</td>\n",
       "      <td>0.574806</td>\n",
       "      <td>NaN</td>\n",
       "      <td>0.907802</td>\n",
       "      <td>0.899558</td>\n",
       "      <td>0.866908</td>\n",
       "      <td>NaN</td>\n",
       "      <td>-0.783476</td>\n",
       "      <td>-0.802783</td>\n",
       "    </tr>\n",
       "    <tr>\n",
       "      <th>DB</th>\n",
       "      <td>NaN</td>\n",
       "      <td>NaN</td>\n",
       "      <td>NaN</td>\n",
       "      <td>0.975150</td>\n",
       "      <td>1.000000</td>\n",
       "      <td>0.712745</td>\n",
       "      <td>0.725243</td>\n",
       "      <td>NaN</td>\n",
       "      <td>0.615650</td>\n",
       "      <td>NaN</td>\n",
       "      <td>0.905747</td>\n",
       "      <td>0.894695</td>\n",
       "      <td>0.854834</td>\n",
       "      <td>NaN</td>\n",
       "      <td>-0.688353</td>\n",
       "      <td>-0.715175</td>\n",
       "    </tr>\n",
       "    <tr>\n",
       "      <th>tm</th>\n",
       "      <td>NaN</td>\n",
       "      <td>NaN</td>\n",
       "      <td>NaN</td>\n",
       "      <td>0.695107</td>\n",
       "      <td>0.712745</td>\n",
       "      <td>1.000000</td>\n",
       "      <td>0.530329</td>\n",
       "      <td>NaN</td>\n",
       "      <td>0.429924</td>\n",
       "      <td>NaN</td>\n",
       "      <td>0.606262</td>\n",
       "      <td>0.638365</td>\n",
       "      <td>0.594162</td>\n",
       "      <td>NaN</td>\n",
       "      <td>-0.388280</td>\n",
       "      <td>-0.404290</td>\n",
       "    </tr>\n",
       "    <tr>\n",
       "      <th>ts</th>\n",
       "      <td>NaN</td>\n",
       "      <td>NaN</td>\n",
       "      <td>NaN</td>\n",
       "      <td>0.693609</td>\n",
       "      <td>0.725243</td>\n",
       "      <td>0.530329</td>\n",
       "      <td>1.000000</td>\n",
       "      <td>NaN</td>\n",
       "      <td>0.528627</td>\n",
       "      <td>NaN</td>\n",
       "      <td>0.714466</td>\n",
       "      <td>0.545155</td>\n",
       "      <td>0.740003</td>\n",
       "      <td>NaN</td>\n",
       "      <td>-0.471948</td>\n",
       "      <td>-0.477136</td>\n",
       "    </tr>\n",
       "    <tr>\n",
       "      <th>ti</th>\n",
       "      <td>NaN</td>\n",
       "      <td>NaN</td>\n",
       "      <td>NaN</td>\n",
       "      <td>NaN</td>\n",
       "      <td>NaN</td>\n",
       "      <td>NaN</td>\n",
       "      <td>NaN</td>\n",
       "      <td>NaN</td>\n",
       "      <td>NaN</td>\n",
       "      <td>NaN</td>\n",
       "      <td>NaN</td>\n",
       "      <td>NaN</td>\n",
       "      <td>NaN</td>\n",
       "      <td>NaN</td>\n",
       "      <td>NaN</td>\n",
       "      <td>NaN</td>\n",
       "    </tr>\n",
       "    <tr>\n",
       "      <th>tv</th>\n",
       "      <td>NaN</td>\n",
       "      <td>NaN</td>\n",
       "      <td>NaN</td>\n",
       "      <td>0.574806</td>\n",
       "      <td>0.615650</td>\n",
       "      <td>0.429924</td>\n",
       "      <td>0.528627</td>\n",
       "      <td>NaN</td>\n",
       "      <td>1.000000</td>\n",
       "      <td>NaN</td>\n",
       "      <td>0.760659</td>\n",
       "      <td>0.810028</td>\n",
       "      <td>0.271106</td>\n",
       "      <td>NaN</td>\n",
       "      <td>-0.281644</td>\n",
       "      <td>-0.297912</td>\n",
       "    </tr>\n",
       "    <tr>\n",
       "      <th>Rib</th>\n",
       "      <td>NaN</td>\n",
       "      <td>NaN</td>\n",
       "      <td>NaN</td>\n",
       "      <td>NaN</td>\n",
       "      <td>NaN</td>\n",
       "      <td>NaN</td>\n",
       "      <td>NaN</td>\n",
       "      <td>NaN</td>\n",
       "      <td>NaN</td>\n",
       "      <td>NaN</td>\n",
       "      <td>NaN</td>\n",
       "      <td>NaN</td>\n",
       "      <td>NaN</td>\n",
       "      <td>NaN</td>\n",
       "      <td>NaN</td>\n",
       "      <td>NaN</td>\n",
       "    </tr>\n",
       "    <tr>\n",
       "      <th>Sm</th>\n",
       "      <td>NaN</td>\n",
       "      <td>NaN</td>\n",
       "      <td>NaN</td>\n",
       "      <td>0.907802</td>\n",
       "      <td>0.905747</td>\n",
       "      <td>0.606262</td>\n",
       "      <td>0.714466</td>\n",
       "      <td>NaN</td>\n",
       "      <td>0.760659</td>\n",
       "      <td>NaN</td>\n",
       "      <td>1.000000</td>\n",
       "      <td>0.927263</td>\n",
       "      <td>0.696158</td>\n",
       "      <td>NaN</td>\n",
       "      <td>-0.659879</td>\n",
       "      <td>-0.679067</td>\n",
       "    </tr>\n",
       "    <tr>\n",
       "      <th>Ss</th>\n",
       "      <td>NaN</td>\n",
       "      <td>NaN</td>\n",
       "      <td>NaN</td>\n",
       "      <td>0.899558</td>\n",
       "      <td>0.894695</td>\n",
       "      <td>0.638365</td>\n",
       "      <td>0.545155</td>\n",
       "      <td>NaN</td>\n",
       "      <td>0.810028</td>\n",
       "      <td>NaN</td>\n",
       "      <td>0.927263</td>\n",
       "      <td>1.000000</td>\n",
       "      <td>0.625094</td>\n",
       "      <td>NaN</td>\n",
       "      <td>-0.630523</td>\n",
       "      <td>-0.654116</td>\n",
       "    </tr>\n",
       "    <tr>\n",
       "      <th>Sv</th>\n",
       "      <td>NaN</td>\n",
       "      <td>NaN</td>\n",
       "      <td>NaN</td>\n",
       "      <td>0.866908</td>\n",
       "      <td>0.854834</td>\n",
       "      <td>0.594162</td>\n",
       "      <td>0.740003</td>\n",
       "      <td>NaN</td>\n",
       "      <td>0.271106</td>\n",
       "      <td>NaN</td>\n",
       "      <td>0.696158</td>\n",
       "      <td>0.625094</td>\n",
       "      <td>1.000000</td>\n",
       "      <td>NaN</td>\n",
       "      <td>-0.681011</td>\n",
       "      <td>-0.694929</td>\n",
       "    </tr>\n",
       "    <tr>\n",
       "      <th>Si</th>\n",
       "      <td>NaN</td>\n",
       "      <td>NaN</td>\n",
       "      <td>NaN</td>\n",
       "      <td>NaN</td>\n",
       "      <td>NaN</td>\n",
       "      <td>NaN</td>\n",
       "      <td>NaN</td>\n",
       "      <td>NaN</td>\n",
       "      <td>NaN</td>\n",
       "      <td>NaN</td>\n",
       "      <td>NaN</td>\n",
       "      <td>NaN</td>\n",
       "      <td>NaN</td>\n",
       "      <td>NaN</td>\n",
       "      <td>NaN</td>\n",
       "      <td>NaN</td>\n",
       "    </tr>\n",
       "    <tr>\n",
       "      <th>Frequency</th>\n",
       "      <td>NaN</td>\n",
       "      <td>NaN</td>\n",
       "      <td>NaN</td>\n",
       "      <td>-0.783476</td>\n",
       "      <td>-0.688353</td>\n",
       "      <td>-0.388280</td>\n",
       "      <td>-0.471948</td>\n",
       "      <td>NaN</td>\n",
       "      <td>-0.281644</td>\n",
       "      <td>NaN</td>\n",
       "      <td>-0.659879</td>\n",
       "      <td>-0.630523</td>\n",
       "      <td>-0.681011</td>\n",
       "      <td>NaN</td>\n",
       "      <td>1.000000</td>\n",
       "      <td>0.995949</td>\n",
       "    </tr>\n",
       "    <tr>\n",
       "      <th>Frequency0</th>\n",
       "      <td>NaN</td>\n",
       "      <td>NaN</td>\n",
       "      <td>NaN</td>\n",
       "      <td>-0.802783</td>\n",
       "      <td>-0.715175</td>\n",
       "      <td>-0.404290</td>\n",
       "      <td>-0.477136</td>\n",
       "      <td>NaN</td>\n",
       "      <td>-0.297912</td>\n",
       "      <td>NaN</td>\n",
       "      <td>-0.679067</td>\n",
       "      <td>-0.654116</td>\n",
       "      <td>-0.694929</td>\n",
       "      <td>NaN</td>\n",
       "      <td>0.995949</td>\n",
       "      <td>1.000000</td>\n",
       "    </tr>\n",
       "  </tbody>\n",
       "</table>\n",
       "</div>"
      ],
      "text/plain": [
       "            Speed  MatDensity  MatYoung        D2        DB        tm  \\\n",
       "Speed         NaN         NaN       NaN       NaN       NaN       NaN   \n",
       "MatDensity    NaN         NaN       NaN       NaN       NaN       NaN   \n",
       "MatYoung      NaN         NaN       NaN       NaN       NaN       NaN   \n",
       "D2            NaN         NaN       NaN  1.000000  0.975150  0.695107   \n",
       "DB            NaN         NaN       NaN  0.975150  1.000000  0.712745   \n",
       "tm            NaN         NaN       NaN  0.695107  0.712745  1.000000   \n",
       "ts            NaN         NaN       NaN  0.693609  0.725243  0.530329   \n",
       "ti            NaN         NaN       NaN       NaN       NaN       NaN   \n",
       "tv            NaN         NaN       NaN  0.574806  0.615650  0.429924   \n",
       "Rib           NaN         NaN       NaN       NaN       NaN       NaN   \n",
       "Sm            NaN         NaN       NaN  0.907802  0.905747  0.606262   \n",
       "Ss            NaN         NaN       NaN  0.899558  0.894695  0.638365   \n",
       "Sv            NaN         NaN       NaN  0.866908  0.854834  0.594162   \n",
       "Si            NaN         NaN       NaN       NaN       NaN       NaN   \n",
       "Frequency     NaN         NaN       NaN -0.783476 -0.688353 -0.388280   \n",
       "Frequency0    NaN         NaN       NaN -0.802783 -0.715175 -0.404290   \n",
       "\n",
       "                  ts  ti        tv  Rib        Sm        Ss        Sv  Si  \\\n",
       "Speed            NaN NaN       NaN  NaN       NaN       NaN       NaN NaN   \n",
       "MatDensity       NaN NaN       NaN  NaN       NaN       NaN       NaN NaN   \n",
       "MatYoung         NaN NaN       NaN  NaN       NaN       NaN       NaN NaN   \n",
       "D2          0.693609 NaN  0.574806  NaN  0.907802  0.899558  0.866908 NaN   \n",
       "DB          0.725243 NaN  0.615650  NaN  0.905747  0.894695  0.854834 NaN   \n",
       "tm          0.530329 NaN  0.429924  NaN  0.606262  0.638365  0.594162 NaN   \n",
       "ts          1.000000 NaN  0.528627  NaN  0.714466  0.545155  0.740003 NaN   \n",
       "ti               NaN NaN       NaN  NaN       NaN       NaN       NaN NaN   \n",
       "tv          0.528627 NaN  1.000000  NaN  0.760659  0.810028  0.271106 NaN   \n",
       "Rib              NaN NaN       NaN  NaN       NaN       NaN       NaN NaN   \n",
       "Sm          0.714466 NaN  0.760659  NaN  1.000000  0.927263  0.696158 NaN   \n",
       "Ss          0.545155 NaN  0.810028  NaN  0.927263  1.000000  0.625094 NaN   \n",
       "Sv          0.740003 NaN  0.271106  NaN  0.696158  0.625094  1.000000 NaN   \n",
       "Si               NaN NaN       NaN  NaN       NaN       NaN       NaN NaN   \n",
       "Frequency  -0.471948 NaN -0.281644  NaN -0.659879 -0.630523 -0.681011 NaN   \n",
       "Frequency0 -0.477136 NaN -0.297912  NaN -0.679067 -0.654116 -0.694929 NaN   \n",
       "\n",
       "            Frequency  Frequency0  \n",
       "Speed             NaN         NaN  \n",
       "MatDensity        NaN         NaN  \n",
       "MatYoung          NaN         NaN  \n",
       "D2          -0.783476   -0.802783  \n",
       "DB          -0.688353   -0.715175  \n",
       "tm          -0.388280   -0.404290  \n",
       "ts          -0.471948   -0.477136  \n",
       "ti                NaN         NaN  \n",
       "tv          -0.281644   -0.297912  \n",
       "Rib               NaN         NaN  \n",
       "Sm          -0.659879   -0.679067  \n",
       "Ss          -0.630523   -0.654116  \n",
       "Sv          -0.681011   -0.694929  \n",
       "Si                NaN         NaN  \n",
       "Frequency    1.000000    0.995949  \n",
       "Frequency0   0.995949    1.000000  "
      ]
     },
     "execution_count": 8,
     "metadata": {},
     "output_type": "execute_result"
    }
   ],
   "source": [
    "df.corr()"
   ]
  },
  {
   "cell_type": "code",
   "execution_count": 33,
   "metadata": {},
   "outputs": [
    {
     "name": "stdout",
     "output_type": "stream",
     "text": [
      "(210, 12)\n",
      "(45, 12)\n"
     ]
    }
   ],
   "source": [
    "# Remove speed for impeller stress prediction data - speed effect will be estimated separately\n",
    "df_clean = df.loc[df['Speed'] == 3550].loc[df['MatDensity'] == 7850].loc[df['MatYoung'] == 200]\n",
    "df_clean_test = df_test.loc[df_test['Speed'] == 3550].loc[df_test['MatDensity'] == 7850].loc[df_test['MatYoung'] == 200]\n",
    "#df_clean_eva = df_eva.loc[df_eva['Speed'] == 1785].loc[df_eva['MatDensity'] == 7850].loc[df_eva['MatYoung'] == 205].loc[df_eva['hasMouthRing'] == 0].loc[df_eva['isStraightSide'] == 0].loc[df_eva['hasRimout'] == 0].loc[df_eva['hasRimIn'] == 0].loc[df_eva['hasVaneRimOut'] == 0]\n",
    "\n",
    "df_clean.drop(['Speed', 'MatDensity', 'MatYoung', 'Rib'], axis=1, inplace=True)\n",
    "df_clean_test.drop(['Speed', 'MatDensity', 'MatYoung', 'Rib'], axis=1, inplace=True)\n",
    "#df_clean_eva.drop(['Speed', 'MatDensity', 'MatYoung', 'ti', 'hasMouthRing', 'isStraightSide', 'hasRimout', 'hasRimIn', 'hasVaneRimIn', 'hasVaneRimOut'], axis=1, inplace=True)\n",
    "\n",
    "# Scale D2 and DB\n",
    "df_clean['D2'] = df_clean['D2'] / 1000\n",
    "df_clean['DB'] = df_clean['DB'] / 1000\n",
    "df_clean_test['D2'] = df_clean_test['D2'] / 1000\n",
    "df_clean_test['DB'] = df_clean_test['DB'] / 1000\n",
    "#df_clean_eva['D2'] = df_clean_eva['D2'] / 1000\n",
    "#df_clean_eva['DB'] = df_clean_eva['DB'] / 1000\n",
    "\n",
    "# stress dataframe\n",
    "df_stress = df_clean.loc[df_clean['Sm'] != 0].loc[df_clean['Ss'] != 0].loc[df_clean['Sv'] != 0]\n",
    "df_stress_test = df_clean_test.loc[df_clean_test['Sm'] != 0].loc[df_clean_test['Ss'] != 0].loc[df_clean_test['Sv'] != 0]\n",
    "#df_stress_eva = df_clean_eva.loc[df_clean_eva['Sm'] != 0].loc[df_clean_eva['Ss'] != 0].loc[df_clean_eva['Sv'] != 0]\n",
    "\n",
    "# frequency dataframe\n",
    "df_frequency = df_clean.loc[df_clean['Frequency'] != 0].loc[df_clean['Frequency0'] != 0]\n",
    "df_frequency_test = df_clean_test.loc[df_clean_test['Frequency'] != 0].loc[df_clean_test['Frequency0'] != 0]\n",
    "#df_frequency_eva = df_clean_eva.loc[df_clean_eva['Rib'] == 2].loc[df_clean_eva['Frequency'] != 0].loc[df_clean_eva['Frequency0'] != 0]\n",
    "\n",
    "print(df_stress.shape)\n",
    "print(df_stress_test.shape)\n",
    "#print(df_stress_eva.shape)\n"
   ]
  },
  {
   "cell_type": "code",
   "execution_count": 34,
   "metadata": {},
   "outputs": [
    {
     "data": {
      "text/html": [
       "<div>\n",
       "<style scoped>\n",
       "    .dataframe tbody tr th:only-of-type {\n",
       "        vertical-align: middle;\n",
       "    }\n",
       "\n",
       "    .dataframe tbody tr th {\n",
       "        vertical-align: top;\n",
       "    }\n",
       "\n",
       "    .dataframe thead th {\n",
       "        text-align: right;\n",
       "    }\n",
       "</style>\n",
       "<table border=\"1\" class=\"dataframe\">\n",
       "  <thead>\n",
       "    <tr style=\"text-align: right;\">\n",
       "      <th></th>\n",
       "      <th>D2</th>\n",
       "      <th>DB</th>\n",
       "      <th>tm</th>\n",
       "      <th>ts</th>\n",
       "      <th>ti</th>\n",
       "      <th>tv</th>\n",
       "      <th>Sm</th>\n",
       "      <th>Ss</th>\n",
       "      <th>Sv</th>\n",
       "      <th>Si</th>\n",
       "      <th>Frequency</th>\n",
       "      <th>Frequency0</th>\n",
       "    </tr>\n",
       "  </thead>\n",
       "  <tbody>\n",
       "    <tr>\n",
       "      <th>0</th>\n",
       "      <td>0.5</td>\n",
       "      <td>0.12</td>\n",
       "      <td>4.5</td>\n",
       "      <td>3.2</td>\n",
       "      <td>0</td>\n",
       "      <td>3.2</td>\n",
       "      <td>83.10</td>\n",
       "      <td>103.3</td>\n",
       "      <td>82.2</td>\n",
       "      <td>0</td>\n",
       "      <td>188.7</td>\n",
       "      <td>178.40</td>\n",
       "    </tr>\n",
       "    <tr>\n",
       "      <th>1</th>\n",
       "      <td>0.5</td>\n",
       "      <td>0.12</td>\n",
       "      <td>6.0</td>\n",
       "      <td>3.2</td>\n",
       "      <td>0</td>\n",
       "      <td>3.2</td>\n",
       "      <td>48.20</td>\n",
       "      <td>105.3</td>\n",
       "      <td>88.0</td>\n",
       "      <td>0</td>\n",
       "      <td>198.3</td>\n",
       "      <td>188.50</td>\n",
       "    </tr>\n",
       "    <tr>\n",
       "      <th>2</th>\n",
       "      <td>0.5</td>\n",
       "      <td>0.12</td>\n",
       "      <td>9.0</td>\n",
       "      <td>3.2</td>\n",
       "      <td>0</td>\n",
       "      <td>3.2</td>\n",
       "      <td>44.14</td>\n",
       "      <td>108.7</td>\n",
       "      <td>91.8</td>\n",
       "      <td>0</td>\n",
       "      <td>215.7</td>\n",
       "      <td>206.70</td>\n",
       "    </tr>\n",
       "    <tr>\n",
       "      <th>3</th>\n",
       "      <td>0.5</td>\n",
       "      <td>0.12</td>\n",
       "      <td>4.5</td>\n",
       "      <td>4.5</td>\n",
       "      <td>0</td>\n",
       "      <td>3.2</td>\n",
       "      <td>85.82</td>\n",
       "      <td>86.5</td>\n",
       "      <td>89.0</td>\n",
       "      <td>0</td>\n",
       "      <td>183.8</td>\n",
       "      <td>173.40</td>\n",
       "    </tr>\n",
       "    <tr>\n",
       "      <th>4</th>\n",
       "      <td>0.5</td>\n",
       "      <td>0.12</td>\n",
       "      <td>4.5</td>\n",
       "      <td>6.0</td>\n",
       "      <td>0</td>\n",
       "      <td>3.2</td>\n",
       "      <td>88.30</td>\n",
       "      <td>73.1</td>\n",
       "      <td>89.5</td>\n",
       "      <td>0</td>\n",
       "      <td>177.1</td>\n",
       "      <td>166.67</td>\n",
       "    </tr>\n",
       "  </tbody>\n",
       "</table>\n",
       "</div>"
      ],
      "text/plain": [
       "    D2    DB   tm   ts  ti   tv     Sm     Ss    Sv  Si  Frequency  Frequency0\n",
       "0  0.5  0.12  4.5  3.2   0  3.2  83.10  103.3  82.2   0      188.7      178.40\n",
       "1  0.5  0.12  6.0  3.2   0  3.2  48.20  105.3  88.0   0      198.3      188.50\n",
       "2  0.5  0.12  9.0  3.2   0  3.2  44.14  108.7  91.8   0      215.7      206.70\n",
       "3  0.5  0.12  4.5  4.5   0  3.2  85.82   86.5  89.0   0      183.8      173.40\n",
       "4  0.5  0.12  4.5  6.0   0  3.2  88.30   73.1  89.5   0      177.1      166.67"
      ]
     },
     "execution_count": 34,
     "metadata": {},
     "output_type": "execute_result"
    }
   ],
   "source": [
    "df_stress.head()"
   ]
  },
  {
   "cell_type": "code",
   "execution_count": 35,
   "metadata": {},
   "outputs": [
    {
     "data": {
      "text/html": [
       "<div>\n",
       "<style scoped>\n",
       "    .dataframe tbody tr th:only-of-type {\n",
       "        vertical-align: middle;\n",
       "    }\n",
       "\n",
       "    .dataframe tbody tr th {\n",
       "        vertical-align: top;\n",
       "    }\n",
       "\n",
       "    .dataframe thead th {\n",
       "        text-align: right;\n",
       "    }\n",
       "</style>\n",
       "<table border=\"1\" class=\"dataframe\">\n",
       "  <thead>\n",
       "    <tr style=\"text-align: right;\">\n",
       "      <th></th>\n",
       "      <th>D2</th>\n",
       "      <th>DB</th>\n",
       "      <th>tm</th>\n",
       "      <th>ts</th>\n",
       "      <th>ti</th>\n",
       "      <th>tv</th>\n",
       "      <th>Sm</th>\n",
       "      <th>Ss</th>\n",
       "      <th>Sv</th>\n",
       "      <th>Si</th>\n",
       "      <th>Frequency</th>\n",
       "      <th>Frequency0</th>\n",
       "    </tr>\n",
       "  </thead>\n",
       "  <tbody>\n",
       "    <tr>\n",
       "      <th>0</th>\n",
       "      <td>0.5</td>\n",
       "      <td>0.12</td>\n",
       "      <td>4.5</td>\n",
       "      <td>3.2</td>\n",
       "      <td>0</td>\n",
       "      <td>3.2</td>\n",
       "      <td>83.10</td>\n",
       "      <td>103.3</td>\n",
       "      <td>82.2</td>\n",
       "      <td>0</td>\n",
       "      <td>188.7</td>\n",
       "      <td>178.40</td>\n",
       "    </tr>\n",
       "    <tr>\n",
       "      <th>1</th>\n",
       "      <td>0.5</td>\n",
       "      <td>0.12</td>\n",
       "      <td>6.0</td>\n",
       "      <td>3.2</td>\n",
       "      <td>0</td>\n",
       "      <td>3.2</td>\n",
       "      <td>48.20</td>\n",
       "      <td>105.3</td>\n",
       "      <td>88.0</td>\n",
       "      <td>0</td>\n",
       "      <td>198.3</td>\n",
       "      <td>188.50</td>\n",
       "    </tr>\n",
       "    <tr>\n",
       "      <th>2</th>\n",
       "      <td>0.5</td>\n",
       "      <td>0.12</td>\n",
       "      <td>9.0</td>\n",
       "      <td>3.2</td>\n",
       "      <td>0</td>\n",
       "      <td>3.2</td>\n",
       "      <td>44.14</td>\n",
       "      <td>108.7</td>\n",
       "      <td>91.8</td>\n",
       "      <td>0</td>\n",
       "      <td>215.7</td>\n",
       "      <td>206.70</td>\n",
       "    </tr>\n",
       "    <tr>\n",
       "      <th>3</th>\n",
       "      <td>0.5</td>\n",
       "      <td>0.12</td>\n",
       "      <td>4.5</td>\n",
       "      <td>4.5</td>\n",
       "      <td>0</td>\n",
       "      <td>3.2</td>\n",
       "      <td>85.82</td>\n",
       "      <td>86.5</td>\n",
       "      <td>89.0</td>\n",
       "      <td>0</td>\n",
       "      <td>183.8</td>\n",
       "      <td>173.40</td>\n",
       "    </tr>\n",
       "    <tr>\n",
       "      <th>4</th>\n",
       "      <td>0.5</td>\n",
       "      <td>0.12</td>\n",
       "      <td>4.5</td>\n",
       "      <td>6.0</td>\n",
       "      <td>0</td>\n",
       "      <td>3.2</td>\n",
       "      <td>88.30</td>\n",
       "      <td>73.1</td>\n",
       "      <td>89.5</td>\n",
       "      <td>0</td>\n",
       "      <td>177.1</td>\n",
       "      <td>166.67</td>\n",
       "    </tr>\n",
       "  </tbody>\n",
       "</table>\n",
       "</div>"
      ],
      "text/plain": [
       "    D2    DB   tm   ts  ti   tv     Sm     Ss    Sv  Si  Frequency  Frequency0\n",
       "0  0.5  0.12  4.5  3.2   0  3.2  83.10  103.3  82.2   0      188.7      178.40\n",
       "1  0.5  0.12  6.0  3.2   0  3.2  48.20  105.3  88.0   0      198.3      188.50\n",
       "2  0.5  0.12  9.0  3.2   0  3.2  44.14  108.7  91.8   0      215.7      206.70\n",
       "3  0.5  0.12  4.5  4.5   0  3.2  85.82   86.5  89.0   0      183.8      173.40\n",
       "4  0.5  0.12  4.5  6.0   0  3.2  88.30   73.1  89.5   0      177.1      166.67"
      ]
     },
     "execution_count": 35,
     "metadata": {},
     "output_type": "execute_result"
    }
   ],
   "source": [
    "df_frequency.head()"
   ]
  },
  {
   "cell_type": "code",
   "execution_count": 36,
   "metadata": {},
   "outputs": [
    {
     "data": {
      "text/html": [
       "<div>\n",
       "<style scoped>\n",
       "    .dataframe tbody tr th:only-of-type {\n",
       "        vertical-align: middle;\n",
       "    }\n",
       "\n",
       "    .dataframe tbody tr th {\n",
       "        vertical-align: top;\n",
       "    }\n",
       "\n",
       "    .dataframe thead th {\n",
       "        text-align: right;\n",
       "    }\n",
       "</style>\n",
       "<table border=\"1\" class=\"dataframe\">\n",
       "  <thead>\n",
       "    <tr style=\"text-align: right;\">\n",
       "      <th></th>\n",
       "      <th>D2</th>\n",
       "      <th>DB</th>\n",
       "      <th>tm</th>\n",
       "      <th>ts</th>\n",
       "      <th>ti</th>\n",
       "      <th>tv</th>\n",
       "      <th>Sm</th>\n",
       "      <th>Ss</th>\n",
       "      <th>Sv</th>\n",
       "      <th>Si</th>\n",
       "      <th>Frequency</th>\n",
       "      <th>Frequency0</th>\n",
       "    </tr>\n",
       "  </thead>\n",
       "  <tbody>\n",
       "    <tr>\n",
       "      <th>0</th>\n",
       "      <td>0.525</td>\n",
       "      <td>0.12</td>\n",
       "      <td>4.5</td>\n",
       "      <td>3.2</td>\n",
       "      <td>0</td>\n",
       "      <td>3.2</td>\n",
       "      <td>100.90</td>\n",
       "      <td>111.10</td>\n",
       "      <td>98.80</td>\n",
       "      <td>0</td>\n",
       "      <td>165.10</td>\n",
       "      <td>153.19</td>\n",
       "    </tr>\n",
       "    <tr>\n",
       "      <th>1</th>\n",
       "      <td>0.525</td>\n",
       "      <td>0.12</td>\n",
       "      <td>6.0</td>\n",
       "      <td>3.2</td>\n",
       "      <td>0</td>\n",
       "      <td>3.2</td>\n",
       "      <td>52.90</td>\n",
       "      <td>114.50</td>\n",
       "      <td>99.50</td>\n",
       "      <td>0</td>\n",
       "      <td>174.93</td>\n",
       "      <td>163.73</td>\n",
       "    </tr>\n",
       "    <tr>\n",
       "      <th>2</th>\n",
       "      <td>0.525</td>\n",
       "      <td>0.12</td>\n",
       "      <td>6.0</td>\n",
       "      <td>4.5</td>\n",
       "      <td>0</td>\n",
       "      <td>3.2</td>\n",
       "      <td>53.59</td>\n",
       "      <td>94.25</td>\n",
       "      <td>101.00</td>\n",
       "      <td>0</td>\n",
       "      <td>171.01</td>\n",
       "      <td>159.96</td>\n",
       "    </tr>\n",
       "    <tr>\n",
       "      <th>3</th>\n",
       "      <td>0.625</td>\n",
       "      <td>0.16</td>\n",
       "      <td>4.5</td>\n",
       "      <td>3.2</td>\n",
       "      <td>0</td>\n",
       "      <td>3.2</td>\n",
       "      <td>83.13</td>\n",
       "      <td>140.85</td>\n",
       "      <td>91.91</td>\n",
       "      <td>0</td>\n",
       "      <td>152.90</td>\n",
       "      <td>139.19</td>\n",
       "    </tr>\n",
       "    <tr>\n",
       "      <th>4</th>\n",
       "      <td>0.625</td>\n",
       "      <td>0.16</td>\n",
       "      <td>6.0</td>\n",
       "      <td>3.2</td>\n",
       "      <td>0</td>\n",
       "      <td>3.2</td>\n",
       "      <td>81.30</td>\n",
       "      <td>147.10</td>\n",
       "      <td>97.50</td>\n",
       "      <td>0</td>\n",
       "      <td>160.37</td>\n",
       "      <td>147.48</td>\n",
       "    </tr>\n",
       "  </tbody>\n",
       "</table>\n",
       "</div>"
      ],
      "text/plain": [
       "      D2    DB   tm   ts  ti   tv      Sm      Ss      Sv  Si  Frequency  \\\n",
       "0  0.525  0.12  4.5  3.2   0  3.2  100.90  111.10   98.80   0     165.10   \n",
       "1  0.525  0.12  6.0  3.2   0  3.2   52.90  114.50   99.50   0     174.93   \n",
       "2  0.525  0.12  6.0  4.5   0  3.2   53.59   94.25  101.00   0     171.01   \n",
       "3  0.625  0.16  4.5  3.2   0  3.2   83.13  140.85   91.91   0     152.90   \n",
       "4  0.625  0.16  6.0  3.2   0  3.2   81.30  147.10   97.50   0     160.37   \n",
       "\n",
       "   Frequency0  \n",
       "0      153.19  \n",
       "1      163.73  \n",
       "2      159.96  \n",
       "3      139.19  \n",
       "4      147.48  "
      ]
     },
     "execution_count": 36,
     "metadata": {},
     "output_type": "execute_result"
    }
   ],
   "source": [
    "df_stress_test.head()"
   ]
  },
  {
   "cell_type": "markdown",
   "metadata": {},
   "source": [
    "<h2 style=\"color:cyan\">Data exploratory analysis</h2>"
   ]
  },
  {
   "cell_type": "code",
   "execution_count": 50,
   "metadata": {},
   "outputs": [
    {
     "data": {
      "text/html": [
       "<div>\n",
       "<style scoped>\n",
       "    .dataframe tbody tr th:only-of-type {\n",
       "        vertical-align: middle;\n",
       "    }\n",
       "\n",
       "    .dataframe tbody tr th {\n",
       "        vertical-align: top;\n",
       "    }\n",
       "\n",
       "    .dataframe thead th {\n",
       "        text-align: right;\n",
       "    }\n",
       "</style>\n",
       "<table border=\"1\" class=\"dataframe\">\n",
       "  <thead>\n",
       "    <tr style=\"text-align: right;\">\n",
       "      <th></th>\n",
       "      <th>D2</th>\n",
       "      <th>tm</th>\n",
       "      <th>ts</th>\n",
       "      <th>tv</th>\n",
       "      <th>ti</th>\n",
       "    </tr>\n",
       "  </thead>\n",
       "  <tbody>\n",
       "    <tr>\n",
       "      <th>0</th>\n",
       "      <td>0.5</td>\n",
       "      <td>4.5</td>\n",
       "      <td>3.2</td>\n",
       "      <td>3.2</td>\n",
       "      <td>0</td>\n",
       "    </tr>\n",
       "    <tr>\n",
       "      <th>1</th>\n",
       "      <td>0.5</td>\n",
       "      <td>6.0</td>\n",
       "      <td>3.2</td>\n",
       "      <td>3.2</td>\n",
       "      <td>0</td>\n",
       "    </tr>\n",
       "    <tr>\n",
       "      <th>2</th>\n",
       "      <td>0.5</td>\n",
       "      <td>9.0</td>\n",
       "      <td>3.2</td>\n",
       "      <td>3.2</td>\n",
       "      <td>0</td>\n",
       "    </tr>\n",
       "    <tr>\n",
       "      <th>3</th>\n",
       "      <td>0.5</td>\n",
       "      <td>4.5</td>\n",
       "      <td>4.5</td>\n",
       "      <td>3.2</td>\n",
       "      <td>0</td>\n",
       "    </tr>\n",
       "    <tr>\n",
       "      <th>4</th>\n",
       "      <td>0.5</td>\n",
       "      <td>4.5</td>\n",
       "      <td>6.0</td>\n",
       "      <td>3.2</td>\n",
       "      <td>0</td>\n",
       "    </tr>\n",
       "  </tbody>\n",
       "</table>\n",
       "</div>"
      ],
      "text/plain": [
       "    D2   tm   ts   tv  ti\n",
       "0  0.5  4.5  3.2  3.2   0\n",
       "1  0.5  6.0  3.2  3.2   0\n",
       "2  0.5  9.0  3.2  3.2   0\n",
       "3  0.5  4.5  4.5  3.2   0\n",
       "4  0.5  4.5  6.0  3.2   0"
      ]
     },
     "execution_count": 50,
     "metadata": {},
     "output_type": "execute_result"
    }
   ],
   "source": [
    "# Input parameters for stress\n",
    "x_train_stress = df_stress[['D2','tm','ts','tv', 'ti']]\n",
    "x_test_stress = df_stress_test[['D2','tm','ts','tv', 'ti']]\n",
    "#x_eva_stress =  df_stress_eva[['D2','DB','tm','ts','tv','Rib']]\n",
    "\n",
    "x_train_stress.head()"
   ]
  },
  {
   "cell_type": "code",
   "execution_count": 38,
   "metadata": {},
   "outputs": [
    {
     "data": {
      "text/html": [
       "<div>\n",
       "<style scoped>\n",
       "    .dataframe tbody tr th:only-of-type {\n",
       "        vertical-align: middle;\n",
       "    }\n",
       "\n",
       "    .dataframe tbody tr th {\n",
       "        vertical-align: top;\n",
       "    }\n",
       "\n",
       "    .dataframe thead th {\n",
       "        text-align: right;\n",
       "    }\n",
       "</style>\n",
       "<table border=\"1\" class=\"dataframe\">\n",
       "  <thead>\n",
       "    <tr style=\"text-align: right;\">\n",
       "      <th></th>\n",
       "      <th>D2</th>\n",
       "      <th>tm</th>\n",
       "      <th>ts</th>\n",
       "      <th>tv</th>\n",
       "      <th>DB</th>\n",
       "    </tr>\n",
       "  </thead>\n",
       "  <tbody>\n",
       "    <tr>\n",
       "      <th>0</th>\n",
       "      <td>0.525</td>\n",
       "      <td>4.5</td>\n",
       "      <td>3.2</td>\n",
       "      <td>3.2</td>\n",
       "      <td>0.12</td>\n",
       "    </tr>\n",
       "    <tr>\n",
       "      <th>1</th>\n",
       "      <td>0.525</td>\n",
       "      <td>6.0</td>\n",
       "      <td>3.2</td>\n",
       "      <td>3.2</td>\n",
       "      <td>0.12</td>\n",
       "    </tr>\n",
       "    <tr>\n",
       "      <th>2</th>\n",
       "      <td>0.525</td>\n",
       "      <td>6.0</td>\n",
       "      <td>4.5</td>\n",
       "      <td>3.2</td>\n",
       "      <td>0.12</td>\n",
       "    </tr>\n",
       "    <tr>\n",
       "      <th>3</th>\n",
       "      <td>0.625</td>\n",
       "      <td>4.5</td>\n",
       "      <td>3.2</td>\n",
       "      <td>3.2</td>\n",
       "      <td>0.16</td>\n",
       "    </tr>\n",
       "    <tr>\n",
       "      <th>4</th>\n",
       "      <td>0.625</td>\n",
       "      <td>6.0</td>\n",
       "      <td>3.2</td>\n",
       "      <td>3.2</td>\n",
       "      <td>0.16</td>\n",
       "    </tr>\n",
       "  </tbody>\n",
       "</table>\n",
       "</div>"
      ],
      "text/plain": [
       "      D2   tm   ts   tv    DB\n",
       "0  0.525  4.5  3.2  3.2  0.12\n",
       "1  0.525  6.0  3.2  3.2  0.12\n",
       "2  0.525  6.0  4.5  3.2  0.12\n",
       "3  0.625  4.5  3.2  3.2  0.16\n",
       "4  0.625  6.0  3.2  3.2  0.16"
      ]
     },
     "execution_count": 38,
     "metadata": {},
     "output_type": "execute_result"
    }
   ],
   "source": [
    "# Input parameters for frequency\n",
    "x_train_frequency = df_frequency[['D2','tm','ts','tv','DB']]\n",
    "x_test_frequency = df_frequency_test[['D2','tm','ts','tv', 'DB']]\n",
    "#x_eva_frequency = df_frequency_eva[['D2','tm','ts','tv', 'DB']]\n",
    "\n",
    "x_test_frequency.head()"
   ]
  },
  {
   "cell_type": "code",
   "execution_count": 39,
   "metadata": {},
   "outputs": [
    {
     "data": {
      "text/html": [
       "<div>\n",
       "<style scoped>\n",
       "    .dataframe tbody tr th:only-of-type {\n",
       "        vertical-align: middle;\n",
       "    }\n",
       "\n",
       "    .dataframe tbody tr th {\n",
       "        vertical-align: top;\n",
       "    }\n",
       "\n",
       "    .dataframe thead th {\n",
       "        text-align: right;\n",
       "    }\n",
       "</style>\n",
       "<table border=\"1\" class=\"dataframe\">\n",
       "  <thead>\n",
       "    <tr style=\"text-align: right;\">\n",
       "      <th></th>\n",
       "      <th>Sm</th>\n",
       "      <th>Ss</th>\n",
       "      <th>Sv</th>\n",
       "      <th>Si</th>\n",
       "    </tr>\n",
       "  </thead>\n",
       "  <tbody>\n",
       "    <tr>\n",
       "      <th>0</th>\n",
       "      <td>100.90</td>\n",
       "      <td>111.10</td>\n",
       "      <td>98.80</td>\n",
       "      <td>0</td>\n",
       "    </tr>\n",
       "    <tr>\n",
       "      <th>1</th>\n",
       "      <td>52.90</td>\n",
       "      <td>114.50</td>\n",
       "      <td>99.50</td>\n",
       "      <td>0</td>\n",
       "    </tr>\n",
       "    <tr>\n",
       "      <th>2</th>\n",
       "      <td>53.59</td>\n",
       "      <td>94.25</td>\n",
       "      <td>101.00</td>\n",
       "      <td>0</td>\n",
       "    </tr>\n",
       "    <tr>\n",
       "      <th>3</th>\n",
       "      <td>83.13</td>\n",
       "      <td>140.85</td>\n",
       "      <td>91.91</td>\n",
       "      <td>0</td>\n",
       "    </tr>\n",
       "    <tr>\n",
       "      <th>4</th>\n",
       "      <td>81.30</td>\n",
       "      <td>147.10</td>\n",
       "      <td>97.50</td>\n",
       "      <td>0</td>\n",
       "    </tr>\n",
       "  </tbody>\n",
       "</table>\n",
       "</div>"
      ],
      "text/plain": [
       "       Sm      Ss      Sv  Si\n",
       "0  100.90  111.10   98.80   0\n",
       "1   52.90  114.50   99.50   0\n",
       "2   53.59   94.25  101.00   0\n",
       "3   83.13  140.85   91.91   0\n",
       "4   81.30  147.10   97.50   0"
      ]
     },
     "execution_count": 39,
     "metadata": {},
     "output_type": "execute_result"
    }
   ],
   "source": [
    "# Output parameters for stress\n",
    "ym_train_stress = df_stress[['Sm','Ss','Sv','Si']]\n",
    "ym_test_stress = df_stress_test[['Sm','Ss','Sv','Si']]\n",
    "#ym_eva_stress = df_stress_eva[['Sm','Ss','Sv','Si']]\n",
    "ym_test_stress.head()\n",
    "#ym_train_stress.head()"
   ]
  },
  {
   "cell_type": "code",
   "execution_count": 40,
   "metadata": {},
   "outputs": [
    {
     "data": {
      "text/html": [
       "<div>\n",
       "<style scoped>\n",
       "    .dataframe tbody tr th:only-of-type {\n",
       "        vertical-align: middle;\n",
       "    }\n",
       "\n",
       "    .dataframe tbody tr th {\n",
       "        vertical-align: top;\n",
       "    }\n",
       "\n",
       "    .dataframe thead th {\n",
       "        text-align: right;\n",
       "    }\n",
       "</style>\n",
       "<table border=\"1\" class=\"dataframe\">\n",
       "  <thead>\n",
       "    <tr style=\"text-align: right;\">\n",
       "      <th></th>\n",
       "      <th>Frequency</th>\n",
       "      <th>Frequency0</th>\n",
       "    </tr>\n",
       "  </thead>\n",
       "  <tbody>\n",
       "    <tr>\n",
       "      <th>0</th>\n",
       "      <td>188.7</td>\n",
       "      <td>178.40</td>\n",
       "    </tr>\n",
       "    <tr>\n",
       "      <th>1</th>\n",
       "      <td>198.3</td>\n",
       "      <td>188.50</td>\n",
       "    </tr>\n",
       "    <tr>\n",
       "      <th>2</th>\n",
       "      <td>215.7</td>\n",
       "      <td>206.70</td>\n",
       "    </tr>\n",
       "    <tr>\n",
       "      <th>3</th>\n",
       "      <td>183.8</td>\n",
       "      <td>173.40</td>\n",
       "    </tr>\n",
       "    <tr>\n",
       "      <th>4</th>\n",
       "      <td>177.1</td>\n",
       "      <td>166.67</td>\n",
       "    </tr>\n",
       "  </tbody>\n",
       "</table>\n",
       "</div>"
      ],
      "text/plain": [
       "   Frequency  Frequency0\n",
       "0      188.7      178.40\n",
       "1      198.3      188.50\n",
       "2      215.7      206.70\n",
       "3      183.8      173.40\n",
       "4      177.1      166.67"
      ]
     },
     "execution_count": 40,
     "metadata": {},
     "output_type": "execute_result"
    }
   ],
   "source": [
    "# Output parameters for frequency\n",
    "ym_train_frequency = df_frequency[['Frequency','Frequency0']]\n",
    "ym_test_frequency = df_frequency_test[['Frequency','Frequency0']]\n",
    "#ym_eva_frequency = df_frequency_eva[['Frequency','Frequency0']]\n",
    "ym_train_frequency.head()"
   ]
  },
  {
   "cell_type": "code",
   "execution_count": 41,
   "metadata": {},
   "outputs": [
    {
     "data": {
      "image/png": "[encoded data removed]",
      "text/plain": [
       "<Figure size 432x288 with 1 Axes>"
      ]
     },
     "metadata": {
      "needs_background": "light"
     },
     "output_type": "display_data"
    }
   ],
   "source": [
    "# plot main stress Vs impeller D2\n",
    "plt.scatter(x_train_stress.D2, ym_train_stress.Sm)\n",
    "plt.xlabel('D2')\n",
    "plt.ylabel('Main Stress')\n",
    "plt.show()"
   ]
  },
  {
   "cell_type": "code",
   "execution_count": 42,
   "metadata": {},
   "outputs": [
    {
     "data": {
      "image/png": "[encoded data removed]",
      "text/plain": [
       "<Figure size 432x288 with 1 Axes>"
      ]
     },
     "metadata": {
      "needs_background": "light"
     },
     "output_type": "display_data"
    }
   ],
   "source": [
    "# plot side stress Vs impeller D2\n",
    "plt.scatter(x_train_stress.D2,ym_train_stress.Ss)\n",
    "plt.xlabel('D2')\n",
    "plt.ylabel('Side Stress')\n",
    "plt.show()"
   ]
  },
  {
   "cell_type": "code",
   "execution_count": 43,
   "metadata": {},
   "outputs": [
    {
     "data": {
      "image/png": "[encoded data removed]",
      "text/plain": [
       "<Figure size 432x288 with 1 Axes>"
      ]
     },
     "metadata": {
      "needs_background": "light"
     },
     "output_type": "display_data"
    }
   ],
   "source": [
    "# plot vane stress Vs impeller D2\n",
    "plt.scatter(x_train_stress.D2,ym_train_stress.Sv)\n",
    "plt.xlabel('D2')\n",
    "plt.ylabel('Vane Stress')\n",
    "plt.show()"
   ]
  },
  {
   "cell_type": "code",
   "execution_count": 44,
   "metadata": {},
   "outputs": [
    {
     "data": {
      "image/png": "[encoded data removed]",
      "text/plain": [
       "<Figure size 432x288 with 1 Axes>"
      ]
     },
     "metadata": {
      "needs_background": "light"
     },
     "output_type": "display_data"
    }
   ],
   "source": [
    "# plot frequency Vs D2/tm\n",
    "plt.scatter(x_train_frequency.D2/x_train_frequency.tm,ym_train_frequency.Frequency0)\n",
    "plt.xlabel('D2/tm')\n",
    "plt.ylabel('Frequency0')\n",
    "plt.show()"
   ]
  },
  {
   "cell_type": "markdown",
   "metadata": {},
   "source": [
    "<h2 style=\"color:cyan\">Function for Polynominal Regression</h2>"
   ]
  },
  {
   "cell_type": "code",
   "execution_count": 45,
   "metadata": {},
   "outputs": [],
   "source": [
    "df_coef = pd.DataFrame()  # To save coefficients of fitting function\n",
    "\n",
    "def polyEstimate(x_train_sm, y_train_sm, x_test_sm, y_test_sm, order=2 ,output=1, print_test = 0): \n",
    "\n",
    "    # Transform input data into polynominal features\n",
    "    x_train_sm_transform = PolynomialFeatures(degree=order).fit_transform(x_train_sm)\n",
    "    x_train_sm_transform.shape  # 1, x, y, x2, xy, y2\n",
    "    x_test_sm_transform = PolynomialFeatures(degree=order).fit_transform(x_test_sm)\n",
    "\n",
    "    # Create a linear regression model\n",
    "    poly = LinearRegression()\n",
    "    poly.fit(x_train_sm_transform, y_train_sm)  # transformed x data can be used as a linear regression model\n",
    "\n",
    "    # Predict value of train data\n",
    "    yhat_sm = poly.predict(x_train_sm_transform)\n",
    "    yhat_test_sm = poly.predict(x_test_sm_transform)\n",
    "\n",
    "    # Plot predict and true data\n",
    "    df_result = pd.DataFrame(list(zip(y_train_sm,yhat_sm)), columns=['True_Value','Predict_Value'])\n",
    "    if (output==1):\n",
    "        fig = px.scatter(df_result, x='True_Value', y='Predict_Value', trendline='ols', height=400, width=500, title='Train data')\n",
    "        fig.update_layout(margin=dict(l=10,r=10,t=20,b=10))\n",
    "        fig.show()\n",
    "\n",
    "    # Plot predict and true data\n",
    "    df_test_result = pd.DataFrame(list(zip(y_test_sm,yhat_test_sm)), columns=['True_Value','Predict_Value'])\n",
    "    if (output==1):\n",
    "        fig2 = px.scatter(df_test_result, x='True_Value', y='Predict_Value', trendline='ols', height=400, width=500, title='Test data')\n",
    "        fig2.update_layout(margin=dict(l=10,r=10,t=20,b=10))\n",
    "        fig2.show()\n",
    "\n",
    "    if (print_test==1):\n",
    "        print(df_test_result)\n",
    "\n",
    "    # Model Evaluation\n",
    "    if (output==1):\n",
    "        print(\"Residual sum of squares for train (MSE): %.2f\" % np.mean((y_train_sm - yhat_sm) ** 2))\n",
    "        print(\"R2-score for train: %.2f\" % r2_score(y_train_sm , yhat_sm))\n",
    "\n",
    "        print(\"Residual sum of squares for test (MSE): %.2f\" % np.mean((y_test_sm - yhat_test_sm) ** 2))\n",
    "        print(\"R2-score for test: %.2f\" % r2_score(y_test_sm , yhat_test_sm))\n",
    "\n",
    "        # Extract the coefficient\n",
    "        columns_name = (PolynomialFeatures(degree=order).fit(x_train_sm).get_feature_names(x_train_sm.columns))\n",
    "        columns_name = columns_name[1:]\n",
    "        columns_name.append(\"Intercept\")\n",
    "\n",
    "        data = poly.coef_[1:]\n",
    "        data = np.append(data, poly.intercept_).reshape(1,data.shape[0]+1)\n",
    "\n",
    "        df_coef = pd.DataFrame(data, columns=columns_name)\n",
    "        df_coef.to_clipboard()\n",
    "        print('Coefficent shape:', df_coef.shape)\n",
    "        return yhat_sm, yhat_test_sm\n",
    "    else:\n",
    "        return r2_score(y_train_sm, yhat_sm), r2_score(y_test_sm, yhat_test_sm)     "
   ]
  },
  {
   "cell_type": "markdown",
   "metadata": {},
   "source": [
    "<h2 style=\"color:cyan\">Polynomial Regression Model - All inputs - Main Stress</h2>"
   ]
  },
  {
   "cell_type": "code",
   "execution_count": 51,
   "metadata": {},
   "outputs": [
    {
     "data": {
      "application/vnd.plotly.v1+json": {
       "config": {
        "plotlyServerURL": "https://plot.ly"
       },
       "data": [
        {
         "hovertemplate": "True_Value=%{x}<br>Predict_Value=%{y}<extra></extra>",
         "legendgroup": "",
         "marker": {
          "color": "#636efa",
          "symbol": "circle"
         },
         "mode": "markers",
         "name": "",
         "orientation": "v",
         "showlegend": false,
         "type": "scatter",
         "x": [
          83.1,
          48.2,
          44.14,
          85.82,
          88.3,
          88.7,
          95.94,
          48.8,
          85.8,
          52.39,
          97.2,
          55.6,
          71.1,
          100.11,
          102.8,
          103.8,
          112.3,
          56.2,
          100.11,
          100.9,
          124.1,
          70.6,
          70.7,
          127.6,
          131,
          132.6,
          143.3,
          71.5,
          127.6,
          109.3,
          107.3,
          89.1,
          114,
          109.6,
          111.8,
          114.8,
          123.8,
          90.8,
          109.6,
          207.6,
          96.7,
          129.8,
          118,
          109.7,
          98.7,
          100.7,
          101.72,
          108.4,
          98.7,
          112.1,
          113.2,
          136.6,
          131.8,
          120,
          113.8,
          115.96,
          117.5,
          125,
          113.8,
          122.5,
          128.7,
          159.2,
          148.8,
          191.7,
          131.1,
          133.5,
          135.7,
          143.9,
          131.1,
          195.5,
          147.7,
          215.6,
          169.6,
          149.8,
          138.9,
          152.8,
          155.5,
          164.7,
          191.4,
          169,
          159.4,
          220.9,
          172.78,
          173.4,
          162.2,
          163.7,
          168,
          178.2,
          162.2,
          184.6,
          172.25,
          223.5,
          186.4,
          193.3,
          175.4,
          178.6,
          181.5,
          192.8,
          175.4,
          203.7,
          201.2,
          280.8,
          204.6,
          248.8,
          204.4,
          218.58,
          197.9,
          212.6,
          225.8,
          288.9,
          223.8,
          216.7,
          203,
          266.6,
          227.2,
          237.9,
          220.5,
          237.5,
          253,
          221.3,
          239.2,
          228.4,
          228.4,
          292.3,
          251.2,
          272.1,
          235.56,
          254,
          294.6,
          233.4,
          339.3,
          273.7,
          286.9,
          285.8,
          351.7,
          367.3,
          334.5,
          342.8,
          350.4,
          273,
          272.5,
          243.9,
          228.44,
          305.2,
          258,
          256.1,
          280.2,
          224.9,
          309.5,
          232.8,
          329.5,
          289.5,
          258.1,
          365.74,
          309.4,
          292.7,
          342.5,
          235.3,
          370.4,
          270.8,
          325.3,
          292,
          278.8,
          366.8,
          305.5,
          408.6,
          333.6,
          558.6,
          426.7,
          371.4,
          327.4,
          313.6,
          332.1,
          353.4,
          365,
          374.9,
          306.8,
          444.6,
          326.9,
          326.7,
          365.1,
          341.8,
          319.1,
          443.1,
          339.7,
          443.6,
          384.2,
          609.6,
          475.9,
          402.2,
          420.3,
          420.2,
          396.6,
          492.6,
          407.8,
          589.6,
          440.1,
          601.4,
          333.1,
          547.5,
          441,
          407.4,
          386.1,
          468.3,
          424,
          627.8,
          465.7,
          640.5,
          740.8,
          568.5
         ],
         "xaxis": "x",
         "y": [
          70.20266059294883,
          65.70922716670458,
          66.40967729269826,
          80.23041641163636,
          91.41444436122427,
          65.0615033924837,
          72.39282884748678,
          73.98578277681355,
          80.23041641163636,
          68.97728484801146,
          81.93534285696668,
          76.93612546580783,
          76.62500766197238,
          91.48795530007231,
          102.12374089321958,
          78.81887904866919,
          88.48638918694266,
          84.73753770033494,
          91.48795530007231,
          88.87998561831733,
          94.36519184074658,
          88.86019048467313,
          87.5375047510085,
          103.44266090827031,
          113.53020414497695,
          93.27342142461674,
          105.27711624616055,
          96.18645934361837,
          103.44266090827031,
          101.7481807050232,
          107.49220754428856,
          101.48142222330054,
          99.14716855980674,
          116.09453323623043,
          125.63383411649642,
          108.4251305203264,
          122.76501002514061,
          108.33254770666392,
          116.09453323623043,
          115.31354251149116,
          114.79982068169004,
          111.45399908836711,
          121.02460013302053,
          121.31638996759263,
          121.17580278947148,
          128.14624568801395,
          113.74394030841833,
          125.78904671787538,
          121.17580278947148,
          129.44357228395262,
          128.81538585984163,
          124.45799633668956,
          133.0170294515138,
          135.83773911065882,
          134.71622459204121,
          141.13842513414306,
          129.78419887873756,
          144.165489971465,
          134.71622459204121,
          143.48977805143693,
          143.52811775775535,
          138.1591603047741,
          145.70662548976918,
          151.0562549734871,
          148.95381311437308,
          154.82777130003427,
          146.52162416881893,
          163.23909994481676,
          148.95381311437308,
          158.23315053868333,
          158.93801637543106,
          152.55749099262067,
          159.0933882477866,
          166.9719375560774,
          163.8885683564669,
          169.21428418568752,
          163.95621617866232,
          183.0098766379305,
          163.8885683564669,
          173.67368974569177,
          175.04508171286892,
          167.6529884002294,
          173.17731772556616,
          183.58478685842988,
          179.52049031832286,
          184.2979637911028,
          182.08797490826785,
          203.47782005080646,
          179.52049031832286,
          189.8113956724623,
          191.84931377006887,
          183.44565252760017,
          187.9584139231078,
          200.89480288054435,
          195.84957899994095,
          200.0788101162803,
          200.91690035763543,
          224.64293018344438,
          195.84957899994095,
          206.64626831899497,
          212.8758344013211,
          199.95820481186618,
          199.95699786038765,
          224.17830768528967,
          216.5568231612198,
          222.6766093232965,
          209.3507125470309,
          228.1142703941956,
          258.960511072283,
          199.59796232119905,
          230.59925652246332,
          216.67005900317926,
          215.65728412187153,
          242.4075137713465,
          233.7320029259214,
          238.75530437511685,
          227.549278043755,
          247.86238590750548,
          281.0448112688632,
          215.76157415607148,
          249.01984536336772,
          234.07907991425446,
          232.0547371031176,
          261.33388657716546,
          251.60434941038514,
          255.53116614669932,
          246.44501026024128,
          268.30766814057756,
          303.82627818520564,
          232.62235271070608,
          250.18029798510258,
          243.10315599357077,
          248.94243664001527,
          270.1738626146108,
          244.9281675074039,
          275.22543541754095,
          265.4707902315148,
          268.2498468405338,
          302.3627562061863,
          249.3791707252331,
          288.5296522268601,
          272.4139488225447,
          269.2146680562056,
          317.5617782691519,
          291.74908937429615,
          293.31227137810475,
          286.29883797428175,
          268.43540997926135,
          324.9787462757831,
          267.5509234688491,
          309.5066243329486,
          292.37935299880394,
          288.1685043026357,
          339.5503183050695,
          311.6295767675034,
          312.0962740584307,
          307.8240524368109,
          287.38768869318216,
          348.2919030651419,
          286.41984293222714,
          331.1807631587992,
          313.0419238948254,
          307.81950726882803,
          362.23602506074917,
          332.2072308804727,
          394.7790276540195,
          330.0464336191021,
          497.17760671008466,
          372.3022265742628,
          348.8855373635945,
          353.5520687044118,
          334.40166151060885,
          328.16767695478234,
          362.80585391078534,
          353.4820517132041,
          417.29354845714,
          352.9659815211553,
          526.5574663055085,
          397.0097168031459,
          371.4849749497671,
          376.6205409697865,
          356.45856584615444,
          349.2130133604986,
          409.69893873139483,
          375.4540392656975,
          440.50523598002246,
          376.5826961429706,
          556.6344926206942,
          422.4143737517909,
          394.7815792557017,
          418.77535028139846,
          393.17385180752694,
          380.48877597163164,
          457.2932713932465,
          417.81370660968764,
          601.804827255394,
          418.0807388094819,
          561.2241281823692,
          368.8671879833603,
          530.134813201182,
          443.46628802685734,
          416.8532216231565,
          403.1565778574321,
          482.9957770685344,
          441.4081596422652,
          628.9751649416312,
          443.86816126782196,
          590.5874352943689,
          794.551853635073,
          557.390067670471
         ],
         "yaxis": "y"
        },
        {
         "hovertemplate": "<b>OLS trendline</b><br>Predict_Value = 0.951718 * True_Value + 11.5092<br>R<sup>2</sup>=0.951718<br><br>True_Value=%{x}<br>Predict_Value=%{y} <b>(trend)</b><extra></extra>",
         "legendgroup": "",
         "marker": {
          "color": "#636efa",
          "symbol": "circle"
         },
         "mode": "lines",
         "name": "",
         "showlegend": false,
         "type": "scatter",
         "x": [
          44.14,
          48.2,
          48.8,
          52.39,
          55.6,
          56.2,
          70.6,
          70.7,
          71.1,
          71.5,
          83.1,
          85.8,
          85.82,
          88.3,
          88.7,
          89.1,
          90.8,
          95.94,
          96.7,
          97.2,
          98.7,
          98.7,
          100.11,
          100.11,
          100.7,
          100.9,
          101.72,
          102.8,
          103.8,
          107.3,
          108.4,
          109.3,
          109.6,
          109.6,
          109.7,
          111.8,
          112.1,
          112.3,
          113.2,
          113.8,
          113.8,
          114,
          114.8,
          115.96,
          117.5,
          118,
          120,
          122.5,
          123.8,
          124.1,
          125,
          127.6,
          127.6,
          128.7,
          129.8,
          131,
          131.1,
          131.1,
          131.8,
          132.6,
          133.5,
          135.7,
          136.6,
          138.9,
          143.3,
          143.9,
          147.7,
          148.8,
          149.8,
          152.8,
          155.5,
          159.2,
          159.4,
          162.2,
          162.2,
          163.7,
          164.7,
          168,
          169,
          169.6,
          172.25,
          172.78,
          173.4,
          175.4,
          175.4,
          178.2,
          178.6,
          181.5,
          184.6,
          186.4,
          191.4,
          191.7,
          192.8,
          193.3,
          195.5,
          197.9,
          201.2,
          203,
          203.7,
          204.4,
          204.6,
          207.6,
          212.6,
          215.6,
          216.7,
          218.58,
          220.5,
          220.9,
          221.3,
          223.5,
          223.8,
          224.9,
          225.8,
          227.2,
          228.4,
          228.4,
          228.44,
          232.8,
          233.4,
          235.3,
          235.56,
          237.5,
          237.9,
          239.2,
          243.9,
          248.8,
          251.2,
          253,
          254,
          256.1,
          258,
          258.1,
          266.6,
          270.8,
          272.1,
          272.5,
          273,
          273.7,
          278.8,
          280.2,
          280.8,
          285.8,
          286.9,
          288.9,
          289.5,
          292,
          292.3,
          292.7,
          294.6,
          305.2,
          305.5,
          306.8,
          309.4,
          309.5,
          313.6,
          319.1,
          325.3,
          326.7,
          326.9,
          327.4,
          329.5,
          332.1,
          333.1,
          333.6,
          334.5,
          339.3,
          339.7,
          341.8,
          342.5,
          342.8,
          350.4,
          351.7,
          353.4,
          365,
          365.1,
          365.74,
          366.8,
          367.3,
          370.4,
          371.4,
          374.9,
          384.2,
          386.1,
          396.6,
          402.2,
          407.4,
          407.8,
          408.6,
          420.2,
          420.3,
          424,
          426.7,
          440.1,
          441,
          443.1,
          443.6,
          444.6,
          465.7,
          468.3,
          475.9,
          492.6,
          547.5,
          558.6,
          568.5,
          589.6,
          601.4,
          609.6,
          627.8,
          640.5,
          740.8
         ],
         "xaxis": "x",
         "y": [
          53.518033821209464,
          57.38200831942239,
          57.953039033444,
          61.36970613900667,
          64.42472045902231,
          64.99575117304393,
          78.70048830956267,
          78.79566009523295,
          79.17634723791402,
          79.5570343805951,
          90.5969615183463,
          93.16659973144357,
          93.18563408857763,
          95.5458943732003,
          95.92658151588138,
          96.30726865856245,
          97.92518901495703,
          102.81701879840887,
          103.54032436950291,
          104.01618329785425,
          105.4437600829083,
          105.4437600829083,
          106.78568226085909,
          106.78568226085909,
          107.34719579631368,
          107.53753936765422,
          108.31794801015042,
          109.34580329538933,
          110.29752115209202,
          113.62853365055143,
          114.6754232929244,
          115.53196936395682,
          115.81748472096763,
          115.81748472096763,
          115.9126565066379,
          117.91126400571355,
          118.19677936272436,
          118.38712293406489,
          119.24366900509732,
          119.81469971911893,
          119.81469971911893,
          120.00504329045947,
          120.76641757582162,
          121.87041028959673,
          123.33605578891888,
          123.81191471727023,
          125.71535043067561,
          128.09464507243234,
          129.33187828614584,
          129.61739364315665,
          130.47393971418907,
          132.94840614161606,
          132.94840614161606,
          133.99529578398904,
          135.042185426362,
          136.18424685440522,
          136.27941864007548,
          136.27941864007548,
          136.94562113976738,
          137.70699542512952,
          138.56354149616195,
          140.65732078090787,
          141.5138668519403,
          143.7028179223565,
          147.89037649184834,
          148.46140720586996,
          152.07793506134016,
          153.12482470371316,
          154.07654256041585,
          156.9316961305239,
          159.50133434362115,
          163.02269041342112,
          163.21303398476167,
          165.87784398352917,
          165.87784398352917,
          167.30542076858322,
          168.2571386252859,
          171.3978075524048,
          172.34952540910749,
          172.9205561231291,
          175.44260844339124,
          175.94701890744366,
          176.53708397859936,
          178.44051969200473,
          178.44051969200473,
          181.10532969077224,
          181.48601683345333,
          184.24599861789113,
          187.19632397366948,
          188.90941611573433,
          193.6680053992478,
          193.95352075625857,
          195.00041039863154,
          195.4762693269829,
          197.57004861172882,
          199.85417146781526,
          202.99484039493413,
          204.70793253699898,
          205.37413503669086,
          206.04033753638276,
          206.23068110772329,
          209.08583467783137,
          213.84442396134483,
          216.6995775314529,
          217.74646717382586,
          219.53569674442693,
          221.3629950292961,
          221.74368217197718,
          222.12436931465825,
          224.21814859940417,
          224.50366395641498,
          225.55055359878793,
          226.40709966982035,
          227.7395046692041,
          228.88156609724734,
          228.88156609724734,
          228.91963481151546,
          233.0691246667392,
          233.6401553807608,
          235.44841930849594,
          235.69586595123863,
          237.54219859324184,
          237.92288573592293,
          239.1601189496364,
          243.63319287613908,
          248.29661037398225,
          250.5807332300687,
          252.29382537213354,
          253.24554322883625,
          255.24415072791192,
          257.052414655647,
          257.1475864413173,
          265.23718822329016,
          269.2344032214415,
          270.47163643515495,
          270.85232357783605,
          271.3281825061874,
          271.9943850058792,
          276.84814607506297,
          278.1805510744467,
          278.7515817884684,
          283.51017107198186,
          284.55706071435475,
          286.4604964277601,
          287.0315271417818,
          289.4108217835385,
          289.6963371405493,
          290.0770242832304,
          291.88528821096554,
          301.973497492014,
          302.2590128490248,
          303.49624606273835,
          305.97071249016534,
          306.06588427583563,
          309.96792748831666,
          315.20237570018145,
          321.10302641173814,
          322.4354314111219,
          322.6257749824624,
          323.10163391081375,
          325.1002414098894,
          327.57470783731645,
          328.5264256940191,
          329.0022846223705,
          329.85883069340287,
          334.4270764055758,
          334.80776354825684,
          336.80637104733256,
          337.4725735470244,
          337.7580889040352,
          344.99114461497567,
          346.22837782868913,
          347.8462981850837,
          358.88622532283495,
          358.98139710850523,
          359.59049653679494,
          360.5993174648998,
          361.0751763932512,
          364.02550174902944,
          364.97721960573216,
          368.3082321041916,
          377.15920817152664,
          378.9674720992618,
          388.96050959464003,
          394.29012959217505,
          399.239062447029,
          399.6197495897102,
          400.3811238750723,
          411.4210510128235,
          411.5162227984938,
          415.03757886829374,
          417.607217081391,
          430.3602363612071,
          431.2167824322395,
          433.21538993131514,
          433.69124885966653,
          434.6429667163692,
          454.72421349279597,
          457.19867992022296,
          464.4317356311634,
          480.3254238380984,
          532.5747341710761,
          543.138802380476,
          552.5608091618326,
          572.6420559382594,
          583.8723266473511,
          591.6764130723133,
          608.9976780643021,
          621.0844948444263,
          716.5417958717062
         ],
         "yaxis": "y"
        }
       ],
       "layout": {
        "height": 400,
        "legend": {
         "tracegroupgap": 0
        },
        "margin": {
         "b": 10,
         "l": 10,
         "r": 10,
         "t": 20
        },
        "template": {
         "data": {
          "bar": [
           {
            "error_x": {
             "color": "#2a3f5f"
            },
            "error_y": {
             "color": "#2a3f5f"
            },
            "marker": {
             "line": {
              "color": "#E5ECF6",
              "width": 0.5
             }
            },
            "type": "bar"
           }
          ],
          "barpolar": [
           {
            "marker": {
             "line": {
              "color": "#E5ECF6",
              "width": 0.5
             }
            },
            "type": "barpolar"
           }
          ],
          "carpet": [
           {
            "aaxis": {
             "endlinecolor": "#2a3f5f",
             "gridcolor": "white",
             "linecolor": "white",
             "minorgridcolor": "white",
             "startlinecolor": "#2a3f5f"
            },
            "baxis": {
             "endlinecolor": "#2a3f5f",
             "gridcolor": "white",
             "linecolor": "white",
             "minorgridcolor": "white",
             "startlinecolor": "#2a3f5f"
            },
            "type": "carpet"
           }
          ],
          "choropleth": [
           {
            "colorbar": {
             "outlinewidth": 0,
             "ticks": ""
            },
            "type": "choropleth"
           }
          ],
          "contour": [
           {
            "colorbar": {
             "outlinewidth": 0,
             "ticks": ""
            },
            "colorscale": [
             [
              0,
              "#0d0887"
             ],
             [
              0.1111111111111111,
              "#46039f"
             ],
             [
              0.2222222222222222,
              "#7201a8"
             ],
             [
              0.3333333333333333,
              "#9c179e"
             ],
             [
              0.4444444444444444,
              "#bd3786"
             ],
             [
              0.5555555555555556,
              "#d8576b"
             ],
             [
              0.6666666666666666,
              "#ed7953"
             ],
             [
              0.7777777777777778,
              "#fb9f3a"
             ],
             [
              0.8888888888888888,
              "#fdca26"
             ],
             [
              1,
              "#f0f921"
             ]
            ],
            "type": "contour"
           }
          ],
          "contourcarpet": [
           {
            "colorbar": {
             "outlinewidth": 0,
             "ticks": ""
            },
            "type": "contourcarpet"
           }
          ],
          "heatmap": [
           {
            "colorbar": {
             "outlinewidth": 0,
             "ticks": ""
            },
            "colorscale": [
             [
              0,
              "#0d0887"
             ],
             [
              0.1111111111111111,
              "#46039f"
             ],
             [
              0.2222222222222222,
              "#7201a8"
             ],
             [
              0.3333333333333333,
              "#9c179e"
             ],
             [
              0.4444444444444444,
              "#bd3786"
             ],
             [
              0.5555555555555556,
              "#d8576b"
             ],
             [
              0.6666666666666666,
              "#ed7953"
             ],
             [
              0.7777777777777778,
              "#fb9f3a"
             ],
             [
              0.8888888888888888,
              "#fdca26"
             ],
             [
              1,
              "#f0f921"
             ]
            ],
            "type": "heatmap"
           }
          ],
          "heatmapgl": [
           {
            "colorbar": {
             "outlinewidth": 0,
             "ticks": ""
            },
            "colorscale": [
             [
              0,
              "#0d0887"
             ],
             [
              0.1111111111111111,
              "#46039f"
             ],
             [
              0.2222222222222222,
              "#7201a8"
             ],
             [
              0.3333333333333333,
              "#9c179e"
             ],
             [
              0.4444444444444444,
              "#bd3786"
             ],
             [
              0.5555555555555556,
              "#d8576b"
             ],
             [
              0.6666666666666666,
              "#ed7953"
             ],
             [
              0.7777777777777778,
              "#fb9f3a"
             ],
             [
              0.8888888888888888,
              "#fdca26"
             ],
             [
              1,
              "#f0f921"
             ]
            ],
            "type": "heatmapgl"
           }
          ],
          "histogram": [
           {
            "marker": {
             "colorbar": {
              "outlinewidth": 0,
              "ticks": ""
             }
            },
            "type": "histogram"
           }
          ],
          "histogram2d": [
           {
            "colorbar": {
             "outlinewidth": 0,
             "ticks": ""
            },
            "colorscale": [
             [
              0,
              "#0d0887"
             ],
             [
              0.1111111111111111,
              "#46039f"
             ],
             [
              0.2222222222222222,
              "#7201a8"
             ],
             [
              0.3333333333333333,
              "#9c179e"
             ],
             [
              0.4444444444444444,
              "#bd3786"
             ],
             [
              0.5555555555555556,
              "#d8576b"
             ],
             [
              0.6666666666666666,
              "#ed7953"
             ],
             [
              0.7777777777777778,
              "#fb9f3a"
             ],
             [
              0.8888888888888888,
              "#fdca26"
             ],
             [
              1,
              "#f0f921"
             ]
            ],
            "type": "histogram2d"
           }
          ],
          "histogram2dcontour": [
           {
            "colorbar": {
             "outlinewidth": 0,
             "ticks": ""
            },
            "colorscale": [
             [
              0,
              "#0d0887"
             ],
             [
              0.1111111111111111,
              "#46039f"
             ],
             [
              0.2222222222222222,
              "#7201a8"
             ],
             [
              0.3333333333333333,
              "#9c179e"
             ],
             [
              0.4444444444444444,
              "#bd3786"
             ],
             [
              0.5555555555555556,
              "#d8576b"
             ],
             [
              0.6666666666666666,
              "#ed7953"
             ],
             [
              0.7777777777777778,
              "#fb9f3a"
             ],
             [
              0.8888888888888888,
              "#fdca26"
             ],
             [
              1,
              "#f0f921"
             ]
            ],
            "type": "histogram2dcontour"
           }
          ],
          "mesh3d": [
           {
            "colorbar": {
             "outlinewidth": 0,
             "ticks": ""
            },
            "type": "mesh3d"
           }
          ],
          "parcoords": [
           {
            "line": {
             "colorbar": {
              "outlinewidth": 0,
              "ticks": ""
             }
            },
            "type": "parcoords"
           }
          ],
          "pie": [
           {
            "automargin": true,
            "type": "pie"
           }
          ],
          "scatter": [
           {
            "marker": {
             "colorbar": {
              "outlinewidth": 0,
              "ticks": ""
             }
            },
            "type": "scatter"
           }
          ],
          "scatter3d": [
           {
            "line": {
             "colorbar": {
              "outlinewidth": 0,
              "ticks": ""
             }
            },
            "marker": {
             "colorbar": {
              "outlinewidth": 0,
              "ticks": ""
             }
            },
            "type": "scatter3d"
           }
          ],
          "scattercarpet": [
           {
            "marker": {
             "colorbar": {
              "outlinewidth": 0,
              "ticks": ""
             }
            },
            "type": "scattercarpet"
           }
          ],
          "scattergeo": [
           {
            "marker": {
             "colorbar": {
              "outlinewidth": 0,
              "ticks": ""
             }
            },
            "type": "scattergeo"
           }
          ],
          "scattergl": [
           {
            "marker": {
             "colorbar": {
              "outlinewidth": 0,
              "ticks": ""
             }
            },
            "type": "scattergl"
           }
          ],
          "scattermapbox": [
           {
            "marker": {
             "colorbar": {
              "outlinewidth": 0,
              "ticks": ""
             }
            },
            "type": "scattermapbox"
           }
          ],
          "scatterpolar": [
           {
            "marker": {
             "colorbar": {
              "outlinewidth": 0,
              "ticks": ""
             }
            },
            "type": "scatterpolar"
           }
          ],
          "scatterpolargl": [
           {
            "marker": {
             "colorbar": {
              "outlinewidth": 0,
              "ticks": ""
             }
            },
            "type": "scatterpolargl"
           }
          ],
          "scatterternary": [
           {
            "marker": {
             "colorbar": {
              "outlinewidth": 0,
              "ticks": ""
             }
            },
            "type": "scatterternary"
           }
          ],
          "surface": [
           {
            "colorbar": {
             "outlinewidth": 0,
             "ticks": ""
            },
            "colorscale": [
             [
              0,
              "#0d0887"
             ],
             [
              0.1111111111111111,
              "#46039f"
             ],
             [
              0.2222222222222222,
              "#7201a8"
             ],
             [
              0.3333333333333333,
              "#9c179e"
             ],
             [
              0.4444444444444444,
              "#bd3786"
             ],
             [
              0.5555555555555556,
              "#d8576b"
             ],
             [
              0.6666666666666666,
              "#ed7953"
             ],
             [
              0.7777777777777778,
              "#fb9f3a"
             ],
             [
              0.8888888888888888,
              "#fdca26"
             ],
             [
              1,
              "#f0f921"
             ]
            ],
            "type": "surface"
           }
          ],
          "table": [
           {
            "cells": {
             "fill": {
              "color": "#EBF0F8"
             },
             "line": {
              "color": "white"
             }
            },
            "header": {
             "fill": {
              "color": "#C8D4E3"
             },
             "line": {
              "color": "white"
             }
            },
            "type": "table"
           }
          ]
         },
         "layout": {
          "annotationdefaults": {
           "arrowcolor": "#2a3f5f",
           "arrowhead": 0,
           "arrowwidth": 1
          },
          "autotypenumbers": "strict",
          "coloraxis": {
           "colorbar": {
            "outlinewidth": 0,
            "ticks": ""
           }
          },
          "colorscale": {
           "diverging": [
            [
             0,
             "#8e0152"
            ],
            [
             0.1,
             "#c51b7d"
            ],
            [
             0.2,
             "#de77ae"
            ],
            [
             0.3,
             "#f1b6da"
            ],
            [
             0.4,
             "#fde0ef"
            ],
            [
             0.5,
             "#f7f7f7"
            ],
            [
             0.6,
             "#e6f5d0"
            ],
            [
             0.7,
             "#b8e186"
            ],
            [
             0.8,
             "#7fbc41"
            ],
            [
             0.9,
             "#4d9221"
            ],
            [
             1,
             "#276419"
            ]
           ],
           "sequential": [
            [
             0,
             "#0d0887"
            ],
            [
             0.1111111111111111,
             "#46039f"
            ],
            [
             0.2222222222222222,
             "#7201a8"
            ],
            [
             0.3333333333333333,
             "#9c179e"
            ],
            [
             0.4444444444444444,
             "#bd3786"
            ],
            [
             0.5555555555555556,
             "#d8576b"
            ],
            [
             0.6666666666666666,
             "#ed7953"
            ],
            [
             0.7777777777777778,
             "#fb9f3a"
            ],
            [
             0.8888888888888888,
             "#fdca26"
            ],
            [
             1,
             "#f0f921"
            ]
           ],
           "sequentialminus": [
            [
             0,
             "#0d0887"
            ],
            [
             0.1111111111111111,
             "#46039f"
            ],
            [
             0.2222222222222222,
             "#7201a8"
            ],
            [
             0.3333333333333333,
             "#9c179e"
            ],
            [
             0.4444444444444444,
             "#bd3786"
            ],
            [
             0.5555555555555556,
             "#d8576b"
            ],
            [
             0.6666666666666666,
             "#ed7953"
            ],
            [
             0.7777777777777778,
             "#fb9f3a"
            ],
            [
             0.8888888888888888,
             "#fdca26"
            ],
            [
             1,
             "#f0f921"
            ]
           ]
          },
          "colorway": [
           "#636efa",
           "#EF553B",
           "#00cc96",
           "#ab63fa",
           "#FFA15A",
           "#19d3f3",
           "#FF6692",
           "#B6E880",
           "#FF97FF",
           "#FECB52"
          ],
          "font": {
           "color": "#2a3f5f"
          },
          "geo": {
           "bgcolor": "white",
           "lakecolor": "white",
           "landcolor": "#E5ECF6",
           "showlakes": true,
           "showland": true,
           "subunitcolor": "white"
          },
          "hoverlabel": {
           "align": "left"
          },
          "hovermode": "closest",
          "mapbox": {
           "style": "light"
          },
          "paper_bgcolor": "white",
          "plot_bgcolor": "#E5ECF6",
          "polar": {
           "angularaxis": {
            "gridcolor": "white",
            "linecolor": "white",
            "ticks": ""
           },
           "bgcolor": "#E5ECF6",
           "radialaxis": {
            "gridcolor": "white",
            "linecolor": "white",
            "ticks": ""
           }
          },
          "scene": {
           "xaxis": {
            "backgroundcolor": "#E5ECF6",
            "gridcolor": "white",
            "gridwidth": 2,
            "linecolor": "white",
            "showbackground": true,
            "ticks": "",
            "zerolinecolor": "white"
           },
           "yaxis": {
            "backgroundcolor": "#E5ECF6",
            "gridcolor": "white",
            "gridwidth": 2,
            "linecolor": "white",
            "showbackground": true,
            "ticks": "",
            "zerolinecolor": "white"
           },
           "zaxis": {
            "backgroundcolor": "#E5ECF6",
            "gridcolor": "white",
            "gridwidth": 2,
            "linecolor": "white",
            "showbackground": true,
            "ticks": "",
            "zerolinecolor": "white"
           }
          },
          "shapedefaults": {
           "line": {
            "color": "#2a3f5f"
           }
          },
          "ternary": {
           "aaxis": {
            "gridcolor": "white",
            "linecolor": "white",
            "ticks": ""
           },
           "baxis": {
            "gridcolor": "white",
            "linecolor": "white",
            "ticks": ""
           },
           "bgcolor": "#E5ECF6",
           "caxis": {
            "gridcolor": "white",
            "linecolor": "white",
            "ticks": ""
           }
          },
          "title": {
           "x": 0.05
          },
          "xaxis": {
           "automargin": true,
           "gridcolor": "white",
           "linecolor": "white",
           "ticks": "",
           "title": {
            "standoff": 15
           },
           "zerolinecolor": "white",
           "zerolinewidth": 2
          },
          "yaxis": {
           "automargin": true,
           "gridcolor": "white",
           "linecolor": "white",
           "ticks": "",
           "title": {
            "standoff": 15
           },
           "zerolinecolor": "white",
           "zerolinewidth": 2
          }
         }
        },
        "title": {
         "text": "Train data"
        },
        "width": 500,
        "xaxis": {
         "anchor": "y",
         "domain": [
          0,
          1
         ],
         "title": {
          "text": "True_Value"
         }
        },
        "yaxis": {
         "anchor": "x",
         "domain": [
          0,
          1
         ],
         "title": {
          "text": "Predict_Value"
         }
        }
       }
      }
     },
     "metadata": {},
     "output_type": "display_data"
    },
    {
     "data": {
      "application/vnd.plotly.v1+json": {
       "config": {
        "plotlyServerURL": "https://plot.ly"
       },
       "data": [
        {
         "hovertemplate": "True_Value=%{x}<br>Predict_Value=%{y}<extra></extra>",
         "legendgroup": "",
         "marker": {
          "color": "#636efa",
          "symbol": "circle"
         },
         "mode": "markers",
         "name": "",
         "orientation": "v",
         "showlegend": false,
         "type": "scatter",
         "x": [
          100.9,
          52.9,
          53.59,
          83.13,
          81.3,
          82.9,
          102.7,
          138.6,
          140.4,
          128.2,
          192.6,
          197.6,
          158,
          197.1,
          202.6,
          169.9,
          231.7,
          238.7,
          185.67,
          227.2,
          225.8,
          211.3,
          296,
          303.9,
          234.5,
          225,
          230.7,
          250.8,
          247,
          256.1,
          283.8,
          248.5,
          289.9,
          323.4,
          302.76,
          385.2,
          369.1,
          339.1,
          378.4,
          363.6,
          344.9,
          423.5,
          549.8,
          463.6,
          619.2
         ],
         "xaxis": "x",
         "y": [
          75.98185588498751,
          71.23553047628593,
          79.27451439860397,
          100.84155385254732,
          95.08366051401657,
          95.08366051401657,
          121.72045743079556,
          117.86885187255808,
          116.58049072838958,
          151.1459212266229,
          145.2711798087271,
          147.08191869773012,
          166.90440320417974,
          160.01809385645475,
          163.37838276204357,
          183.36005190149865,
          175.46217462394452,
          180.37201354611912,
          204.2755608606608,
          191.86371523612044,
          198.06281104995674,
          221.65039962192193,
          208.22698606755245,
          220.60043777367696,
          239.72240510294526,
          225.2874236187466,
          239.13732636059814,
          258.4915773037306,
          255.31820388004203,
          291.3161986912988,
          278.3026036937267,
          262.6926842543259,
          295.43704779712215,
          342.2792700916352,
          323.6346468627469,
          360.0981103167105,
          364.9991589971289,
          345.34296783841137,
          383.0461312627641,
          388.4162146223846,
          367.74845553383807,
          406.6913189285798,
          488.97612052236286,
          457.02331001690277,
          605.5305263702794
         ],
         "yaxis": "y"
        },
        {
         "hovertemplate": "<b>OLS trendline</b><br>Predict_Value = 0.946039 * True_Value + 5.3323<br>R<sup>2</sup>=0.938653<br><br>True_Value=%{x}<br>Predict_Value=%{y} <b>(trend)</b><extra></extra>",
         "legendgroup": "",
         "marker": {
          "color": "#636efa",
          "symbol": "circle"
         },
         "mode": "lines",
         "name": "",
         "showlegend": false,
         "type": "scatter",
         "x": [
          52.9,
          53.59,
          81.3,
          82.9,
          83.13,
          100.9,
          102.7,
          128.2,
          138.6,
          140.4,
          158,
          169.9,
          185.67,
          192.6,
          197.1,
          197.6,
          202.6,
          211.3,
          225,
          225.8,
          227.2,
          230.7,
          231.7,
          234.5,
          238.7,
          247,
          248.5,
          250.8,
          256.1,
          283.8,
          289.9,
          296,
          302.76,
          303.9,
          323.4,
          339.1,
          344.9,
          363.6,
          369.1,
          378.4,
          385.2,
          423.5,
          463.6,
          549.8,
          619.2
         ],
         "xaxis": "x",
         "y": [
          55.37777277979142,
          56.03053984448545,
          82.24528674690805,
          83.75894950561886,
          83.97653852718352,
          100.78765554111531,
          102.49052614466495,
          126.61452636161825,
          136.4533342932384,
          138.1562048967881,
          154.80649524260684,
          166.06436201051838,
          180.98340057606168,
          187.5394523997278,
          191.79662890860192,
          192.26964852069904,
          196.99984464167028,
          205.23038589216026,
          218.19112326362142,
          218.9479546429768,
          220.27240955684874,
          223.58354684152863,
          224.52958606572287,
          227.1784958934668,
          231.15186063508258,
          239.00398619589487,
          240.42304503218622,
          242.59893524783303,
          247.61294313606254,
          273.8182296462432,
          279.58906891382804,
          285.359908181413,
          291.7551333369661,
          292.83361805254754,
          311.28138292433533,
          326.1341987441851,
          331.62122624451166,
          349.3121597369441,
          354.5153754700125,
          363.31354025501895,
          369.7466069795399,
          405.97990926617956,
          443.91608215636893,
          525.4646632819131,
          591.119785440994
         ],
         "yaxis": "y"
        }
       ],
       "layout": {
        "height": 400,
        "legend": {
         "tracegroupgap": 0
        },
        "margin": {
         "b": 10,
         "l": 10,
         "r": 10,
         "t": 20
        },
        "template": {
         "data": {
          "bar": [
           {
            "error_x": {
             "color": "#2a3f5f"
            },
            "error_y": {
             "color": "#2a3f5f"
            },
            "marker": {
             "line": {
              "color": "#E5ECF6",
              "width": 0.5
             }
            },
            "type": "bar"
           }
          ],
          "barpolar": [
           {
            "marker": {
             "line": {
              "color": "#E5ECF6",
              "width": 0.5
             }
            },
            "type": "barpolar"
           }
          ],
          "carpet": [
           {
            "aaxis": {
             "endlinecolor": "#2a3f5f",
             "gridcolor": "white",
             "linecolor": "white",
             "minorgridcolor": "white",
             "startlinecolor": "#2a3f5f"
            },
            "baxis": {
             "endlinecolor": "#2a3f5f",
             "gridcolor": "white",
             "linecolor": "white",
             "minorgridcolor": "white",
             "startlinecolor": "#2a3f5f"
            },
            "type": "carpet"
           }
          ],
          "choropleth": [
           {
            "colorbar": {
             "outlinewidth": 0,
             "ticks": ""
            },
            "type": "choropleth"
           }
          ],
          "contour": [
           {
            "colorbar": {
             "outlinewidth": 0,
             "ticks": ""
            },
            "colorscale": [
             [
              0,
              "#0d0887"
             ],
             [
              0.1111111111111111,
              "#46039f"
             ],
             [
              0.2222222222222222,
              "#7201a8"
             ],
             [
              0.3333333333333333,
              "#9c179e"
             ],
             [
              0.4444444444444444,
              "#bd3786"
             ],
             [
              0.5555555555555556,
              "#d8576b"
             ],
             [
              0.6666666666666666,
              "#ed7953"
             ],
             [
              0.7777777777777778,
              "#fb9f3a"
             ],
             [
              0.8888888888888888,
              "#fdca26"
             ],
             [
              1,
              "#f0f921"
             ]
            ],
            "type": "contour"
           }
          ],
          "contourcarpet": [
           {
            "colorbar": {
             "outlinewidth": 0,
             "ticks": ""
            },
            "type": "contourcarpet"
           }
          ],
          "heatmap": [
           {
            "colorbar": {
             "outlinewidth": 0,
             "ticks": ""
            },
            "colorscale": [
             [
              0,
              "#0d0887"
             ],
             [
              0.1111111111111111,
              "#46039f"
             ],
             [
              0.2222222222222222,
              "#7201a8"
             ],
             [
              0.3333333333333333,
              "#9c179e"
             ],
             [
              0.4444444444444444,
              "#bd3786"
             ],
             [
              0.5555555555555556,
              "#d8576b"
             ],
             [
              0.6666666666666666,
              "#ed7953"
             ],
             [
              0.7777777777777778,
              "#fb9f3a"
             ],
             [
              0.8888888888888888,
              "#fdca26"
             ],
             [
              1,
              "#f0f921"
             ]
            ],
            "type": "heatmap"
           }
          ],
          "heatmapgl": [
           {
            "colorbar": {
             "outlinewidth": 0,
             "ticks": ""
            },
            "colorscale": [
             [
              0,
              "#0d0887"
             ],
             [
              0.1111111111111111,
              "#46039f"
             ],
             [
              0.2222222222222222,
              "#7201a8"
             ],
             [
              0.3333333333333333,
              "#9c179e"
             ],
             [
              0.4444444444444444,
              "#bd3786"
             ],
             [
              0.5555555555555556,
              "#d8576b"
             ],
             [
              0.6666666666666666,
              "#ed7953"
             ],
             [
              0.7777777777777778,
              "#fb9f3a"
             ],
             [
              0.8888888888888888,
              "#fdca26"
             ],
             [
              1,
              "#f0f921"
             ]
            ],
            "type": "heatmapgl"
           }
          ],
          "histogram": [
           {
            "marker": {
             "colorbar": {
              "outlinewidth": 0,
              "ticks": ""
             }
            },
            "type": "histogram"
           }
          ],
          "histogram2d": [
           {
            "colorbar": {
             "outlinewidth": 0,
             "ticks": ""
            },
            "colorscale": [
             [
              0,
              "#0d0887"
             ],
             [
              0.1111111111111111,
              "#46039f"
             ],
             [
              0.2222222222222222,
              "#7201a8"
             ],
             [
              0.3333333333333333,
              "#9c179e"
             ],
             [
              0.4444444444444444,
              "#bd3786"
             ],
             [
              0.5555555555555556,
              "#d8576b"
             ],
             [
              0.6666666666666666,
              "#ed7953"
             ],
             [
              0.7777777777777778,
              "#fb9f3a"
             ],
             [
              0.8888888888888888,
              "#fdca26"
             ],
             [
              1,
              "#f0f921"
             ]
            ],
            "type": "histogram2d"
           }
          ],
          "histogram2dcontour": [
           {
            "colorbar": {
             "outlinewidth": 0,
             "ticks": ""
            },
            "colorscale": [
             [
              0,
              "#0d0887"
             ],
             [
              0.1111111111111111,
              "#46039f"
             ],
             [
              0.2222222222222222,
              "#7201a8"
             ],
             [
              0.3333333333333333,
              "#9c179e"
             ],
             [
              0.4444444444444444,
              "#bd3786"
             ],
             [
              0.5555555555555556,
              "#d8576b"
             ],
             [
              0.6666666666666666,
              "#ed7953"
             ],
             [
              0.7777777777777778,
              "#fb9f3a"
             ],
             [
              0.8888888888888888,
              "#fdca26"
             ],
             [
              1,
              "#f0f921"
             ]
            ],
            "type": "histogram2dcontour"
           }
          ],
          "mesh3d": [
           {
            "colorbar": {
             "outlinewidth": 0,
             "ticks": ""
            },
            "type": "mesh3d"
           }
          ],
          "parcoords": [
           {
            "line": {
             "colorbar": {
              "outlinewidth": 0,
              "ticks": ""
             }
            },
            "type": "parcoords"
           }
          ],
          "pie": [
           {
            "automargin": true,
            "type": "pie"
           }
          ],
          "scatter": [
           {
            "marker": {
             "colorbar": {
              "outlinewidth": 0,
              "ticks": ""
             }
            },
            "type": "scatter"
           }
          ],
          "scatter3d": [
           {
            "line": {
             "colorbar": {
              "outlinewidth": 0,
              "ticks": ""
             }
            },
            "marker": {
             "colorbar": {
              "outlinewidth": 0,
              "ticks": ""
             }
            },
            "type": "scatter3d"
           }
          ],
          "scattercarpet": [
           {
            "marker": {
             "colorbar": {
              "outlinewidth": 0,
              "ticks": ""
             }
            },
            "type": "scattercarpet"
           }
          ],
          "scattergeo": [
           {
            "marker": {
             "colorbar": {
              "outlinewidth": 0,
              "ticks": ""
             }
            },
            "type": "scattergeo"
           }
          ],
          "scattergl": [
           {
            "marker": {
             "colorbar": {
              "outlinewidth": 0,
              "ticks": ""
             }
            },
            "type": "scattergl"
           }
          ],
          "scattermapbox": [
           {
            "marker": {
             "colorbar": {
              "outlinewidth": 0,
              "ticks": ""
             }
            },
            "type": "scattermapbox"
           }
          ],
          "scatterpolar": [
           {
            "marker": {
             "colorbar": {
              "outlinewidth": 0,
              "ticks": ""
             }
            },
            "type": "scatterpolar"
           }
          ],
          "scatterpolargl": [
           {
            "marker": {
             "colorbar": {
              "outlinewidth": 0,
              "ticks": ""
             }
            },
            "type": "scatterpolargl"
           }
          ],
          "scatterternary": [
           {
            "marker": {
             "colorbar": {
              "outlinewidth": 0,
              "ticks": ""
             }
            },
            "type": "scatterternary"
           }
          ],
          "surface": [
           {
            "colorbar": {
             "outlinewidth": 0,
             "ticks": ""
            },
            "colorscale": [
             [
              0,
              "#0d0887"
             ],
             [
              0.1111111111111111,
              "#46039f"
             ],
             [
              0.2222222222222222,
              "#7201a8"
             ],
             [
              0.3333333333333333,
              "#9c179e"
             ],
             [
              0.4444444444444444,
              "#bd3786"
             ],
             [
              0.5555555555555556,
              "#d8576b"
             ],
             [
              0.6666666666666666,
              "#ed7953"
             ],
             [
              0.7777777777777778,
              "#fb9f3a"
             ],
             [
              0.8888888888888888,
              "#fdca26"
             ],
             [
              1,
              "#f0f921"
             ]
            ],
            "type": "surface"
           }
          ],
          "table": [
           {
            "cells": {
             "fill": {
              "color": "#EBF0F8"
             },
             "line": {
              "color": "white"
             }
            },
            "header": {
             "fill": {
              "color": "#C8D4E3"
             },
             "line": {
              "color": "white"
             }
            },
            "type": "table"
           }
          ]
         },
         "layout": {
          "annotationdefaults": {
           "arrowcolor": "#2a3f5f",
           "arrowhead": 0,
           "arrowwidth": 1
          },
          "autotypenumbers": "strict",
          "coloraxis": {
           "colorbar": {
            "outlinewidth": 0,
            "ticks": ""
           }
          },
          "colorscale": {
           "diverging": [
            [
             0,
             "#8e0152"
            ],
            [
             0.1,
             "#c51b7d"
            ],
            [
             0.2,
             "#de77ae"
            ],
            [
             0.3,
             "#f1b6da"
            ],
            [
             0.4,
             "#fde0ef"
            ],
            [
             0.5,
             "#f7f7f7"
            ],
            [
             0.6,
             "#e6f5d0"
            ],
            [
             0.7,
             "#b8e186"
            ],
            [
             0.8,
             "#7fbc41"
            ],
            [
             0.9,
             "#4d9221"
            ],
            [
             1,
             "#276419"
            ]
           ],
           "sequential": [
            [
             0,
             "#0d0887"
            ],
            [
             0.1111111111111111,
             "#46039f"
            ],
            [
             0.2222222222222222,
             "#7201a8"
            ],
            [
             0.3333333333333333,
             "#9c179e"
            ],
            [
             0.4444444444444444,
             "#bd3786"
            ],
            [
             0.5555555555555556,
             "#d8576b"
            ],
            [
             0.6666666666666666,
             "#ed7953"
            ],
            [
             0.7777777777777778,
             "#fb9f3a"
            ],
            [
             0.8888888888888888,
             "#fdca26"
            ],
            [
             1,
             "#f0f921"
            ]
           ],
           "sequentialminus": [
            [
             0,
             "#0d0887"
            ],
            [
             0.1111111111111111,
             "#46039f"
            ],
            [
             0.2222222222222222,
             "#7201a8"
            ],
            [
             0.3333333333333333,
             "#9c179e"
            ],
            [
             0.4444444444444444,
             "#bd3786"
            ],
            [
             0.5555555555555556,
             "#d8576b"
            ],
            [
             0.6666666666666666,
             "#ed7953"
            ],
            [
             0.7777777777777778,
             "#fb9f3a"
            ],
            [
             0.8888888888888888,
             "#fdca26"
            ],
            [
             1,
             "#f0f921"
            ]
           ]
          },
          "colorway": [
           "#636efa",
           "#EF553B",
           "#00cc96",
           "#ab63fa",
           "#FFA15A",
           "#19d3f3",
           "#FF6692",
           "#B6E880",
           "#FF97FF",
           "#FECB52"
          ],
          "font": {
           "color": "#2a3f5f"
          },
          "geo": {
           "bgcolor": "white",
           "lakecolor": "white",
           "landcolor": "#E5ECF6",
           "showlakes": true,
           "showland": true,
           "subunitcolor": "white"
          },
          "hoverlabel": {
           "align": "left"
          },
          "hovermode": "closest",
          "mapbox": {
           "style": "light"
          },
          "paper_bgcolor": "white",
          "plot_bgcolor": "#E5ECF6",
          "polar": {
           "angularaxis": {
            "gridcolor": "white",
            "linecolor": "white",
            "ticks": ""
           },
           "bgcolor": "#E5ECF6",
           "radialaxis": {
            "gridcolor": "white",
            "linecolor": "white",
            "ticks": ""
           }
          },
          "scene": {
           "xaxis": {
            "backgroundcolor": "#E5ECF6",
            "gridcolor": "white",
            "gridwidth": 2,
            "linecolor": "white",
            "showbackground": true,
            "ticks": "",
            "zerolinecolor": "white"
           },
           "yaxis": {
            "backgroundcolor": "#E5ECF6",
            "gridcolor": "white",
            "gridwidth": 2,
            "linecolor": "white",
            "showbackground": true,
            "ticks": "",
            "zerolinecolor": "white"
           },
           "zaxis": {
            "backgroundcolor": "#E5ECF6",
            "gridcolor": "white",
            "gridwidth": 2,
            "linecolor": "white",
            "showbackground": true,
            "ticks": "",
            "zerolinecolor": "white"
           }
          },
          "shapedefaults": {
           "line": {
            "color": "#2a3f5f"
           }
          },
          "ternary": {
           "aaxis": {
            "gridcolor": "white",
            "linecolor": "white",
            "ticks": ""
           },
           "baxis": {
            "gridcolor": "white",
            "linecolor": "white",
            "ticks": ""
           },
           "bgcolor": "#E5ECF6",
           "caxis": {
            "gridcolor": "white",
            "linecolor": "white",
            "ticks": ""
           }
          },
          "title": {
           "x": 0.05
          },
          "xaxis": {
           "automargin": true,
           "gridcolor": "white",
           "linecolor": "white",
           "ticks": "",
           "title": {
            "standoff": 15
           },
           "zerolinecolor": "white",
           "zerolinewidth": 2
          },
          "yaxis": {
           "automargin": true,
           "gridcolor": "white",
           "linecolor": "white",
           "ticks": "",
           "title": {
            "standoff": 15
           },
           "zerolinecolor": "white",
           "zerolinewidth": 2
          }
         }
        },
        "title": {
         "text": "Test data"
        },
        "width": 500,
        "xaxis": {
         "anchor": "y",
         "domain": [
          0,
          1
         ],
         "title": {
          "text": "True_Value"
         }
        },
        "yaxis": {
         "anchor": "x",
         "domain": [
          0,
          1
         ],
         "title": {
          "text": "Predict_Value"
         }
        }
       }
      }
     },
     "metadata": {},
     "output_type": "display_data"
    },
    {
     "name": "stdout",
     "output_type": "stream",
     "text": [
      "    True_Value  Predict_Value\n",
      "0       100.90      75.981856\n",
      "1        52.90      71.235530\n",
      "2        53.59      79.274514\n",
      "3        83.13     100.841554\n",
      "4        81.30      95.083661\n",
      "5        82.90      95.083661\n",
      "6       102.70     121.720457\n",
      "7       138.60     117.868852\n",
      "8       140.40     116.580491\n",
      "9       128.20     151.145921\n",
      "10      192.60     145.271180\n",
      "11      197.60     147.081919\n",
      "12      158.00     166.904403\n",
      "13      197.10     160.018094\n",
      "14      202.60     163.378383\n",
      "15      169.90     183.360052\n",
      "16      231.70     175.462175\n",
      "17      238.70     180.372014\n",
      "18      185.67     204.275561\n",
      "19      227.20     191.863715\n",
      "20      225.80     198.062811\n",
      "21      211.30     221.650400\n",
      "22      296.00     208.226986\n",
      "23      303.90     220.600438\n",
      "24      234.50     239.722405\n",
      "25      225.00     225.287424\n",
      "26      230.70     239.137326\n",
      "27      250.80     258.491577\n",
      "28      247.00     255.318204\n",
      "29      256.10     291.316199\n",
      "30      283.80     278.302604\n",
      "31      248.50     262.692684\n",
      "32      289.90     295.437048\n",
      "33      323.40     342.279270\n",
      "34      302.76     323.634647\n",
      "35      385.20     360.098110\n",
      "36      369.10     364.999159\n",
      "37      339.10     345.342968\n",
      "38      378.40     383.046131\n",
      "39      363.60     388.416215\n",
      "40      344.90     367.748456\n",
      "41      423.50     406.691319\n",
      "42      549.80     488.976121\n",
      "43      463.60     457.023310\n",
      "44      619.20     605.530526\n",
      "Residual sum of squares for train (MSE): 862.95\n",
      "R2-score for train: 0.95\n",
      "Residual sum of squares for test (MSE): 986.19\n",
      "R2-score for test: 0.93\n",
      "Coefficent shape: (1, 21)\n"
     ]
    },
    {
     "data": {
      "text/plain": [
       "(array([ 70.20266059,  65.70922717,  66.40967729,  80.23041641,\n",
       "         91.41444436,  65.06150339,  72.39282885,  73.98578278,\n",
       "         80.23041641,  68.97728485,  81.93534286,  76.93612547,\n",
       "         76.62500766,  91.4879553 , 102.12374089,  78.81887905,\n",
       "         88.48638919,  84.7375377 ,  91.4879553 ,  88.87998562,\n",
       "         94.36519184,  88.86019048,  87.53750475, 103.44266091,\n",
       "        113.53020414,  93.27342142, 105.27711625,  96.18645934,\n",
       "        103.44266091, 101.74818071, 107.49220754, 101.48142222,\n",
       "         99.14716856, 116.09453324, 125.63383412, 108.42513052,\n",
       "        122.76501003, 108.33254771, 116.09453324, 115.31354251,\n",
       "        114.79982068, 111.45399909, 121.02460013, 121.31638997,\n",
       "        121.17580279, 128.14624569, 113.74394031, 125.78904672,\n",
       "        121.17580279, 129.44357228, 128.81538586, 124.45799634,\n",
       "        133.01702945, 135.83773911, 134.71622459, 141.13842513,\n",
       "        129.78419888, 144.16548997, 134.71622459, 143.48977805,\n",
       "        143.52811776, 138.1591603 , 145.70662549, 151.05625497,\n",
       "        148.95381311, 154.8277713 , 146.52162417, 163.23909994,\n",
       "        148.95381311, 158.23315054, 158.93801638, 152.55749099,\n",
       "        159.09338825, 166.97193756, 163.88856836, 169.21428419,\n",
       "        163.95621618, 183.00987664, 163.88856836, 173.67368975,\n",
       "        175.04508171, 167.6529884 , 173.17731773, 183.58478686,\n",
       "        179.52049032, 184.29796379, 182.08797491, 203.47782005,\n",
       "        179.52049032, 189.81139567, 191.84931377, 183.44565253,\n",
       "        187.95841392, 200.89480288, 195.849579  , 200.07881012,\n",
       "        200.91690036, 224.64293018, 195.849579  , 206.64626832,\n",
       "        212.8758344 , 199.95820481, 199.95699786, 224.17830769,\n",
       "        216.55682316, 222.67660932, 209.35071255, 228.11427039,\n",
       "        258.96051107, 199.59796232, 230.59925652, 216.670059  ,\n",
       "        215.65728412, 242.40751377, 233.73200293, 238.75530438,\n",
       "        227.54927804, 247.86238591, 281.04481127, 215.76157416,\n",
       "        249.01984536, 234.07907991, 232.0547371 , 261.33388658,\n",
       "        251.60434941, 255.53116615, 246.44501026, 268.30766814,\n",
       "        303.82627819, 232.62235271, 250.18029799, 243.10315599,\n",
       "        248.94243664, 270.17386261, 244.92816751, 275.22543542,\n",
       "        265.47079023, 268.24984684, 302.36275621, 249.37917073,\n",
       "        288.52965223, 272.41394882, 269.21466806, 317.56177827,\n",
       "        291.74908937, 293.31227138, 286.29883797, 268.43540998,\n",
       "        324.97874628, 267.55092347, 309.50662433, 292.379353  ,\n",
       "        288.1685043 , 339.55031831, 311.62957677, 312.09627406,\n",
       "        307.82405244, 287.38768869, 348.29190307, 286.41984293,\n",
       "        331.18076316, 313.04192389, 307.81950727, 362.23602506,\n",
       "        332.20723088, 394.77902765, 330.04643362, 497.17760671,\n",
       "        372.30222657, 348.88553736, 353.5520687 , 334.40166151,\n",
       "        328.16767695, 362.80585391, 353.48205171, 417.29354846,\n",
       "        352.96598152, 526.55746631, 397.0097168 , 371.48497495,\n",
       "        376.62054097, 356.45856585, 349.21301336, 409.69893873,\n",
       "        375.45403927, 440.50523598, 376.58269614, 556.63449262,\n",
       "        422.41437375, 394.78157926, 418.77535028, 393.17385181,\n",
       "        380.48877597, 457.29327139, 417.81370661, 601.80482726,\n",
       "        418.08073881, 561.22412818, 368.86718798, 530.1348132 ,\n",
       "        443.46628803, 416.85322162, 403.15657786, 482.99577707,\n",
       "        441.40815964, 628.97516494, 443.86816127, 590.58743529,\n",
       "        794.55185364, 557.39006767]),\n",
       " array([ 75.98185588,  71.23553048,  79.2745144 , 100.84155385,\n",
       "         95.08366051,  95.08366051, 121.72045743, 117.86885187,\n",
       "        116.58049073, 151.14592123, 145.27117981, 147.0819187 ,\n",
       "        166.9044032 , 160.01809386, 163.37838276, 183.3600519 ,\n",
       "        175.46217462, 180.37201355, 204.27556086, 191.86371524,\n",
       "        198.06281105, 221.65039962, 208.22698607, 220.60043777,\n",
       "        239.7224051 , 225.28742362, 239.13732636, 258.4915773 ,\n",
       "        255.31820388, 291.31619869, 278.30260369, 262.69268425,\n",
       "        295.4370478 , 342.27927009, 323.63464686, 360.09811032,\n",
       "        364.999159  , 345.34296784, 383.04613126, 388.41621462,\n",
       "        367.74845553, 406.69131893, 488.97612052, 457.02331002,\n",
       "        605.53052637]))"
      ]
     },
     "execution_count": 51,
     "metadata": {},
     "output_type": "execute_result"
    }
   ],
   "source": [
    "# All parameters\n",
    "polyEstimate(x_train_stress, ym_train_stress.Sm, x_test_stress, ym_test_stress.Sm, print_test=1)"
   ]
  },
  {
   "cell_type": "markdown",
   "metadata": {},
   "source": [
    "<h2 style=\"color:cyan\">Polynomial Regression Model - All inputs - Side stress</h2>"
   ]
  },
  {
   "cell_type": "code",
   "execution_count": 52,
   "metadata": {},
   "outputs": [
    {
     "data": {
      "application/vnd.plotly.v1+json": {
       "config": {
        "plotlyServerURL": "https://plot.ly"
       },
       "data": [
        {
         "hovertemplate": "True_Value=%{x}<br>Predict_Value=%{y}<extra></extra>",
         "legendgroup": "",
         "marker": {
          "color": "#636efa",
          "symbol": "circle"
         },
         "mode": "markers",
         "name": "",
         "orientation": "v",
         "showlegend": false,
         "type": "scatter",
         "x": [
          103.3,
          105.3,
          108.7,
          86.5,
          73.1,
          128.2,
          148.6,
          88.9,
          86.5,
          106.5,
          122.9,
          125.4,
          128.2,
          100.9,
          86.3,
          150.4,
          179.4,
          103.8,
          100.9,
          115.1,
          140.6,
          145.8,
          150.1,
          114.8,
          96.7,
          177,
          211,
          119.3,
          114.8,
          130.2,
          151.3,
          158.4,
          163.5,
          123.8,
          105.3,
          200.9,
          243.4,
          130.5,
          123.8,
          139.5,
          168.3,
          173.3,
          177.2,
          161.2,
          140.5,
          121,
          226.2,
          274.6,
          140.5,
          133.9,
          197.3,
          202.2,
          207.9,
          186.1,
          160,
          135.3,
          264.6,
          326.9,
          160,
          150.6,
          217.2,
          226.3,
          230.8,
          205.1,
          178.8,
          151.4,
          296,
          363.9,
          178.8,
          167.1,
          231.9,
          244.2,
          250.7,
          219.6,
          191.2,
          172.4,
          323.3,
          403.6,
          385.6,
          190.5,
          266.7,
          281.6,
          289.5,
          262.6,
          236.9,
          215.8,
          371.8,
          462.8,
          236.9,
          239.5,
          292.7,
          310.1,
          313.5,
          295.9,
          268.5,
          244.4,
          380.5,
          479.9,
          268.5,
          271.2,
          300.3,
          296.2,
          292.7,
          303.3,
          274.8,
          244.2,
          325.7,
          356,
          450.1,
          271.1,
          304.2,
          301.4,
          305.4,
          306.4,
          282.7,
          256.3,
          355.7,
          394.2,
          495.4,
          279.3,
          339.4,
          336.1,
          332.2,
          341.8,
          316.2,
          287.5,
          380.3,
          402.9,
          516.4,
          312.6,
          343.6,
          339.3,
          335.4,
          347.5,
          312,
          297.3,
          467.9,
          402.3,
          512.7,
          334.6,
          411.1,
          423.2,
          428.2,
          396.9,
          352,
          328.2,
          480.7,
          376.9,
          537.7,
          349.6,
          446.2,
          450.4,
          455,
          450.3,
          395.1,
          363.9,
          527,
          456.3,
          575,
          392.6,
          484.6,
          492.3,
          498.6,
          489.8,
          430.9,
          432.1,
          564.2,
          838.1,
          629.3,
          523.7,
          516.1,
          530.7,
          542.5,
          508,
          455.8,
          454.6,
          604.1,
          884,
          663.7,
          552.1,
          554.3,
          552.8,
          556.1,
          559.2,
          502.1,
          483.5,
          656.6,
          946.1,
          703.1,
          587.5,
          619.5,
          629.3,
          634.5,
          595.8,
          532.3,
          651.1,
          757.8,
          833.1,
          555,
          735.4,
          653.4,
          665.9,
          671.7,
          626.8,
          557.5,
          691.1,
          807.4,
          887.5,
          1055.2,
          777
         ],
         "xaxis": "x",
         "y": [
          96.64306497421197,
          102.00137356420878,
          108.23075764421125,
          77.20114285223602,
          67.55884668531658,
          125.49192471597286,
          159.98329626435637,
          83.43193976435566,
          77.20114285223602,
          105.00628344999407,
          115.00835890833353,
          120.1029301463793,
          125.80483952247971,
          93.23848085118792,
          80.91008168214967,
          148.58585735993523,
          188.53335049659663,
          99.20554041135654,
          93.23848085118792,
          109.38317283654811,
          134.42678808404423,
          139.25762197013896,
          144.4320566423373,
          110.32895409172895,
          95.31445192057183,
          172.73292524548674,
          218.136539970426,
          116.03227629994655,
          110.32895409172895,
          129.03017438394969,
          154.89835250134416,
          159.4654490354879,
          164.11240900378417,
          128.47256257385922,
          110.77195740058329,
          197.93312837262752,
          248.79286468584473,
          133.9121474301258,
          128.47256257385922,
          149.7303111729405,
          180.7264113424259,
          184.8458966068201,
          182.98240440455942,
          176.42305216023323,
          152.84515380189416,
          133.46516292125645,
          232.1234091158482,
          292.63186300845643,
          152.84515380189416,
          147.66930629757866,
          203.04050889095316,
          206.63251945144532,
          204.24155254528256,
          199.00088706071156,
          172.83129541525184,
          150.7652015324953,
          259.1661453742162,
          325.13072085510237,
          172.83129541525184,
          167.9191852628873,
          226.40774168106964,
          229.47227753765975,
          226.55383592759492,
          222.63185720277906,
          193.8705722701986,
          169.11837538532325,
          287.2620168741736,
          358.6827139433376,
          193.8705722701986,
          189.22219946978515,
          250.8281097127752,
          253.3651708654632,
          249.91925455149635,
          247.3159625864356,
          215.9629843667345,
          188.52468447974024,
          316.41102361571984,
          393.2878422731618,
          215.9629843667345,
          211.57834891827207,
          276.30161298607004,
          278.31119943485595,
          274.33780841698706,
          273.0532032116815,
          239.1085317048597,
          208.9841288157466,
          346.61316559885563,
          428.94610584457536,
          239.1085317048597,
          234.9876336083483,
          302.82825150095397,
          304.31036324583783,
          299.80949752406684,
          299.8435790785164,
          263.30721428457394,
          230.49670839334203,
          377.8684428235803,
          465.65750465757793,
          263.30721428457394,
          259.4500535400136,
          288.55903210587746,
          291.258645791105,
          287.9752820096776,
          284.9656087132682,
          253.0624232125267,
          223.18214045157185,
          330.40802525742714,
          357.4197628899241,
          438.0786779486373,
          257.7754714872684,
          314.86398516877017,
          317.0361241500956,
          313.2252856647661,
          311.53429912811185,
          276.6812732733006,
          241.42878450810798,
          359.0409342554895,
          388.4533546626576,
          474.56839130964863,
          280.86684684414024,
          342.2220734732521,
          343.8667377506755,
          339.5284245614439,
          339.15612478454483,
          301.35325857566363,
          260.72856380623347,
          388.72697849514105,
          420.5400816769803,
          512.1112399122493,
          305.01135744260125,
          330.2090032826513,
          327.35664997903194,
          318.52131920875763,
          327.07837911961576,
          288.2389716880118,
          328.46865827472186,
          462.06429989100957,
          407.93654821725426,
          498.82640268045566,
          349.23566215549556,
          438.9159680087346,
          442.8033063858094,
          440.7076672962291,
          429.04565216500475,
          366.4011936827329,
          348.70366605772665,
          495.7298226846087,
          356.4597843642907,
          535.2619440602138,
          374.3154012388362,
          470.94852304180387,
          474.30838671497656,
          471.6852729214943,
          461.6056819019763,
          393.0615427115645,
          369.9918090823205,
          530.4484807197969,
          383.7637006875192,
          572.7506206815609,
          400.4482755637657,
          504.03421331646246,
          506.86660228573317,
          503.71601378834885,
          495.21884688053694,
          420.77502698198543,
          441.5008372062514,
          566.2202739965742,
          829.6795964407639,
          611.2924325444975,
          514.2324616554022,
          538.1730388327101,
          540.4779530980787,
          536.7998898967924,
          536.0751835294416,
          449.5416464939954,
          470.35137230230146,
          603.0452025149407,
          880.1867867218454,
          650.887379649023,
          547.9277280517881,
          573.364999590547,
          575.1424391520135,
          570.9369012468252,
          565.6045825624255,
          479.3614012475946,
          500.2550426399408,
          640.9232662748964,
          931.7471122445158,
          691.5354619951377,
          582.6761296897628,
          618.4776665693271,
          626.1567151214914,
          627.8527862070009,
          604.8156405505079,
          548.9007434170172,
          627.7639362452271,
          742.8718364226324,
          828.2814745894265,
          515.5111252793758,
          729.0903837624746,
          655.3323386904804,
          662.4839125387427,
          663.6525089203503,
          642.1977873755633,
          580.3832095339329,
          664.7864395344611,
          785.0987145480235,
          876.0483898871353,
          1101.925408337386,
          770.957618352044
         ],
         "yaxis": "y"
        },
        {
         "hovertemplate": "<b>OLS trendline</b><br>Predict_Value = 0.991143 * True_Value + 3.08306<br>R<sup>2</sup>=0.991143<br><br>True_Value=%{x}<br>Predict_Value=%{y} <b>(trend)</b><extra></extra>",
         "legendgroup": "",
         "marker": {
          "color": "#636efa",
          "symbol": "circle"
         },
         "mode": "lines",
         "name": "",
         "showlegend": false,
         "type": "scatter",
         "x": [
          73.1,
          86.3,
          86.5,
          86.5,
          88.9,
          96.7,
          100.9,
          100.9,
          103.3,
          103.8,
          105.3,
          105.3,
          106.5,
          108.7,
          114.8,
          114.8,
          115.1,
          119.3,
          121,
          122.9,
          123.8,
          123.8,
          125.4,
          128.2,
          128.2,
          130.2,
          130.5,
          133.9,
          135.3,
          139.5,
          140.5,
          140.5,
          140.6,
          145.8,
          148.6,
          150.1,
          150.4,
          150.6,
          151.3,
          151.4,
          158.4,
          160,
          160,
          161.2,
          163.5,
          167.1,
          168.3,
          172.4,
          173.3,
          177,
          177.2,
          178.8,
          178.8,
          179.4,
          186.1,
          190.5,
          191.2,
          197.3,
          200.9,
          202.2,
          205.1,
          207.9,
          211,
          215.8,
          217.2,
          219.6,
          226.2,
          226.3,
          230.8,
          231.9,
          236.9,
          236.9,
          239.5,
          243.4,
          244.2,
          244.2,
          244.4,
          250.7,
          256.3,
          262.6,
          264.6,
          266.7,
          268.5,
          268.5,
          271.1,
          271.2,
          274.6,
          274.8,
          279.3,
          281.6,
          282.7,
          287.5,
          289.5,
          292.7,
          292.7,
          295.9,
          296,
          296.2,
          297.3,
          300.3,
          301.4,
          303.3,
          304.2,
          305.4,
          306.4,
          310.1,
          312,
          312.6,
          313.5,
          316.2,
          323.3,
          325.7,
          326.9,
          328.2,
          332.2,
          334.6,
          335.4,
          336.1,
          339.3,
          339.4,
          341.8,
          343.6,
          347.5,
          349.6,
          352,
          355.7,
          356,
          363.9,
          363.9,
          371.8,
          376.9,
          380.3,
          380.5,
          385.6,
          392.6,
          394.2,
          395.1,
          396.9,
          402.3,
          402.9,
          403.6,
          411.1,
          423.2,
          428.2,
          430.9,
          432.1,
          446.2,
          450.1,
          450.3,
          450.4,
          454.6,
          455,
          455.8,
          456.3,
          462.8,
          467.9,
          479.9,
          480.7,
          483.5,
          484.6,
          489.8,
          492.3,
          495.4,
          498.6,
          502.1,
          508,
          512.7,
          516.1,
          516.4,
          523.7,
          527,
          530.7,
          532.3,
          537.7,
          542.5,
          552.1,
          552.8,
          554.3,
          555,
          556.1,
          557.5,
          559.2,
          564.2,
          575,
          587.5,
          595.8,
          604.1,
          619.5,
          626.8,
          629.3,
          629.3,
          634.5,
          651.1,
          653.4,
          656.6,
          663.7,
          665.9,
          671.7,
          691.1,
          703.1,
          735.4,
          757.8,
          777,
          807.4,
          833.1,
          838.1,
          884,
          887.5,
          946.1,
          1055.2
         ],
         "xaxis": "x",
         "y": [
          75.53560223764718,
          88.61868806657182,
          88.81691663973734,
          88.81691663973734,
          91.19565951772366,
          98.92657387117912,
          103.08937390765513,
          103.08937390765513,
          105.46811678564141,
          105.96368821855523,
          107.45040251729667,
          107.45040251729667,
          108.63977395628982,
          110.82028826111059,
          116.86625974265908,
          116.86625974265908,
          117.16360260240737,
          121.3264026388834,
          123.01134551079035,
          124.89451695586284,
          125.78654553510769,
          125.78654553510769,
          127.3723741204319,
          130.14757414474923,
          130.14757414474923,
          132.12985987640448,
          132.42720273615276,
          135.7970884799667,
          137.1846884921254,
          141.3474885286014,
          142.338631394429,
          142.338631394429,
          142.43774568101176,
          147.59168858331543,
          150.36688860763275,
          151.8536029063742,
          152.1509457661225,
          152.349174339288,
          153.04297434536736,
          153.14208863195012,
          160.0800886927435,
          161.66591727806767,
          161.66591727806767,
          162.8552887170608,
          165.13491730846437,
          168.7030316254438,
          169.89240306443696,
          173.9560888143302,
          174.84811739357508,
          178.51534599713727,
          178.7135745703028,
          180.299403155627,
          180.299403155627,
          180.89408887512357,
          187.53474607616863,
          191.89577468581018,
          192.5895746918895,
          198.63554617343803,
          202.20366049041746,
          203.49214621599336,
          206.3664605268935,
          209.14166055121083,
          212.21420343527646,
          216.97168919124908,
          218.3592892034077,
          220.738032081394,
          227.27957499585634,
          227.37868928243913,
          231.8388321786634,
          232.9290893310738,
          237.88480366021193,
          237.88480366021193,
          240.46177511136372,
          244.32723228809147,
          245.12014658075356,
          245.12014658075356,
          245.3183751539191,
          251.56257520863312,
          257.11297525726786,
          263.35717531198185,
          265.33946104363713,
          267.4208610618751,
          269.2049182203648,
          269.2049182203648,
          271.78188967151664,
          271.88100395809937,
          275.25088970191337,
          275.44911827507883,
          279.90926117130317,
          282.1888897627067,
          283.27914691511705,
          288.03663267108965,
          290.01891840274493,
          293.1905755733933,
          293.1905755733933,
          296.36223274404165,
          296.46134703062444,
          296.65957560378996,
          297.74983275620036,
          300.72326135368326,
          301.8135185060936,
          303.69668995116615,
          304.588718530411,
          305.7780899694041,
          306.7692328352317,
          310.43646143879397,
          312.31963288386646,
          312.91431860336303,
          313.80634718260785,
          316.48243292034243,
          323.51954726771856,
          325.8982901457049,
          327.087661584698,
          328.37614731027395,
          332.3407187735844,
          334.7194616515707,
          335.5123759442328,
          336.2061759503122,
          339.3778331209606,
          339.4769474075433,
          341.85569028552965,
          343.63974744401935,
          347.50520462074707,
          349.5866046389851,
          351.96534751697135,
          355.63257612053354,
          355.92991898028185,
          363.7599476203201,
          363.7599476203201,
          371.58997626035836,
          376.64480487607915,
          380.01469061989314,
          380.21291919305867,
          385.2677478087795,
          392.2057478695729,
          393.7915764548971,
          394.683605034142,
          396.4676621926316,
          401.81983366810084,
          402.4145193875974,
          403.10831939367677,
          410.54189088738394,
          422.53471956389814,
          427.49043389303625,
          430.16651963077084,
          431.355891069764,
          445.3310054779335,
          449.1964626546613,
          449.3946912278268,
          449.4938055144095,
          453.65660555088556,
          454.0530626972166,
          454.8459769898787,
          455.3415484227925,
          461.78397705067204,
          466.8388056663929,
          478.7325200563244,
          479.5254343489865,
          482.30063437330386,
          483.39089152571427,
          488.5448344280179,
          491.02269159258697,
          494.09523447665254,
          497.266891647301,
          500.7358916776977,
          506.5836345860806,
          511.2420060554705,
          514.6118917992844,
          514.9092346590327,
          522.1445775795744,
          525.4153490368054,
          529.0825776403677,
          530.6684062256918,
          536.0205777011611,
          540.7780634571336,
          550.2930349690788,
          550.9868349751581,
          552.4735492738996,
          553.1673492799789,
          554.2576064323894,
          555.645206444548,
          557.330149316455,
          562.2858636455932,
          572.9902065965314,
          585.3794924193767,
          593.6059782057459,
          601.8324639921153,
          617.0960641258606,
          624.3314070464022,
          626.8092642109713,
          626.8092642109713,
          631.963207113275,
          648.4161786860136,
          650.6958072774171,
          653.8674644480654,
          660.9045787954417,
          663.0850931002624,
          668.8337217220626,
          688.0618933191186,
          699.95560770905,
          731.9695222752822,
          754.171122469821,
          773.2010654937113,
          803.3318086148711,
          828.8041802666411,
          833.7598945957792,
          879.253352137267,
          882.7223521676638,
          940.8033241051625,
          1048.9370107669563
         ],
         "yaxis": "y"
        }
       ],
       "layout": {
        "height": 400,
        "legend": {
         "tracegroupgap": 0
        },
        "margin": {
         "b": 10,
         "l": 10,
         "r": 10,
         "t": 20
        },
        "template": {
         "data": {
          "bar": [
           {
            "error_x": {
             "color": "#2a3f5f"
            },
            "error_y": {
             "color": "#2a3f5f"
            },
            "marker": {
             "line": {
              "color": "#E5ECF6",
              "width": 0.5
             }
            },
            "type": "bar"
           }
          ],
          "barpolar": [
           {
            "marker": {
             "line": {
              "color": "#E5ECF6",
              "width": 0.5
             }
            },
            "type": "barpolar"
           }
          ],
          "carpet": [
           {
            "aaxis": {
             "endlinecolor": "#2a3f5f",
             "gridcolor": "white",
             "linecolor": "white",
             "minorgridcolor": "white",
             "startlinecolor": "#2a3f5f"
            },
            "baxis": {
             "endlinecolor": "#2a3f5f",
             "gridcolor": "white",
             "linecolor": "white",
             "minorgridcolor": "white",
             "startlinecolor": "#2a3f5f"
            },
            "type": "carpet"
           }
          ],
          "choropleth": [
           {
            "colorbar": {
             "outlinewidth": 0,
             "ticks": ""
            },
            "type": "choropleth"
           }
          ],
          "contour": [
           {
            "colorbar": {
             "outlinewidth": 0,
             "ticks": ""
            },
            "colorscale": [
             [
              0,
              "#0d0887"
             ],
             [
              0.1111111111111111,
              "#46039f"
             ],
             [
              0.2222222222222222,
              "#7201a8"
             ],
             [
              0.3333333333333333,
              "#9c179e"
             ],
             [
              0.4444444444444444,
              "#bd3786"
             ],
             [
              0.5555555555555556,
              "#d8576b"
             ],
             [
              0.6666666666666666,
              "#ed7953"
             ],
             [
              0.7777777777777778,
              "#fb9f3a"
             ],
             [
              0.8888888888888888,
              "#fdca26"
             ],
             [
              1,
              "#f0f921"
             ]
            ],
            "type": "contour"
           }
          ],
          "contourcarpet": [
           {
            "colorbar": {
             "outlinewidth": 0,
             "ticks": ""
            },
            "type": "contourcarpet"
           }
          ],
          "heatmap": [
           {
            "colorbar": {
             "outlinewidth": 0,
             "ticks": ""
            },
            "colorscale": [
             [
              0,
              "#0d0887"
             ],
             [
              0.1111111111111111,
              "#46039f"
             ],
             [
              0.2222222222222222,
              "#7201a8"
             ],
             [
              0.3333333333333333,
              "#9c179e"
             ],
             [
              0.4444444444444444,
              "#bd3786"
             ],
             [
              0.5555555555555556,
              "#d8576b"
             ],
             [
              0.6666666666666666,
              "#ed7953"
             ],
             [
              0.7777777777777778,
              "#fb9f3a"
             ],
             [
              0.8888888888888888,
              "#fdca26"
             ],
             [
              1,
              "#f0f921"
             ]
            ],
            "type": "heatmap"
           }
          ],
          "heatmapgl": [
           {
            "colorbar": {
             "outlinewidth": 0,
             "ticks": ""
            },
            "colorscale": [
             [
              0,
              "#0d0887"
             ],
             [
              0.1111111111111111,
              "#46039f"
             ],
             [
              0.2222222222222222,
              "#7201a8"
             ],
             [
              0.3333333333333333,
              "#9c179e"
             ],
             [
              0.4444444444444444,
              "#bd3786"
             ],
             [
              0.5555555555555556,
              "#d8576b"
             ],
             [
              0.6666666666666666,
              "#ed7953"
             ],
             [
              0.7777777777777778,
              "#fb9f3a"
             ],
             [
              0.8888888888888888,
              "#fdca26"
             ],
             [
              1,
              "#f0f921"
             ]
            ],
            "type": "heatmapgl"
           }
          ],
          "histogram": [
           {
            "marker": {
             "colorbar": {
              "outlinewidth": 0,
              "ticks": ""
             }
            },
            "type": "histogram"
           }
          ],
          "histogram2d": [
           {
            "colorbar": {
             "outlinewidth": 0,
             "ticks": ""
            },
            "colorscale": [
             [
              0,
              "#0d0887"
             ],
             [
              0.1111111111111111,
              "#46039f"
             ],
             [
              0.2222222222222222,
              "#7201a8"
             ],
             [
              0.3333333333333333,
              "#9c179e"
             ],
             [
              0.4444444444444444,
              "#bd3786"
             ],
             [
              0.5555555555555556,
              "#d8576b"
             ],
             [
              0.6666666666666666,
              "#ed7953"
             ],
             [
              0.7777777777777778,
              "#fb9f3a"
             ],
             [
              0.8888888888888888,
              "#fdca26"
             ],
             [
              1,
              "#f0f921"
             ]
            ],
            "type": "histogram2d"
           }
          ],
          "histogram2dcontour": [
           {
            "colorbar": {
             "outlinewidth": 0,
             "ticks": ""
            },
            "colorscale": [
             [
              0,
              "#0d0887"
             ],
             [
              0.1111111111111111,
              "#46039f"
             ],
             [
              0.2222222222222222,
              "#7201a8"
             ],
             [
              0.3333333333333333,
              "#9c179e"
             ],
             [
              0.4444444444444444,
              "#bd3786"
             ],
             [
              0.5555555555555556,
              "#d8576b"
             ],
             [
              0.6666666666666666,
              "#ed7953"
             ],
             [
              0.7777777777777778,
              "#fb9f3a"
             ],
             [
              0.8888888888888888,
              "#fdca26"
             ],
             [
              1,
              "#f0f921"
             ]
            ],
            "type": "histogram2dcontour"
           }
          ],
          "mesh3d": [
           {
            "colorbar": {
             "outlinewidth": 0,
             "ticks": ""
            },
            "type": "mesh3d"
           }
          ],
          "parcoords": [
           {
            "line": {
             "colorbar": {
              "outlinewidth": 0,
              "ticks": ""
             }
            },
            "type": "parcoords"
           }
          ],
          "pie": [
           {
            "automargin": true,
            "type": "pie"
           }
          ],
          "scatter": [
           {
            "marker": {
             "colorbar": {
              "outlinewidth": 0,
              "ticks": ""
             }
            },
            "type": "scatter"
           }
          ],
          "scatter3d": [
           {
            "line": {
             "colorbar": {
              "outlinewidth": 0,
              "ticks": ""
             }
            },
            "marker": {
             "colorbar": {
              "outlinewidth": 0,
              "ticks": ""
             }
            },
            "type": "scatter3d"
           }
          ],
          "scattercarpet": [
           {
            "marker": {
             "colorbar": {
              "outlinewidth": 0,
              "ticks": ""
             }
            },
            "type": "scattercarpet"
           }
          ],
          "scattergeo": [
           {
            "marker": {
             "colorbar": {
              "outlinewidth": 0,
              "ticks": ""
             }
            },
            "type": "scattergeo"
           }
          ],
          "scattergl": [
           {
            "marker": {
             "colorbar": {
              "outlinewidth": 0,
              "ticks": ""
             }
            },
            "type": "scattergl"
           }
          ],
          "scattermapbox": [
           {
            "marker": {
             "colorbar": {
              "outlinewidth": 0,
              "ticks": ""
             }
            },
            "type": "scattermapbox"
           }
          ],
          "scatterpolar": [
           {
            "marker": {
             "colorbar": {
              "outlinewidth": 0,
              "ticks": ""
             }
            },
            "type": "scatterpolar"
           }
          ],
          "scatterpolargl": [
           {
            "marker": {
             "colorbar": {
              "outlinewidth": 0,
              "ticks": ""
             }
            },
            "type": "scatterpolargl"
           }
          ],
          "scatterternary": [
           {
            "marker": {
             "colorbar": {
              "outlinewidth": 0,
              "ticks": ""
             }
            },
            "type": "scatterternary"
           }
          ],
          "surface": [
           {
            "colorbar": {
             "outlinewidth": 0,
             "ticks": ""
            },
            "colorscale": [
             [
              0,
              "#0d0887"
             ],
             [
              0.1111111111111111,
              "#46039f"
             ],
             [
              0.2222222222222222,
              "#7201a8"
             ],
             [
              0.3333333333333333,
              "#9c179e"
             ],
             [
              0.4444444444444444,
              "#bd3786"
             ],
             [
              0.5555555555555556,
              "#d8576b"
             ],
             [
              0.6666666666666666,
              "#ed7953"
             ],
             [
              0.7777777777777778,
              "#fb9f3a"
             ],
             [
              0.8888888888888888,
              "#fdca26"
             ],
             [
              1,
              "#f0f921"
             ]
            ],
            "type": "surface"
           }
          ],
          "table": [
           {
            "cells": {
             "fill": {
              "color": "#EBF0F8"
             },
             "line": {
              "color": "white"
             }
            },
            "header": {
             "fill": {
              "color": "#C8D4E3"
             },
             "line": {
              "color": "white"
             }
            },
            "type": "table"
           }
          ]
         },
         "layout": {
          "annotationdefaults": {
           "arrowcolor": "#2a3f5f",
           "arrowhead": 0,
           "arrowwidth": 1
          },
          "autotypenumbers": "strict",
          "coloraxis": {
           "colorbar": {
            "outlinewidth": 0,
            "ticks": ""
           }
          },
          "colorscale": {
           "diverging": [
            [
             0,
             "#8e0152"
            ],
            [
             0.1,
             "#c51b7d"
            ],
            [
             0.2,
             "#de77ae"
            ],
            [
             0.3,
             "#f1b6da"
            ],
            [
             0.4,
             "#fde0ef"
            ],
            [
             0.5,
             "#f7f7f7"
            ],
            [
             0.6,
             "#e6f5d0"
            ],
            [
             0.7,
             "#b8e186"
            ],
            [
             0.8,
             "#7fbc41"
            ],
            [
             0.9,
             "#4d9221"
            ],
            [
             1,
             "#276419"
            ]
           ],
           "sequential": [
            [
             0,
             "#0d0887"
            ],
            [
             0.1111111111111111,
             "#46039f"
            ],
            [
             0.2222222222222222,
             "#7201a8"
            ],
            [
             0.3333333333333333,
             "#9c179e"
            ],
            [
             0.4444444444444444,
             "#bd3786"
            ],
            [
             0.5555555555555556,
             "#d8576b"
            ],
            [
             0.6666666666666666,
             "#ed7953"
            ],
            [
             0.7777777777777778,
             "#fb9f3a"
            ],
            [
             0.8888888888888888,
             "#fdca26"
            ],
            [
             1,
             "#f0f921"
            ]
           ],
           "sequentialminus": [
            [
             0,
             "#0d0887"
            ],
            [
             0.1111111111111111,
             "#46039f"
            ],
            [
             0.2222222222222222,
             "#7201a8"
            ],
            [
             0.3333333333333333,
             "#9c179e"
            ],
            [
             0.4444444444444444,
             "#bd3786"
            ],
            [
             0.5555555555555556,
             "#d8576b"
            ],
            [
             0.6666666666666666,
             "#ed7953"
            ],
            [
             0.7777777777777778,
             "#fb9f3a"
            ],
            [
             0.8888888888888888,
             "#fdca26"
            ],
            [
             1,
             "#f0f921"
            ]
           ]
          },
          "colorway": [
           "#636efa",
           "#EF553B",
           "#00cc96",
           "#ab63fa",
           "#FFA15A",
           "#19d3f3",
           "#FF6692",
           "#B6E880",
           "#FF97FF",
           "#FECB52"
          ],
          "font": {
           "color": "#2a3f5f"
          },
          "geo": {
           "bgcolor": "white",
           "lakecolor": "white",
           "landcolor": "#E5ECF6",
           "showlakes": true,
           "showland": true,
           "subunitcolor": "white"
          },
          "hoverlabel": {
           "align": "left"
          },
          "hovermode": "closest",
          "mapbox": {
           "style": "light"
          },
          "paper_bgcolor": "white",
          "plot_bgcolor": "#E5ECF6",
          "polar": {
           "angularaxis": {
            "gridcolor": "white",
            "linecolor": "white",
            "ticks": ""
           },
           "bgcolor": "#E5ECF6",
           "radialaxis": {
            "gridcolor": "white",
            "linecolor": "white",
            "ticks": ""
           }
          },
          "scene": {
           "xaxis": {
            "backgroundcolor": "#E5ECF6",
            "gridcolor": "white",
            "gridwidth": 2,
            "linecolor": "white",
            "showbackground": true,
            "ticks": "",
            "zerolinecolor": "white"
           },
           "yaxis": {
            "backgroundcolor": "#E5ECF6",
            "gridcolor": "white",
            "gridwidth": 2,
            "linecolor": "white",
            "showbackground": true,
            "ticks": "",
            "zerolinecolor": "white"
           },
           "zaxis": {
            "backgroundcolor": "#E5ECF6",
            "gridcolor": "white",
            "gridwidth": 2,
            "linecolor": "white",
            "showbackground": true,
            "ticks": "",
            "zerolinecolor": "white"
           }
          },
          "shapedefaults": {
           "line": {
            "color": "#2a3f5f"
           }
          },
          "ternary": {
           "aaxis": {
            "gridcolor": "white",
            "linecolor": "white",
            "ticks": ""
           },
           "baxis": {
            "gridcolor": "white",
            "linecolor": "white",
            "ticks": ""
           },
           "bgcolor": "#E5ECF6",
           "caxis": {
            "gridcolor": "white",
            "linecolor": "white",
            "ticks": ""
           }
          },
          "title": {
           "x": 0.05
          },
          "xaxis": {
           "automargin": true,
           "gridcolor": "white",
           "linecolor": "white",
           "ticks": "",
           "title": {
            "standoff": 15
           },
           "zerolinecolor": "white",
           "zerolinewidth": 2
          },
          "yaxis": {
           "automargin": true,
           "gridcolor": "white",
           "linecolor": "white",
           "ticks": "",
           "title": {
            "standoff": 15
           },
           "zerolinecolor": "white",
           "zerolinewidth": 2
          }
         }
        },
        "title": {
         "text": "Train data"
        },
        "width": 500,
        "xaxis": {
         "anchor": "y",
         "domain": [
          0,
          1
         ],
         "title": {
          "text": "True_Value"
         }
        },
        "yaxis": {
         "anchor": "x",
         "domain": [
          0,
          1
         ],
         "title": {
          "text": "Predict_Value"
         }
        }
       }
      }
     },
     "metadata": {},
     "output_type": "display_data"
    },
    {
     "data": {
      "application/vnd.plotly.v1+json": {
       "config": {
        "plotlyServerURL": "https://plot.ly"
       },
       "data": [
        {
         "hovertemplate": "True_Value=%{x}<br>Predict_Value=%{y}<extra></extra>",
         "legendgroup": "",
         "marker": {
          "color": "#636efa",
          "symbol": "circle"
         },
         "mode": "markers",
         "name": "",
         "orientation": "v",
         "showlegend": false,
         "type": "scatter",
         "x": [
          111.1,
          114.5,
          94.25,
          140.85,
          147.1,
          122.8,
          184.4,
          189.5,
          210.4,
          232.9,
          244.2,
          275.5,
          253.2,
          267.4,
          304.2,
          270.5,
          290.5,
          326.2,
          255.7,
          264,
          369.8,
          288,
          285,
          331.5,
          358.6,
          353.9,
          360.3,
          394.1,
          465.1,
          501.8,
          392.6,
          403.3,
          430.9,
          513,
          511.4,
          533.7,
          532.7,
          546.3,
          579.3,
          569,
          578.5,
          604.7,
          804.5,
          826.1,
          918.4
         ],
         "xaxis": "x",
         "y": [
          105.6940700360741,
          110.92050995009537,
          91.18709818265744,
          144.53092838749555,
          149.22989359761476,
          149.22989359761476,
          191.7518182114909,
          195.60756612393405,
          218.42769152458146,
          238.48628379172374,
          241.2870822963628,
          268.9085732463525,
          263.43321944422394,
          265.706543244961,
          295.72871696962176,
          289.4332903383134,
          291.1791394351483,
          323.6019959344803,
          275.801481290027,
          278.7648323272055,
          352.528410140928,
          301.57986673212514,
          304.0157430654016,
          335.09546542050657,
          328.4113874158124,
          330.3197890451868,
          363.44204710801375,
          356.29604334108893,
          445.6264642098061,
          481.0035577061725,
          423.29461620779585,
          427.4456919368217,
          434.6017623463901,
          520.9719841693875,
          523.5406357867072,
          530.9484529483964,
          555.6373773064298,
          557.6785542198473,
          565.1702869655767,
          591.3559056850614,
          592.8696078945768,
          600.4452562243464,
          797.7631345423771,
          806.607079326315,
          900.326773251586
         ],
         "yaxis": "y"
        },
        {
         "hovertemplate": "<b>OLS trendline</b><br>Predict_Value = 0.981261 * True_Value + 8.40198<br>R<sup>2</sup>=0.993563<br><br>True_Value=%{x}<br>Predict_Value=%{y} <b>(trend)</b><extra></extra>",
         "legendgroup": "",
         "marker": {
          "color": "#636efa",
          "symbol": "circle"
         },
         "mode": "lines",
         "name": "",
         "showlegend": false,
         "type": "scatter",
         "x": [
          94.25,
          111.1,
          114.5,
          122.8,
          140.85,
          147.1,
          184.4,
          189.5,
          210.4,
          232.9,
          244.2,
          253.2,
          255.7,
          264,
          267.4,
          270.5,
          275.5,
          285,
          288,
          290.5,
          304.2,
          326.2,
          331.5,
          353.9,
          358.6,
          360.3,
          369.8,
          392.6,
          394.1,
          403.3,
          430.9,
          465.1,
          501.8,
          511.4,
          513,
          532.7,
          533.7,
          546.3,
          569,
          578.5,
          579.3,
          604.7,
          804.5,
          826.1,
          918.4
         ],
         "xaxis": "x",
         "y": [
          100.88587087783515,
          117.42012634302586,
          120.75641527962222,
          128.90088533072506,
          146.6126545382439,
          152.74553861286955,
          189.3465907702354,
          194.3510241751299,
          214.85938852067804,
          236.93777118933036,
          248.0260255962535,
          256.8573786637144,
          259.3105322935647,
          267.45500234466755,
          270.7912912812639,
          273.83320178227825,
          278.73950904197875,
          288.06149283540975,
          291.00527719123005,
          293.4584308210803,
          306.9017127126597,
          328.4894646553419,
          333.6901503506245,
          355.6704068740828,
          360.2823356982013,
          361.95048016649946,
          371.27246395993046,
          393.6452250641648,
          395.1171172420749,
          404.14472259992385,
          431.2275386734707,
          464.7866803298222,
          500.798975616024,
          510.2190855546489,
          511.7891038777531,
          531.1199544809731,
          532.1012159329132,
          544.4651102273584,
          566.7397451863989,
          576.0617289798298,
          576.8467381413818,
          601.7707790206605,
          797.826817118293,
          819.0220644801992,
          909.5924964942707
         ],
         "yaxis": "y"
        }
       ],
       "layout": {
        "height": 400,
        "legend": {
         "tracegroupgap": 0
        },
        "margin": {
         "b": 10,
         "l": 10,
         "r": 10,
         "t": 20
        },
        "template": {
         "data": {
          "bar": [
           {
            "error_x": {
             "color": "#2a3f5f"
            },
            "error_y": {
             "color": "#2a3f5f"
            },
            "marker": {
             "line": {
              "color": "#E5ECF6",
              "width": 0.5
             }
            },
            "type": "bar"
           }
          ],
          "barpolar": [
           {
            "marker": {
             "line": {
              "color": "#E5ECF6",
              "width": 0.5
             }
            },
            "type": "barpolar"
           }
          ],
          "carpet": [
           {
            "aaxis": {
             "endlinecolor": "#2a3f5f",
             "gridcolor": "white",
             "linecolor": "white",
             "minorgridcolor": "white",
             "startlinecolor": "#2a3f5f"
            },
            "baxis": {
             "endlinecolor": "#2a3f5f",
             "gridcolor": "white",
             "linecolor": "white",
             "minorgridcolor": "white",
             "startlinecolor": "#2a3f5f"
            },
            "type": "carpet"
           }
          ],
          "choropleth": [
           {
            "colorbar": {
             "outlinewidth": 0,
             "ticks": ""
            },
            "type": "choropleth"
           }
          ],
          "contour": [
           {
            "colorbar": {
             "outlinewidth": 0,
             "ticks": ""
            },
            "colorscale": [
             [
              0,
              "#0d0887"
             ],
             [
              0.1111111111111111,
              "#46039f"
             ],
             [
              0.2222222222222222,
              "#7201a8"
             ],
             [
              0.3333333333333333,
              "#9c179e"
             ],
             [
              0.4444444444444444,
              "#bd3786"
             ],
             [
              0.5555555555555556,
              "#d8576b"
             ],
             [
              0.6666666666666666,
              "#ed7953"
             ],
             [
              0.7777777777777778,
              "#fb9f3a"
             ],
             [
              0.8888888888888888,
              "#fdca26"
             ],
             [
              1,
              "#f0f921"
             ]
            ],
            "type": "contour"
           }
          ],
          "contourcarpet": [
           {
            "colorbar": {
             "outlinewidth": 0,
             "ticks": ""
            },
            "type": "contourcarpet"
           }
          ],
          "heatmap": [
           {
            "colorbar": {
             "outlinewidth": 0,
             "ticks": ""
            },
            "colorscale": [
             [
              0,
              "#0d0887"
             ],
             [
              0.1111111111111111,
              "#46039f"
             ],
             [
              0.2222222222222222,
              "#7201a8"
             ],
             [
              0.3333333333333333,
              "#9c179e"
             ],
             [
              0.4444444444444444,
              "#bd3786"
             ],
             [
              0.5555555555555556,
              "#d8576b"
             ],
             [
              0.6666666666666666,
              "#ed7953"
             ],
             [
              0.7777777777777778,
              "#fb9f3a"
             ],
             [
              0.8888888888888888,
              "#fdca26"
             ],
             [
              1,
              "#f0f921"
             ]
            ],
            "type": "heatmap"
           }
          ],
          "heatmapgl": [
           {
            "colorbar": {
             "outlinewidth": 0,
             "ticks": ""
            },
            "colorscale": [
             [
              0,
              "#0d0887"
             ],
             [
              0.1111111111111111,
              "#46039f"
             ],
             [
              0.2222222222222222,
              "#7201a8"
             ],
             [
              0.3333333333333333,
              "#9c179e"
             ],
             [
              0.4444444444444444,
              "#bd3786"
             ],
             [
              0.5555555555555556,
              "#d8576b"
             ],
             [
              0.6666666666666666,
              "#ed7953"
             ],
             [
              0.7777777777777778,
              "#fb9f3a"
             ],
             [
              0.8888888888888888,
              "#fdca26"
             ],
             [
              1,
              "#f0f921"
             ]
            ],
            "type": "heatmapgl"
           }
          ],
          "histogram": [
           {
            "marker": {
             "colorbar": {
              "outlinewidth": 0,
              "ticks": ""
             }
            },
            "type": "histogram"
           }
          ],
          "histogram2d": [
           {
            "colorbar": {
             "outlinewidth": 0,
             "ticks": ""
            },
            "colorscale": [
             [
              0,
              "#0d0887"
             ],
             [
              0.1111111111111111,
              "#46039f"
             ],
             [
              0.2222222222222222,
              "#7201a8"
             ],
             [
              0.3333333333333333,
              "#9c179e"
             ],
             [
              0.4444444444444444,
              "#bd3786"
             ],
             [
              0.5555555555555556,
              "#d8576b"
             ],
             [
              0.6666666666666666,
              "#ed7953"
             ],
             [
              0.7777777777777778,
              "#fb9f3a"
             ],
             [
              0.8888888888888888,
              "#fdca26"
             ],
             [
              1,
              "#f0f921"
             ]
            ],
            "type": "histogram2d"
           }
          ],
          "histogram2dcontour": [
           {
            "colorbar": {
             "outlinewidth": 0,
             "ticks": ""
            },
            "colorscale": [
             [
              0,
              "#0d0887"
             ],
             [
              0.1111111111111111,
              "#46039f"
             ],
             [
              0.2222222222222222,
              "#7201a8"
             ],
             [
              0.3333333333333333,
              "#9c179e"
             ],
             [
              0.4444444444444444,
              "#bd3786"
             ],
             [
              0.5555555555555556,
              "#d8576b"
             ],
             [
              0.6666666666666666,
              "#ed7953"
             ],
             [
              0.7777777777777778,
              "#fb9f3a"
             ],
             [
              0.8888888888888888,
              "#fdca26"
             ],
             [
              1,
              "#f0f921"
             ]
            ],
            "type": "histogram2dcontour"
           }
          ],
          "mesh3d": [
           {
            "colorbar": {
             "outlinewidth": 0,
             "ticks": ""
            },
            "type": "mesh3d"
           }
          ],
          "parcoords": [
           {
            "line": {
             "colorbar": {
              "outlinewidth": 0,
              "ticks": ""
             }
            },
            "type": "parcoords"
           }
          ],
          "pie": [
           {
            "automargin": true,
            "type": "pie"
           }
          ],
          "scatter": [
           {
            "marker": {
             "colorbar": {
              "outlinewidth": 0,
              "ticks": ""
             }
            },
            "type": "scatter"
           }
          ],
          "scatter3d": [
           {
            "line": {
             "colorbar": {
              "outlinewidth": 0,
              "ticks": ""
             }
            },
            "marker": {
             "colorbar": {
              "outlinewidth": 0,
              "ticks": ""
             }
            },
            "type": "scatter3d"
           }
          ],
          "scattercarpet": [
           {
            "marker": {
             "colorbar": {
              "outlinewidth": 0,
              "ticks": ""
             }
            },
            "type": "scattercarpet"
           }
          ],
          "scattergeo": [
           {
            "marker": {
             "colorbar": {
              "outlinewidth": 0,
              "ticks": ""
             }
            },
            "type": "scattergeo"
           }
          ],
          "scattergl": [
           {
            "marker": {
             "colorbar": {
              "outlinewidth": 0,
              "ticks": ""
             }
            },
            "type": "scattergl"
           }
          ],
          "scattermapbox": [
           {
            "marker": {
             "colorbar": {
              "outlinewidth": 0,
              "ticks": ""
             }
            },
            "type": "scattermapbox"
           }
          ],
          "scatterpolar": [
           {
            "marker": {
             "colorbar": {
              "outlinewidth": 0,
              "ticks": ""
             }
            },
            "type": "scatterpolar"
           }
          ],
          "scatterpolargl": [
           {
            "marker": {
             "colorbar": {
              "outlinewidth": 0,
              "ticks": ""
             }
            },
            "type": "scatterpolargl"
           }
          ],
          "scatterternary": [
           {
            "marker": {
             "colorbar": {
              "outlinewidth": 0,
              "ticks": ""
             }
            },
            "type": "scatterternary"
           }
          ],
          "surface": [
           {
            "colorbar": {
             "outlinewidth": 0,
             "ticks": ""
            },
            "colorscale": [
             [
              0,
              "#0d0887"
             ],
             [
              0.1111111111111111,
              "#46039f"
             ],
             [
              0.2222222222222222,
              "#7201a8"
             ],
             [
              0.3333333333333333,
              "#9c179e"
             ],
             [
              0.4444444444444444,
              "#bd3786"
             ],
             [
              0.5555555555555556,
              "#d8576b"
             ],
             [
              0.6666666666666666,
              "#ed7953"
             ],
             [
              0.7777777777777778,
              "#fb9f3a"
             ],
             [
              0.8888888888888888,
              "#fdca26"
             ],
             [
              1,
              "#f0f921"
             ]
            ],
            "type": "surface"
           }
          ],
          "table": [
           {
            "cells": {
             "fill": {
              "color": "#EBF0F8"
             },
             "line": {
              "color": "white"
             }
            },
            "header": {
             "fill": {
              "color": "#C8D4E3"
             },
             "line": {
              "color": "white"
             }
            },
            "type": "table"
           }
          ]
         },
         "layout": {
          "annotationdefaults": {
           "arrowcolor": "#2a3f5f",
           "arrowhead": 0,
           "arrowwidth": 1
          },
          "autotypenumbers": "strict",
          "coloraxis": {
           "colorbar": {
            "outlinewidth": 0,
            "ticks": ""
           }
          },
          "colorscale": {
           "diverging": [
            [
             0,
             "#8e0152"
            ],
            [
             0.1,
             "#c51b7d"
            ],
            [
             0.2,
             "#de77ae"
            ],
            [
             0.3,
             "#f1b6da"
            ],
            [
             0.4,
             "#fde0ef"
            ],
            [
             0.5,
             "#f7f7f7"
            ],
            [
             0.6,
             "#e6f5d0"
            ],
            [
             0.7,
             "#b8e186"
            ],
            [
             0.8,
             "#7fbc41"
            ],
            [
             0.9,
             "#4d9221"
            ],
            [
             1,
             "#276419"
            ]
           ],
           "sequential": [
            [
             0,
             "#0d0887"
            ],
            [
             0.1111111111111111,
             "#46039f"
            ],
            [
             0.2222222222222222,
             "#7201a8"
            ],
            [
             0.3333333333333333,
             "#9c179e"
            ],
            [
             0.4444444444444444,
             "#bd3786"
            ],
            [
             0.5555555555555556,
             "#d8576b"
            ],
            [
             0.6666666666666666,
             "#ed7953"
            ],
            [
             0.7777777777777778,
             "#fb9f3a"
            ],
            [
             0.8888888888888888,
             "#fdca26"
            ],
            [
             1,
             "#f0f921"
            ]
           ],
           "sequentialminus": [
            [
             0,
             "#0d0887"
            ],
            [
             0.1111111111111111,
             "#46039f"
            ],
            [
             0.2222222222222222,
             "#7201a8"
            ],
            [
             0.3333333333333333,
             "#9c179e"
            ],
            [
             0.4444444444444444,
             "#bd3786"
            ],
            [
             0.5555555555555556,
             "#d8576b"
            ],
            [
             0.6666666666666666,
             "#ed7953"
            ],
            [
             0.7777777777777778,
             "#fb9f3a"
            ],
            [
             0.8888888888888888,
             "#fdca26"
            ],
            [
             1,
             "#f0f921"
            ]
           ]
          },
          "colorway": [
           "#636efa",
           "#EF553B",
           "#00cc96",
           "#ab63fa",
           "#FFA15A",
           "#19d3f3",
           "#FF6692",
           "#B6E880",
           "#FF97FF",
           "#FECB52"
          ],
          "font": {
           "color": "#2a3f5f"
          },
          "geo": {
           "bgcolor": "white",
           "lakecolor": "white",
           "landcolor": "#E5ECF6",
           "showlakes": true,
           "showland": true,
           "subunitcolor": "white"
          },
          "hoverlabel": {
           "align": "left"
          },
          "hovermode": "closest",
          "mapbox": {
           "style": "light"
          },
          "paper_bgcolor": "white",
          "plot_bgcolor": "#E5ECF6",
          "polar": {
           "angularaxis": {
            "gridcolor": "white",
            "linecolor": "white",
            "ticks": ""
           },
           "bgcolor": "#E5ECF6",
           "radialaxis": {
            "gridcolor": "white",
            "linecolor": "white",
            "ticks": ""
           }
          },
          "scene": {
           "xaxis": {
            "backgroundcolor": "#E5ECF6",
            "gridcolor": "white",
            "gridwidth": 2,
            "linecolor": "white",
            "showbackground": true,
            "ticks": "",
            "zerolinecolor": "white"
           },
           "yaxis": {
            "backgroundcolor": "#E5ECF6",
            "gridcolor": "white",
            "gridwidth": 2,
            "linecolor": "white",
            "showbackground": true,
            "ticks": "",
            "zerolinecolor": "white"
           },
           "zaxis": {
            "backgroundcolor": "#E5ECF6",
            "gridcolor": "white",
            "gridwidth": 2,
            "linecolor": "white",
            "showbackground": true,
            "ticks": "",
            "zerolinecolor": "white"
           }
          },
          "shapedefaults": {
           "line": {
            "color": "#2a3f5f"
           }
          },
          "ternary": {
           "aaxis": {
            "gridcolor": "white",
            "linecolor": "white",
            "ticks": ""
           },
           "baxis": {
            "gridcolor": "white",
            "linecolor": "white",
            "ticks": ""
           },
           "bgcolor": "#E5ECF6",
           "caxis": {
            "gridcolor": "white",
            "linecolor": "white",
            "ticks": ""
           }
          },
          "title": {
           "x": 0.05
          },
          "xaxis": {
           "automargin": true,
           "gridcolor": "white",
           "linecolor": "white",
           "ticks": "",
           "title": {
            "standoff": 15
           },
           "zerolinecolor": "white",
           "zerolinewidth": 2
          },
          "yaxis": {
           "automargin": true,
           "gridcolor": "white",
           "linecolor": "white",
           "ticks": "",
           "title": {
            "standoff": 15
           },
           "zerolinecolor": "white",
           "zerolinewidth": 2
          }
         }
        },
        "title": {
         "text": "Test data"
        },
        "width": 500,
        "xaxis": {
         "anchor": "y",
         "domain": [
          0,
          1
         ],
         "title": {
          "text": "True_Value"
         }
        },
        "yaxis": {
         "anchor": "x",
         "domain": [
          0,
          1
         ],
         "title": {
          "text": "Predict_Value"
         }
        }
       }
      }
     },
     "metadata": {},
     "output_type": "display_data"
    },
    {
     "name": "stdout",
     "output_type": "stream",
     "text": [
      "    True_Value  Predict_Value\n",
      "0       111.10     105.694070\n",
      "1       114.50     110.920510\n",
      "2        94.25      91.187098\n",
      "3       140.85     144.530928\n",
      "4       147.10     149.229894\n",
      "5       122.80     149.229894\n",
      "6       184.40     191.751818\n",
      "7       189.50     195.607566\n",
      "8       210.40     218.427692\n",
      "9       232.90     238.486284\n",
      "10      244.20     241.287082\n",
      "11      275.50     268.908573\n",
      "12      253.20     263.433219\n",
      "13      267.40     265.706543\n",
      "14      304.20     295.728717\n",
      "15      270.50     289.433290\n",
      "16      290.50     291.179139\n",
      "17      326.20     323.601996\n",
      "18      255.70     275.801481\n",
      "19      264.00     278.764832\n",
      "20      369.80     352.528410\n",
      "21      288.00     301.579867\n",
      "22      285.00     304.015743\n",
      "23      331.50     335.095465\n",
      "24      358.60     328.411387\n",
      "25      353.90     330.319789\n",
      "26      360.30     363.442047\n",
      "27      394.10     356.296043\n",
      "28      465.10     445.626464\n",
      "29      501.80     481.003558\n",
      "30      392.60     423.294616\n",
      "31      403.30     427.445692\n",
      "32      430.90     434.601762\n",
      "33      513.00     520.971984\n",
      "34      511.40     523.540636\n",
      "35      533.70     530.948453\n",
      "36      532.70     555.637377\n",
      "37      546.30     557.678554\n",
      "38      579.30     565.170287\n",
      "39      569.00     591.355906\n",
      "40      578.50     592.869608\n",
      "41      604.70     600.445256\n",
      "42      804.50     797.763135\n",
      "43      826.10     806.607079\n",
      "44      918.40     900.326773\n",
      "Residual sum of squares for train (MSE): 343.41\n",
      "R2-score for train: 0.99\n",
      "Residual sum of squares for test (MSE): 240.85\n",
      "R2-score for test: 0.99\n",
      "Coefficent shape: (1, 21)\n"
     ]
    },
    {
     "data": {
      "text/plain": [
       "(array([  96.64306497,  102.00137356,  108.23075764,   77.20114285,\n",
       "          67.55884669,  125.49192472,  159.98329626,   83.43193976,\n",
       "          77.20114285,  105.00628345,  115.00835891,  120.10293015,\n",
       "         125.80483952,   93.23848085,   80.91008168,  148.58585736,\n",
       "         188.5333505 ,   99.20554041,   93.23848085,  109.38317284,\n",
       "         134.42678808,  139.25762197,  144.43205664,  110.32895409,\n",
       "          95.31445192,  172.73292525,  218.13653997,  116.0322763 ,\n",
       "         110.32895409,  129.03017438,  154.8983525 ,  159.46544904,\n",
       "         164.112409  ,  128.47256257,  110.7719574 ,  197.93312837,\n",
       "         248.79286469,  133.91214743,  128.47256257,  149.73031117,\n",
       "         180.72641134,  184.84589661,  182.9824044 ,  176.42305216,\n",
       "         152.8451538 ,  133.46516292,  232.12340912,  292.63186301,\n",
       "         152.8451538 ,  147.6693063 ,  203.04050889,  206.63251945,\n",
       "         204.24155255,  199.00088706,  172.83129542,  150.76520153,\n",
       "         259.16614537,  325.13072086,  172.83129542,  167.91918526,\n",
       "         226.40774168,  229.47227754,  226.55383593,  222.6318572 ,\n",
       "         193.87057227,  169.11837539,  287.26201687,  358.68271394,\n",
       "         193.87057227,  189.22219947,  250.82810971,  253.36517087,\n",
       "         249.91925455,  247.31596259,  215.96298437,  188.52468448,\n",
       "         316.41102362,  393.28784227,  215.96298437,  211.57834892,\n",
       "         276.30161299,  278.31119943,  274.33780842,  273.05320321,\n",
       "         239.1085317 ,  208.98412882,  346.6131656 ,  428.94610584,\n",
       "         239.1085317 ,  234.98763361,  302.8282515 ,  304.31036325,\n",
       "         299.80949752,  299.84357908,  263.30721428,  230.49670839,\n",
       "         377.86844282,  465.65750466,  263.30721428,  259.45005354,\n",
       "         288.55903211,  291.25864579,  287.97528201,  284.96560871,\n",
       "         253.06242321,  223.18214045,  330.40802526,  357.41976289,\n",
       "         438.07867795,  257.77547149,  314.86398517,  317.03612415,\n",
       "         313.22528566,  311.53429913,  276.68127327,  241.42878451,\n",
       "         359.04093426,  388.45335466,  474.56839131,  280.86684684,\n",
       "         342.22207347,  343.86673775,  339.52842456,  339.15612478,\n",
       "         301.35325858,  260.72856381,  388.7269785 ,  420.54008168,\n",
       "         512.11123991,  305.01135744,  330.20900328,  327.35664998,\n",
       "         318.52131921,  327.07837912,  288.23897169,  328.46865827,\n",
       "         462.06429989,  407.93654822,  498.82640268,  349.23566216,\n",
       "         438.91596801,  442.80330639,  440.7076673 ,  429.04565217,\n",
       "         366.40119368,  348.70366606,  495.72982268,  356.45978436,\n",
       "         535.26194406,  374.31540124,  470.94852304,  474.30838671,\n",
       "         471.68527292,  461.6056819 ,  393.06154271,  369.99180908,\n",
       "         530.44848072,  383.76370069,  572.75062068,  400.44827556,\n",
       "         504.03421332,  506.86660229,  503.71601379,  495.21884688,\n",
       "         420.77502698,  441.50083721,  566.220274  ,  829.67959644,\n",
       "         611.29243254,  514.23246166,  538.17303883,  540.4779531 ,\n",
       "         536.7998899 ,  536.07518353,  449.54164649,  470.3513723 ,\n",
       "         603.04520251,  880.18678672,  650.88737965,  547.92772805,\n",
       "         573.36499959,  575.14243915,  570.93690125,  565.60458256,\n",
       "         479.36140125,  500.25504264,  640.92326627,  931.74711224,\n",
       "         691.535462  ,  582.67612969,  618.47766657,  626.15671512,\n",
       "         627.85278621,  604.81564055,  548.90074342,  627.76393625,\n",
       "         742.87183642,  828.28147459,  515.51112528,  729.09038376,\n",
       "         655.33233869,  662.48391254,  663.65250892,  642.19778738,\n",
       "         580.38320953,  664.78643953,  785.09871455,  876.04838989,\n",
       "        1101.92540834,  770.95761835]),\n",
       " array([105.69407004, 110.92050995,  91.18709818, 144.53092839,\n",
       "        149.2298936 , 149.2298936 , 191.75181821, 195.60756612,\n",
       "        218.42769152, 238.48628379, 241.2870823 , 268.90857325,\n",
       "        263.43321944, 265.70654324, 295.72871697, 289.43329034,\n",
       "        291.17913944, 323.60199593, 275.80148129, 278.76483233,\n",
       "        352.52841014, 301.57986673, 304.01574307, 335.09546542,\n",
       "        328.41138742, 330.31978905, 363.44204711, 356.29604334,\n",
       "        445.62646421, 481.00355771, 423.29461621, 427.44569194,\n",
       "        434.60176235, 520.97198417, 523.54063579, 530.94845295,\n",
       "        555.63737731, 557.67855422, 565.17028697, 591.35590569,\n",
       "        592.86960789, 600.44525622, 797.76313454, 806.60707933,\n",
       "        900.32677325]))"
      ]
     },
     "execution_count": 52,
     "metadata": {},
     "output_type": "execute_result"
    }
   ],
   "source": [
    "# All parameters\n",
    "polyEstimate(x_train_stress, ym_train_stress.Ss, x_test_stress, ym_test_stress.Ss, print_test=1)"
   ]
  },
  {
   "cell_type": "markdown",
   "metadata": {},
   "source": [
    "<h2 style=\"color:cyan\">Polynomial Regression Model - All inputs - Vane stress</h2>"
   ]
  },
  {
   "cell_type": "code",
   "execution_count": 53,
   "metadata": {},
   "outputs": [
    {
     "data": {
      "application/vnd.plotly.v1+json": {
       "config": {
        "plotlyServerURL": "https://plot.ly"
       },
       "data": [
        {
         "hovertemplate": "True_Value=%{x}<br>Predict_Value=%{y}<extra></extra>",
         "legendgroup": "",
         "marker": {
          "color": "#636efa",
          "symbol": "circle"
         },
         "mode": "markers",
         "name": "",
         "orientation": "v",
         "showlegend": false,
         "type": "scatter",
         "x": [
          82.2,
          88,
          91.8,
          89,
          89.5,
          72.2,
          66.2,
          87.9,
          89,
          72.8,
          111.4,
          112.8,
          114.2,
          107.4,
          98.6,
          69.29,
          69.2,
          73.4,
          107.4,
          108.4,
          82.4,
          81.6,
          82.4,
          96.3,
          130.2,
          76.3,
          78.6,
          93.9,
          96.3,
          89.7,
          104.6,
          110.6,
          112.1,
          135.9,
          181.8,
          85.9,
          84,
          135.9,
          135.9,
          106.8,
          133.1,
          135.2,
          134,
          130.1,
          164.2,
          204.8,
          124.3,
          117.8,
          164.2,
          160.6,
          163.6,
          162.9,
          161.9,
          158,
          202.9,
          256.9,
          137.1,
          138.7,
          202.9,
          198.6,
          192,
          193.4,
          189.7,
          191.6,
          240.8,
          301.6,
          161.7,
          164.2,
          240.8,
          234.4,
          240,
          239.3,
          233.7,
          238.5,
          301.5,
          383.7,
          192.1,
          195.4,
          193.7,
          297.6,
          282,
          281.1,
          271.7,
          286.4,
          353.6,
          447,
          209.4,
          222.9,
          353.6,
          347.6,
          323.9,
          323.1,
          314.6,
          340,
          405.1,
          510.2,
          266.1,
          266.7,
          405.1,
          395.8,
          456.1,
          456.3,
          441.2,
          443.2,
          566.2,
          776.9,
          377.8,
          276.7,
          243.1,
          552.3,
          526.7,
          527.8,
          507.2,
          510.7,
          646.9,
          880,
          433.7,
          316.3,
          270.7,
          632.7,
          585.9,
          586.5,
          565.6,
          579,
          719.5,
          971.9,
          513.6,
          366,
          331.9,
          699.9,
          768.6,
          739,
          704.3,
          787.5,
          1023.2,
          810.6,
          383.8,
          457,
          328.8,
          626.2,
          583.8,
          600.4,
          602.8,
          560.3,
          799.1,
          1005.7,
          491.9,
          920.9,
          333,
          783.6,
          657.7,
          680.8,
          686.8,
          626.7,
          889.5,
          1114.9,
          555.9,
          1007.9,
          384.2,
          874.9,
          712.9,
          734.9,
          739.3,
          681.4,
          962.6,
          856.5,
          602.9,
          445.5,
          408.5,
          552.3,
          746.9,
          740.2,
          727.9,
          771.5,
          999.4,
          792.4,
          695.2,
          475.4,
          509.4,
          580.7,
          866.8,
          890.8,
          894.2,
          828.9,
          1160,
          920.3,
          733.7,
          545.6,
          514.7,
          692,
          778.4,
          803.1,
          805.5,
          788.9,
          1006.7,
          614.6,
          613.6,
          546.6,
          1253,
          529.9,
          897.1,
          928.1,
          934.5,
          890.4,
          1138.9,
          598.3,
          703.4,
          511.7,
          536.7,
          508.5
         ],
         "xaxis": "x",
         "y": [
          51.75661598354981,
          52.84736618015532,
          54.56864959453051,
          59.636983267780295,
          83.05769212753114,
          43.574587735679245,
          152.65127971976125,
          62.287391920115226,
          59.636983267780295,
          14.005666289014755,
          69.8594512345789,
          70.62908924382089,
          71.70814828346914,
          83.42598840634253,
          113.4076625209392,
          49.03138000536222,
          143.51648393404497,
          85.75528487131385,
          83.42598840634253,
          69.06834349301658,
          91.566014007293,
          92.0145398291715,
          92.45137449409276,
          110.8187210665896,
          147.36136043603221,
          58.09189979673016,
          137.98541567001365,
          112.8269053441976,
          110.8187210665896,
          91.05320349477898,
          116.87630430169207,
          117.00371793620712,
          116.7983282264014,
          141.81518124852175,
          184.91878587281036,
          70.75614710978306,
          136.05807492766718,
          143.5022533387662,
          141.81518124852175,
          116.64179101822646,
          145.5966235649276,
          144.74900948039493,
          143.28777275741498,
          145.79032211777604,
          177.78132885501986,
          229.24550464461134,
          86.91882564934832,
          137.7311680168437,
          177.78132885501986,
          176.4153689521388,
          177.79325671533314,
          176.30341825607348,
          174.1999571583666,
          178.30806745554514,
          215.6641318929585,
          273.6892729373959,
          106.46941581840787,
          142.69017013050376,
          215.6641318929585,
          214.61928417744093,
          213.59361738742365,
          211.46155455343722,
          208.7158690810033,
          214.4295403149992,
          257.150662452582,
          321.73676875186555,
          129.62373350915226,
          151.25289976584867,
          257.150662452582,
          256.4269269244281,
          252.997705581199,
          250.22341837248558,
          246.83550852532477,
          254.15474069613805,
          302.2409205338906,
          373.3879920880197,
          156.3817787215816,
          163.41935692287876,
          302.2409205338906,
          301.8382971931001,
          296.00552129665965,
          292.5890097132191,
          288.55887549133143,
          297.4836685989622,
          350.9349061368843,
          428.6429429458593,
          186.74355145569604,
          179.18954160159348,
          350.9349061368843,
          350.85339498345735,
          342.61706453380515,
          338.55832857563774,
          333.88596997902283,
          344.4163240234711,
          403.2326192615628,
          487.50162132538367,
          220.70905171149542,
          198.56345380199383,
          403.2326192615628,
          403.4722202954993,
          459.1340599079264,
          457.5524164864908,
          455.35715042660826,
          459.69477312922646,
          549.9640272265932,
          777.6781748644696,
          392.8323352926355,
          284.39190446336494,
          201.283834297419,
          551.9815956260718,
          518.6392280759751,
          516.4153602798126,
          513.5778698452029,
          519.5210534846383,
          616.0301606494877,
          856.866238797056,
          446.65133357315113,
          331.2510296500673,
          233.551371428722,
          617.4055046742394,
          581.7481237657084,
          578.8820315948192,
          575.4023167854825,
          582.9510613617356,
          685.700021594067,
          939.6580302513271,
          504.07405937535174,
          381.713882358455,
          269.42263608171044,
          686.4331412440918,
          759.0645053356291,
          758.5417779724798,
          757.4054279708828,
          758.9736100603311,
          1033.3428681444093,
          924.6689474087739,
          432.4489505582621,
          500.1901412613361,
          320.00644575339203,
          688.579236462057,
          563.7791898932123,
          562.7910426706878,
          561.1892728097152,
          564.1537144772899,
          758.4377148095948,
          1014.5018570600334,
          489.4770339352929,
          835.2995969488516,
          369.00390632986915,
          764.6479912288983,
          630.9719660467736,
          629.3415944495221,
          627.0976002138227,
          631.9887150055781,
          838.7524214728478,
          1107.9384942329784,
          550.1088448340083,
          915.138416083759,
          421.605094428031,
          844.320473517424,
          701.7684697220202,
          699.4958737500417,
          696.6096551396154,
          703.4274430555517,
          922.6708556577855,
          767.0009337101822,
          614.3443832544087,
          410.8421779413571,
          477.8100100478783,
          596.8324960918726,
          776.1687009189516,
          773.2538805722456,
          769.7254375870928,
          777.0039471148652,
          1010.1930173644084,
          853.0534378710977,
          682.1836491964941,
          441.4676449720901,
          537.6186531894098,
          669.1208453683685,
          854.1726596375674,
          850.615614916135,
          846.4449475562546,
          857.1160817205528,
          1101.3189065927163,
          942.7096695536975,
          753.6266426602645,
          475.69683952450856,
          601.031023852627,
          745.0129221665507,
          824.5087264864173,
          827.0982636036601,
          829.0741780824551,
          821.3055667307272,
          1046.3712121555016,
          533.4715685099159,
          664.05185815139,
          456.37991092425824,
          1199.047677888378,
          474.4189022291717,
          907.6082583279685,
          909.5555710704853,
          910.8892611745523,
          905.0473229470058,
          1142.5926745067457,
          613.6317852600514,
          734.0294594832501,
          510.2962666550107,
          620.9163913044031,
          540.8149640948891
         ],
         "yaxis": "y"
        },
        {
         "hovertemplate": "<b>OLS trendline</b><br>Predict_Value = 0.986059 * True_Value + 6.11462<br>R<sup>2</sup>=0.986059<br><br>True_Value=%{x}<br>Predict_Value=%{y} <b>(trend)</b><extra></extra>",
         "legendgroup": "",
         "marker": {
          "color": "#636efa",
          "symbol": "circle"
         },
         "mode": "lines",
         "name": "",
         "showlegend": false,
         "type": "scatter",
         "x": [
          66.2,
          69.2,
          69.29,
          72.2,
          72.8,
          73.4,
          76.3,
          78.6,
          81.6,
          82.2,
          82.4,
          82.4,
          84,
          85.9,
          87.9,
          88,
          89,
          89,
          89.5,
          89.7,
          91.8,
          93.9,
          96.3,
          96.3,
          98.6,
          104.6,
          106.8,
          107.4,
          107.4,
          108.4,
          110.6,
          111.4,
          112.1,
          112.8,
          114.2,
          117.8,
          124.3,
          130.1,
          130.2,
          133.1,
          134,
          135.2,
          135.9,
          135.9,
          135.9,
          137.1,
          138.7,
          158,
          160.6,
          161.7,
          161.9,
          162.9,
          163.6,
          164.2,
          164.2,
          164.2,
          181.8,
          189.7,
          191.6,
          192,
          192.1,
          193.4,
          193.7,
          195.4,
          198.6,
          202.9,
          202.9,
          204.8,
          209.4,
          222.9,
          233.7,
          234.4,
          238.5,
          239.3,
          240,
          240.8,
          240.8,
          243.1,
          256.9,
          266.1,
          266.7,
          270.7,
          271.7,
          276.7,
          281.1,
          282,
          286.4,
          297.6,
          301.5,
          301.6,
          314.6,
          316.3,
          323.1,
          323.9,
          328.8,
          331.9,
          333,
          340,
          347.6,
          353.6,
          353.6,
          366,
          377.8,
          383.7,
          383.8,
          384.2,
          395.8,
          405.1,
          405.1,
          408.5,
          433.7,
          441.2,
          443.2,
          445.5,
          447,
          456.1,
          456.3,
          457,
          475.4,
          491.9,
          507.2,
          508.5,
          509.4,
          510.2,
          510.7,
          511.7,
          513.6,
          514.7,
          526.7,
          527.8,
          529.9,
          536.7,
          545.6,
          546.6,
          552.3,
          552.3,
          555.9,
          560.3,
          565.6,
          566.2,
          579,
          580.7,
          583.8,
          585.9,
          586.5,
          598.3,
          600.4,
          602.8,
          602.9,
          613.6,
          614.6,
          626.2,
          626.7,
          632.7,
          646.9,
          657.7,
          680.8,
          681.4,
          686.8,
          692,
          695.2,
          699.9,
          703.4,
          704.3,
          712.9,
          719.5,
          727.9,
          733.7,
          734.9,
          739,
          739.3,
          740.2,
          746.9,
          768.6,
          771.5,
          776.9,
          778.4,
          783.6,
          787.5,
          788.9,
          792.4,
          799.1,
          803.1,
          805.5,
          810.6,
          828.9,
          856.5,
          866.8,
          874.9,
          880,
          889.5,
          890.4,
          890.8,
          894.2,
          897.1,
          920.3,
          920.9,
          928.1,
          934.5,
          962.6,
          971.9,
          999.4,
          1005.7,
          1006.7,
          1007.9,
          1023.2,
          1114.9,
          1138.9,
          1160,
          1253
         ],
         "xaxis": "x",
         "y": [
          71.39172997741886,
          74.34990727683667,
          74.4386525958192,
          77.30808457625449,
          77.89972003613804,
          78.49135549602161,
          81.35092688545882,
          83.61886281501246,
          86.57704011443028,
          87.16867557431384,
          87.36588739427503,
          87.36588739427503,
          88.94358195396453,
          90.8170942435958,
          92.78921244320767,
          92.88781835318827,
          93.87387745299421,
          93.87387745299421,
          94.36690700289718,
          94.56411882285836,
          96.63484293245082,
          98.7055670420433,
          101.07210888157753,
          101.07210888157753,
          103.34004481113118,
          109.2563994099668,
          111.42572942953987,
          112.01736488942343,
          112.01736488942343,
          113.00342398922938,
          115.17275400880241,
          115.96160128864717,
          116.65184265851133,
          117.34208402837548,
          118.7225667681038,
          122.27237952740516,
          128.68176367614373,
          134.40090645501817,
          134.49951236499876,
          137.35908375443597,
          138.24653694426132,
          139.42980786402845,
          140.12004923389262,
          140.12004923389262,
          140.12004923389262,
          141.3033201536597,
          142.88101471334923,
          161.9119553396038,
          164.47570899909923,
          165.56037400888576,
          165.75758582884694,
          166.74364492865288,
          167.43388629851702,
          168.0255217584006,
          168.0255217584006,
          168.0255217584006,
          185.38016191498508,
          193.17002880345197,
          195.04354109308323,
          195.43796473300563,
          195.53657064298622,
          196.81844747273394,
          197.1142652026757,
          198.79056567234582,
          201.9459547917248,
          206.18600892089034,
          206.18600892089034,
          208.0595212105216,
          212.59539306962893,
          225.90719091700905,
          236.55662919491314,
          237.2468705647773,
          241.28971287398164,
          242.0785601538264,
          242.76880152369054,
          243.5576488035353,
          243.5576488035353,
          245.82558473308896,
          259.4332003104108,
          268.50494402862546,
          269.096579488509,
          273.0408158877328,
          274.0268749875387,
          278.9571704865684,
          283.2958305257145,
          284.18328371553986,
          288.52194375468594,
          299.56580567251245,
          303.4114361617556,
          303.5100420717362,
          316.3288103692134,
          318.00511083888347,
          324.71031271756385,
          325.4991599974085,
          330.33084958645765,
          333.387632795856,
          334.4722978056426,
          341.3747115042841,
          348.8687606628093,
          354.7851152616449,
          354.7851152616449,
          367.0122480992385,
          378.64774547694856,
          384.46549416580353,
          384.56410007578415,
          384.9585237157065,
          396.3968092734554,
          405.5671589016506,
          405.5671589016506,
          408.91975984099076,
          433.76844915610036,
          441.16389240464486,
          443.13601060425674,
          445.40394653381037,
          446.88303518351927,
          455.85617299175334,
          456.0533848117145,
          456.74362618157863,
          474.88711361800785,
          491.1570887648058,
          506.24379299183664,
          507.52566982158436,
          508.4131230114097,
          509.20197029125444,
          509.6949998411574,
          510.68105894096334,
          512.5545712305947,
          513.6392362403813,
          525.4719454380524,
          526.5566104478389,
          528.6273345574314,
          535.3325364361118,
          544.1084624243846,
          545.0945215241906,
          550.7150583930843,
          550.7150583930843,
          554.2648711523857,
          558.6035311915318,
          563.8296444205033,
          564.4212798803869,
          577.0428363579028,
          578.719136827573,
          581.7759200369713,
          583.8466441465638,
          584.4382796064474,
          596.0737769841573,
          598.1445010937499,
          600.5110429332841,
          600.6096488432647,
          611.1604812111883,
          612.1465403109942,
          623.5848258687431,
          624.0778554186461,
          629.9942100174817,
          643.996249234726,
          654.64568751263,
          677.4236527181471,
          678.0152881780307,
          683.3400073169827,
          688.4675146359737,
          691.6229037553527,
          696.2573815244405,
          699.7085883737612,
          700.5960415635866,
          709.0761498219176,
          715.5841398806368,
          723.8670363190067,
          729.5861790978812,
          730.7694500176483,
          734.8122923268527,
          735.1081100567943,
          735.9955632466198,
          742.6021592153195,
          763.9996416811084,
          766.8592130705456,
          772.1839322094976,
          773.6630208592065,
          778.7905281781974,
          782.6361586674406,
          784.0166414071688,
          787.4678482564896,
          794.0744442251894,
          798.0186806244132,
          800.3852224639473,
          805.4141238729577,
          823.4590053994062,
          850.6742365540501,
          860.8306452820513,
          868.8177239904793,
          873.8466253994897,
          883.214186847646,
          884.1016400374714,
          884.4960636773936,
          887.8486646167339,
          890.7082360061712,
          913.5848071216689,
          914.1764425815524,
          921.2760681001552,
          927.5868463389131,
          955.29510704346,
          964.4654566716551,
          991.5820819163183,
          997.7942542450959,
          998.7803133449017,
          999.9635842646688,
          1015.0502884916997,
          1105.4719079439042,
          1129.1373263392466,
          1149.9431733451518,
          1241.6466696271038
         ],
         "yaxis": "y"
        }
       ],
       "layout": {
        "height": 400,
        "legend": {
         "tracegroupgap": 0
        },
        "margin": {
         "b": 10,
         "l": 10,
         "r": 10,
         "t": 20
        },
        "template": {
         "data": {
          "bar": [
           {
            "error_x": {
             "color": "#2a3f5f"
            },
            "error_y": {
             "color": "#2a3f5f"
            },
            "marker": {
             "line": {
              "color": "#E5ECF6",
              "width": 0.5
             }
            },
            "type": "bar"
           }
          ],
          "barpolar": [
           {
            "marker": {
             "line": {
              "color": "#E5ECF6",
              "width": 0.5
             }
            },
            "type": "barpolar"
           }
          ],
          "carpet": [
           {
            "aaxis": {
             "endlinecolor": "#2a3f5f",
             "gridcolor": "white",
             "linecolor": "white",
             "minorgridcolor": "white",
             "startlinecolor": "#2a3f5f"
            },
            "baxis": {
             "endlinecolor": "#2a3f5f",
             "gridcolor": "white",
             "linecolor": "white",
             "minorgridcolor": "white",
             "startlinecolor": "#2a3f5f"
            },
            "type": "carpet"
           }
          ],
          "choropleth": [
           {
            "colorbar": {
             "outlinewidth": 0,
             "ticks": ""
            },
            "type": "choropleth"
           }
          ],
          "contour": [
           {
            "colorbar": {
             "outlinewidth": 0,
             "ticks": ""
            },
            "colorscale": [
             [
              0,
              "#0d0887"
             ],
             [
              0.1111111111111111,
              "#46039f"
             ],
             [
              0.2222222222222222,
              "#7201a8"
             ],
             [
              0.3333333333333333,
              "#9c179e"
             ],
             [
              0.4444444444444444,
              "#bd3786"
             ],
             [
              0.5555555555555556,
              "#d8576b"
             ],
             [
              0.6666666666666666,
              "#ed7953"
             ],
             [
              0.7777777777777778,
              "#fb9f3a"
             ],
             [
              0.8888888888888888,
              "#fdca26"
             ],
             [
              1,
              "#f0f921"
             ]
            ],
            "type": "contour"
           }
          ],
          "contourcarpet": [
           {
            "colorbar": {
             "outlinewidth": 0,
             "ticks": ""
            },
            "type": "contourcarpet"
           }
          ],
          "heatmap": [
           {
            "colorbar": {
             "outlinewidth": 0,
             "ticks": ""
            },
            "colorscale": [
             [
              0,
              "#0d0887"
             ],
             [
              0.1111111111111111,
              "#46039f"
             ],
             [
              0.2222222222222222,
              "#7201a8"
             ],
             [
              0.3333333333333333,
              "#9c179e"
             ],
             [
              0.4444444444444444,
              "#bd3786"
             ],
             [
              0.5555555555555556,
              "#d8576b"
             ],
             [
              0.6666666666666666,
              "#ed7953"
             ],
             [
              0.7777777777777778,
              "#fb9f3a"
             ],
             [
              0.8888888888888888,
              "#fdca26"
             ],
             [
              1,
              "#f0f921"
             ]
            ],
            "type": "heatmap"
           }
          ],
          "heatmapgl": [
           {
            "colorbar": {
             "outlinewidth": 0,
             "ticks": ""
            },
            "colorscale": [
             [
              0,
              "#0d0887"
             ],
             [
              0.1111111111111111,
              "#46039f"
             ],
             [
              0.2222222222222222,
              "#7201a8"
             ],
             [
              0.3333333333333333,
              "#9c179e"
             ],
             [
              0.4444444444444444,
              "#bd3786"
             ],
             [
              0.5555555555555556,
              "#d8576b"
             ],
             [
              0.6666666666666666,
              "#ed7953"
             ],
             [
              0.7777777777777778,
              "#fb9f3a"
             ],
             [
              0.8888888888888888,
              "#fdca26"
             ],
             [
              1,
              "#f0f921"
             ]
            ],
            "type": "heatmapgl"
           }
          ],
          "histogram": [
           {
            "marker": {
             "colorbar": {
              "outlinewidth": 0,
              "ticks": ""
             }
            },
            "type": "histogram"
           }
          ],
          "histogram2d": [
           {
            "colorbar": {
             "outlinewidth": 0,
             "ticks": ""
            },
            "colorscale": [
             [
              0,
              "#0d0887"
             ],
             [
              0.1111111111111111,
              "#46039f"
             ],
             [
              0.2222222222222222,
              "#7201a8"
             ],
             [
              0.3333333333333333,
              "#9c179e"
             ],
             [
              0.4444444444444444,
              "#bd3786"
             ],
             [
              0.5555555555555556,
              "#d8576b"
             ],
             [
              0.6666666666666666,
              "#ed7953"
             ],
             [
              0.7777777777777778,
              "#fb9f3a"
             ],
             [
              0.8888888888888888,
              "#fdca26"
             ],
             [
              1,
              "#f0f921"
             ]
            ],
            "type": "histogram2d"
           }
          ],
          "histogram2dcontour": [
           {
            "colorbar": {
             "outlinewidth": 0,
             "ticks": ""
            },
            "colorscale": [
             [
              0,
              "#0d0887"
             ],
             [
              0.1111111111111111,
              "#46039f"
             ],
             [
              0.2222222222222222,
              "#7201a8"
             ],
             [
              0.3333333333333333,
              "#9c179e"
             ],
             [
              0.4444444444444444,
              "#bd3786"
             ],
             [
              0.5555555555555556,
              "#d8576b"
             ],
             [
              0.6666666666666666,
              "#ed7953"
             ],
             [
              0.7777777777777778,
              "#fb9f3a"
             ],
             [
              0.8888888888888888,
              "#fdca26"
             ],
             [
              1,
              "#f0f921"
             ]
            ],
            "type": "histogram2dcontour"
           }
          ],
          "mesh3d": [
           {
            "colorbar": {
             "outlinewidth": 0,
             "ticks": ""
            },
            "type": "mesh3d"
           }
          ],
          "parcoords": [
           {
            "line": {
             "colorbar": {
              "outlinewidth": 0,
              "ticks": ""
             }
            },
            "type": "parcoords"
           }
          ],
          "pie": [
           {
            "automargin": true,
            "type": "pie"
           }
          ],
          "scatter": [
           {
            "marker": {
             "colorbar": {
              "outlinewidth": 0,
              "ticks": ""
             }
            },
            "type": "scatter"
           }
          ],
          "scatter3d": [
           {
            "line": {
             "colorbar": {
              "outlinewidth": 0,
              "ticks": ""
             }
            },
            "marker": {
             "colorbar": {
              "outlinewidth": 0,
              "ticks": ""
             }
            },
            "type": "scatter3d"
           }
          ],
          "scattercarpet": [
           {
            "marker": {
             "colorbar": {
              "outlinewidth": 0,
              "ticks": ""
             }
            },
            "type": "scattercarpet"
           }
          ],
          "scattergeo": [
           {
            "marker": {
             "colorbar": {
              "outlinewidth": 0,
              "ticks": ""
             }
            },
            "type": "scattergeo"
           }
          ],
          "scattergl": [
           {
            "marker": {
             "colorbar": {
              "outlinewidth": 0,
              "ticks": ""
             }
            },
            "type": "scattergl"
           }
          ],
          "scattermapbox": [
           {
            "marker": {
             "colorbar": {
              "outlinewidth": 0,
              "ticks": ""
             }
            },
            "type": "scattermapbox"
           }
          ],
          "scatterpolar": [
           {
            "marker": {
             "colorbar": {
              "outlinewidth": 0,
              "ticks": ""
             }
            },
            "type": "scatterpolar"
           }
          ],
          "scatterpolargl": [
           {
            "marker": {
             "colorbar": {
              "outlinewidth": 0,
              "ticks": ""
             }
            },
            "type": "scatterpolargl"
           }
          ],
          "scatterternary": [
           {
            "marker": {
             "colorbar": {
              "outlinewidth": 0,
              "ticks": ""
             }
            },
            "type": "scatterternary"
           }
          ],
          "surface": [
           {
            "colorbar": {
             "outlinewidth": 0,
             "ticks": ""
            },
            "colorscale": [
             [
              0,
              "#0d0887"
             ],
             [
              0.1111111111111111,
              "#46039f"
             ],
             [
              0.2222222222222222,
              "#7201a8"
             ],
             [
              0.3333333333333333,
              "#9c179e"
             ],
             [
              0.4444444444444444,
              "#bd3786"
             ],
             [
              0.5555555555555556,
              "#d8576b"
             ],
             [
              0.6666666666666666,
              "#ed7953"
             ],
             [
              0.7777777777777778,
              "#fb9f3a"
             ],
             [
              0.8888888888888888,
              "#fdca26"
             ],
             [
              1,
              "#f0f921"
             ]
            ],
            "type": "surface"
           }
          ],
          "table": [
           {
            "cells": {
             "fill": {
              "color": "#EBF0F8"
             },
             "line": {
              "color": "white"
             }
            },
            "header": {
             "fill": {
              "color": "#C8D4E3"
             },
             "line": {
              "color": "white"
             }
            },
            "type": "table"
           }
          ]
         },
         "layout": {
          "annotationdefaults": {
           "arrowcolor": "#2a3f5f",
           "arrowhead": 0,
           "arrowwidth": 1
          },
          "autotypenumbers": "strict",
          "coloraxis": {
           "colorbar": {
            "outlinewidth": 0,
            "ticks": ""
           }
          },
          "colorscale": {
           "diverging": [
            [
             0,
             "#8e0152"
            ],
            [
             0.1,
             "#c51b7d"
            ],
            [
             0.2,
             "#de77ae"
            ],
            [
             0.3,
             "#f1b6da"
            ],
            [
             0.4,
             "#fde0ef"
            ],
            [
             0.5,
             "#f7f7f7"
            ],
            [
             0.6,
             "#e6f5d0"
            ],
            [
             0.7,
             "#b8e186"
            ],
            [
             0.8,
             "#7fbc41"
            ],
            [
             0.9,
             "#4d9221"
            ],
            [
             1,
             "#276419"
            ]
           ],
           "sequential": [
            [
             0,
             "#0d0887"
            ],
            [
             0.1111111111111111,
             "#46039f"
            ],
            [
             0.2222222222222222,
             "#7201a8"
            ],
            [
             0.3333333333333333,
             "#9c179e"
            ],
            [
             0.4444444444444444,
             "#bd3786"
            ],
            [
             0.5555555555555556,
             "#d8576b"
            ],
            [
             0.6666666666666666,
             "#ed7953"
            ],
            [
             0.7777777777777778,
             "#fb9f3a"
            ],
            [
             0.8888888888888888,
             "#fdca26"
            ],
            [
             1,
             "#f0f921"
            ]
           ],
           "sequentialminus": [
            [
             0,
             "#0d0887"
            ],
            [
             0.1111111111111111,
             "#46039f"
            ],
            [
             0.2222222222222222,
             "#7201a8"
            ],
            [
             0.3333333333333333,
             "#9c179e"
            ],
            [
             0.4444444444444444,
             "#bd3786"
            ],
            [
             0.5555555555555556,
             "#d8576b"
            ],
            [
             0.6666666666666666,
             "#ed7953"
            ],
            [
             0.7777777777777778,
             "#fb9f3a"
            ],
            [
             0.8888888888888888,
             "#fdca26"
            ],
            [
             1,
             "#f0f921"
            ]
           ]
          },
          "colorway": [
           "#636efa",
           "#EF553B",
           "#00cc96",
           "#ab63fa",
           "#FFA15A",
           "#19d3f3",
           "#FF6692",
           "#B6E880",
           "#FF97FF",
           "#FECB52"
          ],
          "font": {
           "color": "#2a3f5f"
          },
          "geo": {
           "bgcolor": "white",
           "lakecolor": "white",
           "landcolor": "#E5ECF6",
           "showlakes": true,
           "showland": true,
           "subunitcolor": "white"
          },
          "hoverlabel": {
           "align": "left"
          },
          "hovermode": "closest",
          "mapbox": {
           "style": "light"
          },
          "paper_bgcolor": "white",
          "plot_bgcolor": "#E5ECF6",
          "polar": {
           "angularaxis": {
            "gridcolor": "white",
            "linecolor": "white",
            "ticks": ""
           },
           "bgcolor": "#E5ECF6",
           "radialaxis": {
            "gridcolor": "white",
            "linecolor": "white",
            "ticks": ""
           }
          },
          "scene": {
           "xaxis": {
            "backgroundcolor": "#E5ECF6",
            "gridcolor": "white",
            "gridwidth": 2,
            "linecolor": "white",
            "showbackground": true,
            "ticks": "",
            "zerolinecolor": "white"
           },
           "yaxis": {
            "backgroundcolor": "#E5ECF6",
            "gridcolor": "white",
            "gridwidth": 2,
            "linecolor": "white",
            "showbackground": true,
            "ticks": "",
            "zerolinecolor": "white"
           },
           "zaxis": {
            "backgroundcolor": "#E5ECF6",
            "gridcolor": "white",
            "gridwidth": 2,
            "linecolor": "white",
            "showbackground": true,
            "ticks": "",
            "zerolinecolor": "white"
           }
          },
          "shapedefaults": {
           "line": {
            "color": "#2a3f5f"
           }
          },
          "ternary": {
           "aaxis": {
            "gridcolor": "white",
            "linecolor": "white",
            "ticks": ""
           },
           "baxis": {
            "gridcolor": "white",
            "linecolor": "white",
            "ticks": ""
           },
           "bgcolor": "#E5ECF6",
           "caxis": {
            "gridcolor": "white",
            "linecolor": "white",
            "ticks": ""
           }
          },
          "title": {
           "x": 0.05
          },
          "xaxis": {
           "automargin": true,
           "gridcolor": "white",
           "linecolor": "white",
           "ticks": "",
           "title": {
            "standoff": 15
           },
           "zerolinecolor": "white",
           "zerolinewidth": 2
          },
          "yaxis": {
           "automargin": true,
           "gridcolor": "white",
           "linecolor": "white",
           "ticks": "",
           "title": {
            "standoff": 15
           },
           "zerolinecolor": "white",
           "zerolinewidth": 2
          }
         }
        },
        "title": {
         "text": "Train data"
        },
        "width": 500,
        "xaxis": {
         "anchor": "y",
         "domain": [
          0,
          1
         ],
         "title": {
          "text": "True_Value"
         }
        },
        "yaxis": {
         "anchor": "x",
         "domain": [
          0,
          1
         ],
         "title": {
          "text": "Predict_Value"
         }
        }
       }
      }
     },
     "metadata": {},
     "output_type": "display_data"
    },
    {
     "data": {
      "application/vnd.plotly.v1+json": {
       "config": {
        "plotlyServerURL": "https://plot.ly"
       },
       "data": [
        {
         "hovertemplate": "True_Value=%{x}<br>Predict_Value=%{y}<extra></extra>",
         "legendgroup": "",
         "marker": {
          "color": "#636efa",
          "symbol": "circle"
         },
         "mode": "markers",
         "name": "",
         "orientation": "v",
         "showlegend": false,
         "type": "scatter",
         "x": [
          98.8,
          99.5,
          101,
          91.91,
          97.5,
          119.2,
          145.9,
          145.3,
          113.6,
          222,
          221.5,
          150.8,
          255.8,
          256.4,
          181.4,
          300.9,
          301.3,
          213.3,
          422.1,
          422.1,
          242.9,
          484.2,
          484.9,
          333.7,
          564.6,
          566.2,
          397.2,
          619.7,
          357.5,
          295.9,
          556.8,
          575.2,
          435.2,
          755.7,
          775.2,
          585.9,
          828,
          852.5,
          657.7,
          919.2,
          940.8,
          738.1,
          655.4,
          681.8,
          642.9
         ],
         "xaxis": "x",
         "y": [
          60.35756766885376,
          61.28776177177747,
          73.57087245550397,
          103.77069321428189,
          104.05866294247863,
          104.05866294247863,
          161.2444741999198,
          160.07574792802365,
          93.21074054153524,
          232.84519554410082,
          230.39202052275078,
          149.6072669486362,
          274.05114749871876,
          270.95574810264185,
          183.21112143471436,
          318.8608269750218,
          315.12320320421776,
          220.41870344247724,
          430.732873644534,
          429.47234241046186,
          261.2300129719253,
          488.4361780517401,
          486.5334224429411,
          356.98382758901704,
          549.743209980631,
          547.198229997105,
          411.5635574166809,
          614.6539694312073,
          405.2863066903789,
          296.859113285786,
          531.5341996370637,
          530.8671646019027,
          431.8779308080021,
          738.518119380275,
          735.9244112209326,
          632.52620478991,
          814.7202143380491,
          811.4842818039797,
          706.6164178272488,
          894.5260368175077,
          890.6478799087115,
          784.3103583862735,
          775.3282584180404,
          770.3696579698119,
          538.6058423410186
         ],
         "yaxis": "y"
        },
        {
         "hovertemplate": "<b>OLS trendline</b><br>Predict_Value = 0.990014 * True_Value + 5.88776<br>R<sup>2</sup>=0.979240<br><br>True_Value=%{x}<br>Predict_Value=%{y} <b>(trend)</b><extra></extra>",
         "legendgroup": "",
         "marker": {
          "color": "#636efa",
          "symbol": "circle"
         },
         "mode": "lines",
         "name": "",
         "showlegend": false,
         "type": "scatter",
         "x": [
          91.91,
          97.5,
          98.8,
          99.5,
          101,
          113.6,
          119.2,
          145.3,
          145.9,
          150.8,
          181.4,
          213.3,
          221.5,
          222,
          242.9,
          255.8,
          256.4,
          295.9,
          300.9,
          301.3,
          333.7,
          357.5,
          397.2,
          422.1,
          422.1,
          435.2,
          484.2,
          484.9,
          556.8,
          564.6,
          566.2,
          575.2,
          585.9,
          619.7,
          642.9,
          655.4,
          657.7,
          681.8,
          738.1,
          755.7,
          775.2,
          828,
          852.5,
          919.2,
          940.8
         ],
         "xaxis": "x",
         "y": [
          96.87995667006057,
          102.41413537944855,
          103.70115368395737,
          104.39416354023138,
          105.87918466081848,
          118.35336207375025,
          123.89744092394216,
          149.73680842215796,
          150.33081687039282,
          155.18188586431074,
          185.47631672428787,
          217.05776588877387,
          225.17588134798342,
          225.67088838817915,
          246.36218266835962,
          259.13336430540886,
          259.72737275364364,
          298.83292892910436,
          303.78299933106143,
          304.179004963218,
          336.2554611678997,
          359.8177962812153,
          399.1213552727543,
          423.7727058745004,
          423.7727058745004,
          436.74189032762786,
          485.25258026680694,
          485.94559012308093,
          557.1276025032233,
          564.8497123302764,
          566.4337348589027,
          575.3438615824253,
          585.9370122426134,
          619.3994881598431,
          642.3678148249238,
          654.7429908298164,
          657.0200232147167,
          680.8793625521496,
          736.617155278186,
          754.0414030930749,
          773.3466776607074,
          825.6194211053738,
          849.8747660749634,
          915.9087052370705,
          937.2930093735249
         ],
         "yaxis": "y"
        }
       ],
       "layout": {
        "height": 400,
        "legend": {
         "tracegroupgap": 0
        },
        "margin": {
         "b": 10,
         "l": 10,
         "r": 10,
         "t": 20
        },
        "template": {
         "data": {
          "bar": [
           {
            "error_x": {
             "color": "#2a3f5f"
            },
            "error_y": {
             "color": "#2a3f5f"
            },
            "marker": {
             "line": {
              "color": "#E5ECF6",
              "width": 0.5
             }
            },
            "type": "bar"
           }
          ],
          "barpolar": [
           {
            "marker": {
             "line": {
              "color": "#E5ECF6",
              "width": 0.5
             }
            },
            "type": "barpolar"
           }
          ],
          "carpet": [
           {
            "aaxis": {
             "endlinecolor": "#2a3f5f",
             "gridcolor": "white",
             "linecolor": "white",
             "minorgridcolor": "white",
             "startlinecolor": "#2a3f5f"
            },
            "baxis": {
             "endlinecolor": "#2a3f5f",
             "gridcolor": "white",
             "linecolor": "white",
             "minorgridcolor": "white",
             "startlinecolor": "#2a3f5f"
            },
            "type": "carpet"
           }
          ],
          "choropleth": [
           {
            "colorbar": {
             "outlinewidth": 0,
             "ticks": ""
            },
            "type": "choropleth"
           }
          ],
          "contour": [
           {
            "colorbar": {
             "outlinewidth": 0,
             "ticks": ""
            },
            "colorscale": [
             [
              0,
              "#0d0887"
             ],
             [
              0.1111111111111111,
              "#46039f"
             ],
             [
              0.2222222222222222,
              "#7201a8"
             ],
             [
              0.3333333333333333,
              "#9c179e"
             ],
             [
              0.4444444444444444,
              "#bd3786"
             ],
             [
              0.5555555555555556,
              "#d8576b"
             ],
             [
              0.6666666666666666,
              "#ed7953"
             ],
             [
              0.7777777777777778,
              "#fb9f3a"
             ],
             [
              0.8888888888888888,
              "#fdca26"
             ],
             [
              1,
              "#f0f921"
             ]
            ],
            "type": "contour"
           }
          ],
          "contourcarpet": [
           {
            "colorbar": {
             "outlinewidth": 0,
             "ticks": ""
            },
            "type": "contourcarpet"
           }
          ],
          "heatmap": [
           {
            "colorbar": {
             "outlinewidth": 0,
             "ticks": ""
            },
            "colorscale": [
             [
              0,
              "#0d0887"
             ],
             [
              0.1111111111111111,
              "#46039f"
             ],
             [
              0.2222222222222222,
              "#7201a8"
             ],
             [
              0.3333333333333333,
              "#9c179e"
             ],
             [
              0.4444444444444444,
              "#bd3786"
             ],
             [
              0.5555555555555556,
              "#d8576b"
             ],
             [
              0.6666666666666666,
              "#ed7953"
             ],
             [
              0.7777777777777778,
              "#fb9f3a"
             ],
             [
              0.8888888888888888,
              "#fdca26"
             ],
             [
              1,
              "#f0f921"
             ]
            ],
            "type": "heatmap"
           }
          ],
          "heatmapgl": [
           {
            "colorbar": {
             "outlinewidth": 0,
             "ticks": ""
            },
            "colorscale": [
             [
              0,
              "#0d0887"
             ],
             [
              0.1111111111111111,
              "#46039f"
             ],
             [
              0.2222222222222222,
              "#7201a8"
             ],
             [
              0.3333333333333333,
              "#9c179e"
             ],
             [
              0.4444444444444444,
              "#bd3786"
             ],
             [
              0.5555555555555556,
              "#d8576b"
             ],
             [
              0.6666666666666666,
              "#ed7953"
             ],
             [
              0.7777777777777778,
              "#fb9f3a"
             ],
             [
              0.8888888888888888,
              "#fdca26"
             ],
             [
              1,
              "#f0f921"
             ]
            ],
            "type": "heatmapgl"
           }
          ],
          "histogram": [
           {
            "marker": {
             "colorbar": {
              "outlinewidth": 0,
              "ticks": ""
             }
            },
            "type": "histogram"
           }
          ],
          "histogram2d": [
           {
            "colorbar": {
             "outlinewidth": 0,
             "ticks": ""
            },
            "colorscale": [
             [
              0,
              "#0d0887"
             ],
             [
              0.1111111111111111,
              "#46039f"
             ],
             [
              0.2222222222222222,
              "#7201a8"
             ],
             [
              0.3333333333333333,
              "#9c179e"
             ],
             [
              0.4444444444444444,
              "#bd3786"
             ],
             [
              0.5555555555555556,
              "#d8576b"
             ],
             [
              0.6666666666666666,
              "#ed7953"
             ],
             [
              0.7777777777777778,
              "#fb9f3a"
             ],
             [
              0.8888888888888888,
              "#fdca26"
             ],
             [
              1,
              "#f0f921"
             ]
            ],
            "type": "histogram2d"
           }
          ],
          "histogram2dcontour": [
           {
            "colorbar": {
             "outlinewidth": 0,
             "ticks": ""
            },
            "colorscale": [
             [
              0,
              "#0d0887"
             ],
             [
              0.1111111111111111,
              "#46039f"
             ],
             [
              0.2222222222222222,
              "#7201a8"
             ],
             [
              0.3333333333333333,
              "#9c179e"
             ],
             [
              0.4444444444444444,
              "#bd3786"
             ],
             [
              0.5555555555555556,
              "#d8576b"
             ],
             [
              0.6666666666666666,
              "#ed7953"
             ],
             [
              0.7777777777777778,
              "#fb9f3a"
             ],
             [
              0.8888888888888888,
              "#fdca26"
             ],
             [
              1,
              "#f0f921"
             ]
            ],
            "type": "histogram2dcontour"
           }
          ],
          "mesh3d": [
           {
            "colorbar": {
             "outlinewidth": 0,
             "ticks": ""
            },
            "type": "mesh3d"
           }
          ],
          "parcoords": [
           {
            "line": {
             "colorbar": {
              "outlinewidth": 0,
              "ticks": ""
             }
            },
            "type": "parcoords"
           }
          ],
          "pie": [
           {
            "automargin": true,
            "type": "pie"
           }
          ],
          "scatter": [
           {
            "marker": {
             "colorbar": {
              "outlinewidth": 0,
              "ticks": ""
             }
            },
            "type": "scatter"
           }
          ],
          "scatter3d": [
           {
            "line": {
             "colorbar": {
              "outlinewidth": 0,
              "ticks": ""
             }
            },
            "marker": {
             "colorbar": {
              "outlinewidth": 0,
              "ticks": ""
             }
            },
            "type": "scatter3d"
           }
          ],
          "scattercarpet": [
           {
            "marker": {
             "colorbar": {
              "outlinewidth": 0,
              "ticks": ""
             }
            },
            "type": "scattercarpet"
           }
          ],
          "scattergeo": [
           {
            "marker": {
             "colorbar": {
              "outlinewidth": 0,
              "ticks": ""
             }
            },
            "type": "scattergeo"
           }
          ],
          "scattergl": [
           {
            "marker": {
             "colorbar": {
              "outlinewidth": 0,
              "ticks": ""
             }
            },
            "type": "scattergl"
           }
          ],
          "scattermapbox": [
           {
            "marker": {
             "colorbar": {
              "outlinewidth": 0,
              "ticks": ""
             }
            },
            "type": "scattermapbox"
           }
          ],
          "scatterpolar": [
           {
            "marker": {
             "colorbar": {
              "outlinewidth": 0,
              "ticks": ""
             }
            },
            "type": "scatterpolar"
           }
          ],
          "scatterpolargl": [
           {
            "marker": {
             "colorbar": {
              "outlinewidth": 0,
              "ticks": ""
             }
            },
            "type": "scatterpolargl"
           }
          ],
          "scatterternary": [
           {
            "marker": {
             "colorbar": {
              "outlinewidth": 0,
              "ticks": ""
             }
            },
            "type": "scatterternary"
           }
          ],
          "surface": [
           {
            "colorbar": {
             "outlinewidth": 0,
             "ticks": ""
            },
            "colorscale": [
             [
              0,
              "#0d0887"
             ],
             [
              0.1111111111111111,
              "#46039f"
             ],
             [
              0.2222222222222222,
              "#7201a8"
             ],
             [
              0.3333333333333333,
              "#9c179e"
             ],
             [
              0.4444444444444444,
              "#bd3786"
             ],
             [
              0.5555555555555556,
              "#d8576b"
             ],
             [
              0.6666666666666666,
              "#ed7953"
             ],
             [
              0.7777777777777778,
              "#fb9f3a"
             ],
             [
              0.8888888888888888,
              "#fdca26"
             ],
             [
              1,
              "#f0f921"
             ]
            ],
            "type": "surface"
           }
          ],
          "table": [
           {
            "cells": {
             "fill": {
              "color": "#EBF0F8"
             },
             "line": {
              "color": "white"
             }
            },
            "header": {
             "fill": {
              "color": "#C8D4E3"
             },
             "line": {
              "color": "white"
             }
            },
            "type": "table"
           }
          ]
         },
         "layout": {
          "annotationdefaults": {
           "arrowcolor": "#2a3f5f",
           "arrowhead": 0,
           "arrowwidth": 1
          },
          "autotypenumbers": "strict",
          "coloraxis": {
           "colorbar": {
            "outlinewidth": 0,
            "ticks": ""
           }
          },
          "colorscale": {
           "diverging": [
            [
             0,
             "#8e0152"
            ],
            [
             0.1,
             "#c51b7d"
            ],
            [
             0.2,
             "#de77ae"
            ],
            [
             0.3,
             "#f1b6da"
            ],
            [
             0.4,
             "#fde0ef"
            ],
            [
             0.5,
             "#f7f7f7"
            ],
            [
             0.6,
             "#e6f5d0"
            ],
            [
             0.7,
             "#b8e186"
            ],
            [
             0.8,
             "#7fbc41"
            ],
            [
             0.9,
             "#4d9221"
            ],
            [
             1,
             "#276419"
            ]
           ],
           "sequential": [
            [
             0,
             "#0d0887"
            ],
            [
             0.1111111111111111,
             "#46039f"
            ],
            [
             0.2222222222222222,
             "#7201a8"
            ],
            [
             0.3333333333333333,
             "#9c179e"
            ],
            [
             0.4444444444444444,
             "#bd3786"
            ],
            [
             0.5555555555555556,
             "#d8576b"
            ],
            [
             0.6666666666666666,
             "#ed7953"
            ],
            [
             0.7777777777777778,
             "#fb9f3a"
            ],
            [
             0.8888888888888888,
             "#fdca26"
            ],
            [
             1,
             "#f0f921"
            ]
           ],
           "sequentialminus": [
            [
             0,
             "#0d0887"
            ],
            [
             0.1111111111111111,
             "#46039f"
            ],
            [
             0.2222222222222222,
             "#7201a8"
            ],
            [
             0.3333333333333333,
             "#9c179e"
            ],
            [
             0.4444444444444444,
             "#bd3786"
            ],
            [
             0.5555555555555556,
             "#d8576b"
            ],
            [
             0.6666666666666666,
             "#ed7953"
            ],
            [
             0.7777777777777778,
             "#fb9f3a"
            ],
            [
             0.8888888888888888,
             "#fdca26"
            ],
            [
             1,
             "#f0f921"
            ]
           ]
          },
          "colorway": [
           "#636efa",
           "#EF553B",
           "#00cc96",
           "#ab63fa",
           "#FFA15A",
           "#19d3f3",
           "#FF6692",
           "#B6E880",
           "#FF97FF",
           "#FECB52"
          ],
          "font": {
           "color": "#2a3f5f"
          },
          "geo": {
           "bgcolor": "white",
           "lakecolor": "white",
           "landcolor": "#E5ECF6",
           "showlakes": true,
           "showland": true,
           "subunitcolor": "white"
          },
          "hoverlabel": {
           "align": "left"
          },
          "hovermode": "closest",
          "mapbox": {
           "style": "light"
          },
          "paper_bgcolor": "white",
          "plot_bgcolor": "#E5ECF6",
          "polar": {
           "angularaxis": {
            "gridcolor": "white",
            "linecolor": "white",
            "ticks": ""
           },
           "bgcolor": "#E5ECF6",
           "radialaxis": {
            "gridcolor": "white",
            "linecolor": "white",
            "ticks": ""
           }
          },
          "scene": {
           "xaxis": {
            "backgroundcolor": "#E5ECF6",
            "gridcolor": "white",
            "gridwidth": 2,
            "linecolor": "white",
            "showbackground": true,
            "ticks": "",
            "zerolinecolor": "white"
           },
           "yaxis": {
            "backgroundcolor": "#E5ECF6",
            "gridcolor": "white",
            "gridwidth": 2,
            "linecolor": "white",
            "showbackground": true,
            "ticks": "",
            "zerolinecolor": "white"
           },
           "zaxis": {
            "backgroundcolor": "#E5ECF6",
            "gridcolor": "white",
            "gridwidth": 2,
            "linecolor": "white",
            "showbackground": true,
            "ticks": "",
            "zerolinecolor": "white"
           }
          },
          "shapedefaults": {
           "line": {
            "color": "#2a3f5f"
           }
          },
          "ternary": {
           "aaxis": {
            "gridcolor": "white",
            "linecolor": "white",
            "ticks": ""
           },
           "baxis": {
            "gridcolor": "white",
            "linecolor": "white",
            "ticks": ""
           },
           "bgcolor": "#E5ECF6",
           "caxis": {
            "gridcolor": "white",
            "linecolor": "white",
            "ticks": ""
           }
          },
          "title": {
           "x": 0.05
          },
          "xaxis": {
           "automargin": true,
           "gridcolor": "white",
           "linecolor": "white",
           "ticks": "",
           "title": {
            "standoff": 15
           },
           "zerolinecolor": "white",
           "zerolinewidth": 2
          },
          "yaxis": {
           "automargin": true,
           "gridcolor": "white",
           "linecolor": "white",
           "ticks": "",
           "title": {
            "standoff": 15
           },
           "zerolinecolor": "white",
           "zerolinewidth": 2
          }
         }
        },
        "title": {
         "text": "Test data"
        },
        "width": 500,
        "xaxis": {
         "anchor": "y",
         "domain": [
          0,
          1
         ],
         "title": {
          "text": "True_Value"
         }
        },
        "yaxis": {
         "anchor": "x",
         "domain": [
          0,
          1
         ],
         "title": {
          "text": "Predict_Value"
         }
        }
       }
      }
     },
     "metadata": {},
     "output_type": "display_data"
    },
    {
     "name": "stdout",
     "output_type": "stream",
     "text": [
      "    True_Value  Predict_Value\n",
      "0        98.80      60.357568\n",
      "1        99.50      61.287762\n",
      "2       101.00      73.570872\n",
      "3        91.91     103.770693\n",
      "4        97.50     104.058663\n",
      "5       119.20     104.058663\n",
      "6       145.90     161.244474\n",
      "7       145.30     160.075748\n",
      "8       113.60      93.210741\n",
      "9       222.00     232.845196\n",
      "10      221.50     230.392021\n",
      "11      150.80     149.607267\n",
      "12      255.80     274.051147\n",
      "13      256.40     270.955748\n",
      "14      181.40     183.211121\n",
      "15      300.90     318.860827\n",
      "16      301.30     315.123203\n",
      "17      213.30     220.418703\n",
      "18      422.10     430.732874\n",
      "19      422.10     429.472342\n",
      "20      242.90     261.230013\n",
      "21      484.20     488.436178\n",
      "22      484.90     486.533422\n",
      "23      333.70     356.983828\n",
      "24      564.60     549.743210\n",
      "25      566.20     547.198230\n",
      "26      397.20     411.563557\n",
      "27      619.70     614.653969\n",
      "28      357.50     405.286307\n",
      "29      295.90     296.859113\n",
      "30      556.80     531.534200\n",
      "31      575.20     530.867165\n",
      "32      435.20     431.877931\n",
      "33      755.70     738.518119\n",
      "34      775.20     735.924411\n",
      "35      585.90     632.526205\n",
      "36      828.00     814.720214\n",
      "37      852.50     811.484282\n",
      "38      657.70     706.616418\n",
      "39      919.20     894.526037\n",
      "40      940.80     890.647880\n",
      "41      738.10     784.310358\n",
      "42      655.40     775.328258\n",
      "43      681.80     770.369658\n",
      "44      642.90     538.605842\n",
      "Residual sum of squares for train (MSE): 1212.04\n",
      "R2-score for train: 0.99\n",
      "Residual sum of squares for test (MSE): 1325.58\n",
      "R2-score for test: 0.98\n",
      "Coefficent shape: (1, 21)\n"
     ]
    },
    {
     "data": {
      "text/plain": [
       "(array([  51.75661598,   52.84736618,   54.56864959,   59.63698327,\n",
       "          83.05769213,   43.57458774,  152.65127972,   62.28739192,\n",
       "          59.63698327,   14.00566629,   69.85945123,   70.62908924,\n",
       "          71.70814828,   83.42598841,  113.40766252,   49.03138001,\n",
       "         143.51648393,   85.75528487,   83.42598841,   69.06834349,\n",
       "          91.56601401,   92.01453983,   92.45137449,  110.81872107,\n",
       "         147.36136044,   58.0918998 ,  137.98541567,  112.82690534,\n",
       "         110.81872107,   91.05320349,  116.8763043 ,  117.00371794,\n",
       "         116.79832823,  141.81518125,  184.91878587,   70.75614711,\n",
       "         136.05807493,  143.50225334,  141.81518125,  116.64179102,\n",
       "         145.59662356,  144.74900948,  143.28777276,  145.79032212,\n",
       "         177.78132886,  229.24550464,   86.91882565,  137.73116802,\n",
       "         177.78132886,  176.41536895,  177.79325672,  176.30341826,\n",
       "         174.19995716,  178.30806746,  215.66413189,  273.68927294,\n",
       "         106.46941582,  142.69017013,  215.66413189,  214.61928418,\n",
       "         213.59361739,  211.46155455,  208.71586908,  214.42954031,\n",
       "         257.15066245,  321.73676875,  129.62373351,  151.25289977,\n",
       "         257.15066245,  256.42692692,  252.99770558,  250.22341837,\n",
       "         246.83550853,  254.1547407 ,  302.24092053,  373.38799209,\n",
       "         156.38177872,  163.41935692,  302.24092053,  301.83829719,\n",
       "         296.0055213 ,  292.58900971,  288.55887549,  297.4836686 ,\n",
       "         350.93490614,  428.64294295,  186.74355146,  179.1895416 ,\n",
       "         350.93490614,  350.85339498,  342.61706453,  338.55832858,\n",
       "         333.88596998,  344.41632402,  403.23261926,  487.50162133,\n",
       "         220.70905171,  198.5634538 ,  403.23261926,  403.4722203 ,\n",
       "         459.13405991,  457.55241649,  455.35715043,  459.69477313,\n",
       "         549.96402723,  777.67817486,  392.83233529,  284.39190446,\n",
       "         201.2838343 ,  551.98159563,  518.63922808,  516.41536028,\n",
       "         513.57786985,  519.52105348,  616.03016065,  856.8662388 ,\n",
       "         446.65133357,  331.25102965,  233.55137143,  617.40550467,\n",
       "         581.74812377,  578.88203159,  575.40231679,  582.95106136,\n",
       "         685.70002159,  939.65803025,  504.07405938,  381.71388236,\n",
       "         269.42263608,  686.43314124,  759.06450534,  758.54177797,\n",
       "         757.40542797,  758.97361006, 1033.34286814,  924.66894741,\n",
       "         432.44895056,  500.19014126,  320.00644575,  688.57923646,\n",
       "         563.77918989,  562.79104267,  561.18927281,  564.15371448,\n",
       "         758.43771481, 1014.50185706,  489.47703394,  835.29959695,\n",
       "         369.00390633,  764.64799123,  630.97196605,  629.34159445,\n",
       "         627.09760021,  631.98871501,  838.75242147, 1107.93849423,\n",
       "         550.10884483,  915.13841608,  421.60509443,  844.32047352,\n",
       "         701.76846972,  699.49587375,  696.60965514,  703.42744306,\n",
       "         922.67085566,  767.00093371,  614.34438325,  410.84217794,\n",
       "         477.81001005,  596.83249609,  776.16870092,  773.25388057,\n",
       "         769.72543759,  777.00394711, 1010.19301736,  853.05343787,\n",
       "         682.1836492 ,  441.46764497,  537.61865319,  669.12084537,\n",
       "         854.17265964,  850.61561492,  846.44494756,  857.11608172,\n",
       "        1101.31890659,  942.70966955,  753.62664266,  475.69683952,\n",
       "         601.03102385,  745.01292217,  824.50872649,  827.0982636 ,\n",
       "         829.07417808,  821.30556673, 1046.37121216,  533.47156851,\n",
       "         664.05185815,  456.37991092, 1199.04767789,  474.41890223,\n",
       "         907.60825833,  909.55557107,  910.88926117,  905.04732295,\n",
       "        1142.59267451,  613.63178526,  734.02945948,  510.29626666,\n",
       "         620.9163913 ,  540.81496409]),\n",
       " array([ 60.35756767,  61.28776177,  73.57087246, 103.77069321,\n",
       "        104.05866294, 104.05866294, 161.2444742 , 160.07574793,\n",
       "         93.21074054, 232.84519554, 230.39202052, 149.60726695,\n",
       "        274.0511475 , 270.9557481 , 183.21112143, 318.86082698,\n",
       "        315.1232032 , 220.41870344, 430.73287364, 429.47234241,\n",
       "        261.23001297, 488.43617805, 486.53342244, 356.98382759,\n",
       "        549.74320998, 547.19823   , 411.56355742, 614.65396943,\n",
       "        405.28630669, 296.85911329, 531.53419964, 530.8671646 ,\n",
       "        431.87793081, 738.51811938, 735.92441122, 632.52620479,\n",
       "        814.72021434, 811.4842818 , 706.61641783, 894.52603682,\n",
       "        890.64787991, 784.31035839, 775.32825842, 770.36965797,\n",
       "        538.60584234]))"
      ]
     },
     "execution_count": 53,
     "metadata": {},
     "output_type": "execute_result"
    }
   ],
   "source": [
    "# All parameters\n",
    "polyEstimate(x_train_stress, ym_train_stress.Sv, x_test_stress, ym_test_stress.Sv, print_test=1)"
   ]
  },
  {
   "cell_type": "markdown",
   "metadata": {},
   "source": [
    "<h2 style=\"color:cyan\">Polynomial Regression Model - All inputs - Frequency</h2>"
   ]
  },
  {
   "cell_type": "code",
   "execution_count": 49,
   "metadata": {},
   "outputs": [
    {
     "data": {
      "application/vnd.plotly.v1+json": {
       "config": {
        "plotlyServerURL": "https://plot.ly"
       },
       "data": [
        {
         "hovertemplate": "True_Value=%{x}<br>Predict_Value=%{y}<extra></extra>",
         "legendgroup": "",
         "marker": {
          "color": "#636efa",
          "symbol": "circle"
         },
         "mode": "markers",
         "name": "",
         "orientation": "v",
         "showlegend": false,
         "type": "scatter",
         "x": [
          178.4,
          188.5,
          206.7,
          173.4,
          166.67,
          188.6,
          195.93,
          184.1,
          173.4,
          204.3,
          131.5,
          142.8,
          160.3,
          127.5,
          122.22,
          137.47,
          142.2,
          139.4,
          127.5,
          115.5,
          100.19,
          111.5,
          128.12,
          96.7,
          92.41,
          103.5,
          105.98,
          108.8,
          96.69,
          84.1,
          123.03,
          131.5,
          144.25,
          120.89,
          117.21,
          129.7,
          135.04,
          129.87,
          120.89,
          109.86,
          135.3,
          139.6,
          144.01,
          132.48,
          134.12,
          131.2,
          143.36,
          149.08,
          134.12,
          131.39,
          109.92,
          114.91,
          120.12,
          105.14,
          108.71,
          106.46,
          115.48,
          120.25,
          108.71,
          103.93,
          89.93,
          96.32,
          101.6,
          84.07,
          89.14,
          87.27,
          94.55,
          98.2,
          89.14,
          82.7,
          74.31,
          80.99,
          86.23,
          67.87,
          73.51,
          71.58,
          77.37,
          79.91,
          71.84,
          66.44,
          79.57,
          83.85,
          87.4,
          75.4,
          79.41,
          77.86,
          83.3,
          86.5,
          79.41,
          74.65,
          83.16,
          85.64,
          88.62,
          81.29,
          83.5,
          82.31,
          87.19,
          90.78,
          83.5,
          81.29,
          70.85,
          73.8,
          76.37,
          67.36,
          69.85,
          66.77,
          70.64,
          73.78,
          76.41,
          72.9,
          81.25,
          84.09,
          86.78,
          78.67,
          81.08,
          78.92,
          79.88,
          85.6,
          89.79,
          83.68,
          84.76,
          85.92,
          87.48,
          84.15,
          84.96,
          83.21,
          82.99,
          89.04,
          93.47,
          85.63,
          90.71,
          91.68,
          92.67,
          90.33,
          88.95,
          89.6,
          94.8,
          94.59,
          99.02,
          92.12,
          61.57,
          68.21,
          74.29,
          52.31,
          60.46,
          58.72,
          61.42,
          59.18,
          64.73,
          67.46,
          68.79,
          74.79,
          80.83,
          61.58,
          68.42,
          67.24,
          68.02,
          65.84,
          72.98,
          74.53,
          63.15,
          68.6,
          74.03,
          56.02,
          62.78,
          63.94,
          62.31,
          72.07,
          66.66,
          72.27,
          77.84,
          78.58,
          79.34,
          77.67,
          76.76,
          77.6,
          77.5,
          85.56,
          81.07,
          79.74,
          54.99,
          59.77,
          64.4,
          48.24,
          54.8,
          55.85,
          54.18,
          61.88,
          57.79,
          62.83,
          61.85,
          66.15,
          69.66,
          56.82,
          61.02,
          64.86,
          61.66,
          67.33,
          59.01,
          71.21,
          59.19,
          63.44,
          67.27,
          54.6,
          58.53,
          62.71,
          58.77,
          64.69,
          68.61,
          68.61
         ],
         "xaxis": "x",
         "y": [
          175.24121645147477,
          184.58915074616255,
          201.83754023885353,
          169.48498243645986,
          162.64553450644837,
          181.95637840837867,
          189.36573154867085,
          179.08529039262214,
          169.48498243645986,
          186.419654229875,
          142.33999013336341,
          150.46968794454386,
          165.2816044702205,
          137.01407058501206,
          130.67113934730486,
          147.76244967391904,
          153.6802231030399,
          145.39614205766708,
          137.01407058501206,
          134.90396877760486,
          113.52824906514303,
          120.43971039281615,
          132.81515395147818,
          108.63264398345547,
          102.78622943805226,
          117.65800618935037,
          122.0841999073001,
          115.79647897260304,
          108.63264398345547,
          107.14803266175733,
          118.58342973604107,
          125.42802948690968,
          137.6697498919625,
          114.06272084587624,
          108.64887882915338,
          122.89199126619371,
          127.52449776023451,
          121.1596942582193,
          114.06272084587624,
          112.26116003255271,
          128.29219523412866,
          140.40019248557212,
          150.57821760810356,
          121.51445706006444,
          124.39875619696107,
          119.70868708754267,
          134.12995786675424,
          140.52692717134084,
          124.39875619696107,
          117.36864436142241,
          106.00371492202015,
          115.67523920644919,
          123.41679136196632,
          100.44421323146338,
          102.54059035151619,
          98.3470379344019,
          110.54877513829751,
          115.45416473171281,
          102.54059035151619,
          96.72871499948496,
          87.8047198598029,
          95.03977117721757,
          100.34485036571994,
          83.46345465275334,
          84.77190975596255,
          81.07487403115249,
          91.05707765973182,
          94.47088754197603,
          84.77190975596255,
          80.17827088743866,
          73.69521004747628,
          78.49378839787653,
          81.3623946193643,
          70.57218132393393,
          71.09271441029966,
          67.89219537779377,
          75.65486543105703,
          77.57709560212993,
          71.09271441029966,
          67.71731202528298,
          79.91324043241286,
          84.57809562920386,
          87.31297869708283,
          76.85707328567526,
          77.68564098675904,
          74.91769448293337,
          82.05170022193897,
          84.18024316910282,
          77.68564098675904,
          74.37710017854693,
          84.00711747047512,
          88.53824951365687,
          91.1394094279267,
          81.01781190054214,
          82.15441421634421,
          79.81904024119854,
          86.32438166594682,
          88.65923738920151,
          82.15441421634421,
          78.91273498493672,
          76.21671611030081,
          78.81612250941691,
          79.48555677962077,
          74.19327336240065,
          74.37785882745925,
          70.06487459737195,
          77.639104897768,
          76.51008307324548,
          76.50967275896926,
          77.55966598382383,
          81.62850790775781,
          84.66987860661607,
          85.78127717656241,
          79.38408300998663,
          80.20623711269081,
          76.72642585815152,
          82.68985507248772,
          82.46855598222135,
          83.09893156585156,
          83.83000856879778,
          82.68744060302322,
          85.59508814827268,
          86.57276356460955,
          80.50987728205689,
          81.697742336636,
          79.08307613945715,
          83.37389157622988,
          83.70629308343223,
          84.5429814431534,
          85.18779063913382,
          84.42141936259543,
          85.84777238257232,
          85.34415327363592,
          81.06509421370708,
          83.83669973727444,
          82.08497254035694,
          88.29459462246325,
          87.47618331564547,
          90.66200029764434,
          90.49603896513361,
          79.21382317487303,
          86.08568370105229,
          91.02757209831873,
          70.41199051978174,
          77.64701554513283,
          75.23318169618608,
          79.67959215754149,
          74.14087128801077,
          84.72831854204071,
          85.68367758580905,
          67.0263300970031,
          74.3401549229244,
          79.72400761993356,
          57.782533142169655,
          66.29269544281112,
          64.7120345694126,
          67.07551259189711,
          61.40669709862175,
          73.17161136207699,
          74.77132178322961,
          60.838567011336295,
          66.86729377694553,
          70.96604841364262,
          52.87986811681412,
          61.03402157812832,
          61.991160832356286,
          60.42320489573774,
          76.25715472350169,
          66.3412148088695,
          74.89952927923275,
          84.84208963147273,
          84.98021870995933,
          83.18837565953402,
          84.36716390999698,
          86.22241007374589,
          84.32599676138977,
          83.83429457813452,
          88.14542201744587,
          86.30631898694196,
          90.15890164566338,
          52.6760487595601,
          56.13457940454589,
          57.66313792061908,
          47.28754598566195,
          54.72968176832103,
          56.2597325294372,
          51.331597422977325,
          64.23883566648522,
          56.89342962201374,
          64.73972641372177,
          57.108360293943974,
          62.208609786463626,
          65.37888715007182,
          50.0781386725115,
          58.429917291722745,
          60.364322888462425,
          54.9397770769591,
          66.35610889389443,
          51.93980815375119,
          76.2813801456183,
          54.76259396955845,
          58.57774540176672,
          60.462924705062164,
          49.01747040843759,
          57.01324018832122,
          58.59146807096488,
          51.6649215315889,
          62.72507563442775,
          69.23508305871746,
          72.29433804682424
         ],
         "yaxis": "y"
        },
        {
         "hovertemplate": "<b>OLS trendline</b><br>Predict_Value = 0.951319 * True_Value + 4.46532<br>R<sup>2</sup>=0.951319<br><br>True_Value=%{x}<br>Predict_Value=%{y} <b>(trend)</b><extra></extra>",
         "legendgroup": "",
         "marker": {
          "color": "#636efa",
          "symbol": "circle"
         },
         "mode": "lines",
         "name": "",
         "showlegend": false,
         "type": "scatter",
         "x": [
          48.24,
          52.31,
          54.18,
          54.6,
          54.8,
          54.99,
          55.85,
          56.02,
          56.82,
          57.79,
          58.53,
          58.72,
          58.77,
          59.01,
          59.18,
          59.19,
          59.77,
          60.46,
          61.02,
          61.42,
          61.57,
          61.58,
          61.66,
          61.85,
          61.88,
          62.31,
          62.71,
          62.78,
          62.83,
          63.15,
          63.44,
          63.94,
          64.4,
          64.69,
          64.73,
          64.86,
          65.84,
          66.15,
          66.44,
          66.66,
          66.77,
          67.24,
          67.27,
          67.33,
          67.36,
          67.46,
          67.87,
          68.02,
          68.21,
          68.42,
          68.6,
          68.61,
          68.61,
          68.79,
          69.66,
          69.85,
          70.64,
          70.85,
          71.21,
          71.58,
          71.84,
          72.07,
          72.27,
          72.9,
          72.98,
          73.51,
          73.78,
          73.8,
          74.03,
          74.29,
          74.31,
          74.53,
          74.65,
          74.79,
          75.4,
          76.37,
          76.41,
          76.76,
          77.37,
          77.5,
          77.6,
          77.67,
          77.84,
          77.86,
          78.58,
          78.67,
          78.92,
          79.34,
          79.41,
          79.41,
          79.57,
          79.74,
          79.88,
          79.91,
          80.83,
          80.99,
          81.07,
          81.08,
          81.25,
          81.29,
          81.29,
          82.31,
          82.7,
          82.99,
          83.16,
          83.21,
          83.3,
          83.5,
          83.5,
          83.68,
          83.85,
          84.07,
          84.09,
          84.1,
          84.15,
          84.76,
          84.96,
          85.56,
          85.6,
          85.63,
          85.64,
          85.92,
          86.23,
          86.5,
          86.78,
          87.19,
          87.27,
          87.4,
          87.48,
          88.62,
          88.95,
          89.04,
          89.14,
          89.14,
          89.6,
          89.79,
          89.93,
          90.33,
          90.71,
          90.78,
          91.68,
          92.12,
          92.41,
          92.67,
          93.47,
          94.55,
          94.59,
          94.8,
          96.32,
          96.69,
          96.7,
          98.2,
          99.02,
          100.19,
          101.6,
          103.5,
          103.93,
          105.14,
          105.98,
          106.46,
          108.71,
          108.71,
          108.8,
          109.86,
          109.92,
          111.5,
          114.91,
          115.48,
          115.5,
          117.21,
          120.12,
          120.25,
          120.89,
          120.89,
          122.22,
          123.03,
          127.5,
          127.5,
          128.12,
          129.7,
          129.87,
          131.2,
          131.39,
          131.5,
          131.5,
          132.48,
          134.12,
          134.12,
          135.04,
          135.3,
          137.47,
          139.4,
          139.6,
          142.2,
          142.8,
          143.36,
          144.01,
          144.25,
          149.08,
          160.3,
          166.67,
          173.4,
          173.4,
          178.4,
          184.1,
          188.5,
          188.6,
          195.93,
          204.3,
          206.7
         ],
         "xaxis": "x",
         "y": [
          50.356965845383804,
          54.22883584572882,
          56.007803143184624,
          56.407357295554384,
          56.59762117763521,
          56.778371865612016,
          57.596506558559604,
          57.75823085832832,
          58.51928638665166,
          59.44206621474371,
          60.1460425784428,
          60.32679326641959,
          60.37435923693981,
          60.6026758954368,
          60.76440019520552,
          60.773913389309556,
          61.325678647343985,
          61.982089040522865,
          62.51482791034921,
          62.89535567451088,
          63.038053586071506,
          63.04756678017554,
          63.123672333007875,
          63.30442302098468,
          63.33296260329681,
          63.7420299497706,
          64.12255771393227,
          64.18915007266055,
          64.23671604318076,
          64.5411382545101,
          64.81702088352732,
          65.2926805887294,
          65.73028751751534,
          66.00617014653254,
          66.0442229229487,
          66.16789444630125,
          67.10018746849735,
          67.39509648572265,
          67.67097911473985,
          67.88026938502877,
          67.98491452017322,
          68.43203464306319,
          68.46057422537531,
          68.51765338999957,
          68.5461929723117,
          68.64132491335211,
          69.03136587161784,
          69.17406378317845,
          69.35481447115525,
          69.55459154734012,
          69.72582904121288,
          69.73534223531692,
          69.73534223531692,
          69.90657972918969,
          70.73422761624131,
          70.9149783042181,
          71.6665206384374,
          71.86629771462228,
          72.20877270236778,
          72.56076088421733,
          72.80810393092243,
          73.02690739531538,
          73.21717127739622,
          73.81650250595085,
          73.89260805878318,
          74.39680734629741,
          74.65366358710652,
          74.67268997531461,
          74.89149343970757,
          75.13883648641266,
          75.15786287462075,
          75.36715314490966,
          75.48131147415816,
          75.61449619161475,
          76.1948010319613,
          77.11758086005335,
          77.15563363646952,
          77.48859543011098,
          78.06890027045753,
          78.19257179381007,
          78.28770373485048,
          78.35429609357878,
          78.51602039334749,
          78.53504678155558,
          79.21999675704659,
          79.30561550398296,
          79.543445356584,
          79.94299950895376,
          80.00959186768205,
          80.00959186768205,
          80.16180297334671,
          80.32352727311543,
          80.456711990572,
          80.48525157288414,
          81.36046543045599,
          81.51267653612065,
          81.58878208895298,
          81.59829528305703,
          81.76001958282573,
          81.79807235924191,
          81.79807235924191,
          82.76841815785417,
          83.1394327279118,
          83.415315356929,
          83.57703965669772,
          83.62460562721792,
          83.71022437415431,
          83.90048825623514,
          83.90048825623514,
          84.0717257501079,
          84.2334500498766,
          84.44274032016551,
          84.46176670837362,
          84.47127990247765,
          84.51884587299786,
          85.09915071334441,
          85.28941459542524,
          85.86020624166775,
          85.8982590180839,
          85.92679860039604,
          85.93631179450009,
          86.20268122941326,
          86.49759024663855,
          86.75444648744768,
          87.02081592236085,
          87.41085688062655,
          87.48696243345888,
          87.61063395681144,
          87.68673950964377,
          88.77124363750454,
          89.08517904293792,
          89.1707977898743,
          89.2659297309147,
          89.2659297309147,
          89.70353665970063,
          89.88428734767743,
          90.01747206513402,
          90.39799982929569,
          90.75950120524926,
          90.82609356397757,
          91.68228103334133,
          92.10086157391916,
          92.37674420293637,
          92.62408724964146,
          93.3851427779648,
          94.41256774120131,
          94.45062051761748,
          94.65039759380235,
          96.0964030976167,
          96.44839127946625,
          96.4579044735703,
          97.88488358917657,
          98.66496550570798,
          99.77800921588089,
          101.11936958455077,
          102.92687646431871,
          103.33594381079251,
          104.48704029738157,
          105.28614860212107,
          105.74278191911507,
          107.88325059252448,
          107.88325059252448,
          107.96886933946085,
          108.97726791448929,
          109.03434707911354,
          110.53743174755213,
          113.7814309370304,
          114.32368300096077,
          114.34270938916886,
          115.96946558095999,
          118.73780506523616,
          118.8614765885887,
          119.47032101124738,
          119.47032101124738,
          120.73557582708493,
          121.50614454951231,
          125.758542314019,
          125.758542314019,
          126.3483603484696,
          127.85144501690817,
          128.0131693166769,
          129.27842413251443,
          129.45917482049123,
          129.5638199556357,
          129.5638199556357,
          130.49611297783179,
          132.05627681089464,
          132.05627681089464,
          132.9314906684665,
          133.1788337151716,
          135.24319683574865,
          137.07924329782873,
          137.26950717990954,
          139.7429376469604,
          140.31372929320295,
          140.84646816302927,
          141.46482577979197,
          141.693142438289,
          146.2880151905412,
          156.96181897527606,
          163.02172361955067,
          169.4241032515708,
          169.4241032515708,
          174.1807003035917,
          179.6032209428955,
          183.7890263486739,
          183.8841582897143,
          190.85732956797693,
          198.81987303305993,
          201.10303961802992
         ],
         "yaxis": "y"
        }
       ],
       "layout": {
        "height": 400,
        "legend": {
         "tracegroupgap": 0
        },
        "margin": {
         "b": 10,
         "l": 10,
         "r": 10,
         "t": 20
        },
        "template": {
         "data": {
          "bar": [
           {
            "error_x": {
             "color": "#2a3f5f"
            },
            "error_y": {
             "color": "#2a3f5f"
            },
            "marker": {
             "line": {
              "color": "#E5ECF6",
              "width": 0.5
             }
            },
            "type": "bar"
           }
          ],
          "barpolar": [
           {
            "marker": {
             "line": {
              "color": "#E5ECF6",
              "width": 0.5
             }
            },
            "type": "barpolar"
           }
          ],
          "carpet": [
           {
            "aaxis": {
             "endlinecolor": "#2a3f5f",
             "gridcolor": "white",
             "linecolor": "white",
             "minorgridcolor": "white",
             "startlinecolor": "#2a3f5f"
            },
            "baxis": {
             "endlinecolor": "#2a3f5f",
             "gridcolor": "white",
             "linecolor": "white",
             "minorgridcolor": "white",
             "startlinecolor": "#2a3f5f"
            },
            "type": "carpet"
           }
          ],
          "choropleth": [
           {
            "colorbar": {
             "outlinewidth": 0,
             "ticks": ""
            },
            "type": "choropleth"
           }
          ],
          "contour": [
           {
            "colorbar": {
             "outlinewidth": 0,
             "ticks": ""
            },
            "colorscale": [
             [
              0,
              "#0d0887"
             ],
             [
              0.1111111111111111,
              "#46039f"
             ],
             [
              0.2222222222222222,
              "#7201a8"
             ],
             [
              0.3333333333333333,
              "#9c179e"
             ],
             [
              0.4444444444444444,
              "#bd3786"
             ],
             [
              0.5555555555555556,
              "#d8576b"
             ],
             [
              0.6666666666666666,
              "#ed7953"
             ],
             [
              0.7777777777777778,
              "#fb9f3a"
             ],
             [
              0.8888888888888888,
              "#fdca26"
             ],
             [
              1,
              "#f0f921"
             ]
            ],
            "type": "contour"
           }
          ],
          "contourcarpet": [
           {
            "colorbar": {
             "outlinewidth": 0,
             "ticks": ""
            },
            "type": "contourcarpet"
           }
          ],
          "heatmap": [
           {
            "colorbar": {
             "outlinewidth": 0,
             "ticks": ""
            },
            "colorscale": [
             [
              0,
              "#0d0887"
             ],
             [
              0.1111111111111111,
              "#46039f"
             ],
             [
              0.2222222222222222,
              "#7201a8"
             ],
             [
              0.3333333333333333,
              "#9c179e"
             ],
             [
              0.4444444444444444,
              "#bd3786"
             ],
             [
              0.5555555555555556,
              "#d8576b"
             ],
             [
              0.6666666666666666,
              "#ed7953"
             ],
             [
              0.7777777777777778,
              "#fb9f3a"
             ],
             [
              0.8888888888888888,
              "#fdca26"
             ],
             [
              1,
              "#f0f921"
             ]
            ],
            "type": "heatmap"
           }
          ],
          "heatmapgl": [
           {
            "colorbar": {
             "outlinewidth": 0,
             "ticks": ""
            },
            "colorscale": [
             [
              0,
              "#0d0887"
             ],
             [
              0.1111111111111111,
              "#46039f"
             ],
             [
              0.2222222222222222,
              "#7201a8"
             ],
             [
              0.3333333333333333,
              "#9c179e"
             ],
             [
              0.4444444444444444,
              "#bd3786"
             ],
             [
              0.5555555555555556,
              "#d8576b"
             ],
             [
              0.6666666666666666,
              "#ed7953"
             ],
             [
              0.7777777777777778,
              "#fb9f3a"
             ],
             [
              0.8888888888888888,
              "#fdca26"
             ],
             [
              1,
              "#f0f921"
             ]
            ],
            "type": "heatmapgl"
           }
          ],
          "histogram": [
           {
            "marker": {
             "colorbar": {
              "outlinewidth": 0,
              "ticks": ""
             }
            },
            "type": "histogram"
           }
          ],
          "histogram2d": [
           {
            "colorbar": {
             "outlinewidth": 0,
             "ticks": ""
            },
            "colorscale": [
             [
              0,
              "#0d0887"
             ],
             [
              0.1111111111111111,
              "#46039f"
             ],
             [
              0.2222222222222222,
              "#7201a8"
             ],
             [
              0.3333333333333333,
              "#9c179e"
             ],
             [
              0.4444444444444444,
              "#bd3786"
             ],
             [
              0.5555555555555556,
              "#d8576b"
             ],
             [
              0.6666666666666666,
              "#ed7953"
             ],
             [
              0.7777777777777778,
              "#fb9f3a"
             ],
             [
              0.8888888888888888,
              "#fdca26"
             ],
             [
              1,
              "#f0f921"
             ]
            ],
            "type": "histogram2d"
           }
          ],
          "histogram2dcontour": [
           {
            "colorbar": {
             "outlinewidth": 0,
             "ticks": ""
            },
            "colorscale": [
             [
              0,
              "#0d0887"
             ],
             [
              0.1111111111111111,
              "#46039f"
             ],
             [
              0.2222222222222222,
              "#7201a8"
             ],
             [
              0.3333333333333333,
              "#9c179e"
             ],
             [
              0.4444444444444444,
              "#bd3786"
             ],
             [
              0.5555555555555556,
              "#d8576b"
             ],
             [
              0.6666666666666666,
              "#ed7953"
             ],
             [
              0.7777777777777778,
              "#fb9f3a"
             ],
             [
              0.8888888888888888,
              "#fdca26"
             ],
             [
              1,
              "#f0f921"
             ]
            ],
            "type": "histogram2dcontour"
           }
          ],
          "mesh3d": [
           {
            "colorbar": {
             "outlinewidth": 0,
             "ticks": ""
            },
            "type": "mesh3d"
           }
          ],
          "parcoords": [
           {
            "line": {
             "colorbar": {
              "outlinewidth": 0,
              "ticks": ""
             }
            },
            "type": "parcoords"
           }
          ],
          "pie": [
           {
            "automargin": true,
            "type": "pie"
           }
          ],
          "scatter": [
           {
            "marker": {
             "colorbar": {
              "outlinewidth": 0,
              "ticks": ""
             }
            },
            "type": "scatter"
           }
          ],
          "scatter3d": [
           {
            "line": {
             "colorbar": {
              "outlinewidth": 0,
              "ticks": ""
             }
            },
            "marker": {
             "colorbar": {
              "outlinewidth": 0,
              "ticks": ""
             }
            },
            "type": "scatter3d"
           }
          ],
          "scattercarpet": [
           {
            "marker": {
             "colorbar": {
              "outlinewidth": 0,
              "ticks": ""
             }
            },
            "type": "scattercarpet"
           }
          ],
          "scattergeo": [
           {
            "marker": {
             "colorbar": {
              "outlinewidth": 0,
              "ticks": ""
             }
            },
            "type": "scattergeo"
           }
          ],
          "scattergl": [
           {
            "marker": {
             "colorbar": {
              "outlinewidth": 0,
              "ticks": ""
             }
            },
            "type": "scattergl"
           }
          ],
          "scattermapbox": [
           {
            "marker": {
             "colorbar": {
              "outlinewidth": 0,
              "ticks": ""
             }
            },
            "type": "scattermapbox"
           }
          ],
          "scatterpolar": [
           {
            "marker": {
             "colorbar": {
              "outlinewidth": 0,
              "ticks": ""
             }
            },
            "type": "scatterpolar"
           }
          ],
          "scatterpolargl": [
           {
            "marker": {
             "colorbar": {
              "outlinewidth": 0,
              "ticks": ""
             }
            },
            "type": "scatterpolargl"
           }
          ],
          "scatterternary": [
           {
            "marker": {
             "colorbar": {
              "outlinewidth": 0,
              "ticks": ""
             }
            },
            "type": "scatterternary"
           }
          ],
          "surface": [
           {
            "colorbar": {
             "outlinewidth": 0,
             "ticks": ""
            },
            "colorscale": [
             [
              0,
              "#0d0887"
             ],
             [
              0.1111111111111111,
              "#46039f"
             ],
             [
              0.2222222222222222,
              "#7201a8"
             ],
             [
              0.3333333333333333,
              "#9c179e"
             ],
             [
              0.4444444444444444,
              "#bd3786"
             ],
             [
              0.5555555555555556,
              "#d8576b"
             ],
             [
              0.6666666666666666,
              "#ed7953"
             ],
             [
              0.7777777777777778,
              "#fb9f3a"
             ],
             [
              0.8888888888888888,
              "#fdca26"
             ],
             [
              1,
              "#f0f921"
             ]
            ],
            "type": "surface"
           }
          ],
          "table": [
           {
            "cells": {
             "fill": {
              "color": "#EBF0F8"
             },
             "line": {
              "color": "white"
             }
            },
            "header": {
             "fill": {
              "color": "#C8D4E3"
             },
             "line": {
              "color": "white"
             }
            },
            "type": "table"
           }
          ]
         },
         "layout": {
          "annotationdefaults": {
           "arrowcolor": "#2a3f5f",
           "arrowhead": 0,
           "arrowwidth": 1
          },
          "autotypenumbers": "strict",
          "coloraxis": {
           "colorbar": {
            "outlinewidth": 0,
            "ticks": ""
           }
          },
          "colorscale": {
           "diverging": [
            [
             0,
             "#8e0152"
            ],
            [
             0.1,
             "#c51b7d"
            ],
            [
             0.2,
             "#de77ae"
            ],
            [
             0.3,
             "#f1b6da"
            ],
            [
             0.4,
             "#fde0ef"
            ],
            [
             0.5,
             "#f7f7f7"
            ],
            [
             0.6,
             "#e6f5d0"
            ],
            [
             0.7,
             "#b8e186"
            ],
            [
             0.8,
             "#7fbc41"
            ],
            [
             0.9,
             "#4d9221"
            ],
            [
             1,
             "#276419"
            ]
           ],
           "sequential": [
            [
             0,
             "#0d0887"
            ],
            [
             0.1111111111111111,
             "#46039f"
            ],
            [
             0.2222222222222222,
             "#7201a8"
            ],
            [
             0.3333333333333333,
             "#9c179e"
            ],
            [
             0.4444444444444444,
             "#bd3786"
            ],
            [
             0.5555555555555556,
             "#d8576b"
            ],
            [
             0.6666666666666666,
             "#ed7953"
            ],
            [
             0.7777777777777778,
             "#fb9f3a"
            ],
            [
             0.8888888888888888,
             "#fdca26"
            ],
            [
             1,
             "#f0f921"
            ]
           ],
           "sequentialminus": [
            [
             0,
             "#0d0887"
            ],
            [
             0.1111111111111111,
             "#46039f"
            ],
            [
             0.2222222222222222,
             "#7201a8"
            ],
            [
             0.3333333333333333,
             "#9c179e"
            ],
            [
             0.4444444444444444,
             "#bd3786"
            ],
            [
             0.5555555555555556,
             "#d8576b"
            ],
            [
             0.6666666666666666,
             "#ed7953"
            ],
            [
             0.7777777777777778,
             "#fb9f3a"
            ],
            [
             0.8888888888888888,
             "#fdca26"
            ],
            [
             1,
             "#f0f921"
            ]
           ]
          },
          "colorway": [
           "#636efa",
           "#EF553B",
           "#00cc96",
           "#ab63fa",
           "#FFA15A",
           "#19d3f3",
           "#FF6692",
           "#B6E880",
           "#FF97FF",
           "#FECB52"
          ],
          "font": {
           "color": "#2a3f5f"
          },
          "geo": {
           "bgcolor": "white",
           "lakecolor": "white",
           "landcolor": "#E5ECF6",
           "showlakes": true,
           "showland": true,
           "subunitcolor": "white"
          },
          "hoverlabel": {
           "align": "left"
          },
          "hovermode": "closest",
          "mapbox": {
           "style": "light"
          },
          "paper_bgcolor": "white",
          "plot_bgcolor": "#E5ECF6",
          "polar": {
           "angularaxis": {
            "gridcolor": "white",
            "linecolor": "white",
            "ticks": ""
           },
           "bgcolor": "#E5ECF6",
           "radialaxis": {
            "gridcolor": "white",
            "linecolor": "white",
            "ticks": ""
           }
          },
          "scene": {
           "xaxis": {
            "backgroundcolor": "#E5ECF6",
            "gridcolor": "white",
            "gridwidth": 2,
            "linecolor": "white",
            "showbackground": true,
            "ticks": "",
            "zerolinecolor": "white"
           },
           "yaxis": {
            "backgroundcolor": "#E5ECF6",
            "gridcolor": "white",
            "gridwidth": 2,
            "linecolor": "white",
            "showbackground": true,
            "ticks": "",
            "zerolinecolor": "white"
           },
           "zaxis": {
            "backgroundcolor": "#E5ECF6",
            "gridcolor": "white",
            "gridwidth": 2,
            "linecolor": "white",
            "showbackground": true,
            "ticks": "",
            "zerolinecolor": "white"
           }
          },
          "shapedefaults": {
           "line": {
            "color": "#2a3f5f"
           }
          },
          "ternary": {
           "aaxis": {
            "gridcolor": "white",
            "linecolor": "white",
            "ticks": ""
           },
           "baxis": {
            "gridcolor": "white",
            "linecolor": "white",
            "ticks": ""
           },
           "bgcolor": "#E5ECF6",
           "caxis": {
            "gridcolor": "white",
            "linecolor": "white",
            "ticks": ""
           }
          },
          "title": {
           "x": 0.05
          },
          "xaxis": {
           "automargin": true,
           "gridcolor": "white",
           "linecolor": "white",
           "ticks": "",
           "title": {
            "standoff": 15
           },
           "zerolinecolor": "white",
           "zerolinewidth": 2
          },
          "yaxis": {
           "automargin": true,
           "gridcolor": "white",
           "linecolor": "white",
           "ticks": "",
           "title": {
            "standoff": 15
           },
           "zerolinecolor": "white",
           "zerolinewidth": 2
          }
         }
        },
        "title": {
         "text": "Train data"
        },
        "width": 500,
        "xaxis": {
         "anchor": "y",
         "domain": [
          0,
          1
         ],
         "title": {
          "text": "True_Value"
         }
        },
        "yaxis": {
         "anchor": "x",
         "domain": [
          0,
          1
         ],
         "title": {
          "text": "Predict_Value"
         }
        }
       }
      }
     },
     "metadata": {},
     "output_type": "display_data"
    },
    {
     "data": {
      "application/vnd.plotly.v1+json": {
       "config": {
        "plotlyServerURL": "https://plot.ly"
       },
       "data": [
        {
         "hovertemplate": "True_Value=%{x}<br>Predict_Value=%{y}<extra></extra>",
         "legendgroup": "",
         "marker": {
          "color": "#636efa",
          "symbol": "circle"
         },
         "mode": "markers",
         "name": "",
         "orientation": "v",
         "showlegend": false,
         "type": "scatter",
         "x": [
          153.19,
          163.73,
          159.96,
          139.19,
          147.48,
          145.67,
          121.05,
          125.81,
          130.08,
          81.38,
          87.88,
          90.56,
          67.48,
          74.64,
          76.7,
          72.97,
          77.68,
          80.29,
          76.46,
          78.94,
          82.08,
          65.5,
          68.84,
          70.56,
          75.56,
          78.67,
          81.86,
          80.1,
          83.5,
          87.23,
          69.6,
          76.41,
          80.25,
          60.11,
          65.45,
          68.87,
          57.92,
          62.84,
          66.29,
          53.85,
          58.42,
          61.39,
          51.35,
          55.72,
          60.69
         ],
         "xaxis": "x",
         "y": [
          158.27941763618264,
          167.0182336891168,
          161.72953056890827,
          131.56511161648274,
          139.018829609105,
          139.018829609105,
          116.63676942183815,
          127.5265301897744,
          131.51400571021588,
          80.23877929740314,
          86.25559413131066,
          88.51829375238253,
          68.1740121100222,
          71.75435397691501,
          73.15466564830228,
          75.30504549239083,
          78.7516642056745,
          80.70567647453026,
          78.67437950708597,
          82.4920223897094,
          86.13253395388358,
          74.78142402598826,
          76.16259394159704,
          76.65851858362191,
          80.82328391399915,
          82.64641812935031,
          84.10561037066861,
          82.79521960669649,
          87.55792533372846,
          88.78891419470426,
          81.33341336872991,
          89.42351037841593,
          95.95460441708576,
          61.85028903169507,
          66.6607793137972,
          74.44374165280294,
          54.1900523325595,
          58.29113200770087,
          66.75305114015453,
          51.513129179857856,
          54.32911079468738,
          63.07748568058503,
          52.98308798761593,
          56.3451735507316,
          66.41026463470394
         ],
         "yaxis": "y"
        },
        {
         "hovertemplate": "<b>OLS trendline</b><br>Predict_Value = 0.960395 * True_Value + 5.10176<br>R<sup>2</sup>=0.973480<br><br>True_Value=%{x}<br>Predict_Value=%{y} <b>(trend)</b><extra></extra>",
         "legendgroup": "",
         "marker": {
          "color": "#636efa",
          "symbol": "circle"
         },
         "mode": "lines",
         "name": "",
         "showlegend": false,
         "type": "scatter",
         "x": [
          51.35,
          53.85,
          55.72,
          57.92,
          58.42,
          60.11,
          60.69,
          61.39,
          62.84,
          65.45,
          65.5,
          66.29,
          67.48,
          68.84,
          68.87,
          69.6,
          70.56,
          72.97,
          74.64,
          75.56,
          76.41,
          76.46,
          76.7,
          77.68,
          78.67,
          78.94,
          80.1,
          80.25,
          80.29,
          81.38,
          81.86,
          82.08,
          83.5,
          87.23,
          87.88,
          90.56,
          121.05,
          125.81,
          130.08,
          139.19,
          145.67,
          147.48,
          153.19,
          159.96,
          163.73
         ],
         "xaxis": "x",
         "y": [
          54.418063968696664,
          56.819052382094064,
          58.61499171531532,
          60.72786151910503,
          61.20805920178451,
          62.83112736924115,
          63.38815668114935,
          64.06043343690061,
          65.45300671667111,
          67.95963862025799,
          68.00765838852594,
          68.76637072715953,
          69.90924121193667,
          71.21537890882486,
          71.24419076978563,
          71.94527938649766,
          72.86725893724227,
          75.18181176775737,
          76.78567202790683,
          77.66923576403707,
          78.48557182459218,
          78.53359159286012,
          78.76408648054628,
          79.70527393859807,
          80.65606535030344,
          80.91537209895034,
          82.02943072276673,
          82.1734900275706,
          82.21190584218495,
          83.25873679042621,
          83.71972656579851,
          83.93101354617748,
          85.29477496498721,
          88.87704967777613,
          89.50130666525945,
          92.07516624442147,
          121.35762093421613,
          125.92910287332478,
          130.02999108340757,
          138.77919286182768,
          145.00255482935373,
          146.74087044065345,
          152.2247279768531,
          158.72660460033327,
          162.34729512773654
         ],
         "yaxis": "y"
        }
       ],
       "layout": {
        "height": 400,
        "legend": {
         "tracegroupgap": 0
        },
        "margin": {
         "b": 10,
         "l": 10,
         "r": 10,
         "t": 20
        },
        "template": {
         "data": {
          "bar": [
           {
            "error_x": {
             "color": "#2a3f5f"
            },
            "error_y": {
             "color": "#2a3f5f"
            },
            "marker": {
             "line": {
              "color": "#E5ECF6",
              "width": 0.5
             }
            },
            "type": "bar"
           }
          ],
          "barpolar": [
           {
            "marker": {
             "line": {
              "color": "#E5ECF6",
              "width": 0.5
             }
            },
            "type": "barpolar"
           }
          ],
          "carpet": [
           {
            "aaxis": {
             "endlinecolor": "#2a3f5f",
             "gridcolor": "white",
             "linecolor": "white",
             "minorgridcolor": "white",
             "startlinecolor": "#2a3f5f"
            },
            "baxis": {
             "endlinecolor": "#2a3f5f",
             "gridcolor": "white",
             "linecolor": "white",
             "minorgridcolor": "white",
             "startlinecolor": "#2a3f5f"
            },
            "type": "carpet"
           }
          ],
          "choropleth": [
           {
            "colorbar": {
             "outlinewidth": 0,
             "ticks": ""
            },
            "type": "choropleth"
           }
          ],
          "contour": [
           {
            "colorbar": {
             "outlinewidth": 0,
             "ticks": ""
            },
            "colorscale": [
             [
              0,
              "#0d0887"
             ],
             [
              0.1111111111111111,
              "#46039f"
             ],
             [
              0.2222222222222222,
              "#7201a8"
             ],
             [
              0.3333333333333333,
              "#9c179e"
             ],
             [
              0.4444444444444444,
              "#bd3786"
             ],
             [
              0.5555555555555556,
              "#d8576b"
             ],
             [
              0.6666666666666666,
              "#ed7953"
             ],
             [
              0.7777777777777778,
              "#fb9f3a"
             ],
             [
              0.8888888888888888,
              "#fdca26"
             ],
             [
              1,
              "#f0f921"
             ]
            ],
            "type": "contour"
           }
          ],
          "contourcarpet": [
           {
            "colorbar": {
             "outlinewidth": 0,
             "ticks": ""
            },
            "type": "contourcarpet"
           }
          ],
          "heatmap": [
           {
            "colorbar": {
             "outlinewidth": 0,
             "ticks": ""
            },
            "colorscale": [
             [
              0,
              "#0d0887"
             ],
             [
              0.1111111111111111,
              "#46039f"
             ],
             [
              0.2222222222222222,
              "#7201a8"
             ],
             [
              0.3333333333333333,
              "#9c179e"
             ],
             [
              0.4444444444444444,
              "#bd3786"
             ],
             [
              0.5555555555555556,
              "#d8576b"
             ],
             [
              0.6666666666666666,
              "#ed7953"
             ],
             [
              0.7777777777777778,
              "#fb9f3a"
             ],
             [
              0.8888888888888888,
              "#fdca26"
             ],
             [
              1,
              "#f0f921"
             ]
            ],
            "type": "heatmap"
           }
          ],
          "heatmapgl": [
           {
            "colorbar": {
             "outlinewidth": 0,
             "ticks": ""
            },
            "colorscale": [
             [
              0,
              "#0d0887"
             ],
             [
              0.1111111111111111,
              "#46039f"
             ],
             [
              0.2222222222222222,
              "#7201a8"
             ],
             [
              0.3333333333333333,
              "#9c179e"
             ],
             [
              0.4444444444444444,
              "#bd3786"
             ],
             [
              0.5555555555555556,
              "#d8576b"
             ],
             [
              0.6666666666666666,
              "#ed7953"
             ],
             [
              0.7777777777777778,
              "#fb9f3a"
             ],
             [
              0.8888888888888888,
              "#fdca26"
             ],
             [
              1,
              "#f0f921"
             ]
            ],
            "type": "heatmapgl"
           }
          ],
          "histogram": [
           {
            "marker": {
             "colorbar": {
              "outlinewidth": 0,
              "ticks": ""
             }
            },
            "type": "histogram"
           }
          ],
          "histogram2d": [
           {
            "colorbar": {
             "outlinewidth": 0,
             "ticks": ""
            },
            "colorscale": [
             [
              0,
              "#0d0887"
             ],
             [
              0.1111111111111111,
              "#46039f"
             ],
             [
              0.2222222222222222,
              "#7201a8"
             ],
             [
              0.3333333333333333,
              "#9c179e"
             ],
             [
              0.4444444444444444,
              "#bd3786"
             ],
             [
              0.5555555555555556,
              "#d8576b"
             ],
             [
              0.6666666666666666,
              "#ed7953"
             ],
             [
              0.7777777777777778,
              "#fb9f3a"
             ],
             [
              0.8888888888888888,
              "#fdca26"
             ],
             [
              1,
              "#f0f921"
             ]
            ],
            "type": "histogram2d"
           }
          ],
          "histogram2dcontour": [
           {
            "colorbar": {
             "outlinewidth": 0,
             "ticks": ""
            },
            "colorscale": [
             [
              0,
              "#0d0887"
             ],
             [
              0.1111111111111111,
              "#46039f"
             ],
             [
              0.2222222222222222,
              "#7201a8"
             ],
             [
              0.3333333333333333,
              "#9c179e"
             ],
             [
              0.4444444444444444,
              "#bd3786"
             ],
             [
              0.5555555555555556,
              "#d8576b"
             ],
             [
              0.6666666666666666,
              "#ed7953"
             ],
             [
              0.7777777777777778,
              "#fb9f3a"
             ],
             [
              0.8888888888888888,
              "#fdca26"
             ],
             [
              1,
              "#f0f921"
             ]
            ],
            "type": "histogram2dcontour"
           }
          ],
          "mesh3d": [
           {
            "colorbar": {
             "outlinewidth": 0,
             "ticks": ""
            },
            "type": "mesh3d"
           }
          ],
          "parcoords": [
           {
            "line": {
             "colorbar": {
              "outlinewidth": 0,
              "ticks": ""
             }
            },
            "type": "parcoords"
           }
          ],
          "pie": [
           {
            "automargin": true,
            "type": "pie"
           }
          ],
          "scatter": [
           {
            "marker": {
             "colorbar": {
              "outlinewidth": 0,
              "ticks": ""
             }
            },
            "type": "scatter"
           }
          ],
          "scatter3d": [
           {
            "line": {
             "colorbar": {
              "outlinewidth": 0,
              "ticks": ""
             }
            },
            "marker": {
             "colorbar": {
              "outlinewidth": 0,
              "ticks": ""
             }
            },
            "type": "scatter3d"
           }
          ],
          "scattercarpet": [
           {
            "marker": {
             "colorbar": {
              "outlinewidth": 0,
              "ticks": ""
             }
            },
            "type": "scattercarpet"
           }
          ],
          "scattergeo": [
           {
            "marker": {
             "colorbar": {
              "outlinewidth": 0,
              "ticks": ""
             }
            },
            "type": "scattergeo"
           }
          ],
          "scattergl": [
           {
            "marker": {
             "colorbar": {
              "outlinewidth": 0,
              "ticks": ""
             }
            },
            "type": "scattergl"
           }
          ],
          "scattermapbox": [
           {
            "marker": {
             "colorbar": {
              "outlinewidth": 0,
              "ticks": ""
             }
            },
            "type": "scattermapbox"
           }
          ],
          "scatterpolar": [
           {
            "marker": {
             "colorbar": {
              "outlinewidth": 0,
              "ticks": ""
             }
            },
            "type": "scatterpolar"
           }
          ],
          "scatterpolargl": [
           {
            "marker": {
             "colorbar": {
              "outlinewidth": 0,
              "ticks": ""
             }
            },
            "type": "scatterpolargl"
           }
          ],
          "scatterternary": [
           {
            "marker": {
             "colorbar": {
              "outlinewidth": 0,
              "ticks": ""
             }
            },
            "type": "scatterternary"
           }
          ],
          "surface": [
           {
            "colorbar": {
             "outlinewidth": 0,
             "ticks": ""
            },
            "colorscale": [
             [
              0,
              "#0d0887"
             ],
             [
              0.1111111111111111,
              "#46039f"
             ],
             [
              0.2222222222222222,
              "#7201a8"
             ],
             [
              0.3333333333333333,
              "#9c179e"
             ],
             [
              0.4444444444444444,
              "#bd3786"
             ],
             [
              0.5555555555555556,
              "#d8576b"
             ],
             [
              0.6666666666666666,
              "#ed7953"
             ],
             [
              0.7777777777777778,
              "#fb9f3a"
             ],
             [
              0.8888888888888888,
              "#fdca26"
             ],
             [
              1,
              "#f0f921"
             ]
            ],
            "type": "surface"
           }
          ],
          "table": [
           {
            "cells": {
             "fill": {
              "color": "#EBF0F8"
             },
             "line": {
              "color": "white"
             }
            },
            "header": {
             "fill": {
              "color": "#C8D4E3"
             },
             "line": {
              "color": "white"
             }
            },
            "type": "table"
           }
          ]
         },
         "layout": {
          "annotationdefaults": {
           "arrowcolor": "#2a3f5f",
           "arrowhead": 0,
           "arrowwidth": 1
          },
          "autotypenumbers": "strict",
          "coloraxis": {
           "colorbar": {
            "outlinewidth": 0,
            "ticks": ""
           }
          },
          "colorscale": {
           "diverging": [
            [
             0,
             "#8e0152"
            ],
            [
             0.1,
             "#c51b7d"
            ],
            [
             0.2,
             "#de77ae"
            ],
            [
             0.3,
             "#f1b6da"
            ],
            [
             0.4,
             "#fde0ef"
            ],
            [
             0.5,
             "#f7f7f7"
            ],
            [
             0.6,
             "#e6f5d0"
            ],
            [
             0.7,
             "#b8e186"
            ],
            [
             0.8,
             "#7fbc41"
            ],
            [
             0.9,
             "#4d9221"
            ],
            [
             1,
             "#276419"
            ]
           ],
           "sequential": [
            [
             0,
             "#0d0887"
            ],
            [
             0.1111111111111111,
             "#46039f"
            ],
            [
             0.2222222222222222,
             "#7201a8"
            ],
            [
             0.3333333333333333,
             "#9c179e"
            ],
            [
             0.4444444444444444,
             "#bd3786"
            ],
            [
             0.5555555555555556,
             "#d8576b"
            ],
            [
             0.6666666666666666,
             "#ed7953"
            ],
            [
             0.7777777777777778,
             "#fb9f3a"
            ],
            [
             0.8888888888888888,
             "#fdca26"
            ],
            [
             1,
             "#f0f921"
            ]
           ],
           "sequentialminus": [
            [
             0,
             "#0d0887"
            ],
            [
             0.1111111111111111,
             "#46039f"
            ],
            [
             0.2222222222222222,
             "#7201a8"
            ],
            [
             0.3333333333333333,
             "#9c179e"
            ],
            [
             0.4444444444444444,
             "#bd3786"
            ],
            [
             0.5555555555555556,
             "#d8576b"
            ],
            [
             0.6666666666666666,
             "#ed7953"
            ],
            [
             0.7777777777777778,
             "#fb9f3a"
            ],
            [
             0.8888888888888888,
             "#fdca26"
            ],
            [
             1,
             "#f0f921"
            ]
           ]
          },
          "colorway": [
           "#636efa",
           "#EF553B",
           "#00cc96",
           "#ab63fa",
           "#FFA15A",
           "#19d3f3",
           "#FF6692",
           "#B6E880",
           "#FF97FF",
           "#FECB52"
          ],
          "font": {
           "color": "#2a3f5f"
          },
          "geo": {
           "bgcolor": "white",
           "lakecolor": "white",
           "landcolor": "#E5ECF6",
           "showlakes": true,
           "showland": true,
           "subunitcolor": "white"
          },
          "hoverlabel": {
           "align": "left"
          },
          "hovermode": "closest",
          "mapbox": {
           "style": "light"
          },
          "paper_bgcolor": "white",
          "plot_bgcolor": "#E5ECF6",
          "polar": {
           "angularaxis": {
            "gridcolor": "white",
            "linecolor": "white",
            "ticks": ""
           },
           "bgcolor": "#E5ECF6",
           "radialaxis": {
            "gridcolor": "white",
            "linecolor": "white",
            "ticks": ""
           }
          },
          "scene": {
           "xaxis": {
            "backgroundcolor": "#E5ECF6",
            "gridcolor": "white",
            "gridwidth": 2,
            "linecolor": "white",
            "showbackground": true,
            "ticks": "",
            "zerolinecolor": "white"
           },
           "yaxis": {
            "backgroundcolor": "#E5ECF6",
            "gridcolor": "white",
            "gridwidth": 2,
            "linecolor": "white",
            "showbackground": true,
            "ticks": "",
            "zerolinecolor": "white"
           },
           "zaxis": {
            "backgroundcolor": "#E5ECF6",
            "gridcolor": "white",
            "gridwidth": 2,
            "linecolor": "white",
            "showbackground": true,
            "ticks": "",
            "zerolinecolor": "white"
           }
          },
          "shapedefaults": {
           "line": {
            "color": "#2a3f5f"
           }
          },
          "ternary": {
           "aaxis": {
            "gridcolor": "white",
            "linecolor": "white",
            "ticks": ""
           },
           "baxis": {
            "gridcolor": "white",
            "linecolor": "white",
            "ticks": ""
           },
           "bgcolor": "#E5ECF6",
           "caxis": {
            "gridcolor": "white",
            "linecolor": "white",
            "ticks": ""
           }
          },
          "title": {
           "x": 0.05
          },
          "xaxis": {
           "automargin": true,
           "gridcolor": "white",
           "linecolor": "white",
           "ticks": "",
           "title": {
            "standoff": 15
           },
           "zerolinecolor": "white",
           "zerolinewidth": 2
          },
          "yaxis": {
           "automargin": true,
           "gridcolor": "white",
           "linecolor": "white",
           "ticks": "",
           "title": {
            "standoff": 15
           },
           "zerolinecolor": "white",
           "zerolinewidth": 2
          }
         }
        },
        "title": {
         "text": "Test data"
        },
        "width": 500,
        "xaxis": {
         "anchor": "y",
         "domain": [
          0,
          1
         ],
         "title": {
          "text": "True_Value"
         }
        },
        "yaxis": {
         "anchor": "x",
         "domain": [
          0,
          1
         ],
         "title": {
          "text": "Predict_Value"
         }
        }
       }
      }
     },
     "metadata": {},
     "output_type": "display_data"
    },
    {
     "name": "stdout",
     "output_type": "stream",
     "text": [
      "Residual sum of squares for train (MSE): 49.26\n",
      "R2-score for train: 0.95\n",
      "Residual sum of squares for test (MSE): 27.67\n",
      "R2-score for test: 0.97\n",
      "Coefficent shape: (1, 21)\n"
     ]
    },
    {
     "data": {
      "text/plain": [
       "(array([175.24121645, 184.58915075, 201.83754024, 169.48498244,\n",
       "        162.64553451, 181.95637841, 189.36573155, 179.08529039,\n",
       "        169.48498244, 186.41965423, 142.33999013, 150.46968794,\n",
       "        165.28160447, 137.01407059, 130.67113935, 147.76244967,\n",
       "        153.6802231 , 145.39614206, 137.01407059, 134.90396878,\n",
       "        113.52824907, 120.43971039, 132.81515395, 108.63264398,\n",
       "        102.78622944, 117.65800619, 122.08419991, 115.79647897,\n",
       "        108.63264398, 107.14803266, 118.58342974, 125.42802949,\n",
       "        137.66974989, 114.06272085, 108.64887883, 122.89199127,\n",
       "        127.52449776, 121.15969426, 114.06272085, 112.26116003,\n",
       "        128.29219523, 140.40019249, 150.57821761, 121.51445706,\n",
       "        124.3987562 , 119.70868709, 134.12995787, 140.52692717,\n",
       "        124.3987562 , 117.36864436, 106.00371492, 115.67523921,\n",
       "        123.41679136, 100.44421323, 102.54059035,  98.34703793,\n",
       "        110.54877514, 115.45416473, 102.54059035,  96.728715  ,\n",
       "         87.80471986,  95.03977118, 100.34485037,  83.46345465,\n",
       "         84.77190976,  81.07487403,  91.05707766,  94.47088754,\n",
       "         84.77190976,  80.17827089,  73.69521005,  78.4937884 ,\n",
       "         81.36239462,  70.57218132,  71.09271441,  67.89219538,\n",
       "         75.65486543,  77.5770956 ,  71.09271441,  67.71731203,\n",
       "         79.91324043,  84.57809563,  87.3129787 ,  76.85707329,\n",
       "         77.68564099,  74.91769448,  82.05170022,  84.18024317,\n",
       "         77.68564099,  74.37710018,  84.00711747,  88.53824951,\n",
       "         91.13940943,  81.0178119 ,  82.15441422,  79.81904024,\n",
       "         86.32438167,  88.65923739,  82.15441422,  78.91273498,\n",
       "         76.21671611,  78.81612251,  79.48555678,  74.19327336,\n",
       "         74.37785883,  70.0648746 ,  77.6391049 ,  76.51008307,\n",
       "         76.50967276,  77.55966598,  81.62850791,  84.66987861,\n",
       "         85.78127718,  79.38408301,  80.20623711,  76.72642586,\n",
       "         82.68985507,  82.46855598,  83.09893157,  83.83000857,\n",
       "         82.6874406 ,  85.59508815,  86.57276356,  80.50987728,\n",
       "         81.69774234,  79.08307614,  83.37389158,  83.70629308,\n",
       "         84.54298144,  85.18779064,  84.42141936,  85.84777238,\n",
       "         85.34415327,  81.06509421,  83.83669974,  82.08497254,\n",
       "         88.29459462,  87.47618332,  90.6620003 ,  90.49603897,\n",
       "         79.21382317,  86.0856837 ,  91.0275721 ,  70.41199052,\n",
       "         77.64701555,  75.2331817 ,  79.67959216,  74.14087129,\n",
       "         84.72831854,  85.68367759,  67.0263301 ,  74.34015492,\n",
       "         79.72400762,  57.78253314,  66.29269544,  64.71203457,\n",
       "         67.07551259,  61.4066971 ,  73.17161136,  74.77132178,\n",
       "         60.83856701,  66.86729378,  70.96604841,  52.87986812,\n",
       "         61.03402158,  61.99116083,  60.4232049 ,  76.25715472,\n",
       "         66.34121481,  74.89952928,  84.84208963,  84.98021871,\n",
       "         83.18837566,  84.36716391,  86.22241007,  84.32599676,\n",
       "         83.83429458,  88.14542202,  86.30631899,  90.15890165,\n",
       "         52.67604876,  56.1345794 ,  57.66313792,  47.28754599,\n",
       "         54.72968177,  56.25973253,  51.33159742,  64.23883567,\n",
       "         56.89342962,  64.73972641,  57.10836029,  62.20860979,\n",
       "         65.37888715,  50.07813867,  58.42991729,  60.36432289,\n",
       "         54.93977708,  66.35610889,  51.93980815,  76.28138015,\n",
       "         54.76259397,  58.5777454 ,  60.46292471,  49.01747041,\n",
       "         57.01324019,  58.59146807,  51.66492153,  62.72507563,\n",
       "         69.23508306,  72.29433805]),\n",
       " array([158.27941764, 167.01823369, 161.72953057, 131.56511162,\n",
       "        139.01882961, 139.01882961, 116.63676942, 127.52653019,\n",
       "        131.51400571,  80.2387793 ,  86.25559413,  88.51829375,\n",
       "         68.17401211,  71.75435398,  73.15466565,  75.30504549,\n",
       "         78.75166421,  80.70567647,  78.67437951,  82.49202239,\n",
       "         86.13253395,  74.78142403,  76.16259394,  76.65851858,\n",
       "         80.82328391,  82.64641813,  84.10561037,  82.79521961,\n",
       "         87.55792533,  88.78891419,  81.33341337,  89.42351038,\n",
       "         95.95460442,  61.85028903,  66.66077931,  74.44374165,\n",
       "         54.19005233,  58.29113201,  66.75305114,  51.51312918,\n",
       "         54.32911079,  63.07748568,  52.98308799,  56.34517355,\n",
       "         66.41026463]))"
      ]
     },
     "execution_count": 49,
     "metadata": {},
     "output_type": "execute_result"
    }
   ],
   "source": [
    "# All parameters\n",
    "polyEstimate(x_train_frequency, ym_train_frequency.Frequency0, x_test_frequency, ym_test_frequency.Frequency0, order=2)"
   ]
  }
 ],
 "metadata": {
  "interpreter": {
   "hash": "c0f70214c0dd213f07f54ee5d6e0ea644bdbba35113c9bfe8aaa0d1db03ad5dd"
  },
  "kernelspec": {
   "display_name": "Python 3.8.8 64-bit ('base': conda)",
   "name": "python3"
  },
  "language_info": {
   "codemirror_mode": {
    "name": "ipython",
    "version": 3
   },
   "file_extension": ".py",
   "mimetype": "text/x-python",
   "name": "python",
   "nbconvert_exporter": "python",
   "pygments_lexer": "ipython3",
   "version": "3.8.8"
  },
  "orig_nbformat": 4
 },
 "nbformat": 4,
 "nbformat_minor": 2
}
