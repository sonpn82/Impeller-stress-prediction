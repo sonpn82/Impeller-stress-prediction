{
 "cells": [
  {
   "cell_type": "markdown",
   "metadata": {},
   "source": [
    "# Impeller Stress and Frequency Prediction"
   ]
  },
  {
   "cell_type": "markdown",
   "metadata": {},
   "source": [
    "## Polynominal Linear Regression"
   ]
  },
  {
   "cell_type": "markdown",
   "metadata": {},
   "source": [
    "<h2 style=\"color:cyan\">Import Libraries</h2>"
   ]
  },
  {
   "cell_type": "code",
   "execution_count": 1,
   "metadata": {},
   "outputs": [],
   "source": [
    "import pandas as pd\n",
    "import numpy as np\n",
    "from sklearn.preprocessing import PolynomialFeatures\n",
    "from sklearn.linear_model import LinearRegression\n",
    "from sklearn.metrics import r2_score\n",
    "import plotly.express as px\n",
    "import matplotlib.pyplot as plt\n",
    "%matplotlib inline"
   ]
  },
  {
   "cell_type": "markdown",
   "metadata": {},
   "source": [
    "<h2 style=\"color:cyan\">Read Data</h2>"
   ]
  },
  {
   "cell_type": "code",
   "execution_count": 2,
   "metadata": {},
   "outputs": [],
   "source": [
    "filename_train = 'https://raw.githubusercontent.com/sonpn82/Impeller-stress-prediction/main/Impeller%20stress%20prediction%20database%20-%20stress%20and%20freq%20C.csv'\n",
    "filename_test = 'https://raw.githubusercontent.com/sonpn82/Impeller-stress-prediction/main/Impeller%20stress%20prediction%20database%20-%20test%20data%20C.csv'\n",
    "# filename_eva = 'https://raw.githubusercontent.com/sonpn82/Impeller-stress-prediction/main/Impeller%20stress%20prediction%20database%20-%20evaluation%20data.csv'\n",
    "\n",
    "df = pd.read_csv(filename_train)\n",
    "df_test = pd.read_csv(filename_test)\n",
    "# df_eva = pd.read_csv(filename_eva)"
   ]
  },
  {
   "cell_type": "markdown",
   "metadata": {},
   "source": [
    "<h2 style=\"color:cyan\">Data Exploring</h2>"
   ]
  },
  {
   "cell_type": "code",
   "execution_count": 3,
   "metadata": {},
   "outputs": [
    {
     "data": {
      "text/html": [
       "<div>\n",
       "<style scoped>\n",
       "    .dataframe tbody tr th:only-of-type {\n",
       "        vertical-align: middle;\n",
       "    }\n",
       "\n",
       "    .dataframe tbody tr th {\n",
       "        vertical-align: top;\n",
       "    }\n",
       "\n",
       "    .dataframe thead th {\n",
       "        text-align: right;\n",
       "    }\n",
       "</style>\n",
       "<table border=\"1\" class=\"dataframe\">\n",
       "  <thead>\n",
       "    <tr style=\"text-align: right;\">\n",
       "      <th></th>\n",
       "      <th>No</th>\n",
       "      <th>Model</th>\n",
       "      <th>Speed</th>\n",
       "      <th>MatDensity</th>\n",
       "      <th>MatYoung</th>\n",
       "      <th>D2</th>\n",
       "      <th>DB</th>\n",
       "      <th>tm</th>\n",
       "      <th>ts</th>\n",
       "      <th>ti</th>\n",
       "      <th>tv</th>\n",
       "      <th>Rib</th>\n",
       "      <th>Sm</th>\n",
       "      <th>Ss</th>\n",
       "      <th>Sv</th>\n",
       "      <th>Si</th>\n",
       "      <th>Frequency</th>\n",
       "      <th>Frequency0</th>\n",
       "    </tr>\n",
       "  </thead>\n",
       "  <tbody>\n",
       "    <tr>\n",
       "      <th>0</th>\n",
       "      <td>1</td>\n",
       "      <td>C</td>\n",
       "      <td>1785</td>\n",
       "      <td>7850</td>\n",
       "      <td>205</td>\n",
       "      <td>1950</td>\n",
       "      <td>730</td>\n",
       "      <td>12</td>\n",
       "      <td>9.0</td>\n",
       "      <td>9.0</td>\n",
       "      <td>9.0</td>\n",
       "      <td>0</td>\n",
       "      <td>271.71</td>\n",
       "      <td>415.07</td>\n",
       "      <td>678.23</td>\n",
       "      <td>542.75</td>\n",
       "      <td>28.388</td>\n",
       "      <td>17.349</td>\n",
       "    </tr>\n",
       "    <tr>\n",
       "      <th>1</th>\n",
       "      <td>2</td>\n",
       "      <td>C</td>\n",
       "      <td>1785</td>\n",
       "      <td>7850</td>\n",
       "      <td>205</td>\n",
       "      <td>1950</td>\n",
       "      <td>730</td>\n",
       "      <td>15</td>\n",
       "      <td>12.0</td>\n",
       "      <td>12.0</td>\n",
       "      <td>12.0</td>\n",
       "      <td>0</td>\n",
       "      <td>250.89</td>\n",
       "      <td>353.95</td>\n",
       "      <td>475.19</td>\n",
       "      <td>534.96</td>\n",
       "      <td>29.982</td>\n",
       "      <td>20.122</td>\n",
       "    </tr>\n",
       "    <tr>\n",
       "      <th>2</th>\n",
       "      <td>3</td>\n",
       "      <td>C</td>\n",
       "      <td>1785</td>\n",
       "      <td>7850</td>\n",
       "      <td>205</td>\n",
       "      <td>1950</td>\n",
       "      <td>730</td>\n",
       "      <td>18</td>\n",
       "      <td>12.0</td>\n",
       "      <td>15.0</td>\n",
       "      <td>12.0</td>\n",
       "      <td>0</td>\n",
       "      <td>204.84</td>\n",
       "      <td>349.98</td>\n",
       "      <td>459.77</td>\n",
       "      <td>475.26</td>\n",
       "      <td>32.272</td>\n",
       "      <td>23.368</td>\n",
       "    </tr>\n",
       "    <tr>\n",
       "      <th>3</th>\n",
       "      <td>4</td>\n",
       "      <td>C</td>\n",
       "      <td>1785</td>\n",
       "      <td>7850</td>\n",
       "      <td>205</td>\n",
       "      <td>1850</td>\n",
       "      <td>580</td>\n",
       "      <td>12</td>\n",
       "      <td>9.0</td>\n",
       "      <td>9.0</td>\n",
       "      <td>9.0</td>\n",
       "      <td>0</td>\n",
       "      <td>256.92</td>\n",
       "      <td>360.13</td>\n",
       "      <td>559.44</td>\n",
       "      <td>485.67</td>\n",
       "      <td>34.231</td>\n",
       "      <td>26.625</td>\n",
       "    </tr>\n",
       "    <tr>\n",
       "      <th>4</th>\n",
       "      <td>5</td>\n",
       "      <td>C</td>\n",
       "      <td>1785</td>\n",
       "      <td>7850</td>\n",
       "      <td>205</td>\n",
       "      <td>1850</td>\n",
       "      <td>580</td>\n",
       "      <td>15</td>\n",
       "      <td>12.0</td>\n",
       "      <td>12.0</td>\n",
       "      <td>12.0</td>\n",
       "      <td>0</td>\n",
       "      <td>237.59</td>\n",
       "      <td>319.91</td>\n",
       "      <td>392.15</td>\n",
       "      <td>482.29</td>\n",
       "      <td>36.130</td>\n",
       "      <td>29.283</td>\n",
       "    </tr>\n",
       "  </tbody>\n",
       "</table>\n",
       "</div>"
      ],
      "text/plain": [
       "   No Model  Speed  MatDensity  MatYoung    D2   DB  tm    ts    ti    tv  \\\n",
       "0   1     C   1785        7850       205  1950  730  12   9.0   9.0   9.0   \n",
       "1   2     C   1785        7850       205  1950  730  15  12.0  12.0  12.0   \n",
       "2   3     C   1785        7850       205  1950  730  18  12.0  15.0  12.0   \n",
       "3   4     C   1785        7850       205  1850  580  12   9.0   9.0   9.0   \n",
       "4   5     C   1785        7850       205  1850  580  15  12.0  12.0  12.0   \n",
       "\n",
       "   Rib      Sm      Ss      Sv      Si  Frequency  Frequency0  \n",
       "0    0  271.71  415.07  678.23  542.75     28.388      17.349  \n",
       "1    0  250.89  353.95  475.19  534.96     29.982      20.122  \n",
       "2    0  204.84  349.98  459.77  475.26     32.272      23.368  \n",
       "3    0  256.92  360.13  559.44  485.67     34.231      26.625  \n",
       "4    0  237.59  319.91  392.15  482.29     36.130      29.283  "
      ]
     },
     "execution_count": 3,
     "metadata": {},
     "output_type": "execute_result"
    }
   ],
   "source": [
    "df_test.head()"
   ]
  },
  {
   "cell_type": "code",
   "execution_count": 4,
   "metadata": {},
   "outputs": [
    {
     "name": "stdout",
     "output_type": "stream",
     "text": [
      "(400, 18)\n",
      "(54, 18)\n"
     ]
    }
   ],
   "source": [
    "print(df.shape)\n",
    "print(df_test.shape)\n",
    "#print(df_eva.shape)"
   ]
  },
  {
   "cell_type": "code",
   "execution_count": 5,
   "metadata": {},
   "outputs": [
    {
     "data": {
      "text/html": [
       "<div>\n",
       "<style scoped>\n",
       "    .dataframe tbody tr th:only-of-type {\n",
       "        vertical-align: middle;\n",
       "    }\n",
       "\n",
       "    .dataframe tbody tr th {\n",
       "        vertical-align: top;\n",
       "    }\n",
       "\n",
       "    .dataframe thead th {\n",
       "        text-align: right;\n",
       "    }\n",
       "</style>\n",
       "<table border=\"1\" class=\"dataframe\">\n",
       "  <thead>\n",
       "    <tr style=\"text-align: right;\">\n",
       "      <th></th>\n",
       "      <th>No</th>\n",
       "      <th>Speed</th>\n",
       "      <th>MatDensity</th>\n",
       "      <th>MatYoung</th>\n",
       "      <th>D2</th>\n",
       "      <th>DB</th>\n",
       "      <th>tm</th>\n",
       "      <th>ts</th>\n",
       "      <th>ti</th>\n",
       "      <th>tv</th>\n",
       "      <th>Rib</th>\n",
       "      <th>Sm</th>\n",
       "      <th>Ss</th>\n",
       "      <th>Sv</th>\n",
       "      <th>Si</th>\n",
       "      <th>Frequency</th>\n",
       "      <th>Frequency0</th>\n",
       "    </tr>\n",
       "  </thead>\n",
       "  <tbody>\n",
       "    <tr>\n",
       "      <th>count</th>\n",
       "      <td>400.000000</td>\n",
       "      <td>400.0</td>\n",
       "      <td>400.0</td>\n",
       "      <td>400.0</td>\n",
       "      <td>400.000000</td>\n",
       "      <td>400.000000</td>\n",
       "      <td>400.000000</td>\n",
       "      <td>400.000000</td>\n",
       "      <td>400.000000</td>\n",
       "      <td>400.000000</td>\n",
       "      <td>400.0</td>\n",
       "      <td>400.00000</td>\n",
       "      <td>400.000000</td>\n",
       "      <td>400.000000</td>\n",
       "      <td>400.000000</td>\n",
       "      <td>400.000000</td>\n",
       "      <td>400.000000</td>\n",
       "    </tr>\n",
       "    <tr>\n",
       "      <th>mean</th>\n",
       "      <td>200.500000</td>\n",
       "      <td>1785.0</td>\n",
       "      <td>7850.0</td>\n",
       "      <td>205.0</td>\n",
       "      <td>1312.500000</td>\n",
       "      <td>440.000000</td>\n",
       "      <td>9.258000</td>\n",
       "      <td>6.467000</td>\n",
       "      <td>3.601000</td>\n",
       "      <td>7.693000</td>\n",
       "      <td>0.0</td>\n",
       "      <td>272.35965</td>\n",
       "      <td>351.096887</td>\n",
       "      <td>533.654745</td>\n",
       "      <td>131.860173</td>\n",
       "      <td>47.988750</td>\n",
       "      <td>42.311905</td>\n",
       "    </tr>\n",
       "    <tr>\n",
       "      <th>std</th>\n",
       "      <td>115.614301</td>\n",
       "      <td>0.0</td>\n",
       "      <td>0.0</td>\n",
       "      <td>0.0</td>\n",
       "      <td>381.881308</td>\n",
       "      <td>176.260231</td>\n",
       "      <td>3.598146</td>\n",
       "      <td>2.990806</td>\n",
       "      <td>4.340114</td>\n",
       "      <td>4.182114</td>\n",
       "      <td>0.0</td>\n",
       "      <td>248.93674</td>\n",
       "      <td>239.976914</td>\n",
       "      <td>308.554096</td>\n",
       "      <td>163.629261</td>\n",
       "      <td>10.586843</td>\n",
       "      <td>12.195241</td>\n",
       "    </tr>\n",
       "    <tr>\n",
       "      <th>min</th>\n",
       "      <td>1.000000</td>\n",
       "      <td>1785.0</td>\n",
       "      <td>7850.0</td>\n",
       "      <td>205.0</td>\n",
       "      <td>600.000000</td>\n",
       "      <td>120.000000</td>\n",
       "      <td>3.200000</td>\n",
       "      <td>3.200000</td>\n",
       "      <td>0.000000</td>\n",
       "      <td>3.200000</td>\n",
       "      <td>0.0</td>\n",
       "      <td>18.14300</td>\n",
       "      <td>27.758000</td>\n",
       "      <td>71.721000</td>\n",
       "      <td>0.000000</td>\n",
       "      <td>25.744000</td>\n",
       "      <td>14.634000</td>\n",
       "    </tr>\n",
       "    <tr>\n",
       "      <th>25%</th>\n",
       "      <td>100.750000</td>\n",
       "      <td>1785.0</td>\n",
       "      <td>7850.0</td>\n",
       "      <td>205.0</td>\n",
       "      <td>1075.000000</td>\n",
       "      <td>317.500000</td>\n",
       "      <td>6.000000</td>\n",
       "      <td>4.500000</td>\n",
       "      <td>0.000000</td>\n",
       "      <td>4.500000</td>\n",
       "      <td>0.0</td>\n",
       "      <td>98.53400</td>\n",
       "      <td>170.482500</td>\n",
       "      <td>259.830000</td>\n",
       "      <td>0.000000</td>\n",
       "      <td>41.107250</td>\n",
       "      <td>34.841750</td>\n",
       "    </tr>\n",
       "    <tr>\n",
       "      <th>50%</th>\n",
       "      <td>200.500000</td>\n",
       "      <td>1785.0</td>\n",
       "      <td>7850.0</td>\n",
       "      <td>205.0</td>\n",
       "      <td>1325.000000</td>\n",
       "      <td>480.000000</td>\n",
       "      <td>9.000000</td>\n",
       "      <td>6.000000</td>\n",
       "      <td>1.600000</td>\n",
       "      <td>6.000000</td>\n",
       "      <td>0.0</td>\n",
       "      <td>182.87500</td>\n",
       "      <td>290.240000</td>\n",
       "      <td>468.315000</td>\n",
       "      <td>18.107500</td>\n",
       "      <td>47.406500</td>\n",
       "      <td>42.308500</td>\n",
       "    </tr>\n",
       "    <tr>\n",
       "      <th>75%</th>\n",
       "      <td>300.250000</td>\n",
       "      <td>1785.0</td>\n",
       "      <td>7850.0</td>\n",
       "      <td>205.0</td>\n",
       "      <td>1562.500000</td>\n",
       "      <td>580.000000</td>\n",
       "      <td>12.000000</td>\n",
       "      <td>9.000000</td>\n",
       "      <td>6.000000</td>\n",
       "      <td>9.000000</td>\n",
       "      <td>0.0</td>\n",
       "      <td>346.10250</td>\n",
       "      <td>502.805000</td>\n",
       "      <td>805.785000</td>\n",
       "      <td>249.897500</td>\n",
       "      <td>54.268000</td>\n",
       "      <td>50.017250</td>\n",
       "    </tr>\n",
       "    <tr>\n",
       "      <th>max</th>\n",
       "      <td>400.000000</td>\n",
       "      <td>1785.0</td>\n",
       "      <td>7850.0</td>\n",
       "      <td>205.0</td>\n",
       "      <td>2000.000000</td>\n",
       "      <td>730.000000</td>\n",
       "      <td>21.000000</td>\n",
       "      <td>18.000000</td>\n",
       "      <td>15.000000</td>\n",
       "      <td>21.000000</td>\n",
       "      <td>0.0</td>\n",
       "      <td>1182.60000</td>\n",
       "      <td>1116.400000</td>\n",
       "      <td>1211.200000</td>\n",
       "      <td>654.450000</td>\n",
       "      <td>87.950000</td>\n",
       "      <td>84.680000</td>\n",
       "    </tr>\n",
       "  </tbody>\n",
       "</table>\n",
       "</div>"
      ],
      "text/plain": [
       "               No   Speed  MatDensity  MatYoung           D2          DB  \\\n",
       "count  400.000000   400.0       400.0     400.0   400.000000  400.000000   \n",
       "mean   200.500000  1785.0      7850.0     205.0  1312.500000  440.000000   \n",
       "std    115.614301     0.0         0.0       0.0   381.881308  176.260231   \n",
       "min      1.000000  1785.0      7850.0     205.0   600.000000  120.000000   \n",
       "25%    100.750000  1785.0      7850.0     205.0  1075.000000  317.500000   \n",
       "50%    200.500000  1785.0      7850.0     205.0  1325.000000  480.000000   \n",
       "75%    300.250000  1785.0      7850.0     205.0  1562.500000  580.000000   \n",
       "max    400.000000  1785.0      7850.0     205.0  2000.000000  730.000000   \n",
       "\n",
       "               tm          ts          ti          tv    Rib          Sm  \\\n",
       "count  400.000000  400.000000  400.000000  400.000000  400.0   400.00000   \n",
       "mean     9.258000    6.467000    3.601000    7.693000    0.0   272.35965   \n",
       "std      3.598146    2.990806    4.340114    4.182114    0.0   248.93674   \n",
       "min      3.200000    3.200000    0.000000    3.200000    0.0    18.14300   \n",
       "25%      6.000000    4.500000    0.000000    4.500000    0.0    98.53400   \n",
       "50%      9.000000    6.000000    1.600000    6.000000    0.0   182.87500   \n",
       "75%     12.000000    9.000000    6.000000    9.000000    0.0   346.10250   \n",
       "max     21.000000   18.000000   15.000000   21.000000    0.0  1182.60000   \n",
       "\n",
       "                Ss           Sv          Si   Frequency  Frequency0  \n",
       "count   400.000000   400.000000  400.000000  400.000000  400.000000  \n",
       "mean    351.096887   533.654745  131.860173   47.988750   42.311905  \n",
       "std     239.976914   308.554096  163.629261   10.586843   12.195241  \n",
       "min      27.758000    71.721000    0.000000   25.744000   14.634000  \n",
       "25%     170.482500   259.830000    0.000000   41.107250   34.841750  \n",
       "50%     290.240000   468.315000   18.107500   47.406500   42.308500  \n",
       "75%     502.805000   805.785000  249.897500   54.268000   50.017250  \n",
       "max    1116.400000  1211.200000  654.450000   87.950000   84.680000  "
      ]
     },
     "execution_count": 5,
     "metadata": {},
     "output_type": "execute_result"
    }
   ],
   "source": [
    "df.describe()"
   ]
  },
  {
   "cell_type": "markdown",
   "metadata": {},
   "source": [
    "<h2 style=\"color:cyan\">Drop unused column</h2>"
   ]
  },
  {
   "cell_type": "code",
   "execution_count": 6,
   "metadata": {},
   "outputs": [],
   "source": [
    "df.drop(['No', 'Model'], axis=1, inplace=True)\n",
    "df_test.drop(['No', 'Model'], axis=1, inplace=True)\n",
    "#df_eva.drop(['No', 'Model', 'Vane max stress loc'], axis=1, inplace=True)\n",
    "\n",
    "# fill NA with 0\n",
    "df.fillna(0, inplace=True)\n",
    "df_test.fillna(0, inplace=True)\n",
    "#df_eva.fillna(0, inplace=True)"
   ]
  },
  {
   "cell_type": "code",
   "execution_count": 7,
   "metadata": {},
   "outputs": [
    {
     "data": {
      "text/html": [
       "<div>\n",
       "<style scoped>\n",
       "    .dataframe tbody tr th:only-of-type {\n",
       "        vertical-align: middle;\n",
       "    }\n",
       "\n",
       "    .dataframe tbody tr th {\n",
       "        vertical-align: top;\n",
       "    }\n",
       "\n",
       "    .dataframe thead th {\n",
       "        text-align: right;\n",
       "    }\n",
       "</style>\n",
       "<table border=\"1\" class=\"dataframe\">\n",
       "  <thead>\n",
       "    <tr style=\"text-align: right;\">\n",
       "      <th></th>\n",
       "      <th>Speed</th>\n",
       "      <th>MatDensity</th>\n",
       "      <th>MatYoung</th>\n",
       "      <th>D2</th>\n",
       "      <th>DB</th>\n",
       "      <th>tm</th>\n",
       "      <th>ts</th>\n",
       "      <th>ti</th>\n",
       "      <th>tv</th>\n",
       "      <th>Rib</th>\n",
       "      <th>Sm</th>\n",
       "      <th>Ss</th>\n",
       "      <th>Sv</th>\n",
       "      <th>Si</th>\n",
       "      <th>Frequency</th>\n",
       "      <th>Frequency0</th>\n",
       "    </tr>\n",
       "  </thead>\n",
       "  <tbody>\n",
       "    <tr>\n",
       "      <th>0</th>\n",
       "      <td>1785</td>\n",
       "      <td>7850</td>\n",
       "      <td>205</td>\n",
       "      <td>600</td>\n",
       "      <td>120</td>\n",
       "      <td>4.5</td>\n",
       "      <td>3.2</td>\n",
       "      <td>0.0</td>\n",
       "      <td>3.2</td>\n",
       "      <td>0</td>\n",
       "      <td>52.200</td>\n",
       "      <td>78.900</td>\n",
       "      <td>172.90</td>\n",
       "      <td>0.0</td>\n",
       "      <td>63.98</td>\n",
       "      <td>59.68</td>\n",
       "    </tr>\n",
       "    <tr>\n",
       "      <th>1</th>\n",
       "      <td>1785</td>\n",
       "      <td>7850</td>\n",
       "      <td>205</td>\n",
       "      <td>600</td>\n",
       "      <td>120</td>\n",
       "      <td>6.0</td>\n",
       "      <td>3.2</td>\n",
       "      <td>0.0</td>\n",
       "      <td>3.2</td>\n",
       "      <td>0</td>\n",
       "      <td>35.522</td>\n",
       "      <td>78.314</td>\n",
       "      <td>164.81</td>\n",
       "      <td>0.0</td>\n",
       "      <td>76.88</td>\n",
       "      <td>73.37</td>\n",
       "    </tr>\n",
       "    <tr>\n",
       "      <th>2</th>\n",
       "      <td>1785</td>\n",
       "      <td>7850</td>\n",
       "      <td>205</td>\n",
       "      <td>600</td>\n",
       "      <td>120</td>\n",
       "      <td>3.2</td>\n",
       "      <td>3.2</td>\n",
       "      <td>0.0</td>\n",
       "      <td>3.2</td>\n",
       "      <td>0</td>\n",
       "      <td>84.316</td>\n",
       "      <td>80.568</td>\n",
       "      <td>180.62</td>\n",
       "      <td>0.0</td>\n",
       "      <td>49.91</td>\n",
       "      <td>44.11</td>\n",
       "    </tr>\n",
       "    <tr>\n",
       "      <th>3</th>\n",
       "      <td>1785</td>\n",
       "      <td>7850</td>\n",
       "      <td>205</td>\n",
       "      <td>600</td>\n",
       "      <td>120</td>\n",
       "      <td>4.5</td>\n",
       "      <td>4.5</td>\n",
       "      <td>0.0</td>\n",
       "      <td>3.2</td>\n",
       "      <td>0</td>\n",
       "      <td>52.559</td>\n",
       "      <td>52.561</td>\n",
       "      <td>171.35</td>\n",
       "      <td>0.0</td>\n",
       "      <td>61.34</td>\n",
       "      <td>57.22</td>\n",
       "    </tr>\n",
       "    <tr>\n",
       "      <th>4</th>\n",
       "      <td>1785</td>\n",
       "      <td>7850</td>\n",
       "      <td>205</td>\n",
       "      <td>600</td>\n",
       "      <td>120</td>\n",
       "      <td>4.5</td>\n",
       "      <td>6.0</td>\n",
       "      <td>0.0</td>\n",
       "      <td>3.2</td>\n",
       "      <td>0</td>\n",
       "      <td>52.555</td>\n",
       "      <td>42.276</td>\n",
       "      <td>170.64</td>\n",
       "      <td>0.0</td>\n",
       "      <td>58.33</td>\n",
       "      <td>54.29</td>\n",
       "    </tr>\n",
       "  </tbody>\n",
       "</table>\n",
       "</div>"
      ],
      "text/plain": [
       "   Speed  MatDensity  MatYoung   D2   DB   tm   ts   ti   tv  Rib      Sm  \\\n",
       "0   1785        7850       205  600  120  4.5  3.2  0.0  3.2    0  52.200   \n",
       "1   1785        7850       205  600  120  6.0  3.2  0.0  3.2    0  35.522   \n",
       "2   1785        7850       205  600  120  3.2  3.2  0.0  3.2    0  84.316   \n",
       "3   1785        7850       205  600  120  4.5  4.5  0.0  3.2    0  52.559   \n",
       "4   1785        7850       205  600  120  4.5  6.0  0.0  3.2    0  52.555   \n",
       "\n",
       "       Ss      Sv   Si  Frequency  Frequency0  \n",
       "0  78.900  172.90  0.0      63.98       59.68  \n",
       "1  78.314  164.81  0.0      76.88       73.37  \n",
       "2  80.568  180.62  0.0      49.91       44.11  \n",
       "3  52.561  171.35  0.0      61.34       57.22  \n",
       "4  42.276  170.64  0.0      58.33       54.29  "
      ]
     },
     "execution_count": 7,
     "metadata": {},
     "output_type": "execute_result"
    }
   ],
   "source": [
    "df.head()"
   ]
  },
  {
   "cell_type": "markdown",
   "metadata": {},
   "source": [
    "<h2 style=\"color:cyan\">Check correlation between columns</h2>"
   ]
  },
  {
   "cell_type": "code",
   "execution_count": 8,
   "metadata": {},
   "outputs": [
    {
     "data": {
      "text/html": [
       "<div>\n",
       "<style scoped>\n",
       "    .dataframe tbody tr th:only-of-type {\n",
       "        vertical-align: middle;\n",
       "    }\n",
       "\n",
       "    .dataframe tbody tr th {\n",
       "        vertical-align: top;\n",
       "    }\n",
       "\n",
       "    .dataframe thead th {\n",
       "        text-align: right;\n",
       "    }\n",
       "</style>\n",
       "<table border=\"1\" class=\"dataframe\">\n",
       "  <thead>\n",
       "    <tr style=\"text-align: right;\">\n",
       "      <th></th>\n",
       "      <th>Speed</th>\n",
       "      <th>MatDensity</th>\n",
       "      <th>MatYoung</th>\n",
       "      <th>D2</th>\n",
       "      <th>DB</th>\n",
       "      <th>tm</th>\n",
       "      <th>ts</th>\n",
       "      <th>ti</th>\n",
       "      <th>tv</th>\n",
       "      <th>Rib</th>\n",
       "      <th>Sm</th>\n",
       "      <th>Ss</th>\n",
       "      <th>Sv</th>\n",
       "      <th>Si</th>\n",
       "      <th>Frequency</th>\n",
       "      <th>Frequency0</th>\n",
       "    </tr>\n",
       "  </thead>\n",
       "  <tbody>\n",
       "    <tr>\n",
       "      <th>Speed</th>\n",
       "      <td>NaN</td>\n",
       "      <td>NaN</td>\n",
       "      <td>NaN</td>\n",
       "      <td>NaN</td>\n",
       "      <td>NaN</td>\n",
       "      <td>NaN</td>\n",
       "      <td>NaN</td>\n",
       "      <td>NaN</td>\n",
       "      <td>NaN</td>\n",
       "      <td>NaN</td>\n",
       "      <td>NaN</td>\n",
       "      <td>NaN</td>\n",
       "      <td>NaN</td>\n",
       "      <td>NaN</td>\n",
       "      <td>NaN</td>\n",
       "      <td>NaN</td>\n",
       "    </tr>\n",
       "    <tr>\n",
       "      <th>MatDensity</th>\n",
       "      <td>NaN</td>\n",
       "      <td>NaN</td>\n",
       "      <td>NaN</td>\n",
       "      <td>NaN</td>\n",
       "      <td>NaN</td>\n",
       "      <td>NaN</td>\n",
       "      <td>NaN</td>\n",
       "      <td>NaN</td>\n",
       "      <td>NaN</td>\n",
       "      <td>NaN</td>\n",
       "      <td>NaN</td>\n",
       "      <td>NaN</td>\n",
       "      <td>NaN</td>\n",
       "      <td>NaN</td>\n",
       "      <td>NaN</td>\n",
       "      <td>NaN</td>\n",
       "    </tr>\n",
       "    <tr>\n",
       "      <th>MatYoung</th>\n",
       "      <td>NaN</td>\n",
       "      <td>NaN</td>\n",
       "      <td>NaN</td>\n",
       "      <td>NaN</td>\n",
       "      <td>NaN</td>\n",
       "      <td>NaN</td>\n",
       "      <td>NaN</td>\n",
       "      <td>NaN</td>\n",
       "      <td>NaN</td>\n",
       "      <td>NaN</td>\n",
       "      <td>NaN</td>\n",
       "      <td>NaN</td>\n",
       "      <td>NaN</td>\n",
       "      <td>NaN</td>\n",
       "      <td>NaN</td>\n",
       "      <td>NaN</td>\n",
       "    </tr>\n",
       "    <tr>\n",
       "      <th>D2</th>\n",
       "      <td>NaN</td>\n",
       "      <td>NaN</td>\n",
       "      <td>NaN</td>\n",
       "      <td>1.000000</td>\n",
       "      <td>0.978892</td>\n",
       "      <td>0.737836</td>\n",
       "      <td>0.767581</td>\n",
       "      <td>0.305970</td>\n",
       "      <td>0.771392</td>\n",
       "      <td>NaN</td>\n",
       "      <td>0.581527</td>\n",
       "      <td>0.632891</td>\n",
       "      <td>0.623426</td>\n",
       "      <td>0.379694</td>\n",
       "      <td>-0.662147</td>\n",
       "      <td>-0.634638</td>\n",
       "    </tr>\n",
       "    <tr>\n",
       "      <th>DB</th>\n",
       "      <td>NaN</td>\n",
       "      <td>NaN</td>\n",
       "      <td>NaN</td>\n",
       "      <td>0.978892</td>\n",
       "      <td>1.000000</td>\n",
       "      <td>0.716563</td>\n",
       "      <td>0.739319</td>\n",
       "      <td>0.293073</td>\n",
       "      <td>0.744678</td>\n",
       "      <td>NaN</td>\n",
       "      <td>0.568009</td>\n",
       "      <td>0.625901</td>\n",
       "      <td>0.609536</td>\n",
       "      <td>0.368481</td>\n",
       "      <td>-0.585602</td>\n",
       "      <td>-0.554012</td>\n",
       "    </tr>\n",
       "    <tr>\n",
       "      <th>tm</th>\n",
       "      <td>NaN</td>\n",
       "      <td>NaN</td>\n",
       "      <td>NaN</td>\n",
       "      <td>0.737836</td>\n",
       "      <td>0.716563</td>\n",
       "      <td>1.000000</td>\n",
       "      <td>0.595812</td>\n",
       "      <td>0.199763</td>\n",
       "      <td>0.604644</td>\n",
       "      <td>NaN</td>\n",
       "      <td>0.186549</td>\n",
       "      <td>0.489848</td>\n",
       "      <td>0.474176</td>\n",
       "      <td>0.258663</td>\n",
       "      <td>-0.240704</td>\n",
       "      <td>-0.236235</td>\n",
       "    </tr>\n",
       "    <tr>\n",
       "      <th>ts</th>\n",
       "      <td>NaN</td>\n",
       "      <td>NaN</td>\n",
       "      <td>NaN</td>\n",
       "      <td>0.767581</td>\n",
       "      <td>0.739319</td>\n",
       "      <td>0.595812</td>\n",
       "      <td>1.000000</td>\n",
       "      <td>0.133162</td>\n",
       "      <td>0.744893</td>\n",
       "      <td>NaN</td>\n",
       "      <td>0.560315</td>\n",
       "      <td>0.337172</td>\n",
       "      <td>0.500577</td>\n",
       "      <td>0.154204</td>\n",
       "      <td>-0.542830</td>\n",
       "      <td>-0.512037</td>\n",
       "    </tr>\n",
       "    <tr>\n",
       "      <th>ti</th>\n",
       "      <td>NaN</td>\n",
       "      <td>NaN</td>\n",
       "      <td>NaN</td>\n",
       "      <td>0.305970</td>\n",
       "      <td>0.293073</td>\n",
       "      <td>0.199763</td>\n",
       "      <td>0.133162</td>\n",
       "      <td>1.000000</td>\n",
       "      <td>-0.129135</td>\n",
       "      <td>NaN</td>\n",
       "      <td>-0.352586</td>\n",
       "      <td>-0.333777</td>\n",
       "      <td>-0.388715</td>\n",
       "      <td>0.850625</td>\n",
       "      <td>-0.266235</td>\n",
       "      <td>-0.268361</td>\n",
       "    </tr>\n",
       "    <tr>\n",
       "      <th>tv</th>\n",
       "      <td>NaN</td>\n",
       "      <td>NaN</td>\n",
       "      <td>NaN</td>\n",
       "      <td>0.771392</td>\n",
       "      <td>0.744678</td>\n",
       "      <td>0.604644</td>\n",
       "      <td>0.744893</td>\n",
       "      <td>-0.129135</td>\n",
       "      <td>1.000000</td>\n",
       "      <td>NaN</td>\n",
       "      <td>0.777818</td>\n",
       "      <td>0.740346</td>\n",
       "      <td>0.579177</td>\n",
       "      <td>-0.072378</td>\n",
       "      <td>-0.523752</td>\n",
       "      <td>-0.508613</td>\n",
       "    </tr>\n",
       "    <tr>\n",
       "      <th>Rib</th>\n",
       "      <td>NaN</td>\n",
       "      <td>NaN</td>\n",
       "      <td>NaN</td>\n",
       "      <td>NaN</td>\n",
       "      <td>NaN</td>\n",
       "      <td>NaN</td>\n",
       "      <td>NaN</td>\n",
       "      <td>NaN</td>\n",
       "      <td>NaN</td>\n",
       "      <td>NaN</td>\n",
       "      <td>NaN</td>\n",
       "      <td>NaN</td>\n",
       "      <td>NaN</td>\n",
       "      <td>NaN</td>\n",
       "      <td>NaN</td>\n",
       "      <td>NaN</td>\n",
       "    </tr>\n",
       "    <tr>\n",
       "      <th>Sm</th>\n",
       "      <td>NaN</td>\n",
       "      <td>NaN</td>\n",
       "      <td>NaN</td>\n",
       "      <td>0.581527</td>\n",
       "      <td>0.568009</td>\n",
       "      <td>0.186549</td>\n",
       "      <td>0.560315</td>\n",
       "      <td>-0.352586</td>\n",
       "      <td>0.777818</td>\n",
       "      <td>NaN</td>\n",
       "      <td>1.000000</td>\n",
       "      <td>0.707149</td>\n",
       "      <td>0.688308</td>\n",
       "      <td>-0.319111</td>\n",
       "      <td>-0.464658</td>\n",
       "      <td>-0.437167</td>\n",
       "    </tr>\n",
       "    <tr>\n",
       "      <th>Ss</th>\n",
       "      <td>NaN</td>\n",
       "      <td>NaN</td>\n",
       "      <td>NaN</td>\n",
       "      <td>0.632891</td>\n",
       "      <td>0.625901</td>\n",
       "      <td>0.489848</td>\n",
       "      <td>0.337172</td>\n",
       "      <td>-0.333777</td>\n",
       "      <td>0.740346</td>\n",
       "      <td>NaN</td>\n",
       "      <td>0.707149</td>\n",
       "      <td>1.000000</td>\n",
       "      <td>0.785354</td>\n",
       "      <td>-0.271357</td>\n",
       "      <td>-0.352360</td>\n",
       "      <td>-0.340968</td>\n",
       "    </tr>\n",
       "    <tr>\n",
       "      <th>Sv</th>\n",
       "      <td>NaN</td>\n",
       "      <td>NaN</td>\n",
       "      <td>NaN</td>\n",
       "      <td>0.623426</td>\n",
       "      <td>0.609536</td>\n",
       "      <td>0.474176</td>\n",
       "      <td>0.500577</td>\n",
       "      <td>-0.388715</td>\n",
       "      <td>0.579177</td>\n",
       "      <td>NaN</td>\n",
       "      <td>0.688308</td>\n",
       "      <td>0.785354</td>\n",
       "      <td>1.000000</td>\n",
       "      <td>-0.348507</td>\n",
       "      <td>-0.353226</td>\n",
       "      <td>-0.324781</td>\n",
       "    </tr>\n",
       "    <tr>\n",
       "      <th>Si</th>\n",
       "      <td>NaN</td>\n",
       "      <td>NaN</td>\n",
       "      <td>NaN</td>\n",
       "      <td>0.379694</td>\n",
       "      <td>0.368481</td>\n",
       "      <td>0.258663</td>\n",
       "      <td>0.154204</td>\n",
       "      <td>0.850625</td>\n",
       "      <td>-0.072378</td>\n",
       "      <td>NaN</td>\n",
       "      <td>-0.319111</td>\n",
       "      <td>-0.271357</td>\n",
       "      <td>-0.348507</td>\n",
       "      <td>1.000000</td>\n",
       "      <td>-0.336102</td>\n",
       "      <td>-0.340550</td>\n",
       "    </tr>\n",
       "    <tr>\n",
       "      <th>Frequency</th>\n",
       "      <td>NaN</td>\n",
       "      <td>NaN</td>\n",
       "      <td>NaN</td>\n",
       "      <td>-0.662147</td>\n",
       "      <td>-0.585602</td>\n",
       "      <td>-0.240704</td>\n",
       "      <td>-0.542830</td>\n",
       "      <td>-0.266235</td>\n",
       "      <td>-0.523752</td>\n",
       "      <td>NaN</td>\n",
       "      <td>-0.464658</td>\n",
       "      <td>-0.352360</td>\n",
       "      <td>-0.353226</td>\n",
       "      <td>-0.336102</td>\n",
       "      <td>1.000000</td>\n",
       "      <td>0.995409</td>\n",
       "    </tr>\n",
       "    <tr>\n",
       "      <th>Frequency0</th>\n",
       "      <td>NaN</td>\n",
       "      <td>NaN</td>\n",
       "      <td>NaN</td>\n",
       "      <td>-0.634638</td>\n",
       "      <td>-0.554012</td>\n",
       "      <td>-0.236235</td>\n",
       "      <td>-0.512037</td>\n",
       "      <td>-0.268361</td>\n",
       "      <td>-0.508613</td>\n",
       "      <td>NaN</td>\n",
       "      <td>-0.437167</td>\n",
       "      <td>-0.340968</td>\n",
       "      <td>-0.324781</td>\n",
       "      <td>-0.340550</td>\n",
       "      <td>0.995409</td>\n",
       "      <td>1.000000</td>\n",
       "    </tr>\n",
       "  </tbody>\n",
       "</table>\n",
       "</div>"
      ],
      "text/plain": [
       "            Speed  MatDensity  MatYoung        D2        DB        tm  \\\n",
       "Speed         NaN         NaN       NaN       NaN       NaN       NaN   \n",
       "MatDensity    NaN         NaN       NaN       NaN       NaN       NaN   \n",
       "MatYoung      NaN         NaN       NaN       NaN       NaN       NaN   \n",
       "D2            NaN         NaN       NaN  1.000000  0.978892  0.737836   \n",
       "DB            NaN         NaN       NaN  0.978892  1.000000  0.716563   \n",
       "tm            NaN         NaN       NaN  0.737836  0.716563  1.000000   \n",
       "ts            NaN         NaN       NaN  0.767581  0.739319  0.595812   \n",
       "ti            NaN         NaN       NaN  0.305970  0.293073  0.199763   \n",
       "tv            NaN         NaN       NaN  0.771392  0.744678  0.604644   \n",
       "Rib           NaN         NaN       NaN       NaN       NaN       NaN   \n",
       "Sm            NaN         NaN       NaN  0.581527  0.568009  0.186549   \n",
       "Ss            NaN         NaN       NaN  0.632891  0.625901  0.489848   \n",
       "Sv            NaN         NaN       NaN  0.623426  0.609536  0.474176   \n",
       "Si            NaN         NaN       NaN  0.379694  0.368481  0.258663   \n",
       "Frequency     NaN         NaN       NaN -0.662147 -0.585602 -0.240704   \n",
       "Frequency0    NaN         NaN       NaN -0.634638 -0.554012 -0.236235   \n",
       "\n",
       "                  ts        ti        tv  Rib        Sm        Ss        Sv  \\\n",
       "Speed            NaN       NaN       NaN  NaN       NaN       NaN       NaN   \n",
       "MatDensity       NaN       NaN       NaN  NaN       NaN       NaN       NaN   \n",
       "MatYoung         NaN       NaN       NaN  NaN       NaN       NaN       NaN   \n",
       "D2          0.767581  0.305970  0.771392  NaN  0.581527  0.632891  0.623426   \n",
       "DB          0.739319  0.293073  0.744678  NaN  0.568009  0.625901  0.609536   \n",
       "tm          0.595812  0.199763  0.604644  NaN  0.186549  0.489848  0.474176   \n",
       "ts          1.000000  0.133162  0.744893  NaN  0.560315  0.337172  0.500577   \n",
       "ti          0.133162  1.000000 -0.129135  NaN -0.352586 -0.333777 -0.388715   \n",
       "tv          0.744893 -0.129135  1.000000  NaN  0.777818  0.740346  0.579177   \n",
       "Rib              NaN       NaN       NaN  NaN       NaN       NaN       NaN   \n",
       "Sm          0.560315 -0.352586  0.777818  NaN  1.000000  0.707149  0.688308   \n",
       "Ss          0.337172 -0.333777  0.740346  NaN  0.707149  1.000000  0.785354   \n",
       "Sv          0.500577 -0.388715  0.579177  NaN  0.688308  0.785354  1.000000   \n",
       "Si          0.154204  0.850625 -0.072378  NaN -0.319111 -0.271357 -0.348507   \n",
       "Frequency  -0.542830 -0.266235 -0.523752  NaN -0.464658 -0.352360 -0.353226   \n",
       "Frequency0 -0.512037 -0.268361 -0.508613  NaN -0.437167 -0.340968 -0.324781   \n",
       "\n",
       "                  Si  Frequency  Frequency0  \n",
       "Speed            NaN        NaN         NaN  \n",
       "MatDensity       NaN        NaN         NaN  \n",
       "MatYoung         NaN        NaN         NaN  \n",
       "D2          0.379694  -0.662147   -0.634638  \n",
       "DB          0.368481  -0.585602   -0.554012  \n",
       "tm          0.258663  -0.240704   -0.236235  \n",
       "ts          0.154204  -0.542830   -0.512037  \n",
       "ti          0.850625  -0.266235   -0.268361  \n",
       "tv         -0.072378  -0.523752   -0.508613  \n",
       "Rib              NaN        NaN         NaN  \n",
       "Sm         -0.319111  -0.464658   -0.437167  \n",
       "Ss         -0.271357  -0.352360   -0.340968  \n",
       "Sv         -0.348507  -0.353226   -0.324781  \n",
       "Si          1.000000  -0.336102   -0.340550  \n",
       "Frequency  -0.336102   1.000000    0.995409  \n",
       "Frequency0 -0.340550   0.995409    1.000000  "
      ]
     },
     "execution_count": 8,
     "metadata": {},
     "output_type": "execute_result"
    }
   ],
   "source": [
    "df.corr()"
   ]
  },
  {
   "cell_type": "code",
   "execution_count": 10,
   "metadata": {},
   "outputs": [
    {
     "name": "stdout",
     "output_type": "stream",
     "text": [
      "(200, 13)\n",
      "(200, 13)\n",
      "(24, 13)\n",
      "(30, 13)\n"
     ]
    }
   ],
   "source": [
    "# Remove speed for impeller stress prediction data - speed effect will be estimated separately\n",
    "df_clean = df.loc[df['Speed'] == 1785].loc[df['MatDensity'] == 7850].loc[df['MatYoung'] == 205]\n",
    "df_clean_test = df_test.loc[df_test['Speed'] == 1785].loc[df_test['MatDensity'] == 7850].loc[df_test['MatYoung'] == 205]\n",
    "#df_clean_eva = df_eva.loc[df_eva['Speed'] == 1785].loc[df_eva['MatDensity'] == 7850].loc[df_eva['MatYoung'] == 205].loc[df_eva['hasMouthRing'] == 0].loc[df_eva['isStraightSide'] == 0].loc[df_eva['hasRimout'] == 0].loc[df_eva['hasRimIn'] == 0].loc[df_eva['hasVaneRimOut'] == 0]\n",
    "\n",
    "df_clean.drop(['Speed', 'MatDensity', 'MatYoung'], axis=1, inplace=True)  # can drop Rib if not airfoil\n",
    "df_clean_test.drop(['Speed', 'MatDensity', 'MatYoung'], axis=1, inplace=True)\n",
    "#df_clean_eva.drop(['Speed', 'MatDensity', 'MatYoung', 'ti', 'hasMouthRing', 'isStraightSide', 'hasRimout', 'hasRimIn', 'hasVaneRimIn', 'hasVaneRimOut'], axis=1, inplace=True)\n",
    "\n",
    "# Scale D2 and DB\n",
    "df_clean['D2'] = df_clean['D2'] / 1000\n",
    "df_clean['DB'] = df_clean['DB'] / 1000\n",
    "df_clean_test['D2'] = df_clean_test['D2'] / 1000\n",
    "df_clean_test['DB'] = df_clean_test['DB'] / 1000\n",
    "#df_clean_eva['D2'] = df_clean_eva['D2'] / 1000\n",
    "#df_clean_eva['DB'] = df_clean_eva['DB'] / 1000\n",
    "\n",
    "# stress dataframe\n",
    "df_stress = df_clean.loc[df_clean['Sm'] != 0].loc[df_clean['Ss'] != 0].loc[df_clean['Sv'] != 0].loc[df_clean['Si'] == 0]\n",
    "df_stress_mid = df_clean.loc[df_clean['Sm'] != 0].loc[df_clean['Ss'] != 0].loc[df_clean['Sv'] != 0].loc[df_clean['Si'] != 0]  # with middle plate\n",
    "df_stress_test = df_clean_test.loc[df_clean_test['Sm'] != 0].loc[df_clean_test['Ss'] != 0].loc[df_clean_test['Sv'] != 0].loc[df_clean_test['Si'] == 0]\n",
    "df_stress_mid_test = df_clean_test.loc[df_clean_test['Sm'] != 0].loc[df_clean_test['Ss'] != 0].loc[df_clean_test['Sv'] != 0].loc[df_clean_test['Si'] != 0] # with middle plate\n",
    "#df_stress_eva = df_clean_eva.loc[df_clean_eva['Sm'] != 0].loc[df_clean_eva['Ss'] != 0].loc[df_clean_eva['Sv'] != 0]\n",
    "\n",
    "# frequency dataframe\n",
    "df_frequency = df_clean.loc[df_clean['Frequency'] != 0].loc[df_clean['Frequency0'] != 0]\n",
    "df_frequency_test = df_clean_test.loc[df_clean_test['Frequency'] != 0].loc[df_clean_test['Frequency0'] != 0]\n",
    "#df_frequency_eva = df_clean_eva.loc[df_clean_eva['Rib'] == 2].loc[df_clean_eva['Frequency'] != 0].loc[df_clean_eva['Frequency0'] != 0]\n",
    "\n",
    "print(df_stress.shape)\n",
    "print(df_stress_mid.shape)\n",
    "print(df_stress_test.shape)\n",
    "print(df_stress_mid_test.shape)\n",
    "#print(df_stress_eva.shape)\n"
   ]
  },
  {
   "cell_type": "code",
   "execution_count": 11,
   "metadata": {},
   "outputs": [
    {
     "data": {
      "text/html": [
       "<div>\n",
       "<style scoped>\n",
       "    .dataframe tbody tr th:only-of-type {\n",
       "        vertical-align: middle;\n",
       "    }\n",
       "\n",
       "    .dataframe tbody tr th {\n",
       "        vertical-align: top;\n",
       "    }\n",
       "\n",
       "    .dataframe thead th {\n",
       "        text-align: right;\n",
       "    }\n",
       "</style>\n",
       "<table border=\"1\" class=\"dataframe\">\n",
       "  <thead>\n",
       "    <tr style=\"text-align: right;\">\n",
       "      <th></th>\n",
       "      <th>D2</th>\n",
       "      <th>DB</th>\n",
       "      <th>tm</th>\n",
       "      <th>ts</th>\n",
       "      <th>ti</th>\n",
       "      <th>tv</th>\n",
       "      <th>Rib</th>\n",
       "      <th>Sm</th>\n",
       "      <th>Ss</th>\n",
       "      <th>Sv</th>\n",
       "      <th>Si</th>\n",
       "      <th>Frequency</th>\n",
       "      <th>Frequency0</th>\n",
       "    </tr>\n",
       "  </thead>\n",
       "  <tbody>\n",
       "    <tr>\n",
       "      <th>0</th>\n",
       "      <td>0.6</td>\n",
       "      <td>0.12</td>\n",
       "      <td>4.5</td>\n",
       "      <td>3.2</td>\n",
       "      <td>0.0</td>\n",
       "      <td>3.2</td>\n",
       "      <td>0</td>\n",
       "      <td>52.200</td>\n",
       "      <td>78.900</td>\n",
       "      <td>172.90</td>\n",
       "      <td>0.0</td>\n",
       "      <td>63.98</td>\n",
       "      <td>59.68</td>\n",
       "    </tr>\n",
       "    <tr>\n",
       "      <th>1</th>\n",
       "      <td>0.6</td>\n",
       "      <td>0.12</td>\n",
       "      <td>6.0</td>\n",
       "      <td>3.2</td>\n",
       "      <td>0.0</td>\n",
       "      <td>3.2</td>\n",
       "      <td>0</td>\n",
       "      <td>35.522</td>\n",
       "      <td>78.314</td>\n",
       "      <td>164.81</td>\n",
       "      <td>0.0</td>\n",
       "      <td>76.88</td>\n",
       "      <td>73.37</td>\n",
       "    </tr>\n",
       "    <tr>\n",
       "      <th>2</th>\n",
       "      <td>0.6</td>\n",
       "      <td>0.12</td>\n",
       "      <td>3.2</td>\n",
       "      <td>3.2</td>\n",
       "      <td>0.0</td>\n",
       "      <td>3.2</td>\n",
       "      <td>0</td>\n",
       "      <td>84.316</td>\n",
       "      <td>80.568</td>\n",
       "      <td>180.62</td>\n",
       "      <td>0.0</td>\n",
       "      <td>49.91</td>\n",
       "      <td>44.11</td>\n",
       "    </tr>\n",
       "    <tr>\n",
       "      <th>3</th>\n",
       "      <td>0.6</td>\n",
       "      <td>0.12</td>\n",
       "      <td>4.5</td>\n",
       "      <td>4.5</td>\n",
       "      <td>0.0</td>\n",
       "      <td>3.2</td>\n",
       "      <td>0</td>\n",
       "      <td>52.559</td>\n",
       "      <td>52.561</td>\n",
       "      <td>171.35</td>\n",
       "      <td>0.0</td>\n",
       "      <td>61.34</td>\n",
       "      <td>57.22</td>\n",
       "    </tr>\n",
       "    <tr>\n",
       "      <th>4</th>\n",
       "      <td>0.6</td>\n",
       "      <td>0.12</td>\n",
       "      <td>4.5</td>\n",
       "      <td>6.0</td>\n",
       "      <td>0.0</td>\n",
       "      <td>3.2</td>\n",
       "      <td>0</td>\n",
       "      <td>52.555</td>\n",
       "      <td>42.276</td>\n",
       "      <td>170.64</td>\n",
       "      <td>0.0</td>\n",
       "      <td>58.33</td>\n",
       "      <td>54.29</td>\n",
       "    </tr>\n",
       "  </tbody>\n",
       "</table>\n",
       "</div>"
      ],
      "text/plain": [
       "    D2    DB   tm   ts   ti   tv  Rib      Sm      Ss      Sv   Si  Frequency  \\\n",
       "0  0.6  0.12  4.5  3.2  0.0  3.2    0  52.200  78.900  172.90  0.0      63.98   \n",
       "1  0.6  0.12  6.0  3.2  0.0  3.2    0  35.522  78.314  164.81  0.0      76.88   \n",
       "2  0.6  0.12  3.2  3.2  0.0  3.2    0  84.316  80.568  180.62  0.0      49.91   \n",
       "3  0.6  0.12  4.5  4.5  0.0  3.2    0  52.559  52.561  171.35  0.0      61.34   \n",
       "4  0.6  0.12  4.5  6.0  0.0  3.2    0  52.555  42.276  170.64  0.0      58.33   \n",
       "\n",
       "   Frequency0  \n",
       "0       59.68  \n",
       "1       73.37  \n",
       "2       44.11  \n",
       "3       57.22  \n",
       "4       54.29  "
      ]
     },
     "execution_count": 11,
     "metadata": {},
     "output_type": "execute_result"
    }
   ],
   "source": [
    "df_stress.head()"
   ]
  },
  {
   "cell_type": "code",
   "execution_count": 12,
   "metadata": {},
   "outputs": [
    {
     "data": {
      "text/html": [
       "<div>\n",
       "<style scoped>\n",
       "    .dataframe tbody tr th:only-of-type {\n",
       "        vertical-align: middle;\n",
       "    }\n",
       "\n",
       "    .dataframe tbody tr th {\n",
       "        vertical-align: top;\n",
       "    }\n",
       "\n",
       "    .dataframe thead th {\n",
       "        text-align: right;\n",
       "    }\n",
       "</style>\n",
       "<table border=\"1\" class=\"dataframe\">\n",
       "  <thead>\n",
       "    <tr style=\"text-align: right;\">\n",
       "      <th></th>\n",
       "      <th>D2</th>\n",
       "      <th>DB</th>\n",
       "      <th>tm</th>\n",
       "      <th>ts</th>\n",
       "      <th>ti</th>\n",
       "      <th>tv</th>\n",
       "      <th>Rib</th>\n",
       "      <th>Sm</th>\n",
       "      <th>Ss</th>\n",
       "      <th>Sv</th>\n",
       "      <th>Si</th>\n",
       "      <th>Frequency</th>\n",
       "      <th>Frequency0</th>\n",
       "    </tr>\n",
       "  </thead>\n",
       "  <tbody>\n",
       "    <tr>\n",
       "      <th>0</th>\n",
       "      <td>0.6</td>\n",
       "      <td>0.12</td>\n",
       "      <td>4.5</td>\n",
       "      <td>3.2</td>\n",
       "      <td>0.0</td>\n",
       "      <td>3.2</td>\n",
       "      <td>0</td>\n",
       "      <td>52.200</td>\n",
       "      <td>78.900</td>\n",
       "      <td>172.90</td>\n",
       "      <td>0.0</td>\n",
       "      <td>63.98</td>\n",
       "      <td>59.68</td>\n",
       "    </tr>\n",
       "    <tr>\n",
       "      <th>1</th>\n",
       "      <td>0.6</td>\n",
       "      <td>0.12</td>\n",
       "      <td>6.0</td>\n",
       "      <td>3.2</td>\n",
       "      <td>0.0</td>\n",
       "      <td>3.2</td>\n",
       "      <td>0</td>\n",
       "      <td>35.522</td>\n",
       "      <td>78.314</td>\n",
       "      <td>164.81</td>\n",
       "      <td>0.0</td>\n",
       "      <td>76.88</td>\n",
       "      <td>73.37</td>\n",
       "    </tr>\n",
       "    <tr>\n",
       "      <th>2</th>\n",
       "      <td>0.6</td>\n",
       "      <td>0.12</td>\n",
       "      <td>3.2</td>\n",
       "      <td>3.2</td>\n",
       "      <td>0.0</td>\n",
       "      <td>3.2</td>\n",
       "      <td>0</td>\n",
       "      <td>84.316</td>\n",
       "      <td>80.568</td>\n",
       "      <td>180.62</td>\n",
       "      <td>0.0</td>\n",
       "      <td>49.91</td>\n",
       "      <td>44.11</td>\n",
       "    </tr>\n",
       "    <tr>\n",
       "      <th>3</th>\n",
       "      <td>0.6</td>\n",
       "      <td>0.12</td>\n",
       "      <td>4.5</td>\n",
       "      <td>4.5</td>\n",
       "      <td>0.0</td>\n",
       "      <td>3.2</td>\n",
       "      <td>0</td>\n",
       "      <td>52.559</td>\n",
       "      <td>52.561</td>\n",
       "      <td>171.35</td>\n",
       "      <td>0.0</td>\n",
       "      <td>61.34</td>\n",
       "      <td>57.22</td>\n",
       "    </tr>\n",
       "    <tr>\n",
       "      <th>4</th>\n",
       "      <td>0.6</td>\n",
       "      <td>0.12</td>\n",
       "      <td>4.5</td>\n",
       "      <td>6.0</td>\n",
       "      <td>0.0</td>\n",
       "      <td>3.2</td>\n",
       "      <td>0</td>\n",
       "      <td>52.555</td>\n",
       "      <td>42.276</td>\n",
       "      <td>170.64</td>\n",
       "      <td>0.0</td>\n",
       "      <td>58.33</td>\n",
       "      <td>54.29</td>\n",
       "    </tr>\n",
       "  </tbody>\n",
       "</table>\n",
       "</div>"
      ],
      "text/plain": [
       "    D2    DB   tm   ts   ti   tv  Rib      Sm      Ss      Sv   Si  Frequency  \\\n",
       "0  0.6  0.12  4.5  3.2  0.0  3.2    0  52.200  78.900  172.90  0.0      63.98   \n",
       "1  0.6  0.12  6.0  3.2  0.0  3.2    0  35.522  78.314  164.81  0.0      76.88   \n",
       "2  0.6  0.12  3.2  3.2  0.0  3.2    0  84.316  80.568  180.62  0.0      49.91   \n",
       "3  0.6  0.12  4.5  4.5  0.0  3.2    0  52.559  52.561  171.35  0.0      61.34   \n",
       "4  0.6  0.12  4.5  6.0  0.0  3.2    0  52.555  42.276  170.64  0.0      58.33   \n",
       "\n",
       "   Frequency0  \n",
       "0       59.68  \n",
       "1       73.37  \n",
       "2       44.11  \n",
       "3       57.22  \n",
       "4       54.29  "
      ]
     },
     "execution_count": 12,
     "metadata": {},
     "output_type": "execute_result"
    }
   ],
   "source": [
    "df_frequency.head()"
   ]
  },
  {
   "cell_type": "code",
   "execution_count": 12,
   "metadata": {},
   "outputs": [
    {
     "data": {
      "text/html": [
       "<div>\n",
       "<style scoped>\n",
       "    .dataframe tbody tr th:only-of-type {\n",
       "        vertical-align: middle;\n",
       "    }\n",
       "\n",
       "    .dataframe tbody tr th {\n",
       "        vertical-align: top;\n",
       "    }\n",
       "\n",
       "    .dataframe thead th {\n",
       "        text-align: right;\n",
       "    }\n",
       "</style>\n",
       "<table border=\"1\" class=\"dataframe\">\n",
       "  <thead>\n",
       "    <tr style=\"text-align: right;\">\n",
       "      <th></th>\n",
       "      <th>D2</th>\n",
       "      <th>DB</th>\n",
       "      <th>tm</th>\n",
       "      <th>ts</th>\n",
       "      <th>ti</th>\n",
       "      <th>tv</th>\n",
       "      <th>Rib</th>\n",
       "      <th>Sm</th>\n",
       "      <th>Ss</th>\n",
       "      <th>Sv</th>\n",
       "      <th>Si</th>\n",
       "      <th>Frequency</th>\n",
       "      <th>Frequency0</th>\n",
       "    </tr>\n",
       "  </thead>\n",
       "  <tbody>\n",
       "    <tr>\n",
       "      <th>0</th>\n",
       "      <td>1.95</td>\n",
       "      <td>0.73</td>\n",
       "      <td>12</td>\n",
       "      <td>9.0</td>\n",
       "      <td>9.0</td>\n",
       "      <td>9.0</td>\n",
       "      <td>0</td>\n",
       "      <td>271.71</td>\n",
       "      <td>415.07</td>\n",
       "      <td>678.23</td>\n",
       "      <td>542.75</td>\n",
       "      <td>28.388</td>\n",
       "      <td>17.349</td>\n",
       "    </tr>\n",
       "    <tr>\n",
       "      <th>1</th>\n",
       "      <td>1.95</td>\n",
       "      <td>0.73</td>\n",
       "      <td>15</td>\n",
       "      <td>12.0</td>\n",
       "      <td>12.0</td>\n",
       "      <td>12.0</td>\n",
       "      <td>0</td>\n",
       "      <td>250.89</td>\n",
       "      <td>353.95</td>\n",
       "      <td>475.19</td>\n",
       "      <td>534.96</td>\n",
       "      <td>29.982</td>\n",
       "      <td>20.122</td>\n",
       "    </tr>\n",
       "    <tr>\n",
       "      <th>2</th>\n",
       "      <td>1.95</td>\n",
       "      <td>0.73</td>\n",
       "      <td>18</td>\n",
       "      <td>12.0</td>\n",
       "      <td>15.0</td>\n",
       "      <td>12.0</td>\n",
       "      <td>0</td>\n",
       "      <td>204.84</td>\n",
       "      <td>349.98</td>\n",
       "      <td>459.77</td>\n",
       "      <td>475.26</td>\n",
       "      <td>32.272</td>\n",
       "      <td>23.368</td>\n",
       "    </tr>\n",
       "    <tr>\n",
       "      <th>3</th>\n",
       "      <td>1.85</td>\n",
       "      <td>0.58</td>\n",
       "      <td>12</td>\n",
       "      <td>9.0</td>\n",
       "      <td>9.0</td>\n",
       "      <td>9.0</td>\n",
       "      <td>0</td>\n",
       "      <td>256.92</td>\n",
       "      <td>360.13</td>\n",
       "      <td>559.44</td>\n",
       "      <td>485.67</td>\n",
       "      <td>34.231</td>\n",
       "      <td>26.625</td>\n",
       "    </tr>\n",
       "    <tr>\n",
       "      <th>4</th>\n",
       "      <td>1.85</td>\n",
       "      <td>0.58</td>\n",
       "      <td>15</td>\n",
       "      <td>12.0</td>\n",
       "      <td>12.0</td>\n",
       "      <td>12.0</td>\n",
       "      <td>0</td>\n",
       "      <td>237.59</td>\n",
       "      <td>319.91</td>\n",
       "      <td>392.15</td>\n",
       "      <td>482.29</td>\n",
       "      <td>36.130</td>\n",
       "      <td>29.283</td>\n",
       "    </tr>\n",
       "  </tbody>\n",
       "</table>\n",
       "</div>"
      ],
      "text/plain": [
       "     D2    DB  tm    ts    ti    tv  Rib      Sm      Ss      Sv      Si  \\\n",
       "0  1.95  0.73  12   9.0   9.0   9.0    0  271.71  415.07  678.23  542.75   \n",
       "1  1.95  0.73  15  12.0  12.0  12.0    0  250.89  353.95  475.19  534.96   \n",
       "2  1.95  0.73  18  12.0  15.0  12.0    0  204.84  349.98  459.77  475.26   \n",
       "3  1.85  0.58  12   9.0   9.0   9.0    0  256.92  360.13  559.44  485.67   \n",
       "4  1.85  0.58  15  12.0  12.0  12.0    0  237.59  319.91  392.15  482.29   \n",
       "\n",
       "   Frequency  Frequency0  \n",
       "0     28.388      17.349  \n",
       "1     29.982      20.122  \n",
       "2     32.272      23.368  \n",
       "3     34.231      26.625  \n",
       "4     36.130      29.283  "
      ]
     },
     "execution_count": 12,
     "metadata": {},
     "output_type": "execute_result"
    }
   ],
   "source": [
    "df_stress_test.head()"
   ]
  },
  {
   "cell_type": "markdown",
   "metadata": {},
   "source": [
    "<h2 style=\"color:cyan\">Data exploratory analysis</h2>"
   ]
  },
  {
   "cell_type": "code",
   "execution_count": 13,
   "metadata": {},
   "outputs": [
    {
     "data": {
      "text/html": [
       "<div>\n",
       "<style scoped>\n",
       "    .dataframe tbody tr th:only-of-type {\n",
       "        vertical-align: middle;\n",
       "    }\n",
       "\n",
       "    .dataframe tbody tr th {\n",
       "        vertical-align: top;\n",
       "    }\n",
       "\n",
       "    .dataframe thead th {\n",
       "        text-align: right;\n",
       "    }\n",
       "</style>\n",
       "<table border=\"1\" class=\"dataframe\">\n",
       "  <thead>\n",
       "    <tr style=\"text-align: right;\">\n",
       "      <th></th>\n",
       "      <th>D2</th>\n",
       "      <th>tm</th>\n",
       "      <th>ts</th>\n",
       "      <th>tv</th>\n",
       "      <th>ti</th>\n",
       "    </tr>\n",
       "  </thead>\n",
       "  <tbody>\n",
       "    <tr>\n",
       "      <th>0</th>\n",
       "      <td>0.6</td>\n",
       "      <td>4.5</td>\n",
       "      <td>3.2</td>\n",
       "      <td>3.2</td>\n",
       "      <td>0.0</td>\n",
       "    </tr>\n",
       "    <tr>\n",
       "      <th>1</th>\n",
       "      <td>0.6</td>\n",
       "      <td>6.0</td>\n",
       "      <td>3.2</td>\n",
       "      <td>3.2</td>\n",
       "      <td>0.0</td>\n",
       "    </tr>\n",
       "    <tr>\n",
       "      <th>2</th>\n",
       "      <td>0.6</td>\n",
       "      <td>3.2</td>\n",
       "      <td>3.2</td>\n",
       "      <td>3.2</td>\n",
       "      <td>0.0</td>\n",
       "    </tr>\n",
       "    <tr>\n",
       "      <th>3</th>\n",
       "      <td>0.6</td>\n",
       "      <td>4.5</td>\n",
       "      <td>4.5</td>\n",
       "      <td>3.2</td>\n",
       "      <td>0.0</td>\n",
       "    </tr>\n",
       "    <tr>\n",
       "      <th>4</th>\n",
       "      <td>0.6</td>\n",
       "      <td>4.5</td>\n",
       "      <td>6.0</td>\n",
       "      <td>3.2</td>\n",
       "      <td>0.0</td>\n",
       "    </tr>\n",
       "  </tbody>\n",
       "</table>\n",
       "</div>"
      ],
      "text/plain": [
       "    D2   tm   ts   tv   ti\n",
       "0  0.6  4.5  3.2  3.2  0.0\n",
       "1  0.6  6.0  3.2  3.2  0.0\n",
       "2  0.6  3.2  3.2  3.2  0.0\n",
       "3  0.6  4.5  4.5  3.2  0.0\n",
       "4  0.6  4.5  6.0  3.2  0.0"
      ]
     },
     "execution_count": 13,
     "metadata": {},
     "output_type": "execute_result"
    }
   ],
   "source": [
    "# Input parameters for stress\n",
    "x_train_stress = df_stress[['D2','tm','ts','tv', 'ti']]  # Rib or ti\n",
    "x_train_mid_stress = df_stress_mid[['D2','tm','ts','tv', 'ti']]\n",
    "x_test_stress = df_stress_test[['D2','tm','ts','tv', 'ti']]  # Rib or ti\n",
    "x_test_mid_stress = df_stress_mid_test[['D2','tm','ts','tv', 'ti']]\n",
    "#x_eva_stress =  df_stress_eva[['D2','DB','tm','ts','tv','Rib']]\n",
    "\n",
    "x_train_stress.head()"
   ]
  },
  {
   "cell_type": "code",
   "execution_count": 14,
   "metadata": {},
   "outputs": [
    {
     "data": {
      "text/html": [
       "<div>\n",
       "<style scoped>\n",
       "    .dataframe tbody tr th:only-of-type {\n",
       "        vertical-align: middle;\n",
       "    }\n",
       "\n",
       "    .dataframe tbody tr th {\n",
       "        vertical-align: top;\n",
       "    }\n",
       "\n",
       "    .dataframe thead th {\n",
       "        text-align: right;\n",
       "    }\n",
       "</style>\n",
       "<table border=\"1\" class=\"dataframe\">\n",
       "  <thead>\n",
       "    <tr style=\"text-align: right;\">\n",
       "      <th></th>\n",
       "      <th>D2</th>\n",
       "      <th>tm</th>\n",
       "      <th>ts</th>\n",
       "      <th>tv</th>\n",
       "      <th>DB</th>\n",
       "      <th>ti</th>\n",
       "    </tr>\n",
       "  </thead>\n",
       "  <tbody>\n",
       "    <tr>\n",
       "      <th>0</th>\n",
       "      <td>1.95</td>\n",
       "      <td>12</td>\n",
       "      <td>9.0</td>\n",
       "      <td>9.0</td>\n",
       "      <td>0.73</td>\n",
       "      <td>9.0</td>\n",
       "    </tr>\n",
       "    <tr>\n",
       "      <th>1</th>\n",
       "      <td>1.95</td>\n",
       "      <td>15</td>\n",
       "      <td>12.0</td>\n",
       "      <td>12.0</td>\n",
       "      <td>0.73</td>\n",
       "      <td>12.0</td>\n",
       "    </tr>\n",
       "    <tr>\n",
       "      <th>2</th>\n",
       "      <td>1.95</td>\n",
       "      <td>18</td>\n",
       "      <td>12.0</td>\n",
       "      <td>12.0</td>\n",
       "      <td>0.73</td>\n",
       "      <td>15.0</td>\n",
       "    </tr>\n",
       "    <tr>\n",
       "      <th>3</th>\n",
       "      <td>1.85</td>\n",
       "      <td>12</td>\n",
       "      <td>9.0</td>\n",
       "      <td>9.0</td>\n",
       "      <td>0.58</td>\n",
       "      <td>9.0</td>\n",
       "    </tr>\n",
       "    <tr>\n",
       "      <th>4</th>\n",
       "      <td>1.85</td>\n",
       "      <td>15</td>\n",
       "      <td>12.0</td>\n",
       "      <td>12.0</td>\n",
       "      <td>0.58</td>\n",
       "      <td>12.0</td>\n",
       "    </tr>\n",
       "  </tbody>\n",
       "</table>\n",
       "</div>"
      ],
      "text/plain": [
       "     D2  tm    ts    tv    DB    ti\n",
       "0  1.95  12   9.0   9.0  0.73   9.0\n",
       "1  1.95  15  12.0  12.0  0.73  12.0\n",
       "2  1.95  18  12.0  12.0  0.73  15.0\n",
       "3  1.85  12   9.0   9.0  0.58   9.0\n",
       "4  1.85  15  12.0  12.0  0.58  12.0"
      ]
     },
     "execution_count": 14,
     "metadata": {},
     "output_type": "execute_result"
    }
   ],
   "source": [
    "# Input parameters for frequency\n",
    "x_train_frequency = df_frequency[['D2','tm','ts','tv','DB','ti']]\n",
    "x_test_frequency = df_frequency_test[['D2','tm','ts','tv', 'DB','ti']]\n",
    "#x_eva_frequency = df_frequency_eva[['D2','tm','ts','tv', 'DB']]\n",
    "\n",
    "x_test_frequency.head()"
   ]
  },
  {
   "cell_type": "code",
   "execution_count": 15,
   "metadata": {},
   "outputs": [
    {
     "data": {
      "text/html": [
       "<div>\n",
       "<style scoped>\n",
       "    .dataframe tbody tr th:only-of-type {\n",
       "        vertical-align: middle;\n",
       "    }\n",
       "\n",
       "    .dataframe tbody tr th {\n",
       "        vertical-align: top;\n",
       "    }\n",
       "\n",
       "    .dataframe thead th {\n",
       "        text-align: right;\n",
       "    }\n",
       "</style>\n",
       "<table border=\"1\" class=\"dataframe\">\n",
       "  <thead>\n",
       "    <tr style=\"text-align: right;\">\n",
       "      <th></th>\n",
       "      <th>Sm</th>\n",
       "      <th>Ss</th>\n",
       "      <th>Sv</th>\n",
       "      <th>Si</th>\n",
       "    </tr>\n",
       "  </thead>\n",
       "  <tbody>\n",
       "    <tr>\n",
       "      <th>18</th>\n",
       "      <td>377.15</td>\n",
       "      <td>862.75</td>\n",
       "      <td>1383.80</td>\n",
       "      <td>0.0</td>\n",
       "    </tr>\n",
       "    <tr>\n",
       "      <th>19</th>\n",
       "      <td>475.52</td>\n",
       "      <td>607.49</td>\n",
       "      <td>1005.00</td>\n",
       "      <td>0.0</td>\n",
       "    </tr>\n",
       "    <tr>\n",
       "      <th>20</th>\n",
       "      <td>356.38</td>\n",
       "      <td>812.07</td>\n",
       "      <td>738.02</td>\n",
       "      <td>0.0</td>\n",
       "    </tr>\n",
       "    <tr>\n",
       "      <th>24</th>\n",
       "      <td>317.02</td>\n",
       "      <td>729.25</td>\n",
       "      <td>1114.90</td>\n",
       "      <td>0.0</td>\n",
       "    </tr>\n",
       "    <tr>\n",
       "      <th>25</th>\n",
       "      <td>397.30</td>\n",
       "      <td>504.47</td>\n",
       "      <td>791.34</td>\n",
       "      <td>0.0</td>\n",
       "    </tr>\n",
       "  </tbody>\n",
       "</table>\n",
       "</div>"
      ],
      "text/plain": [
       "        Sm      Ss       Sv   Si\n",
       "18  377.15  862.75  1383.80  0.0\n",
       "19  475.52  607.49  1005.00  0.0\n",
       "20  356.38  812.07   738.02  0.0\n",
       "24  317.02  729.25  1114.90  0.0\n",
       "25  397.30  504.47   791.34  0.0"
      ]
     },
     "execution_count": 15,
     "metadata": {},
     "output_type": "execute_result"
    }
   ],
   "source": [
    "# Output parameters for stress\n",
    "ym_train_stress = df_stress[['Sm','Ss','Sv','Si']]   # can add Si\n",
    "ym_train_mid_stress = df_stress_mid[['Sm','Ss','Sv','Si']]\n",
    "ym_test_stress = df_stress_test[['Sm','Ss','Sv','Si']]\n",
    "ym_test_mid_stress = df_stress_mid_test[['Sm','Ss','Sv','Si']]\n",
    "#ym_eva_stress = df_stress_eva[['Sm','Ss','Sv','Si']]\n",
    "ym_test_stress.head()\n",
    "#ym_train_stress.head()"
   ]
  },
  {
   "cell_type": "code",
   "execution_count": 16,
   "metadata": {},
   "outputs": [
    {
     "data": {
      "text/html": [
       "<div>\n",
       "<style scoped>\n",
       "    .dataframe tbody tr th:only-of-type {\n",
       "        vertical-align: middle;\n",
       "    }\n",
       "\n",
       "    .dataframe tbody tr th {\n",
       "        vertical-align: top;\n",
       "    }\n",
       "\n",
       "    .dataframe thead th {\n",
       "        text-align: right;\n",
       "    }\n",
       "</style>\n",
       "<table border=\"1\" class=\"dataframe\">\n",
       "  <thead>\n",
       "    <tr style=\"text-align: right;\">\n",
       "      <th></th>\n",
       "      <th>Frequency</th>\n",
       "      <th>Frequency0</th>\n",
       "    </tr>\n",
       "  </thead>\n",
       "  <tbody>\n",
       "    <tr>\n",
       "      <th>0</th>\n",
       "      <td>63.98</td>\n",
       "      <td>59.68</td>\n",
       "    </tr>\n",
       "    <tr>\n",
       "      <th>1</th>\n",
       "      <td>76.88</td>\n",
       "      <td>73.37</td>\n",
       "    </tr>\n",
       "    <tr>\n",
       "      <th>2</th>\n",
       "      <td>49.91</td>\n",
       "      <td>44.11</td>\n",
       "    </tr>\n",
       "    <tr>\n",
       "      <th>3</th>\n",
       "      <td>61.34</td>\n",
       "      <td>57.22</td>\n",
       "    </tr>\n",
       "    <tr>\n",
       "      <th>4</th>\n",
       "      <td>58.33</td>\n",
       "      <td>54.29</td>\n",
       "    </tr>\n",
       "  </tbody>\n",
       "</table>\n",
       "</div>"
      ],
      "text/plain": [
       "   Frequency  Frequency0\n",
       "0      63.98       59.68\n",
       "1      76.88       73.37\n",
       "2      49.91       44.11\n",
       "3      61.34       57.22\n",
       "4      58.33       54.29"
      ]
     },
     "execution_count": 16,
     "metadata": {},
     "output_type": "execute_result"
    }
   ],
   "source": [
    "# Output parameters for frequency\n",
    "ym_train_frequency = df_frequency[['Frequency','Frequency0']]\n",
    "ym_test_frequency = df_frequency_test[['Frequency','Frequency0']]\n",
    "#ym_eva_frequency = df_frequency_eva[['Frequency','Frequency0']]\n",
    "ym_train_frequency.head()"
   ]
  },
  {
   "cell_type": "code",
   "execution_count": 17,
   "metadata": {},
   "outputs": [
    {
     "data": {
      "image/png": "[encoded data removed]",
      "text/plain": [
       "<Figure size 432x288 with 1 Axes>"
      ]
     },
     "metadata": {
      "needs_background": "light"
     },
     "output_type": "display_data"
    }
   ],
   "source": [
    "# plot main stress Vs impeller D2\n",
    "plt.scatter(x_train_stress.D2, ym_train_stress.Sm)\n",
    "plt.xlabel('D2')\n",
    "plt.ylabel('Main Stress')\n",
    "plt.show()"
   ]
  },
  {
   "cell_type": "code",
   "execution_count": 18,
   "metadata": {},
   "outputs": [
    {
     "data": {
      "image/png": "[encoded data removed]",
      "text/plain": [
       "<Figure size 432x288 with 1 Axes>"
      ]
     },
     "metadata": {
      "needs_background": "light"
     },
     "output_type": "display_data"
    }
   ],
   "source": [
    "# plot side stress Vs impeller D2\n",
    "plt.scatter(x_train_stress.D2,ym_train_stress.Ss)\n",
    "plt.xlabel('D2')\n",
    "plt.ylabel('Side Stress')\n",
    "plt.show()"
   ]
  },
  {
   "cell_type": "code",
   "execution_count": 19,
   "metadata": {},
   "outputs": [
    {
     "data": {
      "image/png": "[encoded data removed]",
      "text/plain": [
       "<Figure size 432x288 with 1 Axes>"
      ]
     },
     "metadata": {
      "needs_background": "light"
     },
     "output_type": "display_data"
    }
   ],
   "source": [
    "# plot vane stress Vs impeller D2\n",
    "plt.scatter(x_train_stress.D2,ym_train_stress.Sv)\n",
    "plt.xlabel('D2')\n",
    "plt.ylabel('Vane Stress')\n",
    "plt.show()"
   ]
  },
  {
   "cell_type": "code",
   "execution_count": 20,
   "metadata": {},
   "outputs": [
    {
     "data": {
      "image/png": "[encoded data removed]",
      "text/plain": [
       "<Figure size 432x288 with 1 Axes>"
      ]
     },
     "metadata": {
      "needs_background": "light"
     },
     "output_type": "display_data"
    }
   ],
   "source": [
    "# plot frequency Vs D2/tm\n",
    "plt.scatter(x_train_frequency.D2/x_train_frequency.tm,ym_train_frequency.Frequency0)\n",
    "plt.xlabel('D2/tm')\n",
    "plt.ylabel('Frequency0')\n",
    "plt.show()"
   ]
  },
  {
   "cell_type": "markdown",
   "metadata": {},
   "source": [
    "<h2 style=\"color:cyan\">Function for Polynominal Regression</h2>"
   ]
  },
  {
   "cell_type": "code",
   "execution_count": 21,
   "metadata": {},
   "outputs": [],
   "source": [
    "df_coef = pd.DataFrame()  # To save coefficients of fitting function\n",
    "\n",
    "def polyEstimate(x_train_sm, y_train_sm, x_test_sm, y_test_sm, order=2 ,output=1, print_test = 0): \n",
    "\n",
    "    # Transform input data into polynominal features\n",
    "    x_train_sm_transform = PolynomialFeatures(degree=order).fit_transform(x_train_sm)\n",
    "    x_train_sm_transform.shape  # 1, x, y, x2, xy, y2\n",
    "    x_test_sm_transform = PolynomialFeatures(degree=order).fit_transform(x_test_sm)\n",
    "\n",
    "    # Create a linear regression model\n",
    "    poly = LinearRegression()\n",
    "    poly.fit(x_train_sm_transform, y_train_sm)  # transformed x data can be used as a linear regression model\n",
    "\n",
    "    # Predict value of train data\n",
    "    yhat_sm = poly.predict(x_train_sm_transform)\n",
    "    yhat_test_sm = poly.predict(x_test_sm_transform)\n",
    "\n",
    "    # Plot predict and true data\n",
    "    df_result = pd.DataFrame(list(zip(y_train_sm,yhat_sm)), columns=['True_Value','Predict_Value'])\n",
    "    if (output==1):\n",
    "        fig = px.scatter(df_result, x='True_Value', y='Predict_Value', trendline='ols', height=400, width=500, title='Train data')\n",
    "        fig.update_layout(margin=dict(l=10,r=10,t=20,b=10))\n",
    "        fig.show()\n",
    "\n",
    "    # Plot predict and true data\n",
    "    df_test_result = pd.DataFrame(list(zip(y_test_sm,yhat_test_sm)), columns=['True_Value','Predict_Value'])\n",
    "    if (output==1):\n",
    "        fig2 = px.scatter(df_test_result, x='True_Value', y='Predict_Value', trendline='ols', height=400, width=500, title='Test data')\n",
    "        fig2.update_layout(margin=dict(l=10,r=10,t=20,b=10))\n",
    "        fig2.show()\n",
    "\n",
    "    if (print_test==1):\n",
    "        print(df_test_result)\n",
    "\n",
    "    # Model Evaluation\n",
    "    if (output==1):\n",
    "        print(\"Residual sum of squares for train (MSE): %.2f\" % np.mean((y_train_sm - yhat_sm) ** 2))\n",
    "        print(\"R2-score for train: %.2f\" % r2_score(y_train_sm , yhat_sm))\n",
    "\n",
    "        print(\"Residual sum of squares for test (MSE): %.2f\" % np.mean((y_test_sm - yhat_test_sm) ** 2))\n",
    "        print(\"R2-score for test: %.2f\" % r2_score(y_test_sm , yhat_test_sm))\n",
    "\n",
    "        # Extract the coefficient\n",
    "        columns_name = (PolynomialFeatures(degree=order).fit(x_train_sm).get_feature_names(x_train_sm.columns))\n",
    "        columns_name = columns_name[1:]\n",
    "        columns_name.append(\"Intercept\")\n",
    "\n",
    "        data = poly.coef_[1:]\n",
    "        data = np.append(data, poly.intercept_).reshape(1,data.shape[0]+1)\n",
    "\n",
    "        df_coef = pd.DataFrame(data, columns=columns_name)\n",
    "        df_coef.to_clipboard()\n",
    "        print('Coefficent shape:', df_coef.shape)\n",
    "        return yhat_sm, yhat_test_sm\n",
    "    else:\n",
    "        return r2_score(y_train_sm, yhat_sm), r2_score(y_test_sm, yhat_test_sm)     "
   ]
  },
  {
   "cell_type": "markdown",
   "metadata": {},
   "source": [
    "<h2 style=\"color:cyan\">Polynomial Regression Model - All inputs - Main Stress</h2>"
   ]
  },
  {
   "cell_type": "code",
   "execution_count": 22,
   "metadata": {},
   "outputs": [
    {
     "data": {
      "application/vnd.plotly.v1+json": {
       "config": {
        "plotlyServerURL": "https://plot.ly"
       },
       "data": [
        {
         "hovertemplate": "True_Value=%{x}<br>Predict_Value=%{y}<extra></extra>",
         "legendgroup": "",
         "marker": {
          "color": "#636efa",
          "symbol": "circle"
         },
         "mode": "markers",
         "name": "",
         "orientation": "v",
         "showlegend": false,
         "type": "scatter",
         "x": [
          52.2,
          35.522,
          84.316,
          52.559,
          52.555,
          64.878,
          36.033,
          43.416,
          89.598,
          110.33,
          54.679,
          37.258,
          81.066,
          54.835,
          54.767,
          65.205,
          38.664,
          39.248,
          80.219,
          103.21,
          79.168,
          45.221,
          132.22,
          78.537,
          78.158,
          98.768,
          45.904,
          54.036,
          130.12,
          160.11,
          139.49,
          77.314,
          252.27,
          137.84,
          136.31,
          114.04,
          91.254,
          63.872,
          279.57,
          247.39,
          194.11,
          98.789,
          317.98,
          190.45,
          187.24,
          153.02,
          115.03,
          77.288,
          382.92,
          310.05,
          262.35,
          130.6,
          442.53,
          257.11,
          252.82,
          203.26,
          159.19,
          102.64,
          482.29,
          431.89,
          189.25,
          110.93,
          346.68,
          193.32,
          193.79,
          157.65,
          142.96,
          97.832,
          464.31,
          345.91,
          213.21,
          124.61,
          428.16,
          219.18,
          221.17,
          175.36,
          160.98,
          105.4,
          489.57,
          427.84,
          229.12,
          150.5,
          498.39,
          227.74,
          226.55,
          295.32,
          212.04,
          153.7,
          625.15,
          601.77,
          256.1,
          167.98,
          554.12,
          258.96,
          258.57,
          335.63,
          241.47,
          171.61,
          697.09,
          615.1,
          308.26,
          186.8,
          602.63,
          310.13,
          307.76,
          377.43,
          263.49,
          189.14,
          723.71,
          733.61,
          416.42,
          262.01,
          722.27,
          421.59,
          422.06,
          469.21,
          268.11,
          299.02,
          712.12,
          858.7,
          459.57,
          291.93,
          852.89,
          460.2,
          457.87,
          550.35,
          298.03,
          344.41,
          814.49,
          884.8,
          537.22,
          317.37,
          965.68,
          537.7,
          534.47,
          601.06,
          320.28,
          377.97,
          933.22,
          970.21,
          622.54,
          407.25,
          1105,
          624.26,
          620.1,
          720.06,
          421.39,
          469.06,
          1065.5,
          1131.9,
          459.13,
          312.54,
          741.58,
          471.38,
          475.16,
          495.56,
          323.95,
          363.58,
          740,
          740.75,
          567.44,
          392.24,
          908.69,
          571.77,
          572.6,
          619.56,
          399.27,
          431.6,
          898.81,
          974.98,
          750.68,
          518.33,
          1086.3,
          757.05,
          758.29,
          801.5,
          528.54,
          586.47,
          1077.4,
          1182.6,
          948.75,
          656,
          484.44,
          954.31,
          954.32,
          973.84,
          668.54,
          714.68,
          495.77,
          539.22,
          799.91,
          584.88,
          455.6,
          807.12,
          810.69,
          836.29,
          593.9,
          639.64,
          462.81,
          501.08
         ],
         "xaxis": "x",
         "y": [
          51.85627882819171,
          29.097065715494203,
          97.98208272323461,
          48.15981387038532,
          41.91890494795483,
          74.85472370136446,
          26.335937194873985,
          47.43932803749391,
          93.47499285320018,
          120.707453936727,
          43.242574866345656,
          53.39934562514546,
          87.1223706908628,
          40.239391834860506,
          34.79842359664685,
          65.4314200927524,
          52.26683546803255,
          69.27719617768643,
          83.1838512221914,
          110.04450339044566,
          73.2263619764455,
          41.141967311606166,
          138.22674051278247,
          69.98112443409542,
          64.26086252949915,
          97.88903804228642,
          39.76740264362823,
          59.251594192716254,
          134.0461665332462,
          163.38064954093463,
          146.18493395106887,
          65.29251289019008,
          235.58932568542565,
          144.0860183535013,
          139.68843561596162,
          119.04842704579377,
          87.70775737980136,
          43.10624777847248,
          266.56428177724814,
          232.55507365067186,
          210.31910781909988,
          87.18552133458175,
          320.8440822652762,
          207.97813771066726,
          203.301261306745,
          180.7087700743906,
          112.21313151267498,
          62.28337087256479,
          354.4314040455808,
          317.5677757196574,
          290.2915596463793,
          124.91680773822183,
          421.9371168043754,
          287.7085350270818,
          282.75236495677694,
          258.2073910622359,
          152.55678360479726,
          97.2987719259058,
          458.1368042731622,
          418.41875574789174,
          177.89937005249504,
          114.38203803378387,
          371.9718519483187,
          178.66796388557643,
          177.57904587570894,
          149.7218051747599,
          152.77100268463766,
          94.81891430590967,
          436.92805995381343,
          370.869772907028,
          208.091147078519,
          123.45323234798812,
          423.2842116861622,
          208.73871365616816,
          207.51014881310937,
          178.48637210111013,
          164.57558994275644,
          102.34187126500791,
          490.97381263557145,
          422.061105389439,
          242.7690329165714,
          138.8812083485929,
          477.2120073616622,
          241.4008212403213,
          232.31375023341172,
          299.3818658103582,
          218.44215225777444,
          139.67146537354162,
          613.0731920752173,
          549.1493148145528,
          280.7589216667872,
          155.75051438698904,
          536.3224788236976,
          279.25106315734587,
          269.8846984840537,
          340.22617475992115,
          240.88065186167353,
          156.40112457874645,
          677.7528571027558,
          610.974559642744,
          322.70837990681514,
          176.57938991519705,
          599.3925197755448,
          321.0608745641825,
          311.4152162245077,
          385.03005319929616,
          267.27872095538453,
          177.09035327376318,
          746.3920916201057,
          676.7593739607469,
          433.79350112848266,
          251.38963387335326,
          746.7525182607253,
          435.70320933751844,
          433.17197810118057,
          487.42948405063584,
          255.45781078358783,
          297.6363595389079,
          746.5037577685623,
          818.9908956272682,
          488.2865799233266,
          286.9205986575756,
          820.2077110661899,
          485.47605502060617,
          474.19799991200665,
          548.4738434296869,
          288.42701115725276,
          340.85370088163955,
          813.0802487610717,
          895.8155275888444,
          544.8295199989466,
          322.34295602137587,
          897.8712338536293,
          541.7397014298435,
          530.1823526548608,
          607.8712037046537,
          323.57007485467034,
          378.85118477840433,
          890.4644778821287,
          976.0541769092483,
          671.2281334694328,
          412.4666922283499,
          1060.5447245876285,
          675.2527420036668,
          670.8098203320214,
          725.5841268048123,
          420.80823816498133,
          467.40365771838754,
          1060.2523957194646,
          1137.1564043762567,
          458.6626087711214,
          309.33573469533127,
          738.5446327240243,
          466.7248610413703,
          466.3195831057401,
          500.7187277541552,
          321.7149243679777,
          356.01046956903815,
          742.2899475918755,
          806.8940818963217,
          570.4368152635841,
          383.1857131665519,
          888.2430672377291,
          569.4729499951889,
          560.0415545209144,
          625.5954954150318,
          386.53878530055346,
          433.93689167002776,
          882.962264566936,
          960.6689600397958,
          750.8545679951892,
          506.20800592282495,
          1126.0562799446657,
          756.725836163748,
          754.1295741264275,
          800.1819779756559,
          516.3962114937815,
          557.9630476922753,
          1127.610610710827,
          1199.4860360127066,
          946.9881689137558,
          644.9461468660586,
          473.45927469547553,
          959.6945705192686,
          963.9334419189026,
          990.4843087232423,
          661.9694858739692,
          697.7050519014824,
          494.79955110578385,
          515.3808225816038,
          781.8142020149128,
          572.403101823088,
          493.5471515083747,
          789.8114234841789,
          789.3411147475665,
          823.25860844112,
          584.7172606947518,
          618.401093338985,
          510.178247782436,
          528.7077858749772
         ],
         "yaxis": "y"
        },
        {
         "hovertemplate": "<b>OLS trendline</b><br>Predict_Value = 0.99563 * True_Value + 1.76885<br>R<sup>2</sup>=0.995630<br><br>True_Value=%{x}<br>Predict_Value=%{y} <b>(trend)</b><extra></extra>",
         "legendgroup": "",
         "marker": {
          "color": "#636efa",
          "symbol": "circle"
         },
         "mode": "lines",
         "name": "",
         "showlegend": false,
         "type": "scatter",
         "x": [
          35.522,
          36.033,
          37.258,
          38.664,
          39.248,
          43.416,
          45.221,
          45.904,
          52.2,
          52.555,
          52.559,
          54.036,
          54.679,
          54.767,
          54.835,
          63.872,
          64.878,
          65.205,
          77.288,
          77.314,
          78.158,
          78.537,
          79.168,
          80.219,
          81.066,
          84.316,
          89.598,
          91.254,
          97.832,
          98.768,
          98.789,
          102.64,
          103.21,
          105.4,
          110.33,
          110.93,
          114.04,
          115.03,
          124.61,
          130.12,
          130.6,
          132.22,
          136.31,
          137.84,
          139.49,
          142.96,
          150.5,
          153.02,
          153.7,
          157.65,
          159.19,
          160.11,
          160.98,
          167.98,
          171.61,
          175.36,
          186.8,
          187.24,
          189.14,
          189.25,
          190.45,
          193.32,
          193.79,
          194.11,
          203.26,
          212.04,
          213.21,
          219.18,
          221.17,
          226.55,
          227.74,
          229.12,
          241.47,
          247.39,
          252.27,
          252.82,
          256.1,
          257.11,
          258.57,
          258.96,
          262.01,
          262.35,
          263.49,
          268.11,
          279.57,
          291.93,
          295.32,
          298.03,
          299.02,
          307.76,
          308.26,
          310.05,
          310.13,
          312.54,
          317.37,
          317.98,
          320.28,
          323.95,
          335.63,
          344.41,
          345.91,
          346.68,
          363.58,
          377.43,
          377.97,
          382.92,
          392.24,
          399.27,
          407.25,
          416.42,
          421.39,
          421.59,
          422.06,
          427.84,
          428.16,
          431.6,
          431.89,
          442.53,
          455.6,
          457.87,
          459.13,
          459.57,
          460.2,
          462.81,
          464.31,
          469.06,
          469.21,
          471.38,
          475.16,
          482.29,
          484.44,
          489.57,
          495.56,
          495.77,
          498.39,
          501.08,
          518.33,
          528.54,
          534.47,
          537.22,
          537.7,
          539.22,
          550.35,
          554.12,
          567.44,
          571.77,
          572.6,
          584.88,
          586.47,
          593.9,
          601.06,
          601.77,
          602.63,
          615.1,
          619.56,
          620.1,
          622.54,
          624.26,
          625.15,
          639.64,
          656,
          668.54,
          697.09,
          712.12,
          714.68,
          720.06,
          722.27,
          723.71,
          733.61,
          740,
          740.75,
          741.58,
          750.68,
          757.05,
          758.29,
          799.91,
          801.5,
          807.12,
          810.69,
          814.49,
          836.29,
          852.89,
          858.7,
          884.8,
          898.81,
          908.69,
          933.22,
          948.75,
          954.31,
          954.32,
          965.68,
          970.21,
          973.84,
          974.98,
          1065.5,
          1077.4,
          1086.3,
          1105,
          1131.9,
          1182.6
         ],
         "xaxis": "x",
         "y": [
          37.13560603682426,
          37.64437284200791,
          38.864019292790644,
          40.263874729362485,
          40.84532250671522,
          44.99510732864371,
          46.79221903775621,
          47.47223416092733,
          53.740719103072664,
          54.09416766636072,
          54.09815018538367,
          55.56869533461314,
          56.20888526755461,
          56.296500686059815,
          56.36420350945019,
          65.36170961208161,
          66.36331314635706,
          66.68888407648437,
          78.71907841510287,
          78.74496478875213,
          79.58527630259753,
          79.96261998002339,
          80.59086235589595,
          81.63726922917974,
          82.48056763229238,
          85.71636433845062,
          90.97528070827458,
          92.62404358378168,
          99.17329611704596,
          100.10520556841955,
          100.12611379329012,
          103.9602839826487,
          104.52779294342106,
          106.70822210849387,
          111.61667680429699,
          112.2140546577416,
          115.3104631980961,
          116.2961366562797,
          125.83426971627847,
          131.3201896704114,
          131.79809195316705,
          133.41101215746747,
          137.48313785844817,
          139.00645138473192,
          140.64924048170457,
          144.10407573412584,
          151.61112409241295,
          154.12011107688028,
          154.79713931078416,
          158.72987684596112,
          160.26314666980224,
          161.179126045084,
          162.04532393257864,
          169.01473222276564,
          172.6288682361055,
          176.36247982013424,
          187.75248422581126,
          188.1905613183373,
          190.0822578542452,
          190.19177712737672,
          191.3865328342659,
          194.24399023324258,
          194.71193621844085,
          195.030537740278,
          204.1405500053081,
          212.88217926071408,
          214.04706607493108,
          219.99097571670484,
          221.97227893062941,
          227.32876701651603,
          228.5135664258478,
          229.8875354887704,
          242.18356297217173,
          248.07769112615844,
          252.93636433417453,
          253.48396069983207,
          256.7496262986626,
          257.75521235196095,
          259.2088317953428,
          259.5971274000818,
          262.6337981550919,
          262.97231227204384,
          264.10733019358855,
          268.707139665112,
          280.1170566659038,
          292.4230404468626,
          295.79822531882456,
          298.49638195688266,
          299.48205541506627,
          308.18385948024263,
          308.6816743581131,
          310.4638516208895,
          310.54350200134877,
          312.9429697126846,
          317.75186143291364,
          318.35919558391566,
          320.6491440221199,
          324.3031052256894,
          335.9320607727443,
          344.6736900281503,
          346.1671346617618,
          346.93376957368235,
          363.7599124457052,
          377.5493845627181,
          378.08702463081823,
          383.0153919217362,
          392.2946612452423,
          399.2939384281015,
          407.2390638789147,
          416.3689887390597,
          421.3172686250924,
          421.5163945762406,
          421.9843405614389,
          427.73908054962186,
          428.05768207145906,
          431.4826484312081,
          431.77138106037296,
          442.36488166145716,
          455.37776256899207,
          457.6378421145241,
          458.8923356067578,
          459.33041269928384,
          459.9576594454006,
          462.5562531078847,
          464.0496977414962,
          468.77893908126595,
          468.92828354462705,
          471.088800114585,
          474.85228059128605,
          481.9511207497194,
          484.0917247245625,
          489.19930537151384,
          495.1631276084024,
          495.37220985710803,
          497.9807598171494,
          500.6590038600927,
          517.833617146625,
          527.9989969527405,
          533.9030814042848,
          536.6410632325725,
          537.1189655153282,
          538.6323227440545,
          549.7136819254519,
          553.4672061045953,
          566.7289944510655,
          571.040071293424,
          571.866443990689,
          584.0927773911885,
          585.6758287028167,
          593.0733577879723,
          600.2020668390778,
          600.908963965654,
          601.7652055555913,
          614.1807086096816,
          618.6212173202864,
          619.1588573883865,
          621.5881939923945,
          623.3006771722692,
          624.1867876548786,
          638.6134628155656,
          654.9019656194885,
          667.3871627564805,
          695.8123922828862,
          710.7767075116734,
          713.3255196863703,
          718.6820077722568,
          720.8823495324446,
          722.3160563807116,
          732.1727909625474,
          738.5348651017324,
          739.2815874185382,
          740.1079601158033,
          749.1681908930462,
          755.5103524371165,
          756.7449333342353,
          798.1830437681757,
          799.7660950798039,
          805.3615343070684,
          808.9159325350638,
          812.6993256068796,
          834.4040542820333,
          850.9315082273339,
          856.7161171081892,
          882.7020537330292,
          896.6508266109606,
          906.4876485976818,
          930.9104465060085,
          946.3725766126662,
          951.9082780545862,
          951.9182343521436,
          963.2285883773612,
          967.7387911708681,
          971.3529271842079,
          972.4879451057526,
          1062.6123505954279,
          1074.4603446887459,
          1083.3214495148407,
          1101.9397259471973,
          1128.7221663766304,
          1179.2005949926988
         ],
         "yaxis": "y"
        }
       ],
       "layout": {
        "height": 400,
        "legend": {
         "tracegroupgap": 0
        },
        "margin": {
         "b": 10,
         "l": 10,
         "r": 10,
         "t": 20
        },
        "template": {
         "data": {
          "bar": [
           {
            "error_x": {
             "color": "#2a3f5f"
            },
            "error_y": {
             "color": "#2a3f5f"
            },
            "marker": {
             "line": {
              "color": "#E5ECF6",
              "width": 0.5
             },
             "pattern": {
              "fillmode": "overlay",
              "size": 10,
              "solidity": 0.2
             }
            },
            "type": "bar"
           }
          ],
          "barpolar": [
           {
            "marker": {
             "line": {
              "color": "#E5ECF6",
              "width": 0.5
             },
             "pattern": {
              "fillmode": "overlay",
              "size": 10,
              "solidity": 0.2
             }
            },
            "type": "barpolar"
           }
          ],
          "carpet": [
           {
            "aaxis": {
             "endlinecolor": "#2a3f5f",
             "gridcolor": "white",
             "linecolor": "white",
             "minorgridcolor": "white",
             "startlinecolor": "#2a3f5f"
            },
            "baxis": {
             "endlinecolor": "#2a3f5f",
             "gridcolor": "white",
             "linecolor": "white",
             "minorgridcolor": "white",
             "startlinecolor": "#2a3f5f"
            },
            "type": "carpet"
           }
          ],
          "choropleth": [
           {
            "colorbar": {
             "outlinewidth": 0,
             "ticks": ""
            },
            "type": "choropleth"
           }
          ],
          "contour": [
           {
            "colorbar": {
             "outlinewidth": 0,
             "ticks": ""
            },
            "colorscale": [
             [
              0,
              "#0d0887"
             ],
             [
              0.1111111111111111,
              "#46039f"
             ],
             [
              0.2222222222222222,
              "#7201a8"
             ],
             [
              0.3333333333333333,
              "#9c179e"
             ],
             [
              0.4444444444444444,
              "#bd3786"
             ],
             [
              0.5555555555555556,
              "#d8576b"
             ],
             [
              0.6666666666666666,
              "#ed7953"
             ],
             [
              0.7777777777777778,
              "#fb9f3a"
             ],
             [
              0.8888888888888888,
              "#fdca26"
             ],
             [
              1,
              "#f0f921"
             ]
            ],
            "type": "contour"
           }
          ],
          "contourcarpet": [
           {
            "colorbar": {
             "outlinewidth": 0,
             "ticks": ""
            },
            "type": "contourcarpet"
           }
          ],
          "heatmap": [
           {
            "colorbar": {
             "outlinewidth": 0,
             "ticks": ""
            },
            "colorscale": [
             [
              0,
              "#0d0887"
             ],
             [
              0.1111111111111111,
              "#46039f"
             ],
             [
              0.2222222222222222,
              "#7201a8"
             ],
             [
              0.3333333333333333,
              "#9c179e"
             ],
             [
              0.4444444444444444,
              "#bd3786"
             ],
             [
              0.5555555555555556,
              "#d8576b"
             ],
             [
              0.6666666666666666,
              "#ed7953"
             ],
             [
              0.7777777777777778,
              "#fb9f3a"
             ],
             [
              0.8888888888888888,
              "#fdca26"
             ],
             [
              1,
              "#f0f921"
             ]
            ],
            "type": "heatmap"
           }
          ],
          "heatmapgl": [
           {
            "colorbar": {
             "outlinewidth": 0,
             "ticks": ""
            },
            "colorscale": [
             [
              0,
              "#0d0887"
             ],
             [
              0.1111111111111111,
              "#46039f"
             ],
             [
              0.2222222222222222,
              "#7201a8"
             ],
             [
              0.3333333333333333,
              "#9c179e"
             ],
             [
              0.4444444444444444,
              "#bd3786"
             ],
             [
              0.5555555555555556,
              "#d8576b"
             ],
             [
              0.6666666666666666,
              "#ed7953"
             ],
             [
              0.7777777777777778,
              "#fb9f3a"
             ],
             [
              0.8888888888888888,
              "#fdca26"
             ],
             [
              1,
              "#f0f921"
             ]
            ],
            "type": "heatmapgl"
           }
          ],
          "histogram": [
           {
            "marker": {
             "pattern": {
              "fillmode": "overlay",
              "size": 10,
              "solidity": 0.2
             }
            },
            "type": "histogram"
           }
          ],
          "histogram2d": [
           {
            "colorbar": {
             "outlinewidth": 0,
             "ticks": ""
            },
            "colorscale": [
             [
              0,
              "#0d0887"
             ],
             [
              0.1111111111111111,
              "#46039f"
             ],
             [
              0.2222222222222222,
              "#7201a8"
             ],
             [
              0.3333333333333333,
              "#9c179e"
             ],
             [
              0.4444444444444444,
              "#bd3786"
             ],
             [
              0.5555555555555556,
              "#d8576b"
             ],
             [
              0.6666666666666666,
              "#ed7953"
             ],
             [
              0.7777777777777778,
              "#fb9f3a"
             ],
             [
              0.8888888888888888,
              "#fdca26"
             ],
             [
              1,
              "#f0f921"
             ]
            ],
            "type": "histogram2d"
           }
          ],
          "histogram2dcontour": [
           {
            "colorbar": {
             "outlinewidth": 0,
             "ticks": ""
            },
            "colorscale": [
             [
              0,
              "#0d0887"
             ],
             [
              0.1111111111111111,
              "#46039f"
             ],
             [
              0.2222222222222222,
              "#7201a8"
             ],
             [
              0.3333333333333333,
              "#9c179e"
             ],
             [
              0.4444444444444444,
              "#bd3786"
             ],
             [
              0.5555555555555556,
              "#d8576b"
             ],
             [
              0.6666666666666666,
              "#ed7953"
             ],
             [
              0.7777777777777778,
              "#fb9f3a"
             ],
             [
              0.8888888888888888,
              "#fdca26"
             ],
             [
              1,
              "#f0f921"
             ]
            ],
            "type": "histogram2dcontour"
           }
          ],
          "mesh3d": [
           {
            "colorbar": {
             "outlinewidth": 0,
             "ticks": ""
            },
            "type": "mesh3d"
           }
          ],
          "parcoords": [
           {
            "line": {
             "colorbar": {
              "outlinewidth": 0,
              "ticks": ""
             }
            },
            "type": "parcoords"
           }
          ],
          "pie": [
           {
            "automargin": true,
            "type": "pie"
           }
          ],
          "scatter": [
           {
            "marker": {
             "colorbar": {
              "outlinewidth": 0,
              "ticks": ""
             }
            },
            "type": "scatter"
           }
          ],
          "scatter3d": [
           {
            "line": {
             "colorbar": {
              "outlinewidth": 0,
              "ticks": ""
             }
            },
            "marker": {
             "colorbar": {
              "outlinewidth": 0,
              "ticks": ""
             }
            },
            "type": "scatter3d"
           }
          ],
          "scattercarpet": [
           {
            "marker": {
             "colorbar": {
              "outlinewidth": 0,
              "ticks": ""
             }
            },
            "type": "scattercarpet"
           }
          ],
          "scattergeo": [
           {
            "marker": {
             "colorbar": {
              "outlinewidth": 0,
              "ticks": ""
             }
            },
            "type": "scattergeo"
           }
          ],
          "scattergl": [
           {
            "marker": {
             "colorbar": {
              "outlinewidth": 0,
              "ticks": ""
             }
            },
            "type": "scattergl"
           }
          ],
          "scattermapbox": [
           {
            "marker": {
             "colorbar": {
              "outlinewidth": 0,
              "ticks": ""
             }
            },
            "type": "scattermapbox"
           }
          ],
          "scatterpolar": [
           {
            "marker": {
             "colorbar": {
              "outlinewidth": 0,
              "ticks": ""
             }
            },
            "type": "scatterpolar"
           }
          ],
          "scatterpolargl": [
           {
            "marker": {
             "colorbar": {
              "outlinewidth": 0,
              "ticks": ""
             }
            },
            "type": "scatterpolargl"
           }
          ],
          "scatterternary": [
           {
            "marker": {
             "colorbar": {
              "outlinewidth": 0,
              "ticks": ""
             }
            },
            "type": "scatterternary"
           }
          ],
          "surface": [
           {
            "colorbar": {
             "outlinewidth": 0,
             "ticks": ""
            },
            "colorscale": [
             [
              0,
              "#0d0887"
             ],
             [
              0.1111111111111111,
              "#46039f"
             ],
             [
              0.2222222222222222,
              "#7201a8"
             ],
             [
              0.3333333333333333,
              "#9c179e"
             ],
             [
              0.4444444444444444,
              "#bd3786"
             ],
             [
              0.5555555555555556,
              "#d8576b"
             ],
             [
              0.6666666666666666,
              "#ed7953"
             ],
             [
              0.7777777777777778,
              "#fb9f3a"
             ],
             [
              0.8888888888888888,
              "#fdca26"
             ],
             [
              1,
              "#f0f921"
             ]
            ],
            "type": "surface"
           }
          ],
          "table": [
           {
            "cells": {
             "fill": {
              "color": "#EBF0F8"
             },
             "line": {
              "color": "white"
             }
            },
            "header": {
             "fill": {
              "color": "#C8D4E3"
             },
             "line": {
              "color": "white"
             }
            },
            "type": "table"
           }
          ]
         },
         "layout": {
          "annotationdefaults": {
           "arrowcolor": "#2a3f5f",
           "arrowhead": 0,
           "arrowwidth": 1
          },
          "autotypenumbers": "strict",
          "coloraxis": {
           "colorbar": {
            "outlinewidth": 0,
            "ticks": ""
           }
          },
          "colorscale": {
           "diverging": [
            [
             0,
             "#8e0152"
            ],
            [
             0.1,
             "#c51b7d"
            ],
            [
             0.2,
             "#de77ae"
            ],
            [
             0.3,
             "#f1b6da"
            ],
            [
             0.4,
             "#fde0ef"
            ],
            [
             0.5,
             "#f7f7f7"
            ],
            [
             0.6,
             "#e6f5d0"
            ],
            [
             0.7,
             "#b8e186"
            ],
            [
             0.8,
             "#7fbc41"
            ],
            [
             0.9,
             "#4d9221"
            ],
            [
             1,
             "#276419"
            ]
           ],
           "sequential": [
            [
             0,
             "#0d0887"
            ],
            [
             0.1111111111111111,
             "#46039f"
            ],
            [
             0.2222222222222222,
             "#7201a8"
            ],
            [
             0.3333333333333333,
             "#9c179e"
            ],
            [
             0.4444444444444444,
             "#bd3786"
            ],
            [
             0.5555555555555556,
             "#d8576b"
            ],
            [
             0.6666666666666666,
             "#ed7953"
            ],
            [
             0.7777777777777778,
             "#fb9f3a"
            ],
            [
             0.8888888888888888,
             "#fdca26"
            ],
            [
             1,
             "#f0f921"
            ]
           ],
           "sequentialminus": [
            [
             0,
             "#0d0887"
            ],
            [
             0.1111111111111111,
             "#46039f"
            ],
            [
             0.2222222222222222,
             "#7201a8"
            ],
            [
             0.3333333333333333,
             "#9c179e"
            ],
            [
             0.4444444444444444,
             "#bd3786"
            ],
            [
             0.5555555555555556,
             "#d8576b"
            ],
            [
             0.6666666666666666,
             "#ed7953"
            ],
            [
             0.7777777777777778,
             "#fb9f3a"
            ],
            [
             0.8888888888888888,
             "#fdca26"
            ],
            [
             1,
             "#f0f921"
            ]
           ]
          },
          "colorway": [
           "#636efa",
           "#EF553B",
           "#00cc96",
           "#ab63fa",
           "#FFA15A",
           "#19d3f3",
           "#FF6692",
           "#B6E880",
           "#FF97FF",
           "#FECB52"
          ],
          "font": {
           "color": "#2a3f5f"
          },
          "geo": {
           "bgcolor": "white",
           "lakecolor": "white",
           "landcolor": "#E5ECF6",
           "showlakes": true,
           "showland": true,
           "subunitcolor": "white"
          },
          "hoverlabel": {
           "align": "left"
          },
          "hovermode": "closest",
          "mapbox": {
           "style": "light"
          },
          "paper_bgcolor": "white",
          "plot_bgcolor": "#E5ECF6",
          "polar": {
           "angularaxis": {
            "gridcolor": "white",
            "linecolor": "white",
            "ticks": ""
           },
           "bgcolor": "#E5ECF6",
           "radialaxis": {
            "gridcolor": "white",
            "linecolor": "white",
            "ticks": ""
           }
          },
          "scene": {
           "xaxis": {
            "backgroundcolor": "#E5ECF6",
            "gridcolor": "white",
            "gridwidth": 2,
            "linecolor": "white",
            "showbackground": true,
            "ticks": "",
            "zerolinecolor": "white"
           },
           "yaxis": {
            "backgroundcolor": "#E5ECF6",
            "gridcolor": "white",
            "gridwidth": 2,
            "linecolor": "white",
            "showbackground": true,
            "ticks": "",
            "zerolinecolor": "white"
           },
           "zaxis": {
            "backgroundcolor": "#E5ECF6",
            "gridcolor": "white",
            "gridwidth": 2,
            "linecolor": "white",
            "showbackground": true,
            "ticks": "",
            "zerolinecolor": "white"
           }
          },
          "shapedefaults": {
           "line": {
            "color": "#2a3f5f"
           }
          },
          "ternary": {
           "aaxis": {
            "gridcolor": "white",
            "linecolor": "white",
            "ticks": ""
           },
           "baxis": {
            "gridcolor": "white",
            "linecolor": "white",
            "ticks": ""
           },
           "bgcolor": "#E5ECF6",
           "caxis": {
            "gridcolor": "white",
            "linecolor": "white",
            "ticks": ""
           }
          },
          "title": {
           "x": 0.05
          },
          "xaxis": {
           "automargin": true,
           "gridcolor": "white",
           "linecolor": "white",
           "ticks": "",
           "title": {
            "standoff": 15
           },
           "zerolinecolor": "white",
           "zerolinewidth": 2
          },
          "yaxis": {
           "automargin": true,
           "gridcolor": "white",
           "linecolor": "white",
           "ticks": "",
           "title": {
            "standoff": 15
           },
           "zerolinecolor": "white",
           "zerolinewidth": 2
          }
         }
        },
        "title": {
         "text": "Train data"
        },
        "width": 500,
        "xaxis": {
         "anchor": "y",
         "domain": [
          0,
          1
         ],
         "title": {
          "text": "True_Value"
         }
        },
        "yaxis": {
         "anchor": "x",
         "domain": [
          0,
          1
         ],
         "title": {
          "text": "Predict_Value"
         }
        }
       }
      }
     },
     "metadata": {},
     "output_type": "display_data"
    },
    {
     "data": {
      "application/vnd.plotly.v1+json": {
       "config": {
        "plotlyServerURL": "https://plot.ly"
       },
       "data": [
        {
         "hovertemplate": "True_Value=%{x}<br>Predict_Value=%{y}<extra></extra>",
         "legendgroup": "",
         "marker": {
          "color": "#636efa",
          "symbol": "circle"
         },
         "mode": "markers",
         "name": "",
         "orientation": "v",
         "showlegend": false,
         "type": "scatter",
         "x": [
          377.15,
          475.52,
          356.38,
          317.02,
          397.3,
          290.38,
          239.48,
          190.57,
          192.84,
          196.04,
          151.67,
          157.13,
          233,
          143.29,
          171.08,
          175.5,
          104.48,
          126.94,
          102.04,
          65.49,
          75.389,
          70.076,
          85.701,
          51.916
         ],
         "xaxis": "x",
         "y": [
          444.9051420248122,
          516.0631037749099,
          350.5970102075898,
          345.16794758550833,
          410.8963626032944,
          291.2816678298903,
          261.26903110545294,
          189.70666362333264,
          194.12395761654545,
          192.50031237928062,
          158.17835012747037,
          162.87493778706576,
          248.3255489878335,
          130.40517281383003,
          175.60032491022844,
          176.2722361401784,
          97.98065970133204,
          137.46697139903625,
          94.15760976621364,
          60.178147434949295,
          81.3944245480823,
          56.25468367648958,
          77.94461049134304,
          80.64646735408131
         ],
         "yaxis": "y"
        },
        {
         "hovertemplate": "<b>OLS trendline</b><br>Predict_Value = 1.093 * True_Value + -10.5659<br>R<sup>2</sup>=0.985772<br><br>True_Value=%{x}<br>Predict_Value=%{y} <b>(trend)</b><extra></extra>",
         "legendgroup": "",
         "marker": {
          "color": "#636efa",
          "symbol": "circle"
         },
         "mode": "lines",
         "name": "",
         "showlegend": false,
         "type": "scatter",
         "x": [
          51.916,
          65.49,
          70.076,
          75.389,
          85.701,
          102.04,
          104.48,
          126.94,
          143.29,
          151.67,
          157.13,
          171.08,
          175.5,
          190.57,
          192.84,
          196.04,
          233,
          239.48,
          290.38,
          317.02,
          356.38,
          377.15,
          397.3,
          475.52
         ],
         "xaxis": "x",
         "y": [
          46.178011294545215,
          61.01433147712278,
          66.02680859199685,
          71.83389339603653,
          83.10486243410489,
          100.9633150245819,
          103.63022391256548,
          128.17890162736524,
          146.04937716774708,
          155.20867900434646,
          161.1764341389327,
          176.42372060916676,
          181.25476048002227,
          197.72620184965862,
          200.2073015118401,
          203.7048869387038,
          244.10199861897985,
          251.18460910837888,
          306.81807730443,
          335.9354759830705,
          378.9557767334943,
          401.6572921447317,
          423.68115037951424,
          509.1752541574143
         ],
         "yaxis": "y"
        }
       ],
       "layout": {
        "height": 400,
        "legend": {
         "tracegroupgap": 0
        },
        "margin": {
         "b": 10,
         "l": 10,
         "r": 10,
         "t": 20
        },
        "template": {
         "data": {
          "bar": [
           {
            "error_x": {
             "color": "#2a3f5f"
            },
            "error_y": {
             "color": "#2a3f5f"
            },
            "marker": {
             "line": {
              "color": "#E5ECF6",
              "width": 0.5
             },
             "pattern": {
              "fillmode": "overlay",
              "size": 10,
              "solidity": 0.2
             }
            },
            "type": "bar"
           }
          ],
          "barpolar": [
           {
            "marker": {
             "line": {
              "color": "#E5ECF6",
              "width": 0.5
             },
             "pattern": {
              "fillmode": "overlay",
              "size": 10,
              "solidity": 0.2
             }
            },
            "type": "barpolar"
           }
          ],
          "carpet": [
           {
            "aaxis": {
             "endlinecolor": "#2a3f5f",
             "gridcolor": "white",
             "linecolor": "white",
             "minorgridcolor": "white",
             "startlinecolor": "#2a3f5f"
            },
            "baxis": {
             "endlinecolor": "#2a3f5f",
             "gridcolor": "white",
             "linecolor": "white",
             "minorgridcolor": "white",
             "startlinecolor": "#2a3f5f"
            },
            "type": "carpet"
           }
          ],
          "choropleth": [
           {
            "colorbar": {
             "outlinewidth": 0,
             "ticks": ""
            },
            "type": "choropleth"
           }
          ],
          "contour": [
           {
            "colorbar": {
             "outlinewidth": 0,
             "ticks": ""
            },
            "colorscale": [
             [
              0,
              "#0d0887"
             ],
             [
              0.1111111111111111,
              "#46039f"
             ],
             [
              0.2222222222222222,
              "#7201a8"
             ],
             [
              0.3333333333333333,
              "#9c179e"
             ],
             [
              0.4444444444444444,
              "#bd3786"
             ],
             [
              0.5555555555555556,
              "#d8576b"
             ],
             [
              0.6666666666666666,
              "#ed7953"
             ],
             [
              0.7777777777777778,
              "#fb9f3a"
             ],
             [
              0.8888888888888888,
              "#fdca26"
             ],
             [
              1,
              "#f0f921"
             ]
            ],
            "type": "contour"
           }
          ],
          "contourcarpet": [
           {
            "colorbar": {
             "outlinewidth": 0,
             "ticks": ""
            },
            "type": "contourcarpet"
           }
          ],
          "heatmap": [
           {
            "colorbar": {
             "outlinewidth": 0,
             "ticks": ""
            },
            "colorscale": [
             [
              0,
              "#0d0887"
             ],
             [
              0.1111111111111111,
              "#46039f"
             ],
             [
              0.2222222222222222,
              "#7201a8"
             ],
             [
              0.3333333333333333,
              "#9c179e"
             ],
             [
              0.4444444444444444,
              "#bd3786"
             ],
             [
              0.5555555555555556,
              "#d8576b"
             ],
             [
              0.6666666666666666,
              "#ed7953"
             ],
             [
              0.7777777777777778,
              "#fb9f3a"
             ],
             [
              0.8888888888888888,
              "#fdca26"
             ],
             [
              1,
              "#f0f921"
             ]
            ],
            "type": "heatmap"
           }
          ],
          "heatmapgl": [
           {
            "colorbar": {
             "outlinewidth": 0,
             "ticks": ""
            },
            "colorscale": [
             [
              0,
              "#0d0887"
             ],
             [
              0.1111111111111111,
              "#46039f"
             ],
             [
              0.2222222222222222,
              "#7201a8"
             ],
             [
              0.3333333333333333,
              "#9c179e"
             ],
             [
              0.4444444444444444,
              "#bd3786"
             ],
             [
              0.5555555555555556,
              "#d8576b"
             ],
             [
              0.6666666666666666,
              "#ed7953"
             ],
             [
              0.7777777777777778,
              "#fb9f3a"
             ],
             [
              0.8888888888888888,
              "#fdca26"
             ],
             [
              1,
              "#f0f921"
             ]
            ],
            "type": "heatmapgl"
           }
          ],
          "histogram": [
           {
            "marker": {
             "pattern": {
              "fillmode": "overlay",
              "size": 10,
              "solidity": 0.2
             }
            },
            "type": "histogram"
           }
          ],
          "histogram2d": [
           {
            "colorbar": {
             "outlinewidth": 0,
             "ticks": ""
            },
            "colorscale": [
             [
              0,
              "#0d0887"
             ],
             [
              0.1111111111111111,
              "#46039f"
             ],
             [
              0.2222222222222222,
              "#7201a8"
             ],
             [
              0.3333333333333333,
              "#9c179e"
             ],
             [
              0.4444444444444444,
              "#bd3786"
             ],
             [
              0.5555555555555556,
              "#d8576b"
             ],
             [
              0.6666666666666666,
              "#ed7953"
             ],
             [
              0.7777777777777778,
              "#fb9f3a"
             ],
             [
              0.8888888888888888,
              "#fdca26"
             ],
             [
              1,
              "#f0f921"
             ]
            ],
            "type": "histogram2d"
           }
          ],
          "histogram2dcontour": [
           {
            "colorbar": {
             "outlinewidth": 0,
             "ticks": ""
            },
            "colorscale": [
             [
              0,
              "#0d0887"
             ],
             [
              0.1111111111111111,
              "#46039f"
             ],
             [
              0.2222222222222222,
              "#7201a8"
             ],
             [
              0.3333333333333333,
              "#9c179e"
             ],
             [
              0.4444444444444444,
              "#bd3786"
             ],
             [
              0.5555555555555556,
              "#d8576b"
             ],
             [
              0.6666666666666666,
              "#ed7953"
             ],
             [
              0.7777777777777778,
              "#fb9f3a"
             ],
             [
              0.8888888888888888,
              "#fdca26"
             ],
             [
              1,
              "#f0f921"
             ]
            ],
            "type": "histogram2dcontour"
           }
          ],
          "mesh3d": [
           {
            "colorbar": {
             "outlinewidth": 0,
             "ticks": ""
            },
            "type": "mesh3d"
           }
          ],
          "parcoords": [
           {
            "line": {
             "colorbar": {
              "outlinewidth": 0,
              "ticks": ""
             }
            },
            "type": "parcoords"
           }
          ],
          "pie": [
           {
            "automargin": true,
            "type": "pie"
           }
          ],
          "scatter": [
           {
            "marker": {
             "colorbar": {
              "outlinewidth": 0,
              "ticks": ""
             }
            },
            "type": "scatter"
           }
          ],
          "scatter3d": [
           {
            "line": {
             "colorbar": {
              "outlinewidth": 0,
              "ticks": ""
             }
            },
            "marker": {
             "colorbar": {
              "outlinewidth": 0,
              "ticks": ""
             }
            },
            "type": "scatter3d"
           }
          ],
          "scattercarpet": [
           {
            "marker": {
             "colorbar": {
              "outlinewidth": 0,
              "ticks": ""
             }
            },
            "type": "scattercarpet"
           }
          ],
          "scattergeo": [
           {
            "marker": {
             "colorbar": {
              "outlinewidth": 0,
              "ticks": ""
             }
            },
            "type": "scattergeo"
           }
          ],
          "scattergl": [
           {
            "marker": {
             "colorbar": {
              "outlinewidth": 0,
              "ticks": ""
             }
            },
            "type": "scattergl"
           }
          ],
          "scattermapbox": [
           {
            "marker": {
             "colorbar": {
              "outlinewidth": 0,
              "ticks": ""
             }
            },
            "type": "scattermapbox"
           }
          ],
          "scatterpolar": [
           {
            "marker": {
             "colorbar": {
              "outlinewidth": 0,
              "ticks": ""
             }
            },
            "type": "scatterpolar"
           }
          ],
          "scatterpolargl": [
           {
            "marker": {
             "colorbar": {
              "outlinewidth": 0,
              "ticks": ""
             }
            },
            "type": "scatterpolargl"
           }
          ],
          "scatterternary": [
           {
            "marker": {
             "colorbar": {
              "outlinewidth": 0,
              "ticks": ""
             }
            },
            "type": "scatterternary"
           }
          ],
          "surface": [
           {
            "colorbar": {
             "outlinewidth": 0,
             "ticks": ""
            },
            "colorscale": [
             [
              0,
              "#0d0887"
             ],
             [
              0.1111111111111111,
              "#46039f"
             ],
             [
              0.2222222222222222,
              "#7201a8"
             ],
             [
              0.3333333333333333,
              "#9c179e"
             ],
             [
              0.4444444444444444,
              "#bd3786"
             ],
             [
              0.5555555555555556,
              "#d8576b"
             ],
             [
              0.6666666666666666,
              "#ed7953"
             ],
             [
              0.7777777777777778,
              "#fb9f3a"
             ],
             [
              0.8888888888888888,
              "#fdca26"
             ],
             [
              1,
              "#f0f921"
             ]
            ],
            "type": "surface"
           }
          ],
          "table": [
           {
            "cells": {
             "fill": {
              "color": "#EBF0F8"
             },
             "line": {
              "color": "white"
             }
            },
            "header": {
             "fill": {
              "color": "#C8D4E3"
             },
             "line": {
              "color": "white"
             }
            },
            "type": "table"
           }
          ]
         },
         "layout": {
          "annotationdefaults": {
           "arrowcolor": "#2a3f5f",
           "arrowhead": 0,
           "arrowwidth": 1
          },
          "autotypenumbers": "strict",
          "coloraxis": {
           "colorbar": {
            "outlinewidth": 0,
            "ticks": ""
           }
          },
          "colorscale": {
           "diverging": [
            [
             0,
             "#8e0152"
            ],
            [
             0.1,
             "#c51b7d"
            ],
            [
             0.2,
             "#de77ae"
            ],
            [
             0.3,
             "#f1b6da"
            ],
            [
             0.4,
             "#fde0ef"
            ],
            [
             0.5,
             "#f7f7f7"
            ],
            [
             0.6,
             "#e6f5d0"
            ],
            [
             0.7,
             "#b8e186"
            ],
            [
             0.8,
             "#7fbc41"
            ],
            [
             0.9,
             "#4d9221"
            ],
            [
             1,
             "#276419"
            ]
           ],
           "sequential": [
            [
             0,
             "#0d0887"
            ],
            [
             0.1111111111111111,
             "#46039f"
            ],
            [
             0.2222222222222222,
             "#7201a8"
            ],
            [
             0.3333333333333333,
             "#9c179e"
            ],
            [
             0.4444444444444444,
             "#bd3786"
            ],
            [
             0.5555555555555556,
             "#d8576b"
            ],
            [
             0.6666666666666666,
             "#ed7953"
            ],
            [
             0.7777777777777778,
             "#fb9f3a"
            ],
            [
             0.8888888888888888,
             "#fdca26"
            ],
            [
             1,
             "#f0f921"
            ]
           ],
           "sequentialminus": [
            [
             0,
             "#0d0887"
            ],
            [
             0.1111111111111111,
             "#46039f"
            ],
            [
             0.2222222222222222,
             "#7201a8"
            ],
            [
             0.3333333333333333,
             "#9c179e"
            ],
            [
             0.4444444444444444,
             "#bd3786"
            ],
            [
             0.5555555555555556,
             "#d8576b"
            ],
            [
             0.6666666666666666,
             "#ed7953"
            ],
            [
             0.7777777777777778,
             "#fb9f3a"
            ],
            [
             0.8888888888888888,
             "#fdca26"
            ],
            [
             1,
             "#f0f921"
            ]
           ]
          },
          "colorway": [
           "#636efa",
           "#EF553B",
           "#00cc96",
           "#ab63fa",
           "#FFA15A",
           "#19d3f3",
           "#FF6692",
           "#B6E880",
           "#FF97FF",
           "#FECB52"
          ],
          "font": {
           "color": "#2a3f5f"
          },
          "geo": {
           "bgcolor": "white",
           "lakecolor": "white",
           "landcolor": "#E5ECF6",
           "showlakes": true,
           "showland": true,
           "subunitcolor": "white"
          },
          "hoverlabel": {
           "align": "left"
          },
          "hovermode": "closest",
          "mapbox": {
           "style": "light"
          },
          "paper_bgcolor": "white",
          "plot_bgcolor": "#E5ECF6",
          "polar": {
           "angularaxis": {
            "gridcolor": "white",
            "linecolor": "white",
            "ticks": ""
           },
           "bgcolor": "#E5ECF6",
           "radialaxis": {
            "gridcolor": "white",
            "linecolor": "white",
            "ticks": ""
           }
          },
          "scene": {
           "xaxis": {
            "backgroundcolor": "#E5ECF6",
            "gridcolor": "white",
            "gridwidth": 2,
            "linecolor": "white",
            "showbackground": true,
            "ticks": "",
            "zerolinecolor": "white"
           },
           "yaxis": {
            "backgroundcolor": "#E5ECF6",
            "gridcolor": "white",
            "gridwidth": 2,
            "linecolor": "white",
            "showbackground": true,
            "ticks": "",
            "zerolinecolor": "white"
           },
           "zaxis": {
            "backgroundcolor": "#E5ECF6",
            "gridcolor": "white",
            "gridwidth": 2,
            "linecolor": "white",
            "showbackground": true,
            "ticks": "",
            "zerolinecolor": "white"
           }
          },
          "shapedefaults": {
           "line": {
            "color": "#2a3f5f"
           }
          },
          "ternary": {
           "aaxis": {
            "gridcolor": "white",
            "linecolor": "white",
            "ticks": ""
           },
           "baxis": {
            "gridcolor": "white",
            "linecolor": "white",
            "ticks": ""
           },
           "bgcolor": "#E5ECF6",
           "caxis": {
            "gridcolor": "white",
            "linecolor": "white",
            "ticks": ""
           }
          },
          "title": {
           "x": 0.05
          },
          "xaxis": {
           "automargin": true,
           "gridcolor": "white",
           "linecolor": "white",
           "ticks": "",
           "title": {
            "standoff": 15
           },
           "zerolinecolor": "white",
           "zerolinewidth": 2
          },
          "yaxis": {
           "automargin": true,
           "gridcolor": "white",
           "linecolor": "white",
           "ticks": "",
           "title": {
            "standoff": 15
           },
           "zerolinecolor": "white",
           "zerolinewidth": 2
          }
         }
        },
        "title": {
         "text": "Test data"
        },
        "width": 500,
        "xaxis": {
         "anchor": "y",
         "domain": [
          0,
          1
         ],
         "title": {
          "text": "True_Value"
         }
        },
        "yaxis": {
         "anchor": "x",
         "domain": [
          0,
          1
         ],
         "title": {
          "text": "Predict_Value"
         }
        }
       }
      }
     },
     "metadata": {},
     "output_type": "display_data"
    },
    {
     "name": "stdout",
     "output_type": "stream",
     "text": [
      "    True_Value  Predict_Value\n",
      "0      377.150     444.905142\n",
      "1      475.520     516.063104\n",
      "2      356.380     350.597010\n",
      "3      317.020     345.167948\n",
      "4      397.300     410.896363\n",
      "5      290.380     291.281668\n",
      "6      239.480     261.269031\n",
      "7      190.570     189.706664\n",
      "8      192.840     194.123958\n",
      "9      196.040     192.500312\n",
      "10     151.670     158.178350\n",
      "11     157.130     162.874938\n",
      "12     233.000     248.325549\n",
      "13     143.290     130.405173\n",
      "14     171.080     175.600325\n",
      "15     175.500     176.272236\n",
      "16     104.480      97.980660\n",
      "17     126.940     137.466971\n",
      "18     102.040      94.157610\n",
      "19      65.490      60.178147\n",
      "20      75.389      81.394425\n",
      "21      70.076      56.254684\n",
      "22      85.701      77.944610\n",
      "23      51.916      80.646467\n",
      "Residual sum of squares for train (MSE): 358.98\n",
      "R2-score for train: 1.00\n",
      "Residual sum of squares for test (MSE): 399.54\n",
      "R2-score for test: 0.97\n",
      "Coefficent shape: (1, 21)\n"
     ]
    },
    {
     "data": {
      "text/plain": [
       "(array([  51.85627883,   29.09706572,   97.98208272,   48.15981387,\n",
       "          41.91890495,   74.8547237 ,   26.33593719,   47.43932804,\n",
       "          93.47499285,  120.70745394,   43.24257487,   53.39934563,\n",
       "          87.12237069,   40.23939183,   34.7984236 ,   65.43142009,\n",
       "          52.26683547,   69.27719618,   83.18385122,  110.04450339,\n",
       "          73.22636198,   41.14196731,  138.22674051,   69.98112443,\n",
       "          64.26086253,   97.88903804,   39.76740264,   59.25159419,\n",
       "         134.04616653,  163.38064954,  146.18493395,   65.29251289,\n",
       "         235.58932569,  144.08601835,  139.68843562,  119.04842705,\n",
       "          87.70775738,   43.10624778,  266.56428178,  232.55507365,\n",
       "         210.31910782,   87.18552133,  320.84408227,  207.97813771,\n",
       "         203.30126131,  180.70877007,  112.21313151,   62.28337087,\n",
       "         354.43140405,  317.56777572,  290.29155965,  124.91680774,\n",
       "         421.9371168 ,  287.70853503,  282.75236496,  258.20739106,\n",
       "         152.5567836 ,   97.29877193,  458.13680427,  418.41875575,\n",
       "         177.89937005,  114.38203803,  371.97185195,  178.66796389,\n",
       "         177.57904588,  149.72180517,  152.77100268,   94.81891431,\n",
       "         436.92805995,  370.86977291,  208.09114708,  123.45323235,\n",
       "         423.28421169,  208.73871366,  207.51014881,  178.4863721 ,\n",
       "         164.57558994,  102.34187127,  490.97381264,  422.06110539,\n",
       "         242.76903292,  138.88120835,  477.21200736,  241.40082124,\n",
       "         232.31375023,  299.38186581,  218.44215226,  139.67146537,\n",
       "         613.07319208,  549.14931481,  280.75892167,  155.75051439,\n",
       "         536.32247882,  279.25106316,  269.88469848,  340.22617476,\n",
       "         240.88065186,  156.40112458,  677.7528571 ,  610.97455964,\n",
       "         322.70837991,  176.57938992,  599.39251978,  321.06087456,\n",
       "         311.41521622,  385.0300532 ,  267.27872096,  177.09035327,\n",
       "         746.39209162,  676.75937396,  433.79350113,  251.38963387,\n",
       "         746.75251826,  435.70320934,  433.1719781 ,  487.42948405,\n",
       "         255.45781078,  297.63635954,  746.50375777,  818.99089563,\n",
       "         488.28657992,  286.92059866,  820.20771107,  485.47605502,\n",
       "         474.19799991,  548.47384343,  288.42701116,  340.85370088,\n",
       "         813.08024876,  895.81552759,  544.82952   ,  322.34295602,\n",
       "         897.87123385,  541.73970143,  530.18235265,  607.8712037 ,\n",
       "         323.57007485,  378.85118478,  890.46447788,  976.05417691,\n",
       "         671.22813347,  412.46669223, 1060.54472459,  675.252742  ,\n",
       "         670.80982033,  725.5841268 ,  420.80823816,  467.40365772,\n",
       "        1060.25239572, 1137.15640438,  458.66260877,  309.3357347 ,\n",
       "         738.54463272,  466.72486104,  466.31958311,  500.71872775,\n",
       "         321.71492437,  356.01046957,  742.28994759,  806.8940819 ,\n",
       "         570.43681526,  383.18571317,  888.24306724,  569.47295   ,\n",
       "         560.04155452,  625.59549542,  386.5387853 ,  433.93689167,\n",
       "         882.96226457,  960.66896004,  750.854568  ,  506.20800592,\n",
       "        1126.05627994,  756.72583616,  754.12957413,  800.18197798,\n",
       "         516.39621149,  557.96304769, 1127.61061071, 1199.48603601,\n",
       "         946.98816891,  644.94614687,  473.4592747 ,  959.69457052,\n",
       "         963.93344192,  990.48430872,  661.96948587,  697.7050519 ,\n",
       "         494.79955111,  515.38082258,  781.81420201,  572.40310182,\n",
       "         493.54715151,  789.81142348,  789.34111475,  823.25860844,\n",
       "         584.71726069,  618.40109334,  510.17824778,  528.70778587]),\n",
       " array([444.90514202, 516.06310377, 350.59701021, 345.16794759,\n",
       "        410.8963626 , 291.28166783, 261.26903111, 189.70666362,\n",
       "        194.12395762, 192.50031238, 158.17835013, 162.87493779,\n",
       "        248.32554899, 130.40517281, 175.60032491, 176.27223614,\n",
       "         97.9806597 , 137.4669714 ,  94.15760977,  60.17814743,\n",
       "         81.39442455,  56.25468368,  77.94461049,  80.64646735]))"
      ]
     },
     "execution_count": 22,
     "metadata": {},
     "output_type": "execute_result"
    }
   ],
   "source": [
    "# All parameters\n",
    "polyEstimate(x_train_stress, ym_train_stress.Sm, x_test_stress, ym_test_stress.Sm, print_test=1)"
   ]
  },
  {
   "cell_type": "markdown",
   "metadata": {},
   "source": [
    "<h2 style=\"color:cyan\">Polynomial Regression Model - All inputs - Side stress</h2>"
   ]
  },
  {
   "cell_type": "code",
   "execution_count": 23,
   "metadata": {},
   "outputs": [
    {
     "data": {
      "application/vnd.plotly.v1+json": {
       "config": {
        "plotlyServerURL": "https://plot.ly"
       },
       "data": [
        {
         "hovertemplate": "True_Value=%{x}<br>Predict_Value=%{y}<extra></extra>",
         "legendgroup": "",
         "marker": {
          "color": "#636efa",
          "symbol": "circle"
         },
         "mode": "markers",
         "name": "",
         "orientation": "v",
         "showlegend": false,
         "type": "scatter",
         "x": [
          78.9,
          78.314,
          80.568,
          52.561,
          42.276,
          80.622,
          52.464,
          57.64,
          53.708,
          59.761,
          119.52,
          119.63,
          119.35,
          83.2,
          60.774,
          132.23,
          82.377,
          89.197,
          82.506,
          91.491,
          165.72,
          165.72,
          169.11,
          112.12,
          81.417,
          187.88,
          110.54,
          124.85,
          112.71,
          127.97,
          282.37,
          278.61,
          290.69,
          185.8,
          129.98,
          247.38,
          183.65,
          166.4,
          196.43,
          191.54,
          347.7,
          343.65,
          352.75,
          245.77,
          182.83,
          337.56,
          263.45,
          203.57,
          279.08,
          252.67,
          534.25,
          525.81,
          546.18,
          341.59,
          230.38,
          502.64,
          330.19,
          291.6,
          343.66,
          347.21,
          681.35,
          718.06,
          710.05,
          383.6,
          265.36,
          606.52,
          557.66,
          381.27,
          430.64,
          383.37,
          811.04,
          818.36,
          809.7,
          458.86,
          324.5,
          667.73,
          638.61,
          395.05,
          501.09,
          464.13,
          504.9,
          501.26,
          515.65,
          365.49,
          224.73,
          637.79,
          483.09,
          363.55,
          429.49,
          401.36,
          603.95,
          605.32,
          598.62,
          395.19,
          260.11,
          711.24,
          567.47,
          393.91,
          474.35,
          443.49,
          661.8,
          663.96,
          650.9,
          435.92,
          285.31,
          825.04,
          641.75,
          435.66,
          511.24,
          504.99,
          871.44,
          1022,
          706.75,
          526.16,
          351.4,
          1116.4,
          583.84,
          704.45,
          541.29,
          580.11,
          577.59,
          608.99,
          601.09,
          386.3,
          289.79,
          714.9,
          382.09,
          403.12,
          411.9,
          441.46,
          657.12,
          662.77,
          677.96,
          418.58,
          343.1,
          753.84,
          411.28,
          449.42,
          448.6,
          476.69,
          838.88,
          939.9,
          769.94,
          497.2,
          385.47,
          941.03,
          484.15,
          521.75,
          533.9,
          547.59,
          990.46,
          1045.5,
          875.45,
          534.93,
          406.68,
          1116,
          529.95,
          595.45,
          545.72,
          571.46,
          630.58,
          624.6,
          645.24,
          477.2,
          392.53,
          654.12,
          471.88,
          507.43,
          488.75,
          516.72,
          796.21,
          869.76,
          788.37,
          588.45,
          516.6,
          885.61,
          585.76,
          611.67,
          604.22,
          632.67,
          967.63,
          1053.6,
          1116.1,
          715.63,
          590.92,
          1077.5,
          706.63,
          743.33,
          701.61,
          755.63,
          812.36,
          806.61,
          802.64,
          667.81,
          568.92,
          853.13,
          662.87,
          686.06,
          659.99,
          684.21
         ],
         "xaxis": "x",
         "y": [
          67.60802999857896,
          67.81085428719322,
          69.1674437666747,
          38.48160345291632,
          69.2778045528159,
          80.50981990630592,
          29.49354038675716,
          43.9386417789446,
          48.00645292848225,
          53.50695989150938,
          122.32441648802654,
          129.74502967411485,
          121.83184753867437,
          60.36423613291828,
          53.27533668345751,
          143.5864957453968,
          49.40307460945991,
          77.00021236691231,
          69.06255453833961,
          82.28445124892727,
          189.51019813798513,
          197.51030064554897,
          188.72788452789524,
          103.90715132820486,
          69.5380213541219,
          214.34081972937742,
          93.52547912622191,
          124.69115921769622,
          112.31572507288837,
          129.10616411749805,
          297.7673631624832,
          315.9304490227658,
          291.9035578760343,
          185.2730143668694,
          119.87545902451762,
          269.368199237069,
          219.95822613581805,
          150.32010309210892,
          206.91718046087038,
          188.60009643519373,
          393.8661260447143,
          412.6087012264724,
          387.7125760975276,
          257.7289107944285,
          165.05112492745485,
          361.8984197852783,
          297.111160731801,
          219.7869465071215,
          283.2008810746399,
          260.766248202015,
          502.637108376071,
          521.9591728793046,
          496.1938137681465,
          342.8570266711129,
          222.8990102795172,
          467.1008597826131,
          386.936314776909,
          301.92600937125945,
          372.1568011375353,
          345.6046194179618,
          630.3324585783735,
          669.5827791872146,
          599.6627716860448,
          436.6009740928851,
          277.4682621852931,
          581.3864909991426,
          553.3499512741516,
          401.21386952823815,
          475.96198227864585,
          424.3130619101034,
          694.9866059839671,
          734.526671253546,
          664.0271744309009,
          489.43368827114256,
          316.6608611012394,
          643.981863981262,
          610.5899589600951,
          452.2775539437594,
          532.6225006431139,
          476.8560314276229,
          545.4344573116812,
          566.8824925324511,
          532.5670558074241,
          359.02151487946736,
          193.2072539807728,
          627.4342308308358,
          528.0170143244516,
          359.2598100507601,
          447.6580358715193,
          418.5981910787097,
          604.6032812145013,
          626.3410610960088,
          591.4461350495062,
          404.5502235199768,
          211.4557320966597,
          690.7206035806041,
          582.0705653195953,
          405.0782633520071,
          501.1320975451877,
          467.95470390542965,
          666.9401599796029,
          688.9676845218485,
          653.4932691538704,
          453.2469870227672,
          232.87226507482916,
          757.1750311926539,
          639.2921711770205,
          454.0647715155356,
          557.7742140811374,
          520.4792715944309,
          826.797513666985,
          871.230538326683,
          790.9451227237996,
          590.8145450394218,
          325.8602317500275,
          898.9754408657714,
          614.0378296496424,
          699.6818318967266,
          576.1718941457134,
          617.5843854793682,
          649.9649671137233,
          673.4779963846822,
          635.0325715592776,
          357.7304232997072,
          341.5113781066694,
          717.6107627510414,
          338.8239724717119,
          411.2861627489106,
          385.21750784421516,
          413.4481872079842,
          712.2834440503061,
          736.0862179820026,
          697.0613038351225,
          392.7686697116688,
          349.2693939940087,
          784.0467885345724,
          374.1519635444102,
          450.7317026685576,
          419.9660095954387,
          452.31423780615575,
          853.6508691803849,
          899.8591432295341,
          816.0232288477489,
          489.55650350029197,
          401.4776364411751,
          907.3572696503868,
          493.34529745048627,
          551.8680925603685,
          494.34834326660945,
          508.639627463062,
          972.9210233983661,
          1027.999675824765,
          926.4230046884791,
          539.1269470946963,
          381.34836941200416,
          1052.860728172031,
          551.7861194221414,
          636.542218835687,
          535.048408483764,
          575.5729969838796,
          640.1944109699598,
          653.4330726188809,
          635.5363830375518,
          427.8553722380248,
          491.53183212706705,
          711.0698526206875,
          398.6745537879911,
          474.3663900785987,
          465.6168244045712,
          497.07714978174914,
          833.0446336389741,
          868.9785400660853,
          805.6913609283752,
          548.8457730409609,
          540.6624110639241,
          889.9806801223858,
          542.3601993691177,
          604.1126404924098,
          563.9119804293159,
          581.4329106391788,
          1032.8627782836938,
          1091.4919294889946,
          1158.7017144108086,
          676.8040958196034,
          596.7609119764875,
          1075.859429599789,
          693.0137669259498,
          740.8268128819263,
          717.8040717488093,
          787.7328731615007,
          794.5871128086155,
          819.9569069529493,
          853.9073348137972,
          617.5639878173033,
          716.5563614469702,
          850.6352564584881,
          600.5143018626823,
          661.3788401524371,
          592.0452496245771,
          675.0255433710454
         ],
         "yaxis": "y"
        },
        {
         "hovertemplate": "<b>OLS trendline</b><br>Predict_Value = 0.973516 * True_Value + 12.8113<br>R<sup>2</sup>=0.973516<br><br>True_Value=%{x}<br>Predict_Value=%{y} <b>(trend)</b><extra></extra>",
         "legendgroup": "",
         "marker": {
          "color": "#636efa",
          "symbol": "circle"
         },
         "mode": "lines",
         "name": "",
         "showlegend": false,
         "type": "scatter",
         "x": [
          42.276,
          52.464,
          52.561,
          53.708,
          57.64,
          59.761,
          60.774,
          78.314,
          78.9,
          80.568,
          80.622,
          81.417,
          82.377,
          82.506,
          83.2,
          89.197,
          91.491,
          110.54,
          112.12,
          112.71,
          119.35,
          119.52,
          119.63,
          124.85,
          127.97,
          129.98,
          132.23,
          165.72,
          165.72,
          166.4,
          169.11,
          182.83,
          183.65,
          185.8,
          187.88,
          191.54,
          196.43,
          203.57,
          224.73,
          230.38,
          245.77,
          247.38,
          252.67,
          260.11,
          263.45,
          265.36,
          278.61,
          279.08,
          282.37,
          285.31,
          289.79,
          290.69,
          291.6,
          324.5,
          330.19,
          337.56,
          341.59,
          343.1,
          343.65,
          343.66,
          347.21,
          347.7,
          351.4,
          352.75,
          363.55,
          365.49,
          381.27,
          382.09,
          383.37,
          383.6,
          385.47,
          386.3,
          392.53,
          393.91,
          395.05,
          395.19,
          401.36,
          403.12,
          406.68,
          411.28,
          411.9,
          418.58,
          429.49,
          430.64,
          435.66,
          435.92,
          441.46,
          443.49,
          448.6,
          449.42,
          458.86,
          464.13,
          471.88,
          474.35,
          476.69,
          477.2,
          483.09,
          484.15,
          488.75,
          497.2,
          501.09,
          501.26,
          502.64,
          504.9,
          504.99,
          507.43,
          511.24,
          515.65,
          516.6,
          516.72,
          521.75,
          525.81,
          526.16,
          529.95,
          533.9,
          534.25,
          534.93,
          541.29,
          545.72,
          546.18,
          547.59,
          557.66,
          567.47,
          568.92,
          571.46,
          577.59,
          580.11,
          583.84,
          585.76,
          588.45,
          590.92,
          595.45,
          598.62,
          601.09,
          603.95,
          604.22,
          605.32,
          606.52,
          608.99,
          611.67,
          624.6,
          630.58,
          632.67,
          637.79,
          638.61,
          641.75,
          645.24,
          650.9,
          654.12,
          657.12,
          659.99,
          661.8,
          662.77,
          662.87,
          663.96,
          667.73,
          667.81,
          677.96,
          681.35,
          684.21,
          686.06,
          701.61,
          704.45,
          706.63,
          706.75,
          710.05,
          711.24,
          714.9,
          715.63,
          718.06,
          743.33,
          753.84,
          755.63,
          769.94,
          788.37,
          796.21,
          802.64,
          806.61,
          809.7,
          811.04,
          812.36,
          818.36,
          825.04,
          838.88,
          853.13,
          869.76,
          871.44,
          875.45,
          885.61,
          939.9,
          941.03,
          967.63,
          990.46,
          1022,
          1045.5,
          1053.6,
          1077.5,
          1116,
          1116.1,
          1116.4
         ],
         "xaxis": "x",
         "y": [
          53.967666030682715,
          63.88584975398701,
          63.98028083183944,
          65.09690398953771,
          68.9247699494938,
          70.98959795078241,
          71.97576992876702,
          89.05124524352529,
          89.62172577570594,
          91.24555090826105,
          91.29812078665313,
          92.0720662185364,
          93.00664183439547,
          93.13222543277654,
          93.80784572174132,
          99.6460227720609,
          101.87926908745744,
          120.4237804483942,
          121.96193614949557,
          122.53631074674227,
          129.0004587564341,
          129.1659565217425,
          129.27304331105967,
          134.3547982222933,
          137.39216897383528,
          139.3489366695402,
          141.53934826920988,
          174.14240803495989,
          174.14240803495989,
          174.80439909619338,
          177.4426281784622,
          190.79927135511463,
          191.59755469366087,
          193.69061466667858,
          195.7155285010399,
          199.27859803650256,
          204.03909257978466,
          210.9899987227364,
          231.5896029222966,
          237.08996982813375,
          252.0723851698744,
          253.6397463589713,
          258.78964740886136,
          266.0326084317691,
          269.28415276194545,
          271.1435688309984,
          284.0426593623865,
          284.50021200765076,
          287.7030805245011,
          290.5652183480695,
          294.92657122207845,
          295.8027358619463,
          296.6886356644794,
          328.7173208329827,
          334.2566283894806,
          341.431443273732,
          345.35471382780696,
          346.824723390252,
          347.3601573368379,
          347.3698924995031,
          350.8258752456486,
          351.3028982162433,
          354.9049084023668,
          356.21915536216864,
          366.7331310405831,
          368.6217525976316,
          383.98383928331486,
          384.78212262186116,
          386.0282234430066,
          386.2521321843062,
          388.0726076026983,
          388.8806261039098,
          394.94563244432845,
          396.2890848921259,
          397.39889343595854,
          397.5351857132713,
          403.54178107769883,
          405.25516970677376,
          408.72088761558445,
          413.1990624415758,
          413.8026425268181,
          420.30573118717075,
          430.9267936549024,
          432.0463373614002,
          436.9333890193299,
          437.18650324862506,
          442.57978336514503,
          444.55602138618036,
          449.5306895080969,
          450.3289728466431,
          459.5189664025906,
          464.6493971271502,
          472.1941481926791,
          474.59873337098315,
          476.8767614346396,
          477.3732547305647,
          483.10726554036665,
          484.1391927828777,
          488.6173676088691,
          496.84358006096187,
          500.6305583377241,
          500.79605610303247,
          502.1395085508299,
          504.3396553131647,
          504.42727177715153,
          506.80265146746,
          510.5117484429006,
          514.8049551782532,
          515.729795631447,
          515.8466175834294,
          520.7434044040243,
          524.6958804460949,
          525.0366111393769,
          528.7262377894872,
          532.5716270422406,
          532.9123577355225,
          533.574348796756,
          539.7659122518223,
          544.0785893125053,
          544.5264067951043,
          545.8990647308974,
          555.7023735347524,
          565.2525681093122,
          566.6641666957659,
          569.1368980127264,
          575.1045527264931,
          577.5578137181232,
          581.1890293922422,
          583.0581806239603,
          585.6769393808988,
          588.0815245592028,
          592.4915532465378,
          595.5775998114057,
          597.9821849897097,
          600.7664415119566,
          601.029290903917,
          602.1001587970887,
          603.2683783169125,
          605.6729634952165,
          608.2819870894898,
          620.8695524155916,
          626.6911796893803,
          628.7258286864068,
          633.7102319709884,
          634.5085153095348,
          637.5653563864071,
          640.9629281565614,
          646.4730302250638,
          649.6077526032577,
          652.5283014028173,
          655.3222930877292,
          657.0843575301302,
          658.0286683086545,
          658.1260199353064,
          659.1871526658132,
          662.857308990593,
          662.9351902919145,
          672.8163803970912,
          676.1166005405934,
          678.9008570628403,
          680.7018621559018,
          695.8400401002857,
          698.6048262972022,
          700.7270917582154,
          700.8439137101977,
          704.0565173897132,
          705.215001746872,
          708.7780712823345,
          709.4887381568941,
          711.8543826845373,
          736.4551387394941,
          746.6867947006178,
          748.4293888176883,
          762.3604065915875,
          780.3023113835484,
          787.9346789130641,
          794.1943885067867,
          798.0592480848707,
          801.0674133484171,
          802.3719251455535,
          803.6569666173598,
          809.498064216479,
          816.0011528768315,
          829.4746180054664,
          843.3472248033743,
          859.5368003155995,
          861.172307643353,
          865.0761078720975,
          874.9670331399393,
          927.8192312493022,
          928.9193046304697,
          954.8148373198978,
          977.0402136845462,
          1007.7449167305824,
          1030.622548993799,
          1038.5080307526098,
          1061.7750695224345,
          1099.255445783449,
          1099.352797410101,
          1099.644852290057
         ],
         "yaxis": "y"
        }
       ],
       "layout": {
        "height": 400,
        "legend": {
         "tracegroupgap": 0
        },
        "margin": {
         "b": 10,
         "l": 10,
         "r": 10,
         "t": 20
        },
        "template": {
         "data": {
          "bar": [
           {
            "error_x": {
             "color": "#2a3f5f"
            },
            "error_y": {
             "color": "#2a3f5f"
            },
            "marker": {
             "line": {
              "color": "#E5ECF6",
              "width": 0.5
             },
             "pattern": {
              "fillmode": "overlay",
              "size": 10,
              "solidity": 0.2
             }
            },
            "type": "bar"
           }
          ],
          "barpolar": [
           {
            "marker": {
             "line": {
              "color": "#E5ECF6",
              "width": 0.5
             },
             "pattern": {
              "fillmode": "overlay",
              "size": 10,
              "solidity": 0.2
             }
            },
            "type": "barpolar"
           }
          ],
          "carpet": [
           {
            "aaxis": {
             "endlinecolor": "#2a3f5f",
             "gridcolor": "white",
             "linecolor": "white",
             "minorgridcolor": "white",
             "startlinecolor": "#2a3f5f"
            },
            "baxis": {
             "endlinecolor": "#2a3f5f",
             "gridcolor": "white",
             "linecolor": "white",
             "minorgridcolor": "white",
             "startlinecolor": "#2a3f5f"
            },
            "type": "carpet"
           }
          ],
          "choropleth": [
           {
            "colorbar": {
             "outlinewidth": 0,
             "ticks": ""
            },
            "type": "choropleth"
           }
          ],
          "contour": [
           {
            "colorbar": {
             "outlinewidth": 0,
             "ticks": ""
            },
            "colorscale": [
             [
              0,
              "#0d0887"
             ],
             [
              0.1111111111111111,
              "#46039f"
             ],
             [
              0.2222222222222222,
              "#7201a8"
             ],
             [
              0.3333333333333333,
              "#9c179e"
             ],
             [
              0.4444444444444444,
              "#bd3786"
             ],
             [
              0.5555555555555556,
              "#d8576b"
             ],
             [
              0.6666666666666666,
              "#ed7953"
             ],
             [
              0.7777777777777778,
              "#fb9f3a"
             ],
             [
              0.8888888888888888,
              "#fdca26"
             ],
             [
              1,
              "#f0f921"
             ]
            ],
            "type": "contour"
           }
          ],
          "contourcarpet": [
           {
            "colorbar": {
             "outlinewidth": 0,
             "ticks": ""
            },
            "type": "contourcarpet"
           }
          ],
          "heatmap": [
           {
            "colorbar": {
             "outlinewidth": 0,
             "ticks": ""
            },
            "colorscale": [
             [
              0,
              "#0d0887"
             ],
             [
              0.1111111111111111,
              "#46039f"
             ],
             [
              0.2222222222222222,
              "#7201a8"
             ],
             [
              0.3333333333333333,
              "#9c179e"
             ],
             [
              0.4444444444444444,
              "#bd3786"
             ],
             [
              0.5555555555555556,
              "#d8576b"
             ],
             [
              0.6666666666666666,
              "#ed7953"
             ],
             [
              0.7777777777777778,
              "#fb9f3a"
             ],
             [
              0.8888888888888888,
              "#fdca26"
             ],
             [
              1,
              "#f0f921"
             ]
            ],
            "type": "heatmap"
           }
          ],
          "heatmapgl": [
           {
            "colorbar": {
             "outlinewidth": 0,
             "ticks": ""
            },
            "colorscale": [
             [
              0,
              "#0d0887"
             ],
             [
              0.1111111111111111,
              "#46039f"
             ],
             [
              0.2222222222222222,
              "#7201a8"
             ],
             [
              0.3333333333333333,
              "#9c179e"
             ],
             [
              0.4444444444444444,
              "#bd3786"
             ],
             [
              0.5555555555555556,
              "#d8576b"
             ],
             [
              0.6666666666666666,
              "#ed7953"
             ],
             [
              0.7777777777777778,
              "#fb9f3a"
             ],
             [
              0.8888888888888888,
              "#fdca26"
             ],
             [
              1,
              "#f0f921"
             ]
            ],
            "type": "heatmapgl"
           }
          ],
          "histogram": [
           {
            "marker": {
             "pattern": {
              "fillmode": "overlay",
              "size": 10,
              "solidity": 0.2
             }
            },
            "type": "histogram"
           }
          ],
          "histogram2d": [
           {
            "colorbar": {
             "outlinewidth": 0,
             "ticks": ""
            },
            "colorscale": [
             [
              0,
              "#0d0887"
             ],
             [
              0.1111111111111111,
              "#46039f"
             ],
             [
              0.2222222222222222,
              "#7201a8"
             ],
             [
              0.3333333333333333,
              "#9c179e"
             ],
             [
              0.4444444444444444,
              "#bd3786"
             ],
             [
              0.5555555555555556,
              "#d8576b"
             ],
             [
              0.6666666666666666,
              "#ed7953"
             ],
             [
              0.7777777777777778,
              "#fb9f3a"
             ],
             [
              0.8888888888888888,
              "#fdca26"
             ],
             [
              1,
              "#f0f921"
             ]
            ],
            "type": "histogram2d"
           }
          ],
          "histogram2dcontour": [
           {
            "colorbar": {
             "outlinewidth": 0,
             "ticks": ""
            },
            "colorscale": [
             [
              0,
              "#0d0887"
             ],
             [
              0.1111111111111111,
              "#46039f"
             ],
             [
              0.2222222222222222,
              "#7201a8"
             ],
             [
              0.3333333333333333,
              "#9c179e"
             ],
             [
              0.4444444444444444,
              "#bd3786"
             ],
             [
              0.5555555555555556,
              "#d8576b"
             ],
             [
              0.6666666666666666,
              "#ed7953"
             ],
             [
              0.7777777777777778,
              "#fb9f3a"
             ],
             [
              0.8888888888888888,
              "#fdca26"
             ],
             [
              1,
              "#f0f921"
             ]
            ],
            "type": "histogram2dcontour"
           }
          ],
          "mesh3d": [
           {
            "colorbar": {
             "outlinewidth": 0,
             "ticks": ""
            },
            "type": "mesh3d"
           }
          ],
          "parcoords": [
           {
            "line": {
             "colorbar": {
              "outlinewidth": 0,
              "ticks": ""
             }
            },
            "type": "parcoords"
           }
          ],
          "pie": [
           {
            "automargin": true,
            "type": "pie"
           }
          ],
          "scatter": [
           {
            "marker": {
             "colorbar": {
              "outlinewidth": 0,
              "ticks": ""
             }
            },
            "type": "scatter"
           }
          ],
          "scatter3d": [
           {
            "line": {
             "colorbar": {
              "outlinewidth": 0,
              "ticks": ""
             }
            },
            "marker": {
             "colorbar": {
              "outlinewidth": 0,
              "ticks": ""
             }
            },
            "type": "scatter3d"
           }
          ],
          "scattercarpet": [
           {
            "marker": {
             "colorbar": {
              "outlinewidth": 0,
              "ticks": ""
             }
            },
            "type": "scattercarpet"
           }
          ],
          "scattergeo": [
           {
            "marker": {
             "colorbar": {
              "outlinewidth": 0,
              "ticks": ""
             }
            },
            "type": "scattergeo"
           }
          ],
          "scattergl": [
           {
            "marker": {
             "colorbar": {
              "outlinewidth": 0,
              "ticks": ""
             }
            },
            "type": "scattergl"
           }
          ],
          "scattermapbox": [
           {
            "marker": {
             "colorbar": {
              "outlinewidth": 0,
              "ticks": ""
             }
            },
            "type": "scattermapbox"
           }
          ],
          "scatterpolar": [
           {
            "marker": {
             "colorbar": {
              "outlinewidth": 0,
              "ticks": ""
             }
            },
            "type": "scatterpolar"
           }
          ],
          "scatterpolargl": [
           {
            "marker": {
             "colorbar": {
              "outlinewidth": 0,
              "ticks": ""
             }
            },
            "type": "scatterpolargl"
           }
          ],
          "scatterternary": [
           {
            "marker": {
             "colorbar": {
              "outlinewidth": 0,
              "ticks": ""
             }
            },
            "type": "scatterternary"
           }
          ],
          "surface": [
           {
            "colorbar": {
             "outlinewidth": 0,
             "ticks": ""
            },
            "colorscale": [
             [
              0,
              "#0d0887"
             ],
             [
              0.1111111111111111,
              "#46039f"
             ],
             [
              0.2222222222222222,
              "#7201a8"
             ],
             [
              0.3333333333333333,
              "#9c179e"
             ],
             [
              0.4444444444444444,
              "#bd3786"
             ],
             [
              0.5555555555555556,
              "#d8576b"
             ],
             [
              0.6666666666666666,
              "#ed7953"
             ],
             [
              0.7777777777777778,
              "#fb9f3a"
             ],
             [
              0.8888888888888888,
              "#fdca26"
             ],
             [
              1,
              "#f0f921"
             ]
            ],
            "type": "surface"
           }
          ],
          "table": [
           {
            "cells": {
             "fill": {
              "color": "#EBF0F8"
             },
             "line": {
              "color": "white"
             }
            },
            "header": {
             "fill": {
              "color": "#C8D4E3"
             },
             "line": {
              "color": "white"
             }
            },
            "type": "table"
           }
          ]
         },
         "layout": {
          "annotationdefaults": {
           "arrowcolor": "#2a3f5f",
           "arrowhead": 0,
           "arrowwidth": 1
          },
          "autotypenumbers": "strict",
          "coloraxis": {
           "colorbar": {
            "outlinewidth": 0,
            "ticks": ""
           }
          },
          "colorscale": {
           "diverging": [
            [
             0,
             "#8e0152"
            ],
            [
             0.1,
             "#c51b7d"
            ],
            [
             0.2,
             "#de77ae"
            ],
            [
             0.3,
             "#f1b6da"
            ],
            [
             0.4,
             "#fde0ef"
            ],
            [
             0.5,
             "#f7f7f7"
            ],
            [
             0.6,
             "#e6f5d0"
            ],
            [
             0.7,
             "#b8e186"
            ],
            [
             0.8,
             "#7fbc41"
            ],
            [
             0.9,
             "#4d9221"
            ],
            [
             1,
             "#276419"
            ]
           ],
           "sequential": [
            [
             0,
             "#0d0887"
            ],
            [
             0.1111111111111111,
             "#46039f"
            ],
            [
             0.2222222222222222,
             "#7201a8"
            ],
            [
             0.3333333333333333,
             "#9c179e"
            ],
            [
             0.4444444444444444,
             "#bd3786"
            ],
            [
             0.5555555555555556,
             "#d8576b"
            ],
            [
             0.6666666666666666,
             "#ed7953"
            ],
            [
             0.7777777777777778,
             "#fb9f3a"
            ],
            [
             0.8888888888888888,
             "#fdca26"
            ],
            [
             1,
             "#f0f921"
            ]
           ],
           "sequentialminus": [
            [
             0,
             "#0d0887"
            ],
            [
             0.1111111111111111,
             "#46039f"
            ],
            [
             0.2222222222222222,
             "#7201a8"
            ],
            [
             0.3333333333333333,
             "#9c179e"
            ],
            [
             0.4444444444444444,
             "#bd3786"
            ],
            [
             0.5555555555555556,
             "#d8576b"
            ],
            [
             0.6666666666666666,
             "#ed7953"
            ],
            [
             0.7777777777777778,
             "#fb9f3a"
            ],
            [
             0.8888888888888888,
             "#fdca26"
            ],
            [
             1,
             "#f0f921"
            ]
           ]
          },
          "colorway": [
           "#636efa",
           "#EF553B",
           "#00cc96",
           "#ab63fa",
           "#FFA15A",
           "#19d3f3",
           "#FF6692",
           "#B6E880",
           "#FF97FF",
           "#FECB52"
          ],
          "font": {
           "color": "#2a3f5f"
          },
          "geo": {
           "bgcolor": "white",
           "lakecolor": "white",
           "landcolor": "#E5ECF6",
           "showlakes": true,
           "showland": true,
           "subunitcolor": "white"
          },
          "hoverlabel": {
           "align": "left"
          },
          "hovermode": "closest",
          "mapbox": {
           "style": "light"
          },
          "paper_bgcolor": "white",
          "plot_bgcolor": "#E5ECF6",
          "polar": {
           "angularaxis": {
            "gridcolor": "white",
            "linecolor": "white",
            "ticks": ""
           },
           "bgcolor": "#E5ECF6",
           "radialaxis": {
            "gridcolor": "white",
            "linecolor": "white",
            "ticks": ""
           }
          },
          "scene": {
           "xaxis": {
            "backgroundcolor": "#E5ECF6",
            "gridcolor": "white",
            "gridwidth": 2,
            "linecolor": "white",
            "showbackground": true,
            "ticks": "",
            "zerolinecolor": "white"
           },
           "yaxis": {
            "backgroundcolor": "#E5ECF6",
            "gridcolor": "white",
            "gridwidth": 2,
            "linecolor": "white",
            "showbackground": true,
            "ticks": "",
            "zerolinecolor": "white"
           },
           "zaxis": {
            "backgroundcolor": "#E5ECF6",
            "gridcolor": "white",
            "gridwidth": 2,
            "linecolor": "white",
            "showbackground": true,
            "ticks": "",
            "zerolinecolor": "white"
           }
          },
          "shapedefaults": {
           "line": {
            "color": "#2a3f5f"
           }
          },
          "ternary": {
           "aaxis": {
            "gridcolor": "white",
            "linecolor": "white",
            "ticks": ""
           },
           "baxis": {
            "gridcolor": "white",
            "linecolor": "white",
            "ticks": ""
           },
           "bgcolor": "#E5ECF6",
           "caxis": {
            "gridcolor": "white",
            "linecolor": "white",
            "ticks": ""
           }
          },
          "title": {
           "x": 0.05
          },
          "xaxis": {
           "automargin": true,
           "gridcolor": "white",
           "linecolor": "white",
           "ticks": "",
           "title": {
            "standoff": 15
           },
           "zerolinecolor": "white",
           "zerolinewidth": 2
          },
          "yaxis": {
           "automargin": true,
           "gridcolor": "white",
           "linecolor": "white",
           "ticks": "",
           "title": {
            "standoff": 15
           },
           "zerolinecolor": "white",
           "zerolinewidth": 2
          }
         }
        },
        "title": {
         "text": "Train data"
        },
        "width": 500,
        "xaxis": {
         "anchor": "y",
         "domain": [
          0,
          1
         ],
         "title": {
          "text": "True_Value"
         }
        },
        "yaxis": {
         "anchor": "x",
         "domain": [
          0,
          1
         ],
         "title": {
          "text": "Predict_Value"
         }
        }
       }
      }
     },
     "metadata": {},
     "output_type": "display_data"
    },
    {
     "data": {
      "application/vnd.plotly.v1+json": {
       "config": {
        "plotlyServerURL": "https://plot.ly"
       },
       "data": [
        {
         "hovertemplate": "True_Value=%{x}<br>Predict_Value=%{y}<extra></extra>",
         "legendgroup": "",
         "marker": {
          "color": "#636efa",
          "symbol": "circle"
         },
         "mode": "markers",
         "name": "",
         "orientation": "v",
         "showlegend": false,
         "type": "scatter",
         "x": [
          862.75,
          607.49,
          812.07,
          729.25,
          504.47,
          352.1,
          547.14,
          753.32,
          434.71,
          829.08,
          586.63,
          336.21,
          451.15,
          280.48,
          390.52,
          330.63,
          214.33,
          298.69,
          210.67,
          152.05,
          157.84,
          147.59,
          108.08,
          113.21
         ],
         "xaxis": "x",
         "y": [
          836.6425969148377,
          680.7281987242295,
          796.2064258430637,
          699.2966199355092,
          562.4273545756264,
          358.05795573621714,
          574.622862405306,
          702.3900733557882,
          479.2976528345251,
          662.2635254233853,
          581.5739482593385,
          385.761758262697,
          446.66758977925207,
          340.4397103232141,
          405.96928845457506,
          344.2327171724581,
          256.9506660026689,
          314.2451464401327,
          227.85517125638614,
          153.28871493651008,
          186.13384113124852,
          154.33327988186505,
          100.3495811926411,
          127.98923570895369
         ],
         "yaxis": "y"
        },
        {
         "hovertemplate": "<b>OLS trendline</b><br>Predict_Value = 0.902814 * True_Value + 48.3156<br>R<sup>2</sup>=0.965306<br><br>True_Value=%{x}<br>Predict_Value=%{y} <b>(trend)</b><extra></extra>",
         "legendgroup": "",
         "marker": {
          "color": "#636efa",
          "symbol": "circle"
         },
         "mode": "lines",
         "name": "",
         "showlegend": false,
         "type": "scatter",
         "x": [
          108.08,
          113.21,
          147.59,
          152.05,
          157.84,
          210.67,
          214.33,
          280.48,
          298.69,
          330.63,
          336.21,
          352.1,
          390.52,
          434.71,
          451.15,
          504.47,
          547.14,
          586.63,
          607.49,
          729.25,
          753.32,
          812.07,
          829.08,
          862.75
         ],
         "xaxis": "x",
         "y": [
          145.89177319475243,
          150.523210640877,
          181.5619668587646,
          185.58851871251036,
          190.81581360784398,
          238.51149397407437,
          241.81579437423346,
          301.5369614426821,
          317.9772101549489,
          346.8130994393972,
          351.85080332816426,
          366.1965228250298,
          400.88264888353,
          440.7780135510243,
          455.62028092223056,
          503.7583403037829,
          542.2814272094624,
          577.9335645871349,
          596.7662712394077,
          706.6929424753005,
          728.4236830850898,
          781.4640242078616,
          796.8208957397484,
          827.2186537925778
         ],
         "yaxis": "y"
        }
       ],
       "layout": {
        "height": 400,
        "legend": {
         "tracegroupgap": 0
        },
        "margin": {
         "b": 10,
         "l": 10,
         "r": 10,
         "t": 20
        },
        "template": {
         "data": {
          "bar": [
           {
            "error_x": {
             "color": "#2a3f5f"
            },
            "error_y": {
             "color": "#2a3f5f"
            },
            "marker": {
             "line": {
              "color": "#E5ECF6",
              "width": 0.5
             },
             "pattern": {
              "fillmode": "overlay",
              "size": 10,
              "solidity": 0.2
             }
            },
            "type": "bar"
           }
          ],
          "barpolar": [
           {
            "marker": {
             "line": {
              "color": "#E5ECF6",
              "width": 0.5
             },
             "pattern": {
              "fillmode": "overlay",
              "size": 10,
              "solidity": 0.2
             }
            },
            "type": "barpolar"
           }
          ],
          "carpet": [
           {
            "aaxis": {
             "endlinecolor": "#2a3f5f",
             "gridcolor": "white",
             "linecolor": "white",
             "minorgridcolor": "white",
             "startlinecolor": "#2a3f5f"
            },
            "baxis": {
             "endlinecolor": "#2a3f5f",
             "gridcolor": "white",
             "linecolor": "white",
             "minorgridcolor": "white",
             "startlinecolor": "#2a3f5f"
            },
            "type": "carpet"
           }
          ],
          "choropleth": [
           {
            "colorbar": {
             "outlinewidth": 0,
             "ticks": ""
            },
            "type": "choropleth"
           }
          ],
          "contour": [
           {
            "colorbar": {
             "outlinewidth": 0,
             "ticks": ""
            },
            "colorscale": [
             [
              0,
              "#0d0887"
             ],
             [
              0.1111111111111111,
              "#46039f"
             ],
             [
              0.2222222222222222,
              "#7201a8"
             ],
             [
              0.3333333333333333,
              "#9c179e"
             ],
             [
              0.4444444444444444,
              "#bd3786"
             ],
             [
              0.5555555555555556,
              "#d8576b"
             ],
             [
              0.6666666666666666,
              "#ed7953"
             ],
             [
              0.7777777777777778,
              "#fb9f3a"
             ],
             [
              0.8888888888888888,
              "#fdca26"
             ],
             [
              1,
              "#f0f921"
             ]
            ],
            "type": "contour"
           }
          ],
          "contourcarpet": [
           {
            "colorbar": {
             "outlinewidth": 0,
             "ticks": ""
            },
            "type": "contourcarpet"
           }
          ],
          "heatmap": [
           {
            "colorbar": {
             "outlinewidth": 0,
             "ticks": ""
            },
            "colorscale": [
             [
              0,
              "#0d0887"
             ],
             [
              0.1111111111111111,
              "#46039f"
             ],
             [
              0.2222222222222222,
              "#7201a8"
             ],
             [
              0.3333333333333333,
              "#9c179e"
             ],
             [
              0.4444444444444444,
              "#bd3786"
             ],
             [
              0.5555555555555556,
              "#d8576b"
             ],
             [
              0.6666666666666666,
              "#ed7953"
             ],
             [
              0.7777777777777778,
              "#fb9f3a"
             ],
             [
              0.8888888888888888,
              "#fdca26"
             ],
             [
              1,
              "#f0f921"
             ]
            ],
            "type": "heatmap"
           }
          ],
          "heatmapgl": [
           {
            "colorbar": {
             "outlinewidth": 0,
             "ticks": ""
            },
            "colorscale": [
             [
              0,
              "#0d0887"
             ],
             [
              0.1111111111111111,
              "#46039f"
             ],
             [
              0.2222222222222222,
              "#7201a8"
             ],
             [
              0.3333333333333333,
              "#9c179e"
             ],
             [
              0.4444444444444444,
              "#bd3786"
             ],
             [
              0.5555555555555556,
              "#d8576b"
             ],
             [
              0.6666666666666666,
              "#ed7953"
             ],
             [
              0.7777777777777778,
              "#fb9f3a"
             ],
             [
              0.8888888888888888,
              "#fdca26"
             ],
             [
              1,
              "#f0f921"
             ]
            ],
            "type": "heatmapgl"
           }
          ],
          "histogram": [
           {
            "marker": {
             "pattern": {
              "fillmode": "overlay",
              "size": 10,
              "solidity": 0.2
             }
            },
            "type": "histogram"
           }
          ],
          "histogram2d": [
           {
            "colorbar": {
             "outlinewidth": 0,
             "ticks": ""
            },
            "colorscale": [
             [
              0,
              "#0d0887"
             ],
             [
              0.1111111111111111,
              "#46039f"
             ],
             [
              0.2222222222222222,
              "#7201a8"
             ],
             [
              0.3333333333333333,
              "#9c179e"
             ],
             [
              0.4444444444444444,
              "#bd3786"
             ],
             [
              0.5555555555555556,
              "#d8576b"
             ],
             [
              0.6666666666666666,
              "#ed7953"
             ],
             [
              0.7777777777777778,
              "#fb9f3a"
             ],
             [
              0.8888888888888888,
              "#fdca26"
             ],
             [
              1,
              "#f0f921"
             ]
            ],
            "type": "histogram2d"
           }
          ],
          "histogram2dcontour": [
           {
            "colorbar": {
             "outlinewidth": 0,
             "ticks": ""
            },
            "colorscale": [
             [
              0,
              "#0d0887"
             ],
             [
              0.1111111111111111,
              "#46039f"
             ],
             [
              0.2222222222222222,
              "#7201a8"
             ],
             [
              0.3333333333333333,
              "#9c179e"
             ],
             [
              0.4444444444444444,
              "#bd3786"
             ],
             [
              0.5555555555555556,
              "#d8576b"
             ],
             [
              0.6666666666666666,
              "#ed7953"
             ],
             [
              0.7777777777777778,
              "#fb9f3a"
             ],
             [
              0.8888888888888888,
              "#fdca26"
             ],
             [
              1,
              "#f0f921"
             ]
            ],
            "type": "histogram2dcontour"
           }
          ],
          "mesh3d": [
           {
            "colorbar": {
             "outlinewidth": 0,
             "ticks": ""
            },
            "type": "mesh3d"
           }
          ],
          "parcoords": [
           {
            "line": {
             "colorbar": {
              "outlinewidth": 0,
              "ticks": ""
             }
            },
            "type": "parcoords"
           }
          ],
          "pie": [
           {
            "automargin": true,
            "type": "pie"
           }
          ],
          "scatter": [
           {
            "marker": {
             "colorbar": {
              "outlinewidth": 0,
              "ticks": ""
             }
            },
            "type": "scatter"
           }
          ],
          "scatter3d": [
           {
            "line": {
             "colorbar": {
              "outlinewidth": 0,
              "ticks": ""
             }
            },
            "marker": {
             "colorbar": {
              "outlinewidth": 0,
              "ticks": ""
             }
            },
            "type": "scatter3d"
           }
          ],
          "scattercarpet": [
           {
            "marker": {
             "colorbar": {
              "outlinewidth": 0,
              "ticks": ""
             }
            },
            "type": "scattercarpet"
           }
          ],
          "scattergeo": [
           {
            "marker": {
             "colorbar": {
              "outlinewidth": 0,
              "ticks": ""
             }
            },
            "type": "scattergeo"
           }
          ],
          "scattergl": [
           {
            "marker": {
             "colorbar": {
              "outlinewidth": 0,
              "ticks": ""
             }
            },
            "type": "scattergl"
           }
          ],
          "scattermapbox": [
           {
            "marker": {
             "colorbar": {
              "outlinewidth": 0,
              "ticks": ""
             }
            },
            "type": "scattermapbox"
           }
          ],
          "scatterpolar": [
           {
            "marker": {
             "colorbar": {
              "outlinewidth": 0,
              "ticks": ""
             }
            },
            "type": "scatterpolar"
           }
          ],
          "scatterpolargl": [
           {
            "marker": {
             "colorbar": {
              "outlinewidth": 0,
              "ticks": ""
             }
            },
            "type": "scatterpolargl"
           }
          ],
          "scatterternary": [
           {
            "marker": {
             "colorbar": {
              "outlinewidth": 0,
              "ticks": ""
             }
            },
            "type": "scatterternary"
           }
          ],
          "surface": [
           {
            "colorbar": {
             "outlinewidth": 0,
             "ticks": ""
            },
            "colorscale": [
             [
              0,
              "#0d0887"
             ],
             [
              0.1111111111111111,
              "#46039f"
             ],
             [
              0.2222222222222222,
              "#7201a8"
             ],
             [
              0.3333333333333333,
              "#9c179e"
             ],
             [
              0.4444444444444444,
              "#bd3786"
             ],
             [
              0.5555555555555556,
              "#d8576b"
             ],
             [
              0.6666666666666666,
              "#ed7953"
             ],
             [
              0.7777777777777778,
              "#fb9f3a"
             ],
             [
              0.8888888888888888,
              "#fdca26"
             ],
             [
              1,
              "#f0f921"
             ]
            ],
            "type": "surface"
           }
          ],
          "table": [
           {
            "cells": {
             "fill": {
              "color": "#EBF0F8"
             },
             "line": {
              "color": "white"
             }
            },
            "header": {
             "fill": {
              "color": "#C8D4E3"
             },
             "line": {
              "color": "white"
             }
            },
            "type": "table"
           }
          ]
         },
         "layout": {
          "annotationdefaults": {
           "arrowcolor": "#2a3f5f",
           "arrowhead": 0,
           "arrowwidth": 1
          },
          "autotypenumbers": "strict",
          "coloraxis": {
           "colorbar": {
            "outlinewidth": 0,
            "ticks": ""
           }
          },
          "colorscale": {
           "diverging": [
            [
             0,
             "#8e0152"
            ],
            [
             0.1,
             "#c51b7d"
            ],
            [
             0.2,
             "#de77ae"
            ],
            [
             0.3,
             "#f1b6da"
            ],
            [
             0.4,
             "#fde0ef"
            ],
            [
             0.5,
             "#f7f7f7"
            ],
            [
             0.6,
             "#e6f5d0"
            ],
            [
             0.7,
             "#b8e186"
            ],
            [
             0.8,
             "#7fbc41"
            ],
            [
             0.9,
             "#4d9221"
            ],
            [
             1,
             "#276419"
            ]
           ],
           "sequential": [
            [
             0,
             "#0d0887"
            ],
            [
             0.1111111111111111,
             "#46039f"
            ],
            [
             0.2222222222222222,
             "#7201a8"
            ],
            [
             0.3333333333333333,
             "#9c179e"
            ],
            [
             0.4444444444444444,
             "#bd3786"
            ],
            [
             0.5555555555555556,
             "#d8576b"
            ],
            [
             0.6666666666666666,
             "#ed7953"
            ],
            [
             0.7777777777777778,
             "#fb9f3a"
            ],
            [
             0.8888888888888888,
             "#fdca26"
            ],
            [
             1,
             "#f0f921"
            ]
           ],
           "sequentialminus": [
            [
             0,
             "#0d0887"
            ],
            [
             0.1111111111111111,
             "#46039f"
            ],
            [
             0.2222222222222222,
             "#7201a8"
            ],
            [
             0.3333333333333333,
             "#9c179e"
            ],
            [
             0.4444444444444444,
             "#bd3786"
            ],
            [
             0.5555555555555556,
             "#d8576b"
            ],
            [
             0.6666666666666666,
             "#ed7953"
            ],
            [
             0.7777777777777778,
             "#fb9f3a"
            ],
            [
             0.8888888888888888,
             "#fdca26"
            ],
            [
             1,
             "#f0f921"
            ]
           ]
          },
          "colorway": [
           "#636efa",
           "#EF553B",
           "#00cc96",
           "#ab63fa",
           "#FFA15A",
           "#19d3f3",
           "#FF6692",
           "#B6E880",
           "#FF97FF",
           "#FECB52"
          ],
          "font": {
           "color": "#2a3f5f"
          },
          "geo": {
           "bgcolor": "white",
           "lakecolor": "white",
           "landcolor": "#E5ECF6",
           "showlakes": true,
           "showland": true,
           "subunitcolor": "white"
          },
          "hoverlabel": {
           "align": "left"
          },
          "hovermode": "closest",
          "mapbox": {
           "style": "light"
          },
          "paper_bgcolor": "white",
          "plot_bgcolor": "#E5ECF6",
          "polar": {
           "angularaxis": {
            "gridcolor": "white",
            "linecolor": "white",
            "ticks": ""
           },
           "bgcolor": "#E5ECF6",
           "radialaxis": {
            "gridcolor": "white",
            "linecolor": "white",
            "ticks": ""
           }
          },
          "scene": {
           "xaxis": {
            "backgroundcolor": "#E5ECF6",
            "gridcolor": "white",
            "gridwidth": 2,
            "linecolor": "white",
            "showbackground": true,
            "ticks": "",
            "zerolinecolor": "white"
           },
           "yaxis": {
            "backgroundcolor": "#E5ECF6",
            "gridcolor": "white",
            "gridwidth": 2,
            "linecolor": "white",
            "showbackground": true,
            "ticks": "",
            "zerolinecolor": "white"
           },
           "zaxis": {
            "backgroundcolor": "#E5ECF6",
            "gridcolor": "white",
            "gridwidth": 2,
            "linecolor": "white",
            "showbackground": true,
            "ticks": "",
            "zerolinecolor": "white"
           }
          },
          "shapedefaults": {
           "line": {
            "color": "#2a3f5f"
           }
          },
          "ternary": {
           "aaxis": {
            "gridcolor": "white",
            "linecolor": "white",
            "ticks": ""
           },
           "baxis": {
            "gridcolor": "white",
            "linecolor": "white",
            "ticks": ""
           },
           "bgcolor": "#E5ECF6",
           "caxis": {
            "gridcolor": "white",
            "linecolor": "white",
            "ticks": ""
           }
          },
          "title": {
           "x": 0.05
          },
          "xaxis": {
           "automargin": true,
           "gridcolor": "white",
           "linecolor": "white",
           "ticks": "",
           "title": {
            "standoff": 15
           },
           "zerolinecolor": "white",
           "zerolinewidth": 2
          },
          "yaxis": {
           "automargin": true,
           "gridcolor": "white",
           "linecolor": "white",
           "ticks": "",
           "title": {
            "standoff": 15
           },
           "zerolinecolor": "white",
           "zerolinewidth": 2
          }
         }
        },
        "title": {
         "text": "Test data"
        },
        "width": 500,
        "xaxis": {
         "anchor": "y",
         "domain": [
          0,
          1
         ],
         "title": {
          "text": "True_Value"
         }
        },
        "yaxis": {
         "anchor": "x",
         "domain": [
          0,
          1
         ],
         "title": {
          "text": "Predict_Value"
         }
        }
       }
      }
     },
     "metadata": {},
     "output_type": "display_data"
    },
    {
     "name": "stdout",
     "output_type": "stream",
     "text": [
      "    True_Value  Predict_Value\n",
      "0       862.75     836.642597\n",
      "1       607.49     680.728199\n",
      "2       812.07     796.206426\n",
      "3       729.25     699.296620\n",
      "4       504.47     562.427355\n",
      "5       352.10     358.057956\n",
      "6       547.14     574.622862\n",
      "7       753.32     702.390073\n",
      "8       434.71     479.297653\n",
      "9       829.08     662.263525\n",
      "10      586.63     581.573948\n",
      "11      336.21     385.761758\n",
      "12      451.15     446.667590\n",
      "13      280.48     340.439710\n",
      "14      390.52     405.969288\n",
      "15      330.63     344.232717\n",
      "16      214.33     256.950666\n",
      "17      298.69     314.245146\n",
      "18      210.67     227.855171\n",
      "19      152.05     153.288715\n",
      "20      157.84     186.133841\n",
      "21      147.59     154.333280\n",
      "22      108.08     100.349581\n",
      "23      113.21     127.989236\n",
      "Residual sum of squares for train (MSE): 1747.16\n",
      "R2-score for train: 0.97\n",
      "Residual sum of squares for test (MSE): 2239.72\n",
      "R2-score for test: 0.96\n",
      "Coefficent shape: (1, 21)\n"
     ]
    },
    {
     "data": {
      "text/plain": [
       "(array([  67.60803   ,   67.81085429,   69.16744377,   38.48160345,\n",
       "          69.27780455,   80.50981991,   29.49354039,   43.93864178,\n",
       "          48.00645293,   53.50695989,  122.32441649,  129.74502967,\n",
       "         121.83184754,   60.36423613,   53.27533668,  143.58649575,\n",
       "          49.40307461,   77.00021237,   69.06255454,   82.28445125,\n",
       "         189.51019814,  197.51030065,  188.72788453,  103.90715133,\n",
       "          69.53802135,  214.34081973,   93.52547913,  124.69115922,\n",
       "         112.31572507,  129.10616412,  297.76736316,  315.93044902,\n",
       "         291.90355788,  185.27301437,  119.87545902,  269.36819924,\n",
       "         219.95822614,  150.32010309,  206.91718046,  188.60009644,\n",
       "         393.86612604,  412.60870123,  387.7125761 ,  257.72891079,\n",
       "         165.05112493,  361.89841979,  297.11116073,  219.78694651,\n",
       "         283.20088107,  260.7662482 ,  502.63710838,  521.95917288,\n",
       "         496.19381377,  342.85702667,  222.89901028,  467.10085978,\n",
       "         386.93631478,  301.92600937,  372.15680114,  345.60461942,\n",
       "         630.33245858,  669.58277919,  599.66277169,  436.60097409,\n",
       "         277.46826219,  581.386491  ,  553.34995127,  401.21386953,\n",
       "         475.96198228,  424.31306191,  694.98660598,  734.52667125,\n",
       "         664.02717443,  489.43368827,  316.6608611 ,  643.98186398,\n",
       "         610.58995896,  452.27755394,  532.62250064,  476.85603143,\n",
       "         545.43445731,  566.88249253,  532.56705581,  359.02151488,\n",
       "         193.20725398,  627.43423083,  528.01701432,  359.25981005,\n",
       "         447.65803587,  418.59819108,  604.60328121,  626.3410611 ,\n",
       "         591.44613505,  404.55022352,  211.4557321 ,  690.72060358,\n",
       "         582.07056532,  405.07826335,  501.13209755,  467.95470391,\n",
       "         666.94015998,  688.96768452,  653.49326915,  453.24698702,\n",
       "         232.87226507,  757.17503119,  639.29217118,  454.06477152,\n",
       "         557.77421408,  520.47927159,  826.79751367,  871.23053833,\n",
       "         790.94512272,  590.81454504,  325.86023175,  898.97544087,\n",
       "         614.03782965,  699.6818319 ,  576.17189415,  617.58438548,\n",
       "         649.96496711,  673.47799638,  635.03257156,  357.7304233 ,\n",
       "         341.51137811,  717.61076275,  338.82397247,  411.28616275,\n",
       "         385.21750784,  413.44818721,  712.28344405,  736.08621798,\n",
       "         697.06130384,  392.76866971,  349.26939399,  784.04678853,\n",
       "         374.15196354,  450.73170267,  419.9660096 ,  452.31423781,\n",
       "         853.65086918,  899.85914323,  816.02322885,  489.5565035 ,\n",
       "         401.47763644,  907.35726965,  493.34529745,  551.86809256,\n",
       "         494.34834327,  508.63962746,  972.9210234 , 1027.99967582,\n",
       "         926.42300469,  539.12694709,  381.34836941, 1052.86072817,\n",
       "         551.78611942,  636.54221884,  535.04840848,  575.57299698,\n",
       "         640.19441097,  653.43307262,  635.53638304,  427.85537224,\n",
       "         491.53183213,  711.06985262,  398.67455379,  474.36639008,\n",
       "         465.6168244 ,  497.07714978,  833.04463364,  868.97854007,\n",
       "         805.69136093,  548.84577304,  540.66241106,  889.98068012,\n",
       "         542.36019937,  604.11264049,  563.91198043,  581.43291064,\n",
       "        1032.86277828, 1091.49192949, 1158.70171441,  676.80409582,\n",
       "         596.76091198, 1075.8594296 ,  693.01376693,  740.82681288,\n",
       "         717.80407175,  787.73287316,  794.58711281,  819.95690695,\n",
       "         853.90733481,  617.56398782,  716.55636145,  850.63525646,\n",
       "         600.51430186,  661.37884015,  592.04524962,  675.02554337]),\n",
       " array([836.64259691, 680.72819872, 796.20642584, 699.29661994,\n",
       "        562.42735458, 358.05795574, 574.62286241, 702.39007336,\n",
       "        479.29765283, 662.26352542, 581.57394826, 385.76175826,\n",
       "        446.66758978, 340.43971032, 405.96928845, 344.23271717,\n",
       "        256.950666  , 314.24514644, 227.85517126, 153.28871494,\n",
       "        186.13384113, 154.33327988, 100.34958119, 127.98923571]))"
      ]
     },
     "execution_count": 23,
     "metadata": {},
     "output_type": "execute_result"
    }
   ],
   "source": [
    "# All parameters\n",
    "polyEstimate(x_train_stress, ym_train_stress.Ss, x_test_stress, ym_test_stress.Ss, print_test=1)"
   ]
  },
  {
   "cell_type": "markdown",
   "metadata": {},
   "source": [
    "<h2 style=\"color:cyan\">Polynomial Regression Model - All inputs - Vane stress</h2>"
   ]
  },
  {
   "cell_type": "code",
   "execution_count": 24,
   "metadata": {},
   "outputs": [
    {
     "data": {
      "application/vnd.plotly.v1+json": {
       "config": {
        "plotlyServerURL": "https://plot.ly"
       },
       "data": [
        {
         "hovertemplate": "True_Value=%{x}<br>Predict_Value=%{y}<extra></extra>",
         "legendgroup": "",
         "marker": {
          "color": "#636efa",
          "symbol": "circle"
         },
         "mode": "markers",
         "name": "",
         "orientation": "v",
         "showlegend": false,
         "type": "scatter",
         "x": [
          172.9,
          164.81,
          180.62,
          171.35,
          170.64,
          122.26,
          164.74,
          113.37,
          197.37,
          123.94,
          267.63,
          252.57,
          282.12,
          265.37,
          264.65,
          181.2,
          253.58,
          165.96,
          277.53,
          194.37,
          401.17,
          382.16,
          429.87,
          393.96,
          392.06,
          305.16,
          378.53,
          281.28,
          422.68,
          321.4,
          439.54,
          411.03,
          469.64,
          432.07,
          427.14,
          613.18,
          291.7,
          575.31,
          336.04,
          456.47,
          619.87,
          593.89,
          653.37,
          606.84,
          596.94,
          844.14,
          406.71,
          785.48,
          466.99,
          633.27,
          824.82,
          806.58,
          883.54,
          805.67,
          788.2,
          1099.3,
          549.99,
          1016.6,
          633.85,
          854.3,
          712.1,
          708.01,
          713.82,
          636.49,
          616.47,
          928.83,
          418.3,
          832.64,
          449.38,
          690.29,
          803.02,
          792.85,
          805.25,
          723.67,
          695.39,
          1052.1,
          477.77,
          950.08,
          521.02,
          785.96,
          808.62,
          807.75,
          907.31,
          795.37,
          788.61,
          587.83,
          423.55,
          776.39,
          427.98,
          590.05,
          968.31,
          966.65,
          1006.5,
          897.92,
          886.18,
          672.1,
          480.13,
          876.63,
          483.46,
          667.53,
          1115.6,
          1098.5,
          1211.2,
          1103.5,
          1079.2,
          735.03,
          514.32,
          1048.2,
          466.13,
          719.05,
          828.96,
          830.87,
          824.6,
          765.84,
          754.71,
          606.61,
          763.7,
          577.83,
          809.21,
          518.94,
          869.68,
          860.14,
          891.72,
          854.57,
          846.01,
          660.89,
          806.13,
          648.13,
          864.5,
          554.34,
          982.98,
          989.34,
          1015,
          942.39,
          941.64,
          761.14,
          903.61,
          726.63,
          982.18,
          647.57,
          874.13,
          843.01,
          760.09,
          838.88,
          824.63,
          697.03,
          824.97,
          685.25,
          721.89,
          569.97,
          918.06,
          880.17,
          935.41,
          905.75,
          897.97,
          766.58,
          876.23,
          727.35,
          909.26,
          764.54,
          1116,
          1079.6,
          1120.2,
          1102.7,
          1094.2,
          927.18,
          1081.2,
          891.31,
          1096.2,
          912.44,
          1116.1,
          1075.3,
          1100.3,
          1104.1,
          1101.9,
          866.97,
          1073.1,
          825.88,
          1095.7,
          837.72,
          961.87,
          976.8,
          959.37,
          950.65,
          942.63,
          845.42,
          972.82,
          861.24,
          960.35,
          851.73,
          1186.4,
          1169.2,
          1139.2,
          1161.9,
          1157.5,
          1042.7,
          1152.8,
          1021.4,
          1127.7,
          996.36
         ],
         "xaxis": "x",
         "y": [
          196.96434260110794,
          185.02752620413588,
          202.0188062700201,
          175.840389343031,
          154.93751079535832,
          130.82861574737257,
          163.41811830160304,
          102.49309490273544,
          181.3155803704716,
          115.24222613671293,
          296.2607913536855,
          255.80486788389658,
          306.6775590893685,
          273.1334348465384,
          249.9189371653232,
          212.0675530038983,
          231.70660208783778,
          155.48210156875297,
          284.0356572266773,
          199.53705358008915,
          431.08732726040023,
          393.6715011131895,
          439.984046334794,
          406.4420221486389,
          381.47604530825345,
          326.07854303872716,
          368.05528671251636,
          271.01524032154555,
          415.8241958674887,
          310.5100463490144,
          463.6828038307202,
          434.8231437577567,
          468.30143986799055,
          439.9722191933781,
          416.0847659773224,
          589.5071339242795,
          301.3146480804196,
          527.9972420943598,
          326.7022660538248,
          445.076309875104,
          624.8803353798784,
          599.060772629493,
          627.9789227558597,
          599.651802137922,
          574.0128697626959,
          771.520211345324,
          440.0163908030577,
          711.5324682333683,
          460.8438627925957,
          603.2358441583593,
          809.6711376862015,
          786.8916722583946,
          811.2496764008938,
          782.924655839631,
          755.5342443052347,
          977.1265595235335,
          602.3114042828608,
          918.6609651295415,
          618.5787302885315,
          784.9886491987792,
          717.9527502109884,
          676.8948441600373,
          732.8474722640424,
          692.3063875566991,
          666.1853443210885,
          889.6545986067814,
          412.5639778534912,
          812.7847231156649,
          444.9996456814629,
          708.1720188986649,
          814.605025476425,
          775.0671680867633,
          827.9796988681903,
          788.1996885198284,
          761.2029057046329,
          998.3158426444603,
          485.9593899334254,
          922.2070415123258,
          515.3549604388197,
          802.5452712005051,
          889.9913071722492,
          851.0025891549647,
          902.816841191637,
          862.1187847774686,
          817.5302482231457,
          591.5124482930078,
          379.9733424610249,
          822.0097868114397,
          383.11059668747293,
          571.3871260936619,
          997.6812435139611,
          960.2125741579662,
          1008.98672887206,
          968.9329815395959,
          922.5929658261023,
          675.1844470902363,
          440.2717127954734,
          930.3440322348558,
          440.36886969934267,
          652.6633366500155,
          1111.2694975449647,
          1075.320876850258,
          1121.0549342417742,
          1081.6454959910138,
          1033.55400111835,
          764.7547635767555,
          506.46840081921164,
          1044.5765953475627,
          503.5254604005031,
          739.8378648956605,
          860.2233977525655,
          838.5242151460764,
          855.7593963611575,
          836.2544322732601,
          799.4730095498883,
          606.0916694856228,
          813.4349697180267,
          578.5634065322429,
          832.9107108305966,
          572.5803687909561,
          936.7456445587768,
          915.4462306648327,
          931.8818744548244,
          898.2127426762345,
          874.5551851073428,
          665.1267544015809,
          874.6727688848016,
          628.844819462995,
          895.5895324697703,
          624.302804194107,
          1043.1351745335846,
          1023.3558093009296,
          1036.7513557683433,
          1002.8507934918721,
          977.4417567638106,
          747.4983468319047,
          980.8308683617283,
          710.9849813954374,
          998.7075346241186,
          703.4028688039716,
          835.76825695152,
          830.2383298070822,
          815.1350000980601,
          806.7939480590985,
          792.6949834803281,
          632.5144349511065,
          799.0234610171715,
          621.5605797521489,
          788.4012511031278,
          585.4795909842478,
          925.9266062772767,
          895.753543796232,
          929.9364847604261,
          892.9602583281967,
          874.8692546927673,
          711.3842361593088,
          860.5466359496622,
          671.7952065670829,
          899.2106967088343,
          685.000488472399,
          1098.5288060181201,
          1069.1552809621626,
          1101.739147076179,
          1076.9348440643498,
          1070.2162264242306,
          849.0121121196435,
          1045.3207591109049,
          821.5950059478187,
          1082.3857450198975,
          833.2012130029548,
          1030.1380554777652,
          1016.5340171713151,
          1017.578909786318,
          1018.1026865141157,
          1020.9426618641182,
          848.9864297360718,
          1002.2580883101773,
          846.897403303874,
          1007.7841007201578,
          826.9646368599961,
          1005.66976876239,
          1007.8352172054456,
          983.8374816506048,
          1003.1929927888614,
          1015.5915611289856,
          892.8832111774773,
          1003.1178813344286,
          916.1222644849067,
          976.8795858820995,
          902.6133584595063,
          1182.9316301221488,
          1159.7334319923984,
          1110.3720498647508,
          1189.5866802464434,
          1211.1170746843882,
          1047.9001381836588,
          1164.1479222192038,
          1054.9073710161047,
          1112.545980194067,
          1016.0348184178947
         ],
         "yaxis": "y"
        },
        {
         "hovertemplate": "<b>OLS trendline</b><br>Predict_Value = 0.979444 * True_Value + 15.021<br>R<sup>2</sup>=0.979444<br><br>True_Value=%{x}<br>Predict_Value=%{y} <b>(trend)</b><extra></extra>",
         "legendgroup": "",
         "marker": {
          "color": "#636efa",
          "symbol": "circle"
         },
         "mode": "lines",
         "name": "",
         "showlegend": false,
         "type": "scatter",
         "x": [
          113.37,
          122.26,
          123.94,
          164.74,
          164.81,
          165.96,
          170.64,
          171.35,
          172.9,
          180.62,
          181.2,
          194.37,
          197.37,
          252.57,
          253.58,
          264.65,
          265.37,
          267.63,
          277.53,
          281.28,
          282.12,
          291.7,
          305.16,
          321.4,
          336.04,
          378.53,
          382.16,
          392.06,
          393.96,
          401.17,
          406.71,
          411.03,
          418.3,
          422.68,
          423.55,
          427.14,
          427.98,
          429.87,
          432.07,
          439.54,
          449.38,
          456.47,
          466.13,
          466.99,
          469.64,
          477.77,
          480.13,
          483.46,
          514.32,
          518.94,
          521.02,
          549.99,
          554.34,
          569.97,
          575.31,
          577.83,
          587.83,
          590.05,
          593.89,
          596.94,
          606.61,
          606.84,
          613.18,
          616.47,
          619.87,
          633.27,
          633.85,
          636.49,
          647.57,
          648.13,
          653.37,
          660.89,
          667.53,
          672.1,
          685.25,
          690.29,
          695.39,
          697.03,
          708.01,
          712.1,
          713.82,
          719.05,
          721.89,
          723.67,
          726.63,
          727.35,
          735.03,
          754.71,
          760.09,
          761.14,
          763.7,
          764.54,
          765.84,
          766.58,
          776.39,
          785.48,
          785.96,
          788.2,
          788.61,
          792.85,
          795.37,
          803.02,
          805.25,
          805.67,
          806.13,
          806.58,
          807.75,
          808.62,
          809.21,
          824.6,
          824.63,
          824.82,
          824.97,
          825.88,
          828.96,
          830.87,
          832.64,
          837.72,
          838.88,
          843.01,
          844.14,
          845.42,
          846.01,
          851.73,
          854.3,
          854.57,
          860.14,
          861.24,
          864.5,
          866.97,
          869.68,
          874.13,
          876.23,
          876.63,
          880.17,
          883.54,
          886.18,
          891.31,
          891.72,
          897.92,
          897.97,
          903.61,
          905.75,
          907.31,
          909.26,
          912.44,
          918.06,
          927.18,
          928.83,
          935.41,
          941.64,
          942.39,
          942.63,
          950.08,
          950.65,
          959.37,
          960.35,
          961.87,
          966.65,
          968.31,
          972.82,
          976.8,
          982.18,
          982.98,
          989.34,
          996.36,
          1006.5,
          1015,
          1016.6,
          1021.4,
          1042.7,
          1048.2,
          1052.1,
          1073.1,
          1075.3,
          1079.2,
          1079.6,
          1081.2,
          1094.2,
          1095.7,
          1096.2,
          1098.5,
          1099.3,
          1100.3,
          1101.9,
          1102.7,
          1103.5,
          1104.1,
          1115.6,
          1116,
          1116.1,
          1120.2,
          1127.7,
          1139.2,
          1152.8,
          1157.5,
          1161.9,
          1169.2,
          1186.4,
          1211.2
         ],
         "xaxis": "x",
         "y": [
          126.0605770460734,
          134.76783526416108,
          136.41330138411465,
          176.37462144013,
          176.4431825284614,
          177.56954326533437,
          182.15334174234786,
          182.84874706685207,
          184.36688545133305,
          191.92819405016732,
          192.4962716391989,
          205.3955506866921,
          208.33388304375205,
          262.39919841365514,
          263.38843697386534,
          274.2308833714165,
          274.9360831371109,
          277.14962684609606,
          286.8461236243939,
          290.51903907071886,
          291.34177213069563,
          300.72484679090707,
          313.9081646329161,
          329.8143371258006,
          344.1533990282532,
          385.76997964541226,
          389.32536179745483,
          399.0218585757527,
          400.8828024018906,
          407.9445945000247,
          413.3707149193954,
          417.6019135135617,
          424.72247225883706,
          429.0124375001446,
          429.86455388369194,
          433.3807582709737,
          434.2034913309505,
          436.05464071589824,
          438.2094177777422,
          445.5258653468215,
          455.1635954779781,
          462.1078542818298,
          471.56928447156287,
          472.41160641392,
          475.007133329323,
          482.9700140169555,
          485.2815021378426,
          488.54305105417916,
          518.768696567136,
          523.2937283970083,
          525.3309721645697,
          553.7054682925788,
          557.9660502103158,
          573.2747617905981,
          578.5049933861646,
          580.9731925660951,
          590.767633756295,
          592.9419997005192,
          596.703065117556,
          599.6903696805671,
          609.1615943114903,
          609.3868664588648,
          615.5965421734514,
          618.8189133250273,
          622.1490233296952,
          635.273574524563,
          635.8416521135946,
          638.4273845878073,
          649.2796254265488,
          649.8281141332,
          654.9604013168647,
          662.3258210918949,
          668.8293300421876,
          673.305389666109,
          686.1850798312217,
          691.1214781910825,
          696.1166431980844,
          697.7229315532771,
          708.4772279801166,
          712.4831544269083,
          714.1677983116227,
          719.2902910540971,
          722.0719123521139,
          723.8153228839694,
          726.7144774762687,
          727.4196772419631,
          734.9418080760365,
          754.2172683383499,
          759.4866776986773,
          760.5150940236483,
          763.0224709683395,
          763.8452040283162,
          765.1184813830423,
          765.8432700311171,
          775.4516168387031,
          784.3547638805948,
          784.8248970577243,
          787.0188518843291,
          787.4204239731273,
          791.573267037772,
          794.0414662177024,
          801.5342137282053,
          803.7183741136198,
          804.1297406436081,
          804.5802849383574,
          805.0210347919165,
          806.1669844111698,
          807.0191007947171,
          807.5969728249389,
          822.6706178166565,
          822.7000011402271,
          822.886095522841,
          823.0330121406939,
          823.9243062890021,
          826.9409941755837,
          828.8117324429118,
          830.5453485335771,
          835.5209246581987,
          836.6570798362618,
          840.7021840478144,
          841.8089559023069,
          843.0626443746525,
          843.6405164048743,
          849.2429367656687,
          851.76010815155,
          852.0245580636854,
          857.4800618066267,
          858.5574503375487,
          861.7504381655539,
          864.1696651395332,
          866.8239587020773,
          871.1824850317163,
          873.2393176816582,
          873.6310953292663,
          877.098327510597,
          880.3990541916943,
          882.984786665907,
          888.0093349964795,
          888.4109070852778,
          894.4834606232016,
          894.5324328291528,
          900.0564976604254,
          902.1525080751281,
          903.6804409007992,
          905.5903569328883,
          908.7049892313719,
          914.2094651802641,
          923.1419955457263,
          924.7580783421095,
          931.2028206452609,
          937.3047575067553,
          938.0393405960203,
          938.2744071845851,
          945.571265871284,
          946.1295490191254,
          954.6703017369797,
          955.6301569736193,
          957.1189120345297,
          961.8006549234451,
          963.4265321610183,
          967.8438251377985,
          971.742012731498,
          977.0114220918255,
          977.7949773870415,
          984.0242419840087,
          990.8999396995289,
          1000.8315030663915,
          1009.1567780780614,
          1010.7238886684934,
          1015.4252204397893,
          1036.287380174915,
          1041.6743228295247,
          1045.4941548937027,
          1066.0624813931222,
          1068.2172584549662,
          1072.0370905191444,
          1072.4288681667522,
          1073.9959787571843,
          1086.728752304444,
          1088.197918482974,
          1088.687640542484,
          1090.94036201623,
          1091.7239173114458,
          1092.7033614304657,
          1094.2704720208978,
          1095.054027316114,
          1095.83758261133,
          1096.4252490827416,
          1107.6888564514716,
          1108.0806340990796,
          1108.1785785109817,
          1112.1942993989635,
          1119.5401302916134,
          1130.8037376603434,
          1144.124177679015,
          1148.727565038409,
          1153.037119162097,
          1160.1870612309428,
          1177.0335000780865,
          1201.3237142297821
         ],
         "yaxis": "y"
        }
       ],
       "layout": {
        "height": 400,
        "legend": {
         "tracegroupgap": 0
        },
        "margin": {
         "b": 10,
         "l": 10,
         "r": 10,
         "t": 20
        },
        "template": {
         "data": {
          "bar": [
           {
            "error_x": {
             "color": "#2a3f5f"
            },
            "error_y": {
             "color": "#2a3f5f"
            },
            "marker": {
             "line": {
              "color": "#E5ECF6",
              "width": 0.5
             },
             "pattern": {
              "fillmode": "overlay",
              "size": 10,
              "solidity": 0.2
             }
            },
            "type": "bar"
           }
          ],
          "barpolar": [
           {
            "marker": {
             "line": {
              "color": "#E5ECF6",
              "width": 0.5
             },
             "pattern": {
              "fillmode": "overlay",
              "size": 10,
              "solidity": 0.2
             }
            },
            "type": "barpolar"
           }
          ],
          "carpet": [
           {
            "aaxis": {
             "endlinecolor": "#2a3f5f",
             "gridcolor": "white",
             "linecolor": "white",
             "minorgridcolor": "white",
             "startlinecolor": "#2a3f5f"
            },
            "baxis": {
             "endlinecolor": "#2a3f5f",
             "gridcolor": "white",
             "linecolor": "white",
             "minorgridcolor": "white",
             "startlinecolor": "#2a3f5f"
            },
            "type": "carpet"
           }
          ],
          "choropleth": [
           {
            "colorbar": {
             "outlinewidth": 0,
             "ticks": ""
            },
            "type": "choropleth"
           }
          ],
          "contour": [
           {
            "colorbar": {
             "outlinewidth": 0,
             "ticks": ""
            },
            "colorscale": [
             [
              0,
              "#0d0887"
             ],
             [
              0.1111111111111111,
              "#46039f"
             ],
             [
              0.2222222222222222,
              "#7201a8"
             ],
             [
              0.3333333333333333,
              "#9c179e"
             ],
             [
              0.4444444444444444,
              "#bd3786"
             ],
             [
              0.5555555555555556,
              "#d8576b"
             ],
             [
              0.6666666666666666,
              "#ed7953"
             ],
             [
              0.7777777777777778,
              "#fb9f3a"
             ],
             [
              0.8888888888888888,
              "#fdca26"
             ],
             [
              1,
              "#f0f921"
             ]
            ],
            "type": "contour"
           }
          ],
          "contourcarpet": [
           {
            "colorbar": {
             "outlinewidth": 0,
             "ticks": ""
            },
            "type": "contourcarpet"
           }
          ],
          "heatmap": [
           {
            "colorbar": {
             "outlinewidth": 0,
             "ticks": ""
            },
            "colorscale": [
             [
              0,
              "#0d0887"
             ],
             [
              0.1111111111111111,
              "#46039f"
             ],
             [
              0.2222222222222222,
              "#7201a8"
             ],
             [
              0.3333333333333333,
              "#9c179e"
             ],
             [
              0.4444444444444444,
              "#bd3786"
             ],
             [
              0.5555555555555556,
              "#d8576b"
             ],
             [
              0.6666666666666666,
              "#ed7953"
             ],
             [
              0.7777777777777778,
              "#fb9f3a"
             ],
             [
              0.8888888888888888,
              "#fdca26"
             ],
             [
              1,
              "#f0f921"
             ]
            ],
            "type": "heatmap"
           }
          ],
          "heatmapgl": [
           {
            "colorbar": {
             "outlinewidth": 0,
             "ticks": ""
            },
            "colorscale": [
             [
              0,
              "#0d0887"
             ],
             [
              0.1111111111111111,
              "#46039f"
             ],
             [
              0.2222222222222222,
              "#7201a8"
             ],
             [
              0.3333333333333333,
              "#9c179e"
             ],
             [
              0.4444444444444444,
              "#bd3786"
             ],
             [
              0.5555555555555556,
              "#d8576b"
             ],
             [
              0.6666666666666666,
              "#ed7953"
             ],
             [
              0.7777777777777778,
              "#fb9f3a"
             ],
             [
              0.8888888888888888,
              "#fdca26"
             ],
             [
              1,
              "#f0f921"
             ]
            ],
            "type": "heatmapgl"
           }
          ],
          "histogram": [
           {
            "marker": {
             "pattern": {
              "fillmode": "overlay",
              "size": 10,
              "solidity": 0.2
             }
            },
            "type": "histogram"
           }
          ],
          "histogram2d": [
           {
            "colorbar": {
             "outlinewidth": 0,
             "ticks": ""
            },
            "colorscale": [
             [
              0,
              "#0d0887"
             ],
             [
              0.1111111111111111,
              "#46039f"
             ],
             [
              0.2222222222222222,
              "#7201a8"
             ],
             [
              0.3333333333333333,
              "#9c179e"
             ],
             [
              0.4444444444444444,
              "#bd3786"
             ],
             [
              0.5555555555555556,
              "#d8576b"
             ],
             [
              0.6666666666666666,
              "#ed7953"
             ],
             [
              0.7777777777777778,
              "#fb9f3a"
             ],
             [
              0.8888888888888888,
              "#fdca26"
             ],
             [
              1,
              "#f0f921"
             ]
            ],
            "type": "histogram2d"
           }
          ],
          "histogram2dcontour": [
           {
            "colorbar": {
             "outlinewidth": 0,
             "ticks": ""
            },
            "colorscale": [
             [
              0,
              "#0d0887"
             ],
             [
              0.1111111111111111,
              "#46039f"
             ],
             [
              0.2222222222222222,
              "#7201a8"
             ],
             [
              0.3333333333333333,
              "#9c179e"
             ],
             [
              0.4444444444444444,
              "#bd3786"
             ],
             [
              0.5555555555555556,
              "#d8576b"
             ],
             [
              0.6666666666666666,
              "#ed7953"
             ],
             [
              0.7777777777777778,
              "#fb9f3a"
             ],
             [
              0.8888888888888888,
              "#fdca26"
             ],
             [
              1,
              "#f0f921"
             ]
            ],
            "type": "histogram2dcontour"
           }
          ],
          "mesh3d": [
           {
            "colorbar": {
             "outlinewidth": 0,
             "ticks": ""
            },
            "type": "mesh3d"
           }
          ],
          "parcoords": [
           {
            "line": {
             "colorbar": {
              "outlinewidth": 0,
              "ticks": ""
             }
            },
            "type": "parcoords"
           }
          ],
          "pie": [
           {
            "automargin": true,
            "type": "pie"
           }
          ],
          "scatter": [
           {
            "marker": {
             "colorbar": {
              "outlinewidth": 0,
              "ticks": ""
             }
            },
            "type": "scatter"
           }
          ],
          "scatter3d": [
           {
            "line": {
             "colorbar": {
              "outlinewidth": 0,
              "ticks": ""
             }
            },
            "marker": {
             "colorbar": {
              "outlinewidth": 0,
              "ticks": ""
             }
            },
            "type": "scatter3d"
           }
          ],
          "scattercarpet": [
           {
            "marker": {
             "colorbar": {
              "outlinewidth": 0,
              "ticks": ""
             }
            },
            "type": "scattercarpet"
           }
          ],
          "scattergeo": [
           {
            "marker": {
             "colorbar": {
              "outlinewidth": 0,
              "ticks": ""
             }
            },
            "type": "scattergeo"
           }
          ],
          "scattergl": [
           {
            "marker": {
             "colorbar": {
              "outlinewidth": 0,
              "ticks": ""
             }
            },
            "type": "scattergl"
           }
          ],
          "scattermapbox": [
           {
            "marker": {
             "colorbar": {
              "outlinewidth": 0,
              "ticks": ""
             }
            },
            "type": "scattermapbox"
           }
          ],
          "scatterpolar": [
           {
            "marker": {
             "colorbar": {
              "outlinewidth": 0,
              "ticks": ""
             }
            },
            "type": "scatterpolar"
           }
          ],
          "scatterpolargl": [
           {
            "marker": {
             "colorbar": {
              "outlinewidth": 0,
              "ticks": ""
             }
            },
            "type": "scatterpolargl"
           }
          ],
          "scatterternary": [
           {
            "marker": {
             "colorbar": {
              "outlinewidth": 0,
              "ticks": ""
             }
            },
            "type": "scatterternary"
           }
          ],
          "surface": [
           {
            "colorbar": {
             "outlinewidth": 0,
             "ticks": ""
            },
            "colorscale": [
             [
              0,
              "#0d0887"
             ],
             [
              0.1111111111111111,
              "#46039f"
             ],
             [
              0.2222222222222222,
              "#7201a8"
             ],
             [
              0.3333333333333333,
              "#9c179e"
             ],
             [
              0.4444444444444444,
              "#bd3786"
             ],
             [
              0.5555555555555556,
              "#d8576b"
             ],
             [
              0.6666666666666666,
              "#ed7953"
             ],
             [
              0.7777777777777778,
              "#fb9f3a"
             ],
             [
              0.8888888888888888,
              "#fdca26"
             ],
             [
              1,
              "#f0f921"
             ]
            ],
            "type": "surface"
           }
          ],
          "table": [
           {
            "cells": {
             "fill": {
              "color": "#EBF0F8"
             },
             "line": {
              "color": "white"
             }
            },
            "header": {
             "fill": {
              "color": "#C8D4E3"
             },
             "line": {
              "color": "white"
             }
            },
            "type": "table"
           }
          ]
         },
         "layout": {
          "annotationdefaults": {
           "arrowcolor": "#2a3f5f",
           "arrowhead": 0,
           "arrowwidth": 1
          },
          "autotypenumbers": "strict",
          "coloraxis": {
           "colorbar": {
            "outlinewidth": 0,
            "ticks": ""
           }
          },
          "colorscale": {
           "diverging": [
            [
             0,
             "#8e0152"
            ],
            [
             0.1,
             "#c51b7d"
            ],
            [
             0.2,
             "#de77ae"
            ],
            [
             0.3,
             "#f1b6da"
            ],
            [
             0.4,
             "#fde0ef"
            ],
            [
             0.5,
             "#f7f7f7"
            ],
            [
             0.6,
             "#e6f5d0"
            ],
            [
             0.7,
             "#b8e186"
            ],
            [
             0.8,
             "#7fbc41"
            ],
            [
             0.9,
             "#4d9221"
            ],
            [
             1,
             "#276419"
            ]
           ],
           "sequential": [
            [
             0,
             "#0d0887"
            ],
            [
             0.1111111111111111,
             "#46039f"
            ],
            [
             0.2222222222222222,
             "#7201a8"
            ],
            [
             0.3333333333333333,
             "#9c179e"
            ],
            [
             0.4444444444444444,
             "#bd3786"
            ],
            [
             0.5555555555555556,
             "#d8576b"
            ],
            [
             0.6666666666666666,
             "#ed7953"
            ],
            [
             0.7777777777777778,
             "#fb9f3a"
            ],
            [
             0.8888888888888888,
             "#fdca26"
            ],
            [
             1,
             "#f0f921"
            ]
           ],
           "sequentialminus": [
            [
             0,
             "#0d0887"
            ],
            [
             0.1111111111111111,
             "#46039f"
            ],
            [
             0.2222222222222222,
             "#7201a8"
            ],
            [
             0.3333333333333333,
             "#9c179e"
            ],
            [
             0.4444444444444444,
             "#bd3786"
            ],
            [
             0.5555555555555556,
             "#d8576b"
            ],
            [
             0.6666666666666666,
             "#ed7953"
            ],
            [
             0.7777777777777778,
             "#fb9f3a"
            ],
            [
             0.8888888888888888,
             "#fdca26"
            ],
            [
             1,
             "#f0f921"
            ]
           ]
          },
          "colorway": [
           "#636efa",
           "#EF553B",
           "#00cc96",
           "#ab63fa",
           "#FFA15A",
           "#19d3f3",
           "#FF6692",
           "#B6E880",
           "#FF97FF",
           "#FECB52"
          ],
          "font": {
           "color": "#2a3f5f"
          },
          "geo": {
           "bgcolor": "white",
           "lakecolor": "white",
           "landcolor": "#E5ECF6",
           "showlakes": true,
           "showland": true,
           "subunitcolor": "white"
          },
          "hoverlabel": {
           "align": "left"
          },
          "hovermode": "closest",
          "mapbox": {
           "style": "light"
          },
          "paper_bgcolor": "white",
          "plot_bgcolor": "#E5ECF6",
          "polar": {
           "angularaxis": {
            "gridcolor": "white",
            "linecolor": "white",
            "ticks": ""
           },
           "bgcolor": "#E5ECF6",
           "radialaxis": {
            "gridcolor": "white",
            "linecolor": "white",
            "ticks": ""
           }
          },
          "scene": {
           "xaxis": {
            "backgroundcolor": "#E5ECF6",
            "gridcolor": "white",
            "gridwidth": 2,
            "linecolor": "white",
            "showbackground": true,
            "ticks": "",
            "zerolinecolor": "white"
           },
           "yaxis": {
            "backgroundcolor": "#E5ECF6",
            "gridcolor": "white",
            "gridwidth": 2,
            "linecolor": "white",
            "showbackground": true,
            "ticks": "",
            "zerolinecolor": "white"
           },
           "zaxis": {
            "backgroundcolor": "#E5ECF6",
            "gridcolor": "white",
            "gridwidth": 2,
            "linecolor": "white",
            "showbackground": true,
            "ticks": "",
            "zerolinecolor": "white"
           }
          },
          "shapedefaults": {
           "line": {
            "color": "#2a3f5f"
           }
          },
          "ternary": {
           "aaxis": {
            "gridcolor": "white",
            "linecolor": "white",
            "ticks": ""
           },
           "baxis": {
            "gridcolor": "white",
            "linecolor": "white",
            "ticks": ""
           },
           "bgcolor": "#E5ECF6",
           "caxis": {
            "gridcolor": "white",
            "linecolor": "white",
            "ticks": ""
           }
          },
          "title": {
           "x": 0.05
          },
          "xaxis": {
           "automargin": true,
           "gridcolor": "white",
           "linecolor": "white",
           "ticks": "",
           "title": {
            "standoff": 15
           },
           "zerolinecolor": "white",
           "zerolinewidth": 2
          },
          "yaxis": {
           "automargin": true,
           "gridcolor": "white",
           "linecolor": "white",
           "ticks": "",
           "title": {
            "standoff": 15
           },
           "zerolinecolor": "white",
           "zerolinewidth": 2
          }
         }
        },
        "title": {
         "text": "Train data"
        },
        "width": 500,
        "xaxis": {
         "anchor": "y",
         "domain": [
          0,
          1
         ],
         "title": {
          "text": "True_Value"
         }
        },
        "yaxis": {
         "anchor": "x",
         "domain": [
          0,
          1
         ],
         "title": {
          "text": "Predict_Value"
         }
        }
       }
      }
     },
     "metadata": {},
     "output_type": "display_data"
    },
    {
     "data": {
      "application/vnd.plotly.v1+json": {
       "config": {
        "plotlyServerURL": "https://plot.ly"
       },
       "data": [
        {
         "hovertemplate": "True_Value=%{x}<br>Predict_Value=%{y}<extra></extra>",
         "legendgroup": "",
         "marker": {
          "color": "#636efa",
          "symbol": "circle"
         },
         "mode": "markers",
         "name": "",
         "orientation": "v",
         "showlegend": false,
         "type": "scatter",
         "x": [
          1383.8,
          1005,
          738.02,
          1114.9,
          791.34,
          579.15,
          854.94,
          589.63,
          584.6,
          753.84,
          441.88,
          446.49,
          715.04,
          461.86,
          323.47,
          503.29,
          350.56,
          246.51,
          490.42,
          308.43,
          246.09,
          332.38,
          230.38,
          160.5
         ],
         "xaxis": "x",
         "y": [
          1421.0452725131213,
          989.2031198350192,
          697.7652607692089,
          1170.2754936939505,
          788.2206952639865,
          516.6939222317519,
          943.0989856319438,
          607.1118537207487,
          584.211957241662,
          765.5415981325459,
          448.5243941822971,
          427.37597686238064,
          714.3265776883943,
          518.2147386983137,
          315.80762999700823,
          541.3324107606536,
          367.71636059709317,
          213.34512698475578,
          507.3480717476941,
          337.6292862318784,
          240.81125325303753,
          360.7249004623973,
          244.69022744624635,
          137.49941666614677
         ],
         "yaxis": "y"
        },
        {
         "hovertemplate": "<b>OLS trendline</b><br>Predict_Value = 1.03062 * True_Value + -8.83322<br>R<sup>2</sup>=0.989625<br><br>True_Value=%{x}<br>Predict_Value=%{y} <b>(trend)</b><extra></extra>",
         "legendgroup": "",
         "marker": {
          "color": "#636efa",
          "symbol": "circle"
         },
         "mode": "lines",
         "name": "",
         "showlegend": false,
         "type": "scatter",
         "x": [
          160.5,
          230.38,
          246.09,
          246.51,
          308.43,
          323.47,
          332.38,
          350.56,
          441.88,
          446.49,
          461.86,
          490.42,
          503.29,
          579.15,
          584.6,
          589.63,
          715.04,
          738.02,
          753.84,
          791.34,
          854.94,
          1005,
          1114.9,
          1383.8
         ],
         "xaxis": "x",
         "y": [
          156.58071903251462,
          228.60019758011947,
          244.79118223929052,
          245.22404115443067,
          309.03981264366496,
          324.54028427154105,
          333.7230769713,
          352.459684298081,
          446.57557984712616,
          451.32672174902166,
          467.1672968102221,
          496.6017030397527,
          509.8657369394046,
          588.0483019454334,
          593.6651616776094,
          598.849162494645,
          728.0987733225661,
          751.7823396795202,
          768.0866921497995,
          806.7348095730276,
          872.2820167228226,
          1026.936323403612,
          1140.2010728652863,
          1417.3338402014472
         ],
         "yaxis": "y"
        }
       ],
       "layout": {
        "height": 400,
        "legend": {
         "tracegroupgap": 0
        },
        "margin": {
         "b": 10,
         "l": 10,
         "r": 10,
         "t": 20
        },
        "template": {
         "data": {
          "bar": [
           {
            "error_x": {
             "color": "#2a3f5f"
            },
            "error_y": {
             "color": "#2a3f5f"
            },
            "marker": {
             "line": {
              "color": "#E5ECF6",
              "width": 0.5
             },
             "pattern": {
              "fillmode": "overlay",
              "size": 10,
              "solidity": 0.2
             }
            },
            "type": "bar"
           }
          ],
          "barpolar": [
           {
            "marker": {
             "line": {
              "color": "#E5ECF6",
              "width": 0.5
             },
             "pattern": {
              "fillmode": "overlay",
              "size": 10,
              "solidity": 0.2
             }
            },
            "type": "barpolar"
           }
          ],
          "carpet": [
           {
            "aaxis": {
             "endlinecolor": "#2a3f5f",
             "gridcolor": "white",
             "linecolor": "white",
             "minorgridcolor": "white",
             "startlinecolor": "#2a3f5f"
            },
            "baxis": {
             "endlinecolor": "#2a3f5f",
             "gridcolor": "white",
             "linecolor": "white",
             "minorgridcolor": "white",
             "startlinecolor": "#2a3f5f"
            },
            "type": "carpet"
           }
          ],
          "choropleth": [
           {
            "colorbar": {
             "outlinewidth": 0,
             "ticks": ""
            },
            "type": "choropleth"
           }
          ],
          "contour": [
           {
            "colorbar": {
             "outlinewidth": 0,
             "ticks": ""
            },
            "colorscale": [
             [
              0,
              "#0d0887"
             ],
             [
              0.1111111111111111,
              "#46039f"
             ],
             [
              0.2222222222222222,
              "#7201a8"
             ],
             [
              0.3333333333333333,
              "#9c179e"
             ],
             [
              0.4444444444444444,
              "#bd3786"
             ],
             [
              0.5555555555555556,
              "#d8576b"
             ],
             [
              0.6666666666666666,
              "#ed7953"
             ],
             [
              0.7777777777777778,
              "#fb9f3a"
             ],
             [
              0.8888888888888888,
              "#fdca26"
             ],
             [
              1,
              "#f0f921"
             ]
            ],
            "type": "contour"
           }
          ],
          "contourcarpet": [
           {
            "colorbar": {
             "outlinewidth": 0,
             "ticks": ""
            },
            "type": "contourcarpet"
           }
          ],
          "heatmap": [
           {
            "colorbar": {
             "outlinewidth": 0,
             "ticks": ""
            },
            "colorscale": [
             [
              0,
              "#0d0887"
             ],
             [
              0.1111111111111111,
              "#46039f"
             ],
             [
              0.2222222222222222,
              "#7201a8"
             ],
             [
              0.3333333333333333,
              "#9c179e"
             ],
             [
              0.4444444444444444,
              "#bd3786"
             ],
             [
              0.5555555555555556,
              "#d8576b"
             ],
             [
              0.6666666666666666,
              "#ed7953"
             ],
             [
              0.7777777777777778,
              "#fb9f3a"
             ],
             [
              0.8888888888888888,
              "#fdca26"
             ],
             [
              1,
              "#f0f921"
             ]
            ],
            "type": "heatmap"
           }
          ],
          "heatmapgl": [
           {
            "colorbar": {
             "outlinewidth": 0,
             "ticks": ""
            },
            "colorscale": [
             [
              0,
              "#0d0887"
             ],
             [
              0.1111111111111111,
              "#46039f"
             ],
             [
              0.2222222222222222,
              "#7201a8"
             ],
             [
              0.3333333333333333,
              "#9c179e"
             ],
             [
              0.4444444444444444,
              "#bd3786"
             ],
             [
              0.5555555555555556,
              "#d8576b"
             ],
             [
              0.6666666666666666,
              "#ed7953"
             ],
             [
              0.7777777777777778,
              "#fb9f3a"
             ],
             [
              0.8888888888888888,
              "#fdca26"
             ],
             [
              1,
              "#f0f921"
             ]
            ],
            "type": "heatmapgl"
           }
          ],
          "histogram": [
           {
            "marker": {
             "pattern": {
              "fillmode": "overlay",
              "size": 10,
              "solidity": 0.2
             }
            },
            "type": "histogram"
           }
          ],
          "histogram2d": [
           {
            "colorbar": {
             "outlinewidth": 0,
             "ticks": ""
            },
            "colorscale": [
             [
              0,
              "#0d0887"
             ],
             [
              0.1111111111111111,
              "#46039f"
             ],
             [
              0.2222222222222222,
              "#7201a8"
             ],
             [
              0.3333333333333333,
              "#9c179e"
             ],
             [
              0.4444444444444444,
              "#bd3786"
             ],
             [
              0.5555555555555556,
              "#d8576b"
             ],
             [
              0.6666666666666666,
              "#ed7953"
             ],
             [
              0.7777777777777778,
              "#fb9f3a"
             ],
             [
              0.8888888888888888,
              "#fdca26"
             ],
             [
              1,
              "#f0f921"
             ]
            ],
            "type": "histogram2d"
           }
          ],
          "histogram2dcontour": [
           {
            "colorbar": {
             "outlinewidth": 0,
             "ticks": ""
            },
            "colorscale": [
             [
              0,
              "#0d0887"
             ],
             [
              0.1111111111111111,
              "#46039f"
             ],
             [
              0.2222222222222222,
              "#7201a8"
             ],
             [
              0.3333333333333333,
              "#9c179e"
             ],
             [
              0.4444444444444444,
              "#bd3786"
             ],
             [
              0.5555555555555556,
              "#d8576b"
             ],
             [
              0.6666666666666666,
              "#ed7953"
             ],
             [
              0.7777777777777778,
              "#fb9f3a"
             ],
             [
              0.8888888888888888,
              "#fdca26"
             ],
             [
              1,
              "#f0f921"
             ]
            ],
            "type": "histogram2dcontour"
           }
          ],
          "mesh3d": [
           {
            "colorbar": {
             "outlinewidth": 0,
             "ticks": ""
            },
            "type": "mesh3d"
           }
          ],
          "parcoords": [
           {
            "line": {
             "colorbar": {
              "outlinewidth": 0,
              "ticks": ""
             }
            },
            "type": "parcoords"
           }
          ],
          "pie": [
           {
            "automargin": true,
            "type": "pie"
           }
          ],
          "scatter": [
           {
            "marker": {
             "colorbar": {
              "outlinewidth": 0,
              "ticks": ""
             }
            },
            "type": "scatter"
           }
          ],
          "scatter3d": [
           {
            "line": {
             "colorbar": {
              "outlinewidth": 0,
              "ticks": ""
             }
            },
            "marker": {
             "colorbar": {
              "outlinewidth": 0,
              "ticks": ""
             }
            },
            "type": "scatter3d"
           }
          ],
          "scattercarpet": [
           {
            "marker": {
             "colorbar": {
              "outlinewidth": 0,
              "ticks": ""
             }
            },
            "type": "scattercarpet"
           }
          ],
          "scattergeo": [
           {
            "marker": {
             "colorbar": {
              "outlinewidth": 0,
              "ticks": ""
             }
            },
            "type": "scattergeo"
           }
          ],
          "scattergl": [
           {
            "marker": {
             "colorbar": {
              "outlinewidth": 0,
              "ticks": ""
             }
            },
            "type": "scattergl"
           }
          ],
          "scattermapbox": [
           {
            "marker": {
             "colorbar": {
              "outlinewidth": 0,
              "ticks": ""
             }
            },
            "type": "scattermapbox"
           }
          ],
          "scatterpolar": [
           {
            "marker": {
             "colorbar": {
              "outlinewidth": 0,
              "ticks": ""
             }
            },
            "type": "scatterpolar"
           }
          ],
          "scatterpolargl": [
           {
            "marker": {
             "colorbar": {
              "outlinewidth": 0,
              "ticks": ""
             }
            },
            "type": "scatterpolargl"
           }
          ],
          "scatterternary": [
           {
            "marker": {
             "colorbar": {
              "outlinewidth": 0,
              "ticks": ""
             }
            },
            "type": "scatterternary"
           }
          ],
          "surface": [
           {
            "colorbar": {
             "outlinewidth": 0,
             "ticks": ""
            },
            "colorscale": [
             [
              0,
              "#0d0887"
             ],
             [
              0.1111111111111111,
              "#46039f"
             ],
             [
              0.2222222222222222,
              "#7201a8"
             ],
             [
              0.3333333333333333,
              "#9c179e"
             ],
             [
              0.4444444444444444,
              "#bd3786"
             ],
             [
              0.5555555555555556,
              "#d8576b"
             ],
             [
              0.6666666666666666,
              "#ed7953"
             ],
             [
              0.7777777777777778,
              "#fb9f3a"
             ],
             [
              0.8888888888888888,
              "#fdca26"
             ],
             [
              1,
              "#f0f921"
             ]
            ],
            "type": "surface"
           }
          ],
          "table": [
           {
            "cells": {
             "fill": {
              "color": "#EBF0F8"
             },
             "line": {
              "color": "white"
             }
            },
            "header": {
             "fill": {
              "color": "#C8D4E3"
             },
             "line": {
              "color": "white"
             }
            },
            "type": "table"
           }
          ]
         },
         "layout": {
          "annotationdefaults": {
           "arrowcolor": "#2a3f5f",
           "arrowhead": 0,
           "arrowwidth": 1
          },
          "autotypenumbers": "strict",
          "coloraxis": {
           "colorbar": {
            "outlinewidth": 0,
            "ticks": ""
           }
          },
          "colorscale": {
           "diverging": [
            [
             0,
             "#8e0152"
            ],
            [
             0.1,
             "#c51b7d"
            ],
            [
             0.2,
             "#de77ae"
            ],
            [
             0.3,
             "#f1b6da"
            ],
            [
             0.4,
             "#fde0ef"
            ],
            [
             0.5,
             "#f7f7f7"
            ],
            [
             0.6,
             "#e6f5d0"
            ],
            [
             0.7,
             "#b8e186"
            ],
            [
             0.8,
             "#7fbc41"
            ],
            [
             0.9,
             "#4d9221"
            ],
            [
             1,
             "#276419"
            ]
           ],
           "sequential": [
            [
             0,
             "#0d0887"
            ],
            [
             0.1111111111111111,
             "#46039f"
            ],
            [
             0.2222222222222222,
             "#7201a8"
            ],
            [
             0.3333333333333333,
             "#9c179e"
            ],
            [
             0.4444444444444444,
             "#bd3786"
            ],
            [
             0.5555555555555556,
             "#d8576b"
            ],
            [
             0.6666666666666666,
             "#ed7953"
            ],
            [
             0.7777777777777778,
             "#fb9f3a"
            ],
            [
             0.8888888888888888,
             "#fdca26"
            ],
            [
             1,
             "#f0f921"
            ]
           ],
           "sequentialminus": [
            [
             0,
             "#0d0887"
            ],
            [
             0.1111111111111111,
             "#46039f"
            ],
            [
             0.2222222222222222,
             "#7201a8"
            ],
            [
             0.3333333333333333,
             "#9c179e"
            ],
            [
             0.4444444444444444,
             "#bd3786"
            ],
            [
             0.5555555555555556,
             "#d8576b"
            ],
            [
             0.6666666666666666,
             "#ed7953"
            ],
            [
             0.7777777777777778,
             "#fb9f3a"
            ],
            [
             0.8888888888888888,
             "#fdca26"
            ],
            [
             1,
             "#f0f921"
            ]
           ]
          },
          "colorway": [
           "#636efa",
           "#EF553B",
           "#00cc96",
           "#ab63fa",
           "#FFA15A",
           "#19d3f3",
           "#FF6692",
           "#B6E880",
           "#FF97FF",
           "#FECB52"
          ],
          "font": {
           "color": "#2a3f5f"
          },
          "geo": {
           "bgcolor": "white",
           "lakecolor": "white",
           "landcolor": "#E5ECF6",
           "showlakes": true,
           "showland": true,
           "subunitcolor": "white"
          },
          "hoverlabel": {
           "align": "left"
          },
          "hovermode": "closest",
          "mapbox": {
           "style": "light"
          },
          "paper_bgcolor": "white",
          "plot_bgcolor": "#E5ECF6",
          "polar": {
           "angularaxis": {
            "gridcolor": "white",
            "linecolor": "white",
            "ticks": ""
           },
           "bgcolor": "#E5ECF6",
           "radialaxis": {
            "gridcolor": "white",
            "linecolor": "white",
            "ticks": ""
           }
          },
          "scene": {
           "xaxis": {
            "backgroundcolor": "#E5ECF6",
            "gridcolor": "white",
            "gridwidth": 2,
            "linecolor": "white",
            "showbackground": true,
            "ticks": "",
            "zerolinecolor": "white"
           },
           "yaxis": {
            "backgroundcolor": "#E5ECF6",
            "gridcolor": "white",
            "gridwidth": 2,
            "linecolor": "white",
            "showbackground": true,
            "ticks": "",
            "zerolinecolor": "white"
           },
           "zaxis": {
            "backgroundcolor": "#E5ECF6",
            "gridcolor": "white",
            "gridwidth": 2,
            "linecolor": "white",
            "showbackground": true,
            "ticks": "",
            "zerolinecolor": "white"
           }
          },
          "shapedefaults": {
           "line": {
            "color": "#2a3f5f"
           }
          },
          "ternary": {
           "aaxis": {
            "gridcolor": "white",
            "linecolor": "white",
            "ticks": ""
           },
           "baxis": {
            "gridcolor": "white",
            "linecolor": "white",
            "ticks": ""
           },
           "bgcolor": "#E5ECF6",
           "caxis": {
            "gridcolor": "white",
            "linecolor": "white",
            "ticks": ""
           }
          },
          "title": {
           "x": 0.05
          },
          "xaxis": {
           "automargin": true,
           "gridcolor": "white",
           "linecolor": "white",
           "ticks": "",
           "title": {
            "standoff": 15
           },
           "zerolinecolor": "white",
           "zerolinewidth": 2
          },
          "yaxis": {
           "automargin": true,
           "gridcolor": "white",
           "linecolor": "white",
           "ticks": "",
           "title": {
            "standoff": 15
           },
           "zerolinecolor": "white",
           "zerolinewidth": 2
          }
         }
        },
        "title": {
         "text": "Test data"
        },
        "width": 500,
        "xaxis": {
         "anchor": "y",
         "domain": [
          0,
          1
         ],
         "title": {
          "text": "True_Value"
         }
        },
        "yaxis": {
         "anchor": "x",
         "domain": [
          0,
          1
         ],
         "title": {
          "text": "Predict_Value"
         }
        }
       }
      }
     },
     "metadata": {},
     "output_type": "display_data"
    },
    {
     "name": "stdout",
     "output_type": "stream",
     "text": [
      "    True_Value  Predict_Value\n",
      "0      1383.80    1421.045273\n",
      "1      1005.00     989.203120\n",
      "2       738.02     697.765261\n",
      "3      1114.90    1170.275494\n",
      "4       791.34     788.220695\n",
      "5       579.15     516.693922\n",
      "6       854.94     943.098986\n",
      "7       589.63     607.111854\n",
      "8       584.60     584.211957\n",
      "9       753.84     765.541598\n",
      "10      441.88     448.524394\n",
      "11      446.49     427.375977\n",
      "12      715.04     714.326578\n",
      "13      461.86     518.214739\n",
      "14      323.47     315.807630\n",
      "15      503.29     541.332411\n",
      "16      350.56     367.716361\n",
      "17      246.51     213.345127\n",
      "18      490.42     507.348072\n",
      "19      308.43     337.629286\n",
      "20      246.09     240.811253\n",
      "21      332.38     360.724900\n",
      "22      230.38     244.690227\n",
      "23      160.50     137.499417\n",
      "Residual sum of squares for train (MSE): 1608.30\n",
      "R2-score for train: 0.98\n",
      "Residual sum of squares for test (MSE): 1151.63\n",
      "R2-score for test: 0.99\n",
      "Coefficent shape: (1, 21)\n"
     ]
    },
    {
     "data": {
      "text/plain": [
       "(array([ 196.9643426 ,  185.0275262 ,  202.01880627,  175.84038934,\n",
       "         154.9375108 ,  130.82861575,  163.4181183 ,  102.4930949 ,\n",
       "         181.31558037,  115.24222614,  296.26079135,  255.80486788,\n",
       "         306.67755909,  273.13343485,  249.91893717,  212.067553  ,\n",
       "         231.70660209,  155.48210157,  284.03565723,  199.53705358,\n",
       "         431.08732726,  393.67150111,  439.98404633,  406.44202215,\n",
       "         381.47604531,  326.07854304,  368.05528671,  271.01524032,\n",
       "         415.82419587,  310.51004635,  463.68280383,  434.82314376,\n",
       "         468.30143987,  439.97221919,  416.08476598,  589.50713392,\n",
       "         301.31464808,  527.99724209,  326.70226605,  445.07630988,\n",
       "         624.88033538,  599.06077263,  627.97892276,  599.65180214,\n",
       "         574.01286976,  771.52021135,  440.0163908 ,  711.53246823,\n",
       "         460.84386279,  603.23584416,  809.67113769,  786.89167226,\n",
       "         811.2496764 ,  782.92465584,  755.53424431,  977.12655952,\n",
       "         602.31140428,  918.66096513,  618.57873029,  784.9886492 ,\n",
       "         717.95275021,  676.89484416,  732.84747226,  692.30638756,\n",
       "         666.18534432,  889.65459861,  412.56397785,  812.78472312,\n",
       "         444.99964568,  708.1720189 ,  814.60502548,  775.06716809,\n",
       "         827.97969887,  788.19968852,  761.2029057 ,  998.31584264,\n",
       "         485.95938993,  922.20704151,  515.35496044,  802.5452712 ,\n",
       "         889.99130717,  851.00258915,  902.81684119,  862.11878478,\n",
       "         817.53024822,  591.51244829,  379.97334246,  822.00978681,\n",
       "         383.11059669,  571.38712609,  997.68124351,  960.21257416,\n",
       "        1008.98672887,  968.93298154,  922.59296583,  675.18444709,\n",
       "         440.2717128 ,  930.34403223,  440.3688697 ,  652.66333665,\n",
       "        1111.26949754, 1075.32087685, 1121.05493424, 1081.64549599,\n",
       "        1033.55400112,  764.75476358,  506.46840082, 1044.57659535,\n",
       "         503.5254604 ,  739.8378649 ,  860.22339775,  838.52421515,\n",
       "         855.75939636,  836.25443227,  799.47300955,  606.09166949,\n",
       "         813.43496972,  578.56340653,  832.91071083,  572.58036879,\n",
       "         936.74564456,  915.44623066,  931.88187445,  898.21274268,\n",
       "         874.55518511,  665.1267544 ,  874.67276888,  628.84481946,\n",
       "         895.58953247,  624.30280419, 1043.13517453, 1023.3558093 ,\n",
       "        1036.75135577, 1002.85079349,  977.44175676,  747.49834683,\n",
       "         980.83086836,  710.9849814 ,  998.70753462,  703.4028688 ,\n",
       "         835.76825695,  830.23832981,  815.1350001 ,  806.79394806,\n",
       "         792.69498348,  632.51443495,  799.02346102,  621.56057975,\n",
       "         788.4012511 ,  585.47959098,  925.92660628,  895.7535438 ,\n",
       "         929.93648476,  892.96025833,  874.86925469,  711.38423616,\n",
       "         860.54663595,  671.79520657,  899.21069671,  685.00048847,\n",
       "        1098.52880602, 1069.15528096, 1101.73914708, 1076.93484406,\n",
       "        1070.21622642,  849.01211212, 1045.32075911,  821.59500595,\n",
       "        1082.38574502,  833.201213  , 1030.13805548, 1016.53401717,\n",
       "        1017.57890979, 1018.10268651, 1020.94266186,  848.98642974,\n",
       "        1002.25808831,  846.8974033 , 1007.78410072,  826.96463686,\n",
       "        1005.66976876, 1007.83521721,  983.83748165, 1003.19299279,\n",
       "        1015.59156113,  892.88321118, 1003.11788133,  916.12226448,\n",
       "         976.87958588,  902.61335846, 1182.93163012, 1159.73343199,\n",
       "        1110.37204986, 1189.58668025, 1211.11707468, 1047.90013818,\n",
       "        1164.14792222, 1054.90737102, 1112.54598019, 1016.03481842]),\n",
       " array([1421.04527251,  989.20311984,  697.76526077, 1170.27549369,\n",
       "         788.22069526,  516.69392223,  943.09898563,  607.11185372,\n",
       "         584.21195724,  765.54159813,  448.52439418,  427.37597686,\n",
       "         714.32657769,  518.2147387 ,  315.80763   ,  541.33241076,\n",
       "         367.7163606 ,  213.34512698,  507.34807175,  337.62928623,\n",
       "         240.81125325,  360.72490046,  244.69022745,  137.49941667]))"
      ]
     },
     "execution_count": 24,
     "metadata": {},
     "output_type": "execute_result"
    }
   ],
   "source": [
    "# All parameters\n",
    "polyEstimate(x_train_stress, ym_train_stress.Sv, x_test_stress, ym_test_stress.Sv, print_test=1)"
   ]
  },
  {
   "cell_type": "markdown",
   "metadata": {},
   "source": [
    "<h2 style=\"color:cyan\">Polynomial Regression Model - All inputs - Middle plate - Main stress</h2>"
   ]
  },
  {
   "cell_type": "code",
   "execution_count": 27,
   "metadata": {},
   "outputs": [
    {
     "data": {
      "application/vnd.plotly.v1+json": {
       "config": {
        "plotlyServerURL": "https://plot.ly"
       },
       "data": [
        {
         "hovertemplate": "True_Value=%{x}<br>Predict_Value=%{y}<extra></extra>",
         "legendgroup": "",
         "marker": {
          "color": "#636efa",
          "symbol": "circle"
         },
         "mode": "markers",
         "name": "",
         "orientation": "v",
         "showlegend": false,
         "type": "scatter",
         "x": [
          28.269,
          18.143,
          31.645,
          28.425,
          28.557,
          30.094,
          18.817,
          22.931,
          35.451,
          41.96,
          25.804,
          35.296,
          34.102,
          25.999,
          27.41,
          29.594,
          37.728,
          31.693,
          34.835,
          42.853,
          35.13,
          43.242,
          50.673,
          37.552,
          36.437,
          42.343,
          47.668,
          45.513,
          51.381,
          60.534,
          59.113,
          61.773,
          81.795,
          60.101,
          62.016,
          49.686,
          64.354,
          62.616,
          104.77,
          83.421,
          76.734,
          67.535,
          110.31,
          78.73,
          80.521,
          64.318,
          70.375,
          66.742,
          120.16,
          109.85,
          96.822,
          61.212,
          136.96,
          99.629,
          103.75,
          83.339,
          81.764,
          60.799,
          160.83,
          142.38,
          71.203,
          65.473,
          111.34,
          73.605,
          74.983,
          64.283,
          67.2,
          66.194,
          114.06,
          130.22,
          84.229,
          70.906,
          139.48,
          88.432,
          97.233,
          74.819,
          86.728,
          71.119,
          182.84,
          133.06,
          99.25,
          84.314,
          160.66,
          110.18,
          110.95,
          141.42,
          75.769,
          77.366,
          143.27,
          195.5,
          112.92,
          84.596,
          175.27,
          113.85,
          117.95,
          158.78,
          86.27,
          85.785,
          231.51,
          211.04,
          126.54,
          122.36,
          119.16,
          122.75,
          127.39,
          108.69,
          109.94,
          110.27,
          109.65,
          191.32,
          134.06,
          123.38,
          182.74,
          134.85,
          140.84,
          148.91,
          125.29,
          128.23,
          184.81,
          240.87,
          154.75,
          129.56,
          214.19,
          155.57,
          156.48,
          172.8,
          138.12,
          135.73,
          217.19,
          275.1,
          164.92,
          146.36,
          257.75,
          169.45,
          165.03,
          187.37,
          148.82,
          152.95,
          260.37,
          327.63,
          178.76,
          150.16,
          275.57,
          182.91,
          184.92,
          203.58,
          145.7,
          158.75,
          277.25,
          319.22,
          160.11,
          191.61,
          170.66,
          160.71,
          151.51,
          163.99,
          190.52,
          190.61,
          170.7,
          189.38,
          158.71,
          162.21,
          249.08,
          198.07,
          202.29,
          234.03,
          164.89,
          192.39,
          260.99,
          338.98,
          187.13,
          175.99,
          305.28,
          230.1,
          235.18,
          273.04,
          182.3,
          220.09,
          318.66,
          377.8,
          264.22,
          202.75,
          166.99,
          271.77,
          275.57,
          291.32,
          204.45,
          244.83,
          173.09,
          199.13,
          300.55,
          232.97,
          192.74,
          309.04,
          313.37,
          332.71,
          234.52,
          284.27,
          198.91,
          228.58
         ],
         "xaxis": "x",
         "y": [
          22.49764858243087,
          16.219446997697887,
          34.72068381401422,
          22.2509869841889,
          24.055466564575866,
          32.55905141192065,
          11.90829118531888,
          26.328935289040253,
          35.84492718698746,
          52.825660572994735,
          26.339414647188605,
          38.24290873759438,
          34.82621588149776,
          25.942494767029018,
          26.92719671679839,
          32.18976345908899,
          38.96355993596836,
          32.30229617161456,
          36.70482981063897,
          45.99101625533663,
          37.60182562906769,
          42.34627882045311,
          50.08116224926012,
          38.63646089531568,
          39.49381598040999,
          43.950112923425905,
          42.846425419742566,
          37.636211529476654,
          52.56530145206284,
          63.30253777084842,
          57.606898522376625,
          47.16194354305662,
          78.26184869037004,
          61.71668396333496,
          62.71784025457232,
          51.790615679642244,
          53.297452524421885,
          46.415335502505,
          101.91922083663908,
          83.95344755965354,
          74.3939762513584,
          56.78998037301794,
          99.041461805235,
          79.93531683872428,
          82.58826752966269,
          68.90578479891225,
          63.15244763925064,
          59.391293593377185,
          126.42055804952204,
          106.16461582092609,
          94.10743304903559,
          69.34439627167477,
          127.75057941848104,
          98.66005495877938,
          104.84714010799742,
          92.0944818836525,
          74.17792776867665,
          73.0859523788579,
          152.13264978232604,
          131.30216315089413,
          76.71899637176394,
          85.7015059203525,
          105.06155359863496,
          79.2008538824029,
          80.68115749214246,
          78.04590938889783,
          81.4017122104804,
          85.76957041727988,
          109.91693814520949,
          126.62453138524035,
          87.34794803196446,
          81.65519786552603,
          132.43131555739882,
          92.71448376675488,
          93.13161190915523,
          84.82519123902702,
          95.11014207544554,
          90.10769809827178,
          186.17768812899536,
          141.12329794518718,
          102.14230823944052,
          85.46785028919899,
          151.78054494357417,
          105.9131600942531,
          104.52945883027647,
          128.2487096177794,
          95.88012065660408,
          86.10510078205198,
          143.09964329003498,
          212.0900166919884,
          112.30172747929998,
          102.6432881608783,
          165.4559438735018,
          116.42192083814805,
          116.69001397387245,
          137.55300617302973,
          98.77378714493064,
          93.5744375316938,
          222.42741999312767,
          226.21274583297253,
          123.19274148633343,
          119.28177185064897,
          121.27701265341688,
          122.01014491096299,
          127.662276349217,
          103.98876261537669,
          106.02160727011623,
          101.77536904850945,
          104.88238204623293,
          190.48538689344298,
          134.81535026054058,
          109.02262032753964,
          195.5414868363834,
          139.63422662745964,
          143.20590856258607,
          157.2986663273029,
          114.00102216247575,
          124.08620772597078,
          201.40323110381505,
          256.65298841646234,
          152.33777167287627,
          120.37201638366247,
          220.00553431837506,
          158.86778880846882,
          157.6222180272429,
          178.4372448316124,
          124.3686685413137,
          140.59922341029164,
          228.6212872549929,
          291.33854662112674,
          165.77291148546666,
          130.7677322019998,
          239.33943230010885,
          173.0016116291302,
          173.40783524760542,
          193.4000404386688,
          134.5099559760919,
          151.31505524790578,
          248.6538682447977,
          309.0863378388773,
          179.939646065231,
          141.89504278751087,
          259.4049250490165,
          187.86702921696548,
          189.92504723514168,
          209.09443081289925,
          145.3828381780438,
          162.76248185269372,
          269.4180440017763,
          327.5657238238016,
          156.14378236176935,
          165.7076454076457,
          182.98643324038963,
          158.18217273411688,
          156.68391844065167,
          143.71796143480137,
          167.41452548745883,
          150.90574665159141,
          186.0676915132497,
          194.83797541216924,
          175.88521911791506,
          154.25056147540687,
          250.86908357585696,
          201.49433027010093,
          200.39652917538555,
          230.90137636447093,
          166.4811629999753,
          185.88537804977489,
          263.67569603918867,
          341.6958851067541,
          204.02551018543124,
          176.25355358489946,
          290.7484400121427,
          230.97353638424158,
          233.17932408892835,
          263.43589406754353,
          187.97529834234967,
          208.52860219782121,
          304.9524184916163,
          378.40302801507323,
          263.3791215670779,
          208.43133073375822,
          181.641811900486,
          271.8195054532462,
          270.8598348412816,
          298.89679083931185,
          212.39581275341934,
          243.23603378708992,
          177.54779033881567,
          207.16707977071275,
          298.7110858186095,
          237.68444699678355,
          204.8160801750049,
          308.54883572091956,
          310.89275390835724,
          337.28406667977566,
          239.74270623318455,
          273.1293820886689,
          202.11942462947655,
          225.77176850112318
         ],
         "yaxis": "y"
        },
        {
         "hovertemplate": "<b>OLS trendline</b><br>Predict_Value = 0.987011 * True_Value + 1.81813<br>R<sup>2</sup>=0.987011<br><br>True_Value=%{x}<br>Predict_Value=%{y} <b>(trend)</b><extra></extra>",
         "legendgroup": "",
         "marker": {
          "color": "#636efa",
          "symbol": "circle"
         },
         "mode": "lines",
         "name": "",
         "showlegend": false,
         "type": "scatter",
         "x": [
          18.143,
          18.817,
          22.931,
          25.804,
          25.999,
          27.41,
          28.269,
          28.425,
          28.557,
          29.594,
          30.094,
          31.645,
          31.693,
          34.102,
          34.835,
          35.13,
          35.296,
          35.451,
          36.437,
          37.552,
          37.728,
          41.96,
          42.343,
          42.853,
          43.242,
          45.513,
          47.668,
          49.686,
          50.673,
          51.381,
          59.113,
          60.101,
          60.534,
          60.799,
          61.212,
          61.773,
          62.016,
          62.616,
          64.283,
          64.318,
          64.354,
          65.473,
          66.194,
          66.742,
          67.2,
          67.535,
          70.375,
          70.906,
          71.119,
          71.203,
          73.605,
          74.819,
          74.983,
          75.769,
          76.734,
          77.366,
          78.73,
          80.521,
          81.764,
          81.795,
          83.339,
          83.421,
          84.229,
          84.314,
          84.596,
          85.785,
          86.27,
          86.728,
          88.432,
          96.822,
          97.233,
          99.25,
          99.629,
          103.75,
          104.77,
          108.69,
          109.65,
          109.85,
          109.94,
          110.18,
          110.27,
          110.31,
          110.95,
          111.34,
          112.92,
          113.85,
          114.06,
          117.95,
          119.16,
          120.16,
          122.36,
          122.75,
          123.38,
          125.29,
          126.54,
          127.39,
          128.23,
          129.56,
          130.22,
          133.06,
          134.06,
          134.85,
          135.73,
          136.96,
          138.12,
          139.48,
          140.84,
          141.42,
          142.38,
          143.27,
          145.7,
          146.36,
          148.82,
          148.91,
          150.16,
          151.51,
          152.95,
          154.75,
          155.57,
          156.48,
          158.71,
          158.75,
          158.78,
          160.11,
          160.66,
          160.71,
          160.83,
          162.21,
          163.99,
          164.89,
          164.92,
          165.03,
          166.99,
          169.45,
          170.66,
          170.7,
          172.8,
          173.09,
          175.27,
          175.99,
          178.76,
          182.3,
          182.74,
          182.84,
          182.91,
          184.81,
          184.92,
          187.13,
          187.37,
          189.38,
          190.52,
          190.61,
          191.32,
          191.61,
          192.39,
          192.74,
          195.5,
          198.07,
          198.91,
          199.13,
          202.29,
          202.75,
          203.58,
          204.45,
          211.04,
          214.19,
          217.19,
          220.09,
          228.58,
          230.1,
          231.51,
          232.97,
          234.03,
          234.52,
          235.18,
          240.87,
          244.83,
          249.08,
          257.75,
          260.37,
          260.99,
          264.22,
          271.77,
          273.04,
          275.1,
          275.57,
          275.57,
          277.25,
          284.27,
          291.32,
          300.55,
          305.28,
          309.04,
          313.37,
          318.66,
          319.22,
          327.63,
          332.71,
          338.98,
          377.8
         ],
         "xaxis": "x",
         "y": [
          19.72546609004728,
          20.39071132125374,
          24.451273459507988,
          27.286955283330165,
          27.47942237544479,
          28.872094513771664,
          29.719936729804818,
          29.87391040349652,
          30.00419581969719,
          31.027725945455494,
          31.521231309851977,
          33.05208495020986,
          33.09946146519192,
          35.47717031085417,
          36.20064917505941,
          36.49181734005334,
          36.65566112103297,
          36.80864778399588,
          37.78184036258573,
          38.88235732518989,
          39.05607121345746,
          43.23310061770927,
          43.61112572683698,
          44.11450119852139,
          44.49844837202185,
          46.73994973711066,
          48.8669578576595,
          50.8587455083637,
          51.832925097682356,
          52.531728693667766,
          60.163295648694955,
          61.1384622487424,
          61.56583789430975,
          61.827395737439886,
          62.235031168431384,
          62.78874418728424,
          63.02858779438092,
          63.6207942316567,
          65.26614111655456,
          65.30068649206231,
          65.33621887829887,
          66.44068388381818,
          67.15231861927792,
          67.69320049865647,
          68.14525141244364,
          68.47590000658927,
          71.2790104763613,
          71.80311317335035,
          72.01334645858326,
          72.09625535980186,
          74.46705513036257,
          75.66528615511722,
          75.82715591463926,
          76.60294634747054,
          77.55541170075573,
          78.17920248135289,
          79.52548511542649,
          81.29322133069469,
          82.52007566658433,
          82.55067299917692,
          84.07461756443325,
          84.15555244419429,
          84.95305711305899,
          85.03695302500638,
          85.31529005052602,
          86.48884580706084,
          86.96754601052542,
          87.4195969243126,
          89.10146320617581,
          97.38248322074877,
          97.78814463028267,
          99.77894527025808,
          100.15302233647061,
          104.2204935498264,
          105.22724449319523,
          109.09632655006364,
          110.0438568497049,
          110.24125899546347,
          110.33008996105484,
          110.56697253596516,
          110.65580350155652,
          110.69528393070824,
          111.32697079713574,
          111.711904981365,
          113.27138193285788,
          114.18930191063532,
          114.39657416368185,
          118.23604589868647,
          119.43032888052595,
          120.41733960931892,
          122.58876321266344,
          122.97369739689269,
          123.59551415603225,
          125.48070464802683,
          126.71446805901803,
          127.55342717849204,
          128.38251619067813,
          129.69524045997278,
          130.3466675409761,
          133.14977801074815,
          134.1367887395411,
          134.91652721528754,
          135.78509665662534,
          136.9991198530407,
          138.14405229844053,
          139.48638688959895,
          140.8287214807574,
          141.40118770345728,
          142.34871800309853,
          143.2271575517243,
          145.62559362269116,
          146.27702070369455,
          148.70506709652523,
          148.7938980621166,
          150.0276614731078,
          151.3601259569783,
          152.78142140644013,
          154.55804071826748,
          155.3673895158777,
          156.2655692790793,
          158.46660320428762,
          158.50608363343935,
          158.53569395530312,
          159.8484182245978,
          160.39127412543388,
          160.44062466187356,
          160.5590659493287,
          161.921140755063,
          163.67801985231446,
          164.5663295082281,
          164.5959398300919,
          164.70451101025915,
          166.63905203869336,
          169.06709843152402,
          170.26138141336352,
          170.30086184251522,
          172.37358437298047,
          172.65981748433043,
          174.81150087309908,
          175.52214859783,
          178.2561683165865,
          181.75018629651362,
          182.18447101718252,
          182.2831720900618,
          182.3522628410773,
          184.22758322578395,
          184.33615440595116,
          186.5174481165836,
          186.75433069149392,
          188.73822225636778,
          189.86341448719176,
          189.95224545278313,
          190.6530230702261,
          190.9392561815761,
          191.70912455003457,
          192.05457830511213,
          194.7787279165807,
          197.31534548957862,
          198.1444345017647,
          198.36157686209916,
          201.48053076508492,
          201.93455570032967,
          202.75377460522785,
          203.61247393927772,
          210.11687464202333,
          213.22595843772118,
          216.18699062410005,
          219.04932173759966,
          227.4290428250519,
          228.9292991328172,
          230.32098426041526,
          231.762019924453,
          232.80825129697354,
          233.2918865540821,
          233.94331363508545,
          239.5594046819174,
          243.46796716793756,
          247.66276276530763,
          256.2201457839426,
          258.8061138933802,
          259.41806054523187,
          262.6061051992331,
          270.0580362016199,
          271.31153982718706,
          273.34478192850054,
          273.8086769710332,
          273.8086769710332,
          275.4668549954054,
          282.395670311532,
          289.3540959495224,
          298.46420497628145,
          303.1327657234721,
          306.8439260637337,
          311.1176825194072,
          316.338969274722,
          316.89169528284606,
          325.19245551199486,
          330.20647001426306,
          336.395027283795,
          374.7107837755378
         ],
         "yaxis": "y"
        }
       ],
       "layout": {
        "height": 400,
        "legend": {
         "tracegroupgap": 0
        },
        "margin": {
         "b": 10,
         "l": 10,
         "r": 10,
         "t": 20
        },
        "template": {
         "data": {
          "bar": [
           {
            "error_x": {
             "color": "#2a3f5f"
            },
            "error_y": {
             "color": "#2a3f5f"
            },
            "marker": {
             "line": {
              "color": "#E5ECF6",
              "width": 0.5
             },
             "pattern": {
              "fillmode": "overlay",
              "size": 10,
              "solidity": 0.2
             }
            },
            "type": "bar"
           }
          ],
          "barpolar": [
           {
            "marker": {
             "line": {
              "color": "#E5ECF6",
              "width": 0.5
             },
             "pattern": {
              "fillmode": "overlay",
              "size": 10,
              "solidity": 0.2
             }
            },
            "type": "barpolar"
           }
          ],
          "carpet": [
           {
            "aaxis": {
             "endlinecolor": "#2a3f5f",
             "gridcolor": "white",
             "linecolor": "white",
             "minorgridcolor": "white",
             "startlinecolor": "#2a3f5f"
            },
            "baxis": {
             "endlinecolor": "#2a3f5f",
             "gridcolor": "white",
             "linecolor": "white",
             "minorgridcolor": "white",
             "startlinecolor": "#2a3f5f"
            },
            "type": "carpet"
           }
          ],
          "choropleth": [
           {
            "colorbar": {
             "outlinewidth": 0,
             "ticks": ""
            },
            "type": "choropleth"
           }
          ],
          "contour": [
           {
            "colorbar": {
             "outlinewidth": 0,
             "ticks": ""
            },
            "colorscale": [
             [
              0,
              "#0d0887"
             ],
             [
              0.1111111111111111,
              "#46039f"
             ],
             [
              0.2222222222222222,
              "#7201a8"
             ],
             [
              0.3333333333333333,
              "#9c179e"
             ],
             [
              0.4444444444444444,
              "#bd3786"
             ],
             [
              0.5555555555555556,
              "#d8576b"
             ],
             [
              0.6666666666666666,
              "#ed7953"
             ],
             [
              0.7777777777777778,
              "#fb9f3a"
             ],
             [
              0.8888888888888888,
              "#fdca26"
             ],
             [
              1,
              "#f0f921"
             ]
            ],
            "type": "contour"
           }
          ],
          "contourcarpet": [
           {
            "colorbar": {
             "outlinewidth": 0,
             "ticks": ""
            },
            "type": "contourcarpet"
           }
          ],
          "heatmap": [
           {
            "colorbar": {
             "outlinewidth": 0,
             "ticks": ""
            },
            "colorscale": [
             [
              0,
              "#0d0887"
             ],
             [
              0.1111111111111111,
              "#46039f"
             ],
             [
              0.2222222222222222,
              "#7201a8"
             ],
             [
              0.3333333333333333,
              "#9c179e"
             ],
             [
              0.4444444444444444,
              "#bd3786"
             ],
             [
              0.5555555555555556,
              "#d8576b"
             ],
             [
              0.6666666666666666,
              "#ed7953"
             ],
             [
              0.7777777777777778,
              "#fb9f3a"
             ],
             [
              0.8888888888888888,
              "#fdca26"
             ],
             [
              1,
              "#f0f921"
             ]
            ],
            "type": "heatmap"
           }
          ],
          "heatmapgl": [
           {
            "colorbar": {
             "outlinewidth": 0,
             "ticks": ""
            },
            "colorscale": [
             [
              0,
              "#0d0887"
             ],
             [
              0.1111111111111111,
              "#46039f"
             ],
             [
              0.2222222222222222,
              "#7201a8"
             ],
             [
              0.3333333333333333,
              "#9c179e"
             ],
             [
              0.4444444444444444,
              "#bd3786"
             ],
             [
              0.5555555555555556,
              "#d8576b"
             ],
             [
              0.6666666666666666,
              "#ed7953"
             ],
             [
              0.7777777777777778,
              "#fb9f3a"
             ],
             [
              0.8888888888888888,
              "#fdca26"
             ],
             [
              1,
              "#f0f921"
             ]
            ],
            "type": "heatmapgl"
           }
          ],
          "histogram": [
           {
            "marker": {
             "pattern": {
              "fillmode": "overlay",
              "size": 10,
              "solidity": 0.2
             }
            },
            "type": "histogram"
           }
          ],
          "histogram2d": [
           {
            "colorbar": {
             "outlinewidth": 0,
             "ticks": ""
            },
            "colorscale": [
             [
              0,
              "#0d0887"
             ],
             [
              0.1111111111111111,
              "#46039f"
             ],
             [
              0.2222222222222222,
              "#7201a8"
             ],
             [
              0.3333333333333333,
              "#9c179e"
             ],
             [
              0.4444444444444444,
              "#bd3786"
             ],
             [
              0.5555555555555556,
              "#d8576b"
             ],
             [
              0.6666666666666666,
              "#ed7953"
             ],
             [
              0.7777777777777778,
              "#fb9f3a"
             ],
             [
              0.8888888888888888,
              "#fdca26"
             ],
             [
              1,
              "#f0f921"
             ]
            ],
            "type": "histogram2d"
           }
          ],
          "histogram2dcontour": [
           {
            "colorbar": {
             "outlinewidth": 0,
             "ticks": ""
            },
            "colorscale": [
             [
              0,
              "#0d0887"
             ],
             [
              0.1111111111111111,
              "#46039f"
             ],
             [
              0.2222222222222222,
              "#7201a8"
             ],
             [
              0.3333333333333333,
              "#9c179e"
             ],
             [
              0.4444444444444444,
              "#bd3786"
             ],
             [
              0.5555555555555556,
              "#d8576b"
             ],
             [
              0.6666666666666666,
              "#ed7953"
             ],
             [
              0.7777777777777778,
              "#fb9f3a"
             ],
             [
              0.8888888888888888,
              "#fdca26"
             ],
             [
              1,
              "#f0f921"
             ]
            ],
            "type": "histogram2dcontour"
           }
          ],
          "mesh3d": [
           {
            "colorbar": {
             "outlinewidth": 0,
             "ticks": ""
            },
            "type": "mesh3d"
           }
          ],
          "parcoords": [
           {
            "line": {
             "colorbar": {
              "outlinewidth": 0,
              "ticks": ""
             }
            },
            "type": "parcoords"
           }
          ],
          "pie": [
           {
            "automargin": true,
            "type": "pie"
           }
          ],
          "scatter": [
           {
            "marker": {
             "colorbar": {
              "outlinewidth": 0,
              "ticks": ""
             }
            },
            "type": "scatter"
           }
          ],
          "scatter3d": [
           {
            "line": {
             "colorbar": {
              "outlinewidth": 0,
              "ticks": ""
             }
            },
            "marker": {
             "colorbar": {
              "outlinewidth": 0,
              "ticks": ""
             }
            },
            "type": "scatter3d"
           }
          ],
          "scattercarpet": [
           {
            "marker": {
             "colorbar": {
              "outlinewidth": 0,
              "ticks": ""
             }
            },
            "type": "scattercarpet"
           }
          ],
          "scattergeo": [
           {
            "marker": {
             "colorbar": {
              "outlinewidth": 0,
              "ticks": ""
             }
            },
            "type": "scattergeo"
           }
          ],
          "scattergl": [
           {
            "marker": {
             "colorbar": {
              "outlinewidth": 0,
              "ticks": ""
             }
            },
            "type": "scattergl"
           }
          ],
          "scattermapbox": [
           {
            "marker": {
             "colorbar": {
              "outlinewidth": 0,
              "ticks": ""
             }
            },
            "type": "scattermapbox"
           }
          ],
          "scatterpolar": [
           {
            "marker": {
             "colorbar": {
              "outlinewidth": 0,
              "ticks": ""
             }
            },
            "type": "scatterpolar"
           }
          ],
          "scatterpolargl": [
           {
            "marker": {
             "colorbar": {
              "outlinewidth": 0,
              "ticks": ""
             }
            },
            "type": "scatterpolargl"
           }
          ],
          "scatterternary": [
           {
            "marker": {
             "colorbar": {
              "outlinewidth": 0,
              "ticks": ""
             }
            },
            "type": "scatterternary"
           }
          ],
          "surface": [
           {
            "colorbar": {
             "outlinewidth": 0,
             "ticks": ""
            },
            "colorscale": [
             [
              0,
              "#0d0887"
             ],
             [
              0.1111111111111111,
              "#46039f"
             ],
             [
              0.2222222222222222,
              "#7201a8"
             ],
             [
              0.3333333333333333,
              "#9c179e"
             ],
             [
              0.4444444444444444,
              "#bd3786"
             ],
             [
              0.5555555555555556,
              "#d8576b"
             ],
             [
              0.6666666666666666,
              "#ed7953"
             ],
             [
              0.7777777777777778,
              "#fb9f3a"
             ],
             [
              0.8888888888888888,
              "#fdca26"
             ],
             [
              1,
              "#f0f921"
             ]
            ],
            "type": "surface"
           }
          ],
          "table": [
           {
            "cells": {
             "fill": {
              "color": "#EBF0F8"
             },
             "line": {
              "color": "white"
             }
            },
            "header": {
             "fill": {
              "color": "#C8D4E3"
             },
             "line": {
              "color": "white"
             }
            },
            "type": "table"
           }
          ]
         },
         "layout": {
          "annotationdefaults": {
           "arrowcolor": "#2a3f5f",
           "arrowhead": 0,
           "arrowwidth": 1
          },
          "autotypenumbers": "strict",
          "coloraxis": {
           "colorbar": {
            "outlinewidth": 0,
            "ticks": ""
           }
          },
          "colorscale": {
           "diverging": [
            [
             0,
             "#8e0152"
            ],
            [
             0.1,
             "#c51b7d"
            ],
            [
             0.2,
             "#de77ae"
            ],
            [
             0.3,
             "#f1b6da"
            ],
            [
             0.4,
             "#fde0ef"
            ],
            [
             0.5,
             "#f7f7f7"
            ],
            [
             0.6,
             "#e6f5d0"
            ],
            [
             0.7,
             "#b8e186"
            ],
            [
             0.8,
             "#7fbc41"
            ],
            [
             0.9,
             "#4d9221"
            ],
            [
             1,
             "#276419"
            ]
           ],
           "sequential": [
            [
             0,
             "#0d0887"
            ],
            [
             0.1111111111111111,
             "#46039f"
            ],
            [
             0.2222222222222222,
             "#7201a8"
            ],
            [
             0.3333333333333333,
             "#9c179e"
            ],
            [
             0.4444444444444444,
             "#bd3786"
            ],
            [
             0.5555555555555556,
             "#d8576b"
            ],
            [
             0.6666666666666666,
             "#ed7953"
            ],
            [
             0.7777777777777778,
             "#fb9f3a"
            ],
            [
             0.8888888888888888,
             "#fdca26"
            ],
            [
             1,
             "#f0f921"
            ]
           ],
           "sequentialminus": [
            [
             0,
             "#0d0887"
            ],
            [
             0.1111111111111111,
             "#46039f"
            ],
            [
             0.2222222222222222,
             "#7201a8"
            ],
            [
             0.3333333333333333,
             "#9c179e"
            ],
            [
             0.4444444444444444,
             "#bd3786"
            ],
            [
             0.5555555555555556,
             "#d8576b"
            ],
            [
             0.6666666666666666,
             "#ed7953"
            ],
            [
             0.7777777777777778,
             "#fb9f3a"
            ],
            [
             0.8888888888888888,
             "#fdca26"
            ],
            [
             1,
             "#f0f921"
            ]
           ]
          },
          "colorway": [
           "#636efa",
           "#EF553B",
           "#00cc96",
           "#ab63fa",
           "#FFA15A",
           "#19d3f3",
           "#FF6692",
           "#B6E880",
           "#FF97FF",
           "#FECB52"
          ],
          "font": {
           "color": "#2a3f5f"
          },
          "geo": {
           "bgcolor": "white",
           "lakecolor": "white",
           "landcolor": "#E5ECF6",
           "showlakes": true,
           "showland": true,
           "subunitcolor": "white"
          },
          "hoverlabel": {
           "align": "left"
          },
          "hovermode": "closest",
          "mapbox": {
           "style": "light"
          },
          "paper_bgcolor": "white",
          "plot_bgcolor": "#E5ECF6",
          "polar": {
           "angularaxis": {
            "gridcolor": "white",
            "linecolor": "white",
            "ticks": ""
           },
           "bgcolor": "#E5ECF6",
           "radialaxis": {
            "gridcolor": "white",
            "linecolor": "white",
            "ticks": ""
           }
          },
          "scene": {
           "xaxis": {
            "backgroundcolor": "#E5ECF6",
            "gridcolor": "white",
            "gridwidth": 2,
            "linecolor": "white",
            "showbackground": true,
            "ticks": "",
            "zerolinecolor": "white"
           },
           "yaxis": {
            "backgroundcolor": "#E5ECF6",
            "gridcolor": "white",
            "gridwidth": 2,
            "linecolor": "white",
            "showbackground": true,
            "ticks": "",
            "zerolinecolor": "white"
           },
           "zaxis": {
            "backgroundcolor": "#E5ECF6",
            "gridcolor": "white",
            "gridwidth": 2,
            "linecolor": "white",
            "showbackground": true,
            "ticks": "",
            "zerolinecolor": "white"
           }
          },
          "shapedefaults": {
           "line": {
            "color": "#2a3f5f"
           }
          },
          "ternary": {
           "aaxis": {
            "gridcolor": "white",
            "linecolor": "white",
            "ticks": ""
           },
           "baxis": {
            "gridcolor": "white",
            "linecolor": "white",
            "ticks": ""
           },
           "bgcolor": "#E5ECF6",
           "caxis": {
            "gridcolor": "white",
            "linecolor": "white",
            "ticks": ""
           }
          },
          "title": {
           "x": 0.05
          },
          "xaxis": {
           "automargin": true,
           "gridcolor": "white",
           "linecolor": "white",
           "ticks": "",
           "title": {
            "standoff": 15
           },
           "zerolinecolor": "white",
           "zerolinewidth": 2
          },
          "yaxis": {
           "automargin": true,
           "gridcolor": "white",
           "linecolor": "white",
           "ticks": "",
           "title": {
            "standoff": 15
           },
           "zerolinecolor": "white",
           "zerolinewidth": 2
          }
         }
        },
        "title": {
         "text": "Train data"
        },
        "width": 500,
        "xaxis": {
         "anchor": "y",
         "domain": [
          0,
          1
         ],
         "title": {
          "text": "True_Value"
         }
        },
        "yaxis": {
         "anchor": "x",
         "domain": [
          0,
          1
         ],
         "title": {
          "text": "Predict_Value"
         }
        }
       }
      }
     },
     "metadata": {},
     "output_type": "display_data"
    },
    {
     "data": {
      "application/vnd.plotly.v1+json": {
       "config": {
        "plotlyServerURL": "https://plot.ly"
       },
       "data": [
        {
         "hovertemplate": "True_Value=%{x}<br>Predict_Value=%{y}<extra></extra>",
         "legendgroup": "",
         "marker": {
          "color": "#636efa",
          "symbol": "circle"
         },
         "mode": "markers",
         "name": "",
         "orientation": "v",
         "showlegend": false,
         "type": "scatter",
         "x": [
          271.71,
          250.89,
          204.84,
          256.92,
          237.59,
          191.72,
          168.57,
          169.12,
          175.69,
          155.78,
          176.84,
          179.56,
          156.31,
          140.78,
          142.51,
          132.48,
          129.34,
          131.18,
          128.87,
          117.15,
          119.57,
          105.03,
          74.224,
          81.759,
          76.585,
          81.404,
          78.496,
          65.337,
          65.446,
          65.337
         ],
         "xaxis": "x",
         "y": [
          280.6793063092567,
          257.8169105542926,
          204.2024761308926,
          246.81053159207283,
          229.3867517870613,
          181.85116535216753,
          189.58956726808623,
          164.8862601465662,
          152.36737024251136,
          167.6211130803598,
          159.5037113855669,
          148.10144850173754,
          155.34808032609968,
          133.89474658089634,
          137.15028649976017,
          146.58712939531443,
          130.65118267167912,
          127.34188468946587,
          122.73070059876153,
          113.54927937188933,
          109.91986537039932,
          101.80065087090406,
          99.37375514079496,
          95.42422512002805,
          80.49396020035823,
          64.57772317573685,
          63.77390834967427,
          61.08957167399447,
          52.88097153776633,
          51.12404532007369
         ],
         "yaxis": "y"
        },
        {
         "hovertemplate": "<b>OLS trendline</b><br>Predict_Value = 0.996637 * True_Value + -2.86481<br>R<sup>2</sup>=0.956807<br><br>True_Value=%{x}<br>Predict_Value=%{y} <b>(trend)</b><extra></extra>",
         "legendgroup": "",
         "marker": {
          "color": "#636efa",
          "symbol": "circle"
         },
         "mode": "lines",
         "name": "",
         "showlegend": false,
         "type": "scatter",
         "x": [
          65.337,
          65.337,
          65.446,
          74.224,
          76.585,
          78.496,
          81.404,
          81.759,
          105.03,
          117.15,
          119.57,
          128.87,
          129.34,
          131.18,
          132.48,
          140.78,
          142.51,
          155.78,
          156.31,
          168.57,
          169.12,
          175.69,
          176.84,
          179.56,
          191.72,
          204.84,
          237.59,
          250.89,
          256.92,
          271.71
         ],
         "xaxis": "x",
         "y": [
          62.25246221687061,
          62.25246221687061,
          62.3610956564725,
          71.10957577413724,
          73.46263587413796,
          75.36720929688316,
          78.26542986901451,
          78.61923602551612,
          101.81197706199093,
          113.89121823607348,
          116.30307992264771,
          125.57180458592887,
          126.04022400439578,
          127.87403619584066,
          129.16966437457887,
          137.44175197729217,
          139.16593409207456,
          152.39130788581016,
          152.91952552791113,
          165.13829589047316,
          165.68644627378552,
          172.2343517617164,
          173.38048438136943,
          176.09133718611403,
          188.2104438426193,
          201.28632207726972,
          233.92618581086734,
          247.18145871641994,
          253.1911801916442,
          267.93144231744293
         ],
         "yaxis": "y"
        }
       ],
       "layout": {
        "height": 400,
        "legend": {
         "tracegroupgap": 0
        },
        "margin": {
         "b": 10,
         "l": 10,
         "r": 10,
         "t": 20
        },
        "template": {
         "data": {
          "bar": [
           {
            "error_x": {
             "color": "#2a3f5f"
            },
            "error_y": {
             "color": "#2a3f5f"
            },
            "marker": {
             "line": {
              "color": "#E5ECF6",
              "width": 0.5
             },
             "pattern": {
              "fillmode": "overlay",
              "size": 10,
              "solidity": 0.2
             }
            },
            "type": "bar"
           }
          ],
          "barpolar": [
           {
            "marker": {
             "line": {
              "color": "#E5ECF6",
              "width": 0.5
             },
             "pattern": {
              "fillmode": "overlay",
              "size": 10,
              "solidity": 0.2
             }
            },
            "type": "barpolar"
           }
          ],
          "carpet": [
           {
            "aaxis": {
             "endlinecolor": "#2a3f5f",
             "gridcolor": "white",
             "linecolor": "white",
             "minorgridcolor": "white",
             "startlinecolor": "#2a3f5f"
            },
            "baxis": {
             "endlinecolor": "#2a3f5f",
             "gridcolor": "white",
             "linecolor": "white",
             "minorgridcolor": "white",
             "startlinecolor": "#2a3f5f"
            },
            "type": "carpet"
           }
          ],
          "choropleth": [
           {
            "colorbar": {
             "outlinewidth": 0,
             "ticks": ""
            },
            "type": "choropleth"
           }
          ],
          "contour": [
           {
            "colorbar": {
             "outlinewidth": 0,
             "ticks": ""
            },
            "colorscale": [
             [
              0,
              "#0d0887"
             ],
             [
              0.1111111111111111,
              "#46039f"
             ],
             [
              0.2222222222222222,
              "#7201a8"
             ],
             [
              0.3333333333333333,
              "#9c179e"
             ],
             [
              0.4444444444444444,
              "#bd3786"
             ],
             [
              0.5555555555555556,
              "#d8576b"
             ],
             [
              0.6666666666666666,
              "#ed7953"
             ],
             [
              0.7777777777777778,
              "#fb9f3a"
             ],
             [
              0.8888888888888888,
              "#fdca26"
             ],
             [
              1,
              "#f0f921"
             ]
            ],
            "type": "contour"
           }
          ],
          "contourcarpet": [
           {
            "colorbar": {
             "outlinewidth": 0,
             "ticks": ""
            },
            "type": "contourcarpet"
           }
          ],
          "heatmap": [
           {
            "colorbar": {
             "outlinewidth": 0,
             "ticks": ""
            },
            "colorscale": [
             [
              0,
              "#0d0887"
             ],
             [
              0.1111111111111111,
              "#46039f"
             ],
             [
              0.2222222222222222,
              "#7201a8"
             ],
             [
              0.3333333333333333,
              "#9c179e"
             ],
             [
              0.4444444444444444,
              "#bd3786"
             ],
             [
              0.5555555555555556,
              "#d8576b"
             ],
             [
              0.6666666666666666,
              "#ed7953"
             ],
             [
              0.7777777777777778,
              "#fb9f3a"
             ],
             [
              0.8888888888888888,
              "#fdca26"
             ],
             [
              1,
              "#f0f921"
             ]
            ],
            "type": "heatmap"
           }
          ],
          "heatmapgl": [
           {
            "colorbar": {
             "outlinewidth": 0,
             "ticks": ""
            },
            "colorscale": [
             [
              0,
              "#0d0887"
             ],
             [
              0.1111111111111111,
              "#46039f"
             ],
             [
              0.2222222222222222,
              "#7201a8"
             ],
             [
              0.3333333333333333,
              "#9c179e"
             ],
             [
              0.4444444444444444,
              "#bd3786"
             ],
             [
              0.5555555555555556,
              "#d8576b"
             ],
             [
              0.6666666666666666,
              "#ed7953"
             ],
             [
              0.7777777777777778,
              "#fb9f3a"
             ],
             [
              0.8888888888888888,
              "#fdca26"
             ],
             [
              1,
              "#f0f921"
             ]
            ],
            "type": "heatmapgl"
           }
          ],
          "histogram": [
           {
            "marker": {
             "pattern": {
              "fillmode": "overlay",
              "size": 10,
              "solidity": 0.2
             }
            },
            "type": "histogram"
           }
          ],
          "histogram2d": [
           {
            "colorbar": {
             "outlinewidth": 0,
             "ticks": ""
            },
            "colorscale": [
             [
              0,
              "#0d0887"
             ],
             [
              0.1111111111111111,
              "#46039f"
             ],
             [
              0.2222222222222222,
              "#7201a8"
             ],
             [
              0.3333333333333333,
              "#9c179e"
             ],
             [
              0.4444444444444444,
              "#bd3786"
             ],
             [
              0.5555555555555556,
              "#d8576b"
             ],
             [
              0.6666666666666666,
              "#ed7953"
             ],
             [
              0.7777777777777778,
              "#fb9f3a"
             ],
             [
              0.8888888888888888,
              "#fdca26"
             ],
             [
              1,
              "#f0f921"
             ]
            ],
            "type": "histogram2d"
           }
          ],
          "histogram2dcontour": [
           {
            "colorbar": {
             "outlinewidth": 0,
             "ticks": ""
            },
            "colorscale": [
             [
              0,
              "#0d0887"
             ],
             [
              0.1111111111111111,
              "#46039f"
             ],
             [
              0.2222222222222222,
              "#7201a8"
             ],
             [
              0.3333333333333333,
              "#9c179e"
             ],
             [
              0.4444444444444444,
              "#bd3786"
             ],
             [
              0.5555555555555556,
              "#d8576b"
             ],
             [
              0.6666666666666666,
              "#ed7953"
             ],
             [
              0.7777777777777778,
              "#fb9f3a"
             ],
             [
              0.8888888888888888,
              "#fdca26"
             ],
             [
              1,
              "#f0f921"
             ]
            ],
            "type": "histogram2dcontour"
           }
          ],
          "mesh3d": [
           {
            "colorbar": {
             "outlinewidth": 0,
             "ticks": ""
            },
            "type": "mesh3d"
           }
          ],
          "parcoords": [
           {
            "line": {
             "colorbar": {
              "outlinewidth": 0,
              "ticks": ""
             }
            },
            "type": "parcoords"
           }
          ],
          "pie": [
           {
            "automargin": true,
            "type": "pie"
           }
          ],
          "scatter": [
           {
            "marker": {
             "colorbar": {
              "outlinewidth": 0,
              "ticks": ""
             }
            },
            "type": "scatter"
           }
          ],
          "scatter3d": [
           {
            "line": {
             "colorbar": {
              "outlinewidth": 0,
              "ticks": ""
             }
            },
            "marker": {
             "colorbar": {
              "outlinewidth": 0,
              "ticks": ""
             }
            },
            "type": "scatter3d"
           }
          ],
          "scattercarpet": [
           {
            "marker": {
             "colorbar": {
              "outlinewidth": 0,
              "ticks": ""
             }
            },
            "type": "scattercarpet"
           }
          ],
          "scattergeo": [
           {
            "marker": {
             "colorbar": {
              "outlinewidth": 0,
              "ticks": ""
             }
            },
            "type": "scattergeo"
           }
          ],
          "scattergl": [
           {
            "marker": {
             "colorbar": {
              "outlinewidth": 0,
              "ticks": ""
             }
            },
            "type": "scattergl"
           }
          ],
          "scattermapbox": [
           {
            "marker": {
             "colorbar": {
              "outlinewidth": 0,
              "ticks": ""
             }
            },
            "type": "scattermapbox"
           }
          ],
          "scatterpolar": [
           {
            "marker": {
             "colorbar": {
              "outlinewidth": 0,
              "ticks": ""
             }
            },
            "type": "scatterpolar"
           }
          ],
          "scatterpolargl": [
           {
            "marker": {
             "colorbar": {
              "outlinewidth": 0,
              "ticks": ""
             }
            },
            "type": "scatterpolargl"
           }
          ],
          "scatterternary": [
           {
            "marker": {
             "colorbar": {
              "outlinewidth": 0,
              "ticks": ""
             }
            },
            "type": "scatterternary"
           }
          ],
          "surface": [
           {
            "colorbar": {
             "outlinewidth": 0,
             "ticks": ""
            },
            "colorscale": [
             [
              0,
              "#0d0887"
             ],
             [
              0.1111111111111111,
              "#46039f"
             ],
             [
              0.2222222222222222,
              "#7201a8"
             ],
             [
              0.3333333333333333,
              "#9c179e"
             ],
             [
              0.4444444444444444,
              "#bd3786"
             ],
             [
              0.5555555555555556,
              "#d8576b"
             ],
             [
              0.6666666666666666,
              "#ed7953"
             ],
             [
              0.7777777777777778,
              "#fb9f3a"
             ],
             [
              0.8888888888888888,
              "#fdca26"
             ],
             [
              1,
              "#f0f921"
             ]
            ],
            "type": "surface"
           }
          ],
          "table": [
           {
            "cells": {
             "fill": {
              "color": "#EBF0F8"
             },
             "line": {
              "color": "white"
             }
            },
            "header": {
             "fill": {
              "color": "#C8D4E3"
             },
             "line": {
              "color": "white"
             }
            },
            "type": "table"
           }
          ]
         },
         "layout": {
          "annotationdefaults": {
           "arrowcolor": "#2a3f5f",
           "arrowhead": 0,
           "arrowwidth": 1
          },
          "autotypenumbers": "strict",
          "coloraxis": {
           "colorbar": {
            "outlinewidth": 0,
            "ticks": ""
           }
          },
          "colorscale": {
           "diverging": [
            [
             0,
             "#8e0152"
            ],
            [
             0.1,
             "#c51b7d"
            ],
            [
             0.2,
             "#de77ae"
            ],
            [
             0.3,
             "#f1b6da"
            ],
            [
             0.4,
             "#fde0ef"
            ],
            [
             0.5,
             "#f7f7f7"
            ],
            [
             0.6,
             "#e6f5d0"
            ],
            [
             0.7,
             "#b8e186"
            ],
            [
             0.8,
             "#7fbc41"
            ],
            [
             0.9,
             "#4d9221"
            ],
            [
             1,
             "#276419"
            ]
           ],
           "sequential": [
            [
             0,
             "#0d0887"
            ],
            [
             0.1111111111111111,
             "#46039f"
            ],
            [
             0.2222222222222222,
             "#7201a8"
            ],
            [
             0.3333333333333333,
             "#9c179e"
            ],
            [
             0.4444444444444444,
             "#bd3786"
            ],
            [
             0.5555555555555556,
             "#d8576b"
            ],
            [
             0.6666666666666666,
             "#ed7953"
            ],
            [
             0.7777777777777778,
             "#fb9f3a"
            ],
            [
             0.8888888888888888,
             "#fdca26"
            ],
            [
             1,
             "#f0f921"
            ]
           ],
           "sequentialminus": [
            [
             0,
             "#0d0887"
            ],
            [
             0.1111111111111111,
             "#46039f"
            ],
            [
             0.2222222222222222,
             "#7201a8"
            ],
            [
             0.3333333333333333,
             "#9c179e"
            ],
            [
             0.4444444444444444,
             "#bd3786"
            ],
            [
             0.5555555555555556,
             "#d8576b"
            ],
            [
             0.6666666666666666,
             "#ed7953"
            ],
            [
             0.7777777777777778,
             "#fb9f3a"
            ],
            [
             0.8888888888888888,
             "#fdca26"
            ],
            [
             1,
             "#f0f921"
            ]
           ]
          },
          "colorway": [
           "#636efa",
           "#EF553B",
           "#00cc96",
           "#ab63fa",
           "#FFA15A",
           "#19d3f3",
           "#FF6692",
           "#B6E880",
           "#FF97FF",
           "#FECB52"
          ],
          "font": {
           "color": "#2a3f5f"
          },
          "geo": {
           "bgcolor": "white",
           "lakecolor": "white",
           "landcolor": "#E5ECF6",
           "showlakes": true,
           "showland": true,
           "subunitcolor": "white"
          },
          "hoverlabel": {
           "align": "left"
          },
          "hovermode": "closest",
          "mapbox": {
           "style": "light"
          },
          "paper_bgcolor": "white",
          "plot_bgcolor": "#E5ECF6",
          "polar": {
           "angularaxis": {
            "gridcolor": "white",
            "linecolor": "white",
            "ticks": ""
           },
           "bgcolor": "#E5ECF6",
           "radialaxis": {
            "gridcolor": "white",
            "linecolor": "white",
            "ticks": ""
           }
          },
          "scene": {
           "xaxis": {
            "backgroundcolor": "#E5ECF6",
            "gridcolor": "white",
            "gridwidth": 2,
            "linecolor": "white",
            "showbackground": true,
            "ticks": "",
            "zerolinecolor": "white"
           },
           "yaxis": {
            "backgroundcolor": "#E5ECF6",
            "gridcolor": "white",
            "gridwidth": 2,
            "linecolor": "white",
            "showbackground": true,
            "ticks": "",
            "zerolinecolor": "white"
           },
           "zaxis": {
            "backgroundcolor": "#E5ECF6",
            "gridcolor": "white",
            "gridwidth": 2,
            "linecolor": "white",
            "showbackground": true,
            "ticks": "",
            "zerolinecolor": "white"
           }
          },
          "shapedefaults": {
           "line": {
            "color": "#2a3f5f"
           }
          },
          "ternary": {
           "aaxis": {
            "gridcolor": "white",
            "linecolor": "white",
            "ticks": ""
           },
           "baxis": {
            "gridcolor": "white",
            "linecolor": "white",
            "ticks": ""
           },
           "bgcolor": "#E5ECF6",
           "caxis": {
            "gridcolor": "white",
            "linecolor": "white",
            "ticks": ""
           }
          },
          "title": {
           "x": 0.05
          },
          "xaxis": {
           "automargin": true,
           "gridcolor": "white",
           "linecolor": "white",
           "ticks": "",
           "title": {
            "standoff": 15
           },
           "zerolinecolor": "white",
           "zerolinewidth": 2
          },
          "yaxis": {
           "automargin": true,
           "gridcolor": "white",
           "linecolor": "white",
           "ticks": "",
           "title": {
            "standoff": 15
           },
           "zerolinecolor": "white",
           "zerolinewidth": 2
          }
         }
        },
        "title": {
         "text": "Test data"
        },
        "width": 500,
        "xaxis": {
         "anchor": "y",
         "domain": [
          0,
          1
         ],
         "title": {
          "text": "True_Value"
         }
        },
        "yaxis": {
         "anchor": "x",
         "domain": [
          0,
          1
         ],
         "title": {
          "text": "Predict_Value"
         }
        }
       }
      }
     },
     "metadata": {},
     "output_type": "display_data"
    },
    {
     "name": "stdout",
     "output_type": "stream",
     "text": [
      "    True_Value  Predict_Value\n",
      "0      271.710     280.679306\n",
      "1      250.890     257.816911\n",
      "2      204.840     204.202476\n",
      "3      256.920     246.810532\n",
      "4      237.590     229.386752\n",
      "5      191.720     181.851165\n",
      "6      168.570     189.589567\n",
      "7      169.120     164.886260\n",
      "8      175.690     152.367370\n",
      "9      155.780     167.621113\n",
      "10     176.840     159.503711\n",
      "11     179.560     148.101449\n",
      "12     156.310     155.348080\n",
      "13     140.780     133.894747\n",
      "14     142.510     137.150286\n",
      "15     132.480     146.587129\n",
      "16     129.340     130.651183\n",
      "17     131.180     127.341885\n",
      "18     128.870     122.730701\n",
      "19     117.150     113.549279\n",
      "20     119.570     109.919865\n",
      "21     105.030     101.800651\n",
      "22      74.224      99.373755\n",
      "23      81.759      95.424225\n",
      "24      76.585      80.493960\n",
      "25      81.404      64.577723\n",
      "26      78.496      63.773908\n",
      "27      65.337      61.089572\n",
      "28      65.446      52.880972\n",
      "29      65.337      51.124045\n",
      "Residual sum of squares for train (MSE): 83.57\n",
      "R2-score for train: 0.99\n",
      "Residual sum of squares for test (MSE): 166.30\n",
      "R2-score for test: 0.95\n",
      "Coefficent shape: (1, 21)\n"
     ]
    },
    {
     "data": {
      "text/plain": [
       "(array([ 22.49764858,  16.219447  ,  34.72068381,  22.25098698,\n",
       "         24.05546656,  32.55905141,  11.90829119,  26.32893529,\n",
       "         35.84492719,  52.82566057,  26.33941465,  38.24290874,\n",
       "         34.82621588,  25.94249477,  26.92719672,  32.18976346,\n",
       "         38.96355994,  32.30229617,  36.70482981,  45.99101626,\n",
       "         37.60182563,  42.34627882,  50.08116225,  38.6364609 ,\n",
       "         39.49381598,  43.95011292,  42.84642542,  37.63621153,\n",
       "         52.56530145,  63.30253777,  57.60689852,  47.16194354,\n",
       "         78.26184869,  61.71668396,  62.71784025,  51.79061568,\n",
       "         53.29745252,  46.4153355 , 101.91922084,  83.95344756,\n",
       "         74.39397625,  56.78998037,  99.04146181,  79.93531684,\n",
       "         82.58826753,  68.9057848 ,  63.15244764,  59.39129359,\n",
       "        126.42055805, 106.16461582,  94.10743305,  69.34439627,\n",
       "        127.75057942,  98.66005496, 104.84714011,  92.09448188,\n",
       "         74.17792777,  73.08595238, 152.13264978, 131.30216315,\n",
       "         76.71899637,  85.70150592, 105.0615536 ,  79.20085388,\n",
       "         80.68115749,  78.04590939,  81.40171221,  85.76957042,\n",
       "        109.91693815, 126.62453139,  87.34794803,  81.65519787,\n",
       "        132.43131556,  92.71448377,  93.13161191,  84.82519124,\n",
       "         95.11014208,  90.1076981 , 186.17768813, 141.12329795,\n",
       "        102.14230824,  85.46785029, 151.78054494, 105.91316009,\n",
       "        104.52945883, 128.24870962,  95.88012066,  86.10510078,\n",
       "        143.09964329, 212.09001669, 112.30172748, 102.64328816,\n",
       "        165.45594387, 116.42192084, 116.69001397, 137.55300617,\n",
       "         98.77378714,  93.57443753, 222.42741999, 226.21274583,\n",
       "        123.19274149, 119.28177185, 121.27701265, 122.01014491,\n",
       "        127.66227635, 103.98876262, 106.02160727, 101.77536905,\n",
       "        104.88238205, 190.48538689, 134.81535026, 109.02262033,\n",
       "        195.54148684, 139.63422663, 143.20590856, 157.29866633,\n",
       "        114.00102216, 124.08620773, 201.4032311 , 256.65298842,\n",
       "        152.33777167, 120.37201638, 220.00553432, 158.86778881,\n",
       "        157.62221803, 178.43724483, 124.36866854, 140.59922341,\n",
       "        228.62128725, 291.33854662, 165.77291149, 130.7677322 ,\n",
       "        239.3394323 , 173.00161163, 173.40783525, 193.40004044,\n",
       "        134.50995598, 151.31505525, 248.65386824, 309.08633784,\n",
       "        179.93964607, 141.89504279, 259.40492505, 187.86702922,\n",
       "        189.92504724, 209.09443081, 145.38283818, 162.76248185,\n",
       "        269.418044  , 327.56572382, 156.14378236, 165.70764541,\n",
       "        182.98643324, 158.18217273, 156.68391844, 143.71796143,\n",
       "        167.41452549, 150.90574665, 186.06769151, 194.83797541,\n",
       "        175.88521912, 154.25056148, 250.86908358, 201.49433027,\n",
       "        200.39652918, 230.90137636, 166.481163  , 185.88537805,\n",
       "        263.67569604, 341.69588511, 204.02551019, 176.25355358,\n",
       "        290.74844001, 230.97353638, 233.17932409, 263.43589407,\n",
       "        187.97529834, 208.5286022 , 304.95241849, 378.40302802,\n",
       "        263.37912157, 208.43133073, 181.6418119 , 271.81950545,\n",
       "        270.85983484, 298.89679084, 212.39581275, 243.23603379,\n",
       "        177.54779034, 207.16707977, 298.71108582, 237.684447  ,\n",
       "        204.81608018, 308.54883572, 310.89275391, 337.28406668,\n",
       "        239.74270623, 273.12938209, 202.11942463, 225.7717685 ]),\n",
       " array([280.67930631, 257.81691055, 204.20247613, 246.81053159,\n",
       "        229.38675179, 181.85116535, 189.58956727, 164.88626015,\n",
       "        152.36737024, 167.62111308, 159.50371139, 148.1014485 ,\n",
       "        155.34808033, 133.89474658, 137.1502865 , 146.5871294 ,\n",
       "        130.65118267, 127.34188469, 122.7307006 , 113.54927937,\n",
       "        109.91986537, 101.80065087,  99.37375514,  95.42422512,\n",
       "         80.4939602 ,  64.57772318,  63.77390835,  61.08957167,\n",
       "         52.88097154,  51.12404532]))"
      ]
     },
     "execution_count": 27,
     "metadata": {},
     "output_type": "execute_result"
    }
   ],
   "source": [
    "# All parameters\n",
    "polyEstimate(x_train_mid_stress, ym_train_mid_stress.Sm, x_test_mid_stress, ym_test_mid_stress.Sm, print_test=1)"
   ]
  },
  {
   "cell_type": "markdown",
   "metadata": {},
   "source": [
    "<h2 style=\"color:cyan\">Polynomial Regression Model - All inputs - Middle plate - Side stress</h2>"
   ]
  },
  {
   "cell_type": "code",
   "execution_count": 28,
   "metadata": {},
   "outputs": [
    {
     "data": {
      "application/vnd.plotly.v1+json": {
       "config": {
        "plotlyServerURL": "https://plot.ly"
       },
       "data": [
        {
         "hovertemplate": "True_Value=%{x}<br>Predict_Value=%{y}<extra></extra>",
         "legendgroup": "",
         "marker": {
          "color": "#636efa",
          "symbol": "circle"
         },
         "mode": "markers",
         "name": "",
         "orientation": "v",
         "showlegend": false,
         "type": "scatter",
         "x": [
          37.653,
          36.917,
          36.586,
          28.658,
          28.312,
          42.308,
          28.651,
          33.932,
          27.758,
          31.562,
          56.416,
          52.085,
          52.747,
          40.571,
          38.067,
          60.319,
          43.72,
          45.892,
          41.175,
          43.48,
          75.822,
          74.66,
          75.418,
          55.768,
          50.19,
          84.426,
          58.438,
          61.969,
          56.24,
          59.59,
          125.27,
          121.71,
          123.41,
          83.859,
          67.287,
          114.38,
          96.484,
          79.714,
          94.006,
          82.431,
          167.99,
          164.2,
          165.62,
          110.36,
          87.548,
          153.97,
          124.21,
          109.77,
          112.97,
          108.34,
          222.47,
          216.32,
          203.34,
          148.63,
          113.25,
          191.9,
          166.94,
          138.58,
          145.9,
          140.91,
          249.65,
          241.57,
          254.05,
          169.17,
          124.67,
          221.22,
          181.6,
          168.68,
          175.15,
          166.58,
          314.36,
          355.78,
          280.9,
          199.57,
          166.75,
          237.41,
          286.77,
          189.76,
          225.15,
          194.69,
          217.7,
          211.69,
          221.21,
          172.49,
          121.5,
          309.05,
          160.83,
          167.68,
          161.08,
          179.11,
          243.24,
          239.12,
          247.02,
          181.64,
          138.12,
          341.27,
          184.01,
          177.63,
          210.6,
          201.29,
          253.92,
          240.36,
          226.33,
          179.25,
          205.87,
          270.26,
          207.35,
          201.49,
          173.57,
          205.49,
          308.95,
          303.43,
          284.59,
          227.46,
          157.41,
          373.11,
          229.42,
          257.92,
          208.86,
          244.07,
          245.1,
          240.17,
          223.74,
          175.74,
          164.32,
          257.09,
          178.13,
          199.17,
          162.29,
          195.67,
          279.75,
          273.07,
          263.26,
          199.6,
          170.92,
          291.45,
          201.56,
          212.81,
          186.94,
          207.72,
          299.47,
          298.31,
          273.08,
          206.82,
          188.8,
          303.83,
          211.07,
          234.79,
          197.76,
          231.36,
          377.73,
          370.45,
          366.44,
          289.64,
          208.51,
          417.56,
          289.03,
          324.92,
          278.57,
          333.11,
          503.3,
          457.15,
          387.19,
          286.01,
          245.56,
          302,
          287.18,
          318.62,
          268.27,
          306.49,
          597.96,
          533.7,
          454.8,
          329.65,
          280.29,
          349.39,
          331.87,
          382.35,
          309.55,
          350.3,
          383.21,
          375.52,
          369.58,
          312.31,
          277.34,
          402.33,
          386.52,
          340.07,
          304.72,
          438.89,
          445.34,
          435.24,
          430.68,
          355.99,
          309.16,
          455.51,
          441.4,
          381.91,
          346.77,
          496.53
         ],
         "xaxis": "x",
         "y": [
          35.52567378529818,
          37.31438035022093,
          31.981629824989497,
          25.28729362521193,
          38.96214207825557,
          40.662553534122324,
          30.549790206793915,
          34.881589905013385,
          22.33495478299764,
          26.29300281053483,
          57.55260771837398,
          57.24831582708592,
          54.961125248486866,
          36.61632607302883,
          39.64594398038153,
          66.31464623393335,
          36.00376389672965,
          50.796346500495105,
          36.863192468783154,
          39.22709491303158,
          82.83040644860995,
          80.84045410752276,
          80.3387579611537,
          51.87895999273039,
          46.55321770163897,
          91.87940530566327,
          52.55272233650683,
          65.91765856837688,
          53.71165285585289,
          54.64790892820602,
          130.12156981852354,
          130.35291242915008,
          125.08895918801934,
          84.64149588774944,
          61.74467166576579,
          114.050386428324,
          107.16846204726468,
          71.72795835060671,
          97.5594353326567,
          80.29162193196959,
          169.0566838741471,
          167.60236603497452,
          164.1239072260738,
          113.56144513283846,
          79.10866151408419,
          151.21254765751627,
          137.9344581272204,
          103.47718296449528,
          112.71111763819238,
          109.31140515948945,
          213.93397917924875,
          210.7940008902771,
          189.9129641004526,
          157.20039230775473,
          108.08138060192005,
          179.5916712751719,
          183.61076697914575,
          131.84530992132758,
          148.00419020152952,
          144.27336963648744,
          234.6181362864826,
          229.47696493003053,
          238.60094480035391,
          171.79007778439438,
          118.42780889804351,
          217.88837938371788,
          199.0350271916881,
          164.96215826494335,
          177.60277176606124,
          185.42377824382334,
          288.0073607945857,
          304.4675017519728,
          275.545652981941,
          208.4524032227721,
          169.12619434456957,
          259.9278169950577,
          267.64999726166855,
          197.92437851078827,
          240.7533131837429,
          197.1415834365721,
          231.1485971240877,
          230.54727414855233,
          231.24489541233612,
          169.9192150845319,
          123.14382603683896,
          288.24224491505515,
          146.38820996470452,
          168.61033244319924,
          156.7541371614701,
          185.08253333546264,
          255.3303363377729,
          229.68266582200505,
          256.3837719651468,
          189.18027795652648,
          130.8489295120629,
          315.3270022851634,
          191.11521493855582,
          186.05695461937364,
          221.0753198583592,
          206.48914498961642,
          280.99762086382754,
          255.30136477614798,
          232.0698835220768,
          188.40954016182548,
          209.92688614089042,
          286.0176599583955,
          211.76198914048894,
          204.98912210791752,
          181.037906858518,
          202.1005043969525,
          308.15045070225176,
          302.10580563925595,
          276.24211839388647,
          232.15903963762406,
          150.71577239961925,
          328.8226817880589,
          233.89430865479187,
          271.78937561831805,
          208.39039628257228,
          253.75900423503288,
          255.87673844672707,
          247.3100930221139,
          228.77871564732743,
          171.34361925801545,
          186.35388631348394,
          271.7624035465988,
          166.60918210281352,
          193.07446957656418,
          160.52497436524243,
          184.7433643930633,
          281.0799825681998,
          270.69889644776623,
          250.6525803244524,
          186.70551069610667,
          190.15981835480432,
          295.58214904102135,
          181.87123955847392,
          208.66763511856368,
          172.55748635898613,
          202.25080461331402,
          307.768772002042,
          295.57324518578855,
          274.01199031394697,
          203.5529474465676,
          195.45129570849474,
          320.8874398478134,
          198.6188423265039,
          225.7463459729329,
          186.0755436650993,
          221.2437901459341,
          399.23340437010586,
          380.7246283542129,
          379.85108889298846,
          304.55326195236063,
          185.75316063423816,
          414.2995095832845,
          293.8037713905141,
          320.496573424342,
          293.31063542855674,
          335.9431067482537,
          485.3325920546406,
          439.24953464326677,
          404.0180815590329,
          285.8957504102576,
          234.70166057025028,
          307.58378645458515,
          290.07793425352133,
          328.0185611020145,
          268.4268170939878,
          300.72104763409686,
          558.2925500253918,
          502.8306881384533,
          464.5693575571645,
          333.4230799303217,
          259.11707129677313,
          352.3441187205492,
          337.4055958087238,
          376.0084388298952,
          309.2953877253565,
          352.5394747184797,
          386.89259069986394,
          379.70285044632533,
          386.7673624171699,
          298.71127842656654,
          309.30284468972025,
          403.04663223599084,
          390.67543861340437,
          323.6284257679025,
          295.75581148068284,
          458.2134962226695,
          446.304282718884,
          435.4856610737055,
          438.9212916529094,
          338.4402650788237,
          325.9199125484366,
          459.6913270009112,
          449.887462667563,
          363.8199606279769,
          328.2270353496598,
          521.3172819114228
         ],
         "yaxis": "y"
        },
        {
         "hovertemplate": "<b>OLS trendline</b><br>Predict_Value = 0.989557 * True_Value + 2.28123<br>R<sup>2</sup>=0.989557<br><br>True_Value=%{x}<br>Predict_Value=%{y} <b>(trend)</b><extra></extra>",
         "legendgroup": "",
         "marker": {
          "color": "#636efa",
          "symbol": "circle"
         },
         "mode": "lines",
         "name": "",
         "showlegend": false,
         "type": "scatter",
         "x": [
          27.758,
          28.312,
          28.651,
          28.658,
          31.562,
          33.932,
          36.586,
          36.917,
          37.653,
          38.067,
          40.571,
          41.175,
          42.308,
          43.48,
          43.72,
          45.892,
          50.19,
          52.085,
          52.747,
          55.768,
          56.24,
          56.416,
          58.438,
          59.59,
          60.319,
          61.969,
          67.287,
          74.66,
          75.418,
          75.822,
          79.714,
          82.431,
          83.859,
          84.426,
          87.548,
          94.006,
          96.484,
          108.34,
          109.77,
          110.36,
          112.97,
          113.25,
          114.38,
          121.5,
          121.71,
          123.41,
          124.21,
          124.67,
          125.27,
          138.12,
          138.58,
          140.91,
          145.9,
          148.63,
          153.97,
          157.41,
          160.83,
          161.08,
          162.29,
          164.2,
          164.32,
          165.62,
          166.58,
          166.75,
          166.94,
          167.68,
          167.99,
          168.68,
          169.17,
          170.92,
          172.49,
          173.57,
          175.15,
          175.74,
          177.63,
          178.13,
          179.11,
          179.25,
          181.6,
          181.64,
          184.01,
          186.94,
          188.8,
          189.76,
          191.9,
          194.69,
          195.67,
          197.76,
          199.17,
          199.57,
          199.6,
          201.29,
          201.49,
          201.56,
          203.34,
          205.49,
          205.87,
          206.82,
          207.35,
          207.72,
          208.51,
          208.86,
          210.6,
          211.07,
          211.69,
          212.81,
          216.32,
          217.7,
          221.21,
          221.22,
          222.47,
          223.74,
          225.15,
          226.33,
          227.46,
          229.42,
          231.36,
          234.79,
          237.41,
          239.12,
          240.17,
          240.36,
          241.57,
          243.24,
          244.07,
          245.1,
          245.56,
          247.02,
          249.65,
          253.92,
          254.05,
          257.09,
          257.92,
          263.26,
          268.27,
          270.26,
          273.07,
          273.08,
          277.34,
          278.57,
          279.75,
          280.29,
          280.9,
          284.59,
          286.01,
          286.77,
          287.18,
          289.03,
          289.64,
          291.45,
          298.31,
          299.47,
          302,
          303.43,
          303.83,
          304.72,
          306.49,
          308.95,
          309.05,
          309.16,
          309.55,
          312.31,
          314.36,
          318.62,
          324.92,
          329.65,
          331.87,
          333.11,
          340.07,
          341.27,
          346.77,
          349.39,
          350.3,
          355.78,
          355.99,
          366.44,
          369.58,
          370.45,
          373.11,
          375.52,
          377.73,
          381.91,
          382.35,
          383.21,
          386.52,
          387.19,
          402.33,
          417.56,
          430.68,
          435.24,
          438.89,
          441.4,
          445.34,
          454.8,
          455.51,
          457.15,
          496.53,
          503.3,
          533.7,
          597.96
         ],
         "xaxis": "x",
         "y": [
          29.74936201060374,
          30.29757674493942,
          30.633036663603313,
          30.63996356457868,
          33.51363791207115,
          35.85888867087181,
          38.48517369781568,
          38.81271715822202,
          39.54103131791708,
          39.95070803274555,
          42.42855946736027,
          43.02625206580567,
          44.147420466531905,
          45.30718160126371,
          45.54467534899036,
          47.69399376591655,
          51.94711096478797,
          53.822322014546316,
          54.477408935358994,
          57.466861484868204,
          57.93393252206395,
          58.10809460373015,
          60.10897942832719,
          61.24894941741511,
          61.97033667613481,
          63.60310619175553,
          68.86557181846523,
          76.16157766008435,
          76.91166207998769,
          77.31144322199422,
          81.16280016429472,
          83.85142730001685,
          85.26451509899042,
          85.82559407799464,
          88.91499191300547,
          95.30555284141676,
          97.7576757866944,
          109.48986692439094,
          110.90493383792888,
          111.48877263442357,
          114.07151714095089,
          114.34859317996532,
          115.46679290884495,
          122.51244075806892,
          122.72024778732973,
          124.40249516706017,
          125.19414099281566,
          125.64933734262509,
          126.24307171194171,
          138.95888278813945,
          139.41407913794887,
          141.71974760546175,
          146.6576384436117,
          149.35912982400234,
          154.6433657109203,
          158.04744276166895,
          161.43172866677372,
          161.67911798732231,
          162.8764822987775,
          164.76653670776875,
          164.88528358163208,
          166.1717080484848,
          167.1216830393914,
          167.28990777736442,
          167.47792366098136,
          168.2101960498052,
          168.51695880728545,
          169.19975333199957,
          169.6846364002748,
          171.41636164411494,
          172.96996657716014,
          174.03868844193005,
          175.60218894779717,
          176.18602774429186,
          178.05629100763923,
          178.55106964873642,
          179.52083578528692,
          179.65937380479411,
          181.98483341795088,
          182.02441570923867,
          184.36966646803933,
          187.26906930486888,
          189.10964584975042,
          190.059620840657,
          192.17727342455296,
          194.93813824187527,
          195.90790437842577,
          197.976079098212,
          199.37135486610606,
          199.76717777898384,
          199.79686449744966,
          201.46921630435816,
          201.66712776079706,
          201.73639677055064,
          203.49780873285664,
          205.62535688957453,
          206.00138865680842,
          206.94146807489304,
          207.46593343445608,
          207.832069628868,
          208.61381988180153,
          208.9601649305696,
          210.6819946015878,
          211.14708652421916,
          211.76061203917968,
          212.86891619523738,
          216.34226225573963,
          217.70785130516785,
          221.18119736567013,
          221.19109293849206,
          222.42803954123505,
          223.6847772896219,
          225.08005305751598,
          226.24773065050533,
          227.365930379385,
          229.30546265248594,
          231.22520377994306,
          234.61938525786974,
          237.21202533721902,
          238.9041682897714,
          239.94320343607546,
          240.13121931969243,
          241.3285836311476,
          242.98114429241224,
          243.80247683663356,
          244.82172083729375,
          245.27691718710318,
          246.72167081910698,
          249.3242064712782,
          253.54961606624815,
          253.67825851293344,
          256.6865126508043,
          257.50784519502565,
          262.7920810819436,
          267.74976306573745,
          269.71898205730423,
          272.4996380202704,
          272.5095335930924,
          276.7250476152404,
          277.9422030723395,
          279.1098806653289,
          279.64424159771386,
          280.2478715398524,
          283.89933791114964,
          285.3045092518657,
          286.0565727863334,
          286.4622912720331,
          288.29297224409265,
          288.89660218623123,
          290.68770086700306,
          297.4760638228565,
          298.623950270202,
          301.12753019415374,
          302.54259710769173,
          302.9384200205694,
          303.81912600172245,
          305.5706423912065,
          308.0049533054046,
          308.1039090336241,
          308.2127603346655,
          308.5986876747213,
          311.32986577357775,
          313.35845820207624,
          317.5739722242243,
          323.8081831020489,
          328.48878904682823,
          330.68560621329976,
          331.9126572432208,
          338.79997592729364,
          339.9874446659269,
          345.4300097179959,
          348.0226497973452,
          348.9231469241421,
          354.34592083056725,
          354.5537278598281,
          364.8946014587593,
          368.00181132484965,
          368.86272616035876,
          371.4949485309958,
          373.8797815810842,
          376.06670317473385,
          380.20305261430633,
          380.63845781847186,
          381.48947708115895,
          384.7649116852224,
          385.4279150642926,
          400.40981231671543,
          415.48076972453583,
          428.46376126692604,
          432.9761424737324,
          436.5880265537418,
          439.0718153320497,
          442.97067102389553,
          452.33188291345436,
          453.0344685838124,
          454.6573425266111,
          493.62610829942565,
          500.3254110998816,
          530.4079524785907,
          593.9969034324013
         ],
         "yaxis": "y"
        }
       ],
       "layout": {
        "height": 400,
        "legend": {
         "tracegroupgap": 0
        },
        "margin": {
         "b": 10,
         "l": 10,
         "r": 10,
         "t": 20
        },
        "template": {
         "data": {
          "bar": [
           {
            "error_x": {
             "color": "#2a3f5f"
            },
            "error_y": {
             "color": "#2a3f5f"
            },
            "marker": {
             "line": {
              "color": "#E5ECF6",
              "width": 0.5
             },
             "pattern": {
              "fillmode": "overlay",
              "size": 10,
              "solidity": 0.2
             }
            },
            "type": "bar"
           }
          ],
          "barpolar": [
           {
            "marker": {
             "line": {
              "color": "#E5ECF6",
              "width": 0.5
             },
             "pattern": {
              "fillmode": "overlay",
              "size": 10,
              "solidity": 0.2
             }
            },
            "type": "barpolar"
           }
          ],
          "carpet": [
           {
            "aaxis": {
             "endlinecolor": "#2a3f5f",
             "gridcolor": "white",
             "linecolor": "white",
             "minorgridcolor": "white",
             "startlinecolor": "#2a3f5f"
            },
            "baxis": {
             "endlinecolor": "#2a3f5f",
             "gridcolor": "white",
             "linecolor": "white",
             "minorgridcolor": "white",
             "startlinecolor": "#2a3f5f"
            },
            "type": "carpet"
           }
          ],
          "choropleth": [
           {
            "colorbar": {
             "outlinewidth": 0,
             "ticks": ""
            },
            "type": "choropleth"
           }
          ],
          "contour": [
           {
            "colorbar": {
             "outlinewidth": 0,
             "ticks": ""
            },
            "colorscale": [
             [
              0,
              "#0d0887"
             ],
             [
              0.1111111111111111,
              "#46039f"
             ],
             [
              0.2222222222222222,
              "#7201a8"
             ],
             [
              0.3333333333333333,
              "#9c179e"
             ],
             [
              0.4444444444444444,
              "#bd3786"
             ],
             [
              0.5555555555555556,
              "#d8576b"
             ],
             [
              0.6666666666666666,
              "#ed7953"
             ],
             [
              0.7777777777777778,
              "#fb9f3a"
             ],
             [
              0.8888888888888888,
              "#fdca26"
             ],
             [
              1,
              "#f0f921"
             ]
            ],
            "type": "contour"
           }
          ],
          "contourcarpet": [
           {
            "colorbar": {
             "outlinewidth": 0,
             "ticks": ""
            },
            "type": "contourcarpet"
           }
          ],
          "heatmap": [
           {
            "colorbar": {
             "outlinewidth": 0,
             "ticks": ""
            },
            "colorscale": [
             [
              0,
              "#0d0887"
             ],
             [
              0.1111111111111111,
              "#46039f"
             ],
             [
              0.2222222222222222,
              "#7201a8"
             ],
             [
              0.3333333333333333,
              "#9c179e"
             ],
             [
              0.4444444444444444,
              "#bd3786"
             ],
             [
              0.5555555555555556,
              "#d8576b"
             ],
             [
              0.6666666666666666,
              "#ed7953"
             ],
             [
              0.7777777777777778,
              "#fb9f3a"
             ],
             [
              0.8888888888888888,
              "#fdca26"
             ],
             [
              1,
              "#f0f921"
             ]
            ],
            "type": "heatmap"
           }
          ],
          "heatmapgl": [
           {
            "colorbar": {
             "outlinewidth": 0,
             "ticks": ""
            },
            "colorscale": [
             [
              0,
              "#0d0887"
             ],
             [
              0.1111111111111111,
              "#46039f"
             ],
             [
              0.2222222222222222,
              "#7201a8"
             ],
             [
              0.3333333333333333,
              "#9c179e"
             ],
             [
              0.4444444444444444,
              "#bd3786"
             ],
             [
              0.5555555555555556,
              "#d8576b"
             ],
             [
              0.6666666666666666,
              "#ed7953"
             ],
             [
              0.7777777777777778,
              "#fb9f3a"
             ],
             [
              0.8888888888888888,
              "#fdca26"
             ],
             [
              1,
              "#f0f921"
             ]
            ],
            "type": "heatmapgl"
           }
          ],
          "histogram": [
           {
            "marker": {
             "pattern": {
              "fillmode": "overlay",
              "size": 10,
              "solidity": 0.2
             }
            },
            "type": "histogram"
           }
          ],
          "histogram2d": [
           {
            "colorbar": {
             "outlinewidth": 0,
             "ticks": ""
            },
            "colorscale": [
             [
              0,
              "#0d0887"
             ],
             [
              0.1111111111111111,
              "#46039f"
             ],
             [
              0.2222222222222222,
              "#7201a8"
             ],
             [
              0.3333333333333333,
              "#9c179e"
             ],
             [
              0.4444444444444444,
              "#bd3786"
             ],
             [
              0.5555555555555556,
              "#d8576b"
             ],
             [
              0.6666666666666666,
              "#ed7953"
             ],
             [
              0.7777777777777778,
              "#fb9f3a"
             ],
             [
              0.8888888888888888,
              "#fdca26"
             ],
             [
              1,
              "#f0f921"
             ]
            ],
            "type": "histogram2d"
           }
          ],
          "histogram2dcontour": [
           {
            "colorbar": {
             "outlinewidth": 0,
             "ticks": ""
            },
            "colorscale": [
             [
              0,
              "#0d0887"
             ],
             [
              0.1111111111111111,
              "#46039f"
             ],
             [
              0.2222222222222222,
              "#7201a8"
             ],
             [
              0.3333333333333333,
              "#9c179e"
             ],
             [
              0.4444444444444444,
              "#bd3786"
             ],
             [
              0.5555555555555556,
              "#d8576b"
             ],
             [
              0.6666666666666666,
              "#ed7953"
             ],
             [
              0.7777777777777778,
              "#fb9f3a"
             ],
             [
              0.8888888888888888,
              "#fdca26"
             ],
             [
              1,
              "#f0f921"
             ]
            ],
            "type": "histogram2dcontour"
           }
          ],
          "mesh3d": [
           {
            "colorbar": {
             "outlinewidth": 0,
             "ticks": ""
            },
            "type": "mesh3d"
           }
          ],
          "parcoords": [
           {
            "line": {
             "colorbar": {
              "outlinewidth": 0,
              "ticks": ""
             }
            },
            "type": "parcoords"
           }
          ],
          "pie": [
           {
            "automargin": true,
            "type": "pie"
           }
          ],
          "scatter": [
           {
            "marker": {
             "colorbar": {
              "outlinewidth": 0,
              "ticks": ""
             }
            },
            "type": "scatter"
           }
          ],
          "scatter3d": [
           {
            "line": {
             "colorbar": {
              "outlinewidth": 0,
              "ticks": ""
             }
            },
            "marker": {
             "colorbar": {
              "outlinewidth": 0,
              "ticks": ""
             }
            },
            "type": "scatter3d"
           }
          ],
          "scattercarpet": [
           {
            "marker": {
             "colorbar": {
              "outlinewidth": 0,
              "ticks": ""
             }
            },
            "type": "scattercarpet"
           }
          ],
          "scattergeo": [
           {
            "marker": {
             "colorbar": {
              "outlinewidth": 0,
              "ticks": ""
             }
            },
            "type": "scattergeo"
           }
          ],
          "scattergl": [
           {
            "marker": {
             "colorbar": {
              "outlinewidth": 0,
              "ticks": ""
             }
            },
            "type": "scattergl"
           }
          ],
          "scattermapbox": [
           {
            "marker": {
             "colorbar": {
              "outlinewidth": 0,
              "ticks": ""
             }
            },
            "type": "scattermapbox"
           }
          ],
          "scatterpolar": [
           {
            "marker": {
             "colorbar": {
              "outlinewidth": 0,
              "ticks": ""
             }
            },
            "type": "scatterpolar"
           }
          ],
          "scatterpolargl": [
           {
            "marker": {
             "colorbar": {
              "outlinewidth": 0,
              "ticks": ""
             }
            },
            "type": "scatterpolargl"
           }
          ],
          "scatterternary": [
           {
            "marker": {
             "colorbar": {
              "outlinewidth": 0,
              "ticks": ""
             }
            },
            "type": "scatterternary"
           }
          ],
          "surface": [
           {
            "colorbar": {
             "outlinewidth": 0,
             "ticks": ""
            },
            "colorscale": [
             [
              0,
              "#0d0887"
             ],
             [
              0.1111111111111111,
              "#46039f"
             ],
             [
              0.2222222222222222,
              "#7201a8"
             ],
             [
              0.3333333333333333,
              "#9c179e"
             ],
             [
              0.4444444444444444,
              "#bd3786"
             ],
             [
              0.5555555555555556,
              "#d8576b"
             ],
             [
              0.6666666666666666,
              "#ed7953"
             ],
             [
              0.7777777777777778,
              "#fb9f3a"
             ],
             [
              0.8888888888888888,
              "#fdca26"
             ],
             [
              1,
              "#f0f921"
             ]
            ],
            "type": "surface"
           }
          ],
          "table": [
           {
            "cells": {
             "fill": {
              "color": "#EBF0F8"
             },
             "line": {
              "color": "white"
             }
            },
            "header": {
             "fill": {
              "color": "#C8D4E3"
             },
             "line": {
              "color": "white"
             }
            },
            "type": "table"
           }
          ]
         },
         "layout": {
          "annotationdefaults": {
           "arrowcolor": "#2a3f5f",
           "arrowhead": 0,
           "arrowwidth": 1
          },
          "autotypenumbers": "strict",
          "coloraxis": {
           "colorbar": {
            "outlinewidth": 0,
            "ticks": ""
           }
          },
          "colorscale": {
           "diverging": [
            [
             0,
             "#8e0152"
            ],
            [
             0.1,
             "#c51b7d"
            ],
            [
             0.2,
             "#de77ae"
            ],
            [
             0.3,
             "#f1b6da"
            ],
            [
             0.4,
             "#fde0ef"
            ],
            [
             0.5,
             "#f7f7f7"
            ],
            [
             0.6,
             "#e6f5d0"
            ],
            [
             0.7,
             "#b8e186"
            ],
            [
             0.8,
             "#7fbc41"
            ],
            [
             0.9,
             "#4d9221"
            ],
            [
             1,
             "#276419"
            ]
           ],
           "sequential": [
            [
             0,
             "#0d0887"
            ],
            [
             0.1111111111111111,
             "#46039f"
            ],
            [
             0.2222222222222222,
             "#7201a8"
            ],
            [
             0.3333333333333333,
             "#9c179e"
            ],
            [
             0.4444444444444444,
             "#bd3786"
            ],
            [
             0.5555555555555556,
             "#d8576b"
            ],
            [
             0.6666666666666666,
             "#ed7953"
            ],
            [
             0.7777777777777778,
             "#fb9f3a"
            ],
            [
             0.8888888888888888,
             "#fdca26"
            ],
            [
             1,
             "#f0f921"
            ]
           ],
           "sequentialminus": [
            [
             0,
             "#0d0887"
            ],
            [
             0.1111111111111111,
             "#46039f"
            ],
            [
             0.2222222222222222,
             "#7201a8"
            ],
            [
             0.3333333333333333,
             "#9c179e"
            ],
            [
             0.4444444444444444,
             "#bd3786"
            ],
            [
             0.5555555555555556,
             "#d8576b"
            ],
            [
             0.6666666666666666,
             "#ed7953"
            ],
            [
             0.7777777777777778,
             "#fb9f3a"
            ],
            [
             0.8888888888888888,
             "#fdca26"
            ],
            [
             1,
             "#f0f921"
            ]
           ]
          },
          "colorway": [
           "#636efa",
           "#EF553B",
           "#00cc96",
           "#ab63fa",
           "#FFA15A",
           "#19d3f3",
           "#FF6692",
           "#B6E880",
           "#FF97FF",
           "#FECB52"
          ],
          "font": {
           "color": "#2a3f5f"
          },
          "geo": {
           "bgcolor": "white",
           "lakecolor": "white",
           "landcolor": "#E5ECF6",
           "showlakes": true,
           "showland": true,
           "subunitcolor": "white"
          },
          "hoverlabel": {
           "align": "left"
          },
          "hovermode": "closest",
          "mapbox": {
           "style": "light"
          },
          "paper_bgcolor": "white",
          "plot_bgcolor": "#E5ECF6",
          "polar": {
           "angularaxis": {
            "gridcolor": "white",
            "linecolor": "white",
            "ticks": ""
           },
           "bgcolor": "#E5ECF6",
           "radialaxis": {
            "gridcolor": "white",
            "linecolor": "white",
            "ticks": ""
           }
          },
          "scene": {
           "xaxis": {
            "backgroundcolor": "#E5ECF6",
            "gridcolor": "white",
            "gridwidth": 2,
            "linecolor": "white",
            "showbackground": true,
            "ticks": "",
            "zerolinecolor": "white"
           },
           "yaxis": {
            "backgroundcolor": "#E5ECF6",
            "gridcolor": "white",
            "gridwidth": 2,
            "linecolor": "white",
            "showbackground": true,
            "ticks": "",
            "zerolinecolor": "white"
           },
           "zaxis": {
            "backgroundcolor": "#E5ECF6",
            "gridcolor": "white",
            "gridwidth": 2,
            "linecolor": "white",
            "showbackground": true,
            "ticks": "",
            "zerolinecolor": "white"
           }
          },
          "shapedefaults": {
           "line": {
            "color": "#2a3f5f"
           }
          },
          "ternary": {
           "aaxis": {
            "gridcolor": "white",
            "linecolor": "white",
            "ticks": ""
           },
           "baxis": {
            "gridcolor": "white",
            "linecolor": "white",
            "ticks": ""
           },
           "bgcolor": "#E5ECF6",
           "caxis": {
            "gridcolor": "white",
            "linecolor": "white",
            "ticks": ""
           }
          },
          "title": {
           "x": 0.05
          },
          "xaxis": {
           "automargin": true,
           "gridcolor": "white",
           "linecolor": "white",
           "ticks": "",
           "title": {
            "standoff": 15
           },
           "zerolinecolor": "white",
           "zerolinewidth": 2
          },
          "yaxis": {
           "automargin": true,
           "gridcolor": "white",
           "linecolor": "white",
           "ticks": "",
           "title": {
            "standoff": 15
           },
           "zerolinecolor": "white",
           "zerolinewidth": 2
          }
         }
        },
        "title": {
         "text": "Train data"
        },
        "width": 500,
        "xaxis": {
         "anchor": "y",
         "domain": [
          0,
          1
         ],
         "title": {
          "text": "True_Value"
         }
        },
        "yaxis": {
         "anchor": "x",
         "domain": [
          0,
          1
         ],
         "title": {
          "text": "Predict_Value"
         }
        }
       }
      }
     },
     "metadata": {},
     "output_type": "display_data"
    },
    {
     "data": {
      "application/vnd.plotly.v1+json": {
       "config": {
        "plotlyServerURL": "https://plot.ly"
       },
       "data": [
        {
         "hovertemplate": "True_Value=%{x}<br>Predict_Value=%{y}<extra></extra>",
         "legendgroup": "",
         "marker": {
          "color": "#636efa",
          "symbol": "circle"
         },
         "mode": "markers",
         "name": "",
         "orientation": "v",
         "showlegend": false,
         "type": "scatter",
         "x": [
          415.07,
          353.95,
          349.98,
          360.13,
          319.91,
          316.3,
          573.94,
          472.77,
          310.43,
          463.3,
          353.02,
          269.68,
          553.55,
          371.71,
          294.92,
          439.93,
          332.21,
          261.74,
          375.78,
          271.48,
          224.01,
          292.97,
          221.05,
          180.91,
          172.66,
          129.58,
          126.94,
          98.37,
          100.67,
          98.37
         ],
         "xaxis": "x",
         "y": [
          415.855664053189,
          342.9814205417546,
          351.6841110258532,
          359.415062658908,
          305.76097630642005,
          318.09254818215834,
          521.0697983838314,
          470.29733873467535,
          319.67805840633184,
          432.6912693880823,
          348.2421788046724,
          266.2428668443422,
          460.65090858980324,
          387.20240619598883,
          295.724368182165,
          395.5125658071338,
          322.0880025667806,
          269.87818538693875,
          331.8107040927197,
          267.0566350297832,
          222.6424557335942,
          274.0510236277835,
          217.9674487422638,
          181.34890732972787,
          164.4323701710532,
          134.1565246299499,
          129.71798170454798,
          125.78511080205931,
          102.4651527249836,
          99.741216512971
         ],
         "yaxis": "y"
        },
        {
         "hovertemplate": "<b>OLS trendline</b><br>Predict_Value = 0.878433 * True_Value + 27.8607<br>R<sup>2</sup>=0.976588<br><br>True_Value=%{x}<br>Predict_Value=%{y} <b>(trend)</b><extra></extra>",
         "legendgroup": "",
         "marker": {
          "color": "#636efa",
          "symbol": "circle"
         },
         "mode": "lines",
         "name": "",
         "showlegend": false,
         "type": "scatter",
         "x": [
          98.37,
          98.37,
          100.67,
          126.94,
          129.58,
          172.66,
          180.91,
          221.05,
          224.01,
          261.74,
          269.68,
          271.48,
          292.97,
          294.92,
          310.43,
          316.3,
          319.91,
          332.21,
          349.98,
          353.02,
          353.95,
          360.13,
          371.71,
          375.78,
          415.07,
          439.93,
          463.3,
          472.77,
          553.55,
          573.94
         ],
         "xaxis": "x",
         "y": [
          114.2721749050963,
          114.2721749050963,
          116.29257054065387,
          139.36900243026136,
          141.68806524672743,
          179.53095393360564,
          186.77802523506213,
          222.0383212399668,
          224.63848257964085,
          257.78175533163517,
          264.75651243873386,
          266.33769163177897,
          285.21521433096683,
          286.92815845676563,
          300.5526525035038,
          305.7090535386007,
          308.8801962535411,
          319.6849207393489,
          335.2946731062437,
          337.9651090767197,
          338.782051659793,
          344.2107668892477,
          354.3830196978375,
          357.95824153988934,
          392.47186959252275,
          414.309711114245,
          434.83868763727986,
          443.15744705846686,
          514.1172555107886,
          532.028502036449
         ],
         "yaxis": "y"
        }
       ],
       "layout": {
        "height": 400,
        "legend": {
         "tracegroupgap": 0
        },
        "margin": {
         "b": 10,
         "l": 10,
         "r": 10,
         "t": 20
        },
        "template": {
         "data": {
          "bar": [
           {
            "error_x": {
             "color": "#2a3f5f"
            },
            "error_y": {
             "color": "#2a3f5f"
            },
            "marker": {
             "line": {
              "color": "#E5ECF6",
              "width": 0.5
             },
             "pattern": {
              "fillmode": "overlay",
              "size": 10,
              "solidity": 0.2
             }
            },
            "type": "bar"
           }
          ],
          "barpolar": [
           {
            "marker": {
             "line": {
              "color": "#E5ECF6",
              "width": 0.5
             },
             "pattern": {
              "fillmode": "overlay",
              "size": 10,
              "solidity": 0.2
             }
            },
            "type": "barpolar"
           }
          ],
          "carpet": [
           {
            "aaxis": {
             "endlinecolor": "#2a3f5f",
             "gridcolor": "white",
             "linecolor": "white",
             "minorgridcolor": "white",
             "startlinecolor": "#2a3f5f"
            },
            "baxis": {
             "endlinecolor": "#2a3f5f",
             "gridcolor": "white",
             "linecolor": "white",
             "minorgridcolor": "white",
             "startlinecolor": "#2a3f5f"
            },
            "type": "carpet"
           }
          ],
          "choropleth": [
           {
            "colorbar": {
             "outlinewidth": 0,
             "ticks": ""
            },
            "type": "choropleth"
           }
          ],
          "contour": [
           {
            "colorbar": {
             "outlinewidth": 0,
             "ticks": ""
            },
            "colorscale": [
             [
              0,
              "#0d0887"
             ],
             [
              0.1111111111111111,
              "#46039f"
             ],
             [
              0.2222222222222222,
              "#7201a8"
             ],
             [
              0.3333333333333333,
              "#9c179e"
             ],
             [
              0.4444444444444444,
              "#bd3786"
             ],
             [
              0.5555555555555556,
              "#d8576b"
             ],
             [
              0.6666666666666666,
              "#ed7953"
             ],
             [
              0.7777777777777778,
              "#fb9f3a"
             ],
             [
              0.8888888888888888,
              "#fdca26"
             ],
             [
              1,
              "#f0f921"
             ]
            ],
            "type": "contour"
           }
          ],
          "contourcarpet": [
           {
            "colorbar": {
             "outlinewidth": 0,
             "ticks": ""
            },
            "type": "contourcarpet"
           }
          ],
          "heatmap": [
           {
            "colorbar": {
             "outlinewidth": 0,
             "ticks": ""
            },
            "colorscale": [
             [
              0,
              "#0d0887"
             ],
             [
              0.1111111111111111,
              "#46039f"
             ],
             [
              0.2222222222222222,
              "#7201a8"
             ],
             [
              0.3333333333333333,
              "#9c179e"
             ],
             [
              0.4444444444444444,
              "#bd3786"
             ],
             [
              0.5555555555555556,
              "#d8576b"
             ],
             [
              0.6666666666666666,
              "#ed7953"
             ],
             [
              0.7777777777777778,
              "#fb9f3a"
             ],
             [
              0.8888888888888888,
              "#fdca26"
             ],
             [
              1,
              "#f0f921"
             ]
            ],
            "type": "heatmap"
           }
          ],
          "heatmapgl": [
           {
            "colorbar": {
             "outlinewidth": 0,
             "ticks": ""
            },
            "colorscale": [
             [
              0,
              "#0d0887"
             ],
             [
              0.1111111111111111,
              "#46039f"
             ],
             [
              0.2222222222222222,
              "#7201a8"
             ],
             [
              0.3333333333333333,
              "#9c179e"
             ],
             [
              0.4444444444444444,
              "#bd3786"
             ],
             [
              0.5555555555555556,
              "#d8576b"
             ],
             [
              0.6666666666666666,
              "#ed7953"
             ],
             [
              0.7777777777777778,
              "#fb9f3a"
             ],
             [
              0.8888888888888888,
              "#fdca26"
             ],
             [
              1,
              "#f0f921"
             ]
            ],
            "type": "heatmapgl"
           }
          ],
          "histogram": [
           {
            "marker": {
             "pattern": {
              "fillmode": "overlay",
              "size": 10,
              "solidity": 0.2
             }
            },
            "type": "histogram"
           }
          ],
          "histogram2d": [
           {
            "colorbar": {
             "outlinewidth": 0,
             "ticks": ""
            },
            "colorscale": [
             [
              0,
              "#0d0887"
             ],
             [
              0.1111111111111111,
              "#46039f"
             ],
             [
              0.2222222222222222,
              "#7201a8"
             ],
             [
              0.3333333333333333,
              "#9c179e"
             ],
             [
              0.4444444444444444,
              "#bd3786"
             ],
             [
              0.5555555555555556,
              "#d8576b"
             ],
             [
              0.6666666666666666,
              "#ed7953"
             ],
             [
              0.7777777777777778,
              "#fb9f3a"
             ],
             [
              0.8888888888888888,
              "#fdca26"
             ],
             [
              1,
              "#f0f921"
             ]
            ],
            "type": "histogram2d"
           }
          ],
          "histogram2dcontour": [
           {
            "colorbar": {
             "outlinewidth": 0,
             "ticks": ""
            },
            "colorscale": [
             [
              0,
              "#0d0887"
             ],
             [
              0.1111111111111111,
              "#46039f"
             ],
             [
              0.2222222222222222,
              "#7201a8"
             ],
             [
              0.3333333333333333,
              "#9c179e"
             ],
             [
              0.4444444444444444,
              "#bd3786"
             ],
             [
              0.5555555555555556,
              "#d8576b"
             ],
             [
              0.6666666666666666,
              "#ed7953"
             ],
             [
              0.7777777777777778,
              "#fb9f3a"
             ],
             [
              0.8888888888888888,
              "#fdca26"
             ],
             [
              1,
              "#f0f921"
             ]
            ],
            "type": "histogram2dcontour"
           }
          ],
          "mesh3d": [
           {
            "colorbar": {
             "outlinewidth": 0,
             "ticks": ""
            },
            "type": "mesh3d"
           }
          ],
          "parcoords": [
           {
            "line": {
             "colorbar": {
              "outlinewidth": 0,
              "ticks": ""
             }
            },
            "type": "parcoords"
           }
          ],
          "pie": [
           {
            "automargin": true,
            "type": "pie"
           }
          ],
          "scatter": [
           {
            "marker": {
             "colorbar": {
              "outlinewidth": 0,
              "ticks": ""
             }
            },
            "type": "scatter"
           }
          ],
          "scatter3d": [
           {
            "line": {
             "colorbar": {
              "outlinewidth": 0,
              "ticks": ""
             }
            },
            "marker": {
             "colorbar": {
              "outlinewidth": 0,
              "ticks": ""
             }
            },
            "type": "scatter3d"
           }
          ],
          "scattercarpet": [
           {
            "marker": {
             "colorbar": {
              "outlinewidth": 0,
              "ticks": ""
             }
            },
            "type": "scattercarpet"
           }
          ],
          "scattergeo": [
           {
            "marker": {
             "colorbar": {
              "outlinewidth": 0,
              "ticks": ""
             }
            },
            "type": "scattergeo"
           }
          ],
          "scattergl": [
           {
            "marker": {
             "colorbar": {
              "outlinewidth": 0,
              "ticks": ""
             }
            },
            "type": "scattergl"
           }
          ],
          "scattermapbox": [
           {
            "marker": {
             "colorbar": {
              "outlinewidth": 0,
              "ticks": ""
             }
            },
            "type": "scattermapbox"
           }
          ],
          "scatterpolar": [
           {
            "marker": {
             "colorbar": {
              "outlinewidth": 0,
              "ticks": ""
             }
            },
            "type": "scatterpolar"
           }
          ],
          "scatterpolargl": [
           {
            "marker": {
             "colorbar": {
              "outlinewidth": 0,
              "ticks": ""
             }
            },
            "type": "scatterpolargl"
           }
          ],
          "scatterternary": [
           {
            "marker": {
             "colorbar": {
              "outlinewidth": 0,
              "ticks": ""
             }
            },
            "type": "scatterternary"
           }
          ],
          "surface": [
           {
            "colorbar": {
             "outlinewidth": 0,
             "ticks": ""
            },
            "colorscale": [
             [
              0,
              "#0d0887"
             ],
             [
              0.1111111111111111,
              "#46039f"
             ],
             [
              0.2222222222222222,
              "#7201a8"
             ],
             [
              0.3333333333333333,
              "#9c179e"
             ],
             [
              0.4444444444444444,
              "#bd3786"
             ],
             [
              0.5555555555555556,
              "#d8576b"
             ],
             [
              0.6666666666666666,
              "#ed7953"
             ],
             [
              0.7777777777777778,
              "#fb9f3a"
             ],
             [
              0.8888888888888888,
              "#fdca26"
             ],
             [
              1,
              "#f0f921"
             ]
            ],
            "type": "surface"
           }
          ],
          "table": [
           {
            "cells": {
             "fill": {
              "color": "#EBF0F8"
             },
             "line": {
              "color": "white"
             }
            },
            "header": {
             "fill": {
              "color": "#C8D4E3"
             },
             "line": {
              "color": "white"
             }
            },
            "type": "table"
           }
          ]
         },
         "layout": {
          "annotationdefaults": {
           "arrowcolor": "#2a3f5f",
           "arrowhead": 0,
           "arrowwidth": 1
          },
          "autotypenumbers": "strict",
          "coloraxis": {
           "colorbar": {
            "outlinewidth": 0,
            "ticks": ""
           }
          },
          "colorscale": {
           "diverging": [
            [
             0,
             "#8e0152"
            ],
            [
             0.1,
             "#c51b7d"
            ],
            [
             0.2,
             "#de77ae"
            ],
            [
             0.3,
             "#f1b6da"
            ],
            [
             0.4,
             "#fde0ef"
            ],
            [
             0.5,
             "#f7f7f7"
            ],
            [
             0.6,
             "#e6f5d0"
            ],
            [
             0.7,
             "#b8e186"
            ],
            [
             0.8,
             "#7fbc41"
            ],
            [
             0.9,
             "#4d9221"
            ],
            [
             1,
             "#276419"
            ]
           ],
           "sequential": [
            [
             0,
             "#0d0887"
            ],
            [
             0.1111111111111111,
             "#46039f"
            ],
            [
             0.2222222222222222,
             "#7201a8"
            ],
            [
             0.3333333333333333,
             "#9c179e"
            ],
            [
             0.4444444444444444,
             "#bd3786"
            ],
            [
             0.5555555555555556,
             "#d8576b"
            ],
            [
             0.6666666666666666,
             "#ed7953"
            ],
            [
             0.7777777777777778,
             "#fb9f3a"
            ],
            [
             0.8888888888888888,
             "#fdca26"
            ],
            [
             1,
             "#f0f921"
            ]
           ],
           "sequentialminus": [
            [
             0,
             "#0d0887"
            ],
            [
             0.1111111111111111,
             "#46039f"
            ],
            [
             0.2222222222222222,
             "#7201a8"
            ],
            [
             0.3333333333333333,
             "#9c179e"
            ],
            [
             0.4444444444444444,
             "#bd3786"
            ],
            [
             0.5555555555555556,
             "#d8576b"
            ],
            [
             0.6666666666666666,
             "#ed7953"
            ],
            [
             0.7777777777777778,
             "#fb9f3a"
            ],
            [
             0.8888888888888888,
             "#fdca26"
            ],
            [
             1,
             "#f0f921"
            ]
           ]
          },
          "colorway": [
           "#636efa",
           "#EF553B",
           "#00cc96",
           "#ab63fa",
           "#FFA15A",
           "#19d3f3",
           "#FF6692",
           "#B6E880",
           "#FF97FF",
           "#FECB52"
          ],
          "font": {
           "color": "#2a3f5f"
          },
          "geo": {
           "bgcolor": "white",
           "lakecolor": "white",
           "landcolor": "#E5ECF6",
           "showlakes": true,
           "showland": true,
           "subunitcolor": "white"
          },
          "hoverlabel": {
           "align": "left"
          },
          "hovermode": "closest",
          "mapbox": {
           "style": "light"
          },
          "paper_bgcolor": "white",
          "plot_bgcolor": "#E5ECF6",
          "polar": {
           "angularaxis": {
            "gridcolor": "white",
            "linecolor": "white",
            "ticks": ""
           },
           "bgcolor": "#E5ECF6",
           "radialaxis": {
            "gridcolor": "white",
            "linecolor": "white",
            "ticks": ""
           }
          },
          "scene": {
           "xaxis": {
            "backgroundcolor": "#E5ECF6",
            "gridcolor": "white",
            "gridwidth": 2,
            "linecolor": "white",
            "showbackground": true,
            "ticks": "",
            "zerolinecolor": "white"
           },
           "yaxis": {
            "backgroundcolor": "#E5ECF6",
            "gridcolor": "white",
            "gridwidth": 2,
            "linecolor": "white",
            "showbackground": true,
            "ticks": "",
            "zerolinecolor": "white"
           },
           "zaxis": {
            "backgroundcolor": "#E5ECF6",
            "gridcolor": "white",
            "gridwidth": 2,
            "linecolor": "white",
            "showbackground": true,
            "ticks": "",
            "zerolinecolor": "white"
           }
          },
          "shapedefaults": {
           "line": {
            "color": "#2a3f5f"
           }
          },
          "ternary": {
           "aaxis": {
            "gridcolor": "white",
            "linecolor": "white",
            "ticks": ""
           },
           "baxis": {
            "gridcolor": "white",
            "linecolor": "white",
            "ticks": ""
           },
           "bgcolor": "#E5ECF6",
           "caxis": {
            "gridcolor": "white",
            "linecolor": "white",
            "ticks": ""
           }
          },
          "title": {
           "x": 0.05
          },
          "xaxis": {
           "automargin": true,
           "gridcolor": "white",
           "linecolor": "white",
           "ticks": "",
           "title": {
            "standoff": 15
           },
           "zerolinecolor": "white",
           "zerolinewidth": 2
          },
          "yaxis": {
           "automargin": true,
           "gridcolor": "white",
           "linecolor": "white",
           "ticks": "",
           "title": {
            "standoff": 15
           },
           "zerolinecolor": "white",
           "zerolinewidth": 2
          }
         }
        },
        "title": {
         "text": "Test data"
        },
        "width": 500,
        "xaxis": {
         "anchor": "y",
         "domain": [
          0,
          1
         ],
         "title": {
          "text": "True_Value"
         }
        },
        "yaxis": {
         "anchor": "x",
         "domain": [
          0,
          1
         ],
         "title": {
          "text": "Predict_Value"
         }
        }
       }
      }
     },
     "metadata": {},
     "output_type": "display_data"
    },
    {
     "name": "stdout",
     "output_type": "stream",
     "text": [
      "    True_Value  Predict_Value\n",
      "0       415.07     415.855664\n",
      "1       353.95     342.981421\n",
      "2       349.98     351.684111\n",
      "3       360.13     359.415063\n",
      "4       319.91     305.760976\n",
      "5       316.30     318.092548\n",
      "6       573.94     521.069798\n",
      "7       472.77     470.297339\n",
      "8       310.43     319.678058\n",
      "9       463.30     432.691269\n",
      "10      353.02     348.242179\n",
      "11      269.68     266.242867\n",
      "12      553.55     460.650909\n",
      "13      371.71     387.202406\n",
      "14      294.92     295.724368\n",
      "15      439.93     395.512566\n",
      "16      332.21     322.088003\n",
      "17      261.74     269.878185\n",
      "18      375.78     331.810704\n",
      "19      271.48     267.056635\n",
      "20      224.01     222.642456\n",
      "21      292.97     274.051024\n",
      "22      221.05     217.967449\n",
      "23      180.91     181.348907\n",
      "24      172.66     164.432370\n",
      "25      129.58     134.156525\n",
      "26      126.94     129.717982\n",
      "27       98.37     125.785111\n",
      "28      100.67     102.465153\n",
      "29       98.37      99.741217\n",
      "Residual sum of squares for train (MSE): 143.37\n",
      "R2-score for train: 0.99\n",
      "Residual sum of squares for test (MSE): 612.47\n",
      "R2-score for test: 0.96\n",
      "Coefficent shape: (1, 21)\n"
     ]
    },
    {
     "data": {
      "text/plain": [
       "(array([ 35.52567379,  37.31438035,  31.98162982,  25.28729363,\n",
       "         38.96214208,  40.66255353,  30.54979021,  34.88158991,\n",
       "         22.33495478,  26.29300281,  57.55260772,  57.24831583,\n",
       "         54.96112525,  36.61632607,  39.64594398,  66.31464623,\n",
       "         36.0037639 ,  50.7963465 ,  36.86319247,  39.22709491,\n",
       "         82.83040645,  80.84045411,  80.33875796,  51.87895999,\n",
       "         46.5532177 ,  91.87940531,  52.55272234,  65.91765857,\n",
       "         53.71165286,  54.64790893, 130.12156982, 130.35291243,\n",
       "        125.08895919,  84.64149589,  61.74467167, 114.05038643,\n",
       "        107.16846205,  71.72795835,  97.55943533,  80.29162193,\n",
       "        169.05668387, 167.60236603, 164.12390723, 113.56144513,\n",
       "         79.10866151, 151.21254766, 137.93445813, 103.47718296,\n",
       "        112.71111764, 109.31140516, 213.93397918, 210.79400089,\n",
       "        189.9129641 , 157.20039231, 108.0813806 , 179.59167128,\n",
       "        183.61076698, 131.84530992, 148.0041902 , 144.27336964,\n",
       "        234.61813629, 229.47696493, 238.6009448 , 171.79007778,\n",
       "        118.4278089 , 217.88837938, 199.03502719, 164.96215826,\n",
       "        177.60277177, 185.42377824, 288.00736079, 304.46750175,\n",
       "        275.54565298, 208.45240322, 169.12619434, 259.927817  ,\n",
       "        267.64999726, 197.92437851, 240.75331318, 197.14158344,\n",
       "        231.14859712, 230.54727415, 231.24489541, 169.91921508,\n",
       "        123.14382604, 288.24224492, 146.38820996, 168.61033244,\n",
       "        156.75413716, 185.08253334, 255.33033634, 229.68266582,\n",
       "        256.38377197, 189.18027796, 130.84892951, 315.32700229,\n",
       "        191.11521494, 186.05695462, 221.07531986, 206.48914499,\n",
       "        280.99762086, 255.30136478, 232.06988352, 188.40954016,\n",
       "        209.92688614, 286.01765996, 211.76198914, 204.98912211,\n",
       "        181.03790686, 202.1005044 , 308.1504507 , 302.10580564,\n",
       "        276.24211839, 232.15903964, 150.7157724 , 328.82268179,\n",
       "        233.89430865, 271.78937562, 208.39039628, 253.75900424,\n",
       "        255.87673845, 247.31009302, 228.77871565, 171.34361926,\n",
       "        186.35388631, 271.76240355, 166.6091821 , 193.07446958,\n",
       "        160.52497437, 184.74336439, 281.07998257, 270.69889645,\n",
       "        250.65258032, 186.7055107 , 190.15981835, 295.58214904,\n",
       "        181.87123956, 208.66763512, 172.55748636, 202.25080461,\n",
       "        307.768772  , 295.57324519, 274.01199031, 203.55294745,\n",
       "        195.45129571, 320.88743985, 198.61884233, 225.74634597,\n",
       "        186.07554367, 221.24379015, 399.23340437, 380.72462835,\n",
       "        379.85108889, 304.55326195, 185.75316063, 414.29950958,\n",
       "        293.80377139, 320.49657342, 293.31063543, 335.94310675,\n",
       "        485.33259205, 439.24953464, 404.01808156, 285.89575041,\n",
       "        234.70166057, 307.58378645, 290.07793425, 328.0185611 ,\n",
       "        268.42681709, 300.72104763, 558.29255003, 502.83068814,\n",
       "        464.56935756, 333.42307993, 259.1170713 , 352.34411872,\n",
       "        337.40559581, 376.00843883, 309.29538773, 352.53947472,\n",
       "        386.8925907 , 379.70285045, 386.76736242, 298.71127843,\n",
       "        309.30284469, 403.04663224, 390.67543861, 323.62842577,\n",
       "        295.75581148, 458.21349622, 446.30428272, 435.48566107,\n",
       "        438.92129165, 338.44026508, 325.91991255, 459.691327  ,\n",
       "        449.88746267, 363.81996063, 328.22703535, 521.31728191]),\n",
       " array([415.85566405, 342.98142054, 351.68411103, 359.41506266,\n",
       "        305.76097631, 318.09254818, 521.06979838, 470.29733873,\n",
       "        319.67805841, 432.69126939, 348.2421788 , 266.24286684,\n",
       "        460.65090859, 387.2024062 , 295.72436818, 395.51256581,\n",
       "        322.08800257, 269.87818539, 331.81070409, 267.05663503,\n",
       "        222.64245573, 274.05102363, 217.96744874, 181.34890733,\n",
       "        164.43237017, 134.15652463, 129.7179817 , 125.7851108 ,\n",
       "        102.46515272,  99.74121651]))"
      ]
     },
     "execution_count": 28,
     "metadata": {},
     "output_type": "execute_result"
    }
   ],
   "source": [
    "# All parameters\n",
    "polyEstimate(x_train_mid_stress, ym_train_mid_stress.Ss, x_test_mid_stress, ym_test_mid_stress.Ss, print_test=1)"
   ]
  },
  {
   "cell_type": "markdown",
   "metadata": {},
   "source": [
    "<h2 style=\"color:cyan\">Polynomial Regression Model - All inputs - Middle plate - Vane stress</h2>"
   ]
  },
  {
   "cell_type": "code",
   "execution_count": 29,
   "metadata": {},
   "outputs": [
    {
     "data": {
      "application/vnd.plotly.v1+json": {
       "config": {
        "plotlyServerURL": "https://plot.ly"
       },
       "data": [
        {
         "hovertemplate": "True_Value=%{x}<br>Predict_Value=%{y}<extra></extra>",
         "legendgroup": "",
         "marker": {
          "color": "#636efa",
          "symbol": "circle"
         },
         "mode": "markers",
         "name": "",
         "orientation": "v",
         "showlegend": false,
         "type": "scatter",
         "x": [
          86.326,
          89.847,
          88.549,
          88.392,
          97.944,
          86.532,
          93.069,
          71.721,
          90.12,
          72.798,
          127.17,
          154.97,
          150.8,
          145.58,
          150.12,
          114.05,
          130.84,
          116.87,
          152.85,
          122.32,
          170.7,
          177.68,
          173.62,
          175.35,
          169.24,
          133.1,
          169.26,
          136.57,
          170.76,
          138.53,
          148,
          160.35,
          157.12,
          159.95,
          164.04,
          190.54,
          135.1,
          191.95,
          137.21,
          161.67,
          175.24,
          175.34,
          171.44,
          173.65,
          179.82,
          267.3,
          152.66,
          264.68,
          166.08,
          173.7,
          241.49,
          236.05,
          227.28,
          237.83,
          222.53,
          361.77,
          184.09,
          354.37,
          187.77,
          219.96,
          278.34,
          275.3,
          280.12,
          276.06,
          263.53,
          352.9,
          204.57,
          272.68,
          279.56,
          187.07,
          214.95,
          232.73,
          201,
          211.16,
          229.02,
          324.24,
          159.72,
          342.99,
          160.13,
          199.35,
          262.9,
          254.91,
          257.85,
          233.9,
          235.68,
          182.27,
          347.92,
          229.94,
          352.27,
          174.01,
          260.46,
          411.38,
          257.62,
          257.94,
          267.04,
          200.92,
          287.85,
          255.12,
          187.18,
          178.21,
          325.33,
          401.08,
          635.18,
          395.15,
          328.26,
          332.29,
          336.14,
          314.47,
          430.87,
          307.69,
          364.44,
          357.47,
          359.74,
          366.78,
          341.57,
          200.57,
          371.27,
          222.26,
          351,
          206.64,
          408.52,
          400.27,
          411.21,
          398.36,
          371.95,
          243.68,
          408.17,
          247.18,
          404.84,
          239.25,
          463.84,
          452.93,
          445.12,
          450.3,
          424.66,
          265.15,
          462.2,
          285.36,
          438.32,
          263.54,
          500.9,
          494.65,
          519.83,
          501.38,
          470.74,
          305.16,
          509.9,
          336.1,
          509.94,
          304.48,
          756.54,
          809.34,
          840.95,
          743.82,
          788.7,
          556.04,
          740.07,
          575.37,
          824.48,
          574.28,
          704.75,
          436.45,
          396.52,
          449.68,
          415.65,
          292.55,
          454.35,
          306.35,
          402.4,
          308.67,
          837.88,
          552.12,
          496.24,
          552.14,
          523.53,
          361,
          560.79,
          390.59,
          491.13,
          363.05,
          618.63,
          608.26,
          598.79,
          615.2,
          582.94,
          415.03,
          624.27,
          438.03,
          581.17,
          480.1,
          726.26,
          719.66,
          710.75,
          713.36,
          685.01,
          483.58,
          735.95,
          500.33,
          695.74,
          523.9
         ],
         "xaxis": "x",
         "y": [
          110.77593552192053,
          108.05776167694972,
          108.04281049945564,
          106.556442104984,
          109.79143975531667,
          104.57819769094186,
          99.13028586905222,
          118.28931991738841,
          105.04913501898716,
          111.02418716167477,
          129.74180748731368,
          125.83749276108767,
          127.16682086923913,
          126.49057205719492,
          128.36075898671817,
          105.26602409551202,
          130.8166345459157,
          97.87848480367614,
          127.78251368096079,
          98.61550661804773,
          160.79104055537613,
          160.92429880327262,
          157.429950751563,
          159.92246842338426,
          159.2318618604333,
          117.77926510890262,
          163.3553706809367,
          114.72588265630856,
          157.9629402587662,
          113.1045949134645,
          143.98189626596928,
          148.5884220293355,
          138.2637619360941,
          146.64386052505284,
          142.33140445626685,
          205.71251815844386,
          129.93038457391395,
          206.00891593894124,
          119.31843388328599,
          142.34013150648678,
          181.7742597467249,
          190.41835848421346,
          175.27002223111123,
          186.8188873039357,
          185.25565811760413,
          264.506240296517,
          147.44528081198433,
          270.04957655599463,
          129.49205472995715,
          181.72905509963124,
          233.43886776248638,
          246.12053947409714,
          239.37924455813123,
          237.4763981235481,
          241.04708266860786,
          353.40364848191024,
          181.19117555984946,
          347.67500523665893,
          161.36553971810105,
          234.9902232277812,
          279.1737216696659,
          282.3305905159635,
          264.4732634709938,
          281.24325234645477,
          280.5398512269367,
          386.54557631979293,
          205.65588916383268,
          282.2082689911468,
          268.4694421797963,
          187.9514680542648,
          217.61663413909474,
          225.3289137088587,
          204.8510944057262,
          223.60366908330735,
          230.956845159539,
          315.69496499898656,
          185.8168605022468,
          320.208655742938,
          162.76318835710327,
          214.07093838685756,
          252.8577803241165,
          251.1717876523756,
          238.57476925837187,
          255.49765041851725,
          238.91163318234368,
          186.17585309698217,
          360.3276729565808,
          248.9875614311514,
          347.98530780783204,
          175.47107085686076,
          285.57995269867735,
          408.67741763922464,
          269.0885115610525,
          288.17210934816313,
          274.335318994444,
          193.24336167311213,
          293.19421214011896,
          285.29277731881945,
          187.2414481082049,
          183.12708968847875,
          321.7701862069892,
          455.3529419090083,
          610.4224467619317,
          452.7662385025979,
          324.3146294115607,
          327.81241633430164,
          330.12283538925436,
          325.0660543402385,
          457.09824059079625,
          312.6576133075137,
          361.42848084905296,
          370.63475905137744,
          375.1279075585965,
          363.92521060870996,
          355.5868740198994,
          201.21121764920218,
          370.51951977214236,
          225.7579561042151,
          368.67851713586066,
          208.84331075296933,
          407.00385293961045,
          415.01679178433193,
          416.66036382558906,
          403.9023848552168,
          378.4671298650115,
          229.32570926198906,
          410.8147489051499,
          256.0099442091335,
          395.6666553764101,
          244.79467964461338,
          453.55055640426195,
          465.1942522070049,
          468.11027164906847,
          450.3536614300388,
          427.6676333222884,
          257.32938335891805,
          458.05212866571134,
          281.8596408296888,
          447.02113631006074,
          266.22751612140866,
          503.5653210026647,
          518.83977376343,
          523.0282406063,
          500.2729991386132,
          480.33619791331654,
          288.8011185895983,
          508.7575695600238,
          311.1773985839944,
          501.8436783774635,
          291.1284137319547,
          755.2533655466661,
          770.654462399747,
          800.3313694486226,
          752.1940707660644,
          745.2681503777935,
          589.6089122800465,
          752.4587332991975,
          573.7832920191411,
          788.3259544856287,
          557.0481467348188,
          703.198352460666,
          411.05882964313133,
          405.29036086758725,
          419.9390386494218,
          396.03545836923496,
          292.6968819271354,
          426.123630780998,
          328.45809991392645,
          394.69591178194224,
          327.5659638396349,
          841.7973726671073,
          508.35926305120876,
          505.1356890772775,
          509.7871043617982,
          491.38197784651976,
          345.4588889040659,
          517.5439028648509,
          377.1030057177666,
          494.35038621197447,
          367.3771493559546,
          613.5074146091777,
          616.7998320828654,
          599.5042625136145,
          609.7574973771641,
          577.0046793429453,
          412.093140415999,
          622.8364194837084,
          446.7466326372781,
          576.457960019103,
          470.7990895122769,
          731.0999693915635,
          741.6539007812951,
          731.6198451280868,
          727.1591983798919,
          699.9048341105824,
          492.5996364629394,
          742.0011806375708,
          522.9451737314696,
          708.3826888539177,
          543.0713832130375
         ],
         "yaxis": "y"
        },
        {
         "hovertemplate": "<b>OLS trendline</b><br>Predict_Value = 0.991131 * True_Value + 2.98496<br>R<sup>2</sup>=0.991131<br><br>True_Value=%{x}<br>Predict_Value=%{y} <b>(trend)</b><extra></extra>",
         "legendgroup": "",
         "marker": {
          "color": "#636efa",
          "symbol": "circle"
         },
         "mode": "lines",
         "name": "",
         "showlegend": false,
         "type": "scatter",
         "x": [
          71.721,
          72.798,
          86.326,
          86.532,
          88.392,
          88.549,
          89.847,
          90.12,
          93.069,
          97.944,
          114.05,
          116.87,
          122.32,
          127.17,
          130.84,
          133.1,
          135.1,
          136.57,
          137.21,
          138.53,
          145.58,
          148,
          150.12,
          150.8,
          152.66,
          152.85,
          154.97,
          157.12,
          159.72,
          159.95,
          160.13,
          160.35,
          161.67,
          164.04,
          166.08,
          169.24,
          169.26,
          170.7,
          170.76,
          171.44,
          173.62,
          173.65,
          173.7,
          174.01,
          175.24,
          175.34,
          175.35,
          177.68,
          178.21,
          179.82,
          182.27,
          184.09,
          187.07,
          187.18,
          187.77,
          190.54,
          191.95,
          199.35,
          200.57,
          200.92,
          201,
          204.57,
          206.64,
          211.16,
          214.95,
          219.96,
          222.26,
          222.53,
          227.28,
          229.02,
          229.94,
          232.73,
          233.9,
          235.68,
          236.05,
          237.83,
          239.25,
          241.49,
          243.68,
          247.18,
          254.91,
          255.12,
          257.62,
          257.85,
          257.94,
          260.46,
          262.9,
          263.53,
          263.54,
          264.68,
          265.15,
          267.04,
          267.3,
          272.68,
          275.3,
          276.06,
          278.34,
          279.56,
          280.12,
          285.36,
          287.85,
          292.55,
          304.48,
          305.16,
          306.35,
          307.69,
          308.67,
          314.47,
          324.24,
          325.33,
          328.26,
          332.29,
          336.1,
          336.14,
          341.57,
          342.99,
          347.92,
          351,
          352.27,
          352.9,
          354.37,
          357.47,
          359.74,
          361,
          361.77,
          363.05,
          364.44,
          366.78,
          371.27,
          371.95,
          390.59,
          395.15,
          396.52,
          398.36,
          400.27,
          401.08,
          402.4,
          404.84,
          408.17,
          408.52,
          411.21,
          411.38,
          415.03,
          415.65,
          424.66,
          430.87,
          436.45,
          438.03,
          438.32,
          445.12,
          449.68,
          450.3,
          452.93,
          454.35,
          462.2,
          463.84,
          470.74,
          480.1,
          483.58,
          491.13,
          494.65,
          496.24,
          500.33,
          500.9,
          501.38,
          509.9,
          509.94,
          519.83,
          523.53,
          523.9,
          552.12,
          552.14,
          556.04,
          560.79,
          574.28,
          575.37,
          581.17,
          582.94,
          598.79,
          608.26,
          615.2,
          618.63,
          624.27,
          635.18,
          685.01,
          695.74,
          704.75,
          710.75,
          713.36,
          719.66,
          726.26,
          735.95,
          740.07,
          743.82,
          756.54,
          788.7,
          809.34,
          824.48,
          837.88,
          840.95
         ],
         "xaxis": "x",
         "y": [
          74.06988369265731,
          75.13733202636725,
          88.5453552932455,
          88.74952832643422,
          90.59303241250707,
          90.7486400154713,
          92.03512835080599,
          92.30570717634251,
          95.22855317087415,
          100.06031791259736,
          116.02347748802175,
          118.81846755400318,
          124.22013275244245,
          129.02711921343888,
          132.664570824131,
          134.90452740183244,
          136.8867898599753,
          138.34375276671028,
          138.978076753316,
          140.2863699756903,
          147.27384514064386,
          149.6723827149967,
          151.77358092062812,
          152.44755015639672,
          154.29105424246956,
          154.47936917599313,
          156.58056738162455,
          158.71149952412813,
          161.28844071971383,
          161.51640090240025,
          161.6948045236331,
          161.91285339402882,
          163.2211466164031,
          165.5701276293024,
          167.59203533660812,
          170.72401002047383,
          170.74383264505522,
          172.17106161491807,
          172.23052948866237,
          172.90449872443094,
          175.06516480380665,
          175.09489874067881,
          175.14445530213237,
          175.4517059831445,
          176.6707973949024,
          176.7699105178095,
          176.77982183010022,
          179.08915759383666,
          179.61445714524453,
          181.2101784240495,
          183.6384499352745,
          185.4423087721845,
          188.39587983481735,
          188.50490427001523,
          189.08967169516737,
          191.8351051996952,
          193.2326002326859,
          200.56697132781449,
          201.7761514272816,
          202.1230473574566,
          202.20233785578233,
          205.74067634356732,
          207.79231798774518,
          212.27223114314802,
          216.02861850132874,
          220.9941859589766,
          223.27378778584085,
          223.54139321769017,
          228.24926655577943,
          229.97383489436373,
          230.88567562510943,
          233.6509317542187,
          234.8105552922323,
          236.57476887997942,
          236.94148743473585,
          238.705701022483,
          240.11310736776443,
          242.3332413208844,
          244.50381871255084,
          247.97277801430084,
          255.63422241502295,
          255.84235997312797,
          258.3201880458065,
          258.548148228493,
          258.6373500391094,
          261.1350007363693,
          263.55336093530366,
          264.1777736096186,
          264.1876849219094,
          265.3175745230508,
          265.78340620071435,
          267.65664422365944,
          267.914338343218,
          273.2466243556222,
          275.8433881757894,
          276.5966479098837,
          278.85642711216644,
          280.0656072116336,
          280.6206406999137,
          285.8141683402479,
          288.28208510063575,
          292.9404018772715,
          304.76459744009367,
          305.43856667586215,
          306.61801283845716,
          307.9461286854129,
          308.91743728990286,
          314.66599841851723,
          324.349350526545,
          325.4296835662328,
          328.3336980674121,
          332.32795692057005,
          336.10416690333216,
          336.143812152495,
          341.52565472635285,
          342.93306107163426,
          347.8193380309564,
          350.87202221649636,
          352.13075887741707,
          352.75517155173213,
          354.21213445846706,
          357.28464126858853,
          359.5345091585807,
          360.7833345072106,
          361.5465055535957,
          362.8151535268071,
          364.1928259352163,
          366.5120730112435,
          370.9622522297742,
          371.6362214655428,
          390.1109075754341,
          394.6304659799998,
          395.9883157638277,
          397.81199722531915,
          399.7050578728456,
          400.5078741683934,
          401.81616739076776,
          404.234527589702,
          407.53499458250985,
          407.8818905126849,
          410.548033518887,
          410.7165258278292,
          414.3341548139398,
          414.9486561759642,
          423.87874854989775,
          430.03367348243125,
          435.5641857406498,
          437.1301730825827,
          437.4176011390134,
          444.15729349669914,
          448.67685190126485,
          449.2913532632891,
          451.8980283957469,
          453.3054347410284,
          461.08581488923903,
          462.71127010491614,
          469.55007558550903,
          478.82706388961765,
          482.2762005667862,
          489.7592413462754,
          493.2480232726068,
          494.8239219268305,
          498.87764865373254,
          499.4425934543033,
          499.91833644425753,
          508.36277451594617,
          508.402419765109,
          518.2047076206254,
          521.8718931681897,
          522.2386117229461,
          550.2083350073418,
          550.2281576319232,
          554.0935694253017,
          558.801442763391,
          572.1718030435645,
          573.2521360832525,
          579.0006972118666,
          580.7549994873232,
          596.4644294681052,
          605.8504422074117,
          612.7288929371674,
          616.1284730528823,
          621.7184531848452,
          632.5316948940144,
          681.9197640386437,
          692.5546021265801,
          701.4846945005137,
          707.4314818749423,
          710.0183343828187,
          716.2624611259686,
          722.8039272378401,
          732.4079888475422,
          736.4914495113165,
          740.2081916203343,
          752.8153808541228,
          784.69016118106,
          805.1471097490943,
          820.1528365572357,
          833.4339950267928,
          836.4767679000421
         ],
         "yaxis": "y"
        }
       ],
       "layout": {
        "height": 400,
        "legend": {
         "tracegroupgap": 0
        },
        "margin": {
         "b": 10,
         "l": 10,
         "r": 10,
         "t": 20
        },
        "template": {
         "data": {
          "bar": [
           {
            "error_x": {
             "color": "#2a3f5f"
            },
            "error_y": {
             "color": "#2a3f5f"
            },
            "marker": {
             "line": {
              "color": "#E5ECF6",
              "width": 0.5
             },
             "pattern": {
              "fillmode": "overlay",
              "size": 10,
              "solidity": 0.2
             }
            },
            "type": "bar"
           }
          ],
          "barpolar": [
           {
            "marker": {
             "line": {
              "color": "#E5ECF6",
              "width": 0.5
             },
             "pattern": {
              "fillmode": "overlay",
              "size": 10,
              "solidity": 0.2
             }
            },
            "type": "barpolar"
           }
          ],
          "carpet": [
           {
            "aaxis": {
             "endlinecolor": "#2a3f5f",
             "gridcolor": "white",
             "linecolor": "white",
             "minorgridcolor": "white",
             "startlinecolor": "#2a3f5f"
            },
            "baxis": {
             "endlinecolor": "#2a3f5f",
             "gridcolor": "white",
             "linecolor": "white",
             "minorgridcolor": "white",
             "startlinecolor": "#2a3f5f"
            },
            "type": "carpet"
           }
          ],
          "choropleth": [
           {
            "colorbar": {
             "outlinewidth": 0,
             "ticks": ""
            },
            "type": "choropleth"
           }
          ],
          "contour": [
           {
            "colorbar": {
             "outlinewidth": 0,
             "ticks": ""
            },
            "colorscale": [
             [
              0,
              "#0d0887"
             ],
             [
              0.1111111111111111,
              "#46039f"
             ],
             [
              0.2222222222222222,
              "#7201a8"
             ],
             [
              0.3333333333333333,
              "#9c179e"
             ],
             [
              0.4444444444444444,
              "#bd3786"
             ],
             [
              0.5555555555555556,
              "#d8576b"
             ],
             [
              0.6666666666666666,
              "#ed7953"
             ],
             [
              0.7777777777777778,
              "#fb9f3a"
             ],
             [
              0.8888888888888888,
              "#fdca26"
             ],
             [
              1,
              "#f0f921"
             ]
            ],
            "type": "contour"
           }
          ],
          "contourcarpet": [
           {
            "colorbar": {
             "outlinewidth": 0,
             "ticks": ""
            },
            "type": "contourcarpet"
           }
          ],
          "heatmap": [
           {
            "colorbar": {
             "outlinewidth": 0,
             "ticks": ""
            },
            "colorscale": [
             [
              0,
              "#0d0887"
             ],
             [
              0.1111111111111111,
              "#46039f"
             ],
             [
              0.2222222222222222,
              "#7201a8"
             ],
             [
              0.3333333333333333,
              "#9c179e"
             ],
             [
              0.4444444444444444,
              "#bd3786"
             ],
             [
              0.5555555555555556,
              "#d8576b"
             ],
             [
              0.6666666666666666,
              "#ed7953"
             ],
             [
              0.7777777777777778,
              "#fb9f3a"
             ],
             [
              0.8888888888888888,
              "#fdca26"
             ],
             [
              1,
              "#f0f921"
             ]
            ],
            "type": "heatmap"
           }
          ],
          "heatmapgl": [
           {
            "colorbar": {
             "outlinewidth": 0,
             "ticks": ""
            },
            "colorscale": [
             [
              0,
              "#0d0887"
             ],
             [
              0.1111111111111111,
              "#46039f"
             ],
             [
              0.2222222222222222,
              "#7201a8"
             ],
             [
              0.3333333333333333,
              "#9c179e"
             ],
             [
              0.4444444444444444,
              "#bd3786"
             ],
             [
              0.5555555555555556,
              "#d8576b"
             ],
             [
              0.6666666666666666,
              "#ed7953"
             ],
             [
              0.7777777777777778,
              "#fb9f3a"
             ],
             [
              0.8888888888888888,
              "#fdca26"
             ],
             [
              1,
              "#f0f921"
             ]
            ],
            "type": "heatmapgl"
           }
          ],
          "histogram": [
           {
            "marker": {
             "pattern": {
              "fillmode": "overlay",
              "size": 10,
              "solidity": 0.2
             }
            },
            "type": "histogram"
           }
          ],
          "histogram2d": [
           {
            "colorbar": {
             "outlinewidth": 0,
             "ticks": ""
            },
            "colorscale": [
             [
              0,
              "#0d0887"
             ],
             [
              0.1111111111111111,
              "#46039f"
             ],
             [
              0.2222222222222222,
              "#7201a8"
             ],
             [
              0.3333333333333333,
              "#9c179e"
             ],
             [
              0.4444444444444444,
              "#bd3786"
             ],
             [
              0.5555555555555556,
              "#d8576b"
             ],
             [
              0.6666666666666666,
              "#ed7953"
             ],
             [
              0.7777777777777778,
              "#fb9f3a"
             ],
             [
              0.8888888888888888,
              "#fdca26"
             ],
             [
              1,
              "#f0f921"
             ]
            ],
            "type": "histogram2d"
           }
          ],
          "histogram2dcontour": [
           {
            "colorbar": {
             "outlinewidth": 0,
             "ticks": ""
            },
            "colorscale": [
             [
              0,
              "#0d0887"
             ],
             [
              0.1111111111111111,
              "#46039f"
             ],
             [
              0.2222222222222222,
              "#7201a8"
             ],
             [
              0.3333333333333333,
              "#9c179e"
             ],
             [
              0.4444444444444444,
              "#bd3786"
             ],
             [
              0.5555555555555556,
              "#d8576b"
             ],
             [
              0.6666666666666666,
              "#ed7953"
             ],
             [
              0.7777777777777778,
              "#fb9f3a"
             ],
             [
              0.8888888888888888,
              "#fdca26"
             ],
             [
              1,
              "#f0f921"
             ]
            ],
            "type": "histogram2dcontour"
           }
          ],
          "mesh3d": [
           {
            "colorbar": {
             "outlinewidth": 0,
             "ticks": ""
            },
            "type": "mesh3d"
           }
          ],
          "parcoords": [
           {
            "line": {
             "colorbar": {
              "outlinewidth": 0,
              "ticks": ""
             }
            },
            "type": "parcoords"
           }
          ],
          "pie": [
           {
            "automargin": true,
            "type": "pie"
           }
          ],
          "scatter": [
           {
            "marker": {
             "colorbar": {
              "outlinewidth": 0,
              "ticks": ""
             }
            },
            "type": "scatter"
           }
          ],
          "scatter3d": [
           {
            "line": {
             "colorbar": {
              "outlinewidth": 0,
              "ticks": ""
             }
            },
            "marker": {
             "colorbar": {
              "outlinewidth": 0,
              "ticks": ""
             }
            },
            "type": "scatter3d"
           }
          ],
          "scattercarpet": [
           {
            "marker": {
             "colorbar": {
              "outlinewidth": 0,
              "ticks": ""
             }
            },
            "type": "scattercarpet"
           }
          ],
          "scattergeo": [
           {
            "marker": {
             "colorbar": {
              "outlinewidth": 0,
              "ticks": ""
             }
            },
            "type": "scattergeo"
           }
          ],
          "scattergl": [
           {
            "marker": {
             "colorbar": {
              "outlinewidth": 0,
              "ticks": ""
             }
            },
            "type": "scattergl"
           }
          ],
          "scattermapbox": [
           {
            "marker": {
             "colorbar": {
              "outlinewidth": 0,
              "ticks": ""
             }
            },
            "type": "scattermapbox"
           }
          ],
          "scatterpolar": [
           {
            "marker": {
             "colorbar": {
              "outlinewidth": 0,
              "ticks": ""
             }
            },
            "type": "scatterpolar"
           }
          ],
          "scatterpolargl": [
           {
            "marker": {
             "colorbar": {
              "outlinewidth": 0,
              "ticks": ""
             }
            },
            "type": "scatterpolargl"
           }
          ],
          "scatterternary": [
           {
            "marker": {
             "colorbar": {
              "outlinewidth": 0,
              "ticks": ""
             }
            },
            "type": "scatterternary"
           }
          ],
          "surface": [
           {
            "colorbar": {
             "outlinewidth": 0,
             "ticks": ""
            },
            "colorscale": [
             [
              0,
              "#0d0887"
             ],
             [
              0.1111111111111111,
              "#46039f"
             ],
             [
              0.2222222222222222,
              "#7201a8"
             ],
             [
              0.3333333333333333,
              "#9c179e"
             ],
             [
              0.4444444444444444,
              "#bd3786"
             ],
             [
              0.5555555555555556,
              "#d8576b"
             ],
             [
              0.6666666666666666,
              "#ed7953"
             ],
             [
              0.7777777777777778,
              "#fb9f3a"
             ],
             [
              0.8888888888888888,
              "#fdca26"
             ],
             [
              1,
              "#f0f921"
             ]
            ],
            "type": "surface"
           }
          ],
          "table": [
           {
            "cells": {
             "fill": {
              "color": "#EBF0F8"
             },
             "line": {
              "color": "white"
             }
            },
            "header": {
             "fill": {
              "color": "#C8D4E3"
             },
             "line": {
              "color": "white"
             }
            },
            "type": "table"
           }
          ]
         },
         "layout": {
          "annotationdefaults": {
           "arrowcolor": "#2a3f5f",
           "arrowhead": 0,
           "arrowwidth": 1
          },
          "autotypenumbers": "strict",
          "coloraxis": {
           "colorbar": {
            "outlinewidth": 0,
            "ticks": ""
           }
          },
          "colorscale": {
           "diverging": [
            [
             0,
             "#8e0152"
            ],
            [
             0.1,
             "#c51b7d"
            ],
            [
             0.2,
             "#de77ae"
            ],
            [
             0.3,
             "#f1b6da"
            ],
            [
             0.4,
             "#fde0ef"
            ],
            [
             0.5,
             "#f7f7f7"
            ],
            [
             0.6,
             "#e6f5d0"
            ],
            [
             0.7,
             "#b8e186"
            ],
            [
             0.8,
             "#7fbc41"
            ],
            [
             0.9,
             "#4d9221"
            ],
            [
             1,
             "#276419"
            ]
           ],
           "sequential": [
            [
             0,
             "#0d0887"
            ],
            [
             0.1111111111111111,
             "#46039f"
            ],
            [
             0.2222222222222222,
             "#7201a8"
            ],
            [
             0.3333333333333333,
             "#9c179e"
            ],
            [
             0.4444444444444444,
             "#bd3786"
            ],
            [
             0.5555555555555556,
             "#d8576b"
            ],
            [
             0.6666666666666666,
             "#ed7953"
            ],
            [
             0.7777777777777778,
             "#fb9f3a"
            ],
            [
             0.8888888888888888,
             "#fdca26"
            ],
            [
             1,
             "#f0f921"
            ]
           ],
           "sequentialminus": [
            [
             0,
             "#0d0887"
            ],
            [
             0.1111111111111111,
             "#46039f"
            ],
            [
             0.2222222222222222,
             "#7201a8"
            ],
            [
             0.3333333333333333,
             "#9c179e"
            ],
            [
             0.4444444444444444,
             "#bd3786"
            ],
            [
             0.5555555555555556,
             "#d8576b"
            ],
            [
             0.6666666666666666,
             "#ed7953"
            ],
            [
             0.7777777777777778,
             "#fb9f3a"
            ],
            [
             0.8888888888888888,
             "#fdca26"
            ],
            [
             1,
             "#f0f921"
            ]
           ]
          },
          "colorway": [
           "#636efa",
           "#EF553B",
           "#00cc96",
           "#ab63fa",
           "#FFA15A",
           "#19d3f3",
           "#FF6692",
           "#B6E880",
           "#FF97FF",
           "#FECB52"
          ],
          "font": {
           "color": "#2a3f5f"
          },
          "geo": {
           "bgcolor": "white",
           "lakecolor": "white",
           "landcolor": "#E5ECF6",
           "showlakes": true,
           "showland": true,
           "subunitcolor": "white"
          },
          "hoverlabel": {
           "align": "left"
          },
          "hovermode": "closest",
          "mapbox": {
           "style": "light"
          },
          "paper_bgcolor": "white",
          "plot_bgcolor": "#E5ECF6",
          "polar": {
           "angularaxis": {
            "gridcolor": "white",
            "linecolor": "white",
            "ticks": ""
           },
           "bgcolor": "#E5ECF6",
           "radialaxis": {
            "gridcolor": "white",
            "linecolor": "white",
            "ticks": ""
           }
          },
          "scene": {
           "xaxis": {
            "backgroundcolor": "#E5ECF6",
            "gridcolor": "white",
            "gridwidth": 2,
            "linecolor": "white",
            "showbackground": true,
            "ticks": "",
            "zerolinecolor": "white"
           },
           "yaxis": {
            "backgroundcolor": "#E5ECF6",
            "gridcolor": "white",
            "gridwidth": 2,
            "linecolor": "white",
            "showbackground": true,
            "ticks": "",
            "zerolinecolor": "white"
           },
           "zaxis": {
            "backgroundcolor": "#E5ECF6",
            "gridcolor": "white",
            "gridwidth": 2,
            "linecolor": "white",
            "showbackground": true,
            "ticks": "",
            "zerolinecolor": "white"
           }
          },
          "shapedefaults": {
           "line": {
            "color": "#2a3f5f"
           }
          },
          "ternary": {
           "aaxis": {
            "gridcolor": "white",
            "linecolor": "white",
            "ticks": ""
           },
           "baxis": {
            "gridcolor": "white",
            "linecolor": "white",
            "ticks": ""
           },
           "bgcolor": "#E5ECF6",
           "caxis": {
            "gridcolor": "white",
            "linecolor": "white",
            "ticks": ""
           }
          },
          "title": {
           "x": 0.05
          },
          "xaxis": {
           "automargin": true,
           "gridcolor": "white",
           "linecolor": "white",
           "ticks": "",
           "title": {
            "standoff": 15
           },
           "zerolinecolor": "white",
           "zerolinewidth": 2
          },
          "yaxis": {
           "automargin": true,
           "gridcolor": "white",
           "linecolor": "white",
           "ticks": "",
           "title": {
            "standoff": 15
           },
           "zerolinecolor": "white",
           "zerolinewidth": 2
          }
         }
        },
        "title": {
         "text": "Train data"
        },
        "width": 500,
        "xaxis": {
         "anchor": "y",
         "domain": [
          0,
          1
         ],
         "title": {
          "text": "True_Value"
         }
        },
        "yaxis": {
         "anchor": "x",
         "domain": [
          0,
          1
         ],
         "title": {
          "text": "Predict_Value"
         }
        }
       }
      }
     },
     "metadata": {},
     "output_type": "display_data"
    },
    {
     "data": {
      "application/vnd.plotly.v1+json": {
       "config": {
        "plotlyServerURL": "https://plot.ly"
       },
       "data": [
        {
         "hovertemplate": "True_Value=%{x}<br>Predict_Value=%{y}<extra></extra>",
         "legendgroup": "",
         "marker": {
          "color": "#636efa",
          "symbol": "circle"
         },
         "mode": "markers",
         "name": "",
         "orientation": "v",
         "showlegend": false,
         "type": "scatter",
         "x": [
          678.23,
          475.19,
          459.77,
          559.44,
          392.15,
          380.92,
          765.98,
          483.22,
          498.21,
          849.24,
          638.01,
          404.6,
          623.58,
          499,
          492.08,
          888.93,
          621.79,
          416.61,
          708.82,
          504.91,
          323.8,
          542.32,
          388.26,
          261.03,
          269.99,
          205.45,
          199.19,
          167.85,
          160.03,
          167.85
         ],
         "xaxis": "x",
         "y": [
          670.5696614334945,
          483.11187261749757,
          452.63771305597794,
          559.9132289186111,
          413.84945379080756,
          376.11378031324267,
          770.7638319970108,
          457.9750157802944,
          427.3413470950398,
          825.154237499369,
          635.1510390288076,
          365.35573017744065,
          637.6170367747566,
          484.54057619177075,
          486.6839981895226,
          760.6061357067554,
          595.67395312507,
          437.61716097225695,
          631.881679053284,
          483.61669828967416,
          349.8876699389794,
          517.0294669348182,
          385.43168798928406,
          276.0304234407077,
          305.6922855007786,
          218.68765239358692,
          217.53544712853812,
          237.49707449255737,
          170.00429697572434,
          166.00743793839257
         ],
         "yaxis": "y"
        },
        {
         "hovertemplate": "<b>OLS trendline</b><br>Predict_Value = 0.882726 * True_Value + 47.282<br>R<sup>2</sup>=0.974428<br><br>True_Value=%{x}<br>Predict_Value=%{y} <b>(trend)</b><extra></extra>",
         "legendgroup": "",
         "marker": {
          "color": "#636efa",
          "symbol": "circle"
         },
         "mode": "lines",
         "name": "",
         "showlegend": false,
         "type": "scatter",
         "x": [
          160.03,
          167.85,
          167.85,
          199.19,
          205.45,
          261.03,
          269.99,
          323.8,
          380.92,
          388.26,
          392.15,
          404.6,
          416.61,
          459.77,
          475.19,
          483.22,
          492.08,
          498.21,
          499,
          504.91,
          542.32,
          559.44,
          621.79,
          623.58,
          638.01,
          678.23,
          708.82,
          765.98,
          849.24,
          888.93
         ],
         "xaxis": "x",
         "y": [
          188.54467820649927,
          195.44759925380959,
          195.44759925380959,
          223.1122470316492,
          228.638114775404,
          277.70005234695236,
          285.6092815776302,
          333.10879328552903,
          383.5301296311001,
          390.00934196962413,
          393.4431479637465,
          404.4330925978915,
          415.03463758231567,
          453.1331123140182,
          466.7447545837785,
          473.83304819118285,
          481.65400477419684,
          487.06511807598866,
          487.7624719925328,
          492.9793854694643,
          526.0021829604975,
          541.1144602405426,
          596.1524560589312,
          597.7325364521135,
          610.470279510002,
          645.9735384003884,
          672.9761413207494,
          723.432786725386,
          796.9285931702783,
          831.9640070280465
         ],
         "yaxis": "y"
        }
       ],
       "layout": {
        "height": 400,
        "legend": {
         "tracegroupgap": 0
        },
        "margin": {
         "b": 10,
         "l": 10,
         "r": 10,
         "t": 20
        },
        "template": {
         "data": {
          "bar": [
           {
            "error_x": {
             "color": "#2a3f5f"
            },
            "error_y": {
             "color": "#2a3f5f"
            },
            "marker": {
             "line": {
              "color": "#E5ECF6",
              "width": 0.5
             },
             "pattern": {
              "fillmode": "overlay",
              "size": 10,
              "solidity": 0.2
             }
            },
            "type": "bar"
           }
          ],
          "barpolar": [
           {
            "marker": {
             "line": {
              "color": "#E5ECF6",
              "width": 0.5
             },
             "pattern": {
              "fillmode": "overlay",
              "size": 10,
              "solidity": 0.2
             }
            },
            "type": "barpolar"
           }
          ],
          "carpet": [
           {
            "aaxis": {
             "endlinecolor": "#2a3f5f",
             "gridcolor": "white",
             "linecolor": "white",
             "minorgridcolor": "white",
             "startlinecolor": "#2a3f5f"
            },
            "baxis": {
             "endlinecolor": "#2a3f5f",
             "gridcolor": "white",
             "linecolor": "white",
             "minorgridcolor": "white",
             "startlinecolor": "#2a3f5f"
            },
            "type": "carpet"
           }
          ],
          "choropleth": [
           {
            "colorbar": {
             "outlinewidth": 0,
             "ticks": ""
            },
            "type": "choropleth"
           }
          ],
          "contour": [
           {
            "colorbar": {
             "outlinewidth": 0,
             "ticks": ""
            },
            "colorscale": [
             [
              0,
              "#0d0887"
             ],
             [
              0.1111111111111111,
              "#46039f"
             ],
             [
              0.2222222222222222,
              "#7201a8"
             ],
             [
              0.3333333333333333,
              "#9c179e"
             ],
             [
              0.4444444444444444,
              "#bd3786"
             ],
             [
              0.5555555555555556,
              "#d8576b"
             ],
             [
              0.6666666666666666,
              "#ed7953"
             ],
             [
              0.7777777777777778,
              "#fb9f3a"
             ],
             [
              0.8888888888888888,
              "#fdca26"
             ],
             [
              1,
              "#f0f921"
             ]
            ],
            "type": "contour"
           }
          ],
          "contourcarpet": [
           {
            "colorbar": {
             "outlinewidth": 0,
             "ticks": ""
            },
            "type": "contourcarpet"
           }
          ],
          "heatmap": [
           {
            "colorbar": {
             "outlinewidth": 0,
             "ticks": ""
            },
            "colorscale": [
             [
              0,
              "#0d0887"
             ],
             [
              0.1111111111111111,
              "#46039f"
             ],
             [
              0.2222222222222222,
              "#7201a8"
             ],
             [
              0.3333333333333333,
              "#9c179e"
             ],
             [
              0.4444444444444444,
              "#bd3786"
             ],
             [
              0.5555555555555556,
              "#d8576b"
             ],
             [
              0.6666666666666666,
              "#ed7953"
             ],
             [
              0.7777777777777778,
              "#fb9f3a"
             ],
             [
              0.8888888888888888,
              "#fdca26"
             ],
             [
              1,
              "#f0f921"
             ]
            ],
            "type": "heatmap"
           }
          ],
          "heatmapgl": [
           {
            "colorbar": {
             "outlinewidth": 0,
             "ticks": ""
            },
            "colorscale": [
             [
              0,
              "#0d0887"
             ],
             [
              0.1111111111111111,
              "#46039f"
             ],
             [
              0.2222222222222222,
              "#7201a8"
             ],
             [
              0.3333333333333333,
              "#9c179e"
             ],
             [
              0.4444444444444444,
              "#bd3786"
             ],
             [
              0.5555555555555556,
              "#d8576b"
             ],
             [
              0.6666666666666666,
              "#ed7953"
             ],
             [
              0.7777777777777778,
              "#fb9f3a"
             ],
             [
              0.8888888888888888,
              "#fdca26"
             ],
             [
              1,
              "#f0f921"
             ]
            ],
            "type": "heatmapgl"
           }
          ],
          "histogram": [
           {
            "marker": {
             "pattern": {
              "fillmode": "overlay",
              "size": 10,
              "solidity": 0.2
             }
            },
            "type": "histogram"
           }
          ],
          "histogram2d": [
           {
            "colorbar": {
             "outlinewidth": 0,
             "ticks": ""
            },
            "colorscale": [
             [
              0,
              "#0d0887"
             ],
             [
              0.1111111111111111,
              "#46039f"
             ],
             [
              0.2222222222222222,
              "#7201a8"
             ],
             [
              0.3333333333333333,
              "#9c179e"
             ],
             [
              0.4444444444444444,
              "#bd3786"
             ],
             [
              0.5555555555555556,
              "#d8576b"
             ],
             [
              0.6666666666666666,
              "#ed7953"
             ],
             [
              0.7777777777777778,
              "#fb9f3a"
             ],
             [
              0.8888888888888888,
              "#fdca26"
             ],
             [
              1,
              "#f0f921"
             ]
            ],
            "type": "histogram2d"
           }
          ],
          "histogram2dcontour": [
           {
            "colorbar": {
             "outlinewidth": 0,
             "ticks": ""
            },
            "colorscale": [
             [
              0,
              "#0d0887"
             ],
             [
              0.1111111111111111,
              "#46039f"
             ],
             [
              0.2222222222222222,
              "#7201a8"
             ],
             [
              0.3333333333333333,
              "#9c179e"
             ],
             [
              0.4444444444444444,
              "#bd3786"
             ],
             [
              0.5555555555555556,
              "#d8576b"
             ],
             [
              0.6666666666666666,
              "#ed7953"
             ],
             [
              0.7777777777777778,
              "#fb9f3a"
             ],
             [
              0.8888888888888888,
              "#fdca26"
             ],
             [
              1,
              "#f0f921"
             ]
            ],
            "type": "histogram2dcontour"
           }
          ],
          "mesh3d": [
           {
            "colorbar": {
             "outlinewidth": 0,
             "ticks": ""
            },
            "type": "mesh3d"
           }
          ],
          "parcoords": [
           {
            "line": {
             "colorbar": {
              "outlinewidth": 0,
              "ticks": ""
             }
            },
            "type": "parcoords"
           }
          ],
          "pie": [
           {
            "automargin": true,
            "type": "pie"
           }
          ],
          "scatter": [
           {
            "marker": {
             "colorbar": {
              "outlinewidth": 0,
              "ticks": ""
             }
            },
            "type": "scatter"
           }
          ],
          "scatter3d": [
           {
            "line": {
             "colorbar": {
              "outlinewidth": 0,
              "ticks": ""
             }
            },
            "marker": {
             "colorbar": {
              "outlinewidth": 0,
              "ticks": ""
             }
            },
            "type": "scatter3d"
           }
          ],
          "scattercarpet": [
           {
            "marker": {
             "colorbar": {
              "outlinewidth": 0,
              "ticks": ""
             }
            },
            "type": "scattercarpet"
           }
          ],
          "scattergeo": [
           {
            "marker": {
             "colorbar": {
              "outlinewidth": 0,
              "ticks": ""
             }
            },
            "type": "scattergeo"
           }
          ],
          "scattergl": [
           {
            "marker": {
             "colorbar": {
              "outlinewidth": 0,
              "ticks": ""
             }
            },
            "type": "scattergl"
           }
          ],
          "scattermapbox": [
           {
            "marker": {
             "colorbar": {
              "outlinewidth": 0,
              "ticks": ""
             }
            },
            "type": "scattermapbox"
           }
          ],
          "scatterpolar": [
           {
            "marker": {
             "colorbar": {
              "outlinewidth": 0,
              "ticks": ""
             }
            },
            "type": "scatterpolar"
           }
          ],
          "scatterpolargl": [
           {
            "marker": {
             "colorbar": {
              "outlinewidth": 0,
              "ticks": ""
             }
            },
            "type": "scatterpolargl"
           }
          ],
          "scatterternary": [
           {
            "marker": {
             "colorbar": {
              "outlinewidth": 0,
              "ticks": ""
             }
            },
            "type": "scatterternary"
           }
          ],
          "surface": [
           {
            "colorbar": {
             "outlinewidth": 0,
             "ticks": ""
            },
            "colorscale": [
             [
              0,
              "#0d0887"
             ],
             [
              0.1111111111111111,
              "#46039f"
             ],
             [
              0.2222222222222222,
              "#7201a8"
             ],
             [
              0.3333333333333333,
              "#9c179e"
             ],
             [
              0.4444444444444444,
              "#bd3786"
             ],
             [
              0.5555555555555556,
              "#d8576b"
             ],
             [
              0.6666666666666666,
              "#ed7953"
             ],
             [
              0.7777777777777778,
              "#fb9f3a"
             ],
             [
              0.8888888888888888,
              "#fdca26"
             ],
             [
              1,
              "#f0f921"
             ]
            ],
            "type": "surface"
           }
          ],
          "table": [
           {
            "cells": {
             "fill": {
              "color": "#EBF0F8"
             },
             "line": {
              "color": "white"
             }
            },
            "header": {
             "fill": {
              "color": "#C8D4E3"
             },
             "line": {
              "color": "white"
             }
            },
            "type": "table"
           }
          ]
         },
         "layout": {
          "annotationdefaults": {
           "arrowcolor": "#2a3f5f",
           "arrowhead": 0,
           "arrowwidth": 1
          },
          "autotypenumbers": "strict",
          "coloraxis": {
           "colorbar": {
            "outlinewidth": 0,
            "ticks": ""
           }
          },
          "colorscale": {
           "diverging": [
            [
             0,
             "#8e0152"
            ],
            [
             0.1,
             "#c51b7d"
            ],
            [
             0.2,
             "#de77ae"
            ],
            [
             0.3,
             "#f1b6da"
            ],
            [
             0.4,
             "#fde0ef"
            ],
            [
             0.5,
             "#f7f7f7"
            ],
            [
             0.6,
             "#e6f5d0"
            ],
            [
             0.7,
             "#b8e186"
            ],
            [
             0.8,
             "#7fbc41"
            ],
            [
             0.9,
             "#4d9221"
            ],
            [
             1,
             "#276419"
            ]
           ],
           "sequential": [
            [
             0,
             "#0d0887"
            ],
            [
             0.1111111111111111,
             "#46039f"
            ],
            [
             0.2222222222222222,
             "#7201a8"
            ],
            [
             0.3333333333333333,
             "#9c179e"
            ],
            [
             0.4444444444444444,
             "#bd3786"
            ],
            [
             0.5555555555555556,
             "#d8576b"
            ],
            [
             0.6666666666666666,
             "#ed7953"
            ],
            [
             0.7777777777777778,
             "#fb9f3a"
            ],
            [
             0.8888888888888888,
             "#fdca26"
            ],
            [
             1,
             "#f0f921"
            ]
           ],
           "sequentialminus": [
            [
             0,
             "#0d0887"
            ],
            [
             0.1111111111111111,
             "#46039f"
            ],
            [
             0.2222222222222222,
             "#7201a8"
            ],
            [
             0.3333333333333333,
             "#9c179e"
            ],
            [
             0.4444444444444444,
             "#bd3786"
            ],
            [
             0.5555555555555556,
             "#d8576b"
            ],
            [
             0.6666666666666666,
             "#ed7953"
            ],
            [
             0.7777777777777778,
             "#fb9f3a"
            ],
            [
             0.8888888888888888,
             "#fdca26"
            ],
            [
             1,
             "#f0f921"
            ]
           ]
          },
          "colorway": [
           "#636efa",
           "#EF553B",
           "#00cc96",
           "#ab63fa",
           "#FFA15A",
           "#19d3f3",
           "#FF6692",
           "#B6E880",
           "#FF97FF",
           "#FECB52"
          ],
          "font": {
           "color": "#2a3f5f"
          },
          "geo": {
           "bgcolor": "white",
           "lakecolor": "white",
           "landcolor": "#E5ECF6",
           "showlakes": true,
           "showland": true,
           "subunitcolor": "white"
          },
          "hoverlabel": {
           "align": "left"
          },
          "hovermode": "closest",
          "mapbox": {
           "style": "light"
          },
          "paper_bgcolor": "white",
          "plot_bgcolor": "#E5ECF6",
          "polar": {
           "angularaxis": {
            "gridcolor": "white",
            "linecolor": "white",
            "ticks": ""
           },
           "bgcolor": "#E5ECF6",
           "radialaxis": {
            "gridcolor": "white",
            "linecolor": "white",
            "ticks": ""
           }
          },
          "scene": {
           "xaxis": {
            "backgroundcolor": "#E5ECF6",
            "gridcolor": "white",
            "gridwidth": 2,
            "linecolor": "white",
            "showbackground": true,
            "ticks": "",
            "zerolinecolor": "white"
           },
           "yaxis": {
            "backgroundcolor": "#E5ECF6",
            "gridcolor": "white",
            "gridwidth": 2,
            "linecolor": "white",
            "showbackground": true,
            "ticks": "",
            "zerolinecolor": "white"
           },
           "zaxis": {
            "backgroundcolor": "#E5ECF6",
            "gridcolor": "white",
            "gridwidth": 2,
            "linecolor": "white",
            "showbackground": true,
            "ticks": "",
            "zerolinecolor": "white"
           }
          },
          "shapedefaults": {
           "line": {
            "color": "#2a3f5f"
           }
          },
          "ternary": {
           "aaxis": {
            "gridcolor": "white",
            "linecolor": "white",
            "ticks": ""
           },
           "baxis": {
            "gridcolor": "white",
            "linecolor": "white",
            "ticks": ""
           },
           "bgcolor": "#E5ECF6",
           "caxis": {
            "gridcolor": "white",
            "linecolor": "white",
            "ticks": ""
           }
          },
          "title": {
           "x": 0.05
          },
          "xaxis": {
           "automargin": true,
           "gridcolor": "white",
           "linecolor": "white",
           "ticks": "",
           "title": {
            "standoff": 15
           },
           "zerolinecolor": "white",
           "zerolinewidth": 2
          },
          "yaxis": {
           "automargin": true,
           "gridcolor": "white",
           "linecolor": "white",
           "ticks": "",
           "title": {
            "standoff": 15
           },
           "zerolinecolor": "white",
           "zerolinewidth": 2
          }
         }
        },
        "title": {
         "text": "Test data"
        },
        "width": 500,
        "xaxis": {
         "anchor": "y",
         "domain": [
          0,
          1
         ],
         "title": {
          "text": "True_Value"
         }
        },
        "yaxis": {
         "anchor": "x",
         "domain": [
          0,
          1
         ],
         "title": {
          "text": "Predict_Value"
         }
        }
       }
      }
     },
     "metadata": {},
     "output_type": "display_data"
    },
    {
     "name": "stdout",
     "output_type": "stream",
     "text": [
      "    True_Value  Predict_Value\n",
      "0       678.23     670.569661\n",
      "1       475.19     483.111873\n",
      "2       459.77     452.637713\n",
      "3       559.44     559.913229\n",
      "4       392.15     413.849454\n",
      "5       380.92     376.113780\n",
      "6       765.98     770.763832\n",
      "7       483.22     457.975016\n",
      "8       498.21     427.341347\n",
      "9       849.24     825.154237\n",
      "10      638.01     635.151039\n",
      "11      404.60     365.355730\n",
      "12      623.58     637.617037\n",
      "13      499.00     484.540576\n",
      "14      492.08     486.683998\n",
      "15      888.93     760.606136\n",
      "16      621.79     595.673953\n",
      "17      416.61     437.617161\n",
      "18      708.82     631.881679\n",
      "19      504.91     483.616698\n",
      "20      323.80     349.887670\n",
      "21      542.32     517.029467\n",
      "22      388.26     385.431688\n",
      "23      261.03     276.030423\n",
      "24      269.99     305.692286\n",
      "25      205.45     218.687652\n",
      "26      199.19     217.535447\n",
      "27      167.85     237.497074\n",
      "28      160.03     170.004297\n",
      "29      167.85     166.007438\n",
      "Residual sum of squares for train (MSE): 301.63\n",
      "R2-score for train: 0.99\n",
      "Residual sum of squares for test (MSE): 1372.31\n",
      "R2-score for test: 0.96\n",
      "Coefficent shape: (1, 21)\n"
     ]
    },
    {
     "data": {
      "text/plain": [
       "(array([110.77593552, 108.05776168, 108.0428105 , 106.5564421 ,\n",
       "        109.79143976, 104.57819769,  99.13028587, 118.28931992,\n",
       "        105.04913502, 111.02418716, 129.74180749, 125.83749276,\n",
       "        127.16682087, 126.49057206, 128.36075899, 105.2660241 ,\n",
       "        130.81663455,  97.8784848 , 127.78251368,  98.61550662,\n",
       "        160.79104056, 160.9242988 , 157.42995075, 159.92246842,\n",
       "        159.23186186, 117.77926511, 163.35537068, 114.72588266,\n",
       "        157.96294026, 113.10459491, 143.98189627, 148.58842203,\n",
       "        138.26376194, 146.64386053, 142.33140446, 205.71251816,\n",
       "        129.93038457, 206.00891594, 119.31843388, 142.34013151,\n",
       "        181.77425975, 190.41835848, 175.27002223, 186.8188873 ,\n",
       "        185.25565812, 264.5062403 , 147.44528081, 270.04957656,\n",
       "        129.49205473, 181.7290551 , 233.43886776, 246.12053947,\n",
       "        239.37924456, 237.47639812, 241.04708267, 353.40364848,\n",
       "        181.19117556, 347.67500524, 161.36553972, 234.99022323,\n",
       "        279.17372167, 282.33059052, 264.47326347, 281.24325235,\n",
       "        280.53985123, 386.54557632, 205.65588916, 282.20826899,\n",
       "        268.46944218, 187.95146805, 217.61663414, 225.32891371,\n",
       "        204.85109441, 223.60366908, 230.95684516, 315.694965  ,\n",
       "        185.8168605 , 320.20865574, 162.76318836, 214.07093839,\n",
       "        252.85778032, 251.17178765, 238.57476926, 255.49765042,\n",
       "        238.91163318, 186.1758531 , 360.32767296, 248.98756143,\n",
       "        347.98530781, 175.47107086, 285.5799527 , 408.67741764,\n",
       "        269.08851156, 288.17210935, 274.33531899, 193.24336167,\n",
       "        293.19421214, 285.29277732, 187.24144811, 183.12708969,\n",
       "        321.77018621, 455.35294191, 610.42244676, 452.7662385 ,\n",
       "        324.31462941, 327.81241633, 330.12283539, 325.06605434,\n",
       "        457.09824059, 312.65761331, 361.42848085, 370.63475905,\n",
       "        375.12790756, 363.92521061, 355.58687402, 201.21121765,\n",
       "        370.51951977, 225.7579561 , 368.67851714, 208.84331075,\n",
       "        407.00385294, 415.01679178, 416.66036383, 403.90238486,\n",
       "        378.46712987, 229.32570926, 410.81474891, 256.00994421,\n",
       "        395.66665538, 244.79467964, 453.5505564 , 465.19425221,\n",
       "        468.11027165, 450.35366143, 427.66763332, 257.32938336,\n",
       "        458.05212867, 281.85964083, 447.02113631, 266.22751612,\n",
       "        503.565321  , 518.83977376, 523.02824061, 500.27299914,\n",
       "        480.33619791, 288.80111859, 508.75756956, 311.17739858,\n",
       "        501.84367838, 291.12841373, 755.25336555, 770.6544624 ,\n",
       "        800.33136945, 752.19407077, 745.26815038, 589.60891228,\n",
       "        752.4587333 , 573.78329202, 788.32595449, 557.04814673,\n",
       "        703.19835246, 411.05882964, 405.29036087, 419.93903865,\n",
       "        396.03545837, 292.69688193, 426.12363078, 328.45809991,\n",
       "        394.69591178, 327.56596384, 841.79737267, 508.35926305,\n",
       "        505.13568908, 509.78710436, 491.38197785, 345.4588889 ,\n",
       "        517.54390286, 377.10300572, 494.35038621, 367.37714936,\n",
       "        613.50741461, 616.79983208, 599.50426251, 609.75749738,\n",
       "        577.00467934, 412.09314042, 622.83641948, 446.74663264,\n",
       "        576.45796002, 470.79908951, 731.09996939, 741.65390078,\n",
       "        731.61984513, 727.15919838, 699.90483411, 492.59963646,\n",
       "        742.00118064, 522.94517373, 708.38268885, 543.07138321]),\n",
       " array([670.56966143, 483.11187262, 452.63771306, 559.91322892,\n",
       "        413.84945379, 376.11378031, 770.763832  , 457.97501578,\n",
       "        427.3413471 , 825.1542375 , 635.15103903, 365.35573018,\n",
       "        637.61703677, 484.54057619, 486.68399819, 760.60613571,\n",
       "        595.67395313, 437.61716097, 631.88167905, 483.61669829,\n",
       "        349.88766994, 517.02946693, 385.43168799, 276.03042344,\n",
       "        305.6922855 , 218.68765239, 217.53544713, 237.49707449,\n",
       "        170.00429698, 166.00743794]))"
      ]
     },
     "execution_count": 29,
     "metadata": {},
     "output_type": "execute_result"
    }
   ],
   "source": [
    "# All parameters\n",
    "polyEstimate(x_train_mid_stress, ym_train_mid_stress.Sv, x_test_mid_stress, ym_test_mid_stress.Sv, print_test=1)"
   ]
  },
  {
   "cell_type": "markdown",
   "metadata": {},
   "source": [
    "<h2 style=\"color:cyan\">Polynomial Regression Model - All inputs - Mid stress</h2>"
   ]
  },
  {
   "cell_type": "code",
   "execution_count": 30,
   "metadata": {},
   "outputs": [
    {
     "data": {
      "application/vnd.plotly.v1+json": {
       "config": {
        "plotlyServerURL": "https://plot.ly"
       },
       "data": [
        {
         "hovertemplate": "True_Value=%{x}<br>Predict_Value=%{y}<extra></extra>",
         "legendgroup": "",
         "marker": {
          "color": "#636efa",
          "symbol": "circle"
         },
         "mode": "markers",
         "name": "",
         "orientation": "v",
         "showlegend": false,
         "type": "scatter",
         "x": [
          51.945,
          42.495,
          52.702,
          41.961,
          50.844,
          51.273,
          36.215,
          59.938,
          41.882,
          62.453,
          73.325,
          59.914,
          72.555,
          63.157,
          70.736,
          71.702,
          71.68,
          75.754,
          71.227,
          82.583,
          98.584,
          78.395,
          96.548,
          76.269,
          94.534,
          96.701,
          95.87,
          80.553,
          94.908,
          81.795,
          168.6,
          129.52,
          162.84,
          128.57,
          97.958,
          122.72,
          136.87,
          82.043,
          190.71,
          118.09,
          213.63,
          159.22,
          192.15,
          147.12,
          121.68,
          157.71,
          178.93,
          160.74,
          148.05,
          147.22,
          263.48,
          205.87,
          158.16,
          255.9,
          191.31,
          122.4,
          330.77,
          153.05,
          180.02,
          193.07,
          201.5,
          169.67,
          246.05,
          196.28,
          162.78,
          217.09,
          234.38,
          165.46,
          239.7,
          232.75,
          270.91,
          379.49,
          265.96,
          213.19,
          344.79,
          222.68,
          296.1,
          294.32,
          338.93,
          213.48,
          251,
          188.9,
          307.11,
          227.59,
          178.06,
          411.91,
          193.86,
          182.3,
          228.35,
          308.09,
          253.63,
          229.06,
          322.61,
          247.33,
          192.69,
          428.84,
          249.53,
          197.23,
          411.18,
          312.08,
          271.29,
          234.41,
          186.85,
          230.33,
          265.91,
          272.8,
          264.76,
          211.47,
          188.28,
          266.41,
          291.69,
          231.77,
          195.91,
          286.1,
          223.49,
          251.23,
          285.8,
          287.15,
          193.49,
          382.23,
          307.45,
          242.61,
          204.56,
          298.2,
          235.07,
          263.29,
          303.96,
          294.73,
          202.26,
          386.39,
          340.74,
          262.4,
          223.29,
          331.81,
          255.19,
          293.21,
          329.77,
          318.96,
          219.94,
          406.4,
          358.23,
          295.55,
          238.8,
          349.85,
          280.41,
          299.34,
          351.22,
          339.44,
          235.57,
          440.73,
          352.48,
          289.02,
          224.43,
          347.89,
          274.65,
          271.24,
          352.83,
          310.76,
          223.46,
          371.71,
          365.55,
          363.98,
          323.72,
          428.73,
          351.28,
          365.94,
          428.74,
          403.61,
          311.73,
          503.22,
          430.8,
          449.95,
          403.05,
          463.32,
          410.09,
          408.17,
          456.26,
          468.65,
          349.78,
          539.04,
          515.96,
          444.45,
          416.19,
          509.18,
          434.87,
          460.28,
          521.62,
          505.31,
          386.51,
          626.26,
          580.27,
          530.93,
          494.3,
          563.77,
          502.04,
          511.18,
          566.08,
          561.47,
          440.37,
          654.45
         ],
         "xaxis": "x",
         "y": [
          57.364939259059184,
          38.392146607525966,
          55.246600885166615,
          37.68090525525399,
          60.7722579120043,
          56.364849673806326,
          29.300279346108894,
          79.269706338445,
          36.11812052332572,
          79.01830105030336,
          79.23833535258612,
          55.82223903374853,
          77.1249516460098,
          53.683224432626176,
          78.00226038049749,
          77.96327466307832,
          74.47609936645154,
          54.320874373231746,
          75.82137294991793,
          54.00276970186064,
          103.1333579215551,
          77.56195457051072,
          100.00213900913303,
          72.34819351847617,
          99.65927301883703,
          101.57782269449629,
          99.36771630789113,
          74.09627357262232,
          97.65948427382037,
          70.72466328371408,
          165.8534498223909,
          132.28359196208237,
          162.17465412447905,
          123.14972218540882,
          93.67104504406957,
          130.14555546669672,
          157.15043980510825,
          74.56686148746289,
          196.55198528098646,
          120.11194992053271,
          199.89332525005236,
          164.16816035753703,
          195.19669434629483,
          151.95954412995127,
          116.4461898927055,
          160.27492798801097,
          192.50805089943506,
          158.50247511928825,
          145.39298269048714,
          147.90393665922943,
          237.05037565388645,
          199.16990372916433,
          144.41700151130186,
          228.68782839978508,
          179.51204743173412,
          118.18679743097269,
          280.48948211522475,
          153.79848398377658,
          175.97851993895148,
          178.81309837409884,
          217.83971603104268,
          180.9324676808614,
          256.79784147186825,
          207.84863184293715,
          161.80397711636448,
          220.3659052729379,
          251.35351880697146,
          170.00539560282084,
          247.91575619815643,
          245.6447306446833,
          285.14604997175167,
          342.2324744775616,
          276.15020421596495,
          223.63904731372082,
          314.44656388800837,
          237.28882207696427,
          301.64255042853745,
          275.93481237850847,
          359.13111947570667,
          215.77886016134335,
          243.1860968508726,
          187.63239293755345,
          286.75960876775036,
          233.55556665940725,
          175.213580497413,
          390.2000110570458,
          196.01367530835336,
          178.4190875078251,
          231.44884505601752,
          307.2758151479801,
          263.5124401320676,
          224.93187172467407,
          308.48598844534865,
          253.28244299489796,
          188.90577973699706,
          417.4563446785828,
          254.8210119526907,
          194.32805584466365,
          396.9235120355802,
          330.496975015718,
          284.61807715730583,
          238.58047186835682,
          198.5612225290717,
          230.12865749405495,
          273.78861307443185,
          289.75167813637745,
          276.3450172380702,
          211.01631792554525,
          181.49591601554877,
          265.4521171199504,
          306.50300792658703,
          239.495580017311,
          195.283504255561,
          295.07407689800874,
          218.6280594482947,
          255.5316185710161,
          298.648316267493,
          291.5917731767847,
          192.42061319675656,
          379.2771759833232,
          317.138834465629,
          246.73072331943789,
          203.79604914953518,
          305.865306427121,
          246.41781224925086,
          262.2416211763515,
          305.3029873715844,
          294.4010641345236,
          209.65460105057497,
          389.2064838412608,
          339.98288577729227,
          265.7568666324489,
          215.9507788463568,
          327.5104238473757,
          262.02825257359893,
          279.9263048171119,
          327.9659399976847,
          316.74039229421896,
          220.61039685598797,
          414.3458847937627,
          363.60623083299873,
          285.5623036895031,
          228.88480228722165,
          349.93483501167356,
          278.41798664199024,
          298.39028220191545,
          351.4081863678283,
          339.85901419795755,
          232.34548640544415,
          440.2645794903078,
          355.8257550575458,
          284.1019809731308,
          237.04417672077275,
          341.7994091392892,
          256.0657549632565,
          282.8678198809241,
          344.7501092805961,
          310.208346832557,
          231.58387077228997,
          388.00886963274843,
          364.2628852659918,
          376.48283504145616,
          342.6006637801472,
          413.8906423734321,
          347.4938017358024,
          370.591583348752,
          412.66280801764754,
          403.1704792626936,
          333.7883969133295,
          491.5854572618287,
          412.0863369678975,
          424.4957743308346,
          376.8707758371469,
          467.14152987729767,
          388.67533504785484,
          413.5237355108121,
          467.94936593320443,
          457.80978824544064,
          365.66064118751206,
          551.8249118301889,
          523.5095923573357,
          445.72025574785994,
          422.3555234802559,
          509.8138671987457,
          442.3115185452401,
          459.5730626490441,
          526.353098824934,
          493.19439773495606,
          410.3286973686143,
          617.2007903418186,
          582.9948298135467,
          497.56967720676647,
          466.56912894185797,
          566.9012368721395,
          487.32953402682074,
          508.73956476344927,
          587.8740066928364,
          551.6701888872311,
          452.14443504739904,
          689.7816060975983
         ],
         "yaxis": "y"
        },
        {
         "hovertemplate": "<b>OLS trendline</b><br>Predict_Value = 0.992337 * True_Value + 2.02097<br>R<sup>2</sup>=0.992337<br><br>True_Value=%{x}<br>Predict_Value=%{y} <b>(trend)</b><extra></extra>",
         "legendgroup": "",
         "marker": {
          "color": "#636efa",
          "symbol": "circle"
         },
         "mode": "lines",
         "name": "",
         "showlegend": false,
         "type": "scatter",
         "x": [
          36.215,
          41.882,
          41.961,
          42.495,
          50.844,
          51.273,
          51.945,
          52.702,
          59.914,
          59.938,
          62.453,
          63.157,
          70.736,
          71.227,
          71.68,
          71.702,
          72.555,
          73.325,
          75.754,
          76.269,
          78.395,
          80.553,
          81.795,
          82.043,
          82.583,
          94.534,
          94.908,
          95.87,
          96.548,
          96.701,
          97.958,
          98.584,
          118.09,
          121.68,
          122.4,
          122.72,
          128.57,
          129.52,
          136.87,
          147.12,
          147.22,
          148.05,
          153.05,
          157.71,
          158.16,
          159.22,
          160.74,
          162.78,
          162.84,
          165.46,
          168.6,
          169.67,
          178.06,
          178.93,
          180.02,
          182.3,
          186.85,
          188.28,
          188.9,
          190.71,
          191.31,
          192.15,
          192.69,
          193.07,
          193.49,
          193.86,
          195.91,
          196.28,
          197.23,
          201.5,
          202.26,
          204.56,
          205.87,
          211.47,
          213.19,
          213.48,
          213.63,
          217.09,
          219.94,
          222.68,
          223.29,
          223.46,
          223.49,
          224.43,
          227.59,
          228.35,
          229.06,
          230.33,
          231.77,
          232.75,
          234.38,
          234.41,
          235.07,
          235.57,
          238.8,
          239.7,
          242.61,
          246.05,
          247.33,
          249.53,
          251,
          251.23,
          253.63,
          255.19,
          255.9,
          262.4,
          263.29,
          263.48,
          264.76,
          265.91,
          265.96,
          266.41,
          270.91,
          271.24,
          271.29,
          272.8,
          274.65,
          280.41,
          285.8,
          286.1,
          287.15,
          289.02,
          291.69,
          293.21,
          294.32,
          294.73,
          295.55,
          296.1,
          298.2,
          299.34,
          303.96,
          307.11,
          307.45,
          308.09,
          310.76,
          311.73,
          312.08,
          318.96,
          322.61,
          323.72,
          329.77,
          330.77,
          331.81,
          338.93,
          339.44,
          340.74,
          344.79,
          347.89,
          349.78,
          349.85,
          351.22,
          351.28,
          352.48,
          352.83,
          358.23,
          363.98,
          365.55,
          365.94,
          371.71,
          379.49,
          382.23,
          386.39,
          386.51,
          403.05,
          403.61,
          406.4,
          408.17,
          410.09,
          411.18,
          411.91,
          416.19,
          428.73,
          428.74,
          428.84,
          430.8,
          434.87,
          440.37,
          440.73,
          444.45,
          449.95,
          456.26,
          460.28,
          463.32,
          468.65,
          494.3,
          502.04,
          503.22,
          505.31,
          509.18,
          511.18,
          515.96,
          521.62,
          530.93,
          539.04,
          561.47,
          563.77,
          566.08,
          580.27,
          626.26,
          654.45
         ],
         "xaxis": "x",
         "y": [
          37.95844157918862,
          43.58201366135546,
          43.660408260701,
          44.19031605880883,
          52.47533517192176,
          52.90104761646907,
          53.567897879256456,
          54.31909676159284,
          61.47582904615033,
          61.49964512696417,
          63.99537192891398,
          64.6939769661198,
          72.21489681978886,
          72.7021341397719,
          73.15166266513305,
          73.17349407254572,
          74.01995727813745,
          74.78405653758134,
          77.19444238328158,
          77.70549578407847,
          79.81520360950402,
          81.95666620934804,
          83.18914839146402,
          83.43524789320699,
          83.97110971151827,
          95.83052562010765,
          96.20165954612324,
          97.1562874520778,
          97.82909173506864,
          97.98091925025683,
          99.22828648288146,
          99.84948925744233,
          119.20600893888692,
          122.76849769395643,
          123.4829801183715,
          123.80052786255595,
          129.6056975609283,
          130.54841742647596,
          137.842092175713,
          148.01354335662177,
          148.11277702667942,
          148.9364164881579,
          153.89809999104025,
          158.5223890157266,
          158.96894053098598,
          160.02081743359705,
          161.52916921847327,
          163.55353608764926,
          163.61307628968385,
          166.21299844519422,
          169.3289356850043,
          170.3907359546211,
          178.7164408724577,
          179.57977380195922,
          180.66142080558757,
          182.92394848290192,
          187.43908047052483,
          188.8581219523492,
          189.47337070670662,
          191.26950013475002,
          191.8649021550959,
          192.69846498358012,
          193.2343268018914,
          193.61141474811046,
          194.0281961623526,
          194.3953607415659,
          196.42965097774763,
          196.79681555696092,
          197.73953542250857,
          201.9768131339701,
          202.7309890264082,
          205.01336343773409,
          206.31332451548926,
          211.87041003871747,
          213.577229163709,
          213.86500680687618,
          214.01385731196265,
          217.44734229595724,
          220.27550189260015,
          222.99450445217968,
          223.5998298395313,
          223.76852707862935,
          223.79829717964662,
          224.7310936781885,
          227.86687765201015,
          228.62105354444824,
          229.32561260185756,
          230.58588021158968,
          232.0148450604198,
          232.9873350269847,
          234.60484384892436,
          234.63461394994164,
          235.2895561723221,
          235.78572452261034,
          238.99097206547236,
          239.88407509599116,
          242.7717748946687,
          246.18541314465176,
          247.45560412138963,
          249.63874486265786,
          251.09747981250524,
          251.32571725363783,
          253.70732533502135,
          255.25537058792065,
          255.95992964532996,
          262.410118199077,
          263.29329786259007,
          263.4818418356996,
          264.75203281243745,
          265.8932200181004,
          265.94283685312917,
          266.38938836838867,
          270.85490352098276,
          271.182374632173,
          271.2319914672018,
          272.73041988507225,
          274.56624278113867,
          280.2821021764592,
          285.63079699256633,
          285.9284980027393,
          286.97045153834455,
          288.82612116842256,
          291.4756601589617,
          292.9840119438379,
          294.08550568147785,
          294.4923637287142,
          295.3060798231869,
          295.851865008504,
          297.9357720797145,
          299.0670359183717,
          303.65163147503495,
          306.7774920818509,
          307.11488656004684,
          307.7499820484158,
          310.39952103895496,
          311.36208763851414,
          311.7094054837159,
          318.536681983682,
          322.15871094078614,
          323.260204678426,
          329.2638417169136,
          330.25617841749005,
          331.28820858608964,
          338.3536458941941,
          338.8597376114881,
          340.1497753222375,
          344.1687389595722,
          347.2449827313592,
          349.12049909544874,
          349.18996266448914,
          350.5494639442789,
          350.6090041463134,
          351.7998081870052,
          352.147126032207,
          357.5057442153199,
          363.2116802436346,
          364.76964886353966,
          365.1566601767645,
          370.88244293909065,
          378.60282246957564,
          381.32182502915515,
          385.4499457035532,
          385.5690261076224,
          401.9822751351572,
          402.53798368748005,
          405.3066030820883,
          407.0630390421087,
          408.9683255072155,
          410.0499725108439,
          410.7743783022647,
          415.02157938073196,
          427.4654816059609,
          427.47540497296666,
          427.5746386430243,
          429.5196185761542,
          433.5584289475004,
          439.016280800671,
          439.37352201287854,
          443.06501453902297,
          448.5228663921935,
          454.784510972831,
          458.7737045091484,
          461.7904080789009,
          467.07956269297347,
          492.53299906275987,
          500.2136851252218,
          501.384642431902,
          503.4586261361068,
          507.2989691673377,
          509.2836425684907,
          514.0270119972463,
          519.6436377225091,
          528.8822924048759,
          536.930143046551,
          559.1882552404813,
          561.4706296518071,
          563.7629274301388,
          577.8441852113189,
          623.4817500708306,
          651.4557216600813
         ],
         "yaxis": "y"
        }
       ],
       "layout": {
        "height": 400,
        "legend": {
         "tracegroupgap": 0
        },
        "margin": {
         "b": 10,
         "l": 10,
         "r": 10,
         "t": 20
        },
        "template": {
         "data": {
          "bar": [
           {
            "error_x": {
             "color": "#2a3f5f"
            },
            "error_y": {
             "color": "#2a3f5f"
            },
            "marker": {
             "line": {
              "color": "#E5ECF6",
              "width": 0.5
             },
             "pattern": {
              "fillmode": "overlay",
              "size": 10,
              "solidity": 0.2
             }
            },
            "type": "bar"
           }
          ],
          "barpolar": [
           {
            "marker": {
             "line": {
              "color": "#E5ECF6",
              "width": 0.5
             },
             "pattern": {
              "fillmode": "overlay",
              "size": 10,
              "solidity": 0.2
             }
            },
            "type": "barpolar"
           }
          ],
          "carpet": [
           {
            "aaxis": {
             "endlinecolor": "#2a3f5f",
             "gridcolor": "white",
             "linecolor": "white",
             "minorgridcolor": "white",
             "startlinecolor": "#2a3f5f"
            },
            "baxis": {
             "endlinecolor": "#2a3f5f",
             "gridcolor": "white",
             "linecolor": "white",
             "minorgridcolor": "white",
             "startlinecolor": "#2a3f5f"
            },
            "type": "carpet"
           }
          ],
          "choropleth": [
           {
            "colorbar": {
             "outlinewidth": 0,
             "ticks": ""
            },
            "type": "choropleth"
           }
          ],
          "contour": [
           {
            "colorbar": {
             "outlinewidth": 0,
             "ticks": ""
            },
            "colorscale": [
             [
              0,
              "#0d0887"
             ],
             [
              0.1111111111111111,
              "#46039f"
             ],
             [
              0.2222222222222222,
              "#7201a8"
             ],
             [
              0.3333333333333333,
              "#9c179e"
             ],
             [
              0.4444444444444444,
              "#bd3786"
             ],
             [
              0.5555555555555556,
              "#d8576b"
             ],
             [
              0.6666666666666666,
              "#ed7953"
             ],
             [
              0.7777777777777778,
              "#fb9f3a"
             ],
             [
              0.8888888888888888,
              "#fdca26"
             ],
             [
              1,
              "#f0f921"
             ]
            ],
            "type": "contour"
           }
          ],
          "contourcarpet": [
           {
            "colorbar": {
             "outlinewidth": 0,
             "ticks": ""
            },
            "type": "contourcarpet"
           }
          ],
          "heatmap": [
           {
            "colorbar": {
             "outlinewidth": 0,
             "ticks": ""
            },
            "colorscale": [
             [
              0,
              "#0d0887"
             ],
             [
              0.1111111111111111,
              "#46039f"
             ],
             [
              0.2222222222222222,
              "#7201a8"
             ],
             [
              0.3333333333333333,
              "#9c179e"
             ],
             [
              0.4444444444444444,
              "#bd3786"
             ],
             [
              0.5555555555555556,
              "#d8576b"
             ],
             [
              0.6666666666666666,
              "#ed7953"
             ],
             [
              0.7777777777777778,
              "#fb9f3a"
             ],
             [
              0.8888888888888888,
              "#fdca26"
             ],
             [
              1,
              "#f0f921"
             ]
            ],
            "type": "heatmap"
           }
          ],
          "heatmapgl": [
           {
            "colorbar": {
             "outlinewidth": 0,
             "ticks": ""
            },
            "colorscale": [
             [
              0,
              "#0d0887"
             ],
             [
              0.1111111111111111,
              "#46039f"
             ],
             [
              0.2222222222222222,
              "#7201a8"
             ],
             [
              0.3333333333333333,
              "#9c179e"
             ],
             [
              0.4444444444444444,
              "#bd3786"
             ],
             [
              0.5555555555555556,
              "#d8576b"
             ],
             [
              0.6666666666666666,
              "#ed7953"
             ],
             [
              0.7777777777777778,
              "#fb9f3a"
             ],
             [
              0.8888888888888888,
              "#fdca26"
             ],
             [
              1,
              "#f0f921"
             ]
            ],
            "type": "heatmapgl"
           }
          ],
          "histogram": [
           {
            "marker": {
             "pattern": {
              "fillmode": "overlay",
              "size": 10,
              "solidity": 0.2
             }
            },
            "type": "histogram"
           }
          ],
          "histogram2d": [
           {
            "colorbar": {
             "outlinewidth": 0,
             "ticks": ""
            },
            "colorscale": [
             [
              0,
              "#0d0887"
             ],
             [
              0.1111111111111111,
              "#46039f"
             ],
             [
              0.2222222222222222,
              "#7201a8"
             ],
             [
              0.3333333333333333,
              "#9c179e"
             ],
             [
              0.4444444444444444,
              "#bd3786"
             ],
             [
              0.5555555555555556,
              "#d8576b"
             ],
             [
              0.6666666666666666,
              "#ed7953"
             ],
             [
              0.7777777777777778,
              "#fb9f3a"
             ],
             [
              0.8888888888888888,
              "#fdca26"
             ],
             [
              1,
              "#f0f921"
             ]
            ],
            "type": "histogram2d"
           }
          ],
          "histogram2dcontour": [
           {
            "colorbar": {
             "outlinewidth": 0,
             "ticks": ""
            },
            "colorscale": [
             [
              0,
              "#0d0887"
             ],
             [
              0.1111111111111111,
              "#46039f"
             ],
             [
              0.2222222222222222,
              "#7201a8"
             ],
             [
              0.3333333333333333,
              "#9c179e"
             ],
             [
              0.4444444444444444,
              "#bd3786"
             ],
             [
              0.5555555555555556,
              "#d8576b"
             ],
             [
              0.6666666666666666,
              "#ed7953"
             ],
             [
              0.7777777777777778,
              "#fb9f3a"
             ],
             [
              0.8888888888888888,
              "#fdca26"
             ],
             [
              1,
              "#f0f921"
             ]
            ],
            "type": "histogram2dcontour"
           }
          ],
          "mesh3d": [
           {
            "colorbar": {
             "outlinewidth": 0,
             "ticks": ""
            },
            "type": "mesh3d"
           }
          ],
          "parcoords": [
           {
            "line": {
             "colorbar": {
              "outlinewidth": 0,
              "ticks": ""
             }
            },
            "type": "parcoords"
           }
          ],
          "pie": [
           {
            "automargin": true,
            "type": "pie"
           }
          ],
          "scatter": [
           {
            "marker": {
             "colorbar": {
              "outlinewidth": 0,
              "ticks": ""
             }
            },
            "type": "scatter"
           }
          ],
          "scatter3d": [
           {
            "line": {
             "colorbar": {
              "outlinewidth": 0,
              "ticks": ""
             }
            },
            "marker": {
             "colorbar": {
              "outlinewidth": 0,
              "ticks": ""
             }
            },
            "type": "scatter3d"
           }
          ],
          "scattercarpet": [
           {
            "marker": {
             "colorbar": {
              "outlinewidth": 0,
              "ticks": ""
             }
            },
            "type": "scattercarpet"
           }
          ],
          "scattergeo": [
           {
            "marker": {
             "colorbar": {
              "outlinewidth": 0,
              "ticks": ""
             }
            },
            "type": "scattergeo"
           }
          ],
          "scattergl": [
           {
            "marker": {
             "colorbar": {
              "outlinewidth": 0,
              "ticks": ""
             }
            },
            "type": "scattergl"
           }
          ],
          "scattermapbox": [
           {
            "marker": {
             "colorbar": {
              "outlinewidth": 0,
              "ticks": ""
             }
            },
            "type": "scattermapbox"
           }
          ],
          "scatterpolar": [
           {
            "marker": {
             "colorbar": {
              "outlinewidth": 0,
              "ticks": ""
             }
            },
            "type": "scatterpolar"
           }
          ],
          "scatterpolargl": [
           {
            "marker": {
             "colorbar": {
              "outlinewidth": 0,
              "ticks": ""
             }
            },
            "type": "scatterpolargl"
           }
          ],
          "scatterternary": [
           {
            "marker": {
             "colorbar": {
              "outlinewidth": 0,
              "ticks": ""
             }
            },
            "type": "scatterternary"
           }
          ],
          "surface": [
           {
            "colorbar": {
             "outlinewidth": 0,
             "ticks": ""
            },
            "colorscale": [
             [
              0,
              "#0d0887"
             ],
             [
              0.1111111111111111,
              "#46039f"
             ],
             [
              0.2222222222222222,
              "#7201a8"
             ],
             [
              0.3333333333333333,
              "#9c179e"
             ],
             [
              0.4444444444444444,
              "#bd3786"
             ],
             [
              0.5555555555555556,
              "#d8576b"
             ],
             [
              0.6666666666666666,
              "#ed7953"
             ],
             [
              0.7777777777777778,
              "#fb9f3a"
             ],
             [
              0.8888888888888888,
              "#fdca26"
             ],
             [
              1,
              "#f0f921"
             ]
            ],
            "type": "surface"
           }
          ],
          "table": [
           {
            "cells": {
             "fill": {
              "color": "#EBF0F8"
             },
             "line": {
              "color": "white"
             }
            },
            "header": {
             "fill": {
              "color": "#C8D4E3"
             },
             "line": {
              "color": "white"
             }
            },
            "type": "table"
           }
          ]
         },
         "layout": {
          "annotationdefaults": {
           "arrowcolor": "#2a3f5f",
           "arrowhead": 0,
           "arrowwidth": 1
          },
          "autotypenumbers": "strict",
          "coloraxis": {
           "colorbar": {
            "outlinewidth": 0,
            "ticks": ""
           }
          },
          "colorscale": {
           "diverging": [
            [
             0,
             "#8e0152"
            ],
            [
             0.1,
             "#c51b7d"
            ],
            [
             0.2,
             "#de77ae"
            ],
            [
             0.3,
             "#f1b6da"
            ],
            [
             0.4,
             "#fde0ef"
            ],
            [
             0.5,
             "#f7f7f7"
            ],
            [
             0.6,
             "#e6f5d0"
            ],
            [
             0.7,
             "#b8e186"
            ],
            [
             0.8,
             "#7fbc41"
            ],
            [
             0.9,
             "#4d9221"
            ],
            [
             1,
             "#276419"
            ]
           ],
           "sequential": [
            [
             0,
             "#0d0887"
            ],
            [
             0.1111111111111111,
             "#46039f"
            ],
            [
             0.2222222222222222,
             "#7201a8"
            ],
            [
             0.3333333333333333,
             "#9c179e"
            ],
            [
             0.4444444444444444,
             "#bd3786"
            ],
            [
             0.5555555555555556,
             "#d8576b"
            ],
            [
             0.6666666666666666,
             "#ed7953"
            ],
            [
             0.7777777777777778,
             "#fb9f3a"
            ],
            [
             0.8888888888888888,
             "#fdca26"
            ],
            [
             1,
             "#f0f921"
            ]
           ],
           "sequentialminus": [
            [
             0,
             "#0d0887"
            ],
            [
             0.1111111111111111,
             "#46039f"
            ],
            [
             0.2222222222222222,
             "#7201a8"
            ],
            [
             0.3333333333333333,
             "#9c179e"
            ],
            [
             0.4444444444444444,
             "#bd3786"
            ],
            [
             0.5555555555555556,
             "#d8576b"
            ],
            [
             0.6666666666666666,
             "#ed7953"
            ],
            [
             0.7777777777777778,
             "#fb9f3a"
            ],
            [
             0.8888888888888888,
             "#fdca26"
            ],
            [
             1,
             "#f0f921"
            ]
           ]
          },
          "colorway": [
           "#636efa",
           "#EF553B",
           "#00cc96",
           "#ab63fa",
           "#FFA15A",
           "#19d3f3",
           "#FF6692",
           "#B6E880",
           "#FF97FF",
           "#FECB52"
          ],
          "font": {
           "color": "#2a3f5f"
          },
          "geo": {
           "bgcolor": "white",
           "lakecolor": "white",
           "landcolor": "#E5ECF6",
           "showlakes": true,
           "showland": true,
           "subunitcolor": "white"
          },
          "hoverlabel": {
           "align": "left"
          },
          "hovermode": "closest",
          "mapbox": {
           "style": "light"
          },
          "paper_bgcolor": "white",
          "plot_bgcolor": "#E5ECF6",
          "polar": {
           "angularaxis": {
            "gridcolor": "white",
            "linecolor": "white",
            "ticks": ""
           },
           "bgcolor": "#E5ECF6",
           "radialaxis": {
            "gridcolor": "white",
            "linecolor": "white",
            "ticks": ""
           }
          },
          "scene": {
           "xaxis": {
            "backgroundcolor": "#E5ECF6",
            "gridcolor": "white",
            "gridwidth": 2,
            "linecolor": "white",
            "showbackground": true,
            "ticks": "",
            "zerolinecolor": "white"
           },
           "yaxis": {
            "backgroundcolor": "#E5ECF6",
            "gridcolor": "white",
            "gridwidth": 2,
            "linecolor": "white",
            "showbackground": true,
            "ticks": "",
            "zerolinecolor": "white"
           },
           "zaxis": {
            "backgroundcolor": "#E5ECF6",
            "gridcolor": "white",
            "gridwidth": 2,
            "linecolor": "white",
            "showbackground": true,
            "ticks": "",
            "zerolinecolor": "white"
           }
          },
          "shapedefaults": {
           "line": {
            "color": "#2a3f5f"
           }
          },
          "ternary": {
           "aaxis": {
            "gridcolor": "white",
            "linecolor": "white",
            "ticks": ""
           },
           "baxis": {
            "gridcolor": "white",
            "linecolor": "white",
            "ticks": ""
           },
           "bgcolor": "#E5ECF6",
           "caxis": {
            "gridcolor": "white",
            "linecolor": "white",
            "ticks": ""
           }
          },
          "title": {
           "x": 0.05
          },
          "xaxis": {
           "automargin": true,
           "gridcolor": "white",
           "linecolor": "white",
           "ticks": "",
           "title": {
            "standoff": 15
           },
           "zerolinecolor": "white",
           "zerolinewidth": 2
          },
          "yaxis": {
           "automargin": true,
           "gridcolor": "white",
           "linecolor": "white",
           "ticks": "",
           "title": {
            "standoff": 15
           },
           "zerolinecolor": "white",
           "zerolinewidth": 2
          }
         }
        },
        "title": {
         "text": "Train data"
        },
        "width": 500,
        "xaxis": {
         "anchor": "y",
         "domain": [
          0,
          1
         ],
         "title": {
          "text": "True_Value"
         }
        },
        "yaxis": {
         "anchor": "x",
         "domain": [
          0,
          1
         ],
         "title": {
          "text": "Predict_Value"
         }
        }
       }
      }
     },
     "metadata": {},
     "output_type": "display_data"
    },
    {
     "data": {
      "application/vnd.plotly.v1+json": {
       "config": {
        "plotlyServerURL": "https://plot.ly"
       },
       "data": [
        {
         "hovertemplate": "True_Value=%{x}<br>Predict_Value=%{y}<extra></extra>",
         "legendgroup": "",
         "marker": {
          "color": "#636efa",
          "symbol": "circle"
         },
         "mode": "markers",
         "name": "",
         "orientation": "v",
         "showlegend": false,
         "type": "scatter",
         "x": [
          542.75,
          534.96,
          475.26,
          485.67,
          482.29,
          428.2,
          401.85,
          452.31,
          385.02,
          372.78,
          342.15,
          356.86,
          374.54,
          360.77,
          351.85,
          294.38,
          285.49,
          324.81,
          258.01,
          254.48,
          285.38,
          224.34,
          222.42,
          238.63,
          135.16,
          162.29,
          136.72,
          110.86,
          131.37,
          110.86
         ],
         "xaxis": "x",
         "y": [
          552.8625642134194,
          522.042646439072,
          467.41534835552926,
          494.9359142452952,
          465.1254427748833,
          418.1339606886452,
          387.7849642449231,
          400.0996578141238,
          361.87981836817704,
          380.3689303838421,
          332.59020658354314,
          329.73434262134936,
          382.7032963865064,
          373.32076917951053,
          357.81597397123835,
          305.83864241417115,
          297.8772268719937,
          333.5644405817079,
          263.05799578824355,
          255.02522617174634,
          287.3992550347762,
          223.39452413848863,
          215.2904004476715,
          244.35124446401707,
          137.58081521492693,
          172.3273770224443,
          137.1724120918542,
          110.08383264942461,
          139.92329717812413,
          109.60407545203198
         ],
         "yaxis": "y"
        },
        {
         "hovertemplate": "<b>OLS trendline</b><br>Predict_Value = 0.963137 * True_Value + 9.5957<br>R<sup>2</sup>=0.988156<br><br>True_Value=%{x}<br>Predict_Value=%{y} <b>(trend)</b><extra></extra>",
         "legendgroup": "",
         "marker": {
          "color": "#636efa",
          "symbol": "circle"
         },
         "mode": "lines",
         "name": "",
         "showlegend": false,
         "type": "scatter",
         "x": [
          110.86,
          110.86,
          131.37,
          135.16,
          136.72,
          162.29,
          222.42,
          224.34,
          238.63,
          254.48,
          258.01,
          285.38,
          285.49,
          294.38,
          324.81,
          342.15,
          351.85,
          356.86,
          360.77,
          372.78,
          374.54,
          385.02,
          401.85,
          428.2,
          452.31,
          475.26,
          482.29,
          485.67,
          534.96,
          542.75
         ],
         "xaxis": "x",
         "y": [
          116.3690666080646,
          116.3690666080646,
          136.12300674659167,
          139.77329602621222,
          141.2757897666365,
          165.9032031914116,
          223.8166317886633,
          225.6658548538009,
          239.42908277089265,
          254.69480442840867,
          258.09467808462523,
          284.45573813296676,
          284.56168320440696,
          293.12397125079923,
          322.43223055920384,
          339.1330263662277,
          348.47545539322493,
          353.3007718288183,
          357.06663755000994,
          368.6339130772508,
          370.32903422029364,
          380.42271011750296,
          396.6323060478497,
          422.01096634283687,
          445.23219972849694,
          467.33619417896966,
          474.1070473810099,
          477.36245048526257,
          524.8354738605917,
          532.3383111925822
         ],
         "yaxis": "y"
        }
       ],
       "layout": {
        "height": 400,
        "legend": {
         "tracegroupgap": 0
        },
        "margin": {
         "b": 10,
         "l": 10,
         "r": 10,
         "t": 20
        },
        "template": {
         "data": {
          "bar": [
           {
            "error_x": {
             "color": "#2a3f5f"
            },
            "error_y": {
             "color": "#2a3f5f"
            },
            "marker": {
             "line": {
              "color": "#E5ECF6",
              "width": 0.5
             },
             "pattern": {
              "fillmode": "overlay",
              "size": 10,
              "solidity": 0.2
             }
            },
            "type": "bar"
           }
          ],
          "barpolar": [
           {
            "marker": {
             "line": {
              "color": "#E5ECF6",
              "width": 0.5
             },
             "pattern": {
              "fillmode": "overlay",
              "size": 10,
              "solidity": 0.2
             }
            },
            "type": "barpolar"
           }
          ],
          "carpet": [
           {
            "aaxis": {
             "endlinecolor": "#2a3f5f",
             "gridcolor": "white",
             "linecolor": "white",
             "minorgridcolor": "white",
             "startlinecolor": "#2a3f5f"
            },
            "baxis": {
             "endlinecolor": "#2a3f5f",
             "gridcolor": "white",
             "linecolor": "white",
             "minorgridcolor": "white",
             "startlinecolor": "#2a3f5f"
            },
            "type": "carpet"
           }
          ],
          "choropleth": [
           {
            "colorbar": {
             "outlinewidth": 0,
             "ticks": ""
            },
            "type": "choropleth"
           }
          ],
          "contour": [
           {
            "colorbar": {
             "outlinewidth": 0,
             "ticks": ""
            },
            "colorscale": [
             [
              0,
              "#0d0887"
             ],
             [
              0.1111111111111111,
              "#46039f"
             ],
             [
              0.2222222222222222,
              "#7201a8"
             ],
             [
              0.3333333333333333,
              "#9c179e"
             ],
             [
              0.4444444444444444,
              "#bd3786"
             ],
             [
              0.5555555555555556,
              "#d8576b"
             ],
             [
              0.6666666666666666,
              "#ed7953"
             ],
             [
              0.7777777777777778,
              "#fb9f3a"
             ],
             [
              0.8888888888888888,
              "#fdca26"
             ],
             [
              1,
              "#f0f921"
             ]
            ],
            "type": "contour"
           }
          ],
          "contourcarpet": [
           {
            "colorbar": {
             "outlinewidth": 0,
             "ticks": ""
            },
            "type": "contourcarpet"
           }
          ],
          "heatmap": [
           {
            "colorbar": {
             "outlinewidth": 0,
             "ticks": ""
            },
            "colorscale": [
             [
              0,
              "#0d0887"
             ],
             [
              0.1111111111111111,
              "#46039f"
             ],
             [
              0.2222222222222222,
              "#7201a8"
             ],
             [
              0.3333333333333333,
              "#9c179e"
             ],
             [
              0.4444444444444444,
              "#bd3786"
             ],
             [
              0.5555555555555556,
              "#d8576b"
             ],
             [
              0.6666666666666666,
              "#ed7953"
             ],
             [
              0.7777777777777778,
              "#fb9f3a"
             ],
             [
              0.8888888888888888,
              "#fdca26"
             ],
             [
              1,
              "#f0f921"
             ]
            ],
            "type": "heatmap"
           }
          ],
          "heatmapgl": [
           {
            "colorbar": {
             "outlinewidth": 0,
             "ticks": ""
            },
            "colorscale": [
             [
              0,
              "#0d0887"
             ],
             [
              0.1111111111111111,
              "#46039f"
             ],
             [
              0.2222222222222222,
              "#7201a8"
             ],
             [
              0.3333333333333333,
              "#9c179e"
             ],
             [
              0.4444444444444444,
              "#bd3786"
             ],
             [
              0.5555555555555556,
              "#d8576b"
             ],
             [
              0.6666666666666666,
              "#ed7953"
             ],
             [
              0.7777777777777778,
              "#fb9f3a"
             ],
             [
              0.8888888888888888,
              "#fdca26"
             ],
             [
              1,
              "#f0f921"
             ]
            ],
            "type": "heatmapgl"
           }
          ],
          "histogram": [
           {
            "marker": {
             "pattern": {
              "fillmode": "overlay",
              "size": 10,
              "solidity": 0.2
             }
            },
            "type": "histogram"
           }
          ],
          "histogram2d": [
           {
            "colorbar": {
             "outlinewidth": 0,
             "ticks": ""
            },
            "colorscale": [
             [
              0,
              "#0d0887"
             ],
             [
              0.1111111111111111,
              "#46039f"
             ],
             [
              0.2222222222222222,
              "#7201a8"
             ],
             [
              0.3333333333333333,
              "#9c179e"
             ],
             [
              0.4444444444444444,
              "#bd3786"
             ],
             [
              0.5555555555555556,
              "#d8576b"
             ],
             [
              0.6666666666666666,
              "#ed7953"
             ],
             [
              0.7777777777777778,
              "#fb9f3a"
             ],
             [
              0.8888888888888888,
              "#fdca26"
             ],
             [
              1,
              "#f0f921"
             ]
            ],
            "type": "histogram2d"
           }
          ],
          "histogram2dcontour": [
           {
            "colorbar": {
             "outlinewidth": 0,
             "ticks": ""
            },
            "colorscale": [
             [
              0,
              "#0d0887"
             ],
             [
              0.1111111111111111,
              "#46039f"
             ],
             [
              0.2222222222222222,
              "#7201a8"
             ],
             [
              0.3333333333333333,
              "#9c179e"
             ],
             [
              0.4444444444444444,
              "#bd3786"
             ],
             [
              0.5555555555555556,
              "#d8576b"
             ],
             [
              0.6666666666666666,
              "#ed7953"
             ],
             [
              0.7777777777777778,
              "#fb9f3a"
             ],
             [
              0.8888888888888888,
              "#fdca26"
             ],
             [
              1,
              "#f0f921"
             ]
            ],
            "type": "histogram2dcontour"
           }
          ],
          "mesh3d": [
           {
            "colorbar": {
             "outlinewidth": 0,
             "ticks": ""
            },
            "type": "mesh3d"
           }
          ],
          "parcoords": [
           {
            "line": {
             "colorbar": {
              "outlinewidth": 0,
              "ticks": ""
             }
            },
            "type": "parcoords"
           }
          ],
          "pie": [
           {
            "automargin": true,
            "type": "pie"
           }
          ],
          "scatter": [
           {
            "marker": {
             "colorbar": {
              "outlinewidth": 0,
              "ticks": ""
             }
            },
            "type": "scatter"
           }
          ],
          "scatter3d": [
           {
            "line": {
             "colorbar": {
              "outlinewidth": 0,
              "ticks": ""
             }
            },
            "marker": {
             "colorbar": {
              "outlinewidth": 0,
              "ticks": ""
             }
            },
            "type": "scatter3d"
           }
          ],
          "scattercarpet": [
           {
            "marker": {
             "colorbar": {
              "outlinewidth": 0,
              "ticks": ""
             }
            },
            "type": "scattercarpet"
           }
          ],
          "scattergeo": [
           {
            "marker": {
             "colorbar": {
              "outlinewidth": 0,
              "ticks": ""
             }
            },
            "type": "scattergeo"
           }
          ],
          "scattergl": [
           {
            "marker": {
             "colorbar": {
              "outlinewidth": 0,
              "ticks": ""
             }
            },
            "type": "scattergl"
           }
          ],
          "scattermapbox": [
           {
            "marker": {
             "colorbar": {
              "outlinewidth": 0,
              "ticks": ""
             }
            },
            "type": "scattermapbox"
           }
          ],
          "scatterpolar": [
           {
            "marker": {
             "colorbar": {
              "outlinewidth": 0,
              "ticks": ""
             }
            },
            "type": "scatterpolar"
           }
          ],
          "scatterpolargl": [
           {
            "marker": {
             "colorbar": {
              "outlinewidth": 0,
              "ticks": ""
             }
            },
            "type": "scatterpolargl"
           }
          ],
          "scatterternary": [
           {
            "marker": {
             "colorbar": {
              "outlinewidth": 0,
              "ticks": ""
             }
            },
            "type": "scatterternary"
           }
          ],
          "surface": [
           {
            "colorbar": {
             "outlinewidth": 0,
             "ticks": ""
            },
            "colorscale": [
             [
              0,
              "#0d0887"
             ],
             [
              0.1111111111111111,
              "#46039f"
             ],
             [
              0.2222222222222222,
              "#7201a8"
             ],
             [
              0.3333333333333333,
              "#9c179e"
             ],
             [
              0.4444444444444444,
              "#bd3786"
             ],
             [
              0.5555555555555556,
              "#d8576b"
             ],
             [
              0.6666666666666666,
              "#ed7953"
             ],
             [
              0.7777777777777778,
              "#fb9f3a"
             ],
             [
              0.8888888888888888,
              "#fdca26"
             ],
             [
              1,
              "#f0f921"
             ]
            ],
            "type": "surface"
           }
          ],
          "table": [
           {
            "cells": {
             "fill": {
              "color": "#EBF0F8"
             },
             "line": {
              "color": "white"
             }
            },
            "header": {
             "fill": {
              "color": "#C8D4E3"
             },
             "line": {
              "color": "white"
             }
            },
            "type": "table"
           }
          ]
         },
         "layout": {
          "annotationdefaults": {
           "arrowcolor": "#2a3f5f",
           "arrowhead": 0,
           "arrowwidth": 1
          },
          "autotypenumbers": "strict",
          "coloraxis": {
           "colorbar": {
            "outlinewidth": 0,
            "ticks": ""
           }
          },
          "colorscale": {
           "diverging": [
            [
             0,
             "#8e0152"
            ],
            [
             0.1,
             "#c51b7d"
            ],
            [
             0.2,
             "#de77ae"
            ],
            [
             0.3,
             "#f1b6da"
            ],
            [
             0.4,
             "#fde0ef"
            ],
            [
             0.5,
             "#f7f7f7"
            ],
            [
             0.6,
             "#e6f5d0"
            ],
            [
             0.7,
             "#b8e186"
            ],
            [
             0.8,
             "#7fbc41"
            ],
            [
             0.9,
             "#4d9221"
            ],
            [
             1,
             "#276419"
            ]
           ],
           "sequential": [
            [
             0,
             "#0d0887"
            ],
            [
             0.1111111111111111,
             "#46039f"
            ],
            [
             0.2222222222222222,
             "#7201a8"
            ],
            [
             0.3333333333333333,
             "#9c179e"
            ],
            [
             0.4444444444444444,
             "#bd3786"
            ],
            [
             0.5555555555555556,
             "#d8576b"
            ],
            [
             0.6666666666666666,
             "#ed7953"
            ],
            [
             0.7777777777777778,
             "#fb9f3a"
            ],
            [
             0.8888888888888888,
             "#fdca26"
            ],
            [
             1,
             "#f0f921"
            ]
           ],
           "sequentialminus": [
            [
             0,
             "#0d0887"
            ],
            [
             0.1111111111111111,
             "#46039f"
            ],
            [
             0.2222222222222222,
             "#7201a8"
            ],
            [
             0.3333333333333333,
             "#9c179e"
            ],
            [
             0.4444444444444444,
             "#bd3786"
            ],
            [
             0.5555555555555556,
             "#d8576b"
            ],
            [
             0.6666666666666666,
             "#ed7953"
            ],
            [
             0.7777777777777778,
             "#fb9f3a"
            ],
            [
             0.8888888888888888,
             "#fdca26"
            ],
            [
             1,
             "#f0f921"
            ]
           ]
          },
          "colorway": [
           "#636efa",
           "#EF553B",
           "#00cc96",
           "#ab63fa",
           "#FFA15A",
           "#19d3f3",
           "#FF6692",
           "#B6E880",
           "#FF97FF",
           "#FECB52"
          ],
          "font": {
           "color": "#2a3f5f"
          },
          "geo": {
           "bgcolor": "white",
           "lakecolor": "white",
           "landcolor": "#E5ECF6",
           "showlakes": true,
           "showland": true,
           "subunitcolor": "white"
          },
          "hoverlabel": {
           "align": "left"
          },
          "hovermode": "closest",
          "mapbox": {
           "style": "light"
          },
          "paper_bgcolor": "white",
          "plot_bgcolor": "#E5ECF6",
          "polar": {
           "angularaxis": {
            "gridcolor": "white",
            "linecolor": "white",
            "ticks": ""
           },
           "bgcolor": "#E5ECF6",
           "radialaxis": {
            "gridcolor": "white",
            "linecolor": "white",
            "ticks": ""
           }
          },
          "scene": {
           "xaxis": {
            "backgroundcolor": "#E5ECF6",
            "gridcolor": "white",
            "gridwidth": 2,
            "linecolor": "white",
            "showbackground": true,
            "ticks": "",
            "zerolinecolor": "white"
           },
           "yaxis": {
            "backgroundcolor": "#E5ECF6",
            "gridcolor": "white",
            "gridwidth": 2,
            "linecolor": "white",
            "showbackground": true,
            "ticks": "",
            "zerolinecolor": "white"
           },
           "zaxis": {
            "backgroundcolor": "#E5ECF6",
            "gridcolor": "white",
            "gridwidth": 2,
            "linecolor": "white",
            "showbackground": true,
            "ticks": "",
            "zerolinecolor": "white"
           }
          },
          "shapedefaults": {
           "line": {
            "color": "#2a3f5f"
           }
          },
          "ternary": {
           "aaxis": {
            "gridcolor": "white",
            "linecolor": "white",
            "ticks": ""
           },
           "baxis": {
            "gridcolor": "white",
            "linecolor": "white",
            "ticks": ""
           },
           "bgcolor": "#E5ECF6",
           "caxis": {
            "gridcolor": "white",
            "linecolor": "white",
            "ticks": ""
           }
          },
          "title": {
           "x": 0.05
          },
          "xaxis": {
           "automargin": true,
           "gridcolor": "white",
           "linecolor": "white",
           "ticks": "",
           "title": {
            "standoff": 15
           },
           "zerolinecolor": "white",
           "zerolinewidth": 2
          },
          "yaxis": {
           "automargin": true,
           "gridcolor": "white",
           "linecolor": "white",
           "ticks": "",
           "title": {
            "standoff": 15
           },
           "zerolinecolor": "white",
           "zerolinewidth": 2
          }
         }
        },
        "title": {
         "text": "Test data"
        },
        "width": 500,
        "xaxis": {
         "anchor": "y",
         "domain": [
          0,
          1
         ],
         "title": {
          "text": "True_Value"
         }
        },
        "yaxis": {
         "anchor": "x",
         "domain": [
          0,
          1
         ],
         "title": {
          "text": "Predict_Value"
         }
        }
       }
      }
     },
     "metadata": {},
     "output_type": "display_data"
    },
    {
     "name": "stdout",
     "output_type": "stream",
     "text": [
      "    True_Value  Predict_Value\n",
      "0       542.75     552.862564\n",
      "1       534.96     522.042646\n",
      "2       475.26     467.415348\n",
      "3       485.67     494.935914\n",
      "4       482.29     465.125443\n",
      "5       428.20     418.133961\n",
      "6       401.85     387.784964\n",
      "7       452.31     400.099658\n",
      "8       385.02     361.879818\n",
      "9       372.78     380.368930\n",
      "10      342.15     332.590207\n",
      "11      356.86     329.734343\n",
      "12      374.54     382.703296\n",
      "13      360.77     373.320769\n",
      "14      351.85     357.815974\n",
      "15      294.38     305.838642\n",
      "16      285.49     297.877227\n",
      "17      324.81     333.564441\n",
      "18      258.01     263.057996\n",
      "19      254.48     255.025226\n",
      "20      285.38     287.399255\n",
      "21      224.34     223.394524\n",
      "22      222.42     215.290400\n",
      "23      238.63     244.351244\n",
      "24      135.16     137.580815\n",
      "25      162.29     172.327377\n",
      "26      136.72     137.172412\n",
      "27      110.86     110.083833\n",
      "28      131.37     139.923297\n",
      "29      110.86     109.604075\n",
      "Residual sum of squares for train (MSE): 142.85\n",
      "R2-score for train: 0.99\n",
      "Residual sum of squares for test (MSE): 202.47\n",
      "R2-score for test: 0.99\n",
      "Coefficent shape: (1, 21)\n"
     ]
    },
    {
     "data": {
      "text/plain": [
       "(array([ 57.36493926,  38.39214661,  55.24660089,  37.68090526,\n",
       "         60.77225791,  56.36484967,  29.30027935,  79.26970634,\n",
       "         36.11812052,  79.01830105,  79.23833535,  55.82223903,\n",
       "         77.12495165,  53.68322443,  78.00226038,  77.96327466,\n",
       "         74.47609937,  54.32087437,  75.82137295,  54.0027697 ,\n",
       "        103.13335792,  77.56195457, 100.00213901,  72.34819352,\n",
       "         99.65927302, 101.57782269,  99.36771631,  74.09627357,\n",
       "         97.65948427,  70.72466328, 165.85344982, 132.28359196,\n",
       "        162.17465412, 123.14972219,  93.67104504, 130.14555547,\n",
       "        157.15043981,  74.56686149, 196.55198528, 120.11194992,\n",
       "        199.89332525, 164.16816036, 195.19669435, 151.95954413,\n",
       "        116.44618989, 160.27492799, 192.5080509 , 158.50247512,\n",
       "        145.39298269, 147.90393666, 237.05037565, 199.16990373,\n",
       "        144.41700151, 228.6878284 , 179.51204743, 118.18679743,\n",
       "        280.48948212, 153.79848398, 175.97851994, 178.81309837,\n",
       "        217.83971603, 180.93246768, 256.79784147, 207.84863184,\n",
       "        161.80397712, 220.36590527, 251.35351881, 170.0053956 ,\n",
       "        247.9157562 , 245.64473064, 285.14604997, 342.23247448,\n",
       "        276.15020422, 223.63904731, 314.44656389, 237.28882208,\n",
       "        301.64255043, 275.93481238, 359.13111948, 215.77886016,\n",
       "        243.18609685, 187.63239294, 286.75960877, 233.55556666,\n",
       "        175.2135805 , 390.20001106, 196.01367531, 178.41908751,\n",
       "        231.44884506, 307.27581515, 263.51244013, 224.93187172,\n",
       "        308.48598845, 253.28244299, 188.90577974, 417.45634468,\n",
       "        254.82101195, 194.32805584, 396.92351204, 330.49697502,\n",
       "        284.61807716, 238.58047187, 198.56122253, 230.12865749,\n",
       "        273.78861307, 289.75167814, 276.34501724, 211.01631793,\n",
       "        181.49591602, 265.45211712, 306.50300793, 239.49558002,\n",
       "        195.28350426, 295.0740769 , 218.62805945, 255.53161857,\n",
       "        298.64831627, 291.59177318, 192.4206132 , 379.27717598,\n",
       "        317.13883447, 246.73072332, 203.79604915, 305.86530643,\n",
       "        246.41781225, 262.24162118, 305.30298737, 294.40106413,\n",
       "        209.65460105, 389.20648384, 339.98288578, 265.75686663,\n",
       "        215.95077885, 327.51042385, 262.02825257, 279.92630482,\n",
       "        327.96594   , 316.74039229, 220.61039686, 414.34588479,\n",
       "        363.60623083, 285.56230369, 228.88480229, 349.93483501,\n",
       "        278.41798664, 298.3902822 , 351.40818637, 339.8590142 ,\n",
       "        232.34548641, 440.26457949, 355.82575506, 284.10198097,\n",
       "        237.04417672, 341.79940914, 256.06575496, 282.86781988,\n",
       "        344.75010928, 310.20834683, 231.58387077, 388.00886963,\n",
       "        364.26288527, 376.48283504, 342.60066378, 413.89064237,\n",
       "        347.49380174, 370.59158335, 412.66280802, 403.17047926,\n",
       "        333.78839691, 491.58545726, 412.08633697, 424.49577433,\n",
       "        376.87077584, 467.14152988, 388.67533505, 413.52373551,\n",
       "        467.94936593, 457.80978825, 365.66064119, 551.82491183,\n",
       "        523.50959236, 445.72025575, 422.35552348, 509.8138672 ,\n",
       "        442.31151855, 459.57306265, 526.35309882, 493.19439773,\n",
       "        410.32869737, 617.20079034, 582.99482981, 497.56967721,\n",
       "        466.56912894, 566.90123687, 487.32953403, 508.73956476,\n",
       "        587.87400669, 551.67018889, 452.14443505, 689.7816061 ]),\n",
       " array([552.86256421, 522.04264644, 467.41534836, 494.93591425,\n",
       "        465.12544277, 418.13396069, 387.78496424, 400.09965781,\n",
       "        361.87981837, 380.36893038, 332.59020658, 329.73434262,\n",
       "        382.70329639, 373.32076918, 357.81597397, 305.83864241,\n",
       "        297.87722687, 333.56444058, 263.05799579, 255.02522617,\n",
       "        287.39925503, 223.39452414, 215.29040045, 244.35124446,\n",
       "        137.58081521, 172.32737702, 137.17241209, 110.08383265,\n",
       "        139.92329718, 109.60407545]))"
      ]
     },
     "execution_count": 30,
     "metadata": {},
     "output_type": "execute_result"
    }
   ],
   "source": [
    "# All parameters\n",
    "polyEstimate(x_train_mid_stress, ym_train_mid_stress.Si, x_test_mid_stress, ym_test_mid_stress.Si, print_test=1)"
   ]
  },
  {
   "cell_type": "markdown",
   "metadata": {},
   "source": [
    "<h2 style=\"color:cyan\">Polynomial Regression Model - All inputs - Frequency</h2>"
   ]
  },
  {
   "cell_type": "code",
   "execution_count": 31,
   "metadata": {},
   "outputs": [
    {
     "data": {
      "application/vnd.plotly.v1+json": {
       "config": {
        "plotlyServerURL": "https://plot.ly"
       },
       "data": [
        {
         "hovertemplate": "True_Value=%{x}<br>Predict_Value=%{y}<extra></extra>",
         "legendgroup": "",
         "marker": {
          "color": "#636efa",
          "symbol": "circle"
         },
         "mode": "markers",
         "name": "",
         "orientation": "v",
         "showlegend": false,
         "type": "scatter",
         "x": [
          59.68,
          73.37,
          44.11,
          57.22,
          54.29,
          57.86,
          71.16,
          69.58,
          41.41,
          40.28,
          54.69,
          66.75,
          39.48,
          50.96,
          50.03,
          52.14,
          62.79,
          65.02,
          36.23,
          36.58,
          66.34,
          84.68,
          53.95,
          65.08,
          62.83,
          65.07,
          83.24,
          81.84,
          52.12,
          50.74,
          62.3,
          78.93,
          49.7,
          59.33,
          58.62,
          60.44,
          78.7,
          75.92,
          47.924,
          44.7,
          56.213,
          69.587,
          46.205,
          55.418,
          53.612,
          55.114,
          68.836,
          67.605,
          44.773,
          43.553,
          52.834,
          65.083,
          42.693,
          50.647,
          50.084,
          51.375,
          65.078,
          62.645,
          41.267,
          38.465,
          37.703,
          48.755,
          29.677,
          36.927,
          35.61,
          38.699,
          47.297,
          49.283,
          27.648,
          28.595,
          35.537,
          46.063,
          27.461,
          33.935,
          31.939,
          36.316,
          44.572,
          44.765,
          25.797,
          25.786,
          41.017,
          50.266,
          33.626,
          40.824,
          39.85,
          41.827,
          49.643,
          51.293,
          31.855,
          32.841,
          39.091,
          48.213,
          31.468,
          37.883,
          35.987,
          39.672,
          47.3,
          48.921,
          28.719,
          29.905,
          37.918,
          47.447,
          30.686,
          38.138,
          37.409,
          38.534,
          47.693,
          48.951,
          29.431,
          30.141,
          36.355,
          46.017,
          27.507,
          36.137,
          34.636,
          35.544,
          30.95,
          46.24,
          27.28,
          27.445,
          47.176,
          53.447,
          38.516,
          48.188,
          48.295,
          47.521,
          53.387,
          54.681,
          38.019,
          38.936,
          46.276,
          51.895,
          37.418,
          46.508,
          45.592,
          46.539,
          51.909,
          51.768,
          37.459,
          36.55,
          41.227,
          47.241,
          32.931,
          42.033,
          42.061,
          41.578,
          47.067,
          48.354,
          32.168,
          33.136,
          40.182,
          45.746,
          31.327,
          39.93,
          40.254,
          40.321,
          45.139,
          46.468,
          30.098,
          30.488,
          50.619,
          55.872,
          42.602,
          51.558,
          51.088,
          50.754,
          56.113,
          56.519,
          41.626,
          42.231,
          51.17,
          55.6,
          43.15,
          49.275,
          47.074,
          49.094,
          54.201,
          53.525,
          40.548,
          39.561,
          50.695,
          55.493,
          43.692,
          51.956,
          51.941,
          51.106,
          56.141,
          56.347,
          43.518,
          43.893,
          49.735,
          53.921,
          42.108,
          49.871,
          48.116,
          49.593,
          54.27,
          53.599,
          41.738,
          41.501,
          51.668,
          56.548,
          45.355,
          53.317,
          54.068,
          52.071,
          57.892,
          57.559,
          46.95,
          46.67,
          51.257,
          50.642,
          50.217,
          51.319,
          51.775,
          55.472,
          55.752,
          55.203,
          54.388,
          44.804,
          46.203,
          50.559,
          39.594,
          47.385,
          47.629,
          46.858,
          51.464,
          51.807,
          40.441,
          40.646,
          45.419,
          49.445,
          37.238,
          45.838,
          44.55,
          45.829,
          50.013,
          50.13,
          36.834,
          38.85,
          41.787,
          45.988,
          34.905,
          41.835,
          40.877,
          41.862,
          46.147,
          46.188,
          34.407,
          34.456,
          40.366,
          44.069,
          31.458,
          39.911,
          37.945,
          39.611,
          44.346,
          43.788,
          30.371,
          32.373,
          48.277,
          51.745,
          42.628,
          49.36,
          48.843,
          48.849,
          52.607,
          52.89,
          43.138,
          43.422,
          47.084,
          50.174,
          39.549,
          47.397,
          45.67,
          47.577,
          50.729,
          50.759,
          38.686,
          41.274,
          43.553,
          47.063,
          37.404,
          44.111,
          43.487,
          43.575,
          47.61,
          47.494,
          37.438,
          37.356,
          42.066,
          45.02,
          34.118,
          42.156,
          40.439,
          41.959,
          45.848,
          45.529,
          33.187,
          35.398,
          42.496,
          45.132,
          38.719,
          42.934,
          42.386,
          42.467,
          45.406,
          45.204,
          39.07,
          38.816,
          40.515,
          43.092,
          35.785,
          41.067,
          40.447,
          40.043,
          43.968,
          43.454,
          35.9,
          37.496,
          38.324,
          41.77,
          33.176,
          38.012,
          37.32,
          38.228,
          41.56,
          41.54,
          32.598,
          32.524,
          35.725,
          40.057,
          30.817,
          36.53,
          35.454,
          36.209,
          40.118,
          40.388,
          30.158,
          31.466,
          31.131,
          34.652,
          26.126,
          30.734,
          30.054,
          32.44,
          34.387,
          35.68,
          25.559,
          26.63,
          29.542,
          33.232,
          24.373,
          29.777,
          28.752,
          29.069,
          33.333,
          33.227,
          23.748,
          25.68,
          19.452,
          23.579,
          27.283,
          18.977,
          18.458,
          19.105,
          23.194,
          22.893,
          26.991,
          26.8,
          18.917,
          22.523,
          25.691,
          18.399,
          17.468,
          18.011,
          22.871,
          21.945,
          25.254,
          26.258,
          19.516,
          22.892,
          26.02,
          19.05,
          18.58,
          19.277,
          22.47,
          22.243,
          25.632,
          25.408,
          15.901,
          19.082,
          21.92,
          15.427,
          14.634,
          15.062,
          19.426,
          18.489,
          21.523,
          22.387
         ],
         "xaxis": "x",
         "y": [
          62.3125,
          81.1962890625,
          46.556640625,
          66.8154296875,
          69.833984375,
          71.763671875,
          86.6533203125,
          97.255859375,
          50.234375,
          59.1064453125,
          40.6357421875,
          48.666015625,
          24.6123046875,
          30.689453125,
          43.3203125,
          33.0390625,
          35.244140625,
          69.5498046875,
          13.7294921875,
          30.8212890625,
          65.4443359375,
          99.7353515625,
          49.43359375,
          71.0126953125,
          75.2587890625,
          76.2001953125,
          107.208984375,
          120.04296875,
          54.0478515625,
          64.1015625,
          50.2041015625,
          76.693359375,
          33.8818359375,
          43.9375,
          55.181640625,
          46.52734375,
          90.345703125,
          73.607421875,
          36.251953125,
          15.9169921875,
          50.26953125,
          78.814453125,
          37.12890625,
          55.9462890625,
          60.3203125,
          61.4033203125,
          86.3994140625,
          99.611328125,
          41.853515625,
          52.2841796875,
          41.154296875,
          64.384765625,
          27.7021484375,
          37.4853515625,
          46.3671875,
          40.341796875,
          75.66015625,
          64.66015625,
          30.181640625,
          15.5849609375,
          35.107421875,
          60.861328125,
          23.3623046875,
          40.984375,
          45.5849609375,
          23.2744140625,
          82.3525390625,
          54.732421875,
          38.7861328125,
          28.28515625,
          26.908203125,
          47.71875,
          14.8525390625,
          23.80859375,
          14.0009765625,
          19.16796875,
          59.41015625,
          36.8505859375,
          23.306640625,
          10.671875,
          33.5283203125,
          52.439453125,
          25.2060546875,
          39.65234375,
          44.5380859375,
          21.6376953125,
          74.244140625,
          46.501953125,
          40.9423828125,
          30.3759765625,
          32.5693359375,
          49.4794921875,
          23.935546875,
          32.658203125,
          26.5302734375,
          24.7724609375,
          61.4814453125,
          48.0126953125,
          18.3544921875,
          22.9462890625,
          23.087890625,
          35.9794921875,
          17.775390625,
          29.357421875,
          34.4091796875,
          10.900390625,
          58.271484375,
          29.8896484375,
          34,
          23.0908203125,
          28.5322265625,
          42.0244140625,
          20.26171875,
          32.5546875,
          32.77734375,
          21.6455078125,
          57.3681640625,
          38.533203125,
          23.4189453125,
          24.6640625,
          44.986328125,
          59.615234375,
          33.3798828125,
          53.54296875,
          61.2373046875,
          31.09375,
          95.130859375,
          53.7890625,
          56.5283203125,
          40.029296875,
          42.2294921875,
          55.7724609375,
          30.6904296875,
          47.369140625,
          48.7412109375,
          30.8046875,
          72.287109375,
          61.7666015625,
          34.8359375,
          40.490234375,
          31.9775390625,
          44.283203125,
          22.693359375,
          40.5205078125,
          48.19921875,
          17.681640625,
          80.59375,
          38.041015625,
          46.634765625,
          29.3291015625,
          39.9931640625,
          52.373046875,
          29.833984375,
          43.1728515625,
          50.8291015625,
          32.3388671875,
          66.6962890625,
          48.6064453125,
          37.3310546875,
          30.8154296875,
          44.314453125,
          53.73046875,
          37.919921875,
          52.3330078125,
          61.3681640625,
          65.03515625,
          105.0986328125,
          63.9482421875,
          67.7802734375,
          60.77734375,
          56.3681640625,
          62.0849609375,
          48.953125,
          59.52734375,
          46.107421875,
          63.6572265625,
          64.607421875,
          65.015625,
          45.4892578125,
          49.0908203125,
          39.2080078125,
          44.92578125,
          36.5107421875,
          47.408203125,
          56.8076171875,
          59.806640625,
          96.2353515625,
          55.3271484375,
          66.310546875,
          59.4287109375,
          58.5712890625,
          58.109375,
          53.0263671875,
          61.912109375,
          52.5126953125,
          63.9130859375,
          70.998046875,
          67.359375,
          59.015625,
          55.052734375,
          24.1611328125,
          28.3837890625,
          22.9619140625,
          32.228515625,
          41.361328125,
          46.1240234375,
          82.287109375,
          38.6513671875,
          55.3564453125,
          47.1103515625,
          46.65234375,
          40.7646484375,
          33.6328125,
          43.67578125,
          49.861328125,
          52.0400390625,
          57.44921875,
          55.375,
          51.4794921875,
          45.296875,
          35.28125,
          41.4580078125,
          32.126953125,
          43.9287109375,
          54.220703125,
          48.0185546875,
          52.3056640625,
          69.9130859375,
          38.57421875,
          47.626953125,
          39.6982421875,
          45.466796875,
          35.08203125,
          42.892578125,
          37.1083984375,
          23.63671875,
          48.1572265625,
          49.5029296875,
          31.216796875,
          42.021484375,
          32.873046875,
          38.9267578125,
          29.8408203125,
          43.1337890625,
          44.0576171875,
          47.0107421875,
          53.5888671875,
          73.193359375,
          35.7021484375,
          46.7509765625,
          35.7255859375,
          41.291015625,
          31.0693359375,
          35.0791015625,
          17.416015625,
          20.90234375,
          42.4208984375,
          43.2529296875,
          16.3046875,
          34.1279296875,
          36.09375,
          37.0751953125,
          38.1328125,
          47.11328125,
          48.7958984375,
          49.1845703125,
          52.4951171875,
          71.052734375,
          44.75390625,
          54.755859375,
          49.9189453125,
          55.3740234375,
          60.259765625,
          50.03125,
          38.08984375,
          43.9716796875,
          52.3017578125,
          57.0478515625,
          46.2529296875,
          53.1044921875,
          40.5048828125,
          43.4423828125,
          40.58984375,
          52.6845703125,
          55.5244140625,
          44.3671875,
          60.0205078125,
          69.3505859375,
          48.3681640625,
          49.142578125,
          44.3212890625,
          49.802734375,
          61.6806640625,
          44.404296875,
          34.7802734375,
          43.8779296875,
          44.3525390625,
          52.2529296875,
          47.64453125,
          50.6064453125,
          32.2431640625,
          35.8798828125,
          31.62890625,
          48.7919921875,
          56.00390625,
          41.1904296875,
          56.8291015625,
          71.2431640625,
          43.7783203125,
          49.63671875,
          16.9091796875,
          28.5400390625,
          57.484375,
          22.33984375,
          38.046875,
          47.798828125,
          16.44921875,
          40.8662109375,
          55.8564453125,
          38.52734375,
          25.74609375,
          29.1376953125,
          25.375,
          32.8955078125,
          30.7099609375,
          37.49609375,
          40.6865234375,
          57.9052734375,
          28.125,
          36.7880859375,
          28.640625,
          33.486328125,
          34.6552734375,
          36.6904296875,
          18.828125,
          -2.232421875,
          37.5517578125,
          24.3837890625,
          21.2578125,
          29.7861328125,
          15.2763671875,
          18.30078125,
          15.2724609375,
          23.5556640625,
          22.4970703125,
          18.6064453125,
          30.98046875,
          39.77734375,
          19.15234375,
          19.3955078125,
          15.755859375,
          22.2392578125,
          37.392578125,
          25.3291015625,
          12.103515625,
          -2.5859375,
          21.5478515625,
          14.689453125,
          23.935546875,
          24.6845703125,
          10.3408203125,
          8.8740234375,
          10.4287109375,
          20.93359375,
          22.189453125,
          2.4697265625,
          23.8671875,
          21.462890625,
          29.8212890625,
          31.6943359375,
          46.421875,
          43.3818359375,
          36.8798828125,
          38.8681640625,
          21.1884765625,
          34.57421875,
          33.8720703125,
          27.6396484375,
          28.4091796875,
          28.55859375,
          2.8701171875,
          4.1787109375,
          8.5087890625,
          8.46484375,
          4.7236328125,
          2.080078125,
          14.173828125,
          18.8505859375,
          22.904296875,
          31.8583984375,
          39.3759765625,
          36.3876953125,
          29.935546875,
          31.76171875,
          18.7177734375,
          38.53515625,
          22.1806640625,
          22.2001953125,
          21.404296875,
          13.8369140625
         ],
         "yaxis": "y"
        },
        {
         "hovertemplate": "<b>OLS trendline</b><br>Predict_Value = 1.16594 * True_Value + -7.02081<br>R<sup>2</sup>=0.557390<br><br>True_Value=%{x}<br>Predict_Value=%{y} <b>(trend)</b><extra></extra>",
         "legendgroup": "",
         "marker": {
          "color": "#636efa",
          "symbol": "circle"
         },
         "mode": "lines",
         "name": "",
         "showlegend": false,
         "type": "scatter",
         "x": [
          14.634,
          15.062,
          15.427,
          15.901,
          17.468,
          18.011,
          18.399,
          18.458,
          18.489,
          18.58,
          18.917,
          18.977,
          19.05,
          19.082,
          19.105,
          19.277,
          19.426,
          19.452,
          19.516,
          21.523,
          21.92,
          21.945,
          22.243,
          22.387,
          22.47,
          22.523,
          22.871,
          22.892,
          22.893,
          23.194,
          23.579,
          23.748,
          24.373,
          25.254,
          25.408,
          25.559,
          25.632,
          25.68,
          25.691,
          25.786,
          25.797,
          26.02,
          26.126,
          26.258,
          26.63,
          26.8,
          26.991,
          27.28,
          27.283,
          27.445,
          27.461,
          27.507,
          27.648,
          28.595,
          28.719,
          28.752,
          29.069,
          29.431,
          29.542,
          29.677,
          29.777,
          29.905,
          30.054,
          30.098,
          30.141,
          30.158,
          30.371,
          30.488,
          30.686,
          30.734,
          30.817,
          30.95,
          31.131,
          31.327,
          31.458,
          31.466,
          31.468,
          31.855,
          31.939,
          32.168,
          32.373,
          32.44,
          32.524,
          32.598,
          32.841,
          32.931,
          33.136,
          33.176,
          33.187,
          33.227,
          33.232,
          33.333,
          33.626,
          33.935,
          34.118,
          34.387,
          34.407,
          34.456,
          34.636,
          34.652,
          34.905,
          35.398,
          35.454,
          35.537,
          35.544,
          35.61,
          35.68,
          35.725,
          35.785,
          35.9,
          35.987,
          36.137,
          36.209,
          36.23,
          36.316,
          36.355,
          36.53,
          36.55,
          36.58,
          36.834,
          36.927,
          37.238,
          37.32,
          37.356,
          37.404,
          37.409,
          37.418,
          37.438,
          37.459,
          37.496,
          37.703,
          37.883,
          37.918,
          37.945,
          38.012,
          38.019,
          38.138,
          38.228,
          38.324,
          38.465,
          38.516,
          38.534,
          38.686,
          38.699,
          38.719,
          38.816,
          38.85,
          38.936,
          39.07,
          39.091,
          39.48,
          39.549,
          39.561,
          39.594,
          39.611,
          39.672,
          39.85,
          39.911,
          39.93,
          40.043,
          40.057,
          40.118,
          40.182,
          40.254,
          40.28,
          40.321,
          40.366,
          40.388,
          40.439,
          40.441,
          40.447,
          40.515,
          40.548,
          40.646,
          40.824,
          40.877,
          41.017,
          41.067,
          41.227,
          41.267,
          41.274,
          41.41,
          41.501,
          41.54,
          41.56,
          41.578,
          41.626,
          41.738,
          41.77,
          41.787,
          41.827,
          41.835,
          41.862,
          41.959,
          42.033,
          42.061,
          42.066,
          42.108,
          42.156,
          42.231,
          42.386,
          42.467,
          42.496,
          42.602,
          42.628,
          42.693,
          42.934,
          43.092,
          43.138,
          43.15,
          43.422,
          43.454,
          43.487,
          43.518,
          43.553,
          43.553,
          43.575,
          43.692,
          43.788,
          43.893,
          43.968,
          44.069,
          44.11,
          44.111,
          44.346,
          44.55,
          44.572,
          44.7,
          44.765,
          44.773,
          44.804,
          45.02,
          45.132,
          45.139,
          45.204,
          45.355,
          45.406,
          45.419,
          45.529,
          45.592,
          45.67,
          45.746,
          45.829,
          45.838,
          45.848,
          45.988,
          46.017,
          46.063,
          46.147,
          46.188,
          46.203,
          46.205,
          46.24,
          46.276,
          46.468,
          46.508,
          46.539,
          46.67,
          46.858,
          46.95,
          47.063,
          47.067,
          47.074,
          47.084,
          47.176,
          47.241,
          47.297,
          47.3,
          47.385,
          47.397,
          47.447,
          47.494,
          47.521,
          47.577,
          47.61,
          47.629,
          47.693,
          47.924,
          48.116,
          48.188,
          48.213,
          48.277,
          48.295,
          48.354,
          48.755,
          48.843,
          48.849,
          48.921,
          48.951,
          49.094,
          49.275,
          49.283,
          49.36,
          49.445,
          49.593,
          49.643,
          49.7,
          49.735,
          49.871,
          50.013,
          50.03,
          50.084,
          50.13,
          50.174,
          50.217,
          50.266,
          50.559,
          50.619,
          50.642,
          50.647,
          50.695,
          50.729,
          50.74,
          50.754,
          50.759,
          50.96,
          51.088,
          51.106,
          51.17,
          51.257,
          51.293,
          51.319,
          51.375,
          51.464,
          51.558,
          51.668,
          51.745,
          51.768,
          51.775,
          51.807,
          51.895,
          51.909,
          51.941,
          51.956,
          52.071,
          52.12,
          52.14,
          52.607,
          52.834,
          52.89,
          53.317,
          53.387,
          53.447,
          53.525,
          53.599,
          53.612,
          53.921,
          53.95,
          54.068,
          54.201,
          54.27,
          54.29,
          54.388,
          54.681,
          54.69,
          55.114,
          55.203,
          55.418,
          55.472,
          55.493,
          55.6,
          55.752,
          55.872,
          56.113,
          56.141,
          56.213,
          56.347,
          56.519,
          56.548,
          57.22,
          57.559,
          57.86,
          57.892,
          58.62,
          59.33,
          59.68,
          60.44,
          62.3,
          62.645,
          62.79,
          62.83,
          65.02,
          65.07,
          65.078,
          65.08,
          65.083,
          66.34,
          66.75,
          67.605,
          68.836,
          69.58,
          69.587,
          71.16,
          73.37,
          75.92,
          78.7,
          78.93,
          81.84,
          83.24,
          84.68
         ],
         "xaxis": "x",
         "y": [
          10.041514457561743,
          10.540535478897663,
          10.96610247139208,
          11.518756593151956,
          13.345779818463608,
          13.978883590859411,
          14.431267133565811,
          14.500057414544358,
          14.536201460482243,
          14.642301724364408,
          15.035222481818163,
          15.105178699762448,
          15.190292098261335,
          15.227602081164953,
          15.254418631376929,
          15.45495978948389,
          15.62868439737887,
          15.658998758488064,
          15.733618724295301,
          18.073654214531732,
          18.53653118992977,
          18.565679614073225,
          18.913128829863187,
          19.08102375292948,
          19.177796521085742,
          19.239591180269862,
          19.64533724434673,
          19.669821920627236,
          19.670987857592973,
          20.02193488428015,
          20.47082061608933,
          20.667863963299077,
          21.39657456688541,
          22.423765033700704,
          22.603319326424376,
          22.779375808250833,
          22.864489206749717,
          22.920454181105146,
          22.933279487728264,
          23.04404349947339,
          23.056868806096507,
          23.31687274945611,
          23.440462067824352,
          23.594365747301786,
          24.02809429855637,
          24.226303582731855,
          24.448997543187836,
          24.785953326286158,
          24.789451137183374,
          24.978332925632948,
          24.996987917084756,
          25.050621017508714,
          25.21501812967779,
          26.3191604362318,
          26.463736619983333,
          26.50221253985269,
          26.871814557991673,
          27.293883739588882,
          27.42330274278581,
          27.580704233160457,
          27.697297929734273,
          27.846537861348754,
          28.02026246924373,
          28.071563695736213,
          28.12169898526295,
          28.1415199136805,
          28.38986448738272,
          28.52627911237408,
          28.757134631590237,
          28.813099605945663,
          28.909872374101926,
          29.064941990545098,
          29.275976581343702,
          29.504500226628377,
          29.657237969140066,
          29.66656546486598,
          29.668897338797454,
          30.120114944538113,
          30.21805364966011,
          30.48505321481414,
          30.72407029279046,
          30.802188069494914,
          30.90012677461692,
          30.986406110081543,
          31.26972879275591,
          31.374663119672338,
          31.61368019764866,
          31.660317676278186,
          31.6731429829013,
          31.71978046153082,
          31.725610146359518,
          31.843369779899067,
          32.18498931086034,
          32.545263833273424,
          32.7586302980035,
          33.072267341787054,
          33.095586081101814,
          33.15271699242299,
          33.36258564625585,
          33.38124063770766,
          33.67622269003941,
          34.25102961414831,
          34.31632208422964,
          34.4130948523859,
          34.42125641114607,
          34.49820825088479,
          34.57982383848646,
          34.63229100194468,
          34.70224721988896,
          34.836329970948846,
          34.937766486968066,
          35.11265703182879,
          35.19660449336194,
          35.221089169642426,
          35.32135974869591,
          35.3668312903597,
          35.57087025936387,
          35.59418899867863,
          35.62916710765078,
          35.92531509694827,
          36.03374723476191,
          36.39635363110647,
          36.491960462296994,
          36.53393419306357,
          36.589899167419006,
          36.59572885224769,
          36.606222284939335,
          36.629541024254095,
          36.6540257005346,
          36.69716536826691,
          36.938514320174704,
          37.14838297400757,
          37.1891907678084,
          37.22067106588333,
          37.29878884258778,
          37.30695040134795,
          37.44569690027078,
          37.550631227187225,
          37.66256117589808,
          37.82695828806716,
          37.8864210733198,
          37.90740793870309,
          38.084630357495286,
          38.09978753804988,
          38.12310627736464,
          38.23620216304124,
          38.27584401987634,
          38.37611459892982,
          38.53235015233873,
          38.55683482861923,
          39.01038430829136,
          39.09083395892729,
          39.104825202516146,
          39.14330112238551,
          39.163122050803054,
          39.234244205713075,
          39.44178098561447,
          39.5129031405245,
          39.53505594287352,
          39.66680682000193,
          39.68312993752227,
          39.75425209243229,
          39.82887205823953,
          39.912819519772675,
          39.94313388088187,
          39.99093729647713,
          40.043404459935346,
          40.06905507318158,
          40.12851785843423,
          40.13084973236571,
          40.137845354160135,
          40.21712906783033,
          40.25560498769969,
          40.369866810342025,
          40.57740359024341,
          40.63919824942754,
          40.80242942463087,
          40.86072627291777,
          41.04727618743588,
          41.093913666065404,
          41.10207522482557,
          41.26064265216595,
          41.366742916048125,
          41.41221445771191,
          41.43553319702668,
          41.456520062409965,
          41.51248503676539,
          41.64306997692806,
          41.68037995983168,
          41.70020088824923,
          41.746838366878755,
          41.75616586260466,
          41.78764616067959,
          41.90074204635619,
          41.98702138182081,
          42.019667616861476,
          42.02549730169017,
          42.07446665425117,
          42.1304316286066,
          42.217876901036966,
          42.39859713072637,
          42.49303802495116,
          42.52685019695757,
          42.65043951532581,
          42.680753876435,
          42.756539779207976,
          43.03753058795086,
          43.22174862853749,
          43.27538172896144,
          43.289372972550304,
          43.60650782723107,
          43.6438178101347,
          43.682293730004055,
          43.718437775941936,
          43.75924556974277,
          43.75924556974277,
          43.784896182989016,
          43.92131080798037,
          44.03324075669123,
          44.155664138093734,
          44.2431094105241,
          44.36086904406365,
          44.40867245965891,
          44.40983839662464,
          44.683833583573104,
          44.921684724583685,
          44.947335337829934,
          45.096575269444415,
          45.172361172217386,
          45.1816886679433,
          45.21783271388118,
          45.469675098480614,
          45.60026003864328,
          45.60842159740345,
          45.68420750017643,
          45.860263982002884,
          45.919726767255526,
          45.93488394781012,
          46.063137014041324,
          46.13659104288282,
          46.2275341262104,
          46.3161453356065,
          46.41291810376276,
          46.4234115364544,
          46.43507090611178,
          46.59830208131512,
          46.63211425332153,
          46.685747353745484,
          46.78368605886748,
          46.83148947446275,
          46.84897852894883,
          46.851310402880294,
          46.89211819668113,
          46.93409192744771,
          47.15795182486943,
          47.204589303498956,
          47.24073334943684,
          47.39347109194853,
          47.612667241507296,
          47.719933442355206,
          47.85168431948362,
          47.856348067346566,
          47.86450962610673,
          47.87616899576412,
          47.98343519661203,
          48.059221099385,
          48.12451356946633,
          48.128011380363546,
          48.22711602245129,
          48.241107266040146,
          48.29940411432706,
          48.354203151716746,
          48.38568344979168,
          48.45097591987301,
          48.48945183974237,
          48.51160464209139,
          48.586224607898636,
          48.85555604698415,
          49.079415944405866,
          49.163363405939016,
          49.192511830082466,
          49.26713179588971,
          49.288118661272996,
          49.35690894225154,
          49.82444966551254,
          49.92705211849749,
          49.934047740291916,
          50.01799520182506,
          50.052973310797206,
          50.21970229689776,
          50.43073688769636,
          50.44006438342227,
          50.5298415297841,
          50.628946171871846,
          50.801504842801094,
          50.859801691087995,
          50.92626009813507,
          50.967067891935905,
          51.12563531927629,
          51.2911983684111,
          51.311019296828654,
          51.37397989297851,
          51.42761299340247,
          51.47891421989494,
          51.52904950942168,
          51.58618042074285,
          51.92779995170412,
          51.99775616964841,
          52.024572719860394,
          52.03040240468908,
          52.08636737904451,
          52.12600923587961,
          52.13883454250273,
          52.15515766002306,
          52.16098734485175,
          52.39534067496511,
          52.54458060657959,
          52.56556747196288,
          52.64018743777012,
          52.741623953789336,
          52.78359768455591,
          52.813912045665106,
          52.87920451574644,
          52.98297290569713,
          53.092570980476516,
          53.22082404670771,
          53.310601193069544,
          53.33741774328153,
          53.34557930204169,
          53.382889284945314,
          53.48549173793027,
          53.5018148554506,
          53.539124838354226,
          53.556613892840296,
          53.690696643900175,
          53.74782755522134,
          53.77114629453611,
          54.315638857535816,
          54.58030654875838,
          54.64559901883971,
          55.14345410320989,
          55.22506969081156,
          55.29502590875585,
          55.38596899208342,
          55.47224832754804,
          55.48740550810264,
          55.84768003051572,
          55.88149220252213,
          56.019072764479226,
          56.1741423809224,
          56.25459203155833,
          56.27791077087309,
          56.392172593515426,
          56.7337921244767,
          56.74428555716834,
          57.238642830641304,
          57.342411220592005,
          57.5930876682257,
          57.65604826437556,
          57.68053294065607,
          57.80528819599005,
          57.98251061478225,
          58.12242305067081,
          58.40341385941371,
          58.43606009445437,
          58.520007555987526,
          58.67624310939643,
          58.87678426750339,
          58.910596439509796,
          59.69410608048582,
          60.089358711871036,
          60.440305738558216,
          60.47761572146185,
          61.326417832519205,
          62.15423307819328,
          62.562311016201626,
          63.4484231101626,
          65.61706586643554,
          66.01931411961519,
          66.18837497964722,
          66.23501245827674,
          68.78841441324325,
          68.84671126153015,
          68.85603875725607,
          68.85837063118754,
          68.86186844208476,
          70.32745120801759,
          70.80548536397022,
          71.80236146967633,
          73.23762987449996,
          74.10508697700914,
          74.1132485357693,
          75.94726738287538,
          78.52398807715666,
          81.49712733978889,
          84.7384321045409,
          85.00659760666068,
          88.39947417695863,
          90.03178592899201,
          91.71073515965493
         ],
         "yaxis": "y"
        }
       ],
       "layout": {
        "height": 400,
        "legend": {
         "tracegroupgap": 0
        },
        "margin": {
         "b": 10,
         "l": 10,
         "r": 10,
         "t": 20
        },
        "template": {
         "data": {
          "bar": [
           {
            "error_x": {
             "color": "#2a3f5f"
            },
            "error_y": {
             "color": "#2a3f5f"
            },
            "marker": {
             "line": {
              "color": "#E5ECF6",
              "width": 0.5
             },
             "pattern": {
              "fillmode": "overlay",
              "size": 10,
              "solidity": 0.2
             }
            },
            "type": "bar"
           }
          ],
          "barpolar": [
           {
            "marker": {
             "line": {
              "color": "#E5ECF6",
              "width": 0.5
             },
             "pattern": {
              "fillmode": "overlay",
              "size": 10,
              "solidity": 0.2
             }
            },
            "type": "barpolar"
           }
          ],
          "carpet": [
           {
            "aaxis": {
             "endlinecolor": "#2a3f5f",
             "gridcolor": "white",
             "linecolor": "white",
             "minorgridcolor": "white",
             "startlinecolor": "#2a3f5f"
            },
            "baxis": {
             "endlinecolor": "#2a3f5f",
             "gridcolor": "white",
             "linecolor": "white",
             "minorgridcolor": "white",
             "startlinecolor": "#2a3f5f"
            },
            "type": "carpet"
           }
          ],
          "choropleth": [
           {
            "colorbar": {
             "outlinewidth": 0,
             "ticks": ""
            },
            "type": "choropleth"
           }
          ],
          "contour": [
           {
            "colorbar": {
             "outlinewidth": 0,
             "ticks": ""
            },
            "colorscale": [
             [
              0,
              "#0d0887"
             ],
             [
              0.1111111111111111,
              "#46039f"
             ],
             [
              0.2222222222222222,
              "#7201a8"
             ],
             [
              0.3333333333333333,
              "#9c179e"
             ],
             [
              0.4444444444444444,
              "#bd3786"
             ],
             [
              0.5555555555555556,
              "#d8576b"
             ],
             [
              0.6666666666666666,
              "#ed7953"
             ],
             [
              0.7777777777777778,
              "#fb9f3a"
             ],
             [
              0.8888888888888888,
              "#fdca26"
             ],
             [
              1,
              "#f0f921"
             ]
            ],
            "type": "contour"
           }
          ],
          "contourcarpet": [
           {
            "colorbar": {
             "outlinewidth": 0,
             "ticks": ""
            },
            "type": "contourcarpet"
           }
          ],
          "heatmap": [
           {
            "colorbar": {
             "outlinewidth": 0,
             "ticks": ""
            },
            "colorscale": [
             [
              0,
              "#0d0887"
             ],
             [
              0.1111111111111111,
              "#46039f"
             ],
             [
              0.2222222222222222,
              "#7201a8"
             ],
             [
              0.3333333333333333,
              "#9c179e"
             ],
             [
              0.4444444444444444,
              "#bd3786"
             ],
             [
              0.5555555555555556,
              "#d8576b"
             ],
             [
              0.6666666666666666,
              "#ed7953"
             ],
             [
              0.7777777777777778,
              "#fb9f3a"
             ],
             [
              0.8888888888888888,
              "#fdca26"
             ],
             [
              1,
              "#f0f921"
             ]
            ],
            "type": "heatmap"
           }
          ],
          "heatmapgl": [
           {
            "colorbar": {
             "outlinewidth": 0,
             "ticks": ""
            },
            "colorscale": [
             [
              0,
              "#0d0887"
             ],
             [
              0.1111111111111111,
              "#46039f"
             ],
             [
              0.2222222222222222,
              "#7201a8"
             ],
             [
              0.3333333333333333,
              "#9c179e"
             ],
             [
              0.4444444444444444,
              "#bd3786"
             ],
             [
              0.5555555555555556,
              "#d8576b"
             ],
             [
              0.6666666666666666,
              "#ed7953"
             ],
             [
              0.7777777777777778,
              "#fb9f3a"
             ],
             [
              0.8888888888888888,
              "#fdca26"
             ],
             [
              1,
              "#f0f921"
             ]
            ],
            "type": "heatmapgl"
           }
          ],
          "histogram": [
           {
            "marker": {
             "pattern": {
              "fillmode": "overlay",
              "size": 10,
              "solidity": 0.2
             }
            },
            "type": "histogram"
           }
          ],
          "histogram2d": [
           {
            "colorbar": {
             "outlinewidth": 0,
             "ticks": ""
            },
            "colorscale": [
             [
              0,
              "#0d0887"
             ],
             [
              0.1111111111111111,
              "#46039f"
             ],
             [
              0.2222222222222222,
              "#7201a8"
             ],
             [
              0.3333333333333333,
              "#9c179e"
             ],
             [
              0.4444444444444444,
              "#bd3786"
             ],
             [
              0.5555555555555556,
              "#d8576b"
             ],
             [
              0.6666666666666666,
              "#ed7953"
             ],
             [
              0.7777777777777778,
              "#fb9f3a"
             ],
             [
              0.8888888888888888,
              "#fdca26"
             ],
             [
              1,
              "#f0f921"
             ]
            ],
            "type": "histogram2d"
           }
          ],
          "histogram2dcontour": [
           {
            "colorbar": {
             "outlinewidth": 0,
             "ticks": ""
            },
            "colorscale": [
             [
              0,
              "#0d0887"
             ],
             [
              0.1111111111111111,
              "#46039f"
             ],
             [
              0.2222222222222222,
              "#7201a8"
             ],
             [
              0.3333333333333333,
              "#9c179e"
             ],
             [
              0.4444444444444444,
              "#bd3786"
             ],
             [
              0.5555555555555556,
              "#d8576b"
             ],
             [
              0.6666666666666666,
              "#ed7953"
             ],
             [
              0.7777777777777778,
              "#fb9f3a"
             ],
             [
              0.8888888888888888,
              "#fdca26"
             ],
             [
              1,
              "#f0f921"
             ]
            ],
            "type": "histogram2dcontour"
           }
          ],
          "mesh3d": [
           {
            "colorbar": {
             "outlinewidth": 0,
             "ticks": ""
            },
            "type": "mesh3d"
           }
          ],
          "parcoords": [
           {
            "line": {
             "colorbar": {
              "outlinewidth": 0,
              "ticks": ""
             }
            },
            "type": "parcoords"
           }
          ],
          "pie": [
           {
            "automargin": true,
            "type": "pie"
           }
          ],
          "scatter": [
           {
            "marker": {
             "colorbar": {
              "outlinewidth": 0,
              "ticks": ""
             }
            },
            "type": "scatter"
           }
          ],
          "scatter3d": [
           {
            "line": {
             "colorbar": {
              "outlinewidth": 0,
              "ticks": ""
             }
            },
            "marker": {
             "colorbar": {
              "outlinewidth": 0,
              "ticks": ""
             }
            },
            "type": "scatter3d"
           }
          ],
          "scattercarpet": [
           {
            "marker": {
             "colorbar": {
              "outlinewidth": 0,
              "ticks": ""
             }
            },
            "type": "scattercarpet"
           }
          ],
          "scattergeo": [
           {
            "marker": {
             "colorbar": {
              "outlinewidth": 0,
              "ticks": ""
             }
            },
            "type": "scattergeo"
           }
          ],
          "scattergl": [
           {
            "marker": {
             "colorbar": {
              "outlinewidth": 0,
              "ticks": ""
             }
            },
            "type": "scattergl"
           }
          ],
          "scattermapbox": [
           {
            "marker": {
             "colorbar": {
              "outlinewidth": 0,
              "ticks": ""
             }
            },
            "type": "scattermapbox"
           }
          ],
          "scatterpolar": [
           {
            "marker": {
             "colorbar": {
              "outlinewidth": 0,
              "ticks": ""
             }
            },
            "type": "scatterpolar"
           }
          ],
          "scatterpolargl": [
           {
            "marker": {
             "colorbar": {
              "outlinewidth": 0,
              "ticks": ""
             }
            },
            "type": "scatterpolargl"
           }
          ],
          "scatterternary": [
           {
            "marker": {
             "colorbar": {
              "outlinewidth": 0,
              "ticks": ""
             }
            },
            "type": "scatterternary"
           }
          ],
          "surface": [
           {
            "colorbar": {
             "outlinewidth": 0,
             "ticks": ""
            },
            "colorscale": [
             [
              0,
              "#0d0887"
             ],
             [
              0.1111111111111111,
              "#46039f"
             ],
             [
              0.2222222222222222,
              "#7201a8"
             ],
             [
              0.3333333333333333,
              "#9c179e"
             ],
             [
              0.4444444444444444,
              "#bd3786"
             ],
             [
              0.5555555555555556,
              "#d8576b"
             ],
             [
              0.6666666666666666,
              "#ed7953"
             ],
             [
              0.7777777777777778,
              "#fb9f3a"
             ],
             [
              0.8888888888888888,
              "#fdca26"
             ],
             [
              1,
              "#f0f921"
             ]
            ],
            "type": "surface"
           }
          ],
          "table": [
           {
            "cells": {
             "fill": {
              "color": "#EBF0F8"
             },
             "line": {
              "color": "white"
             }
            },
            "header": {
             "fill": {
              "color": "#C8D4E3"
             },
             "line": {
              "color": "white"
             }
            },
            "type": "table"
           }
          ]
         },
         "layout": {
          "annotationdefaults": {
           "arrowcolor": "#2a3f5f",
           "arrowhead": 0,
           "arrowwidth": 1
          },
          "autotypenumbers": "strict",
          "coloraxis": {
           "colorbar": {
            "outlinewidth": 0,
            "ticks": ""
           }
          },
          "colorscale": {
           "diverging": [
            [
             0,
             "#8e0152"
            ],
            [
             0.1,
             "#c51b7d"
            ],
            [
             0.2,
             "#de77ae"
            ],
            [
             0.3,
             "#f1b6da"
            ],
            [
             0.4,
             "#fde0ef"
            ],
            [
             0.5,
             "#f7f7f7"
            ],
            [
             0.6,
             "#e6f5d0"
            ],
            [
             0.7,
             "#b8e186"
            ],
            [
             0.8,
             "#7fbc41"
            ],
            [
             0.9,
             "#4d9221"
            ],
            [
             1,
             "#276419"
            ]
           ],
           "sequential": [
            [
             0,
             "#0d0887"
            ],
            [
             0.1111111111111111,
             "#46039f"
            ],
            [
             0.2222222222222222,
             "#7201a8"
            ],
            [
             0.3333333333333333,
             "#9c179e"
            ],
            [
             0.4444444444444444,
             "#bd3786"
            ],
            [
             0.5555555555555556,
             "#d8576b"
            ],
            [
             0.6666666666666666,
             "#ed7953"
            ],
            [
             0.7777777777777778,
             "#fb9f3a"
            ],
            [
             0.8888888888888888,
             "#fdca26"
            ],
            [
             1,
             "#f0f921"
            ]
           ],
           "sequentialminus": [
            [
             0,
             "#0d0887"
            ],
            [
             0.1111111111111111,
             "#46039f"
            ],
            [
             0.2222222222222222,
             "#7201a8"
            ],
            [
             0.3333333333333333,
             "#9c179e"
            ],
            [
             0.4444444444444444,
             "#bd3786"
            ],
            [
             0.5555555555555556,
             "#d8576b"
            ],
            [
             0.6666666666666666,
             "#ed7953"
            ],
            [
             0.7777777777777778,
             "#fb9f3a"
            ],
            [
             0.8888888888888888,
             "#fdca26"
            ],
            [
             1,
             "#f0f921"
            ]
           ]
          },
          "colorway": [
           "#636efa",
           "#EF553B",
           "#00cc96",
           "#ab63fa",
           "#FFA15A",
           "#19d3f3",
           "#FF6692",
           "#B6E880",
           "#FF97FF",
           "#FECB52"
          ],
          "font": {
           "color": "#2a3f5f"
          },
          "geo": {
           "bgcolor": "white",
           "lakecolor": "white",
           "landcolor": "#E5ECF6",
           "showlakes": true,
           "showland": true,
           "subunitcolor": "white"
          },
          "hoverlabel": {
           "align": "left"
          },
          "hovermode": "closest",
          "mapbox": {
           "style": "light"
          },
          "paper_bgcolor": "white",
          "plot_bgcolor": "#E5ECF6",
          "polar": {
           "angularaxis": {
            "gridcolor": "white",
            "linecolor": "white",
            "ticks": ""
           },
           "bgcolor": "#E5ECF6",
           "radialaxis": {
            "gridcolor": "white",
            "linecolor": "white",
            "ticks": ""
           }
          },
          "scene": {
           "xaxis": {
            "backgroundcolor": "#E5ECF6",
            "gridcolor": "white",
            "gridwidth": 2,
            "linecolor": "white",
            "showbackground": true,
            "ticks": "",
            "zerolinecolor": "white"
           },
           "yaxis": {
            "backgroundcolor": "#E5ECF6",
            "gridcolor": "white",
            "gridwidth": 2,
            "linecolor": "white",
            "showbackground": true,
            "ticks": "",
            "zerolinecolor": "white"
           },
           "zaxis": {
            "backgroundcolor": "#E5ECF6",
            "gridcolor": "white",
            "gridwidth": 2,
            "linecolor": "white",
            "showbackground": true,
            "ticks": "",
            "zerolinecolor": "white"
           }
          },
          "shapedefaults": {
           "line": {
            "color": "#2a3f5f"
           }
          },
          "ternary": {
           "aaxis": {
            "gridcolor": "white",
            "linecolor": "white",
            "ticks": ""
           },
           "baxis": {
            "gridcolor": "white",
            "linecolor": "white",
            "ticks": ""
           },
           "bgcolor": "#E5ECF6",
           "caxis": {
            "gridcolor": "white",
            "linecolor": "white",
            "ticks": ""
           }
          },
          "title": {
           "x": 0.05
          },
          "xaxis": {
           "automargin": true,
           "gridcolor": "white",
           "linecolor": "white",
           "ticks": "",
           "title": {
            "standoff": 15
           },
           "zerolinecolor": "white",
           "zerolinewidth": 2
          },
          "yaxis": {
           "automargin": true,
           "gridcolor": "white",
           "linecolor": "white",
           "ticks": "",
           "title": {
            "standoff": 15
           },
           "zerolinecolor": "white",
           "zerolinewidth": 2
          }
         }
        },
        "title": {
         "text": "Train data"
        },
        "width": 500,
        "xaxis": {
         "anchor": "y",
         "domain": [
          0,
          1
         ],
         "title": {
          "text": "True_Value"
         }
        },
        "yaxis": {
         "anchor": "x",
         "domain": [
          0,
          1
         ],
         "title": {
          "text": "Predict_Value"
         }
        }
       }
      }
     },
     "metadata": {},
     "output_type": "display_data"
    },
    {
     "data": {
      "application/vnd.plotly.v1+json": {
       "config": {
        "plotlyServerURL": "https://plot.ly"
       },
       "data": [
        {
         "hovertemplate": "True_Value=%{x}<br>Predict_Value=%{y}<extra></extra>",
         "legendgroup": "",
         "marker": {
          "color": "#636efa",
          "symbol": "circle"
         },
         "mode": "markers",
         "name": "",
         "orientation": "v",
         "showlegend": false,
         "type": "scatter",
         "x": [
          17.349,
          20.122,
          23.368,
          26.625,
          29.283,
          31.689,
          32.355,
          36.364,
          38.387,
          37.588,
          40.981,
          40.763,
          42.179,
          48.475,
          49.233,
          46.713,
          53.351,
          54.613,
          49.095,
          51.812,
          55.361,
          46.262,
          52.433,
          53.058,
          42.429,
          43.222,
          46.797,
          45.037,
          52.39,
          50.959,
          41.513,
          46.445,
          46.675,
          44.096,
          50.318,
          50.18,
          32.884,
          41.083,
          40.416,
          34.934,
          43.05,
          41.925,
          54.625,
          55.423,
          54.625,
          39.738,
          49.03,
          47.73,
          46.314,
          56.749,
          55.811,
          68.182,
          66.48,
          79.558
         ],
         "xaxis": "x",
         "y": [
          42.9970703125,
          25.017578125,
          13.50390625,
          19.3525390625,
          1.5712890625,
          -9.7919921875,
          22.2958984375,
          27.9599609375,
          21.8173828125,
          8.2080078125,
          32.5771484375,
          39.1083984375,
          21.076171875,
          38.1044921875,
          43.8544921875,
          19.2265625,
          37.802734375,
          51.67578125,
          9.6181640625,
          40.7626953125,
          59.8701171875,
          17.095703125,
          39.1982421875,
          52.8271484375,
          22.8369140625,
          53.419921875,
          94.912109375,
          30.623046875,
          54.7294921875,
          67.6884765625,
          29.68359375,
          65.642578125,
          76.2490234375,
          38.505859375,
          87.88671875,
          98.3671875,
          14.4658203125,
          43.2705078125,
          38.5810546875,
          21.2626953125,
          60.044921875,
          80.875,
          32.4580078125,
          65.232421875,
          58.1943359375,
          45.5986328125,
          88.244140625,
          107.4599609375,
          36.869140625,
          84.2255859375,
          97.53125,
          63.470703125,
          80.1708984375,
          127.296875
         ],
         "yaxis": "y"
        },
        {
         "hovertemplate": "<b>OLS trendline</b><br>Predict_Value = 1.64347 * True_Value + -27.38<br>R<sup>2</sup>=0.396953<br><br>True_Value=%{x}<br>Predict_Value=%{y} <b>(trend)</b><extra></extra>",
         "legendgroup": "",
         "marker": {
          "color": "#636efa",
          "symbol": "circle"
         },
         "mode": "lines",
         "name": "",
         "showlegend": false,
         "type": "scatter",
         "x": [
          17.349,
          20.122,
          23.368,
          26.625,
          29.283,
          31.689,
          32.355,
          32.884,
          34.934,
          36.364,
          37.588,
          38.387,
          39.738,
          40.416,
          40.763,
          40.981,
          41.083,
          41.513,
          41.925,
          42.179,
          42.429,
          43.05,
          43.222,
          44.096,
          45.037,
          46.262,
          46.314,
          46.445,
          46.675,
          46.713,
          46.797,
          47.73,
          48.475,
          49.03,
          49.095,
          49.233,
          50.18,
          50.318,
          50.959,
          51.812,
          52.39,
          52.433,
          53.058,
          53.351,
          54.613,
          54.625,
          54.625,
          55.361,
          55.423,
          55.811,
          56.749,
          66.48,
          68.182,
          79.558
         ],
         "xaxis": "x",
         "y": [
          1.1324788835088242,
          5.6898150124622795,
          11.0245113970937,
          16.377285927206,
          20.745623262495688,
          24.69980671949605,
          25.794356254974954,
          26.663750705828324,
          30.032859636356473,
          32.383018548871235,
          34.394623100562214,
          35.70775384958269,
          37.9280788081893,
          39.04234995692006,
          39.61263327345337,
          39.97090924752905,
          40.13854296016997,
          40.84523410169538,
          41.522342823342996,
          41.9397836371743,
          42.350650579921634,
          43.37124406570601,
          43.653920522316184,
          45.09031135416086,
          46.63681452666184,
          48.65006254612379,
          48.735522870215235,
          48.95081714821484,
          49.328814735542394,
          49.39126651083998,
          49.52931780360309,
          51.06267323393615,
          52.28705672332322,
          53.19918133622231,
          53.3060067413366,
          53.532805293733134,
          55.08916927286005,
          55.31596782525658,
          56.36943066646076,
          57.77130867511467,
          58.721233046746505,
          58.79190216089904,
          59.81906951776739,
          60.30060557466727,
          62.37466190165583,
          62.3943835149077,
          62.3943835149077,
          63.60397579435585,
          63.7058707961572,
          64.34353629130106,
          65.88510906048907,
          81.8776939399864,
          84.67487608621028,
          103.37096544898509
         ],
         "yaxis": "y"
        }
       ],
       "layout": {
        "height": 400,
        "legend": {
         "tracegroupgap": 0
        },
        "margin": {
         "b": 10,
         "l": 10,
         "r": 10,
         "t": 20
        },
        "template": {
         "data": {
          "bar": [
           {
            "error_x": {
             "color": "#2a3f5f"
            },
            "error_y": {
             "color": "#2a3f5f"
            },
            "marker": {
             "line": {
              "color": "#E5ECF6",
              "width": 0.5
             },
             "pattern": {
              "fillmode": "overlay",
              "size": 10,
              "solidity": 0.2
             }
            },
            "type": "bar"
           }
          ],
          "barpolar": [
           {
            "marker": {
             "line": {
              "color": "#E5ECF6",
              "width": 0.5
             },
             "pattern": {
              "fillmode": "overlay",
              "size": 10,
              "solidity": 0.2
             }
            },
            "type": "barpolar"
           }
          ],
          "carpet": [
           {
            "aaxis": {
             "endlinecolor": "#2a3f5f",
             "gridcolor": "white",
             "linecolor": "white",
             "minorgridcolor": "white",
             "startlinecolor": "#2a3f5f"
            },
            "baxis": {
             "endlinecolor": "#2a3f5f",
             "gridcolor": "white",
             "linecolor": "white",
             "minorgridcolor": "white",
             "startlinecolor": "#2a3f5f"
            },
            "type": "carpet"
           }
          ],
          "choropleth": [
           {
            "colorbar": {
             "outlinewidth": 0,
             "ticks": ""
            },
            "type": "choropleth"
           }
          ],
          "contour": [
           {
            "colorbar": {
             "outlinewidth": 0,
             "ticks": ""
            },
            "colorscale": [
             [
              0,
              "#0d0887"
             ],
             [
              0.1111111111111111,
              "#46039f"
             ],
             [
              0.2222222222222222,
              "#7201a8"
             ],
             [
              0.3333333333333333,
              "#9c179e"
             ],
             [
              0.4444444444444444,
              "#bd3786"
             ],
             [
              0.5555555555555556,
              "#d8576b"
             ],
             [
              0.6666666666666666,
              "#ed7953"
             ],
             [
              0.7777777777777778,
              "#fb9f3a"
             ],
             [
              0.8888888888888888,
              "#fdca26"
             ],
             [
              1,
              "#f0f921"
             ]
            ],
            "type": "contour"
           }
          ],
          "contourcarpet": [
           {
            "colorbar": {
             "outlinewidth": 0,
             "ticks": ""
            },
            "type": "contourcarpet"
           }
          ],
          "heatmap": [
           {
            "colorbar": {
             "outlinewidth": 0,
             "ticks": ""
            },
            "colorscale": [
             [
              0,
              "#0d0887"
             ],
             [
              0.1111111111111111,
              "#46039f"
             ],
             [
              0.2222222222222222,
              "#7201a8"
             ],
             [
              0.3333333333333333,
              "#9c179e"
             ],
             [
              0.4444444444444444,
              "#bd3786"
             ],
             [
              0.5555555555555556,
              "#d8576b"
             ],
             [
              0.6666666666666666,
              "#ed7953"
             ],
             [
              0.7777777777777778,
              "#fb9f3a"
             ],
             [
              0.8888888888888888,
              "#fdca26"
             ],
             [
              1,
              "#f0f921"
             ]
            ],
            "type": "heatmap"
           }
          ],
          "heatmapgl": [
           {
            "colorbar": {
             "outlinewidth": 0,
             "ticks": ""
            },
            "colorscale": [
             [
              0,
              "#0d0887"
             ],
             [
              0.1111111111111111,
              "#46039f"
             ],
             [
              0.2222222222222222,
              "#7201a8"
             ],
             [
              0.3333333333333333,
              "#9c179e"
             ],
             [
              0.4444444444444444,
              "#bd3786"
             ],
             [
              0.5555555555555556,
              "#d8576b"
             ],
             [
              0.6666666666666666,
              "#ed7953"
             ],
             [
              0.7777777777777778,
              "#fb9f3a"
             ],
             [
              0.8888888888888888,
              "#fdca26"
             ],
             [
              1,
              "#f0f921"
             ]
            ],
            "type": "heatmapgl"
           }
          ],
          "histogram": [
           {
            "marker": {
             "pattern": {
              "fillmode": "overlay",
              "size": 10,
              "solidity": 0.2
             }
            },
            "type": "histogram"
           }
          ],
          "histogram2d": [
           {
            "colorbar": {
             "outlinewidth": 0,
             "ticks": ""
            },
            "colorscale": [
             [
              0,
              "#0d0887"
             ],
             [
              0.1111111111111111,
              "#46039f"
             ],
             [
              0.2222222222222222,
              "#7201a8"
             ],
             [
              0.3333333333333333,
              "#9c179e"
             ],
             [
              0.4444444444444444,
              "#bd3786"
             ],
             [
              0.5555555555555556,
              "#d8576b"
             ],
             [
              0.6666666666666666,
              "#ed7953"
             ],
             [
              0.7777777777777778,
              "#fb9f3a"
             ],
             [
              0.8888888888888888,
              "#fdca26"
             ],
             [
              1,
              "#f0f921"
             ]
            ],
            "type": "histogram2d"
           }
          ],
          "histogram2dcontour": [
           {
            "colorbar": {
             "outlinewidth": 0,
             "ticks": ""
            },
            "colorscale": [
             [
              0,
              "#0d0887"
             ],
             [
              0.1111111111111111,
              "#46039f"
             ],
             [
              0.2222222222222222,
              "#7201a8"
             ],
             [
              0.3333333333333333,
              "#9c179e"
             ],
             [
              0.4444444444444444,
              "#bd3786"
             ],
             [
              0.5555555555555556,
              "#d8576b"
             ],
             [
              0.6666666666666666,
              "#ed7953"
             ],
             [
              0.7777777777777778,
              "#fb9f3a"
             ],
             [
              0.8888888888888888,
              "#fdca26"
             ],
             [
              1,
              "#f0f921"
             ]
            ],
            "type": "histogram2dcontour"
           }
          ],
          "mesh3d": [
           {
            "colorbar": {
             "outlinewidth": 0,
             "ticks": ""
            },
            "type": "mesh3d"
           }
          ],
          "parcoords": [
           {
            "line": {
             "colorbar": {
              "outlinewidth": 0,
              "ticks": ""
             }
            },
            "type": "parcoords"
           }
          ],
          "pie": [
           {
            "automargin": true,
            "type": "pie"
           }
          ],
          "scatter": [
           {
            "marker": {
             "colorbar": {
              "outlinewidth": 0,
              "ticks": ""
             }
            },
            "type": "scatter"
           }
          ],
          "scatter3d": [
           {
            "line": {
             "colorbar": {
              "outlinewidth": 0,
              "ticks": ""
             }
            },
            "marker": {
             "colorbar": {
              "outlinewidth": 0,
              "ticks": ""
             }
            },
            "type": "scatter3d"
           }
          ],
          "scattercarpet": [
           {
            "marker": {
             "colorbar": {
              "outlinewidth": 0,
              "ticks": ""
             }
            },
            "type": "scattercarpet"
           }
          ],
          "scattergeo": [
           {
            "marker": {
             "colorbar": {
              "outlinewidth": 0,
              "ticks": ""
             }
            },
            "type": "scattergeo"
           }
          ],
          "scattergl": [
           {
            "marker": {
             "colorbar": {
              "outlinewidth": 0,
              "ticks": ""
             }
            },
            "type": "scattergl"
           }
          ],
          "scattermapbox": [
           {
            "marker": {
             "colorbar": {
              "outlinewidth": 0,
              "ticks": ""
             }
            },
            "type": "scattermapbox"
           }
          ],
          "scatterpolar": [
           {
            "marker": {
             "colorbar": {
              "outlinewidth": 0,
              "ticks": ""
             }
            },
            "type": "scatterpolar"
           }
          ],
          "scatterpolargl": [
           {
            "marker": {
             "colorbar": {
              "outlinewidth": 0,
              "ticks": ""
             }
            },
            "type": "scatterpolargl"
           }
          ],
          "scatterternary": [
           {
            "marker": {
             "colorbar": {
              "outlinewidth": 0,
              "ticks": ""
             }
            },
            "type": "scatterternary"
           }
          ],
          "surface": [
           {
            "colorbar": {
             "outlinewidth": 0,
             "ticks": ""
            },
            "colorscale": [
             [
              0,
              "#0d0887"
             ],
             [
              0.1111111111111111,
              "#46039f"
             ],
             [
              0.2222222222222222,
              "#7201a8"
             ],
             [
              0.3333333333333333,
              "#9c179e"
             ],
             [
              0.4444444444444444,
              "#bd3786"
             ],
             [
              0.5555555555555556,
              "#d8576b"
             ],
             [
              0.6666666666666666,
              "#ed7953"
             ],
             [
              0.7777777777777778,
              "#fb9f3a"
             ],
             [
              0.8888888888888888,
              "#fdca26"
             ],
             [
              1,
              "#f0f921"
             ]
            ],
            "type": "surface"
           }
          ],
          "table": [
           {
            "cells": {
             "fill": {
              "color": "#EBF0F8"
             },
             "line": {
              "color": "white"
             }
            },
            "header": {
             "fill": {
              "color": "#C8D4E3"
             },
             "line": {
              "color": "white"
             }
            },
            "type": "table"
           }
          ]
         },
         "layout": {
          "annotationdefaults": {
           "arrowcolor": "#2a3f5f",
           "arrowhead": 0,
           "arrowwidth": 1
          },
          "autotypenumbers": "strict",
          "coloraxis": {
           "colorbar": {
            "outlinewidth": 0,
            "ticks": ""
           }
          },
          "colorscale": {
           "diverging": [
            [
             0,
             "#8e0152"
            ],
            [
             0.1,
             "#c51b7d"
            ],
            [
             0.2,
             "#de77ae"
            ],
            [
             0.3,
             "#f1b6da"
            ],
            [
             0.4,
             "#fde0ef"
            ],
            [
             0.5,
             "#f7f7f7"
            ],
            [
             0.6,
             "#e6f5d0"
            ],
            [
             0.7,
             "#b8e186"
            ],
            [
             0.8,
             "#7fbc41"
            ],
            [
             0.9,
             "#4d9221"
            ],
            [
             1,
             "#276419"
            ]
           ],
           "sequential": [
            [
             0,
             "#0d0887"
            ],
            [
             0.1111111111111111,
             "#46039f"
            ],
            [
             0.2222222222222222,
             "#7201a8"
            ],
            [
             0.3333333333333333,
             "#9c179e"
            ],
            [
             0.4444444444444444,
             "#bd3786"
            ],
            [
             0.5555555555555556,
             "#d8576b"
            ],
            [
             0.6666666666666666,
             "#ed7953"
            ],
            [
             0.7777777777777778,
             "#fb9f3a"
            ],
            [
             0.8888888888888888,
             "#fdca26"
            ],
            [
             1,
             "#f0f921"
            ]
           ],
           "sequentialminus": [
            [
             0,
             "#0d0887"
            ],
            [
             0.1111111111111111,
             "#46039f"
            ],
            [
             0.2222222222222222,
             "#7201a8"
            ],
            [
             0.3333333333333333,
             "#9c179e"
            ],
            [
             0.4444444444444444,
             "#bd3786"
            ],
            [
             0.5555555555555556,
             "#d8576b"
            ],
            [
             0.6666666666666666,
             "#ed7953"
            ],
            [
             0.7777777777777778,
             "#fb9f3a"
            ],
            [
             0.8888888888888888,
             "#fdca26"
            ],
            [
             1,
             "#f0f921"
            ]
           ]
          },
          "colorway": [
           "#636efa",
           "#EF553B",
           "#00cc96",
           "#ab63fa",
           "#FFA15A",
           "#19d3f3",
           "#FF6692",
           "#B6E880",
           "#FF97FF",
           "#FECB52"
          ],
          "font": {
           "color": "#2a3f5f"
          },
          "geo": {
           "bgcolor": "white",
           "lakecolor": "white",
           "landcolor": "#E5ECF6",
           "showlakes": true,
           "showland": true,
           "subunitcolor": "white"
          },
          "hoverlabel": {
           "align": "left"
          },
          "hovermode": "closest",
          "mapbox": {
           "style": "light"
          },
          "paper_bgcolor": "white",
          "plot_bgcolor": "#E5ECF6",
          "polar": {
           "angularaxis": {
            "gridcolor": "white",
            "linecolor": "white",
            "ticks": ""
           },
           "bgcolor": "#E5ECF6",
           "radialaxis": {
            "gridcolor": "white",
            "linecolor": "white",
            "ticks": ""
           }
          },
          "scene": {
           "xaxis": {
            "backgroundcolor": "#E5ECF6",
            "gridcolor": "white",
            "gridwidth": 2,
            "linecolor": "white",
            "showbackground": true,
            "ticks": "",
            "zerolinecolor": "white"
           },
           "yaxis": {
            "backgroundcolor": "#E5ECF6",
            "gridcolor": "white",
            "gridwidth": 2,
            "linecolor": "white",
            "showbackground": true,
            "ticks": "",
            "zerolinecolor": "white"
           },
           "zaxis": {
            "backgroundcolor": "#E5ECF6",
            "gridcolor": "white",
            "gridwidth": 2,
            "linecolor": "white",
            "showbackground": true,
            "ticks": "",
            "zerolinecolor": "white"
           }
          },
          "shapedefaults": {
           "line": {
            "color": "#2a3f5f"
           }
          },
          "ternary": {
           "aaxis": {
            "gridcolor": "white",
            "linecolor": "white",
            "ticks": ""
           },
           "baxis": {
            "gridcolor": "white",
            "linecolor": "white",
            "ticks": ""
           },
           "bgcolor": "#E5ECF6",
           "caxis": {
            "gridcolor": "white",
            "linecolor": "white",
            "ticks": ""
           }
          },
          "title": {
           "x": 0.05
          },
          "xaxis": {
           "automargin": true,
           "gridcolor": "white",
           "linecolor": "white",
           "ticks": "",
           "title": {
            "standoff": 15
           },
           "zerolinecolor": "white",
           "zerolinewidth": 2
          },
          "yaxis": {
           "automargin": true,
           "gridcolor": "white",
           "linecolor": "white",
           "ticks": "",
           "title": {
            "standoff": 15
           },
           "zerolinecolor": "white",
           "zerolinewidth": 2
          }
         }
        },
        "title": {
         "text": "Test data"
        },
        "width": 500,
        "xaxis": {
         "anchor": "y",
         "domain": [
          0,
          1
         ],
         "title": {
          "text": "True_Value"
         }
        },
        "yaxis": {
         "anchor": "x",
         "domain": [
          0,
          1
         ],
         "title": {
          "text": "Predict_Value"
         }
        }
       }
      }
     },
     "metadata": {},
     "output_type": "display_data"
    },
    {
     "name": "stdout",
     "output_type": "stream",
     "text": [
      "Residual sum of squares for train (MSE): 164.23\n",
      "R2-score for train: -0.11\n",
      "Residual sum of squares for test (MSE): 566.95\n",
      "R2-score for test: -3.54\n",
      "Coefficent shape: (1, 28)\n"
     ]
    },
    {
     "data": {
      "text/plain": [
       "(array([ 62.3125    ,  81.19628906,  46.55664062,  66.81542969,\n",
       "         69.83398438,  71.76367188,  86.65332031,  97.25585938,\n",
       "         50.234375  ,  59.10644531,  40.63574219,  48.66601562,\n",
       "         24.61230469,  30.68945312,  43.3203125 ,  33.0390625 ,\n",
       "         35.24414062,  69.54980469,  13.72949219,  30.82128906,\n",
       "         65.44433594,  99.73535156,  49.43359375,  71.01269531,\n",
       "         75.25878906,  76.20019531, 107.20898438, 120.04296875,\n",
       "         54.04785156,  64.1015625 ,  50.20410156,  76.69335938,\n",
       "         33.88183594,  43.9375    ,  55.18164062,  46.52734375,\n",
       "         90.34570312,  73.60742188,  36.25195312,  15.91699219,\n",
       "         50.26953125,  78.81445312,  37.12890625,  55.94628906,\n",
       "         60.3203125 ,  61.40332031,  86.39941406,  99.61132812,\n",
       "         41.85351562,  52.28417969,  41.15429688,  64.38476562,\n",
       "         27.70214844,  37.48535156,  46.3671875 ,  40.34179688,\n",
       "         75.66015625,  64.66015625,  30.18164062,  15.58496094,\n",
       "         35.10742188,  60.86132812,  23.36230469,  40.984375  ,\n",
       "         45.58496094,  23.27441406,  82.35253906,  54.73242188,\n",
       "         38.78613281,  28.28515625,  26.90820312,  47.71875   ,\n",
       "         14.85253906,  23.80859375,  14.00097656,  19.16796875,\n",
       "         59.41015625,  36.85058594,  23.30664062,  10.671875  ,\n",
       "         33.52832031,  52.43945312,  25.20605469,  39.65234375,\n",
       "         44.53808594,  21.63769531,  74.24414062,  46.50195312,\n",
       "         40.94238281,  30.37597656,  32.56933594,  49.47949219,\n",
       "         23.93554688,  32.65820312,  26.53027344,  24.77246094,\n",
       "         61.48144531,  48.01269531,  18.35449219,  22.94628906,\n",
       "         23.08789062,  35.97949219,  17.77539062,  29.35742188,\n",
       "         34.40917969,  10.90039062,  58.27148438,  29.88964844,\n",
       "         34.        ,  23.09082031,  28.53222656,  42.02441406,\n",
       "         20.26171875,  32.5546875 ,  32.77734375,  21.64550781,\n",
       "         57.36816406,  38.53320312,  23.41894531,  24.6640625 ,\n",
       "         44.98632812,  59.61523438,  33.37988281,  53.54296875,\n",
       "         61.23730469,  31.09375   ,  95.13085938,  53.7890625 ,\n",
       "         56.52832031,  40.02929688,  42.22949219,  55.77246094,\n",
       "         30.69042969,  47.36914062,  48.74121094,  30.8046875 ,\n",
       "         72.28710938,  61.76660156,  34.8359375 ,  40.49023438,\n",
       "         31.97753906,  44.28320312,  22.69335938,  40.52050781,\n",
       "         48.19921875,  17.68164062,  80.59375   ,  38.04101562,\n",
       "         46.63476562,  29.32910156,  39.99316406,  52.37304688,\n",
       "         29.83398438,  43.17285156,  50.82910156,  32.33886719,\n",
       "         66.69628906,  48.60644531,  37.33105469,  30.81542969,\n",
       "         44.31445312,  53.73046875,  37.91992188,  52.33300781,\n",
       "         61.36816406,  65.03515625, 105.09863281,  63.94824219,\n",
       "         67.78027344,  60.77734375,  56.36816406,  62.08496094,\n",
       "         48.953125  ,  59.52734375,  46.10742188,  63.65722656,\n",
       "         64.60742188,  65.015625  ,  45.48925781,  49.09082031,\n",
       "         39.20800781,  44.92578125,  36.51074219,  47.40820312,\n",
       "         56.80761719,  59.80664062,  96.23535156,  55.32714844,\n",
       "         66.31054688,  59.42871094,  58.57128906,  58.109375  ,\n",
       "         53.02636719,  61.91210938,  52.51269531,  63.91308594,\n",
       "         70.99804688,  67.359375  ,  59.015625  ,  55.05273438,\n",
       "         24.16113281,  28.38378906,  22.96191406,  32.22851562,\n",
       "         41.36132812,  46.12402344,  82.28710938,  38.65136719,\n",
       "         55.35644531,  47.11035156,  46.65234375,  40.76464844,\n",
       "         33.6328125 ,  43.67578125,  49.86132812,  52.04003906,\n",
       "         57.44921875,  55.375     ,  51.47949219,  45.296875  ,\n",
       "         35.28125   ,  41.45800781,  32.12695312,  43.92871094,\n",
       "         54.22070312,  48.01855469,  52.30566406,  69.91308594,\n",
       "         38.57421875,  47.62695312,  39.69824219,  45.46679688,\n",
       "         35.08203125,  42.89257812,  37.10839844,  23.63671875,\n",
       "         48.15722656,  49.50292969,  31.21679688,  42.02148438,\n",
       "         32.87304688,  38.92675781,  29.84082031,  43.13378906,\n",
       "         44.05761719,  47.01074219,  53.58886719,  73.19335938,\n",
       "         35.70214844,  46.75097656,  35.72558594,  41.29101562,\n",
       "         31.06933594,  35.07910156,  17.41601562,  20.90234375,\n",
       "         42.42089844,  43.25292969,  16.3046875 ,  34.12792969,\n",
       "         36.09375   ,  37.07519531,  38.1328125 ,  47.11328125,\n",
       "         48.79589844,  49.18457031,  52.49511719,  71.05273438,\n",
       "         44.75390625,  54.75585938,  49.91894531,  55.37402344,\n",
       "         60.25976562,  50.03125   ,  38.08984375,  43.97167969,\n",
       "         52.30175781,  57.04785156,  46.25292969,  53.10449219,\n",
       "         40.50488281,  43.44238281,  40.58984375,  52.68457031,\n",
       "         55.52441406,  44.3671875 ,  60.02050781,  69.35058594,\n",
       "         48.36816406,  49.14257812,  44.32128906,  49.80273438,\n",
       "         61.68066406,  44.40429688,  34.78027344,  43.87792969,\n",
       "         44.35253906,  52.25292969,  47.64453125,  50.60644531,\n",
       "         32.24316406,  35.87988281,  31.62890625,  48.79199219,\n",
       "         56.00390625,  41.19042969,  56.82910156,  71.24316406,\n",
       "         43.77832031,  49.63671875,  16.90917969,  28.54003906,\n",
       "         57.484375  ,  22.33984375,  38.046875  ,  47.79882812,\n",
       "         16.44921875,  40.86621094,  55.85644531,  38.52734375,\n",
       "         25.74609375,  29.13769531,  25.375     ,  32.89550781,\n",
       "         30.70996094,  37.49609375,  40.68652344,  57.90527344,\n",
       "         28.125     ,  36.78808594,  28.640625  ,  33.48632812,\n",
       "         34.65527344,  36.69042969,  18.828125  ,  -2.23242188,\n",
       "         37.55175781,  24.38378906,  21.2578125 ,  29.78613281,\n",
       "         15.27636719,  18.30078125,  15.27246094,  23.55566406,\n",
       "         22.49707031,  18.60644531,  30.98046875,  39.77734375,\n",
       "         19.15234375,  19.39550781,  15.75585938,  22.23925781,\n",
       "         37.39257812,  25.32910156,  12.10351562,  -2.5859375 ,\n",
       "         21.54785156,  14.68945312,  23.93554688,  24.68457031,\n",
       "         10.34082031,   8.87402344,  10.42871094,  20.93359375,\n",
       "         22.18945312,   2.46972656,  23.8671875 ,  21.46289062,\n",
       "         29.82128906,  31.69433594,  46.421875  ,  43.38183594,\n",
       "         36.87988281,  38.86816406,  21.18847656,  34.57421875,\n",
       "         33.87207031,  27.63964844,  28.40917969,  28.55859375,\n",
       "          2.87011719,   4.17871094,   8.50878906,   8.46484375,\n",
       "          4.72363281,   2.08007812,  14.17382812,  18.85058594,\n",
       "         22.90429688,  31.85839844,  39.37597656,  36.38769531,\n",
       "         29.93554688,  31.76171875,  18.71777344,  38.53515625,\n",
       "         22.18066406,  22.20019531,  21.40429688,  13.83691406]),\n",
       " array([ 42.99707031,  25.01757812,  13.50390625,  19.35253906,\n",
       "          1.57128906,  -9.79199219,  22.29589844,  27.95996094,\n",
       "         21.81738281,   8.20800781,  32.57714844,  39.10839844,\n",
       "         21.07617188,  38.10449219,  43.85449219,  19.2265625 ,\n",
       "         37.80273438,  51.67578125,   9.61816406,  40.76269531,\n",
       "         59.87011719,  17.09570312,  39.19824219,  52.82714844,\n",
       "         22.83691406,  53.41992188,  94.91210938,  30.62304688,\n",
       "         54.72949219,  67.68847656,  29.68359375,  65.64257812,\n",
       "         76.24902344,  38.50585938,  87.88671875,  98.3671875 ,\n",
       "         14.46582031,  43.27050781,  38.58105469,  21.26269531,\n",
       "         60.04492188,  80.875     ,  32.45800781,  65.23242188,\n",
       "         58.19433594,  45.59863281,  88.24414062, 107.45996094,\n",
       "         36.86914062,  84.22558594,  97.53125   ,  63.47070312,\n",
       "         80.17089844, 127.296875  ]))"
      ]
     },
     "execution_count": 31,
     "metadata": {},
     "output_type": "execute_result"
    }
   ],
   "source": [
    "# All parameters\n",
    "polyEstimate(x_train_frequency, ym_train_frequency.Frequency0, x_test_frequency, ym_test_frequency.Frequency0, order=2)"
   ]
  },
  {
   "cell_type": "code",
   "execution_count": null,
   "metadata": {},
   "outputs": [],
   "source": []
  }
 ],
 "metadata": {
  "interpreter": {
   "hash": "c0f70214c0dd213f07f54ee5d6e0ea644bdbba35113c9bfe8aaa0d1db03ad5dd"
  },
  "kernelspec": {
   "display_name": "Python 3.8.8 64-bit ('base': conda)",
   "name": "python3"
  },
  "language_info": {
   "codemirror_mode": {
    "name": "ipython",
    "version": 3
   },
   "file_extension": ".py",
   "mimetype": "text/x-python",
   "name": "python",
   "nbconvert_exporter": "python",
   "pygments_lexer": "ipython3",
   "version": "3.9.7"
  },
  "orig_nbformat": 4
 },
 "nbformat": 4,
 "nbformat_minor": 2
}
