{
 "cells": [
  {
   "cell_type": "markdown",
   "source": [
    "# Impeller Stress and Frequency Prediction"
   ],
   "metadata": {}
  },
  {
   "cell_type": "markdown",
   "source": [
    "## Polynominal Linear Regression"
   ],
   "metadata": {}
  },
  {
   "cell_type": "markdown",
   "source": [
    "<h2 style=\"color:cyan\">Import Libraries</h2>"
   ],
   "metadata": {}
  },
  {
   "cell_type": "code",
   "execution_count": 251,
   "source": [
    "import pandas as pd\r\n",
    "import numpy as np\r\n",
    "from sklearn.preprocessing import PolynomialFeatures\r\n",
    "from sklearn.linear_model import LinearRegression\r\n",
    "from sklearn.metrics import r2_score\r\n",
    "import plotly.express as px\r\n",
    "import matplotlib.pyplot as plt\r\n",
    "%matplotlib inline"
   ],
   "outputs": [],
   "metadata": {}
  },
  {
   "cell_type": "markdown",
   "source": [
    "<h2 style=\"color:cyan\">Read Data</h2>"
   ],
   "metadata": {}
  },
  {
   "cell_type": "code",
   "execution_count": 179,
   "source": [
    "filename = 'https://raw.githubusercontent.com/sonpn82/Impeller-stress-prediction/main/Impeller%20stress%20prediction%20database%20-%20stress%20and%20freq.csv'\r\n",
    "df = pd.read_csv(filename)"
   ],
   "outputs": [],
   "metadata": {}
  },
  {
   "cell_type": "markdown",
   "source": [
    "<h2 style=\"color:cyan\">Data Exploring</h2>"
   ],
   "metadata": {}
  },
  {
   "cell_type": "code",
   "execution_count": 180,
   "source": [
    "df.head()"
   ],
   "outputs": [
    {
     "output_type": "execute_result",
     "data": {
      "text/html": [
       "<div>\n",
       "<style scoped>\n",
       "    .dataframe tbody tr th:only-of-type {\n",
       "        vertical-align: middle;\n",
       "    }\n",
       "\n",
       "    .dataframe tbody tr th {\n",
       "        vertical-align: top;\n",
       "    }\n",
       "\n",
       "    .dataframe thead th {\n",
       "        text-align: right;\n",
       "    }\n",
       "</style>\n",
       "<table border=\"1\" class=\"dataframe\">\n",
       "  <thead>\n",
       "    <tr style=\"text-align: right;\">\n",
       "      <th></th>\n",
       "      <th>No</th>\n",
       "      <th>Model</th>\n",
       "      <th>Speed</th>\n",
       "      <th>D2</th>\n",
       "      <th>DB</th>\n",
       "      <th>tm</th>\n",
       "      <th>ts</th>\n",
       "      <th>ti</th>\n",
       "      <th>tv</th>\n",
       "      <th>Rib</th>\n",
       "      <th>...</th>\n",
       "      <th>isStraightSide</th>\n",
       "      <th>hasRimout</th>\n",
       "      <th>hasRimIn</th>\n",
       "      <th>hasVaneRimIn</th>\n",
       "      <th>hasVaneRimOut</th>\n",
       "      <th>Sm</th>\n",
       "      <th>Ss</th>\n",
       "      <th>Sv</th>\n",
       "      <th>Si</th>\n",
       "      <th>Frequency</th>\n",
       "    </tr>\n",
       "  </thead>\n",
       "  <tbody>\n",
       "    <tr>\n",
       "      <th>0</th>\n",
       "      <td>1</td>\n",
       "      <td>H</td>\n",
       "      <td>3.575</td>\n",
       "      <td>0.755</td>\n",
       "      <td>0.2</td>\n",
       "      <td>6.0</td>\n",
       "      <td>4.5</td>\n",
       "      <td>0</td>\n",
       "      <td>3.2</td>\n",
       "      <td>1</td>\n",
       "      <td>...</td>\n",
       "      <td>0</td>\n",
       "      <td>0</td>\n",
       "      <td>0</td>\n",
       "      <td>0</td>\n",
       "      <td>0</td>\n",
       "      <td>216.6</td>\n",
       "      <td>292.3</td>\n",
       "      <td>294.5</td>\n",
       "      <td>0</td>\n",
       "      <td>100.46</td>\n",
       "    </tr>\n",
       "    <tr>\n",
       "      <th>1</th>\n",
       "      <td>2</td>\n",
       "      <td>H</td>\n",
       "      <td>1.785</td>\n",
       "      <td>0.755</td>\n",
       "      <td>0.2</td>\n",
       "      <td>6.0</td>\n",
       "      <td>4.5</td>\n",
       "      <td>0</td>\n",
       "      <td>3.2</td>\n",
       "      <td>1</td>\n",
       "      <td>...</td>\n",
       "      <td>0</td>\n",
       "      <td>0</td>\n",
       "      <td>0</td>\n",
       "      <td>0</td>\n",
       "      <td>0</td>\n",
       "      <td>53.9</td>\n",
       "      <td>72.9</td>\n",
       "      <td>73.5</td>\n",
       "      <td>0</td>\n",
       "      <td>86.74</td>\n",
       "    </tr>\n",
       "    <tr>\n",
       "      <th>2</th>\n",
       "      <td>3</td>\n",
       "      <td>H</td>\n",
       "      <td>1.185</td>\n",
       "      <td>0.755</td>\n",
       "      <td>0.2</td>\n",
       "      <td>6.0</td>\n",
       "      <td>4.5</td>\n",
       "      <td>0</td>\n",
       "      <td>3.2</td>\n",
       "      <td>1</td>\n",
       "      <td>...</td>\n",
       "      <td>0</td>\n",
       "      <td>0</td>\n",
       "      <td>0</td>\n",
       "      <td>0</td>\n",
       "      <td>0</td>\n",
       "      <td>23.8</td>\n",
       "      <td>32.1</td>\n",
       "      <td>32.4</td>\n",
       "      <td>0</td>\n",
       "      <td>83.93</td>\n",
       "    </tr>\n",
       "    <tr>\n",
       "      <th>3</th>\n",
       "      <td>4</td>\n",
       "      <td>H</td>\n",
       "      <td>0.890</td>\n",
       "      <td>0.755</td>\n",
       "      <td>0.2</td>\n",
       "      <td>6.0</td>\n",
       "      <td>4.5</td>\n",
       "      <td>0</td>\n",
       "      <td>3.2</td>\n",
       "      <td>1</td>\n",
       "      <td>...</td>\n",
       "      <td>0</td>\n",
       "      <td>0</td>\n",
       "      <td>0</td>\n",
       "      <td>0</td>\n",
       "      <td>0</td>\n",
       "      <td>13.4</td>\n",
       "      <td>18.1</td>\n",
       "      <td>18.2</td>\n",
       "      <td>0</td>\n",
       "      <td>82.90</td>\n",
       "    </tr>\n",
       "    <tr>\n",
       "      <th>4</th>\n",
       "      <td>5</td>\n",
       "      <td>H</td>\n",
       "      <td>1.785</td>\n",
       "      <td>0.755</td>\n",
       "      <td>0.2</td>\n",
       "      <td>6.0</td>\n",
       "      <td>4.5</td>\n",
       "      <td>0</td>\n",
       "      <td>3.2</td>\n",
       "      <td>1</td>\n",
       "      <td>...</td>\n",
       "      <td>0</td>\n",
       "      <td>0</td>\n",
       "      <td>0</td>\n",
       "      <td>0</td>\n",
       "      <td>0</td>\n",
       "      <td>54.5</td>\n",
       "      <td>73.6</td>\n",
       "      <td>74.2</td>\n",
       "      <td>0</td>\n",
       "      <td>86.35</td>\n",
       "    </tr>\n",
       "  </tbody>\n",
       "</table>\n",
       "<p>5 rows × 21 columns</p>\n",
       "</div>"
      ],
      "text/plain": [
       "   No Model  Speed     D2   DB   tm   ts  ti   tv  Rib  ...  isStraightSide  \\\n",
       "0   1     H  3.575  0.755  0.2  6.0  4.5   0  3.2    1  ...               0   \n",
       "1   2     H  1.785  0.755  0.2  6.0  4.5   0  3.2    1  ...               0   \n",
       "2   3     H  1.185  0.755  0.2  6.0  4.5   0  3.2    1  ...               0   \n",
       "3   4     H  0.890  0.755  0.2  6.0  4.5   0  3.2    1  ...               0   \n",
       "4   5     H  1.785  0.755  0.2  6.0  4.5   0  3.2    1  ...               0   \n",
       "\n",
       "   hasRimout  hasRimIn  hasVaneRimIn  hasVaneRimOut     Sm     Ss     Sv  Si  \\\n",
       "0          0         0             0              0  216.6  292.3  294.5   0   \n",
       "1          0         0             0              0   53.9   72.9   73.5   0   \n",
       "2          0         0             0              0   23.8   32.1   32.4   0   \n",
       "3          0         0             0              0   13.4   18.1   18.2   0   \n",
       "4          0         0             0              0   54.5   73.6   74.2   0   \n",
       "\n",
       "   Frequency  \n",
       "0     100.46  \n",
       "1      86.74  \n",
       "2      83.93  \n",
       "3      82.90  \n",
       "4      86.35  \n",
       "\n",
       "[5 rows x 21 columns]"
      ]
     },
     "metadata": {},
     "execution_count": 180
    }
   ],
   "metadata": {}
  },
  {
   "cell_type": "code",
   "execution_count": 101,
   "source": [
    "df.dtypes"
   ],
   "outputs": [
    {
     "output_type": "execute_result",
     "data": {
      "text/plain": [
       "No                  int64\n",
       "Model              object\n",
       "Speed             float64\n",
       "D2                float64\n",
       "DB                float64\n",
       "tm                float64\n",
       "ts                float64\n",
       "ti                  int64\n",
       "tv                float64\n",
       "Rib                 int64\n",
       "hasMouthRing        int64\n",
       "isStraightSide      int64\n",
       "hasRimout           int64\n",
       "hasRimIn            int64\n",
       "hasVaneRimIn        int64\n",
       "hasVaneRimOut       int64\n",
       "Sm                float64\n",
       "Ss                float64\n",
       "Sv                float64\n",
       "Si                  int64\n",
       "Frequency         float64\n",
       "dtype: object"
      ]
     },
     "metadata": {},
     "execution_count": 101
    }
   ],
   "metadata": {}
  },
  {
   "cell_type": "code",
   "execution_count": 181,
   "source": [
    "df.shape"
   ],
   "outputs": [
    {
     "output_type": "execute_result",
     "data": {
      "text/plain": [
       "(115, 21)"
      ]
     },
     "metadata": {},
     "execution_count": 181
    }
   ],
   "metadata": {}
  },
  {
   "cell_type": "code",
   "execution_count": 182,
   "source": [
    "df.describe()"
   ],
   "outputs": [
    {
     "output_type": "execute_result",
     "data": {
      "text/html": [
       "<div>\n",
       "<style scoped>\n",
       "    .dataframe tbody tr th:only-of-type {\n",
       "        vertical-align: middle;\n",
       "    }\n",
       "\n",
       "    .dataframe tbody tr th {\n",
       "        vertical-align: top;\n",
       "    }\n",
       "\n",
       "    .dataframe thead th {\n",
       "        text-align: right;\n",
       "    }\n",
       "</style>\n",
       "<table border=\"1\" class=\"dataframe\">\n",
       "  <thead>\n",
       "    <tr style=\"text-align: right;\">\n",
       "      <th></th>\n",
       "      <th>No</th>\n",
       "      <th>Speed</th>\n",
       "      <th>D2</th>\n",
       "      <th>DB</th>\n",
       "      <th>tm</th>\n",
       "      <th>ts</th>\n",
       "      <th>ti</th>\n",
       "      <th>tv</th>\n",
       "      <th>Rib</th>\n",
       "      <th>hasMouthRing</th>\n",
       "      <th>isStraightSide</th>\n",
       "      <th>hasRimout</th>\n",
       "      <th>hasRimIn</th>\n",
       "      <th>hasVaneRimIn</th>\n",
       "      <th>hasVaneRimOut</th>\n",
       "      <th>Sm</th>\n",
       "      <th>Ss</th>\n",
       "      <th>Sv</th>\n",
       "      <th>Si</th>\n",
       "      <th>Frequency</th>\n",
       "    </tr>\n",
       "  </thead>\n",
       "  <tbody>\n",
       "    <tr>\n",
       "      <th>count</th>\n",
       "      <td>115.000000</td>\n",
       "      <td>115.000000</td>\n",
       "      <td>115.000000</td>\n",
       "      <td>115.000000</td>\n",
       "      <td>115.000000</td>\n",
       "      <td>115.000000</td>\n",
       "      <td>115.0</td>\n",
       "      <td>115.000000</td>\n",
       "      <td>115.000000</td>\n",
       "      <td>115.000000</td>\n",
       "      <td>115.000000</td>\n",
       "      <td>115.000000</td>\n",
       "      <td>115.000000</td>\n",
       "      <td>115.0</td>\n",
       "      <td>115.000000</td>\n",
       "      <td>115.000000</td>\n",
       "      <td>115.000000</td>\n",
       "      <td>115.000000</td>\n",
       "      <td>115.0</td>\n",
       "      <td>115.000000</td>\n",
       "    </tr>\n",
       "    <tr>\n",
       "      <th>mean</th>\n",
       "      <td>57.695652</td>\n",
       "      <td>1.797870</td>\n",
       "      <td>1.390261</td>\n",
       "      <td>0.392174</td>\n",
       "      <td>9.247826</td>\n",
       "      <td>6.526957</td>\n",
       "      <td>0.0</td>\n",
       "      <td>4.228696</td>\n",
       "      <td>1.930435</td>\n",
       "      <td>0.043478</td>\n",
       "      <td>0.043478</td>\n",
       "      <td>0.086957</td>\n",
       "      <td>0.086957</td>\n",
       "      <td>0.0</td>\n",
       "      <td>0.060870</td>\n",
       "      <td>228.802087</td>\n",
       "      <td>325.287565</td>\n",
       "      <td>377.671652</td>\n",
       "      <td>0.0</td>\n",
       "      <td>54.381722</td>\n",
       "    </tr>\n",
       "    <tr>\n",
       "      <th>std</th>\n",
       "      <td>32.974518</td>\n",
       "      <td>0.437273</td>\n",
       "      <td>0.472797</td>\n",
       "      <td>0.171821</td>\n",
       "      <td>3.051728</td>\n",
       "      <td>2.560815</td>\n",
       "      <td>0.0</td>\n",
       "      <td>1.045270</td>\n",
       "      <td>0.722104</td>\n",
       "      <td>0.204824</td>\n",
       "      <td>0.204824</td>\n",
       "      <td>0.283004</td>\n",
       "      <td>0.283004</td>\n",
       "      <td>0.0</td>\n",
       "      <td>0.240137</td>\n",
       "      <td>219.089192</td>\n",
       "      <td>295.558489</td>\n",
       "      <td>383.426253</td>\n",
       "      <td>0.0</td>\n",
       "      <td>18.796230</td>\n",
       "    </tr>\n",
       "    <tr>\n",
       "      <th>min</th>\n",
       "      <td>1.000000</td>\n",
       "      <td>0.890000</td>\n",
       "      <td>0.755000</td>\n",
       "      <td>0.200000</td>\n",
       "      <td>4.500000</td>\n",
       "      <td>3.200000</td>\n",
       "      <td>0.0</td>\n",
       "      <td>3.200000</td>\n",
       "      <td>1.000000</td>\n",
       "      <td>0.000000</td>\n",
       "      <td>0.000000</td>\n",
       "      <td>0.000000</td>\n",
       "      <td>0.000000</td>\n",
       "      <td>0.0</td>\n",
       "      <td>0.000000</td>\n",
       "      <td>13.400000</td>\n",
       "      <td>18.100000</td>\n",
       "      <td>18.200000</td>\n",
       "      <td>0.0</td>\n",
       "      <td>31.880000</td>\n",
       "    </tr>\n",
       "    <tr>\n",
       "      <th>25%</th>\n",
       "      <td>29.500000</td>\n",
       "      <td>1.785000</td>\n",
       "      <td>1.000000</td>\n",
       "      <td>0.200000</td>\n",
       "      <td>6.000000</td>\n",
       "      <td>4.500000</td>\n",
       "      <td>0.0</td>\n",
       "      <td>3.600000</td>\n",
       "      <td>2.000000</td>\n",
       "      <td>0.000000</td>\n",
       "      <td>0.000000</td>\n",
       "      <td>0.000000</td>\n",
       "      <td>0.000000</td>\n",
       "      <td>0.0</td>\n",
       "      <td>0.000000</td>\n",
       "      <td>71.250000</td>\n",
       "      <td>107.350000</td>\n",
       "      <td>116.100000</td>\n",
       "      <td>0.0</td>\n",
       "      <td>41.055000</td>\n",
       "    </tr>\n",
       "    <tr>\n",
       "      <th>50%</th>\n",
       "      <td>58.000000</td>\n",
       "      <td>1.785000</td>\n",
       "      <td>1.500000</td>\n",
       "      <td>0.410000</td>\n",
       "      <td>9.000000</td>\n",
       "      <td>4.500000</td>\n",
       "      <td>0.0</td>\n",
       "      <td>4.500000</td>\n",
       "      <td>2.000000</td>\n",
       "      <td>0.000000</td>\n",
       "      <td>0.000000</td>\n",
       "      <td>0.000000</td>\n",
       "      <td>0.000000</td>\n",
       "      <td>0.0</td>\n",
       "      <td>0.000000</td>\n",
       "      <td>233.500000</td>\n",
       "      <td>328.900000</td>\n",
       "      <td>324.000000</td>\n",
       "      <td>0.0</td>\n",
       "      <td>45.220000</td>\n",
       "    </tr>\n",
       "    <tr>\n",
       "      <th>75%</th>\n",
       "      <td>85.500000</td>\n",
       "      <td>1.785000</td>\n",
       "      <td>1.750000</td>\n",
       "      <td>0.580000</td>\n",
       "      <td>12.000000</td>\n",
       "      <td>9.000000</td>\n",
       "      <td>0.0</td>\n",
       "      <td>4.500000</td>\n",
       "      <td>2.000000</td>\n",
       "      <td>0.000000</td>\n",
       "      <td>0.000000</td>\n",
       "      <td>0.000000</td>\n",
       "      <td>0.000000</td>\n",
       "      <td>0.0</td>\n",
       "      <td>0.000000</td>\n",
       "      <td>290.300000</td>\n",
       "      <td>450.850000</td>\n",
       "      <td>490.300000</td>\n",
       "      <td>0.0</td>\n",
       "      <td>64.955000</td>\n",
       "    </tr>\n",
       "    <tr>\n",
       "      <th>max</th>\n",
       "      <td>114.000000</td>\n",
       "      <td>3.575000</td>\n",
       "      <td>2.000000</td>\n",
       "      <td>0.580000</td>\n",
       "      <td>18.000000</td>\n",
       "      <td>15.000000</td>\n",
       "      <td>0.0</td>\n",
       "      <td>9.000000</td>\n",
       "      <td>4.000000</td>\n",
       "      <td>1.000000</td>\n",
       "      <td>1.000000</td>\n",
       "      <td>1.000000</td>\n",
       "      <td>1.000000</td>\n",
       "      <td>0.0</td>\n",
       "      <td>1.000000</td>\n",
       "      <td>1616.500000</td>\n",
       "      <td>1943.000000</td>\n",
       "      <td>2949.000000</td>\n",
       "      <td>0.0</td>\n",
       "      <td>112.680000</td>\n",
       "    </tr>\n",
       "  </tbody>\n",
       "</table>\n",
       "</div>"
      ],
      "text/plain": [
       "               No       Speed          D2          DB          tm          ts  \\\n",
       "count  115.000000  115.000000  115.000000  115.000000  115.000000  115.000000   \n",
       "mean    57.695652    1.797870    1.390261    0.392174    9.247826    6.526957   \n",
       "std     32.974518    0.437273    0.472797    0.171821    3.051728    2.560815   \n",
       "min      1.000000    0.890000    0.755000    0.200000    4.500000    3.200000   \n",
       "25%     29.500000    1.785000    1.000000    0.200000    6.000000    4.500000   \n",
       "50%     58.000000    1.785000    1.500000    0.410000    9.000000    4.500000   \n",
       "75%     85.500000    1.785000    1.750000    0.580000   12.000000    9.000000   \n",
       "max    114.000000    3.575000    2.000000    0.580000   18.000000   15.000000   \n",
       "\n",
       "          ti          tv         Rib  hasMouthRing  isStraightSide  \\\n",
       "count  115.0  115.000000  115.000000    115.000000      115.000000   \n",
       "mean     0.0    4.228696    1.930435      0.043478        0.043478   \n",
       "std      0.0    1.045270    0.722104      0.204824        0.204824   \n",
       "min      0.0    3.200000    1.000000      0.000000        0.000000   \n",
       "25%      0.0    3.600000    2.000000      0.000000        0.000000   \n",
       "50%      0.0    4.500000    2.000000      0.000000        0.000000   \n",
       "75%      0.0    4.500000    2.000000      0.000000        0.000000   \n",
       "max      0.0    9.000000    4.000000      1.000000        1.000000   \n",
       "\n",
       "        hasRimout    hasRimIn  hasVaneRimIn  hasVaneRimOut           Sm  \\\n",
       "count  115.000000  115.000000         115.0     115.000000   115.000000   \n",
       "mean     0.086957    0.086957           0.0       0.060870   228.802087   \n",
       "std      0.283004    0.283004           0.0       0.240137   219.089192   \n",
       "min      0.000000    0.000000           0.0       0.000000    13.400000   \n",
       "25%      0.000000    0.000000           0.0       0.000000    71.250000   \n",
       "50%      0.000000    0.000000           0.0       0.000000   233.500000   \n",
       "75%      0.000000    0.000000           0.0       0.000000   290.300000   \n",
       "max      1.000000    1.000000           0.0       1.000000  1616.500000   \n",
       "\n",
       "                Ss           Sv     Si   Frequency  \n",
       "count   115.000000   115.000000  115.0  115.000000  \n",
       "mean    325.287565   377.671652    0.0   54.381722  \n",
       "std     295.558489   383.426253    0.0   18.796230  \n",
       "min      18.100000    18.200000    0.0   31.880000  \n",
       "25%     107.350000   116.100000    0.0   41.055000  \n",
       "50%     328.900000   324.000000    0.0   45.220000  \n",
       "75%     450.850000   490.300000    0.0   64.955000  \n",
       "max    1943.000000  2949.000000    0.0  112.680000  "
      ]
     },
     "metadata": {},
     "execution_count": 182
    }
   ],
   "metadata": {}
  },
  {
   "cell_type": "markdown",
   "source": [
    "<h2 style=\"color:cyan\">Drop unused column</h2>"
   ],
   "metadata": {}
  },
  {
   "cell_type": "code",
   "execution_count": 183,
   "source": [
    "df.drop(['No', 'Model'], axis=1, inplace=True)"
   ],
   "outputs": [],
   "metadata": {}
  },
  {
   "cell_type": "code",
   "execution_count": 184,
   "source": [
    "df.head()"
   ],
   "outputs": [
    {
     "output_type": "execute_result",
     "data": {
      "text/html": [
       "<div>\n",
       "<style scoped>\n",
       "    .dataframe tbody tr th:only-of-type {\n",
       "        vertical-align: middle;\n",
       "    }\n",
       "\n",
       "    .dataframe tbody tr th {\n",
       "        vertical-align: top;\n",
       "    }\n",
       "\n",
       "    .dataframe thead th {\n",
       "        text-align: right;\n",
       "    }\n",
       "</style>\n",
       "<table border=\"1\" class=\"dataframe\">\n",
       "  <thead>\n",
       "    <tr style=\"text-align: right;\">\n",
       "      <th></th>\n",
       "      <th>Speed</th>\n",
       "      <th>D2</th>\n",
       "      <th>DB</th>\n",
       "      <th>tm</th>\n",
       "      <th>ts</th>\n",
       "      <th>ti</th>\n",
       "      <th>tv</th>\n",
       "      <th>Rib</th>\n",
       "      <th>hasMouthRing</th>\n",
       "      <th>isStraightSide</th>\n",
       "      <th>hasRimout</th>\n",
       "      <th>hasRimIn</th>\n",
       "      <th>hasVaneRimIn</th>\n",
       "      <th>hasVaneRimOut</th>\n",
       "      <th>Sm</th>\n",
       "      <th>Ss</th>\n",
       "      <th>Sv</th>\n",
       "      <th>Si</th>\n",
       "      <th>Frequency</th>\n",
       "    </tr>\n",
       "  </thead>\n",
       "  <tbody>\n",
       "    <tr>\n",
       "      <th>0</th>\n",
       "      <td>3.575</td>\n",
       "      <td>0.755</td>\n",
       "      <td>0.2</td>\n",
       "      <td>6.0</td>\n",
       "      <td>4.5</td>\n",
       "      <td>0</td>\n",
       "      <td>3.2</td>\n",
       "      <td>1</td>\n",
       "      <td>0</td>\n",
       "      <td>0</td>\n",
       "      <td>0</td>\n",
       "      <td>0</td>\n",
       "      <td>0</td>\n",
       "      <td>0</td>\n",
       "      <td>216.6</td>\n",
       "      <td>292.3</td>\n",
       "      <td>294.5</td>\n",
       "      <td>0</td>\n",
       "      <td>100.46</td>\n",
       "    </tr>\n",
       "    <tr>\n",
       "      <th>1</th>\n",
       "      <td>1.785</td>\n",
       "      <td>0.755</td>\n",
       "      <td>0.2</td>\n",
       "      <td>6.0</td>\n",
       "      <td>4.5</td>\n",
       "      <td>0</td>\n",
       "      <td>3.2</td>\n",
       "      <td>1</td>\n",
       "      <td>0</td>\n",
       "      <td>0</td>\n",
       "      <td>0</td>\n",
       "      <td>0</td>\n",
       "      <td>0</td>\n",
       "      <td>0</td>\n",
       "      <td>53.9</td>\n",
       "      <td>72.9</td>\n",
       "      <td>73.5</td>\n",
       "      <td>0</td>\n",
       "      <td>86.74</td>\n",
       "    </tr>\n",
       "    <tr>\n",
       "      <th>2</th>\n",
       "      <td>1.185</td>\n",
       "      <td>0.755</td>\n",
       "      <td>0.2</td>\n",
       "      <td>6.0</td>\n",
       "      <td>4.5</td>\n",
       "      <td>0</td>\n",
       "      <td>3.2</td>\n",
       "      <td>1</td>\n",
       "      <td>0</td>\n",
       "      <td>0</td>\n",
       "      <td>0</td>\n",
       "      <td>0</td>\n",
       "      <td>0</td>\n",
       "      <td>0</td>\n",
       "      <td>23.8</td>\n",
       "      <td>32.1</td>\n",
       "      <td>32.4</td>\n",
       "      <td>0</td>\n",
       "      <td>83.93</td>\n",
       "    </tr>\n",
       "    <tr>\n",
       "      <th>3</th>\n",
       "      <td>0.890</td>\n",
       "      <td>0.755</td>\n",
       "      <td>0.2</td>\n",
       "      <td>6.0</td>\n",
       "      <td>4.5</td>\n",
       "      <td>0</td>\n",
       "      <td>3.2</td>\n",
       "      <td>1</td>\n",
       "      <td>0</td>\n",
       "      <td>0</td>\n",
       "      <td>0</td>\n",
       "      <td>0</td>\n",
       "      <td>0</td>\n",
       "      <td>0</td>\n",
       "      <td>13.4</td>\n",
       "      <td>18.1</td>\n",
       "      <td>18.2</td>\n",
       "      <td>0</td>\n",
       "      <td>82.90</td>\n",
       "    </tr>\n",
       "    <tr>\n",
       "      <th>4</th>\n",
       "      <td>1.785</td>\n",
       "      <td>0.755</td>\n",
       "      <td>0.2</td>\n",
       "      <td>6.0</td>\n",
       "      <td>4.5</td>\n",
       "      <td>0</td>\n",
       "      <td>3.2</td>\n",
       "      <td>1</td>\n",
       "      <td>0</td>\n",
       "      <td>0</td>\n",
       "      <td>0</td>\n",
       "      <td>0</td>\n",
       "      <td>0</td>\n",
       "      <td>0</td>\n",
       "      <td>54.5</td>\n",
       "      <td>73.6</td>\n",
       "      <td>74.2</td>\n",
       "      <td>0</td>\n",
       "      <td>86.35</td>\n",
       "    </tr>\n",
       "  </tbody>\n",
       "</table>\n",
       "</div>"
      ],
      "text/plain": [
       "   Speed     D2   DB   tm   ts  ti   tv  Rib  hasMouthRing  isStraightSide  \\\n",
       "0  3.575  0.755  0.2  6.0  4.5   0  3.2    1             0               0   \n",
       "1  1.785  0.755  0.2  6.0  4.5   0  3.2    1             0               0   \n",
       "2  1.185  0.755  0.2  6.0  4.5   0  3.2    1             0               0   \n",
       "3  0.890  0.755  0.2  6.0  4.5   0  3.2    1             0               0   \n",
       "4  1.785  0.755  0.2  6.0  4.5   0  3.2    1             0               0   \n",
       "\n",
       "   hasRimout  hasRimIn  hasVaneRimIn  hasVaneRimOut     Sm     Ss     Sv  Si  \\\n",
       "0          0         0             0              0  216.6  292.3  294.5   0   \n",
       "1          0         0             0              0   53.9   72.9   73.5   0   \n",
       "2          0         0             0              0   23.8   32.1   32.4   0   \n",
       "3          0         0             0              0   13.4   18.1   18.2   0   \n",
       "4          0         0             0              0   54.5   73.6   74.2   0   \n",
       "\n",
       "   Frequency  \n",
       "0     100.46  \n",
       "1      86.74  \n",
       "2      83.93  \n",
       "3      82.90  \n",
       "4      86.35  "
      ]
     },
     "metadata": {},
     "execution_count": 184
    }
   ],
   "metadata": {}
  },
  {
   "cell_type": "markdown",
   "source": [
    "<h2 style=\"color:cyan\">Check correlation between columns</h2>"
   ],
   "metadata": {}
  },
  {
   "cell_type": "code",
   "execution_count": 185,
   "source": [
    "df.corr()"
   ],
   "outputs": [
    {
     "output_type": "execute_result",
     "data": {
      "text/html": [
       "<div>\n",
       "<style scoped>\n",
       "    .dataframe tbody tr th:only-of-type {\n",
       "        vertical-align: middle;\n",
       "    }\n",
       "\n",
       "    .dataframe tbody tr th {\n",
       "        vertical-align: top;\n",
       "    }\n",
       "\n",
       "    .dataframe thead th {\n",
       "        text-align: right;\n",
       "    }\n",
       "</style>\n",
       "<table border=\"1\" class=\"dataframe\">\n",
       "  <thead>\n",
       "    <tr style=\"text-align: right;\">\n",
       "      <th></th>\n",
       "      <th>Speed</th>\n",
       "      <th>D2</th>\n",
       "      <th>DB</th>\n",
       "      <th>tm</th>\n",
       "      <th>ts</th>\n",
       "      <th>ti</th>\n",
       "      <th>tv</th>\n",
       "      <th>Rib</th>\n",
       "      <th>hasMouthRing</th>\n",
       "      <th>isStraightSide</th>\n",
       "      <th>hasRimout</th>\n",
       "      <th>hasRimIn</th>\n",
       "      <th>hasVaneRimIn</th>\n",
       "      <th>hasVaneRimOut</th>\n",
       "      <th>Sm</th>\n",
       "      <th>Ss</th>\n",
       "      <th>Sv</th>\n",
       "      <th>Si</th>\n",
       "      <th>Frequency</th>\n",
       "    </tr>\n",
       "  </thead>\n",
       "  <tbody>\n",
       "    <tr>\n",
       "      <th>Speed</th>\n",
       "      <td>1.000000</td>\n",
       "      <td>0.000589</td>\n",
       "      <td>0.000202</td>\n",
       "      <td>-0.002510</td>\n",
       "      <td>-0.002702</td>\n",
       "      <td>NaN</td>\n",
       "      <td>-0.004836</td>\n",
       "      <td>-0.005335</td>\n",
       "      <td>-0.006302</td>\n",
       "      <td>-0.006302</td>\n",
       "      <td>-0.009122</td>\n",
       "      <td>-0.009122</td>\n",
       "      <td>NaN</td>\n",
       "      <td>-0.007526</td>\n",
       "      <td>0.634075</td>\n",
       "      <td>0.663342</td>\n",
       "      <td>0.603304</td>\n",
       "      <td>NaN</td>\n",
       "      <td>0.248641</td>\n",
       "    </tr>\n",
       "    <tr>\n",
       "      <th>D2</th>\n",
       "      <td>0.000589</td>\n",
       "      <td>1.000000</td>\n",
       "      <td>0.969688</td>\n",
       "      <td>0.853575</td>\n",
       "      <td>0.737936</td>\n",
       "      <td>NaN</td>\n",
       "      <td>0.532982</td>\n",
       "      <td>0.411661</td>\n",
       "      <td>0.004864</td>\n",
       "      <td>0.004864</td>\n",
       "      <td>0.007040</td>\n",
       "      <td>0.007040</td>\n",
       "      <td>NaN</td>\n",
       "      <td>0.079052</td>\n",
       "      <td>0.636652</td>\n",
       "      <td>0.579739</td>\n",
       "      <td>0.641746</td>\n",
       "      <td>NaN</td>\n",
       "      <td>-0.650927</td>\n",
       "    </tr>\n",
       "    <tr>\n",
       "      <th>DB</th>\n",
       "      <td>0.000202</td>\n",
       "      <td>0.969688</td>\n",
       "      <td>1.000000</td>\n",
       "      <td>0.883014</td>\n",
       "      <td>0.785708</td>\n",
       "      <td>NaN</td>\n",
       "      <td>0.515515</td>\n",
       "      <td>0.353316</td>\n",
       "      <td>0.002276</td>\n",
       "      <td>0.002276</td>\n",
       "      <td>0.003294</td>\n",
       "      <td>0.003294</td>\n",
       "      <td>NaN</td>\n",
       "      <td>0.081804</td>\n",
       "      <td>0.610950</td>\n",
       "      <td>0.542262</td>\n",
       "      <td>0.614709</td>\n",
       "      <td>NaN</td>\n",
       "      <td>-0.497260</td>\n",
       "    </tr>\n",
       "    <tr>\n",
       "      <th>tm</th>\n",
       "      <td>-0.002510</td>\n",
       "      <td>0.853575</td>\n",
       "      <td>0.883014</td>\n",
       "      <td>1.000000</td>\n",
       "      <td>0.701573</td>\n",
       "      <td>NaN</td>\n",
       "      <td>0.430864</td>\n",
       "      <td>0.288525</td>\n",
       "      <td>-0.017389</td>\n",
       "      <td>-0.017389</td>\n",
       "      <td>-0.025171</td>\n",
       "      <td>-0.025171</td>\n",
       "      <td>NaN</td>\n",
       "      <td>0.051054</td>\n",
       "      <td>0.487843</td>\n",
       "      <td>0.466485</td>\n",
       "      <td>0.540207</td>\n",
       "      <td>NaN</td>\n",
       "      <td>-0.350143</td>\n",
       "    </tr>\n",
       "    <tr>\n",
       "      <th>ts</th>\n",
       "      <td>-0.002702</td>\n",
       "      <td>0.737936</td>\n",
       "      <td>0.785708</td>\n",
       "      <td>0.701573</td>\n",
       "      <td>1.000000</td>\n",
       "      <td>NaN</td>\n",
       "      <td>0.311982</td>\n",
       "      <td>0.225400</td>\n",
       "      <td>-0.018978</td>\n",
       "      <td>-0.018978</td>\n",
       "      <td>-0.027470</td>\n",
       "      <td>-0.027470</td>\n",
       "      <td>NaN</td>\n",
       "      <td>0.054366</td>\n",
       "      <td>0.471605</td>\n",
       "      <td>0.288472</td>\n",
       "      <td>0.459910</td>\n",
       "      <td>NaN</td>\n",
       "      <td>-0.321585</td>\n",
       "    </tr>\n",
       "    <tr>\n",
       "      <th>ti</th>\n",
       "      <td>NaN</td>\n",
       "      <td>NaN</td>\n",
       "      <td>NaN</td>\n",
       "      <td>NaN</td>\n",
       "      <td>NaN</td>\n",
       "      <td>NaN</td>\n",
       "      <td>NaN</td>\n",
       "      <td>NaN</td>\n",
       "      <td>NaN</td>\n",
       "      <td>NaN</td>\n",
       "      <td>NaN</td>\n",
       "      <td>NaN</td>\n",
       "      <td>NaN</td>\n",
       "      <td>NaN</td>\n",
       "      <td>NaN</td>\n",
       "      <td>NaN</td>\n",
       "      <td>NaN</td>\n",
       "      <td>NaN</td>\n",
       "      <td>NaN</td>\n",
       "    </tr>\n",
       "    <tr>\n",
       "      <th>tv</th>\n",
       "      <td>-0.004836</td>\n",
       "      <td>0.532982</td>\n",
       "      <td>0.515515</td>\n",
       "      <td>0.430864</td>\n",
       "      <td>0.311982</td>\n",
       "      <td>NaN</td>\n",
       "      <td>1.000000</td>\n",
       "      <td>0.208371</td>\n",
       "      <td>-0.034559</td>\n",
       "      <td>-0.034559</td>\n",
       "      <td>-0.050024</td>\n",
       "      <td>-0.050024</td>\n",
       "      <td>NaN</td>\n",
       "      <td>-0.010514</td>\n",
       "      <td>0.343640</td>\n",
       "      <td>0.417054</td>\n",
       "      <td>0.289948</td>\n",
       "      <td>NaN</td>\n",
       "      <td>-0.423231</td>\n",
       "    </tr>\n",
       "    <tr>\n",
       "      <th>Rib</th>\n",
       "      <td>-0.005335</td>\n",
       "      <td>0.411661</td>\n",
       "      <td>0.353316</td>\n",
       "      <td>0.288525</td>\n",
       "      <td>0.225400</td>\n",
       "      <td>NaN</td>\n",
       "      <td>0.208371</td>\n",
       "      <td>1.000000</td>\n",
       "      <td>-0.038679</td>\n",
       "      <td>-0.038679</td>\n",
       "      <td>-0.055988</td>\n",
       "      <td>-0.055988</td>\n",
       "      <td>NaN</td>\n",
       "      <td>0.176393</td>\n",
       "      <td>0.230202</td>\n",
       "      <td>0.233458</td>\n",
       "      <td>0.171260</td>\n",
       "      <td>NaN</td>\n",
       "      <td>-0.479367</td>\n",
       "    </tr>\n",
       "    <tr>\n",
       "      <th>hasMouthRing</th>\n",
       "      <td>-0.006302</td>\n",
       "      <td>0.004864</td>\n",
       "      <td>0.002276</td>\n",
       "      <td>-0.017389</td>\n",
       "      <td>-0.018978</td>\n",
       "      <td>NaN</td>\n",
       "      <td>-0.034559</td>\n",
       "      <td>-0.038679</td>\n",
       "      <td>1.000000</td>\n",
       "      <td>-0.045455</td>\n",
       "      <td>-0.065795</td>\n",
       "      <td>-0.065795</td>\n",
       "      <td>NaN</td>\n",
       "      <td>-0.054278</td>\n",
       "      <td>-0.010636</td>\n",
       "      <td>-0.040665</td>\n",
       "      <td>-0.018972</td>\n",
       "      <td>NaN</td>\n",
       "      <td>-0.018566</td>\n",
       "    </tr>\n",
       "    <tr>\n",
       "      <th>isStraightSide</th>\n",
       "      <td>-0.006302</td>\n",
       "      <td>0.004864</td>\n",
       "      <td>0.002276</td>\n",
       "      <td>-0.017389</td>\n",
       "      <td>-0.018978</td>\n",
       "      <td>NaN</td>\n",
       "      <td>-0.034559</td>\n",
       "      <td>-0.038679</td>\n",
       "      <td>-0.045455</td>\n",
       "      <td>1.000000</td>\n",
       "      <td>-0.065795</td>\n",
       "      <td>-0.065795</td>\n",
       "      <td>NaN</td>\n",
       "      <td>-0.054278</td>\n",
       "      <td>-0.014272</td>\n",
       "      <td>-0.015945</td>\n",
       "      <td>-0.019017</td>\n",
       "      <td>NaN</td>\n",
       "      <td>-0.019387</td>\n",
       "    </tr>\n",
       "    <tr>\n",
       "      <th>hasRimout</th>\n",
       "      <td>-0.009122</td>\n",
       "      <td>0.007040</td>\n",
       "      <td>0.003294</td>\n",
       "      <td>-0.025171</td>\n",
       "      <td>-0.027470</td>\n",
       "      <td>NaN</td>\n",
       "      <td>-0.050024</td>\n",
       "      <td>-0.055988</td>\n",
       "      <td>-0.065795</td>\n",
       "      <td>-0.065795</td>\n",
       "      <td>1.000000</td>\n",
       "      <td>0.452381</td>\n",
       "      <td>NaN</td>\n",
       "      <td>-0.078567</td>\n",
       "      <td>-0.015848</td>\n",
       "      <td>-0.048899</td>\n",
       "      <td>-0.016282</td>\n",
       "      <td>NaN</td>\n",
       "      <td>-0.048147</td>\n",
       "    </tr>\n",
       "    <tr>\n",
       "      <th>hasRimIn</th>\n",
       "      <td>-0.009122</td>\n",
       "      <td>0.007040</td>\n",
       "      <td>0.003294</td>\n",
       "      <td>-0.025171</td>\n",
       "      <td>-0.027470</td>\n",
       "      <td>NaN</td>\n",
       "      <td>-0.050024</td>\n",
       "      <td>-0.055988</td>\n",
       "      <td>-0.065795</td>\n",
       "      <td>-0.065795</td>\n",
       "      <td>0.452381</td>\n",
       "      <td>1.000000</td>\n",
       "      <td>NaN</td>\n",
       "      <td>-0.078567</td>\n",
       "      <td>-0.015480</td>\n",
       "      <td>-0.066465</td>\n",
       "      <td>-0.024803</td>\n",
       "      <td>NaN</td>\n",
       "      <td>-0.042359</td>\n",
       "    </tr>\n",
       "    <tr>\n",
       "      <th>hasVaneRimIn</th>\n",
       "      <td>NaN</td>\n",
       "      <td>NaN</td>\n",
       "      <td>NaN</td>\n",
       "      <td>NaN</td>\n",
       "      <td>NaN</td>\n",
       "      <td>NaN</td>\n",
       "      <td>NaN</td>\n",
       "      <td>NaN</td>\n",
       "      <td>NaN</td>\n",
       "      <td>NaN</td>\n",
       "      <td>NaN</td>\n",
       "      <td>NaN</td>\n",
       "      <td>NaN</td>\n",
       "      <td>NaN</td>\n",
       "      <td>NaN</td>\n",
       "      <td>NaN</td>\n",
       "      <td>NaN</td>\n",
       "      <td>NaN</td>\n",
       "      <td>NaN</td>\n",
       "    </tr>\n",
       "    <tr>\n",
       "      <th>hasVaneRimOut</th>\n",
       "      <td>-0.007526</td>\n",
       "      <td>0.079052</td>\n",
       "      <td>0.081804</td>\n",
       "      <td>0.051054</td>\n",
       "      <td>0.054366</td>\n",
       "      <td>NaN</td>\n",
       "      <td>-0.010514</td>\n",
       "      <td>0.176393</td>\n",
       "      <td>-0.054278</td>\n",
       "      <td>-0.054278</td>\n",
       "      <td>-0.078567</td>\n",
       "      <td>-0.078567</td>\n",
       "      <td>NaN</td>\n",
       "      <td>1.000000</td>\n",
       "      <td>0.030539</td>\n",
       "      <td>0.015651</td>\n",
       "      <td>0.000629</td>\n",
       "      <td>NaN</td>\n",
       "      <td>-0.044119</td>\n",
       "    </tr>\n",
       "    <tr>\n",
       "      <th>Sm</th>\n",
       "      <td>0.634075</td>\n",
       "      <td>0.636652</td>\n",
       "      <td>0.610950</td>\n",
       "      <td>0.487843</td>\n",
       "      <td>0.471605</td>\n",
       "      <td>NaN</td>\n",
       "      <td>0.343640</td>\n",
       "      <td>0.230202</td>\n",
       "      <td>-0.010636</td>\n",
       "      <td>-0.014272</td>\n",
       "      <td>-0.015848</td>\n",
       "      <td>-0.015480</td>\n",
       "      <td>NaN</td>\n",
       "      <td>0.030539</td>\n",
       "      <td>1.000000</td>\n",
       "      <td>0.939028</td>\n",
       "      <td>0.973522</td>\n",
       "      <td>NaN</td>\n",
       "      <td>-0.230623</td>\n",
       "    </tr>\n",
       "    <tr>\n",
       "      <th>Ss</th>\n",
       "      <td>0.663342</td>\n",
       "      <td>0.579739</td>\n",
       "      <td>0.542262</td>\n",
       "      <td>0.466485</td>\n",
       "      <td>0.288472</td>\n",
       "      <td>NaN</td>\n",
       "      <td>0.417054</td>\n",
       "      <td>0.233458</td>\n",
       "      <td>-0.040665</td>\n",
       "      <td>-0.015945</td>\n",
       "      <td>-0.048899</td>\n",
       "      <td>-0.066465</td>\n",
       "      <td>NaN</td>\n",
       "      <td>0.015651</td>\n",
       "      <td>0.939028</td>\n",
       "      <td>1.000000</td>\n",
       "      <td>0.934119</td>\n",
       "      <td>NaN</td>\n",
       "      <td>-0.237202</td>\n",
       "    </tr>\n",
       "    <tr>\n",
       "      <th>Sv</th>\n",
       "      <td>0.603304</td>\n",
       "      <td>0.641746</td>\n",
       "      <td>0.614709</td>\n",
       "      <td>0.540207</td>\n",
       "      <td>0.459910</td>\n",
       "      <td>NaN</td>\n",
       "      <td>0.289948</td>\n",
       "      <td>0.171260</td>\n",
       "      <td>-0.018972</td>\n",
       "      <td>-0.019017</td>\n",
       "      <td>-0.016282</td>\n",
       "      <td>-0.024803</td>\n",
       "      <td>NaN</td>\n",
       "      <td>0.000629</td>\n",
       "      <td>0.973522</td>\n",
       "      <td>0.934119</td>\n",
       "      <td>1.000000</td>\n",
       "      <td>NaN</td>\n",
       "      <td>-0.222742</td>\n",
       "    </tr>\n",
       "    <tr>\n",
       "      <th>Si</th>\n",
       "      <td>NaN</td>\n",
       "      <td>NaN</td>\n",
       "      <td>NaN</td>\n",
       "      <td>NaN</td>\n",
       "      <td>NaN</td>\n",
       "      <td>NaN</td>\n",
       "      <td>NaN</td>\n",
       "      <td>NaN</td>\n",
       "      <td>NaN</td>\n",
       "      <td>NaN</td>\n",
       "      <td>NaN</td>\n",
       "      <td>NaN</td>\n",
       "      <td>NaN</td>\n",
       "      <td>NaN</td>\n",
       "      <td>NaN</td>\n",
       "      <td>NaN</td>\n",
       "      <td>NaN</td>\n",
       "      <td>NaN</td>\n",
       "      <td>NaN</td>\n",
       "    </tr>\n",
       "    <tr>\n",
       "      <th>Frequency</th>\n",
       "      <td>0.248641</td>\n",
       "      <td>-0.650927</td>\n",
       "      <td>-0.497260</td>\n",
       "      <td>-0.350143</td>\n",
       "      <td>-0.321585</td>\n",
       "      <td>NaN</td>\n",
       "      <td>-0.423231</td>\n",
       "      <td>-0.479367</td>\n",
       "      <td>-0.018566</td>\n",
       "      <td>-0.019387</td>\n",
       "      <td>-0.048147</td>\n",
       "      <td>-0.042359</td>\n",
       "      <td>NaN</td>\n",
       "      <td>-0.044119</td>\n",
       "      <td>-0.230623</td>\n",
       "      <td>-0.237202</td>\n",
       "      <td>-0.222742</td>\n",
       "      <td>NaN</td>\n",
       "      <td>1.000000</td>\n",
       "    </tr>\n",
       "  </tbody>\n",
       "</table>\n",
       "</div>"
      ],
      "text/plain": [
       "                   Speed        D2        DB        tm        ts  ti  \\\n",
       "Speed           1.000000  0.000589  0.000202 -0.002510 -0.002702 NaN   \n",
       "D2              0.000589  1.000000  0.969688  0.853575  0.737936 NaN   \n",
       "DB              0.000202  0.969688  1.000000  0.883014  0.785708 NaN   \n",
       "tm             -0.002510  0.853575  0.883014  1.000000  0.701573 NaN   \n",
       "ts             -0.002702  0.737936  0.785708  0.701573  1.000000 NaN   \n",
       "ti                   NaN       NaN       NaN       NaN       NaN NaN   \n",
       "tv             -0.004836  0.532982  0.515515  0.430864  0.311982 NaN   \n",
       "Rib            -0.005335  0.411661  0.353316  0.288525  0.225400 NaN   \n",
       "hasMouthRing   -0.006302  0.004864  0.002276 -0.017389 -0.018978 NaN   \n",
       "isStraightSide -0.006302  0.004864  0.002276 -0.017389 -0.018978 NaN   \n",
       "hasRimout      -0.009122  0.007040  0.003294 -0.025171 -0.027470 NaN   \n",
       "hasRimIn       -0.009122  0.007040  0.003294 -0.025171 -0.027470 NaN   \n",
       "hasVaneRimIn         NaN       NaN       NaN       NaN       NaN NaN   \n",
       "hasVaneRimOut  -0.007526  0.079052  0.081804  0.051054  0.054366 NaN   \n",
       "Sm              0.634075  0.636652  0.610950  0.487843  0.471605 NaN   \n",
       "Ss              0.663342  0.579739  0.542262  0.466485  0.288472 NaN   \n",
       "Sv              0.603304  0.641746  0.614709  0.540207  0.459910 NaN   \n",
       "Si                   NaN       NaN       NaN       NaN       NaN NaN   \n",
       "Frequency       0.248641 -0.650927 -0.497260 -0.350143 -0.321585 NaN   \n",
       "\n",
       "                      tv       Rib  hasMouthRing  isStraightSide  hasRimout  \\\n",
       "Speed          -0.004836 -0.005335     -0.006302       -0.006302  -0.009122   \n",
       "D2              0.532982  0.411661      0.004864        0.004864   0.007040   \n",
       "DB              0.515515  0.353316      0.002276        0.002276   0.003294   \n",
       "tm              0.430864  0.288525     -0.017389       -0.017389  -0.025171   \n",
       "ts              0.311982  0.225400     -0.018978       -0.018978  -0.027470   \n",
       "ti                   NaN       NaN           NaN             NaN        NaN   \n",
       "tv              1.000000  0.208371     -0.034559       -0.034559  -0.050024   \n",
       "Rib             0.208371  1.000000     -0.038679       -0.038679  -0.055988   \n",
       "hasMouthRing   -0.034559 -0.038679      1.000000       -0.045455  -0.065795   \n",
       "isStraightSide -0.034559 -0.038679     -0.045455        1.000000  -0.065795   \n",
       "hasRimout      -0.050024 -0.055988     -0.065795       -0.065795   1.000000   \n",
       "hasRimIn       -0.050024 -0.055988     -0.065795       -0.065795   0.452381   \n",
       "hasVaneRimIn         NaN       NaN           NaN             NaN        NaN   \n",
       "hasVaneRimOut  -0.010514  0.176393     -0.054278       -0.054278  -0.078567   \n",
       "Sm              0.343640  0.230202     -0.010636       -0.014272  -0.015848   \n",
       "Ss              0.417054  0.233458     -0.040665       -0.015945  -0.048899   \n",
       "Sv              0.289948  0.171260     -0.018972       -0.019017  -0.016282   \n",
       "Si                   NaN       NaN           NaN             NaN        NaN   \n",
       "Frequency      -0.423231 -0.479367     -0.018566       -0.019387  -0.048147   \n",
       "\n",
       "                hasRimIn  hasVaneRimIn  hasVaneRimOut        Sm        Ss  \\\n",
       "Speed          -0.009122           NaN      -0.007526  0.634075  0.663342   \n",
       "D2              0.007040           NaN       0.079052  0.636652  0.579739   \n",
       "DB              0.003294           NaN       0.081804  0.610950  0.542262   \n",
       "tm             -0.025171           NaN       0.051054  0.487843  0.466485   \n",
       "ts             -0.027470           NaN       0.054366  0.471605  0.288472   \n",
       "ti                   NaN           NaN            NaN       NaN       NaN   \n",
       "tv             -0.050024           NaN      -0.010514  0.343640  0.417054   \n",
       "Rib            -0.055988           NaN       0.176393  0.230202  0.233458   \n",
       "hasMouthRing   -0.065795           NaN      -0.054278 -0.010636 -0.040665   \n",
       "isStraightSide -0.065795           NaN      -0.054278 -0.014272 -0.015945   \n",
       "hasRimout       0.452381           NaN      -0.078567 -0.015848 -0.048899   \n",
       "hasRimIn        1.000000           NaN      -0.078567 -0.015480 -0.066465   \n",
       "hasVaneRimIn         NaN           NaN            NaN       NaN       NaN   \n",
       "hasVaneRimOut  -0.078567           NaN       1.000000  0.030539  0.015651   \n",
       "Sm             -0.015480           NaN       0.030539  1.000000  0.939028   \n",
       "Ss             -0.066465           NaN       0.015651  0.939028  1.000000   \n",
       "Sv             -0.024803           NaN       0.000629  0.973522  0.934119   \n",
       "Si                   NaN           NaN            NaN       NaN       NaN   \n",
       "Frequency      -0.042359           NaN      -0.044119 -0.230623 -0.237202   \n",
       "\n",
       "                      Sv  Si  Frequency  \n",
       "Speed           0.603304 NaN   0.248641  \n",
       "D2              0.641746 NaN  -0.650927  \n",
       "DB              0.614709 NaN  -0.497260  \n",
       "tm              0.540207 NaN  -0.350143  \n",
       "ts              0.459910 NaN  -0.321585  \n",
       "ti                   NaN NaN        NaN  \n",
       "tv              0.289948 NaN  -0.423231  \n",
       "Rib             0.171260 NaN  -0.479367  \n",
       "hasMouthRing   -0.018972 NaN  -0.018566  \n",
       "isStraightSide -0.019017 NaN  -0.019387  \n",
       "hasRimout      -0.016282 NaN  -0.048147  \n",
       "hasRimIn       -0.024803 NaN  -0.042359  \n",
       "hasVaneRimIn         NaN NaN        NaN  \n",
       "hasVaneRimOut   0.000629 NaN  -0.044119  \n",
       "Sm              0.973522 NaN  -0.230623  \n",
       "Ss              0.934119 NaN  -0.237202  \n",
       "Sv              1.000000 NaN  -0.222742  \n",
       "Si                   NaN NaN        NaN  \n",
       "Frequency      -0.222742 NaN   1.000000  "
      ]
     },
     "metadata": {},
     "execution_count": 185
    }
   ],
   "metadata": {}
  },
  {
   "cell_type": "code",
   "execution_count": 277,
   "source": [
    "# Remove speed for impeller stress prediction data - speed effect will be estimated separately\r\n",
    "df_stress = df.loc[df['Speed'] == 1.785]\r\n",
    "df_stress.head(10)"
   ],
   "outputs": [
    {
     "output_type": "execute_result",
     "data": {
      "text/html": [
       "<div>\n",
       "<style scoped>\n",
       "    .dataframe tbody tr th:only-of-type {\n",
       "        vertical-align: middle;\n",
       "    }\n",
       "\n",
       "    .dataframe tbody tr th {\n",
       "        vertical-align: top;\n",
       "    }\n",
       "\n",
       "    .dataframe thead th {\n",
       "        text-align: right;\n",
       "    }\n",
       "</style>\n",
       "<table border=\"1\" class=\"dataframe\">\n",
       "  <thead>\n",
       "    <tr style=\"text-align: right;\">\n",
       "      <th></th>\n",
       "      <th>Speed</th>\n",
       "      <th>D2</th>\n",
       "      <th>DB</th>\n",
       "      <th>tm</th>\n",
       "      <th>ts</th>\n",
       "      <th>ti</th>\n",
       "      <th>tv</th>\n",
       "      <th>Rib</th>\n",
       "      <th>hasMouthRing</th>\n",
       "      <th>isStraightSide</th>\n",
       "      <th>hasRimout</th>\n",
       "      <th>hasRimIn</th>\n",
       "      <th>hasVaneRimIn</th>\n",
       "      <th>hasVaneRimOut</th>\n",
       "      <th>Sm</th>\n",
       "      <th>Ss</th>\n",
       "      <th>Sv</th>\n",
       "      <th>Si</th>\n",
       "      <th>Frequency</th>\n",
       "    </tr>\n",
       "  </thead>\n",
       "  <tbody>\n",
       "    <tr>\n",
       "      <th>1</th>\n",
       "      <td>1.785</td>\n",
       "      <td>0.755</td>\n",
       "      <td>0.2</td>\n",
       "      <td>6.0</td>\n",
       "      <td>4.5</td>\n",
       "      <td>0</td>\n",
       "      <td>3.2</td>\n",
       "      <td>1</td>\n",
       "      <td>0</td>\n",
       "      <td>0</td>\n",
       "      <td>0</td>\n",
       "      <td>0</td>\n",
       "      <td>0</td>\n",
       "      <td>0</td>\n",
       "      <td>53.9</td>\n",
       "      <td>72.9</td>\n",
       "      <td>73.5</td>\n",
       "      <td>0</td>\n",
       "      <td>86.74</td>\n",
       "    </tr>\n",
       "    <tr>\n",
       "      <th>4</th>\n",
       "      <td>1.785</td>\n",
       "      <td>0.755</td>\n",
       "      <td>0.2</td>\n",
       "      <td>6.0</td>\n",
       "      <td>4.5</td>\n",
       "      <td>0</td>\n",
       "      <td>3.2</td>\n",
       "      <td>1</td>\n",
       "      <td>0</td>\n",
       "      <td>0</td>\n",
       "      <td>0</td>\n",
       "      <td>0</td>\n",
       "      <td>0</td>\n",
       "      <td>0</td>\n",
       "      <td>54.5</td>\n",
       "      <td>73.6</td>\n",
       "      <td>74.2</td>\n",
       "      <td>0</td>\n",
       "      <td>86.35</td>\n",
       "    </tr>\n",
       "    <tr>\n",
       "      <th>5</th>\n",
       "      <td>1.785</td>\n",
       "      <td>0.755</td>\n",
       "      <td>0.2</td>\n",
       "      <td>6.0</td>\n",
       "      <td>4.5</td>\n",
       "      <td>0</td>\n",
       "      <td>3.2</td>\n",
       "      <td>1</td>\n",
       "      <td>0</td>\n",
       "      <td>0</td>\n",
       "      <td>0</td>\n",
       "      <td>0</td>\n",
       "      <td>0</td>\n",
       "      <td>0</td>\n",
       "      <td>55.0</td>\n",
       "      <td>74.3</td>\n",
       "      <td>74.9</td>\n",
       "      <td>0</td>\n",
       "      <td>86.02</td>\n",
       "    </tr>\n",
       "    <tr>\n",
       "      <th>6</th>\n",
       "      <td>1.785</td>\n",
       "      <td>0.755</td>\n",
       "      <td>0.2</td>\n",
       "      <td>6.0</td>\n",
       "      <td>4.5</td>\n",
       "      <td>0</td>\n",
       "      <td>3.2</td>\n",
       "      <td>1</td>\n",
       "      <td>0</td>\n",
       "      <td>0</td>\n",
       "      <td>0</td>\n",
       "      <td>0</td>\n",
       "      <td>0</td>\n",
       "      <td>0</td>\n",
       "      <td>53.9</td>\n",
       "      <td>72.9</td>\n",
       "      <td>73.5</td>\n",
       "      <td>0</td>\n",
       "      <td>82.51</td>\n",
       "    </tr>\n",
       "    <tr>\n",
       "      <th>7</th>\n",
       "      <td>1.785</td>\n",
       "      <td>0.755</td>\n",
       "      <td>0.2</td>\n",
       "      <td>6.0</td>\n",
       "      <td>4.5</td>\n",
       "      <td>0</td>\n",
       "      <td>3.2</td>\n",
       "      <td>1</td>\n",
       "      <td>0</td>\n",
       "      <td>0</td>\n",
       "      <td>0</td>\n",
       "      <td>0</td>\n",
       "      <td>0</td>\n",
       "      <td>0</td>\n",
       "      <td>53.9</td>\n",
       "      <td>72.9</td>\n",
       "      <td>73.5</td>\n",
       "      <td>0</td>\n",
       "      <td>78.06</td>\n",
       "    </tr>\n",
       "    <tr>\n",
       "      <th>8</th>\n",
       "      <td>1.785</td>\n",
       "      <td>0.755</td>\n",
       "      <td>0.2</td>\n",
       "      <td>6.0</td>\n",
       "      <td>4.5</td>\n",
       "      <td>0</td>\n",
       "      <td>3.2</td>\n",
       "      <td>1</td>\n",
       "      <td>0</td>\n",
       "      <td>0</td>\n",
       "      <td>0</td>\n",
       "      <td>0</td>\n",
       "      <td>0</td>\n",
       "      <td>0</td>\n",
       "      <td>53.9</td>\n",
       "      <td>72.9</td>\n",
       "      <td>73.5</td>\n",
       "      <td>0</td>\n",
       "      <td>73.33</td>\n",
       "    </tr>\n",
       "    <tr>\n",
       "      <th>9</th>\n",
       "      <td>1.785</td>\n",
       "      <td>0.755</td>\n",
       "      <td>0.2</td>\n",
       "      <td>6.0</td>\n",
       "      <td>4.5</td>\n",
       "      <td>0</td>\n",
       "      <td>3.2</td>\n",
       "      <td>1</td>\n",
       "      <td>0</td>\n",
       "      <td>0</td>\n",
       "      <td>1</td>\n",
       "      <td>0</td>\n",
       "      <td>0</td>\n",
       "      <td>0</td>\n",
       "      <td>52.1</td>\n",
       "      <td>75.9</td>\n",
       "      <td>74.9</td>\n",
       "      <td>0</td>\n",
       "      <td>82.92</td>\n",
       "    </tr>\n",
       "    <tr>\n",
       "      <th>10</th>\n",
       "      <td>1.785</td>\n",
       "      <td>0.755</td>\n",
       "      <td>0.2</td>\n",
       "      <td>6.0</td>\n",
       "      <td>4.5</td>\n",
       "      <td>0</td>\n",
       "      <td>3.2</td>\n",
       "      <td>1</td>\n",
       "      <td>0</td>\n",
       "      <td>0</td>\n",
       "      <td>0</td>\n",
       "      <td>1</td>\n",
       "      <td>0</td>\n",
       "      <td>0</td>\n",
       "      <td>51.3</td>\n",
       "      <td>60.6</td>\n",
       "      <td>73.7</td>\n",
       "      <td>0</td>\n",
       "      <td>86.16</td>\n",
       "    </tr>\n",
       "    <tr>\n",
       "      <th>11</th>\n",
       "      <td>1.785</td>\n",
       "      <td>0.755</td>\n",
       "      <td>0.2</td>\n",
       "      <td>6.0</td>\n",
       "      <td>4.5</td>\n",
       "      <td>0</td>\n",
       "      <td>3.2</td>\n",
       "      <td>1</td>\n",
       "      <td>0</td>\n",
       "      <td>0</td>\n",
       "      <td>1</td>\n",
       "      <td>1</td>\n",
       "      <td>0</td>\n",
       "      <td>0</td>\n",
       "      <td>53.5</td>\n",
       "      <td>63.9</td>\n",
       "      <td>73.8</td>\n",
       "      <td>0</td>\n",
       "      <td>82.38</td>\n",
       "    </tr>\n",
       "    <tr>\n",
       "      <th>12</th>\n",
       "      <td>1.785</td>\n",
       "      <td>0.755</td>\n",
       "      <td>0.2</td>\n",
       "      <td>6.0</td>\n",
       "      <td>4.5</td>\n",
       "      <td>0</td>\n",
       "      <td>3.2</td>\n",
       "      <td>2</td>\n",
       "      <td>0</td>\n",
       "      <td>0</td>\n",
       "      <td>0</td>\n",
       "      <td>0</td>\n",
       "      <td>0</td>\n",
       "      <td>0</td>\n",
       "      <td>53.3</td>\n",
       "      <td>72.6</td>\n",
       "      <td>68.2</td>\n",
       "      <td>0</td>\n",
       "      <td>86.66</td>\n",
       "    </tr>\n",
       "  </tbody>\n",
       "</table>\n",
       "</div>"
      ],
      "text/plain": [
       "    Speed     D2   DB   tm   ts  ti   tv  Rib  hasMouthRing  isStraightSide  \\\n",
       "1   1.785  0.755  0.2  6.0  4.5   0  3.2    1             0               0   \n",
       "4   1.785  0.755  0.2  6.0  4.5   0  3.2    1             0               0   \n",
       "5   1.785  0.755  0.2  6.0  4.5   0  3.2    1             0               0   \n",
       "6   1.785  0.755  0.2  6.0  4.5   0  3.2    1             0               0   \n",
       "7   1.785  0.755  0.2  6.0  4.5   0  3.2    1             0               0   \n",
       "8   1.785  0.755  0.2  6.0  4.5   0  3.2    1             0               0   \n",
       "9   1.785  0.755  0.2  6.0  4.5   0  3.2    1             0               0   \n",
       "10  1.785  0.755  0.2  6.0  4.5   0  3.2    1             0               0   \n",
       "11  1.785  0.755  0.2  6.0  4.5   0  3.2    1             0               0   \n",
       "12  1.785  0.755  0.2  6.0  4.5   0  3.2    2             0               0   \n",
       "\n",
       "    hasRimout  hasRimIn  hasVaneRimIn  hasVaneRimOut    Sm    Ss    Sv  Si  \\\n",
       "1           0         0             0              0  53.9  72.9  73.5   0   \n",
       "4           0         0             0              0  54.5  73.6  74.2   0   \n",
       "5           0         0             0              0  55.0  74.3  74.9   0   \n",
       "6           0         0             0              0  53.9  72.9  73.5   0   \n",
       "7           0         0             0              0  53.9  72.9  73.5   0   \n",
       "8           0         0             0              0  53.9  72.9  73.5   0   \n",
       "9           1         0             0              0  52.1  75.9  74.9   0   \n",
       "10          0         1             0              0  51.3  60.6  73.7   0   \n",
       "11          1         1             0              0  53.5  63.9  73.8   0   \n",
       "12          0         0             0              0  53.3  72.6  68.2   0   \n",
       "\n",
       "    Frequency  \n",
       "1       86.74  \n",
       "4       86.35  \n",
       "5       86.02  \n",
       "6       82.51  \n",
       "7       78.06  \n",
       "8       73.33  \n",
       "9       82.92  \n",
       "10      86.16  \n",
       "11      82.38  \n",
       "12      86.66  "
      ]
     },
     "metadata": {},
     "execution_count": 277
    }
   ],
   "metadata": {}
  },
  {
   "cell_type": "markdown",
   "source": [
    "<h2 style=\"color:cyan\">Data exploratory analysis</h2>"
   ],
   "metadata": {}
  },
  {
   "cell_type": "code",
   "execution_count": 278,
   "source": [
    "# Input parameters\r\n",
    "x_train_stress = df_stress[['D2','DB','tm','ts','tv','Rib','hasMouthRing','isStraightSide','hasRimout','hasRimIn','hasVaneRimOut']]\r\n",
    "x_train_stress.head()"
   ],
   "outputs": [
    {
     "output_type": "execute_result",
     "data": {
      "text/html": [
       "<div>\n",
       "<style scoped>\n",
       "    .dataframe tbody tr th:only-of-type {\n",
       "        vertical-align: middle;\n",
       "    }\n",
       "\n",
       "    .dataframe tbody tr th {\n",
       "        vertical-align: top;\n",
       "    }\n",
       "\n",
       "    .dataframe thead th {\n",
       "        text-align: right;\n",
       "    }\n",
       "</style>\n",
       "<table border=\"1\" class=\"dataframe\">\n",
       "  <thead>\n",
       "    <tr style=\"text-align: right;\">\n",
       "      <th></th>\n",
       "      <th>D2</th>\n",
       "      <th>DB</th>\n",
       "      <th>tm</th>\n",
       "      <th>ts</th>\n",
       "      <th>tv</th>\n",
       "      <th>Rib</th>\n",
       "      <th>hasMouthRing</th>\n",
       "      <th>isStraightSide</th>\n",
       "      <th>hasRimout</th>\n",
       "      <th>hasRimIn</th>\n",
       "      <th>hasVaneRimOut</th>\n",
       "    </tr>\n",
       "  </thead>\n",
       "  <tbody>\n",
       "    <tr>\n",
       "      <th>1</th>\n",
       "      <td>0.755</td>\n",
       "      <td>0.2</td>\n",
       "      <td>6.0</td>\n",
       "      <td>4.5</td>\n",
       "      <td>3.2</td>\n",
       "      <td>1</td>\n",
       "      <td>0</td>\n",
       "      <td>0</td>\n",
       "      <td>0</td>\n",
       "      <td>0</td>\n",
       "      <td>0</td>\n",
       "    </tr>\n",
       "    <tr>\n",
       "      <th>4</th>\n",
       "      <td>0.755</td>\n",
       "      <td>0.2</td>\n",
       "      <td>6.0</td>\n",
       "      <td>4.5</td>\n",
       "      <td>3.2</td>\n",
       "      <td>1</td>\n",
       "      <td>0</td>\n",
       "      <td>0</td>\n",
       "      <td>0</td>\n",
       "      <td>0</td>\n",
       "      <td>0</td>\n",
       "    </tr>\n",
       "    <tr>\n",
       "      <th>5</th>\n",
       "      <td>0.755</td>\n",
       "      <td>0.2</td>\n",
       "      <td>6.0</td>\n",
       "      <td>4.5</td>\n",
       "      <td>3.2</td>\n",
       "      <td>1</td>\n",
       "      <td>0</td>\n",
       "      <td>0</td>\n",
       "      <td>0</td>\n",
       "      <td>0</td>\n",
       "      <td>0</td>\n",
       "    </tr>\n",
       "    <tr>\n",
       "      <th>6</th>\n",
       "      <td>0.755</td>\n",
       "      <td>0.2</td>\n",
       "      <td>6.0</td>\n",
       "      <td>4.5</td>\n",
       "      <td>3.2</td>\n",
       "      <td>1</td>\n",
       "      <td>0</td>\n",
       "      <td>0</td>\n",
       "      <td>0</td>\n",
       "      <td>0</td>\n",
       "      <td>0</td>\n",
       "    </tr>\n",
       "    <tr>\n",
       "      <th>7</th>\n",
       "      <td>0.755</td>\n",
       "      <td>0.2</td>\n",
       "      <td>6.0</td>\n",
       "      <td>4.5</td>\n",
       "      <td>3.2</td>\n",
       "      <td>1</td>\n",
       "      <td>0</td>\n",
       "      <td>0</td>\n",
       "      <td>0</td>\n",
       "      <td>0</td>\n",
       "      <td>0</td>\n",
       "    </tr>\n",
       "  </tbody>\n",
       "</table>\n",
       "</div>"
      ],
      "text/plain": [
       "      D2   DB   tm   ts   tv  Rib  hasMouthRing  isStraightSide  hasRimout  \\\n",
       "1  0.755  0.2  6.0  4.5  3.2    1             0               0          0   \n",
       "4  0.755  0.2  6.0  4.5  3.2    1             0               0          0   \n",
       "5  0.755  0.2  6.0  4.5  3.2    1             0               0          0   \n",
       "6  0.755  0.2  6.0  4.5  3.2    1             0               0          0   \n",
       "7  0.755  0.2  6.0  4.5  3.2    1             0               0          0   \n",
       "\n",
       "   hasRimIn  hasVaneRimOut  \n",
       "1         0              0  \n",
       "4         0              0  \n",
       "5         0              0  \n",
       "6         0              0  \n",
       "7         0              0  "
      ]
     },
     "metadata": {},
     "execution_count": 278
    }
   ],
   "metadata": {}
  },
  {
   "cell_type": "code",
   "execution_count": 279,
   "source": [
    "# Output parameters\r\n",
    "ym_train_stress = df_stress[['Sm','Ss','Sv','Si','Frequency']]\r\n",
    "ym_train_stress.head()"
   ],
   "outputs": [
    {
     "output_type": "execute_result",
     "data": {
      "text/html": [
       "<div>\n",
       "<style scoped>\n",
       "    .dataframe tbody tr th:only-of-type {\n",
       "        vertical-align: middle;\n",
       "    }\n",
       "\n",
       "    .dataframe tbody tr th {\n",
       "        vertical-align: top;\n",
       "    }\n",
       "\n",
       "    .dataframe thead th {\n",
       "        text-align: right;\n",
       "    }\n",
       "</style>\n",
       "<table border=\"1\" class=\"dataframe\">\n",
       "  <thead>\n",
       "    <tr style=\"text-align: right;\">\n",
       "      <th></th>\n",
       "      <th>Sm</th>\n",
       "      <th>Ss</th>\n",
       "      <th>Sv</th>\n",
       "      <th>Si</th>\n",
       "      <th>Frequency</th>\n",
       "    </tr>\n",
       "  </thead>\n",
       "  <tbody>\n",
       "    <tr>\n",
       "      <th>1</th>\n",
       "      <td>53.9</td>\n",
       "      <td>72.9</td>\n",
       "      <td>73.5</td>\n",
       "      <td>0</td>\n",
       "      <td>86.74</td>\n",
       "    </tr>\n",
       "    <tr>\n",
       "      <th>4</th>\n",
       "      <td>54.5</td>\n",
       "      <td>73.6</td>\n",
       "      <td>74.2</td>\n",
       "      <td>0</td>\n",
       "      <td>86.35</td>\n",
       "    </tr>\n",
       "    <tr>\n",
       "      <th>5</th>\n",
       "      <td>55.0</td>\n",
       "      <td>74.3</td>\n",
       "      <td>74.9</td>\n",
       "      <td>0</td>\n",
       "      <td>86.02</td>\n",
       "    </tr>\n",
       "    <tr>\n",
       "      <th>6</th>\n",
       "      <td>53.9</td>\n",
       "      <td>72.9</td>\n",
       "      <td>73.5</td>\n",
       "      <td>0</td>\n",
       "      <td>82.51</td>\n",
       "    </tr>\n",
       "    <tr>\n",
       "      <th>7</th>\n",
       "      <td>53.9</td>\n",
       "      <td>72.9</td>\n",
       "      <td>73.5</td>\n",
       "      <td>0</td>\n",
       "      <td>78.06</td>\n",
       "    </tr>\n",
       "  </tbody>\n",
       "</table>\n",
       "</div>"
      ],
      "text/plain": [
       "     Sm    Ss    Sv  Si  Frequency\n",
       "1  53.9  72.9  73.5   0      86.74\n",
       "4  54.5  73.6  74.2   0      86.35\n",
       "5  55.0  74.3  74.9   0      86.02\n",
       "6  53.9  72.9  73.5   0      82.51\n",
       "7  53.9  72.9  73.5   0      78.06"
      ]
     },
     "metadata": {},
     "execution_count": 279
    }
   ],
   "metadata": {}
  },
  {
   "cell_type": "code",
   "execution_count": 283,
   "source": [
    "# plot main stress Vs impeller D2\r\n",
    "plt.scatter(x_train_stress.D2,ym_train_stress.Sm)\r\n",
    "plt.xlabel('D2')\r\n",
    "plt.ylabel('Main Stress')\r\n",
    "plt.show()"
   ],
   "outputs": [
    {
     "output_type": "display_data",
     "data": {
      "image/png": "[encoded data removed]",
      "text/plain": [
       "<Figure size 432x288 with 1 Axes>"
      ]
     },
     "metadata": {
      "needs_background": "light"
     }
    }
   ],
   "metadata": {}
  },
  {
   "cell_type": "code",
   "execution_count": 282,
   "source": [
    "# plot side stress Vs impeller D2\r\n",
    "plt.scatter(x_train_stress.D2,ym_train_stress.Ss)\r\n",
    "plt.xlabel('D2')\r\n",
    "plt.ylabel('Side Stress')\r\n",
    "plt.show()"
   ],
   "outputs": [
    {
     "output_type": "display_data",
     "data": {
      "image/png": "[encoded data removed]",
      "text/plain": [
       "<Figure size 432x288 with 1 Axes>"
      ]
     },
     "metadata": {
      "needs_background": "light"
     }
    }
   ],
   "metadata": {}
  },
  {
   "cell_type": "code",
   "execution_count": 281,
   "source": [
    "# plot vane stress Vs impeller D2\r\n",
    "plt.scatter(x_train_stress.D2,ym_train_stress.Sv)\r\n",
    "plt.xlabel('D2')\r\n",
    "plt.ylabel('Vane Stress')\r\n",
    "plt.show()"
   ],
   "outputs": [
    {
     "output_type": "display_data",
     "data": {
      "image/png": "[encoded data removed]",
      "text/plain": [
       "<Figure size 432x288 with 1 Axes>"
      ]
     },
     "metadata": {
      "needs_background": "light"
     }
    }
   ],
   "metadata": {}
  },
  {
   "cell_type": "code",
   "execution_count": 280,
   "source": [
    "# plot frequency Vs D2/tm\r\n",
    "plt.scatter(x_train_stress.D2/x_train_stress.tm,ym_train_stress.Frequency)\r\n",
    "plt.xlabel('D2/tm')\r\n",
    "plt.ylabel('Frequency')\r\n",
    "plt.show()"
   ],
   "outputs": [
    {
     "output_type": "display_data",
     "data": {
      "image/png": "[encoded data removed]",
      "text/plain": [
       "<Figure size 432x288 with 1 Axes>"
      ]
     },
     "metadata": {
      "needs_background": "light"
     }
    }
   ],
   "metadata": {}
  },
  {
   "cell_type": "markdown",
   "source": [
    "<h2 style=\"color:cyan\">Function for Polynominal Regression</h2>"
   ],
   "metadata": {}
  },
  {
   "cell_type": "code",
   "execution_count": 268,
   "source": [
    "df_coef = pd.DataFrame()  # To save coefficients of fitting function\r\n",
    "\r\n",
    "def polyEstimate(x_train_sm, y_train_sm): \r\n",
    "\r\n",
    "    # Transform input data into polynominal features\r\n",
    "    x_train_sm_transform = PolynomialFeatures(degree=2).fit_transform(x_train_sm)\r\n",
    "    x_train_sm_transform.shape  # 1, x, y, x2, xy, y2\r\n",
    "\r\n",
    "    # Create a linear regression model\r\n",
    "    poly = LinearRegression()\r\n",
    "    poly.fit(x_train_sm_transform, y_train_sm)  # transformed x data can be used as a linear regression model\r\n",
    "\r\n",
    "    # Predict value of train data\r\n",
    "    yhat_sm = poly.predict(x_train_sm_transform)\r\n",
    "\r\n",
    "    # Plot predict and true data\r\n",
    "    df_result = pd.DataFrame(list(zip(y_train_sm,yhat_sm)), columns=['True_Value','Predict_Value'])\r\n",
    "    fig = px.scatter(df_result, x='True_Value', y='Predict_Value', trendline='ols', height=400, width=500)\r\n",
    "    fig.update_layout(margin=dict(l=10,r=10,t=20,b=10))\r\n",
    "    fig.show()\r\n",
    "\r\n",
    "    # Model Evaluation\r\n",
    "    print(\"Residual sum of squares (MSE): %.2f\" % np.mean((y_train_sm - yhat_sm) ** 2))\r\n",
    "    print(\"R2-score: %.2f\" % r2_score(y_train_sm , yhat_sm) )\r\n",
    "\r\n",
    "    # Extract the coefficient\r\n",
    "    columns_name = (PolynomialFeatures(degree=2).fit(x_train_sm).get_feature_names(x_train_sm.columns))\r\n",
    "    columns_name = columns_name[1:]\r\n",
    "    columns_name.append(\"Intercept\")\r\n",
    "\r\n",
    "    data = poly.coef_[1:]\r\n",
    "    data = np.append(data, poly.intercept_).reshape(1,data.shape[0]+1)\r\n",
    "\r\n",
    "    df_coef = pd.DataFrame(data, columns=columns_name)\r\n",
    "    print('Coefficent shape:', df_coef.shape)"
   ],
   "outputs": [],
   "metadata": {}
  },
  {
   "cell_type": "markdown",
   "source": [
    "<h2 style=\"color:cyan\">Polynomial Regression Model - Main Stress - 2 inputs</h2>"
   ],
   "metadata": {}
  },
  {
   "cell_type": "code",
   "execution_count": 269,
   "source": [
    "# Sm Vs impeller tm & impeller D2\r\n",
    "polyEstimate(df_stress[['D2','tm']], ym_train_stress.Sm)"
   ],
   "outputs": [
    {
     "output_type": "display_data",
     "data": {
      "application/vnd.plotly.v1+json": {
       "config": {
        "plotlyServerURL": "https://plot.ly"
       },
       "data": [
        {
         "hovertemplate": "True_Value=%{x}<br>Predict_Value=%{y}<extra></extra>",
         "legendgroup": "",
         "marker": {
          "color": "#636efa",
          "symbol": "circle"
         },
         "mode": "markers",
         "name": "",
         "orientation": "v",
         "showlegend": false,
         "type": "scatter",
         "x": [
          53.9,
          54.5,
          55,
          53.9,
          53.9,
          53.9,
          52.1,
          51.3,
          53.5,
          53.3,
          51.8,
          46.1,
          51.9,
          56.1,
          48.8,
          38.9,
          52.4,
          55.1,
          56.8,
          52.3,
          51.3,
          55.7,
          50.3,
          237,
          240.2,
          236.3,
          239.3,
          241.9,
          239.9,
          233.5,
          238.4,
          239.6,
          235.4,
          221.9,
          153.1,
          130.4,
          237.1,
          240.4,
          243.6,
          239,
          275.8,
          211,
          98.07,
          103,
          99.7,
          100.4,
          96.3,
          102.5,
          80.6,
          95.2,
          98.8,
          95.78,
          123.4,
          88.3,
          72,
          96.2,
          98.2,
          100.4,
          98.6,
          98.3,
          403,
          408.4,
          403.5,
          407,
          411.4,
          407.9,
          397.5,
          405.1,
          413.6,
          404.3,
          402.7,
          505.4,
          379.7,
          248,
          397.6,
          406.66,
          409.18,
          396.7,
          462.8,
          522.9,
          285.3,
          289.9,
          288.7,
          286.3,
          291.03,
          288.6,
          281.5,
          287.3,
          292.7,
          287.5,
          286.3,
          362.5,
          267.8,
          170.9,
          280.9,
          289.7,
          290.7,
          280.2,
          306,
          332.8
         ],
         "xaxis": "x",
         "y": [
          52.878215476481415,
          52.878215476481415,
          52.878215476481415,
          52.878215476481415,
          52.878215476481415,
          52.878215476481415,
          52.878215476481415,
          52.878215476481415,
          52.878215476481415,
          52.878215476481415,
          52.878215476481415,
          52.878215476481415,
          52.878215476481415,
          51.495376431572794,
          49.11726493690736,
          36.654142891478095,
          52.878215476481415,
          52.878215476481415,
          52.878215476481415,
          52.878215476481415,
          52.878215476481415,
          52.878215476481415,
          52.878215476481415,
          234.1614414098256,
          234.1614414098256,
          234.1614414098256,
          234.1614414098256,
          234.1614414098256,
          234.1614414098256,
          234.1614414098256,
          234.1614414098256,
          234.1614414098256,
          234.1614414098256,
          267.8240966952663,
          191.7966146185298,
          140.72961632137878,
          234.1614414098256,
          234.1614414098256,
          234.1614414098256,
          234.1614414098256,
          234.1614414098256,
          234.1614414098256,
          99.46882037695819,
          99.46882037695819,
          99.46882037695819,
          99.46882037695819,
          99.46882037695819,
          99.46882037695819,
          99.46882037695819,
          99.46882037695819,
          99.46882037695819,
          99.46882037695819,
          103.00270459563166,
          85.87442331021994,
          75.81391046215514,
          99.46882037695819,
          99.46882037695819,
          99.46882037695819,
          99.46882037695819,
          99.46882037695819,
          418.3676015792694,
          418.3676015792694,
          418.3676015792694,
          418.3676015792694,
          418.3676015792694,
          418.3676015792694,
          418.3676015792694,
          418.3676015792694,
          418.3676015792694,
          418.3676015792694,
          418.3676015792694,
          480.8006865892676,
          347.23234506341595,
          267.39491704170746,
          418.3676015792694,
          418.3676015792694,
          418.3676015792694,
          418.3676015792694,
          418.3676015792694,
          418.3676015792694,
          292.78807971392007,
          292.78807971392007,
          292.78807971392007,
          292.78807971392007,
          292.78807971392007,
          292.78807971392007,
          292.78807971392007,
          292.78807971392007,
          292.78807971392007,
          292.78807971392007,
          292.78807971392007,
          345.1870356145671,
          231.68695230741787,
          161.88365339506055,
          292.78807971392007,
          292.78807971392007,
          292.78807971392007,
          292.78807971392007,
          292.78807971392007,
          292.78807971392007
         ],
         "yaxis": "y"
        },
        {
         "hovertemplate": "<b>OLS trendline</b><br>Predict_Value = 0.983805 * True_Value + 3.43705<br>R<sup>2</sup>=0.983805<br><br>True_Value=%{x}<br>Predict_Value=%{y} <b>(trend)</b><extra></extra>",
         "legendgroup": "",
         "marker": {
          "color": "#636efa",
          "symbol": "circle"
         },
         "mode": "lines",
         "name": "",
         "showlegend": false,
         "type": "scatter",
         "x": [
          38.9,
          46.1,
          48.8,
          50.3,
          51.3,
          51.3,
          51.8,
          51.9,
          52.1,
          52.3,
          52.4,
          53.3,
          53.5,
          53.9,
          53.9,
          53.9,
          53.9,
          54.5,
          55,
          55.1,
          55.7,
          56.1,
          56.8,
          72,
          80.6,
          88.3,
          95.2,
          95.78,
          96.2,
          96.3,
          98.07,
          98.2,
          98.3,
          98.6,
          98.8,
          99.7,
          100.4,
          100.4,
          102.5,
          103,
          123.4,
          130.4,
          153.1,
          170.9,
          211,
          221.9,
          233.5,
          235.4,
          236.3,
          237,
          237.1,
          238.4,
          239,
          239.3,
          239.6,
          239.9,
          240.2,
          240.4,
          241.9,
          243.6,
          248,
          267.8,
          275.8,
          280.2,
          280.9,
          281.5,
          285.3,
          286.3,
          286.3,
          287.3,
          287.5,
          288.6,
          288.7,
          289.7,
          289.9,
          290.7,
          291.03,
          292.7,
          306,
          332.8,
          362.5,
          379.7,
          396.7,
          397.5,
          397.6,
          402.7,
          403,
          403.5,
          404.3,
          405.1,
          406.66,
          407,
          407.9,
          408.4,
          409.18,
          411.4,
          413.6,
          462.8,
          505.4,
          522.9
         ],
         "xaxis": "x",
         "y": [
          41.70704494071282,
          48.79043779537319,
          51.446710115870815,
          52.922416960591725,
          53.906221523739,
          53.906221523739,
          54.398123805312636,
          54.496504261627365,
          54.69326517425682,
          54.89002608688627,
          54.988406543201,
          55.87383065003354,
          56.070591562663,
          56.464113387921905,
          56.464113387921905,
          56.464113387921905,
          56.464113387921905,
          57.05439612581027,
          57.54629840738391,
          57.64467886369864,
          58.234961601587,
          58.62848342684591,
          59.317146621049,
          74.27097598088754,
          82.73169522395408,
          90.30699036018808,
          97.09524184590427,
          97.66584849252968,
          98.07904640905153,
          98.17742686536626,
          99.91876094213693,
          100.04665553534608,
          100.1450359916608,
          100.44017736060498,
          100.63693827323443,
          101.522362380067,
          102.21102557427008,
          102.21102557427008,
          104.27701515687934,
          104.76891743845299,
          124.83853052665734,
          131.72516246868824,
          154.0575260521313,
          171.56924727615277,
          211.01981025835838,
          221.74327999666366,
          233.155412929172,
          235.02464159915183,
          235.91006570598438,
          236.59872890018747,
          236.69710935650218,
          237.97605528859364,
          238.566338026482,
          238.8614793954262,
          239.15662076437036,
          239.45176213331456,
          239.7469035022587,
          239.9436644148882,
          241.4193712596091,
          243.09183901695945,
          247.42057909480744,
          266.89990944512346,
          274.77034595030165,
          279.09908602814966,
          279.7877492223527,
          280.3780319602411,
          284.1164893002007,
          285.10029386334804,
          285.10029386334804,
          286.0840984264953,
          286.28085933912473,
          287.36304435858676,
          287.4614248149014,
          288.44522937804874,
          288.64199029067817,
          289.429033941196,
          289.75368944703456,
          291.3966430674905,
          304.48124375734926,
          330.8472060496962,
          360.06620157517017,
          376.98764006130324,
          393.7123176348069,
          394.4993612853247,
          394.5977417416394,
          399.6151450136905,
          399.9102863826347,
          400.4021886642083,
          401.18923231472615,
          401.976275965244,
          403.5110110837537,
          403.8455046352238,
          404.7309287420563,
          405.2228310236299,
          405.99019858288483,
          408.17424471307174,
          410.3386147519958,
          458.7417992588416,
          500.65187364891534,
          517.8684535039926
         ],
         "yaxis": "y"
        }
       ],
       "layout": {
        "height": 400,
        "legend": {
         "tracegroupgap": 0
        },
        "margin": {
         "b": 10,
         "l": 10,
         "r": 10,
         "t": 20
        },
        "template": {
         "data": {
          "bar": [
           {
            "error_x": {
             "color": "#2a3f5f"
            },
            "error_y": {
             "color": "#2a3f5f"
            },
            "marker": {
             "line": {
              "color": "#E5ECF6",
              "width": 0.5
             }
            },
            "type": "bar"
           }
          ],
          "barpolar": [
           {
            "marker": {
             "line": {
              "color": "#E5ECF6",
              "width": 0.5
             }
            },
            "type": "barpolar"
           }
          ],
          "carpet": [
           {
            "aaxis": {
             "endlinecolor": "#2a3f5f",
             "gridcolor": "white",
             "linecolor": "white",
             "minorgridcolor": "white",
             "startlinecolor": "#2a3f5f"
            },
            "baxis": {
             "endlinecolor": "#2a3f5f",
             "gridcolor": "white",
             "linecolor": "white",
             "minorgridcolor": "white",
             "startlinecolor": "#2a3f5f"
            },
            "type": "carpet"
           }
          ],
          "choropleth": [
           {
            "colorbar": {
             "outlinewidth": 0,
             "ticks": ""
            },
            "type": "choropleth"
           }
          ],
          "contour": [
           {
            "colorbar": {
             "outlinewidth": 0,
             "ticks": ""
            },
            "colorscale": [
             [
              0,
              "#0d0887"
             ],
             [
              0.1111111111111111,
              "#46039f"
             ],
             [
              0.2222222222222222,
              "#7201a8"
             ],
             [
              0.3333333333333333,
              "#9c179e"
             ],
             [
              0.4444444444444444,
              "#bd3786"
             ],
             [
              0.5555555555555556,
              "#d8576b"
             ],
             [
              0.6666666666666666,
              "#ed7953"
             ],
             [
              0.7777777777777778,
              "#fb9f3a"
             ],
             [
              0.8888888888888888,
              "#fdca26"
             ],
             [
              1,
              "#f0f921"
             ]
            ],
            "type": "contour"
           }
          ],
          "contourcarpet": [
           {
            "colorbar": {
             "outlinewidth": 0,
             "ticks": ""
            },
            "type": "contourcarpet"
           }
          ],
          "heatmap": [
           {
            "colorbar": {
             "outlinewidth": 0,
             "ticks": ""
            },
            "colorscale": [
             [
              0,
              "#0d0887"
             ],
             [
              0.1111111111111111,
              "#46039f"
             ],
             [
              0.2222222222222222,
              "#7201a8"
             ],
             [
              0.3333333333333333,
              "#9c179e"
             ],
             [
              0.4444444444444444,
              "#bd3786"
             ],
             [
              0.5555555555555556,
              "#d8576b"
             ],
             [
              0.6666666666666666,
              "#ed7953"
             ],
             [
              0.7777777777777778,
              "#fb9f3a"
             ],
             [
              0.8888888888888888,
              "#fdca26"
             ],
             [
              1,
              "#f0f921"
             ]
            ],
            "type": "heatmap"
           }
          ],
          "heatmapgl": [
           {
            "colorbar": {
             "outlinewidth": 0,
             "ticks": ""
            },
            "colorscale": [
             [
              0,
              "#0d0887"
             ],
             [
              0.1111111111111111,
              "#46039f"
             ],
             [
              0.2222222222222222,
              "#7201a8"
             ],
             [
              0.3333333333333333,
              "#9c179e"
             ],
             [
              0.4444444444444444,
              "#bd3786"
             ],
             [
              0.5555555555555556,
              "#d8576b"
             ],
             [
              0.6666666666666666,
              "#ed7953"
             ],
             [
              0.7777777777777778,
              "#fb9f3a"
             ],
             [
              0.8888888888888888,
              "#fdca26"
             ],
             [
              1,
              "#f0f921"
             ]
            ],
            "type": "heatmapgl"
           }
          ],
          "histogram": [
           {
            "marker": {
             "colorbar": {
              "outlinewidth": 0,
              "ticks": ""
             }
            },
            "type": "histogram"
           }
          ],
          "histogram2d": [
           {
            "colorbar": {
             "outlinewidth": 0,
             "ticks": ""
            },
            "colorscale": [
             [
              0,
              "#0d0887"
             ],
             [
              0.1111111111111111,
              "#46039f"
             ],
             [
              0.2222222222222222,
              "#7201a8"
             ],
             [
              0.3333333333333333,
              "#9c179e"
             ],
             [
              0.4444444444444444,
              "#bd3786"
             ],
             [
              0.5555555555555556,
              "#d8576b"
             ],
             [
              0.6666666666666666,
              "#ed7953"
             ],
             [
              0.7777777777777778,
              "#fb9f3a"
             ],
             [
              0.8888888888888888,
              "#fdca26"
             ],
             [
              1,
              "#f0f921"
             ]
            ],
            "type": "histogram2d"
           }
          ],
          "histogram2dcontour": [
           {
            "colorbar": {
             "outlinewidth": 0,
             "ticks": ""
            },
            "colorscale": [
             [
              0,
              "#0d0887"
             ],
             [
              0.1111111111111111,
              "#46039f"
             ],
             [
              0.2222222222222222,
              "#7201a8"
             ],
             [
              0.3333333333333333,
              "#9c179e"
             ],
             [
              0.4444444444444444,
              "#bd3786"
             ],
             [
              0.5555555555555556,
              "#d8576b"
             ],
             [
              0.6666666666666666,
              "#ed7953"
             ],
             [
              0.7777777777777778,
              "#fb9f3a"
             ],
             [
              0.8888888888888888,
              "#fdca26"
             ],
             [
              1,
              "#f0f921"
             ]
            ],
            "type": "histogram2dcontour"
           }
          ],
          "mesh3d": [
           {
            "colorbar": {
             "outlinewidth": 0,
             "ticks": ""
            },
            "type": "mesh3d"
           }
          ],
          "parcoords": [
           {
            "line": {
             "colorbar": {
              "outlinewidth": 0,
              "ticks": ""
             }
            },
            "type": "parcoords"
           }
          ],
          "pie": [
           {
            "automargin": true,
            "type": "pie"
           }
          ],
          "scatter": [
           {
            "marker": {
             "colorbar": {
              "outlinewidth": 0,
              "ticks": ""
             }
            },
            "type": "scatter"
           }
          ],
          "scatter3d": [
           {
            "line": {
             "colorbar": {
              "outlinewidth": 0,
              "ticks": ""
             }
            },
            "marker": {
             "colorbar": {
              "outlinewidth": 0,
              "ticks": ""
             }
            },
            "type": "scatter3d"
           }
          ],
          "scattercarpet": [
           {
            "marker": {
             "colorbar": {
              "outlinewidth": 0,
              "ticks": ""
             }
            },
            "type": "scattercarpet"
           }
          ],
          "scattergeo": [
           {
            "marker": {
             "colorbar": {
              "outlinewidth": 0,
              "ticks": ""
             }
            },
            "type": "scattergeo"
           }
          ],
          "scattergl": [
           {
            "marker": {
             "colorbar": {
              "outlinewidth": 0,
              "ticks": ""
             }
            },
            "type": "scattergl"
           }
          ],
          "scattermapbox": [
           {
            "marker": {
             "colorbar": {
              "outlinewidth": 0,
              "ticks": ""
             }
            },
            "type": "scattermapbox"
           }
          ],
          "scatterpolar": [
           {
            "marker": {
             "colorbar": {
              "outlinewidth": 0,
              "ticks": ""
             }
            },
            "type": "scatterpolar"
           }
          ],
          "scatterpolargl": [
           {
            "marker": {
             "colorbar": {
              "outlinewidth": 0,
              "ticks": ""
             }
            },
            "type": "scatterpolargl"
           }
          ],
          "scatterternary": [
           {
            "marker": {
             "colorbar": {
              "outlinewidth": 0,
              "ticks": ""
             }
            },
            "type": "scatterternary"
           }
          ],
          "surface": [
           {
            "colorbar": {
             "outlinewidth": 0,
             "ticks": ""
            },
            "colorscale": [
             [
              0,
              "#0d0887"
             ],
             [
              0.1111111111111111,
              "#46039f"
             ],
             [
              0.2222222222222222,
              "#7201a8"
             ],
             [
              0.3333333333333333,
              "#9c179e"
             ],
             [
              0.4444444444444444,
              "#bd3786"
             ],
             [
              0.5555555555555556,
              "#d8576b"
             ],
             [
              0.6666666666666666,
              "#ed7953"
             ],
             [
              0.7777777777777778,
              "#fb9f3a"
             ],
             [
              0.8888888888888888,
              "#fdca26"
             ],
             [
              1,
              "#f0f921"
             ]
            ],
            "type": "surface"
           }
          ],
          "table": [
           {
            "cells": {
             "fill": {
              "color": "#EBF0F8"
             },
             "line": {
              "color": "white"
             }
            },
            "header": {
             "fill": {
              "color": "#C8D4E3"
             },
             "line": {
              "color": "white"
             }
            },
            "type": "table"
           }
          ]
         },
         "layout": {
          "annotationdefaults": {
           "arrowcolor": "#2a3f5f",
           "arrowhead": 0,
           "arrowwidth": 1
          },
          "autotypenumbers": "strict",
          "coloraxis": {
           "colorbar": {
            "outlinewidth": 0,
            "ticks": ""
           }
          },
          "colorscale": {
           "diverging": [
            [
             0,
             "#8e0152"
            ],
            [
             0.1,
             "#c51b7d"
            ],
            [
             0.2,
             "#de77ae"
            ],
            [
             0.3,
             "#f1b6da"
            ],
            [
             0.4,
             "#fde0ef"
            ],
            [
             0.5,
             "#f7f7f7"
            ],
            [
             0.6,
             "#e6f5d0"
            ],
            [
             0.7,
             "#b8e186"
            ],
            [
             0.8,
             "#7fbc41"
            ],
            [
             0.9,
             "#4d9221"
            ],
            [
             1,
             "#276419"
            ]
           ],
           "sequential": [
            [
             0,
             "#0d0887"
            ],
            [
             0.1111111111111111,
             "#46039f"
            ],
            [
             0.2222222222222222,
             "#7201a8"
            ],
            [
             0.3333333333333333,
             "#9c179e"
            ],
            [
             0.4444444444444444,
             "#bd3786"
            ],
            [
             0.5555555555555556,
             "#d8576b"
            ],
            [
             0.6666666666666666,
             "#ed7953"
            ],
            [
             0.7777777777777778,
             "#fb9f3a"
            ],
            [
             0.8888888888888888,
             "#fdca26"
            ],
            [
             1,
             "#f0f921"
            ]
           ],
           "sequentialminus": [
            [
             0,
             "#0d0887"
            ],
            [
             0.1111111111111111,
             "#46039f"
            ],
            [
             0.2222222222222222,
             "#7201a8"
            ],
            [
             0.3333333333333333,
             "#9c179e"
            ],
            [
             0.4444444444444444,
             "#bd3786"
            ],
            [
             0.5555555555555556,
             "#d8576b"
            ],
            [
             0.6666666666666666,
             "#ed7953"
            ],
            [
             0.7777777777777778,
             "#fb9f3a"
            ],
            [
             0.8888888888888888,
             "#fdca26"
            ],
            [
             1,
             "#f0f921"
            ]
           ]
          },
          "colorway": [
           "#636efa",
           "#EF553B",
           "#00cc96",
           "#ab63fa",
           "#FFA15A",
           "#19d3f3",
           "#FF6692",
           "#B6E880",
           "#FF97FF",
           "#FECB52"
          ],
          "font": {
           "color": "#2a3f5f"
          },
          "geo": {
           "bgcolor": "white",
           "lakecolor": "white",
           "landcolor": "#E5ECF6",
           "showlakes": true,
           "showland": true,
           "subunitcolor": "white"
          },
          "hoverlabel": {
           "align": "left"
          },
          "hovermode": "closest",
          "mapbox": {
           "style": "light"
          },
          "paper_bgcolor": "white",
          "plot_bgcolor": "#E5ECF6",
          "polar": {
           "angularaxis": {
            "gridcolor": "white",
            "linecolor": "white",
            "ticks": ""
           },
           "bgcolor": "#E5ECF6",
           "radialaxis": {
            "gridcolor": "white",
            "linecolor": "white",
            "ticks": ""
           }
          },
          "scene": {
           "xaxis": {
            "backgroundcolor": "#E5ECF6",
            "gridcolor": "white",
            "gridwidth": 2,
            "linecolor": "white",
            "showbackground": true,
            "ticks": "",
            "zerolinecolor": "white"
           },
           "yaxis": {
            "backgroundcolor": "#E5ECF6",
            "gridcolor": "white",
            "gridwidth": 2,
            "linecolor": "white",
            "showbackground": true,
            "ticks": "",
            "zerolinecolor": "white"
           },
           "zaxis": {
            "backgroundcolor": "#E5ECF6",
            "gridcolor": "white",
            "gridwidth": 2,
            "linecolor": "white",
            "showbackground": true,
            "ticks": "",
            "zerolinecolor": "white"
           }
          },
          "shapedefaults": {
           "line": {
            "color": "#2a3f5f"
           }
          },
          "ternary": {
           "aaxis": {
            "gridcolor": "white",
            "linecolor": "white",
            "ticks": ""
           },
           "baxis": {
            "gridcolor": "white",
            "linecolor": "white",
            "ticks": ""
           },
           "bgcolor": "#E5ECF6",
           "caxis": {
            "gridcolor": "white",
            "linecolor": "white",
            "ticks": ""
           }
          },
          "title": {
           "x": 0.05
          },
          "xaxis": {
           "automargin": true,
           "gridcolor": "white",
           "linecolor": "white",
           "ticks": "",
           "title": {
            "standoff": 15
           },
           "zerolinecolor": "white",
           "zerolinewidth": 2
          },
          "yaxis": {
           "automargin": true,
           "gridcolor": "white",
           "linecolor": "white",
           "ticks": "",
           "title": {
            "standoff": 15
           },
           "zerolinecolor": "white",
           "zerolinewidth": 2
          }
         }
        },
        "width": 500,
        "xaxis": {
         "anchor": "y",
         "domain": [
          0,
          1
         ],
         "title": {
          "text": "True_Value"
         }
        },
        "yaxis": {
         "anchor": "x",
         "domain": [
          0,
          1
         ],
         "title": {
          "text": "Predict_Value"
         }
        }
       }
      }
     },
     "metadata": {}
    },
    {
     "output_type": "stream",
     "name": "stdout",
     "text": [
      "Residual sum of squares (MSE): 294.90\n",
      "R2-score: 0.98\n",
      "Coefficent shape: (1, 6)\n"
     ]
    }
   ],
   "metadata": {}
  },
  {
   "cell_type": "markdown",
   "source": [
    "<h2 style=\"color:cyan\">Polynomial Regression Model - Side Stress - 4 inputs</h2>"
   ],
   "metadata": {}
  },
  {
   "cell_type": "code",
   "execution_count": 270,
   "source": [
    "# D2, tm, tv, ts\r\n",
    "polyEstimate(df_stress[['D2','tm','tv','ts']], ym_train_stress.Sm)"
   ],
   "outputs": [
    {
     "output_type": "display_data",
     "data": {
      "application/vnd.plotly.v1+json": {
       "config": {
        "plotlyServerURL": "https://plot.ly"
       },
       "data": [
        {
         "hovertemplate": "True_Value=%{x}<br>Predict_Value=%{y}<extra></extra>",
         "legendgroup": "",
         "marker": {
          "color": "#636efa",
          "symbol": "circle"
         },
         "mode": "markers",
         "name": "",
         "orientation": "v",
         "showlegend": false,
         "type": "scatter",
         "x": [
          53.9,
          54.5,
          55,
          53.9,
          53.9,
          53.9,
          52.1,
          51.3,
          53.5,
          53.3,
          51.8,
          46.1,
          51.9,
          56.1,
          48.8,
          38.9,
          52.4,
          55.1,
          56.8,
          52.3,
          51.3,
          55.7,
          50.3,
          237,
          240.2,
          236.3,
          239.3,
          241.9,
          239.9,
          233.5,
          238.4,
          239.6,
          235.4,
          221.9,
          153.1,
          130.4,
          237.1,
          240.4,
          243.6,
          239,
          275.8,
          211,
          98.07,
          103,
          99.7,
          100.4,
          96.3,
          102.5,
          80.6,
          95.2,
          98.8,
          95.78,
          123.4,
          88.3,
          72,
          96.2,
          98.2,
          100.4,
          98.6,
          98.3,
          403,
          408.4,
          403.5,
          407,
          411.4,
          407.9,
          397.5,
          405.1,
          413.6,
          404.3,
          402.7,
          505.4,
          379.7,
          248,
          397.6,
          406.66,
          409.18,
          396.7,
          462.8,
          522.9,
          285.3,
          289.9,
          288.7,
          286.3,
          291.03,
          288.6,
          281.5,
          287.3,
          292.7,
          287.5,
          286.3,
          362.5,
          267.8,
          170.9,
          280.9,
          289.7,
          290.7,
          280.2,
          306,
          332.8
         ],
         "xaxis": "x",
         "y": [
          53.559502022349314,
          53.559502022349314,
          53.559502022349314,
          53.559502022349314,
          53.559502022349314,
          53.559502022349314,
          53.559502022349314,
          53.559502022349314,
          53.559502022349314,
          53.559502022349314,
          53.559502022349314,
          53.559502022349314,
          53.559502022349314,
          52.47986575764999,
          51.13452788430618,
          42.597224856340354,
          53.18829856045744,
          53.56821434946663,
          52.2369267761552,
          48.462604400546695,
          37.60879848465271,
          53.559502022349314,
          53.559502022349314,
          232.4218993920788,
          232.4218993920788,
          232.4218993920788,
          232.4218993920788,
          232.4218993920788,
          232.4218993920788,
          232.4218993920788,
          232.4218993920788,
          232.4218993920788,
          232.4218993920788,
          274.1520921047219,
          184.57937778951313,
          130.62452729702494,
          228.54514820438249,
          236.47547447973963,
          243.23391242751546,
          224.9018740004026,
          236.12608156866045,
          227.55054171258652,
          99.16883732058967,
          99.16883732058967,
          99.16883732058967,
          99.16883732058967,
          99.16883732058967,
          99.16883732058967,
          99.16883732058967,
          99.16883732058967,
          99.16883732058967,
          99.16883732058967,
          104.32576496970131,
          84.27073535492468,
          74.5295610383711,
          97.55846688620284,
          100.60735769289349,
          102.13568620995505,
          102.95631116674329,
          105.00639312120268,
          412.7551113276087,
          412.7551113276087,
          412.7551113276087,
          412.7551113276087,
          412.7551113276087,
          412.7551113276087,
          412.7551113276087,
          412.7551113276087,
          412.7551113276087,
          412.7551113276087,
          412.7551113276087,
          475.2172266356264,
          344.18066712966856,
          269.493894041806,
          412.8632956941291,
          410.84864399102685,
          407.1438936843838,
          377.5919469625709,
          448.3552230888382,
          503.57154240206046,
          292.71093805786995,
          292.71093805786995,
          292.71093805786995,
          292.71093805786995,
          292.71093805786995,
          292.71093805786995,
          292.71093805786995,
          292.71093805786995,
          292.71093805786995,
          292.71093805786995,
          292.71093805786995,
          349.1611174382231,
          230.1484297875942,
          161.47359262739602,
          290.25105188395,
          293.37254126172854,
          292.2358614955258,
          268.9593752108316,
          315.14381729833076,
          344.02567157001533
         ],
         "yaxis": "y"
        },
        {
         "hovertemplate": "<b>OLS trendline</b><br>Predict_Value = 0.992034 * True_Value + 1.69065<br>R<sup>2</sup>=0.992034<br><br>True_Value=%{x}<br>Predict_Value=%{y} <b>(trend)</b><extra></extra>",
         "legendgroup": "",
         "marker": {
          "color": "#636efa",
          "symbol": "circle"
         },
         "mode": "lines",
         "name": "",
         "showlegend": false,
         "type": "scatter",
         "x": [
          38.9,
          46.1,
          48.8,
          50.3,
          51.3,
          51.3,
          51.8,
          51.9,
          52.1,
          52.3,
          52.4,
          53.3,
          53.5,
          53.9,
          53.9,
          53.9,
          53.9,
          54.5,
          55,
          55.1,
          55.7,
          56.1,
          56.8,
          72,
          80.6,
          88.3,
          95.2,
          95.78,
          96.2,
          96.3,
          98.07,
          98.2,
          98.3,
          98.6,
          98.8,
          99.7,
          100.4,
          100.4,
          102.5,
          103,
          123.4,
          130.4,
          153.1,
          170.9,
          211,
          221.9,
          233.5,
          235.4,
          236.3,
          237,
          237.1,
          238.4,
          239,
          239.3,
          239.6,
          239.9,
          240.2,
          240.4,
          241.9,
          243.6,
          248,
          267.8,
          275.8,
          280.2,
          280.9,
          281.5,
          285.3,
          286.3,
          286.3,
          287.3,
          287.5,
          288.6,
          288.7,
          289.7,
          289.9,
          290.7,
          291.03,
          292.7,
          306,
          332.8,
          362.5,
          379.7,
          396.7,
          397.5,
          397.6,
          402.7,
          403,
          403.5,
          404.3,
          405.1,
          406.66,
          407,
          407.9,
          408.4,
          409.18,
          411.4,
          413.6,
          462.8,
          505.4,
          522.9
         ],
         "xaxis": "x",
         "y": [
          40.28076002682795,
          47.42340202632277,
          50.10189277613332,
          51.58994319269474,
          52.581976803735685,
          52.581976803735685,
          53.07799360925616,
          53.17719697036026,
          53.37560369256845,
          53.57401041477663,
          53.67321377588073,
          54.56604402581758,
          54.76445074802577,
          55.16126419244215,
          55.16126419244215,
          55.16126419244215,
          55.16126419244215,
          55.75648435906672,
          56.252501164587194,
          56.35170452569129,
          56.94692469231586,
          57.343738136732235,
          58.038161664460894,
          73.11707255228329,
          81.64856160723542,
          89.28722041225072,
          96.13225232843325,
          96.707631822837,
          97.1242859394742,
          97.2234893005783,
          98.97938879212077,
          99.1083531615561,
          99.20755652266018,
          99.50516660597248,
          99.70357332818067,
          100.59640357811752,
          101.29082710584619,
          101.29082710584619,
          103.37409768903217,
          103.87011449455264,
          124.10760015978796,
          131.0518354370746,
          153.57099840770408,
          171.22919668423293,
          211.0097444869749,
          221.82291084732122,
          233.3305007353962,
          235.21536459637403,
          236.10819484631088,
          236.80261837403953,
          236.9018217351436,
          238.19146542949684,
          238.78668559612143,
          239.08429567943372,
          239.381905762746,
          239.67951584605828,
          239.97712592937054,
          240.17553265157875,
          241.66358306814018,
          243.35004020690977,
          247.71498809548996,
          267.3572535941007,
          275.2935224824283,
          279.65847037100843,
          280.3528938987371,
          280.94811406536166,
          284.7178417873173,
          285.70987539835824,
          285.70987539835824,
          286.7019090093992,
          286.90031573160735,
          287.9915527037524,
          288.09075606485646,
          289.0827896758974,
          289.2811963981056,
          290.07482328693834,
          290.40219437858184,
          292.0588905090203,
          305.2529375358649,
          331.83943831176225,
          361.3028365596784,
          378.3658146695826,
          395.23038605727874,
          396.0240129461115,
          396.1232163072156,
          401.1825877235244,
          401.4801978068367,
          401.9762146123572,
          402.76984150118994,
          403.5634683900227,
          405.1110408232466,
          405.4483322510005,
          406.34116250093734,
          406.8371793064578,
          407.61096552306975,
          409.8132801395806,
          411.9957540838708,
          460.80380774708533,
          503.06443957742965,
          520.4250277706462
         ],
         "yaxis": "y"
        }
       ],
       "layout": {
        "height": 400,
        "legend": {
         "tracegroupgap": 0
        },
        "margin": {
         "b": 10,
         "l": 10,
         "r": 10,
         "t": 20
        },
        "template": {
         "data": {
          "bar": [
           {
            "error_x": {
             "color": "#2a3f5f"
            },
            "error_y": {
             "color": "#2a3f5f"
            },
            "marker": {
             "line": {
              "color": "#E5ECF6",
              "width": 0.5
             }
            },
            "type": "bar"
           }
          ],
          "barpolar": [
           {
            "marker": {
             "line": {
              "color": "#E5ECF6",
              "width": 0.5
             }
            },
            "type": "barpolar"
           }
          ],
          "carpet": [
           {
            "aaxis": {
             "endlinecolor": "#2a3f5f",
             "gridcolor": "white",
             "linecolor": "white",
             "minorgridcolor": "white",
             "startlinecolor": "#2a3f5f"
            },
            "baxis": {
             "endlinecolor": "#2a3f5f",
             "gridcolor": "white",
             "linecolor": "white",
             "minorgridcolor": "white",
             "startlinecolor": "#2a3f5f"
            },
            "type": "carpet"
           }
          ],
          "choropleth": [
           {
            "colorbar": {
             "outlinewidth": 0,
             "ticks": ""
            },
            "type": "choropleth"
           }
          ],
          "contour": [
           {
            "colorbar": {
             "outlinewidth": 0,
             "ticks": ""
            },
            "colorscale": [
             [
              0,
              "#0d0887"
             ],
             [
              0.1111111111111111,
              "#46039f"
             ],
             [
              0.2222222222222222,
              "#7201a8"
             ],
             [
              0.3333333333333333,
              "#9c179e"
             ],
             [
              0.4444444444444444,
              "#bd3786"
             ],
             [
              0.5555555555555556,
              "#d8576b"
             ],
             [
              0.6666666666666666,
              "#ed7953"
             ],
             [
              0.7777777777777778,
              "#fb9f3a"
             ],
             [
              0.8888888888888888,
              "#fdca26"
             ],
             [
              1,
              "#f0f921"
             ]
            ],
            "type": "contour"
           }
          ],
          "contourcarpet": [
           {
            "colorbar": {
             "outlinewidth": 0,
             "ticks": ""
            },
            "type": "contourcarpet"
           }
          ],
          "heatmap": [
           {
            "colorbar": {
             "outlinewidth": 0,
             "ticks": ""
            },
            "colorscale": [
             [
              0,
              "#0d0887"
             ],
             [
              0.1111111111111111,
              "#46039f"
             ],
             [
              0.2222222222222222,
              "#7201a8"
             ],
             [
              0.3333333333333333,
              "#9c179e"
             ],
             [
              0.4444444444444444,
              "#bd3786"
             ],
             [
              0.5555555555555556,
              "#d8576b"
             ],
             [
              0.6666666666666666,
              "#ed7953"
             ],
             [
              0.7777777777777778,
              "#fb9f3a"
             ],
             [
              0.8888888888888888,
              "#fdca26"
             ],
             [
              1,
              "#f0f921"
             ]
            ],
            "type": "heatmap"
           }
          ],
          "heatmapgl": [
           {
            "colorbar": {
             "outlinewidth": 0,
             "ticks": ""
            },
            "colorscale": [
             [
              0,
              "#0d0887"
             ],
             [
              0.1111111111111111,
              "#46039f"
             ],
             [
              0.2222222222222222,
              "#7201a8"
             ],
             [
              0.3333333333333333,
              "#9c179e"
             ],
             [
              0.4444444444444444,
              "#bd3786"
             ],
             [
              0.5555555555555556,
              "#d8576b"
             ],
             [
              0.6666666666666666,
              "#ed7953"
             ],
             [
              0.7777777777777778,
              "#fb9f3a"
             ],
             [
              0.8888888888888888,
              "#fdca26"
             ],
             [
              1,
              "#f0f921"
             ]
            ],
            "type": "heatmapgl"
           }
          ],
          "histogram": [
           {
            "marker": {
             "colorbar": {
              "outlinewidth": 0,
              "ticks": ""
             }
            },
            "type": "histogram"
           }
          ],
          "histogram2d": [
           {
            "colorbar": {
             "outlinewidth": 0,
             "ticks": ""
            },
            "colorscale": [
             [
              0,
              "#0d0887"
             ],
             [
              0.1111111111111111,
              "#46039f"
             ],
             [
              0.2222222222222222,
              "#7201a8"
             ],
             [
              0.3333333333333333,
              "#9c179e"
             ],
             [
              0.4444444444444444,
              "#bd3786"
             ],
             [
              0.5555555555555556,
              "#d8576b"
             ],
             [
              0.6666666666666666,
              "#ed7953"
             ],
             [
              0.7777777777777778,
              "#fb9f3a"
             ],
             [
              0.8888888888888888,
              "#fdca26"
             ],
             [
              1,
              "#f0f921"
             ]
            ],
            "type": "histogram2d"
           }
          ],
          "histogram2dcontour": [
           {
            "colorbar": {
             "outlinewidth": 0,
             "ticks": ""
            },
            "colorscale": [
             [
              0,
              "#0d0887"
             ],
             [
              0.1111111111111111,
              "#46039f"
             ],
             [
              0.2222222222222222,
              "#7201a8"
             ],
             [
              0.3333333333333333,
              "#9c179e"
             ],
             [
              0.4444444444444444,
              "#bd3786"
             ],
             [
              0.5555555555555556,
              "#d8576b"
             ],
             [
              0.6666666666666666,
              "#ed7953"
             ],
             [
              0.7777777777777778,
              "#fb9f3a"
             ],
             [
              0.8888888888888888,
              "#fdca26"
             ],
             [
              1,
              "#f0f921"
             ]
            ],
            "type": "histogram2dcontour"
           }
          ],
          "mesh3d": [
           {
            "colorbar": {
             "outlinewidth": 0,
             "ticks": ""
            },
            "type": "mesh3d"
           }
          ],
          "parcoords": [
           {
            "line": {
             "colorbar": {
              "outlinewidth": 0,
              "ticks": ""
             }
            },
            "type": "parcoords"
           }
          ],
          "pie": [
           {
            "automargin": true,
            "type": "pie"
           }
          ],
          "scatter": [
           {
            "marker": {
             "colorbar": {
              "outlinewidth": 0,
              "ticks": ""
             }
            },
            "type": "scatter"
           }
          ],
          "scatter3d": [
           {
            "line": {
             "colorbar": {
              "outlinewidth": 0,
              "ticks": ""
             }
            },
            "marker": {
             "colorbar": {
              "outlinewidth": 0,
              "ticks": ""
             }
            },
            "type": "scatter3d"
           }
          ],
          "scattercarpet": [
           {
            "marker": {
             "colorbar": {
              "outlinewidth": 0,
              "ticks": ""
             }
            },
            "type": "scattercarpet"
           }
          ],
          "scattergeo": [
           {
            "marker": {
             "colorbar": {
              "outlinewidth": 0,
              "ticks": ""
             }
            },
            "type": "scattergeo"
           }
          ],
          "scattergl": [
           {
            "marker": {
             "colorbar": {
              "outlinewidth": 0,
              "ticks": ""
             }
            },
            "type": "scattergl"
           }
          ],
          "scattermapbox": [
           {
            "marker": {
             "colorbar": {
              "outlinewidth": 0,
              "ticks": ""
             }
            },
            "type": "scattermapbox"
           }
          ],
          "scatterpolar": [
           {
            "marker": {
             "colorbar": {
              "outlinewidth": 0,
              "ticks": ""
             }
            },
            "type": "scatterpolar"
           }
          ],
          "scatterpolargl": [
           {
            "marker": {
             "colorbar": {
              "outlinewidth": 0,
              "ticks": ""
             }
            },
            "type": "scatterpolargl"
           }
          ],
          "scatterternary": [
           {
            "marker": {
             "colorbar": {
              "outlinewidth": 0,
              "ticks": ""
             }
            },
            "type": "scatterternary"
           }
          ],
          "surface": [
           {
            "colorbar": {
             "outlinewidth": 0,
             "ticks": ""
            },
            "colorscale": [
             [
              0,
              "#0d0887"
             ],
             [
              0.1111111111111111,
              "#46039f"
             ],
             [
              0.2222222222222222,
              "#7201a8"
             ],
             [
              0.3333333333333333,
              "#9c179e"
             ],
             [
              0.4444444444444444,
              "#bd3786"
             ],
             [
              0.5555555555555556,
              "#d8576b"
             ],
             [
              0.6666666666666666,
              "#ed7953"
             ],
             [
              0.7777777777777778,
              "#fb9f3a"
             ],
             [
              0.8888888888888888,
              "#fdca26"
             ],
             [
              1,
              "#f0f921"
             ]
            ],
            "type": "surface"
           }
          ],
          "table": [
           {
            "cells": {
             "fill": {
              "color": "#EBF0F8"
             },
             "line": {
              "color": "white"
             }
            },
            "header": {
             "fill": {
              "color": "#C8D4E3"
             },
             "line": {
              "color": "white"
             }
            },
            "type": "table"
           }
          ]
         },
         "layout": {
          "annotationdefaults": {
           "arrowcolor": "#2a3f5f",
           "arrowhead": 0,
           "arrowwidth": 1
          },
          "autotypenumbers": "strict",
          "coloraxis": {
           "colorbar": {
            "outlinewidth": 0,
            "ticks": ""
           }
          },
          "colorscale": {
           "diverging": [
            [
             0,
             "#8e0152"
            ],
            [
             0.1,
             "#c51b7d"
            ],
            [
             0.2,
             "#de77ae"
            ],
            [
             0.3,
             "#f1b6da"
            ],
            [
             0.4,
             "#fde0ef"
            ],
            [
             0.5,
             "#f7f7f7"
            ],
            [
             0.6,
             "#e6f5d0"
            ],
            [
             0.7,
             "#b8e186"
            ],
            [
             0.8,
             "#7fbc41"
            ],
            [
             0.9,
             "#4d9221"
            ],
            [
             1,
             "#276419"
            ]
           ],
           "sequential": [
            [
             0,
             "#0d0887"
            ],
            [
             0.1111111111111111,
             "#46039f"
            ],
            [
             0.2222222222222222,
             "#7201a8"
            ],
            [
             0.3333333333333333,
             "#9c179e"
            ],
            [
             0.4444444444444444,
             "#bd3786"
            ],
            [
             0.5555555555555556,
             "#d8576b"
            ],
            [
             0.6666666666666666,
             "#ed7953"
            ],
            [
             0.7777777777777778,
             "#fb9f3a"
            ],
            [
             0.8888888888888888,
             "#fdca26"
            ],
            [
             1,
             "#f0f921"
            ]
           ],
           "sequentialminus": [
            [
             0,
             "#0d0887"
            ],
            [
             0.1111111111111111,
             "#46039f"
            ],
            [
             0.2222222222222222,
             "#7201a8"
            ],
            [
             0.3333333333333333,
             "#9c179e"
            ],
            [
             0.4444444444444444,
             "#bd3786"
            ],
            [
             0.5555555555555556,
             "#d8576b"
            ],
            [
             0.6666666666666666,
             "#ed7953"
            ],
            [
             0.7777777777777778,
             "#fb9f3a"
            ],
            [
             0.8888888888888888,
             "#fdca26"
            ],
            [
             1,
             "#f0f921"
            ]
           ]
          },
          "colorway": [
           "#636efa",
           "#EF553B",
           "#00cc96",
           "#ab63fa",
           "#FFA15A",
           "#19d3f3",
           "#FF6692",
           "#B6E880",
           "#FF97FF",
           "#FECB52"
          ],
          "font": {
           "color": "#2a3f5f"
          },
          "geo": {
           "bgcolor": "white",
           "lakecolor": "white",
           "landcolor": "#E5ECF6",
           "showlakes": true,
           "showland": true,
           "subunitcolor": "white"
          },
          "hoverlabel": {
           "align": "left"
          },
          "hovermode": "closest",
          "mapbox": {
           "style": "light"
          },
          "paper_bgcolor": "white",
          "plot_bgcolor": "#E5ECF6",
          "polar": {
           "angularaxis": {
            "gridcolor": "white",
            "linecolor": "white",
            "ticks": ""
           },
           "bgcolor": "#E5ECF6",
           "radialaxis": {
            "gridcolor": "white",
            "linecolor": "white",
            "ticks": ""
           }
          },
          "scene": {
           "xaxis": {
            "backgroundcolor": "#E5ECF6",
            "gridcolor": "white",
            "gridwidth": 2,
            "linecolor": "white",
            "showbackground": true,
            "ticks": "",
            "zerolinecolor": "white"
           },
           "yaxis": {
            "backgroundcolor": "#E5ECF6",
            "gridcolor": "white",
            "gridwidth": 2,
            "linecolor": "white",
            "showbackground": true,
            "ticks": "",
            "zerolinecolor": "white"
           },
           "zaxis": {
            "backgroundcolor": "#E5ECF6",
            "gridcolor": "white",
            "gridwidth": 2,
            "linecolor": "white",
            "showbackground": true,
            "ticks": "",
            "zerolinecolor": "white"
           }
          },
          "shapedefaults": {
           "line": {
            "color": "#2a3f5f"
           }
          },
          "ternary": {
           "aaxis": {
            "gridcolor": "white",
            "linecolor": "white",
            "ticks": ""
           },
           "baxis": {
            "gridcolor": "white",
            "linecolor": "white",
            "ticks": ""
           },
           "bgcolor": "#E5ECF6",
           "caxis": {
            "gridcolor": "white",
            "linecolor": "white",
            "ticks": ""
           }
          },
          "title": {
           "x": 0.05
          },
          "xaxis": {
           "automargin": true,
           "gridcolor": "white",
           "linecolor": "white",
           "ticks": "",
           "title": {
            "standoff": 15
           },
           "zerolinecolor": "white",
           "zerolinewidth": 2
          },
          "yaxis": {
           "automargin": true,
           "gridcolor": "white",
           "linecolor": "white",
           "ticks": "",
           "title": {
            "standoff": 15
           },
           "zerolinecolor": "white",
           "zerolinewidth": 2
          }
         }
        },
        "width": 500,
        "xaxis": {
         "anchor": "y",
         "domain": [
          0,
          1
         ],
         "title": {
          "text": "True_Value"
         }
        },
        "yaxis": {
         "anchor": "x",
         "domain": [
          0,
          1
         ],
         "title": {
          "text": "Predict_Value"
         }
        }
       }
      }
     },
     "metadata": {}
    },
    {
     "output_type": "stream",
     "name": "stdout",
     "text": [
      "Residual sum of squares (MSE): 145.06\n",
      "R2-score: 0.99\n",
      "Coefficent shape: (1, 15)\n"
     ]
    }
   ],
   "metadata": {}
  },
  {
   "cell_type": "markdown",
   "source": [
    "<h2 style=\"color:cyan\">Polynomial Regression Model - All inputs - Main Stress</h2>"
   ],
   "metadata": {}
  },
  {
   "cell_type": "code",
   "execution_count": 271,
   "source": [
    "# All parameters\r\n",
    "polyEstimate(x_train_stress, ym_train_stress.Sm)"
   ],
   "outputs": [
    {
     "output_type": "display_data",
     "data": {
      "application/vnd.plotly.v1+json": {
       "config": {
        "plotlyServerURL": "https://plot.ly"
       },
       "data": [
        {
         "hovertemplate": "True_Value=%{x}<br>Predict_Value=%{y}<extra></extra>",
         "legendgroup": "",
         "marker": {
          "color": "#636efa",
          "symbol": "circle"
         },
         "mode": "markers",
         "name": "",
         "orientation": "v",
         "showlegend": false,
         "type": "scatter",
         "x": [
          53.9,
          54.5,
          55,
          53.9,
          53.9,
          53.9,
          52.1,
          51.3,
          53.5,
          53.3,
          51.8,
          46.1,
          51.9,
          56.1,
          48.8,
          38.9,
          52.4,
          55.1,
          56.8,
          52.3,
          51.3,
          55.7,
          50.3,
          237,
          240.2,
          236.3,
          239.3,
          241.9,
          239.9,
          233.5,
          238.4,
          239.6,
          235.4,
          221.9,
          153.1,
          130.4,
          237.1,
          240.4,
          243.6,
          239,
          275.8,
          211,
          98.07,
          103,
          99.7,
          100.4,
          96.3,
          102.5,
          80.6,
          95.2,
          98.8,
          95.78,
          123.4,
          88.3,
          72,
          96.2,
          98.2,
          100.4,
          98.6,
          98.3,
          403,
          408.4,
          403.5,
          407,
          411.4,
          407.9,
          397.5,
          405.1,
          413.6,
          404.3,
          402.7,
          505.4,
          379.7,
          248,
          397.6,
          406.66,
          409.18,
          396.7,
          462.8,
          522.9,
          285.3,
          289.9,
          288.7,
          286.3,
          291.03,
          288.6,
          281.5,
          287.3,
          292.7,
          287.5,
          286.3,
          362.5,
          267.8,
          170.9,
          280.9,
          289.7,
          290.7,
          280.2,
          306,
          332.8
         ],
         "xaxis": "x",
         "y": [
          54.20031962198844,
          54.20031962198844,
          54.20031962198844,
          54.20031962198844,
          54.20031962198844,
          54.20031962198844,
          50.86668012731363,
          50.066680127331324,
          54.733319872683325,
          58.66231223269777,
          55.1909252492037,
          43.78615867150614,
          51.89999999997889,
          50.55763937623331,
          51.79586235729212,
          36.47164808432049,
          47.42833889352083,
          58.989611339556205,
          58.84648413217248,
          53.58658840316568,
          48.71583340113594,
          55.70000000000357,
          50.30000000000038,
          233.90792538072202,
          243.3641179531105,
          233.13588204690382,
          236.13588204690166,
          233.19764907781246,
          237.51947702636903,
          222.36299414087125,
          238.40000000001055,
          239.60000000001435,
          235.40000000001322,
          264.80418399797554,
          190.09190975519311,
          133.35613712138854,
          226.47452475730734,
          239.46039390015147,
          240.84362029649168,
          230.02127444141854,
          234.22991902268393,
          221.49410903472892,
          103.60356772206586,
          103.49890383932917,
          99.20109616068183,
          99.9010961606864,
          96.30000000000535,
          102.49999999999932,
          81.33436994959759,
          96.43565863293345,
          102.8380972169949,
          95.78000000000429,
          108.56902533021878,
          83.98283474955387,
          69.32755938519443,
          100.66326987917182,
          103.97168687935654,
          94.98621455141848,
          103.39013955057729,
          99.46647999226133,
          419.83756882720184,
          405.15423680427637,
          406.74576319572657,
          410.24576319572486,
          414.97166614693674,
          421.3713072841707,
          410.3704507760292,
          404.94350080435913,
          413.75649919562284,
          404.30000000000155,
          402.6999999999988,
          482.8450199164338,
          343.9103607296943,
          255.06339562391156,
          405.58650744003353,
          421.12634935767767,
          409.45284903146114,
          383.4717928916925,
          457.63547592632494,
          519.8514928526916,
          298.05201464817617,
          288.24942153062864,
          290.35057846938787,
          287.95057846939017,
          289.46011518533714,
          297.7227547138584,
          290.4478949882906,
          287.4564991956544,
          292.54350080434403,
          287.5000000000109,
          286.30000000001644,
          341.29499169808287,
          241.88928058999386,
          172.80678952353617,
          285.0842818615132,
          298.05746657814655,
          285.1006376514248,
          280.83742521347517,
          313.7523988617512,
          331.77337001702165
         ],
         "yaxis": "y"
        },
        {
         "hovertemplate": "<b>OLS trendline</b><br>Predict_Value = 0.994126 * True_Value + 1.2465<br>R<sup>2</sup>=0.994126<br><br>True_Value=%{x}<br>Predict_Value=%{y} <b>(trend)</b><extra></extra>",
         "legendgroup": "",
         "marker": {
          "color": "#636efa",
          "symbol": "circle"
         },
         "mode": "lines",
         "name": "",
         "showlegend": false,
         "type": "scatter",
         "x": [
          38.9,
          46.1,
          48.8,
          50.3,
          51.3,
          51.3,
          51.8,
          51.9,
          52.1,
          52.3,
          52.4,
          53.3,
          53.5,
          53.9,
          53.9,
          53.9,
          53.9,
          54.5,
          55,
          55.1,
          55.7,
          56.1,
          56.8,
          72,
          80.6,
          88.3,
          95.2,
          95.78,
          96.2,
          96.3,
          98.07,
          98.2,
          98.3,
          98.6,
          98.8,
          99.7,
          100.4,
          100.4,
          102.5,
          103,
          123.4,
          130.4,
          153.1,
          170.9,
          211,
          221.9,
          233.5,
          235.4,
          236.3,
          237,
          237.1,
          238.4,
          239,
          239.3,
          239.6,
          239.9,
          240.2,
          240.4,
          241.9,
          243.6,
          248,
          267.8,
          275.8,
          280.2,
          280.9,
          281.5,
          285.3,
          286.3,
          286.3,
          287.3,
          287.5,
          288.6,
          288.7,
          289.7,
          289.9,
          290.7,
          291.03,
          292.7,
          306,
          332.8,
          362.5,
          379.7,
          396.7,
          397.5,
          397.6,
          402.7,
          403,
          403.5,
          404.3,
          405.1,
          406.66,
          407,
          407.9,
          408.4,
          409.18,
          411.4,
          413.6,
          462.8,
          505.4,
          522.9
         ],
         "xaxis": "x",
         "y": [
          39.918017216431736,
          47.075727875141624,
          49.75986937215782,
          51.251059092722386,
          52.24518557309875,
          52.24518557309875,
          52.742248813286935,
          52.84166146132458,
          53.04048675739986,
          53.23931205347513,
          53.33872470151276,
          54.2334385338515,
          54.43226382992677,
          54.82991442207732,
          54.82991442207732,
          54.82991442207732,
          54.82991442207732,
          55.42639031030315,
          55.92345355049133,
          56.02286619852897,
          56.6193420867548,
          57.01699267890534,
          57.71288121516881,
          72.82360371688966,
          81.37309144812646,
          89.02786534702453,
          95.8873380616215,
          96.46393142023979,
          96.88146454199787,
          96.9808771900355,
          98.74048106030168,
          98.86971750275062,
          98.96913015078825,
          99.26736809490116,
          99.46619339097643,
          100.36090722331518,
          101.05679575957863,
          101.05679575957863,
          103.14446136836901,
          103.6415246085572,
          123.9217048082352,
          130.88059017086982,
          153.44726127541347,
          171.1427126261129,
          211.00718448920543,
          221.84316312530788,
          233.3750302976738,
          235.26387061038892,
          236.15858444272766,
          236.8544729789911,
          236.95388562702874,
          238.24625005151802,
          238.84272593974384,
          239.14096388385678,
          239.43920182796967,
          239.73743977208258,
          240.0356777161955,
          240.23450301227078,
          241.72569273283534,
          243.41570774947516,
          247.7898642631312,
          267.47356857458334,
          275.4265804175943,
          279.80073693125036,
          280.4966254675138,
          281.09310135573963,
          284.87078198116984,
          285.86490846154624,
          285.86490846154624,
          286.85903494192263,
          287.0578602379979,
          288.1513993664119,
          288.25081201444954,
          289.2449384948259,
          289.44376379090113,
          290.23906497520227,
          290.56712671372645,
          292.227317935955,
          305.4492001249608,
          332.09178979904755,
          361.6173462662258,
          378.71632172869937,
          395.61647189509773,
          396.4117730793988,
          396.5111857274365,
          401.5812307773559,
          401.87946872146887,
          402.37653196165707,
          403.17183314595815,
          403.9671343302593,
          405.5179716396464,
          405.8559746429744,
          406.7506884753131,
          407.24775171550124,
          408.02317037019486,
          410.23013115663036,
          412.41720941345847,
          461.32823224797596,
          503.6780203120094,
          521.075233718596
         ],
         "yaxis": "y"
        }
       ],
       "layout": {
        "height": 400,
        "legend": {
         "tracegroupgap": 0
        },
        "margin": {
         "b": 10,
         "l": 10,
         "r": 10,
         "t": 20
        },
        "template": {
         "data": {
          "bar": [
           {
            "error_x": {
             "color": "#2a3f5f"
            },
            "error_y": {
             "color": "#2a3f5f"
            },
            "marker": {
             "line": {
              "color": "#E5ECF6",
              "width": 0.5
             }
            },
            "type": "bar"
           }
          ],
          "barpolar": [
           {
            "marker": {
             "line": {
              "color": "#E5ECF6",
              "width": 0.5
             }
            },
            "type": "barpolar"
           }
          ],
          "carpet": [
           {
            "aaxis": {
             "endlinecolor": "#2a3f5f",
             "gridcolor": "white",
             "linecolor": "white",
             "minorgridcolor": "white",
             "startlinecolor": "#2a3f5f"
            },
            "baxis": {
             "endlinecolor": "#2a3f5f",
             "gridcolor": "white",
             "linecolor": "white",
             "minorgridcolor": "white",
             "startlinecolor": "#2a3f5f"
            },
            "type": "carpet"
           }
          ],
          "choropleth": [
           {
            "colorbar": {
             "outlinewidth": 0,
             "ticks": ""
            },
            "type": "choropleth"
           }
          ],
          "contour": [
           {
            "colorbar": {
             "outlinewidth": 0,
             "ticks": ""
            },
            "colorscale": [
             [
              0,
              "#0d0887"
             ],
             [
              0.1111111111111111,
              "#46039f"
             ],
             [
              0.2222222222222222,
              "#7201a8"
             ],
             [
              0.3333333333333333,
              "#9c179e"
             ],
             [
              0.4444444444444444,
              "#bd3786"
             ],
             [
              0.5555555555555556,
              "#d8576b"
             ],
             [
              0.6666666666666666,
              "#ed7953"
             ],
             [
              0.7777777777777778,
              "#fb9f3a"
             ],
             [
              0.8888888888888888,
              "#fdca26"
             ],
             [
              1,
              "#f0f921"
             ]
            ],
            "type": "contour"
           }
          ],
          "contourcarpet": [
           {
            "colorbar": {
             "outlinewidth": 0,
             "ticks": ""
            },
            "type": "contourcarpet"
           }
          ],
          "heatmap": [
           {
            "colorbar": {
             "outlinewidth": 0,
             "ticks": ""
            },
            "colorscale": [
             [
              0,
              "#0d0887"
             ],
             [
              0.1111111111111111,
              "#46039f"
             ],
             [
              0.2222222222222222,
              "#7201a8"
             ],
             [
              0.3333333333333333,
              "#9c179e"
             ],
             [
              0.4444444444444444,
              "#bd3786"
             ],
             [
              0.5555555555555556,
              "#d8576b"
             ],
             [
              0.6666666666666666,
              "#ed7953"
             ],
             [
              0.7777777777777778,
              "#fb9f3a"
             ],
             [
              0.8888888888888888,
              "#fdca26"
             ],
             [
              1,
              "#f0f921"
             ]
            ],
            "type": "heatmap"
           }
          ],
          "heatmapgl": [
           {
            "colorbar": {
             "outlinewidth": 0,
             "ticks": ""
            },
            "colorscale": [
             [
              0,
              "#0d0887"
             ],
             [
              0.1111111111111111,
              "#46039f"
             ],
             [
              0.2222222222222222,
              "#7201a8"
             ],
             [
              0.3333333333333333,
              "#9c179e"
             ],
             [
              0.4444444444444444,
              "#bd3786"
             ],
             [
              0.5555555555555556,
              "#d8576b"
             ],
             [
              0.6666666666666666,
              "#ed7953"
             ],
             [
              0.7777777777777778,
              "#fb9f3a"
             ],
             [
              0.8888888888888888,
              "#fdca26"
             ],
             [
              1,
              "#f0f921"
             ]
            ],
            "type": "heatmapgl"
           }
          ],
          "histogram": [
           {
            "marker": {
             "colorbar": {
              "outlinewidth": 0,
              "ticks": ""
             }
            },
            "type": "histogram"
           }
          ],
          "histogram2d": [
           {
            "colorbar": {
             "outlinewidth": 0,
             "ticks": ""
            },
            "colorscale": [
             [
              0,
              "#0d0887"
             ],
             [
              0.1111111111111111,
              "#46039f"
             ],
             [
              0.2222222222222222,
              "#7201a8"
             ],
             [
              0.3333333333333333,
              "#9c179e"
             ],
             [
              0.4444444444444444,
              "#bd3786"
             ],
             [
              0.5555555555555556,
              "#d8576b"
             ],
             [
              0.6666666666666666,
              "#ed7953"
             ],
             [
              0.7777777777777778,
              "#fb9f3a"
             ],
             [
              0.8888888888888888,
              "#fdca26"
             ],
             [
              1,
              "#f0f921"
             ]
            ],
            "type": "histogram2d"
           }
          ],
          "histogram2dcontour": [
           {
            "colorbar": {
             "outlinewidth": 0,
             "ticks": ""
            },
            "colorscale": [
             [
              0,
              "#0d0887"
             ],
             [
              0.1111111111111111,
              "#46039f"
             ],
             [
              0.2222222222222222,
              "#7201a8"
             ],
             [
              0.3333333333333333,
              "#9c179e"
             ],
             [
              0.4444444444444444,
              "#bd3786"
             ],
             [
              0.5555555555555556,
              "#d8576b"
             ],
             [
              0.6666666666666666,
              "#ed7953"
             ],
             [
              0.7777777777777778,
              "#fb9f3a"
             ],
             [
              0.8888888888888888,
              "#fdca26"
             ],
             [
              1,
              "#f0f921"
             ]
            ],
            "type": "histogram2dcontour"
           }
          ],
          "mesh3d": [
           {
            "colorbar": {
             "outlinewidth": 0,
             "ticks": ""
            },
            "type": "mesh3d"
           }
          ],
          "parcoords": [
           {
            "line": {
             "colorbar": {
              "outlinewidth": 0,
              "ticks": ""
             }
            },
            "type": "parcoords"
           }
          ],
          "pie": [
           {
            "automargin": true,
            "type": "pie"
           }
          ],
          "scatter": [
           {
            "marker": {
             "colorbar": {
              "outlinewidth": 0,
              "ticks": ""
             }
            },
            "type": "scatter"
           }
          ],
          "scatter3d": [
           {
            "line": {
             "colorbar": {
              "outlinewidth": 0,
              "ticks": ""
             }
            },
            "marker": {
             "colorbar": {
              "outlinewidth": 0,
              "ticks": ""
             }
            },
            "type": "scatter3d"
           }
          ],
          "scattercarpet": [
           {
            "marker": {
             "colorbar": {
              "outlinewidth": 0,
              "ticks": ""
             }
            },
            "type": "scattercarpet"
           }
          ],
          "scattergeo": [
           {
            "marker": {
             "colorbar": {
              "outlinewidth": 0,
              "ticks": ""
             }
            },
            "type": "scattergeo"
           }
          ],
          "scattergl": [
           {
            "marker": {
             "colorbar": {
              "outlinewidth": 0,
              "ticks": ""
             }
            },
            "type": "scattergl"
           }
          ],
          "scattermapbox": [
           {
            "marker": {
             "colorbar": {
              "outlinewidth": 0,
              "ticks": ""
             }
            },
            "type": "scattermapbox"
           }
          ],
          "scatterpolar": [
           {
            "marker": {
             "colorbar": {
              "outlinewidth": 0,
              "ticks": ""
             }
            },
            "type": "scatterpolar"
           }
          ],
          "scatterpolargl": [
           {
            "marker": {
             "colorbar": {
              "outlinewidth": 0,
              "ticks": ""
             }
            },
            "type": "scatterpolargl"
           }
          ],
          "scatterternary": [
           {
            "marker": {
             "colorbar": {
              "outlinewidth": 0,
              "ticks": ""
             }
            },
            "type": "scatterternary"
           }
          ],
          "surface": [
           {
            "colorbar": {
             "outlinewidth": 0,
             "ticks": ""
            },
            "colorscale": [
             [
              0,
              "#0d0887"
             ],
             [
              0.1111111111111111,
              "#46039f"
             ],
             [
              0.2222222222222222,
              "#7201a8"
             ],
             [
              0.3333333333333333,
              "#9c179e"
             ],
             [
              0.4444444444444444,
              "#bd3786"
             ],
             [
              0.5555555555555556,
              "#d8576b"
             ],
             [
              0.6666666666666666,
              "#ed7953"
             ],
             [
              0.7777777777777778,
              "#fb9f3a"
             ],
             [
              0.8888888888888888,
              "#fdca26"
             ],
             [
              1,
              "#f0f921"
             ]
            ],
            "type": "surface"
           }
          ],
          "table": [
           {
            "cells": {
             "fill": {
              "color": "#EBF0F8"
             },
             "line": {
              "color": "white"
             }
            },
            "header": {
             "fill": {
              "color": "#C8D4E3"
             },
             "line": {
              "color": "white"
             }
            },
            "type": "table"
           }
          ]
         },
         "layout": {
          "annotationdefaults": {
           "arrowcolor": "#2a3f5f",
           "arrowhead": 0,
           "arrowwidth": 1
          },
          "autotypenumbers": "strict",
          "coloraxis": {
           "colorbar": {
            "outlinewidth": 0,
            "ticks": ""
           }
          },
          "colorscale": {
           "diverging": [
            [
             0,
             "#8e0152"
            ],
            [
             0.1,
             "#c51b7d"
            ],
            [
             0.2,
             "#de77ae"
            ],
            [
             0.3,
             "#f1b6da"
            ],
            [
             0.4,
             "#fde0ef"
            ],
            [
             0.5,
             "#f7f7f7"
            ],
            [
             0.6,
             "#e6f5d0"
            ],
            [
             0.7,
             "#b8e186"
            ],
            [
             0.8,
             "#7fbc41"
            ],
            [
             0.9,
             "#4d9221"
            ],
            [
             1,
             "#276419"
            ]
           ],
           "sequential": [
            [
             0,
             "#0d0887"
            ],
            [
             0.1111111111111111,
             "#46039f"
            ],
            [
             0.2222222222222222,
             "#7201a8"
            ],
            [
             0.3333333333333333,
             "#9c179e"
            ],
            [
             0.4444444444444444,
             "#bd3786"
            ],
            [
             0.5555555555555556,
             "#d8576b"
            ],
            [
             0.6666666666666666,
             "#ed7953"
            ],
            [
             0.7777777777777778,
             "#fb9f3a"
            ],
            [
             0.8888888888888888,
             "#fdca26"
            ],
            [
             1,
             "#f0f921"
            ]
           ],
           "sequentialminus": [
            [
             0,
             "#0d0887"
            ],
            [
             0.1111111111111111,
             "#46039f"
            ],
            [
             0.2222222222222222,
             "#7201a8"
            ],
            [
             0.3333333333333333,
             "#9c179e"
            ],
            [
             0.4444444444444444,
             "#bd3786"
            ],
            [
             0.5555555555555556,
             "#d8576b"
            ],
            [
             0.6666666666666666,
             "#ed7953"
            ],
            [
             0.7777777777777778,
             "#fb9f3a"
            ],
            [
             0.8888888888888888,
             "#fdca26"
            ],
            [
             1,
             "#f0f921"
            ]
           ]
          },
          "colorway": [
           "#636efa",
           "#EF553B",
           "#00cc96",
           "#ab63fa",
           "#FFA15A",
           "#19d3f3",
           "#FF6692",
           "#B6E880",
           "#FF97FF",
           "#FECB52"
          ],
          "font": {
           "color": "#2a3f5f"
          },
          "geo": {
           "bgcolor": "white",
           "lakecolor": "white",
           "landcolor": "#E5ECF6",
           "showlakes": true,
           "showland": true,
           "subunitcolor": "white"
          },
          "hoverlabel": {
           "align": "left"
          },
          "hovermode": "closest",
          "mapbox": {
           "style": "light"
          },
          "paper_bgcolor": "white",
          "plot_bgcolor": "#E5ECF6",
          "polar": {
           "angularaxis": {
            "gridcolor": "white",
            "linecolor": "white",
            "ticks": ""
           },
           "bgcolor": "#E5ECF6",
           "radialaxis": {
            "gridcolor": "white",
            "linecolor": "white",
            "ticks": ""
           }
          },
          "scene": {
           "xaxis": {
            "backgroundcolor": "#E5ECF6",
            "gridcolor": "white",
            "gridwidth": 2,
            "linecolor": "white",
            "showbackground": true,
            "ticks": "",
            "zerolinecolor": "white"
           },
           "yaxis": {
            "backgroundcolor": "#E5ECF6",
            "gridcolor": "white",
            "gridwidth": 2,
            "linecolor": "white",
            "showbackground": true,
            "ticks": "",
            "zerolinecolor": "white"
           },
           "zaxis": {
            "backgroundcolor": "#E5ECF6",
            "gridcolor": "white",
            "gridwidth": 2,
            "linecolor": "white",
            "showbackground": true,
            "ticks": "",
            "zerolinecolor": "white"
           }
          },
          "shapedefaults": {
           "line": {
            "color": "#2a3f5f"
           }
          },
          "ternary": {
           "aaxis": {
            "gridcolor": "white",
            "linecolor": "white",
            "ticks": ""
           },
           "baxis": {
            "gridcolor": "white",
            "linecolor": "white",
            "ticks": ""
           },
           "bgcolor": "#E5ECF6",
           "caxis": {
            "gridcolor": "white",
            "linecolor": "white",
            "ticks": ""
           }
          },
          "title": {
           "x": 0.05
          },
          "xaxis": {
           "automargin": true,
           "gridcolor": "white",
           "linecolor": "white",
           "ticks": "",
           "title": {
            "standoff": 15
           },
           "zerolinecolor": "white",
           "zerolinewidth": 2
          },
          "yaxis": {
           "automargin": true,
           "gridcolor": "white",
           "linecolor": "white",
           "ticks": "",
           "title": {
            "standoff": 15
           },
           "zerolinecolor": "white",
           "zerolinewidth": 2
          }
         }
        },
        "width": 500,
        "xaxis": {
         "anchor": "y",
         "domain": [
          0,
          1
         ],
         "title": {
          "text": "True_Value"
         }
        },
        "yaxis": {
         "anchor": "x",
         "domain": [
          0,
          1
         ],
         "title": {
          "text": "Predict_Value"
         }
        }
       }
      }
     },
     "metadata": {}
    },
    {
     "output_type": "stream",
     "name": "stdout",
     "text": [
      "Residual sum of squares (MSE): 106.95\n",
      "R2-score: 0.99\n",
      "Coefficent shape: (1, 78)\n"
     ]
    }
   ],
   "metadata": {}
  },
  {
   "cell_type": "code",
   "execution_count": 178,
   "source": [
    "df_coef.to_clipboard()"
   ],
   "outputs": [],
   "metadata": {}
  },
  {
   "cell_type": "markdown",
   "source": [
    "<h2 style=\"color:cyan\">Polynomial Regression Model - All inputs - Side stress</h2>"
   ],
   "metadata": {}
  },
  {
   "cell_type": "code",
   "execution_count": 272,
   "source": [
    "# All parameters\r\n",
    "polyEstimate(x_train_stress, ym_train_stress.Ss)"
   ],
   "outputs": [
    {
     "output_type": "display_data",
     "data": {
      "application/vnd.plotly.v1+json": {
       "config": {
        "plotlyServerURL": "https://plot.ly"
       },
       "data": [
        {
         "hovertemplate": "True_Value=%{x}<br>Predict_Value=%{y}<extra></extra>",
         "legendgroup": "",
         "marker": {
          "color": "#636efa",
          "symbol": "circle"
         },
         "mode": "markers",
         "name": "",
         "orientation": "v",
         "showlegend": false,
         "type": "scatter",
         "x": [
          72.9,
          73.6,
          74.3,
          72.9,
          72.9,
          72.9,
          75.9,
          60.6,
          63.9,
          72.6,
          73.4,
          74,
          73.4,
          73.3,
          71,
          69.3,
          92.6,
          66.1,
          58.4,
          83.8,
          94.1,
          69.9,
          71.1,
          432,
          329.6,
          432.3,
          333.9,
          454.7,
          447,
          435.3,
          436.1,
          328.9,
          472.5,
          411.4,
          461.2,
          481.7,
          688.4,
          316.7,
          272.7,
          357.6,
          545.8,
          721.5,
          167.3,
          120.3,
          115.3,
          170.5,
          143.3,
          135.4,
          165.5,
          163.1,
          169.1,
          168.5,
          144.9,
          159.3,
          152.5,
          210.6,
          129.1,
          106.9,
          156.7,
          189.5,
          484.4,
          429.3,
          498.2,
          460,
          486.9,
          479.3,
          487.2,
          487.7,
          490.2,
          456.9,
          481.1,
          473.7,
          518.8,
          478.5,
          773.1,
          421.41,
          399.88,
          411.4,
          513.2,
          723.3,
          375.6,
          318.7,
          347.9,
          387.5,
          369.2,
          369.7,
          380.1,
          377.05,
          370.7,
          354.7,
          348.4,
          381.9,
          369.9,
          364.7,
          465.8,
          321.03,
          312.1,
          336.3,
          416.1,
          473
         ],
         "xaxis": "x",
         "y": [
          69.79410319940058,
          69.79410319940058,
          69.79410319940058,
          69.79410319940058,
          69.79410319940058,
          69.79410319940058,
          79.44587747251347,
          64.1458774725038,
          60.35412252749643,
          73.46953038120927,
          76.09403238920459,
          77.66760922338653,
          73.40000000001248,
          62.94646820014765,
          74.36759410009233,
          66.77871287036515,
          109.67559546289627,
          48.83682500476192,
          87.47171660447418,
          79.75098203667716,
          88.73043705785653,
          69.89999999999466,
          71.1000000000036,
          458.8304027945662,
          317.7086893291107,
          444.19131067089916,
          345.7913106708986,
          448.18719596989695,
          454.03426196913824,
          462.57561844618044,
          436.1000000000048,
          328.89999999999577,
          472.50000000000273,
          428.7177695739301,
          476.7806638847835,
          482.56855284458175,
          571.0201788567631,
          354.4404894475804,
          226.21011074259764,
          377.96633892939883,
          549.6258405402352,
          723.1512653295312,
          160.38011260269303,
          117.52545272639986,
          118.07454727360732,
          173.274547273606,
          143.30000000000769,
          135.40000000000282,
          160.30014294118416,
          160.8655903588455,
          158.84370967272724,
          168.50000000000705,
          156.4050975391051,
          159.20836363205444,
          154.06159959782815,
          223.47048070662163,
          112.64336228447803,
          97.71930963703699,
          173.80327043969743,
          194.02441331416037,
          496.09425783964207,
          435.7540709807415,
          491.7459290192528,
          453.5459290192525,
          496.3404709996844,
          496.74282700656977,
          494.3947634989006,
          488.11649373817113,
          489.7835062618417,
          456.89999999999236,
          481.1000000000031,
          479.68095129638596,
          500.34519225247936,
          492.43375453489716,
          707.5756465266695,
          392.01213313793323,
          395.3292724215437,
          430.70301759340805,
          569.0364375634647,
          706.8553463090677,
          367.983477473108,
          330.4576644362503,
          336.1423355637419,
          375.74233556373656,
          361.045665585837,
          365.04003411637905,
          369.87599565602363,
          376.6335062618243,
          371.11649373818113,
          354.69999999998754,
          348.3999999999935,
          357.46049414965455,
          366.34408866614285,
          352.54232772875866,
          540.5429498560868,
          302.8232690754485,
          345.06232466310826,
          331.30160951855737,
          407.799458398835,
          479.365969548247
         ],
         "yaxis": "y"
        },
        {
         "hovertemplate": "<b>OLS trendline</b><br>Predict_Value = 0.98717 * True_Value + 3.87528<br>R<sup>2</sup>=0.987170<br><br>True_Value=%{x}<br>Predict_Value=%{y} <b>(trend)</b><extra></extra>",
         "legendgroup": "",
         "marker": {
          "color": "#636efa",
          "symbol": "circle"
         },
         "mode": "lines",
         "name": "",
         "showlegend": false,
         "type": "scatter",
         "x": [
          58.4,
          60.6,
          63.9,
          66.1,
          69.3,
          69.9,
          71,
          71.1,
          72.6,
          72.9,
          72.9,
          72.9,
          72.9,
          73.3,
          73.4,
          73.4,
          73.6,
          74,
          74.3,
          75.9,
          83.8,
          92.6,
          94.1,
          106.9,
          115.3,
          120.3,
          129.1,
          135.4,
          143.3,
          144.9,
          152.5,
          156.7,
          159.3,
          163.1,
          165.5,
          167.3,
          168.5,
          169.1,
          170.5,
          189.5,
          210.6,
          272.7,
          312.1,
          316.7,
          318.7,
          321.03,
          328.9,
          329.6,
          333.9,
          336.3,
          347.9,
          348.4,
          354.7,
          357.6,
          364.7,
          369.2,
          369.7,
          369.9,
          370.7,
          375.6,
          377.05,
          380.1,
          381.9,
          387.5,
          399.88,
          411.4,
          411.4,
          416.1,
          421.41,
          429.3,
          432,
          432.3,
          435.3,
          436.1,
          447,
          454.7,
          456.9,
          460,
          461.2,
          465.8,
          472.5,
          473,
          473.7,
          478.5,
          479.3,
          481.1,
          481.7,
          484.4,
          486.9,
          487.2,
          487.7,
          490.2,
          498.2,
          513.2,
          518.8,
          545.8,
          688.4,
          721.5,
          723.3,
          773.1
         ],
         "xaxis": "x",
         "y": [
          61.5260052646857,
          63.697779332914635,
          66.95544043525804,
          69.12721450348697,
          72.28615860272905,
          72.87846062133694,
          73.9643476554514,
          74.06306465855272,
          75.54381970507244,
          75.8399707143764,
          75.8399707143764,
          75.8399707143764,
          75.8399707143764,
          76.23483872678165,
          76.33355572988297,
          76.33355572988297,
          76.5309897360856,
          76.92585774849086,
          77.2220087577948,
          78.80148080741586,
          86.60012405241973,
          95.28722032533545,
          96.76797537185519,
          109.40375176882353,
          117.69598002933398,
          122.63183018439973,
          131.31892645731546,
          137.5380976526983,
          145.33674089770219,
          146.91621294732323,
          154.41870518302318,
          158.56481931327838,
          161.13146139391262,
          164.88270751176256,
          167.25191558619412,
          169.02882164201782,
          170.21342567923358,
          170.80572769784146,
          172.18776574125988,
          190.94399633050975,
          211.7732839848872,
          273.0765429108039,
          311.971042132722,
          316.5120242753825,
          318.48636433740876,
          320.7864705096694,
          328.5554986537429,
          329.24651767545214,
          333.49134880880865,
          335.86055688324024,
          347.3117292429928,
          347.8053142584993,
          354.0244854538822,
          356.8872785438204,
          363.8961857640137,
          368.3384509035729,
          368.8320359190795,
          369.02946992528206,
          369.8192059500926,
          374.6563391020571,
          376.08773564702614,
          379.0986042416163,
          380.8755102974399,
          386.40366247111353,
          398.62482745505633,
          409.99702621232785,
          409.99702621232785,
          414.6367253580897,
          419.87859822276954,
          427.66736976746324,
          430.33272885119874,
          430.6288798605027,
          433.59038995354217,
          434.3801259783527,
          445.140279316396,
          452.7414885551973,
          454.9132626234262,
          457.973489719567,
          459.15809375678276,
          463.69907589944324,
          470.31311510723134,
          470.80670012273794,
          471.4977191444471,
          476.23613529331027,
          477.0258713181208,
          478.8027773739445,
          479.3950793925523,
          482.0604384762878,
          484.5283635538207,
          484.82451456312464,
          485.31809957863123,
          487.7860246561641,
          495.6833849042693,
          510.4909353694666,
          516.0190875431401,
          542.6726783804952,
          683.4431248029706,
          716.1184528295058,
          717.8953588853295,
          767.0564264297844
         ],
         "yaxis": "y"
        }
       ],
       "layout": {
        "height": 400,
        "legend": {
         "tracegroupgap": 0
        },
        "margin": {
         "b": 10,
         "l": 10,
         "r": 10,
         "t": 20
        },
        "template": {
         "data": {
          "bar": [
           {
            "error_x": {
             "color": "#2a3f5f"
            },
            "error_y": {
             "color": "#2a3f5f"
            },
            "marker": {
             "line": {
              "color": "#E5ECF6",
              "width": 0.5
             }
            },
            "type": "bar"
           }
          ],
          "barpolar": [
           {
            "marker": {
             "line": {
              "color": "#E5ECF6",
              "width": 0.5
             }
            },
            "type": "barpolar"
           }
          ],
          "carpet": [
           {
            "aaxis": {
             "endlinecolor": "#2a3f5f",
             "gridcolor": "white",
             "linecolor": "white",
             "minorgridcolor": "white",
             "startlinecolor": "#2a3f5f"
            },
            "baxis": {
             "endlinecolor": "#2a3f5f",
             "gridcolor": "white",
             "linecolor": "white",
             "minorgridcolor": "white",
             "startlinecolor": "#2a3f5f"
            },
            "type": "carpet"
           }
          ],
          "choropleth": [
           {
            "colorbar": {
             "outlinewidth": 0,
             "ticks": ""
            },
            "type": "choropleth"
           }
          ],
          "contour": [
           {
            "colorbar": {
             "outlinewidth": 0,
             "ticks": ""
            },
            "colorscale": [
             [
              0,
              "#0d0887"
             ],
             [
              0.1111111111111111,
              "#46039f"
             ],
             [
              0.2222222222222222,
              "#7201a8"
             ],
             [
              0.3333333333333333,
              "#9c179e"
             ],
             [
              0.4444444444444444,
              "#bd3786"
             ],
             [
              0.5555555555555556,
              "#d8576b"
             ],
             [
              0.6666666666666666,
              "#ed7953"
             ],
             [
              0.7777777777777778,
              "#fb9f3a"
             ],
             [
              0.8888888888888888,
              "#fdca26"
             ],
             [
              1,
              "#f0f921"
             ]
            ],
            "type": "contour"
           }
          ],
          "contourcarpet": [
           {
            "colorbar": {
             "outlinewidth": 0,
             "ticks": ""
            },
            "type": "contourcarpet"
           }
          ],
          "heatmap": [
           {
            "colorbar": {
             "outlinewidth": 0,
             "ticks": ""
            },
            "colorscale": [
             [
              0,
              "#0d0887"
             ],
             [
              0.1111111111111111,
              "#46039f"
             ],
             [
              0.2222222222222222,
              "#7201a8"
             ],
             [
              0.3333333333333333,
              "#9c179e"
             ],
             [
              0.4444444444444444,
              "#bd3786"
             ],
             [
              0.5555555555555556,
              "#d8576b"
             ],
             [
              0.6666666666666666,
              "#ed7953"
             ],
             [
              0.7777777777777778,
              "#fb9f3a"
             ],
             [
              0.8888888888888888,
              "#fdca26"
             ],
             [
              1,
              "#f0f921"
             ]
            ],
            "type": "heatmap"
           }
          ],
          "heatmapgl": [
           {
            "colorbar": {
             "outlinewidth": 0,
             "ticks": ""
            },
            "colorscale": [
             [
              0,
              "#0d0887"
             ],
             [
              0.1111111111111111,
              "#46039f"
             ],
             [
              0.2222222222222222,
              "#7201a8"
             ],
             [
              0.3333333333333333,
              "#9c179e"
             ],
             [
              0.4444444444444444,
              "#bd3786"
             ],
             [
              0.5555555555555556,
              "#d8576b"
             ],
             [
              0.6666666666666666,
              "#ed7953"
             ],
             [
              0.7777777777777778,
              "#fb9f3a"
             ],
             [
              0.8888888888888888,
              "#fdca26"
             ],
             [
              1,
              "#f0f921"
             ]
            ],
            "type": "heatmapgl"
           }
          ],
          "histogram": [
           {
            "marker": {
             "colorbar": {
              "outlinewidth": 0,
              "ticks": ""
             }
            },
            "type": "histogram"
           }
          ],
          "histogram2d": [
           {
            "colorbar": {
             "outlinewidth": 0,
             "ticks": ""
            },
            "colorscale": [
             [
              0,
              "#0d0887"
             ],
             [
              0.1111111111111111,
              "#46039f"
             ],
             [
              0.2222222222222222,
              "#7201a8"
             ],
             [
              0.3333333333333333,
              "#9c179e"
             ],
             [
              0.4444444444444444,
              "#bd3786"
             ],
             [
              0.5555555555555556,
              "#d8576b"
             ],
             [
              0.6666666666666666,
              "#ed7953"
             ],
             [
              0.7777777777777778,
              "#fb9f3a"
             ],
             [
              0.8888888888888888,
              "#fdca26"
             ],
             [
              1,
              "#f0f921"
             ]
            ],
            "type": "histogram2d"
           }
          ],
          "histogram2dcontour": [
           {
            "colorbar": {
             "outlinewidth": 0,
             "ticks": ""
            },
            "colorscale": [
             [
              0,
              "#0d0887"
             ],
             [
              0.1111111111111111,
              "#46039f"
             ],
             [
              0.2222222222222222,
              "#7201a8"
             ],
             [
              0.3333333333333333,
              "#9c179e"
             ],
             [
              0.4444444444444444,
              "#bd3786"
             ],
             [
              0.5555555555555556,
              "#d8576b"
             ],
             [
              0.6666666666666666,
              "#ed7953"
             ],
             [
              0.7777777777777778,
              "#fb9f3a"
             ],
             [
              0.8888888888888888,
              "#fdca26"
             ],
             [
              1,
              "#f0f921"
             ]
            ],
            "type": "histogram2dcontour"
           }
          ],
          "mesh3d": [
           {
            "colorbar": {
             "outlinewidth": 0,
             "ticks": ""
            },
            "type": "mesh3d"
           }
          ],
          "parcoords": [
           {
            "line": {
             "colorbar": {
              "outlinewidth": 0,
              "ticks": ""
             }
            },
            "type": "parcoords"
           }
          ],
          "pie": [
           {
            "automargin": true,
            "type": "pie"
           }
          ],
          "scatter": [
           {
            "marker": {
             "colorbar": {
              "outlinewidth": 0,
              "ticks": ""
             }
            },
            "type": "scatter"
           }
          ],
          "scatter3d": [
           {
            "line": {
             "colorbar": {
              "outlinewidth": 0,
              "ticks": ""
             }
            },
            "marker": {
             "colorbar": {
              "outlinewidth": 0,
              "ticks": ""
             }
            },
            "type": "scatter3d"
           }
          ],
          "scattercarpet": [
           {
            "marker": {
             "colorbar": {
              "outlinewidth": 0,
              "ticks": ""
             }
            },
            "type": "scattercarpet"
           }
          ],
          "scattergeo": [
           {
            "marker": {
             "colorbar": {
              "outlinewidth": 0,
              "ticks": ""
             }
            },
            "type": "scattergeo"
           }
          ],
          "scattergl": [
           {
            "marker": {
             "colorbar": {
              "outlinewidth": 0,
              "ticks": ""
             }
            },
            "type": "scattergl"
           }
          ],
          "scattermapbox": [
           {
            "marker": {
             "colorbar": {
              "outlinewidth": 0,
              "ticks": ""
             }
            },
            "type": "scattermapbox"
           }
          ],
          "scatterpolar": [
           {
            "marker": {
             "colorbar": {
              "outlinewidth": 0,
              "ticks": ""
             }
            },
            "type": "scatterpolar"
           }
          ],
          "scatterpolargl": [
           {
            "marker": {
             "colorbar": {
              "outlinewidth": 0,
              "ticks": ""
             }
            },
            "type": "scatterpolargl"
           }
          ],
          "scatterternary": [
           {
            "marker": {
             "colorbar": {
              "outlinewidth": 0,
              "ticks": ""
             }
            },
            "type": "scatterternary"
           }
          ],
          "surface": [
           {
            "colorbar": {
             "outlinewidth": 0,
             "ticks": ""
            },
            "colorscale": [
             [
              0,
              "#0d0887"
             ],
             [
              0.1111111111111111,
              "#46039f"
             ],
             [
              0.2222222222222222,
              "#7201a8"
             ],
             [
              0.3333333333333333,
              "#9c179e"
             ],
             [
              0.4444444444444444,
              "#bd3786"
             ],
             [
              0.5555555555555556,
              "#d8576b"
             ],
             [
              0.6666666666666666,
              "#ed7953"
             ],
             [
              0.7777777777777778,
              "#fb9f3a"
             ],
             [
              0.8888888888888888,
              "#fdca26"
             ],
             [
              1,
              "#f0f921"
             ]
            ],
            "type": "surface"
           }
          ],
          "table": [
           {
            "cells": {
             "fill": {
              "color": "#EBF0F8"
             },
             "line": {
              "color": "white"
             }
            },
            "header": {
             "fill": {
              "color": "#C8D4E3"
             },
             "line": {
              "color": "white"
             }
            },
            "type": "table"
           }
          ]
         },
         "layout": {
          "annotationdefaults": {
           "arrowcolor": "#2a3f5f",
           "arrowhead": 0,
           "arrowwidth": 1
          },
          "autotypenumbers": "strict",
          "coloraxis": {
           "colorbar": {
            "outlinewidth": 0,
            "ticks": ""
           }
          },
          "colorscale": {
           "diverging": [
            [
             0,
             "#8e0152"
            ],
            [
             0.1,
             "#c51b7d"
            ],
            [
             0.2,
             "#de77ae"
            ],
            [
             0.3,
             "#f1b6da"
            ],
            [
             0.4,
             "#fde0ef"
            ],
            [
             0.5,
             "#f7f7f7"
            ],
            [
             0.6,
             "#e6f5d0"
            ],
            [
             0.7,
             "#b8e186"
            ],
            [
             0.8,
             "#7fbc41"
            ],
            [
             0.9,
             "#4d9221"
            ],
            [
             1,
             "#276419"
            ]
           ],
           "sequential": [
            [
             0,
             "#0d0887"
            ],
            [
             0.1111111111111111,
             "#46039f"
            ],
            [
             0.2222222222222222,
             "#7201a8"
            ],
            [
             0.3333333333333333,
             "#9c179e"
            ],
            [
             0.4444444444444444,
             "#bd3786"
            ],
            [
             0.5555555555555556,
             "#d8576b"
            ],
            [
             0.6666666666666666,
             "#ed7953"
            ],
            [
             0.7777777777777778,
             "#fb9f3a"
            ],
            [
             0.8888888888888888,
             "#fdca26"
            ],
            [
             1,
             "#f0f921"
            ]
           ],
           "sequentialminus": [
            [
             0,
             "#0d0887"
            ],
            [
             0.1111111111111111,
             "#46039f"
            ],
            [
             0.2222222222222222,
             "#7201a8"
            ],
            [
             0.3333333333333333,
             "#9c179e"
            ],
            [
             0.4444444444444444,
             "#bd3786"
            ],
            [
             0.5555555555555556,
             "#d8576b"
            ],
            [
             0.6666666666666666,
             "#ed7953"
            ],
            [
             0.7777777777777778,
             "#fb9f3a"
            ],
            [
             0.8888888888888888,
             "#fdca26"
            ],
            [
             1,
             "#f0f921"
            ]
           ]
          },
          "colorway": [
           "#636efa",
           "#EF553B",
           "#00cc96",
           "#ab63fa",
           "#FFA15A",
           "#19d3f3",
           "#FF6692",
           "#B6E880",
           "#FF97FF",
           "#FECB52"
          ],
          "font": {
           "color": "#2a3f5f"
          },
          "geo": {
           "bgcolor": "white",
           "lakecolor": "white",
           "landcolor": "#E5ECF6",
           "showlakes": true,
           "showland": true,
           "subunitcolor": "white"
          },
          "hoverlabel": {
           "align": "left"
          },
          "hovermode": "closest",
          "mapbox": {
           "style": "light"
          },
          "paper_bgcolor": "white",
          "plot_bgcolor": "#E5ECF6",
          "polar": {
           "angularaxis": {
            "gridcolor": "white",
            "linecolor": "white",
            "ticks": ""
           },
           "bgcolor": "#E5ECF6",
           "radialaxis": {
            "gridcolor": "white",
            "linecolor": "white",
            "ticks": ""
           }
          },
          "scene": {
           "xaxis": {
            "backgroundcolor": "#E5ECF6",
            "gridcolor": "white",
            "gridwidth": 2,
            "linecolor": "white",
            "showbackground": true,
            "ticks": "",
            "zerolinecolor": "white"
           },
           "yaxis": {
            "backgroundcolor": "#E5ECF6",
            "gridcolor": "white",
            "gridwidth": 2,
            "linecolor": "white",
            "showbackground": true,
            "ticks": "",
            "zerolinecolor": "white"
           },
           "zaxis": {
            "backgroundcolor": "#E5ECF6",
            "gridcolor": "white",
            "gridwidth": 2,
            "linecolor": "white",
            "showbackground": true,
            "ticks": "",
            "zerolinecolor": "white"
           }
          },
          "shapedefaults": {
           "line": {
            "color": "#2a3f5f"
           }
          },
          "ternary": {
           "aaxis": {
            "gridcolor": "white",
            "linecolor": "white",
            "ticks": ""
           },
           "baxis": {
            "gridcolor": "white",
            "linecolor": "white",
            "ticks": ""
           },
           "bgcolor": "#E5ECF6",
           "caxis": {
            "gridcolor": "white",
            "linecolor": "white",
            "ticks": ""
           }
          },
          "title": {
           "x": 0.05
          },
          "xaxis": {
           "automargin": true,
           "gridcolor": "white",
           "linecolor": "white",
           "ticks": "",
           "title": {
            "standoff": 15
           },
           "zerolinecolor": "white",
           "zerolinewidth": 2
          },
          "yaxis": {
           "automargin": true,
           "gridcolor": "white",
           "linecolor": "white",
           "ticks": "",
           "title": {
            "standoff": 15
           },
           "zerolinecolor": "white",
           "zerolinewidth": 2
          }
         }
        },
        "width": 500,
        "xaxis": {
         "anchor": "y",
         "domain": [
          0,
          1
         ],
         "title": {
          "text": "True_Value"
         }
        },
        "yaxis": {
         "anchor": "x",
         "domain": [
          0,
          1
         ],
         "title": {
          "text": "Predict_Value"
         }
        }
       }
      }
     },
     "metadata": {}
    },
    {
     "output_type": "stream",
     "name": "stdout",
     "text": [
      "Residual sum of squares (MSE): 420.13\n",
      "R2-score: 0.99\n",
      "Coefficent shape: (1, 78)\n"
     ]
    }
   ],
   "metadata": {}
  },
  {
   "cell_type": "markdown",
   "source": [
    "<h2 style=\"color:cyan\">Polynomial Regression Model - All inputs - Vane stress</h2>"
   ],
   "metadata": {}
  },
  {
   "cell_type": "code",
   "execution_count": 273,
   "source": [
    "# All parameters\r\n",
    "polyEstimate(x_train_stress, ym_train_stress.Sv)"
   ],
   "outputs": [
    {
     "output_type": "display_data",
     "data": {
      "application/vnd.plotly.v1+json": {
       "config": {
        "plotlyServerURL": "https://plot.ly"
       },
       "data": [
        {
         "hovertemplate": "True_Value=%{x}<br>Predict_Value=%{y}<extra></extra>",
         "legendgroup": "",
         "marker": {
          "color": "#636efa",
          "symbol": "circle"
         },
         "mode": "markers",
         "name": "",
         "orientation": "v",
         "showlegend": false,
         "type": "scatter",
         "x": [
          73.5,
          74.2,
          74.9,
          73.5,
          73.5,
          73.5,
          74.9,
          73.7,
          73.8,
          68.2,
          69.7,
          70.8,
          74.6,
          74.4,
          73.7,
          76.3,
          91.8,
          74.4,
          70.7,
          70.3,
          72.1,
          73.8,
          71.8,
          409.2,
          321.4,
          408.6,
          320.6,
          426.4,
          418.6,
          402.8,
          412.8,
          318.5,
          314,
          362.4,
          437.5,
          453.4,
          508.3,
          316.9,
          315.3,
          427.5,
          446.2,
          435.7,
          136.4,
          118.7,
          118,
          136.7,
          115.5,
          116.7,
          141.8,
          139.5,
          138.7,
          137.4,
          122.8,
          152.9,
          159.2,
          179.4,
          116.9,
          118.3,
          141.9,
          145.5,
          735.2,
          733.4,
          730.2,
          732,
          503.5,
          532.4,
          845.7,
          738.4,
          463.6,
          723.9,
          732.6,
          738.2,
          711.66,
          698.4,
          731.5,
          728.59,
          731.07,
          881.06,
          570.9,
          584.7,
          483.3,
          483.8,
          493.8,
          494.5,
          385,
          379.7,
          594.4,
          484.4,
          339.1,
          485.6,
          484.2,
          493.2,
          483.6,
          468.7,
          484.9,
          484.8,
          487.4,
          638.3,
          401.7,
          429.7
         ],
         "xaxis": "x",
         "y": [
          73.87923176077948,
          73.87923176077948,
          73.87923176077948,
          73.87923176077948,
          73.87923176077948,
          73.87923176077948,
          76.14682552601448,
          74.9468255261636,
          72.5531744739692,
          64.54924007518662,
          72.4237297315658,
          97.50270072991816,
          74.59999999987326,
          70.57781530089505,
          77.10252866334349,
          75.81977754296554,
          77.0704434644706,
          74.45314863206431,
          89.28125308723429,
          46.863219986673585,
          65.33392669572663,
          73.80000000005862,
          71.80000000003133,
          407.9809125720046,
          319.7859475368466,
          410.21405246315385,
          322.2140524631302,
          423.21156743875486,
          406.99399933439395,
          426.1723071515896,
          412.8000000000318,
          318.5000000000525,
          314.00000000005434,
          375.0674940692504,
          436.3882830518212,
          460.28960550869465,
          451.48457531726376,
          362.0404628568665,
          283.8398341391892,
          479.0562881060639,
          375.61389186572865,
          470.4467261252446,
          139.94756245154304,
          115.83039757699385,
          120.86960242294822,
          139.56960242301693,
          115.49999999997885,
          116.69999999996298,
          131.78424060935527,
          127.2636608594621,
          169.83594538559532,
          137.39999999999463,
          131.43758487057426,
          153.5879815962744,
          158.7184231600388,
          162.06313721418223,
          118.68567579327214,
          89.84217318932974,
          135.80694082383593,
          171.45707162354324,
          715.3185414540073,
          736.3400712428208,
          727.2599287571354,
          729.0599287571256,
          502.39847513618383,
          600.2562676241066,
          847.5852966258788,
          723.0766966280205,
          478.92330337181534,
          723.8999999999812,
          732.5999999999547,
          719.4133138156756,
          706.7177210693951,
          693.610852661848,
          726.2342036231673,
          722.6432402349799,
          748.208299966085,
          851.0332178017304,
          608.3677121165745,
          554.0329291137875,
          491.4675276744763,
          486.5904091693699,
          491.0095908306355,
          491.7095908306362,
          346.7542478688081,
          410.50864710065593,
          589.6308895902637,
          499.72330337199287,
          323.77669662794847,
          485.6000000000183,
          484.2000000000678,
          496.110666301998,
          482.31834102400876,
          468.6631063506027,
          519.7197307648692,
          481.4556855342123,
          489.6842043440845,
          599.7172022352422,
          416.2070850143025,
          425.2530753660337
         ],
         "yaxis": "y"
        },
        {
         "hovertemplate": "<b>OLS trendline</b><br>Predict_Value = 0.99352 * True_Value + 2.26258<br>R<sup>2</sup>=0.993520<br><br>True_Value=%{x}<br>Predict_Value=%{y} <b>(trend)</b><extra></extra>",
         "legendgroup": "",
         "marker": {
          "color": "#636efa",
          "symbol": "circle"
         },
         "mode": "lines",
         "name": "",
         "showlegend": false,
         "type": "scatter",
         "x": [
          68.2,
          69.7,
          70.3,
          70.7,
          70.8,
          71.8,
          72.1,
          73.5,
          73.5,
          73.5,
          73.5,
          73.7,
          73.7,
          73.8,
          73.8,
          74.2,
          74.4,
          74.4,
          74.6,
          74.9,
          74.9,
          76.3,
          91.8,
          115.5,
          116.7,
          116.9,
          118,
          118.3,
          118.7,
          122.8,
          136.4,
          136.7,
          137.4,
          138.7,
          139.5,
          141.8,
          141.9,
          145.5,
          152.9,
          159.2,
          179.4,
          314,
          315.3,
          316.9,
          318.5,
          320.6,
          321.4,
          339.1,
          362.4,
          379.7,
          385,
          401.7,
          402.8,
          408.6,
          409.2,
          412.8,
          418.6,
          426.4,
          427.5,
          429.7,
          435.7,
          437.5,
          446.2,
          453.4,
          463.6,
          468.7,
          483.3,
          483.6,
          483.8,
          484.2,
          484.4,
          484.8,
          484.9,
          485.6,
          487.4,
          493.2,
          493.8,
          494.5,
          503.5,
          508.3,
          532.4,
          570.9,
          584.7,
          594.4,
          638.3,
          698.4,
          711.66,
          723.9,
          728.59,
          730.2,
          731.07,
          731.5,
          732,
          732.6,
          733.4,
          735.2,
          738.2,
          738.4,
          845.7,
          881.06
         ],
         "xaxis": "x",
         "y": [
          70.0206575676385,
          71.510937917934,
          72.10705005805221,
          72.50445815146435,
          72.60381017481738,
          73.59733040834772,
          73.89538647840682,
          75.2863148053493,
          75.2863148053493,
          75.2863148053493,
          75.2863148053493,
          75.48501885205538,
          75.48501885205538,
          75.58437087540841,
          75.58437087540841,
          75.98177896882055,
          76.18048301552662,
          76.18048301552662,
          76.37918706223267,
          76.67724313229179,
          76.67724313229179,
          78.06817145923426,
          93.46773507895459,
          117.01416461362373,
          118.20638889386015,
          118.40509294056622,
          119.4979651974496,
          119.79602126750869,
          120.19342936092085,
          124.26686231839524,
          137.77873749440792,
          138.07679356446698,
          138.77225772793824,
          140.06383403152768,
          140.85865021835198,
          143.14374675547177,
          143.2430987788248,
          146.81977161953404,
          154.17182134765858,
          160.43099881889972,
          180.50010753621268,
          314.22793096939694,
          315.5195072729864,
          317.1091396466349,
          318.69877202028346,
          320.7851645106972,
          321.5799806975214,
          339.1652888310086,
          362.3143102722655,
          379.5022103123405,
          384.76786755005134,
          401.35965545000806,
          402.45252770689143,
          408.2149450613675,
          408.8110572014856,
          412.3877300421949,
          418.1501473966709,
          425.8996052182075,
          426.99247747509094,
          429.1782219888577,
          435.1393433900397,
          436.92767981039435,
          445.57130584210836,
          452.7246515235268,
          462.8585579055364,
          467.9255110965411,
          482.4309065060841,
          482.7289625761432,
          482.9276666228493,
          483.3250747162614,
          483.5237787629674,
          483.9211868563796,
          484.0205388797326,
          484.7160030432039,
          486.5043394635585,
          492.2667568180345,
          492.8628689581527,
          493.55833312162395,
          502.50001522339704,
          507.2689123443427,
          531.2127499724239,
          569.4632789633422,
          583.173858186061,
          592.8110044513053,
          636.4265427032873,
          696.1371087384609,
          709.3111870350733,
          721.4718746934848,
          726.1314845887421,
          727.731052164726,
          728.5954147678974,
          729.0226284683154,
          729.5193885850805,
          730.1155007251988,
          730.910316912023,
          732.6986533323777,
          735.6792140329687,
          735.8779180796747,
          842.4826391374806,
          877.6135145951135
         ],
         "yaxis": "y"
        }
       ],
       "layout": {
        "height": 400,
        "legend": {
         "tracegroupgap": 0
        },
        "margin": {
         "b": 10,
         "l": 10,
         "r": 10,
         "t": 20
        },
        "template": {
         "data": {
          "bar": [
           {
            "error_x": {
             "color": "#2a3f5f"
            },
            "error_y": {
             "color": "#2a3f5f"
            },
            "marker": {
             "line": {
              "color": "#E5ECF6",
              "width": 0.5
             }
            },
            "type": "bar"
           }
          ],
          "barpolar": [
           {
            "marker": {
             "line": {
              "color": "#E5ECF6",
              "width": 0.5
             }
            },
            "type": "barpolar"
           }
          ],
          "carpet": [
           {
            "aaxis": {
             "endlinecolor": "#2a3f5f",
             "gridcolor": "white",
             "linecolor": "white",
             "minorgridcolor": "white",
             "startlinecolor": "#2a3f5f"
            },
            "baxis": {
             "endlinecolor": "#2a3f5f",
             "gridcolor": "white",
             "linecolor": "white",
             "minorgridcolor": "white",
             "startlinecolor": "#2a3f5f"
            },
            "type": "carpet"
           }
          ],
          "choropleth": [
           {
            "colorbar": {
             "outlinewidth": 0,
             "ticks": ""
            },
            "type": "choropleth"
           }
          ],
          "contour": [
           {
            "colorbar": {
             "outlinewidth": 0,
             "ticks": ""
            },
            "colorscale": [
             [
              0,
              "#0d0887"
             ],
             [
              0.1111111111111111,
              "#46039f"
             ],
             [
              0.2222222222222222,
              "#7201a8"
             ],
             [
              0.3333333333333333,
              "#9c179e"
             ],
             [
              0.4444444444444444,
              "#bd3786"
             ],
             [
              0.5555555555555556,
              "#d8576b"
             ],
             [
              0.6666666666666666,
              "#ed7953"
             ],
             [
              0.7777777777777778,
              "#fb9f3a"
             ],
             [
              0.8888888888888888,
              "#fdca26"
             ],
             [
              1,
              "#f0f921"
             ]
            ],
            "type": "contour"
           }
          ],
          "contourcarpet": [
           {
            "colorbar": {
             "outlinewidth": 0,
             "ticks": ""
            },
            "type": "contourcarpet"
           }
          ],
          "heatmap": [
           {
            "colorbar": {
             "outlinewidth": 0,
             "ticks": ""
            },
            "colorscale": [
             [
              0,
              "#0d0887"
             ],
             [
              0.1111111111111111,
              "#46039f"
             ],
             [
              0.2222222222222222,
              "#7201a8"
             ],
             [
              0.3333333333333333,
              "#9c179e"
             ],
             [
              0.4444444444444444,
              "#bd3786"
             ],
             [
              0.5555555555555556,
              "#d8576b"
             ],
             [
              0.6666666666666666,
              "#ed7953"
             ],
             [
              0.7777777777777778,
              "#fb9f3a"
             ],
             [
              0.8888888888888888,
              "#fdca26"
             ],
             [
              1,
              "#f0f921"
             ]
            ],
            "type": "heatmap"
           }
          ],
          "heatmapgl": [
           {
            "colorbar": {
             "outlinewidth": 0,
             "ticks": ""
            },
            "colorscale": [
             [
              0,
              "#0d0887"
             ],
             [
              0.1111111111111111,
              "#46039f"
             ],
             [
              0.2222222222222222,
              "#7201a8"
             ],
             [
              0.3333333333333333,
              "#9c179e"
             ],
             [
              0.4444444444444444,
              "#bd3786"
             ],
             [
              0.5555555555555556,
              "#d8576b"
             ],
             [
              0.6666666666666666,
              "#ed7953"
             ],
             [
              0.7777777777777778,
              "#fb9f3a"
             ],
             [
              0.8888888888888888,
              "#fdca26"
             ],
             [
              1,
              "#f0f921"
             ]
            ],
            "type": "heatmapgl"
           }
          ],
          "histogram": [
           {
            "marker": {
             "colorbar": {
              "outlinewidth": 0,
              "ticks": ""
             }
            },
            "type": "histogram"
           }
          ],
          "histogram2d": [
           {
            "colorbar": {
             "outlinewidth": 0,
             "ticks": ""
            },
            "colorscale": [
             [
              0,
              "#0d0887"
             ],
             [
              0.1111111111111111,
              "#46039f"
             ],
             [
              0.2222222222222222,
              "#7201a8"
             ],
             [
              0.3333333333333333,
              "#9c179e"
             ],
             [
              0.4444444444444444,
              "#bd3786"
             ],
             [
              0.5555555555555556,
              "#d8576b"
             ],
             [
              0.6666666666666666,
              "#ed7953"
             ],
             [
              0.7777777777777778,
              "#fb9f3a"
             ],
             [
              0.8888888888888888,
              "#fdca26"
             ],
             [
              1,
              "#f0f921"
             ]
            ],
            "type": "histogram2d"
           }
          ],
          "histogram2dcontour": [
           {
            "colorbar": {
             "outlinewidth": 0,
             "ticks": ""
            },
            "colorscale": [
             [
              0,
              "#0d0887"
             ],
             [
              0.1111111111111111,
              "#46039f"
             ],
             [
              0.2222222222222222,
              "#7201a8"
             ],
             [
              0.3333333333333333,
              "#9c179e"
             ],
             [
              0.4444444444444444,
              "#bd3786"
             ],
             [
              0.5555555555555556,
              "#d8576b"
             ],
             [
              0.6666666666666666,
              "#ed7953"
             ],
             [
              0.7777777777777778,
              "#fb9f3a"
             ],
             [
              0.8888888888888888,
              "#fdca26"
             ],
             [
              1,
              "#f0f921"
             ]
            ],
            "type": "histogram2dcontour"
           }
          ],
          "mesh3d": [
           {
            "colorbar": {
             "outlinewidth": 0,
             "ticks": ""
            },
            "type": "mesh3d"
           }
          ],
          "parcoords": [
           {
            "line": {
             "colorbar": {
              "outlinewidth": 0,
              "ticks": ""
             }
            },
            "type": "parcoords"
           }
          ],
          "pie": [
           {
            "automargin": true,
            "type": "pie"
           }
          ],
          "scatter": [
           {
            "marker": {
             "colorbar": {
              "outlinewidth": 0,
              "ticks": ""
             }
            },
            "type": "scatter"
           }
          ],
          "scatter3d": [
           {
            "line": {
             "colorbar": {
              "outlinewidth": 0,
              "ticks": ""
             }
            },
            "marker": {
             "colorbar": {
              "outlinewidth": 0,
              "ticks": ""
             }
            },
            "type": "scatter3d"
           }
          ],
          "scattercarpet": [
           {
            "marker": {
             "colorbar": {
              "outlinewidth": 0,
              "ticks": ""
             }
            },
            "type": "scattercarpet"
           }
          ],
          "scattergeo": [
           {
            "marker": {
             "colorbar": {
              "outlinewidth": 0,
              "ticks": ""
             }
            },
            "type": "scattergeo"
           }
          ],
          "scattergl": [
           {
            "marker": {
             "colorbar": {
              "outlinewidth": 0,
              "ticks": ""
             }
            },
            "type": "scattergl"
           }
          ],
          "scattermapbox": [
           {
            "marker": {
             "colorbar": {
              "outlinewidth": 0,
              "ticks": ""
             }
            },
            "type": "scattermapbox"
           }
          ],
          "scatterpolar": [
           {
            "marker": {
             "colorbar": {
              "outlinewidth": 0,
              "ticks": ""
             }
            },
            "type": "scatterpolar"
           }
          ],
          "scatterpolargl": [
           {
            "marker": {
             "colorbar": {
              "outlinewidth": 0,
              "ticks": ""
             }
            },
            "type": "scatterpolargl"
           }
          ],
          "scatterternary": [
           {
            "marker": {
             "colorbar": {
              "outlinewidth": 0,
              "ticks": ""
             }
            },
            "type": "scatterternary"
           }
          ],
          "surface": [
           {
            "colorbar": {
             "outlinewidth": 0,
             "ticks": ""
            },
            "colorscale": [
             [
              0,
              "#0d0887"
             ],
             [
              0.1111111111111111,
              "#46039f"
             ],
             [
              0.2222222222222222,
              "#7201a8"
             ],
             [
              0.3333333333333333,
              "#9c179e"
             ],
             [
              0.4444444444444444,
              "#bd3786"
             ],
             [
              0.5555555555555556,
              "#d8576b"
             ],
             [
              0.6666666666666666,
              "#ed7953"
             ],
             [
              0.7777777777777778,
              "#fb9f3a"
             ],
             [
              0.8888888888888888,
              "#fdca26"
             ],
             [
              1,
              "#f0f921"
             ]
            ],
            "type": "surface"
           }
          ],
          "table": [
           {
            "cells": {
             "fill": {
              "color": "#EBF0F8"
             },
             "line": {
              "color": "white"
             }
            },
            "header": {
             "fill": {
              "color": "#C8D4E3"
             },
             "line": {
              "color": "white"
             }
            },
            "type": "table"
           }
          ]
         },
         "layout": {
          "annotationdefaults": {
           "arrowcolor": "#2a3f5f",
           "arrowhead": 0,
           "arrowwidth": 1
          },
          "autotypenumbers": "strict",
          "coloraxis": {
           "colorbar": {
            "outlinewidth": 0,
            "ticks": ""
           }
          },
          "colorscale": {
           "diverging": [
            [
             0,
             "#8e0152"
            ],
            [
             0.1,
             "#c51b7d"
            ],
            [
             0.2,
             "#de77ae"
            ],
            [
             0.3,
             "#f1b6da"
            ],
            [
             0.4,
             "#fde0ef"
            ],
            [
             0.5,
             "#f7f7f7"
            ],
            [
             0.6,
             "#e6f5d0"
            ],
            [
             0.7,
             "#b8e186"
            ],
            [
             0.8,
             "#7fbc41"
            ],
            [
             0.9,
             "#4d9221"
            ],
            [
             1,
             "#276419"
            ]
           ],
           "sequential": [
            [
             0,
             "#0d0887"
            ],
            [
             0.1111111111111111,
             "#46039f"
            ],
            [
             0.2222222222222222,
             "#7201a8"
            ],
            [
             0.3333333333333333,
             "#9c179e"
            ],
            [
             0.4444444444444444,
             "#bd3786"
            ],
            [
             0.5555555555555556,
             "#d8576b"
            ],
            [
             0.6666666666666666,
             "#ed7953"
            ],
            [
             0.7777777777777778,
             "#fb9f3a"
            ],
            [
             0.8888888888888888,
             "#fdca26"
            ],
            [
             1,
             "#f0f921"
            ]
           ],
           "sequentialminus": [
            [
             0,
             "#0d0887"
            ],
            [
             0.1111111111111111,
             "#46039f"
            ],
            [
             0.2222222222222222,
             "#7201a8"
            ],
            [
             0.3333333333333333,
             "#9c179e"
            ],
            [
             0.4444444444444444,
             "#bd3786"
            ],
            [
             0.5555555555555556,
             "#d8576b"
            ],
            [
             0.6666666666666666,
             "#ed7953"
            ],
            [
             0.7777777777777778,
             "#fb9f3a"
            ],
            [
             0.8888888888888888,
             "#fdca26"
            ],
            [
             1,
             "#f0f921"
            ]
           ]
          },
          "colorway": [
           "#636efa",
           "#EF553B",
           "#00cc96",
           "#ab63fa",
           "#FFA15A",
           "#19d3f3",
           "#FF6692",
           "#B6E880",
           "#FF97FF",
           "#FECB52"
          ],
          "font": {
           "color": "#2a3f5f"
          },
          "geo": {
           "bgcolor": "white",
           "lakecolor": "white",
           "landcolor": "#E5ECF6",
           "showlakes": true,
           "showland": true,
           "subunitcolor": "white"
          },
          "hoverlabel": {
           "align": "left"
          },
          "hovermode": "closest",
          "mapbox": {
           "style": "light"
          },
          "paper_bgcolor": "white",
          "plot_bgcolor": "#E5ECF6",
          "polar": {
           "angularaxis": {
            "gridcolor": "white",
            "linecolor": "white",
            "ticks": ""
           },
           "bgcolor": "#E5ECF6",
           "radialaxis": {
            "gridcolor": "white",
            "linecolor": "white",
            "ticks": ""
           }
          },
          "scene": {
           "xaxis": {
            "backgroundcolor": "#E5ECF6",
            "gridcolor": "white",
            "gridwidth": 2,
            "linecolor": "white",
            "showbackground": true,
            "ticks": "",
            "zerolinecolor": "white"
           },
           "yaxis": {
            "backgroundcolor": "#E5ECF6",
            "gridcolor": "white",
            "gridwidth": 2,
            "linecolor": "white",
            "showbackground": true,
            "ticks": "",
            "zerolinecolor": "white"
           },
           "zaxis": {
            "backgroundcolor": "#E5ECF6",
            "gridcolor": "white",
            "gridwidth": 2,
            "linecolor": "white",
            "showbackground": true,
            "ticks": "",
            "zerolinecolor": "white"
           }
          },
          "shapedefaults": {
           "line": {
            "color": "#2a3f5f"
           }
          },
          "ternary": {
           "aaxis": {
            "gridcolor": "white",
            "linecolor": "white",
            "ticks": ""
           },
           "baxis": {
            "gridcolor": "white",
            "linecolor": "white",
            "ticks": ""
           },
           "bgcolor": "#E5ECF6",
           "caxis": {
            "gridcolor": "white",
            "linecolor": "white",
            "ticks": ""
           }
          },
          "title": {
           "x": 0.05
          },
          "xaxis": {
           "automargin": true,
           "gridcolor": "white",
           "linecolor": "white",
           "ticks": "",
           "title": {
            "standoff": 15
           },
           "zerolinecolor": "white",
           "zerolinewidth": 2
          },
          "yaxis": {
           "automargin": true,
           "gridcolor": "white",
           "linecolor": "white",
           "ticks": "",
           "title": {
            "standoff": 15
           },
           "zerolinecolor": "white",
           "zerolinewidth": 2
          }
         }
        },
        "width": 500,
        "xaxis": {
         "anchor": "y",
         "domain": [
          0,
          1
         ],
         "title": {
          "text": "True_Value"
         }
        },
        "yaxis": {
         "anchor": "x",
         "domain": [
          0,
          1
         ],
         "title": {
          "text": "Predict_Value"
         }
        }
       }
      }
     },
     "metadata": {}
    },
    {
     "output_type": "stream",
     "name": "stdout",
     "text": [
      "Residual sum of squares (MSE): 365.48\n",
      "R2-score: 0.99\n",
      "Coefficent shape: (1, 78)\n"
     ]
    }
   ],
   "metadata": {}
  },
  {
   "cell_type": "markdown",
   "source": [
    "<h2 style=\"color:cyan\">Polynomial Regression Model - All inputs - Frequency</h2>"
   ],
   "metadata": {}
  },
  {
   "cell_type": "code",
   "execution_count": 274,
   "source": [
    "# All parameters\r\n",
    "polyEstimate(x_train_stress, ym_train_stress.Frequency)"
   ],
   "outputs": [
    {
     "output_type": "display_data",
     "data": {
      "application/vnd.plotly.v1+json": {
       "config": {
        "plotlyServerURL": "https://plot.ly"
       },
       "data": [
        {
         "hovertemplate": "True_Value=%{x}<br>Predict_Value=%{y}<extra></extra>",
         "legendgroup": "",
         "marker": {
          "color": "#636efa",
          "symbol": "circle"
         },
         "mode": "markers",
         "name": "",
         "orientation": "v",
         "showlegend": false,
         "type": "scatter",
         "x": [
          86.74,
          86.35,
          86.02,
          82.51,
          78.06,
          73.33,
          82.92,
          86.16,
          82.38,
          86.66,
          86.5,
          86.29,
          86.48,
          72.7,
          104.24,
          112.68,
          89.74,
          83.48,
          77.84,
          85.05,
          81.46,
          86.43,
          86.05,
          43.16,
          42.15,
          42.37,
          42.89,
          43,
          43.08,
          43.2,
          43.04,
          42.83,
          42.85,
          37.2,
          48,
          51.55,
          44.07,
          42.19,
          40.51,
          45.22,
          42.3,
          40.86,
          42.38,
          41.01,
          41.87,
          41.45,
          41.82,
          41.95,
          42.2,
          42.28,
          42.46,
          42.56,
          37.06,
          51.68,
          55.33,
          43.54,
          41.06,
          38.95,
          41.91,
          41.05,
          40.87,
          39.74,
          40.11,
          40.44,
          40.83,
          40.86,
          40.86,
          40.81,
          40.76,
          40.48,
          40.66,
          37.16,
          43.99,
          46.46,
          42.36,
          39.6,
          38.48,
          41.34,
          40.37,
          39.46,
          52.12,
          50.58,
          51.91,
          50.91,
          52.25,
          52.29,
          52.26,
          52.2,
          52.12,
          52.07,
          52.02,
          47.49,
          55.45,
          57.68,
          54.3,
          50.54,
          48.92,
          53.09,
          51.43,
          49.76
         ],
         "xaxis": "x",
         "y": [
          83.7049890996008,
          83.7049890996008,
          83.7049890996008,
          83.7049890996008,
          83.7049890996008,
          83.7049890996008,
          82.05993008701688,
          85.29993008701943,
          83.24006991295907,
          85.12776121105034,
          86.06492074579344,
          86.51646770383023,
          86.47999999997795,
          74.68905542900816,
          100.3493806145568,
          115.143804361207,
          85.64350713847053,
          81.5530539033476,
          77.52180761209893,
          83.13151499976634,
          82.53886159603255,
          86.42999999998695,
          86.04999999998513,
          43.503938486545394,
          41.88042011733455,
          42.63957988267737,
          43.159579882679,
          42.6697759734152,
          43.32966351833346,
          43.192600878050996,
          43.04000000000451,
          42.8300000000101,
          42.850000000007014,
          36.86362225236576,
          48.29428695241916,
          51.23466764998716,
          44.50774727913591,
          42.43051395907577,
          40.55628900539432,
          44.478282830326066,
          42.44874249364301,
          40.560288838629674,
          42.432278047523084,
          40.83097359700133,
          42.0490264030027,
          41.62902640299822,
          41.819999999999425,
          41.94999999999487,
          42.528169658448604,
          42.723030141339024,
          41.65591337700076,
          42.559999999994375,
          37.176865820740346,
          51.55562667485927,
          55.42356307541269,
          43.6506406762403,
          41.111291401445726,
          38.7419422105489,
          41.831708828465594,
          40.889943684914044,
          41.11118414934981,
          39.501338229743965,
          40.34866177028505,
          40.678661770285316,
          40.242272949505605,
          40.91953483778093,
          40.817220884212134,
          41.048696941010235,
          40.52130305900056,
          40.480000000014684,
          40.66000000001418,
          36.02468107110451,
          44.34771945928958,
          45.734287000923246,
          42.8177112059318,
          39.768155894445044,
          38.78862644121716,
          41.664855910043684,
          40.54137959847037,
          39.623708827503265,
          52.343604409620866,
          50.4071981429949,
          52.08280185704416,
          51.08280185704808,
          52.39948097376839,
          52.61434898004768,
          51.58724726248755,
          51.96130305901863,
          52.35869694100046,
          52.07000000002131,
          52.020000000020445,
          47.0867788814586,
          55.75046216947749,
          57.30735216102835,
          54.59017074327909,
          50.46053687763987,
          48.94096814733609,
          53.229455926452374,
          51.39051552473666,
          49.70627608575995
         ],
         "yaxis": "y"
        },
        {
         "hovertemplate": "<b>OLS trendline</b><br>Predict_Value = 0.993234 * True_Value + 0.366451<br>R<sup>2</sup>=0.993234<br><br>True_Value=%{x}<br>Predict_Value=%{y} <b>(trend)</b><extra></extra>",
         "legendgroup": "",
         "marker": {
          "color": "#636efa",
          "symbol": "circle"
         },
         "mode": "lines",
         "name": "",
         "showlegend": false,
         "type": "scatter",
         "x": [
          37.06,
          37.16,
          37.2,
          38.48,
          38.95,
          39.46,
          39.6,
          39.74,
          40.11,
          40.37,
          40.44,
          40.48,
          40.51,
          40.66,
          40.76,
          40.81,
          40.83,
          40.86,
          40.86,
          40.86,
          40.87,
          41.01,
          41.05,
          41.06,
          41.34,
          41.45,
          41.82,
          41.87,
          41.91,
          41.95,
          42.15,
          42.19,
          42.2,
          42.28,
          42.3,
          42.36,
          42.37,
          42.38,
          42.46,
          42.56,
          42.83,
          42.85,
          42.89,
          43,
          43.04,
          43.08,
          43.16,
          43.2,
          43.54,
          43.99,
          44.07,
          45.22,
          46.46,
          47.49,
          48,
          48.92,
          49.76,
          50.54,
          50.58,
          50.91,
          51.43,
          51.55,
          51.68,
          51.91,
          52.02,
          52.07,
          52.12,
          52.12,
          52.2,
          52.25,
          52.26,
          52.29,
          53.09,
          54.3,
          55.33,
          55.45,
          57.68,
          72.7,
          73.33,
          77.84,
          78.06,
          81.46,
          82.38,
          82.51,
          82.92,
          83.48,
          85.05,
          86.02,
          86.05,
          86.16,
          86.29,
          86.35,
          86.43,
          86.48,
          86.5,
          86.66,
          86.74,
          89.74,
          104.24,
          112.68
         ],
         "xaxis": "x",
         "y": [
          37.175706155619906,
          37.275029562871865,
          37.31475892577266,
          38.586098538597824,
          39.05291855268208,
          39.55946792966711,
          39.69852069981986,
          39.83757346997261,
          40.20507007680489,
          40.46331093566,
          40.53283732073638,
          40.57256668363716,
          40.60236370581275,
          40.7513488166907,
          40.85067222394267,
          40.90033392756865,
          40.920198609019046,
          40.94999563119463,
          40.94999563119463,
          40.94999563119463,
          40.95992797191983,
          41.098980742072584,
          41.13871010497337,
          41.14864244569857,
          41.42674798600408,
          41.53600373398124,
          41.903500340813515,
          41.953162044439495,
          41.99289140734028,
          42.032620770241074,
          42.231267584745005,
          42.27099694764579,
          42.28092928837099,
          42.360388014172564,
          42.38025269562295,
          42.439846739974136,
          42.44977908069933,
          42.45971142142453,
          42.5391701472261,
          42.63849355447807,
          42.90666675405838,
          42.92653143550877,
          42.96626079840956,
          43.07551654638672,
          43.11524590928751,
          43.154975272188295,
          43.23443399798987,
          43.27416336089066,
          43.611862945547344,
          44.05881827818119,
          44.138277003982765,
          45.28049618738038,
          46.512106437304766,
          47.53513753200002,
          48.04168690898506,
          48.95546225570315,
          49.789778876619664,
          50.564501453185,
          50.60423081608579,
          50.93199806001728,
          51.448479777727506,
          51.567667866429865,
          51.696788295857424,
          51.92523213253695,
          52.034487880514114,
          52.08414958414009,
          52.13381128776607,
          52.13381128776607,
          52.21327001356765,
          52.26293171719364,
          52.27286405791883,
          52.30266108009442,
          53.097248338110155,
          54.29906156585895,
          55.322092660554205,
          55.44128074925657,
          57.65619273097542,
          72.5745685002208,
          73.2003059659082,
          77.6797916329719,
          77.89830312892622,
          81.27529897549307,
          82.18907432221117,
          82.31819475163874,
          82.7254207213718,
          83.28163180198281,
          84.84100929583869,
          85.80444634618276,
          85.83424336835834,
          85.94349911633552,
          86.07261954576308,
          86.13221359011425,
          86.21167231591583,
          86.2613340195418,
          86.2811987009922,
          86.44011615259535,
          86.51957487839692,
          89.49927709595592,
          103.90117114749107,
          112.28406671955707
         ],
         "yaxis": "y"
        }
       ],
       "layout": {
        "height": 400,
        "legend": {
         "tracegroupgap": 0
        },
        "margin": {
         "b": 10,
         "l": 10,
         "r": 10,
         "t": 20
        },
        "template": {
         "data": {
          "bar": [
           {
            "error_x": {
             "color": "#2a3f5f"
            },
            "error_y": {
             "color": "#2a3f5f"
            },
            "marker": {
             "line": {
              "color": "#E5ECF6",
              "width": 0.5
             }
            },
            "type": "bar"
           }
          ],
          "barpolar": [
           {
            "marker": {
             "line": {
              "color": "#E5ECF6",
              "width": 0.5
             }
            },
            "type": "barpolar"
           }
          ],
          "carpet": [
           {
            "aaxis": {
             "endlinecolor": "#2a3f5f",
             "gridcolor": "white",
             "linecolor": "white",
             "minorgridcolor": "white",
             "startlinecolor": "#2a3f5f"
            },
            "baxis": {
             "endlinecolor": "#2a3f5f",
             "gridcolor": "white",
             "linecolor": "white",
             "minorgridcolor": "white",
             "startlinecolor": "#2a3f5f"
            },
            "type": "carpet"
           }
          ],
          "choropleth": [
           {
            "colorbar": {
             "outlinewidth": 0,
             "ticks": ""
            },
            "type": "choropleth"
           }
          ],
          "contour": [
           {
            "colorbar": {
             "outlinewidth": 0,
             "ticks": ""
            },
            "colorscale": [
             [
              0,
              "#0d0887"
             ],
             [
              0.1111111111111111,
              "#46039f"
             ],
             [
              0.2222222222222222,
              "#7201a8"
             ],
             [
              0.3333333333333333,
              "#9c179e"
             ],
             [
              0.4444444444444444,
              "#bd3786"
             ],
             [
              0.5555555555555556,
              "#d8576b"
             ],
             [
              0.6666666666666666,
              "#ed7953"
             ],
             [
              0.7777777777777778,
              "#fb9f3a"
             ],
             [
              0.8888888888888888,
              "#fdca26"
             ],
             [
              1,
              "#f0f921"
             ]
            ],
            "type": "contour"
           }
          ],
          "contourcarpet": [
           {
            "colorbar": {
             "outlinewidth": 0,
             "ticks": ""
            },
            "type": "contourcarpet"
           }
          ],
          "heatmap": [
           {
            "colorbar": {
             "outlinewidth": 0,
             "ticks": ""
            },
            "colorscale": [
             [
              0,
              "#0d0887"
             ],
             [
              0.1111111111111111,
              "#46039f"
             ],
             [
              0.2222222222222222,
              "#7201a8"
             ],
             [
              0.3333333333333333,
              "#9c179e"
             ],
             [
              0.4444444444444444,
              "#bd3786"
             ],
             [
              0.5555555555555556,
              "#d8576b"
             ],
             [
              0.6666666666666666,
              "#ed7953"
             ],
             [
              0.7777777777777778,
              "#fb9f3a"
             ],
             [
              0.8888888888888888,
              "#fdca26"
             ],
             [
              1,
              "#f0f921"
             ]
            ],
            "type": "heatmap"
           }
          ],
          "heatmapgl": [
           {
            "colorbar": {
             "outlinewidth": 0,
             "ticks": ""
            },
            "colorscale": [
             [
              0,
              "#0d0887"
             ],
             [
              0.1111111111111111,
              "#46039f"
             ],
             [
              0.2222222222222222,
              "#7201a8"
             ],
             [
              0.3333333333333333,
              "#9c179e"
             ],
             [
              0.4444444444444444,
              "#bd3786"
             ],
             [
              0.5555555555555556,
              "#d8576b"
             ],
             [
              0.6666666666666666,
              "#ed7953"
             ],
             [
              0.7777777777777778,
              "#fb9f3a"
             ],
             [
              0.8888888888888888,
              "#fdca26"
             ],
             [
              1,
              "#f0f921"
             ]
            ],
            "type": "heatmapgl"
           }
          ],
          "histogram": [
           {
            "marker": {
             "colorbar": {
              "outlinewidth": 0,
              "ticks": ""
             }
            },
            "type": "histogram"
           }
          ],
          "histogram2d": [
           {
            "colorbar": {
             "outlinewidth": 0,
             "ticks": ""
            },
            "colorscale": [
             [
              0,
              "#0d0887"
             ],
             [
              0.1111111111111111,
              "#46039f"
             ],
             [
              0.2222222222222222,
              "#7201a8"
             ],
             [
              0.3333333333333333,
              "#9c179e"
             ],
             [
              0.4444444444444444,
              "#bd3786"
             ],
             [
              0.5555555555555556,
              "#d8576b"
             ],
             [
              0.6666666666666666,
              "#ed7953"
             ],
             [
              0.7777777777777778,
              "#fb9f3a"
             ],
             [
              0.8888888888888888,
              "#fdca26"
             ],
             [
              1,
              "#f0f921"
             ]
            ],
            "type": "histogram2d"
           }
          ],
          "histogram2dcontour": [
           {
            "colorbar": {
             "outlinewidth": 0,
             "ticks": ""
            },
            "colorscale": [
             [
              0,
              "#0d0887"
             ],
             [
              0.1111111111111111,
              "#46039f"
             ],
             [
              0.2222222222222222,
              "#7201a8"
             ],
             [
              0.3333333333333333,
              "#9c179e"
             ],
             [
              0.4444444444444444,
              "#bd3786"
             ],
             [
              0.5555555555555556,
              "#d8576b"
             ],
             [
              0.6666666666666666,
              "#ed7953"
             ],
             [
              0.7777777777777778,
              "#fb9f3a"
             ],
             [
              0.8888888888888888,
              "#fdca26"
             ],
             [
              1,
              "#f0f921"
             ]
            ],
            "type": "histogram2dcontour"
           }
          ],
          "mesh3d": [
           {
            "colorbar": {
             "outlinewidth": 0,
             "ticks": ""
            },
            "type": "mesh3d"
           }
          ],
          "parcoords": [
           {
            "line": {
             "colorbar": {
              "outlinewidth": 0,
              "ticks": ""
             }
            },
            "type": "parcoords"
           }
          ],
          "pie": [
           {
            "automargin": true,
            "type": "pie"
           }
          ],
          "scatter": [
           {
            "marker": {
             "colorbar": {
              "outlinewidth": 0,
              "ticks": ""
             }
            },
            "type": "scatter"
           }
          ],
          "scatter3d": [
           {
            "line": {
             "colorbar": {
              "outlinewidth": 0,
              "ticks": ""
             }
            },
            "marker": {
             "colorbar": {
              "outlinewidth": 0,
              "ticks": ""
             }
            },
            "type": "scatter3d"
           }
          ],
          "scattercarpet": [
           {
            "marker": {
             "colorbar": {
              "outlinewidth": 0,
              "ticks": ""
             }
            },
            "type": "scattercarpet"
           }
          ],
          "scattergeo": [
           {
            "marker": {
             "colorbar": {
              "outlinewidth": 0,
              "ticks": ""
             }
            },
            "type": "scattergeo"
           }
          ],
          "scattergl": [
           {
            "marker": {
             "colorbar": {
              "outlinewidth": 0,
              "ticks": ""
             }
            },
            "type": "scattergl"
           }
          ],
          "scattermapbox": [
           {
            "marker": {
             "colorbar": {
              "outlinewidth": 0,
              "ticks": ""
             }
            },
            "type": "scattermapbox"
           }
          ],
          "scatterpolar": [
           {
            "marker": {
             "colorbar": {
              "outlinewidth": 0,
              "ticks": ""
             }
            },
            "type": "scatterpolar"
           }
          ],
          "scatterpolargl": [
           {
            "marker": {
             "colorbar": {
              "outlinewidth": 0,
              "ticks": ""
             }
            },
            "type": "scatterpolargl"
           }
          ],
          "scatterternary": [
           {
            "marker": {
             "colorbar": {
              "outlinewidth": 0,
              "ticks": ""
             }
            },
            "type": "scatterternary"
           }
          ],
          "surface": [
           {
            "colorbar": {
             "outlinewidth": 0,
             "ticks": ""
            },
            "colorscale": [
             [
              0,
              "#0d0887"
             ],
             [
              0.1111111111111111,
              "#46039f"
             ],
             [
              0.2222222222222222,
              "#7201a8"
             ],
             [
              0.3333333333333333,
              "#9c179e"
             ],
             [
              0.4444444444444444,
              "#bd3786"
             ],
             [
              0.5555555555555556,
              "#d8576b"
             ],
             [
              0.6666666666666666,
              "#ed7953"
             ],
             [
              0.7777777777777778,
              "#fb9f3a"
             ],
             [
              0.8888888888888888,
              "#fdca26"
             ],
             [
              1,
              "#f0f921"
             ]
            ],
            "type": "surface"
           }
          ],
          "table": [
           {
            "cells": {
             "fill": {
              "color": "#EBF0F8"
             },
             "line": {
              "color": "white"
             }
            },
            "header": {
             "fill": {
              "color": "#C8D4E3"
             },
             "line": {
              "color": "white"
             }
            },
            "type": "table"
           }
          ]
         },
         "layout": {
          "annotationdefaults": {
           "arrowcolor": "#2a3f5f",
           "arrowhead": 0,
           "arrowwidth": 1
          },
          "autotypenumbers": "strict",
          "coloraxis": {
           "colorbar": {
            "outlinewidth": 0,
            "ticks": ""
           }
          },
          "colorscale": {
           "diverging": [
            [
             0,
             "#8e0152"
            ],
            [
             0.1,
             "#c51b7d"
            ],
            [
             0.2,
             "#de77ae"
            ],
            [
             0.3,
             "#f1b6da"
            ],
            [
             0.4,
             "#fde0ef"
            ],
            [
             0.5,
             "#f7f7f7"
            ],
            [
             0.6,
             "#e6f5d0"
            ],
            [
             0.7,
             "#b8e186"
            ],
            [
             0.8,
             "#7fbc41"
            ],
            [
             0.9,
             "#4d9221"
            ],
            [
             1,
             "#276419"
            ]
           ],
           "sequential": [
            [
             0,
             "#0d0887"
            ],
            [
             0.1111111111111111,
             "#46039f"
            ],
            [
             0.2222222222222222,
             "#7201a8"
            ],
            [
             0.3333333333333333,
             "#9c179e"
            ],
            [
             0.4444444444444444,
             "#bd3786"
            ],
            [
             0.5555555555555556,
             "#d8576b"
            ],
            [
             0.6666666666666666,
             "#ed7953"
            ],
            [
             0.7777777777777778,
             "#fb9f3a"
            ],
            [
             0.8888888888888888,
             "#fdca26"
            ],
            [
             1,
             "#f0f921"
            ]
           ],
           "sequentialminus": [
            [
             0,
             "#0d0887"
            ],
            [
             0.1111111111111111,
             "#46039f"
            ],
            [
             0.2222222222222222,
             "#7201a8"
            ],
            [
             0.3333333333333333,
             "#9c179e"
            ],
            [
             0.4444444444444444,
             "#bd3786"
            ],
            [
             0.5555555555555556,
             "#d8576b"
            ],
            [
             0.6666666666666666,
             "#ed7953"
            ],
            [
             0.7777777777777778,
             "#fb9f3a"
            ],
            [
             0.8888888888888888,
             "#fdca26"
            ],
            [
             1,
             "#f0f921"
            ]
           ]
          },
          "colorway": [
           "#636efa",
           "#EF553B",
           "#00cc96",
           "#ab63fa",
           "#FFA15A",
           "#19d3f3",
           "#FF6692",
           "#B6E880",
           "#FF97FF",
           "#FECB52"
          ],
          "font": {
           "color": "#2a3f5f"
          },
          "geo": {
           "bgcolor": "white",
           "lakecolor": "white",
           "landcolor": "#E5ECF6",
           "showlakes": true,
           "showland": true,
           "subunitcolor": "white"
          },
          "hoverlabel": {
           "align": "left"
          },
          "hovermode": "closest",
          "mapbox": {
           "style": "light"
          },
          "paper_bgcolor": "white",
          "plot_bgcolor": "#E5ECF6",
          "polar": {
           "angularaxis": {
            "gridcolor": "white",
            "linecolor": "white",
            "ticks": ""
           },
           "bgcolor": "#E5ECF6",
           "radialaxis": {
            "gridcolor": "white",
            "linecolor": "white",
            "ticks": ""
           }
          },
          "scene": {
           "xaxis": {
            "backgroundcolor": "#E5ECF6",
            "gridcolor": "white",
            "gridwidth": 2,
            "linecolor": "white",
            "showbackground": true,
            "ticks": "",
            "zerolinecolor": "white"
           },
           "yaxis": {
            "backgroundcolor": "#E5ECF6",
            "gridcolor": "white",
            "gridwidth": 2,
            "linecolor": "white",
            "showbackground": true,
            "ticks": "",
            "zerolinecolor": "white"
           },
           "zaxis": {
            "backgroundcolor": "#E5ECF6",
            "gridcolor": "white",
            "gridwidth": 2,
            "linecolor": "white",
            "showbackground": true,
            "ticks": "",
            "zerolinecolor": "white"
           }
          },
          "shapedefaults": {
           "line": {
            "color": "#2a3f5f"
           }
          },
          "ternary": {
           "aaxis": {
            "gridcolor": "white",
            "linecolor": "white",
            "ticks": ""
           },
           "baxis": {
            "gridcolor": "white",
            "linecolor": "white",
            "ticks": ""
           },
           "bgcolor": "#E5ECF6",
           "caxis": {
            "gridcolor": "white",
            "linecolor": "white",
            "ticks": ""
           }
          },
          "title": {
           "x": 0.05
          },
          "xaxis": {
           "automargin": true,
           "gridcolor": "white",
           "linecolor": "white",
           "ticks": "",
           "title": {
            "standoff": 15
           },
           "zerolinecolor": "white",
           "zerolinewidth": 2
          },
          "yaxis": {
           "automargin": true,
           "gridcolor": "white",
           "linecolor": "white",
           "ticks": "",
           "title": {
            "standoff": 15
           },
           "zerolinecolor": "white",
           "zerolinewidth": 2
          }
         }
        },
        "width": 500,
        "xaxis": {
         "anchor": "y",
         "domain": [
          0,
          1
         ],
         "title": {
          "text": "True_Value"
         }
        },
        "yaxis": {
         "anchor": "x",
         "domain": [
          0,
          1
         ],
         "title": {
          "text": "Predict_Value"
         }
        }
       }
      }
     },
     "metadata": {}
    },
    {
     "output_type": "stream",
     "name": "stdout",
     "text": [
      "Residual sum of squares (MSE): 2.25\n",
      "R2-score: 0.99\n",
      "Coefficent shape: (1, 78)\n"
     ]
    }
   ],
   "metadata": {}
  },
  {
   "cell_type": "markdown",
   "source": [
    "<h2 style=\"color:cyan\">Frequency by Rotating Speed</h2>"
   ],
   "metadata": {}
  },
  {
   "cell_type": "code",
   "execution_count": 217,
   "source": [
    "filename = 'https://raw.githubusercontent.com/sonpn82/Impeller-stress-prediction/main/Impeller%20stress%20prediction%20database%20-%20frequency.csv'\r\n",
    "df_fre = pd.read_csv(filename)"
   ],
   "outputs": [],
   "metadata": {}
  },
  {
   "cell_type": "code",
   "execution_count": 219,
   "source": [
    "df_fre.head()"
   ],
   "outputs": [
    {
     "output_type": "execute_result",
     "data": {
      "text/html": [
       "<div>\n",
       "<style scoped>\n",
       "    .dataframe tbody tr th:only-of-type {\n",
       "        vertical-align: middle;\n",
       "    }\n",
       "\n",
       "    .dataframe tbody tr th {\n",
       "        vertical-align: top;\n",
       "    }\n",
       "\n",
       "    .dataframe thead th {\n",
       "        text-align: right;\n",
       "    }\n",
       "</style>\n",
       "<table border=\"1\" class=\"dataframe\">\n",
       "  <thead>\n",
       "    <tr style=\"text-align: right;\">\n",
       "      <th></th>\n",
       "      <th>D2</th>\n",
       "      <th>tm</th>\n",
       "      <th>a</th>\n",
       "      <th>b</th>\n",
       "    </tr>\n",
       "  </thead>\n",
       "  <tbody>\n",
       "    <tr>\n",
       "      <th>0</th>\n",
       "      <td>0.755</td>\n",
       "      <td>6</td>\n",
       "      <td>1.257014</td>\n",
       "      <td>0.929486</td>\n",
       "    </tr>\n",
       "    <tr>\n",
       "      <th>1</th>\n",
       "      <td>1.500</td>\n",
       "      <td>9</td>\n",
       "      <td>1.362853</td>\n",
       "      <td>6.141204</td>\n",
       "    </tr>\n",
       "    <tr>\n",
       "      <th>2</th>\n",
       "      <td>1.000</td>\n",
       "      <td>6</td>\n",
       "      <td>1.372452</td>\n",
       "      <td>5.488837</td>\n",
       "    </tr>\n",
       "    <tr>\n",
       "      <th>3</th>\n",
       "      <td>2.000</td>\n",
       "      <td>12</td>\n",
       "      <td>1.198952</td>\n",
       "      <td>6.861394</td>\n",
       "    </tr>\n",
       "    <tr>\n",
       "      <th>4</th>\n",
       "      <td>1.750</td>\n",
       "      <td>12</td>\n",
       "      <td>1.452272</td>\n",
       "      <td>3.417123</td>\n",
       "    </tr>\n",
       "  </tbody>\n",
       "</table>\n",
       "</div>"
      ],
      "text/plain": [
       "      D2  tm         a         b\n",
       "0  0.755   6  1.257014  0.929486\n",
       "1  1.500   9  1.362853  6.141204\n",
       "2  1.000   6  1.372452  5.488837\n",
       "3  2.000  12  1.198952  6.861394\n",
       "4  1.750  12  1.452272  3.417123"
      ]
     },
     "metadata": {},
     "execution_count": 219
    }
   ],
   "metadata": {}
  },
  {
   "cell_type": "markdown",
   "source": [
    "<h3 style=\"color:cyan\">Fitting curve: y = ax&#178 + bx with</h3>\r\n",
    "<ul>- x: rotating frequency</ul>\r\n",
    "<ul>- y: natural frequency</ul>\r\n",
    "\r\n",
    "<h3 style=\"color:cyan\">c = Y - aX&#178 - bX with</h3> \r\n",
    "<ul>- X: rotating frequency at standard value of 1.785</ul>\r\n",
    "<ul>- Y: Predicted frequency at polynomial regression - all input - frequecy</ul>"
   ],
   "metadata": {}
  },
  {
   "cell_type": "code",
   "execution_count": 221,
   "source": [
    "ym_train_fre = df_fre[['a','b']]"
   ],
   "outputs": [],
   "metadata": {}
  },
  {
   "cell_type": "code",
   "execution_count": 275,
   "source": [
    "polyEstimate(df_fre[['D2','tm']], ym_train_fre.a)"
   ],
   "outputs": [
    {
     "output_type": "display_data",
     "data": {
      "application/vnd.plotly.v1+json": {
       "config": {
        "plotlyServerURL": "https://plot.ly"
       },
       "data": [
        {
         "hovertemplate": "True_Value=%{x}<br>Predict_Value=%{y}<extra></extra>",
         "legendgroup": "",
         "marker": {
          "color": "#636efa",
          "symbol": "circle"
         },
         "mode": "markers",
         "name": "",
         "orientation": "v",
         "showlegend": false,
         "type": "scatter",
         "x": [
          1.257014,
          1.362853,
          1.372452,
          1.198952,
          1.452272
         ],
         "xaxis": "x",
         "y": [
          1.2570139999999959,
          1.3628529999999992,
          1.3724519999999965,
          1.198952000000005,
          1.4522720000000053
         ],
         "yaxis": "y"
        },
        {
         "hovertemplate": "<b>OLS trendline</b><br>Predict_Value = 1 * True_Value + -5.77316e-15<br>R<sup>2</sup>=1.000000<br><br>True_Value=%{x}<br>Predict_Value=%{y} <b>(trend)</b><extra></extra>",
         "legendgroup": "",
         "marker": {
          "color": "#636efa",
          "symbol": "circle"
         },
         "mode": "lines",
         "name": "",
         "showlegend": false,
         "type": "scatter",
         "x": [
          1.198952,
          1.257014,
          1.362853,
          1.372452,
          1.452272
         ],
         "xaxis": "x",
         "y": [
          1.1989519999999996,
          1.2570139999999999,
          1.3628530000000003,
          1.3724520000000002,
          1.4522720000000007
         ],
         "yaxis": "y"
        }
       ],
       "layout": {
        "height": 400,
        "legend": {
         "tracegroupgap": 0
        },
        "margin": {
         "b": 10,
         "l": 10,
         "r": 10,
         "t": 20
        },
        "template": {
         "data": {
          "bar": [
           {
            "error_x": {
             "color": "#2a3f5f"
            },
            "error_y": {
             "color": "#2a3f5f"
            },
            "marker": {
             "line": {
              "color": "#E5ECF6",
              "width": 0.5
             }
            },
            "type": "bar"
           }
          ],
          "barpolar": [
           {
            "marker": {
             "line": {
              "color": "#E5ECF6",
              "width": 0.5
             }
            },
            "type": "barpolar"
           }
          ],
          "carpet": [
           {
            "aaxis": {
             "endlinecolor": "#2a3f5f",
             "gridcolor": "white",
             "linecolor": "white",
             "minorgridcolor": "white",
             "startlinecolor": "#2a3f5f"
            },
            "baxis": {
             "endlinecolor": "#2a3f5f",
             "gridcolor": "white",
             "linecolor": "white",
             "minorgridcolor": "white",
             "startlinecolor": "#2a3f5f"
            },
            "type": "carpet"
           }
          ],
          "choropleth": [
           {
            "colorbar": {
             "outlinewidth": 0,
             "ticks": ""
            },
            "type": "choropleth"
           }
          ],
          "contour": [
           {
            "colorbar": {
             "outlinewidth": 0,
             "ticks": ""
            },
            "colorscale": [
             [
              0,
              "#0d0887"
             ],
             [
              0.1111111111111111,
              "#46039f"
             ],
             [
              0.2222222222222222,
              "#7201a8"
             ],
             [
              0.3333333333333333,
              "#9c179e"
             ],
             [
              0.4444444444444444,
              "#bd3786"
             ],
             [
              0.5555555555555556,
              "#d8576b"
             ],
             [
              0.6666666666666666,
              "#ed7953"
             ],
             [
              0.7777777777777778,
              "#fb9f3a"
             ],
             [
              0.8888888888888888,
              "#fdca26"
             ],
             [
              1,
              "#f0f921"
             ]
            ],
            "type": "contour"
           }
          ],
          "contourcarpet": [
           {
            "colorbar": {
             "outlinewidth": 0,
             "ticks": ""
            },
            "type": "contourcarpet"
           }
          ],
          "heatmap": [
           {
            "colorbar": {
             "outlinewidth": 0,
             "ticks": ""
            },
            "colorscale": [
             [
              0,
              "#0d0887"
             ],
             [
              0.1111111111111111,
              "#46039f"
             ],
             [
              0.2222222222222222,
              "#7201a8"
             ],
             [
              0.3333333333333333,
              "#9c179e"
             ],
             [
              0.4444444444444444,
              "#bd3786"
             ],
             [
              0.5555555555555556,
              "#d8576b"
             ],
             [
              0.6666666666666666,
              "#ed7953"
             ],
             [
              0.7777777777777778,
              "#fb9f3a"
             ],
             [
              0.8888888888888888,
              "#fdca26"
             ],
             [
              1,
              "#f0f921"
             ]
            ],
            "type": "heatmap"
           }
          ],
          "heatmapgl": [
           {
            "colorbar": {
             "outlinewidth": 0,
             "ticks": ""
            },
            "colorscale": [
             [
              0,
              "#0d0887"
             ],
             [
              0.1111111111111111,
              "#46039f"
             ],
             [
              0.2222222222222222,
              "#7201a8"
             ],
             [
              0.3333333333333333,
              "#9c179e"
             ],
             [
              0.4444444444444444,
              "#bd3786"
             ],
             [
              0.5555555555555556,
              "#d8576b"
             ],
             [
              0.6666666666666666,
              "#ed7953"
             ],
             [
              0.7777777777777778,
              "#fb9f3a"
             ],
             [
              0.8888888888888888,
              "#fdca26"
             ],
             [
              1,
              "#f0f921"
             ]
            ],
            "type": "heatmapgl"
           }
          ],
          "histogram": [
           {
            "marker": {
             "colorbar": {
              "outlinewidth": 0,
              "ticks": ""
             }
            },
            "type": "histogram"
           }
          ],
          "histogram2d": [
           {
            "colorbar": {
             "outlinewidth": 0,
             "ticks": ""
            },
            "colorscale": [
             [
              0,
              "#0d0887"
             ],
             [
              0.1111111111111111,
              "#46039f"
             ],
             [
              0.2222222222222222,
              "#7201a8"
             ],
             [
              0.3333333333333333,
              "#9c179e"
             ],
             [
              0.4444444444444444,
              "#bd3786"
             ],
             [
              0.5555555555555556,
              "#d8576b"
             ],
             [
              0.6666666666666666,
              "#ed7953"
             ],
             [
              0.7777777777777778,
              "#fb9f3a"
             ],
             [
              0.8888888888888888,
              "#fdca26"
             ],
             [
              1,
              "#f0f921"
             ]
            ],
            "type": "histogram2d"
           }
          ],
          "histogram2dcontour": [
           {
            "colorbar": {
             "outlinewidth": 0,
             "ticks": ""
            },
            "colorscale": [
             [
              0,
              "#0d0887"
             ],
             [
              0.1111111111111111,
              "#46039f"
             ],
             [
              0.2222222222222222,
              "#7201a8"
             ],
             [
              0.3333333333333333,
              "#9c179e"
             ],
             [
              0.4444444444444444,
              "#bd3786"
             ],
             [
              0.5555555555555556,
              "#d8576b"
             ],
             [
              0.6666666666666666,
              "#ed7953"
             ],
             [
              0.7777777777777778,
              "#fb9f3a"
             ],
             [
              0.8888888888888888,
              "#fdca26"
             ],
             [
              1,
              "#f0f921"
             ]
            ],
            "type": "histogram2dcontour"
           }
          ],
          "mesh3d": [
           {
            "colorbar": {
             "outlinewidth": 0,
             "ticks": ""
            },
            "type": "mesh3d"
           }
          ],
          "parcoords": [
           {
            "line": {
             "colorbar": {
              "outlinewidth": 0,
              "ticks": ""
             }
            },
            "type": "parcoords"
           }
          ],
          "pie": [
           {
            "automargin": true,
            "type": "pie"
           }
          ],
          "scatter": [
           {
            "marker": {
             "colorbar": {
              "outlinewidth": 0,
              "ticks": ""
             }
            },
            "type": "scatter"
           }
          ],
          "scatter3d": [
           {
            "line": {
             "colorbar": {
              "outlinewidth": 0,
              "ticks": ""
             }
            },
            "marker": {
             "colorbar": {
              "outlinewidth": 0,
              "ticks": ""
             }
            },
            "type": "scatter3d"
           }
          ],
          "scattercarpet": [
           {
            "marker": {
             "colorbar": {
              "outlinewidth": 0,
              "ticks": ""
             }
            },
            "type": "scattercarpet"
           }
          ],
          "scattergeo": [
           {
            "marker": {
             "colorbar": {
              "outlinewidth": 0,
              "ticks": ""
             }
            },
            "type": "scattergeo"
           }
          ],
          "scattergl": [
           {
            "marker": {
             "colorbar": {
              "outlinewidth": 0,
              "ticks": ""
             }
            },
            "type": "scattergl"
           }
          ],
          "scattermapbox": [
           {
            "marker": {
             "colorbar": {
              "outlinewidth": 0,
              "ticks": ""
             }
            },
            "type": "scattermapbox"
           }
          ],
          "scatterpolar": [
           {
            "marker": {
             "colorbar": {
              "outlinewidth": 0,
              "ticks": ""
             }
            },
            "type": "scatterpolar"
           }
          ],
          "scatterpolargl": [
           {
            "marker": {
             "colorbar": {
              "outlinewidth": 0,
              "ticks": ""
             }
            },
            "type": "scatterpolargl"
           }
          ],
          "scatterternary": [
           {
            "marker": {
             "colorbar": {
              "outlinewidth": 0,
              "ticks": ""
             }
            },
            "type": "scatterternary"
           }
          ],
          "surface": [
           {
            "colorbar": {
             "outlinewidth": 0,
             "ticks": ""
            },
            "colorscale": [
             [
              0,
              "#0d0887"
             ],
             [
              0.1111111111111111,
              "#46039f"
             ],
             [
              0.2222222222222222,
              "#7201a8"
             ],
             [
              0.3333333333333333,
              "#9c179e"
             ],
             [
              0.4444444444444444,
              "#bd3786"
             ],
             [
              0.5555555555555556,
              "#d8576b"
             ],
             [
              0.6666666666666666,
              "#ed7953"
             ],
             [
              0.7777777777777778,
              "#fb9f3a"
             ],
             [
              0.8888888888888888,
              "#fdca26"
             ],
             [
              1,
              "#f0f921"
             ]
            ],
            "type": "surface"
           }
          ],
          "table": [
           {
            "cells": {
             "fill": {
              "color": "#EBF0F8"
             },
             "line": {
              "color": "white"
             }
            },
            "header": {
             "fill": {
              "color": "#C8D4E3"
             },
             "line": {
              "color": "white"
             }
            },
            "type": "table"
           }
          ]
         },
         "layout": {
          "annotationdefaults": {
           "arrowcolor": "#2a3f5f",
           "arrowhead": 0,
           "arrowwidth": 1
          },
          "autotypenumbers": "strict",
          "coloraxis": {
           "colorbar": {
            "outlinewidth": 0,
            "ticks": ""
           }
          },
          "colorscale": {
           "diverging": [
            [
             0,
             "#8e0152"
            ],
            [
             0.1,
             "#c51b7d"
            ],
            [
             0.2,
             "#de77ae"
            ],
            [
             0.3,
             "#f1b6da"
            ],
            [
             0.4,
             "#fde0ef"
            ],
            [
             0.5,
             "#f7f7f7"
            ],
            [
             0.6,
             "#e6f5d0"
            ],
            [
             0.7,
             "#b8e186"
            ],
            [
             0.8,
             "#7fbc41"
            ],
            [
             0.9,
             "#4d9221"
            ],
            [
             1,
             "#276419"
            ]
           ],
           "sequential": [
            [
             0,
             "#0d0887"
            ],
            [
             0.1111111111111111,
             "#46039f"
            ],
            [
             0.2222222222222222,
             "#7201a8"
            ],
            [
             0.3333333333333333,
             "#9c179e"
            ],
            [
             0.4444444444444444,
             "#bd3786"
            ],
            [
             0.5555555555555556,
             "#d8576b"
            ],
            [
             0.6666666666666666,
             "#ed7953"
            ],
            [
             0.7777777777777778,
             "#fb9f3a"
            ],
            [
             0.8888888888888888,
             "#fdca26"
            ],
            [
             1,
             "#f0f921"
            ]
           ],
           "sequentialminus": [
            [
             0,
             "#0d0887"
            ],
            [
             0.1111111111111111,
             "#46039f"
            ],
            [
             0.2222222222222222,
             "#7201a8"
            ],
            [
             0.3333333333333333,
             "#9c179e"
            ],
            [
             0.4444444444444444,
             "#bd3786"
            ],
            [
             0.5555555555555556,
             "#d8576b"
            ],
            [
             0.6666666666666666,
             "#ed7953"
            ],
            [
             0.7777777777777778,
             "#fb9f3a"
            ],
            [
             0.8888888888888888,
             "#fdca26"
            ],
            [
             1,
             "#f0f921"
            ]
           ]
          },
          "colorway": [
           "#636efa",
           "#EF553B",
           "#00cc96",
           "#ab63fa",
           "#FFA15A",
           "#19d3f3",
           "#FF6692",
           "#B6E880",
           "#FF97FF",
           "#FECB52"
          ],
          "font": {
           "color": "#2a3f5f"
          },
          "geo": {
           "bgcolor": "white",
           "lakecolor": "white",
           "landcolor": "#E5ECF6",
           "showlakes": true,
           "showland": true,
           "subunitcolor": "white"
          },
          "hoverlabel": {
           "align": "left"
          },
          "hovermode": "closest",
          "mapbox": {
           "style": "light"
          },
          "paper_bgcolor": "white",
          "plot_bgcolor": "#E5ECF6",
          "polar": {
           "angularaxis": {
            "gridcolor": "white",
            "linecolor": "white",
            "ticks": ""
           },
           "bgcolor": "#E5ECF6",
           "radialaxis": {
            "gridcolor": "white",
            "linecolor": "white",
            "ticks": ""
           }
          },
          "scene": {
           "xaxis": {
            "backgroundcolor": "#E5ECF6",
            "gridcolor": "white",
            "gridwidth": 2,
            "linecolor": "white",
            "showbackground": true,
            "ticks": "",
            "zerolinecolor": "white"
           },
           "yaxis": {
            "backgroundcolor": "#E5ECF6",
            "gridcolor": "white",
            "gridwidth": 2,
            "linecolor": "white",
            "showbackground": true,
            "ticks": "",
            "zerolinecolor": "white"
           },
           "zaxis": {
            "backgroundcolor": "#E5ECF6",
            "gridcolor": "white",
            "gridwidth": 2,
            "linecolor": "white",
            "showbackground": true,
            "ticks": "",
            "zerolinecolor": "white"
           }
          },
          "shapedefaults": {
           "line": {
            "color": "#2a3f5f"
           }
          },
          "ternary": {
           "aaxis": {
            "gridcolor": "white",
            "linecolor": "white",
            "ticks": ""
           },
           "baxis": {
            "gridcolor": "white",
            "linecolor": "white",
            "ticks": ""
           },
           "bgcolor": "#E5ECF6",
           "caxis": {
            "gridcolor": "white",
            "linecolor": "white",
            "ticks": ""
           }
          },
          "title": {
           "x": 0.05
          },
          "xaxis": {
           "automargin": true,
           "gridcolor": "white",
           "linecolor": "white",
           "ticks": "",
           "title": {
            "standoff": 15
           },
           "zerolinecolor": "white",
           "zerolinewidth": 2
          },
          "yaxis": {
           "automargin": true,
           "gridcolor": "white",
           "linecolor": "white",
           "ticks": "",
           "title": {
            "standoff": 15
           },
           "zerolinecolor": "white",
           "zerolinewidth": 2
          }
         }
        },
        "width": 500,
        "xaxis": {
         "anchor": "y",
         "domain": [
          0,
          1
         ],
         "title": {
          "text": "True_Value"
         }
        },
        "yaxis": {
         "anchor": "x",
         "domain": [
          0,
          1
         ],
         "title": {
          "text": "Predict_Value"
         }
        }
       }
      }
     },
     "metadata": {}
    },
    {
     "output_type": "stream",
     "name": "stdout",
     "text": [
      "Residual sum of squares (MSE): 0.00\n",
      "R2-score: 1.00\n",
      "Coefficent shape: (1, 6)\n"
     ]
    }
   ],
   "metadata": {}
  },
  {
   "cell_type": "code",
   "execution_count": 276,
   "source": [
    "polyEstimate(df_fre[['D2','tm']], ym_train_fre.b)"
   ],
   "outputs": [
    {
     "output_type": "display_data",
     "data": {
      "application/vnd.plotly.v1+json": {
       "config": {
        "plotlyServerURL": "https://plot.ly"
       },
       "data": [
        {
         "hovertemplate": "True_Value=%{x}<br>Predict_Value=%{y}<extra></extra>",
         "legendgroup": "",
         "marker": {
          "color": "#636efa",
          "symbol": "circle"
         },
         "mode": "markers",
         "name": "",
         "orientation": "v",
         "showlegend": false,
         "type": "scatter",
         "x": [
          0.929486,
          6.141204,
          5.488837,
          6.861394,
          3.417123
         ],
         "xaxis": "x",
         "y": [
          0.9294860000001801,
          6.141204000000023,
          5.488837000000183,
          6.861393999999802,
          3.417122999999819
         ],
         "yaxis": "y"
        },
        {
         "hovertemplate": "<b>OLS trendline</b><br>Predict_Value = 1 * True_Value + 1.41553e-13<br>R<sup>2</sup>=1.000000<br><br>True_Value=%{x}<br>Predict_Value=%{y} <b>(trend)</b><extra></extra>",
         "legendgroup": "",
         "marker": {
          "color": "#636efa",
          "symbol": "circle"
         },
         "mode": "lines",
         "name": "",
         "showlegend": false,
         "type": "scatter",
         "x": [
          0.929486,
          3.417123,
          5.488837,
          6.141204,
          6.861394
         ],
         "xaxis": "x",
         "y": [
          0.9294860000001132,
          3.4171230000000374,
          5.4888369999999735,
          6.141203999999954,
          6.861393999999931
         ],
         "yaxis": "y"
        }
       ],
       "layout": {
        "height": 400,
        "legend": {
         "tracegroupgap": 0
        },
        "margin": {
         "b": 10,
         "l": 10,
         "r": 10,
         "t": 20
        },
        "template": {
         "data": {
          "bar": [
           {
            "error_x": {
             "color": "#2a3f5f"
            },
            "error_y": {
             "color": "#2a3f5f"
            },
            "marker": {
             "line": {
              "color": "#E5ECF6",
              "width": 0.5
             }
            },
            "type": "bar"
           }
          ],
          "barpolar": [
           {
            "marker": {
             "line": {
              "color": "#E5ECF6",
              "width": 0.5
             }
            },
            "type": "barpolar"
           }
          ],
          "carpet": [
           {
            "aaxis": {
             "endlinecolor": "#2a3f5f",
             "gridcolor": "white",
             "linecolor": "white",
             "minorgridcolor": "white",
             "startlinecolor": "#2a3f5f"
            },
            "baxis": {
             "endlinecolor": "#2a3f5f",
             "gridcolor": "white",
             "linecolor": "white",
             "minorgridcolor": "white",
             "startlinecolor": "#2a3f5f"
            },
            "type": "carpet"
           }
          ],
          "choropleth": [
           {
            "colorbar": {
             "outlinewidth": 0,
             "ticks": ""
            },
            "type": "choropleth"
           }
          ],
          "contour": [
           {
            "colorbar": {
             "outlinewidth": 0,
             "ticks": ""
            },
            "colorscale": [
             [
              0,
              "#0d0887"
             ],
             [
              0.1111111111111111,
              "#46039f"
             ],
             [
              0.2222222222222222,
              "#7201a8"
             ],
             [
              0.3333333333333333,
              "#9c179e"
             ],
             [
              0.4444444444444444,
              "#bd3786"
             ],
             [
              0.5555555555555556,
              "#d8576b"
             ],
             [
              0.6666666666666666,
              "#ed7953"
             ],
             [
              0.7777777777777778,
              "#fb9f3a"
             ],
             [
              0.8888888888888888,
              "#fdca26"
             ],
             [
              1,
              "#f0f921"
             ]
            ],
            "type": "contour"
           }
          ],
          "contourcarpet": [
           {
            "colorbar": {
             "outlinewidth": 0,
             "ticks": ""
            },
            "type": "contourcarpet"
           }
          ],
          "heatmap": [
           {
            "colorbar": {
             "outlinewidth": 0,
             "ticks": ""
            },
            "colorscale": [
             [
              0,
              "#0d0887"
             ],
             [
              0.1111111111111111,
              "#46039f"
             ],
             [
              0.2222222222222222,
              "#7201a8"
             ],
             [
              0.3333333333333333,
              "#9c179e"
             ],
             [
              0.4444444444444444,
              "#bd3786"
             ],
             [
              0.5555555555555556,
              "#d8576b"
             ],
             [
              0.6666666666666666,
              "#ed7953"
             ],
             [
              0.7777777777777778,
              "#fb9f3a"
             ],
             [
              0.8888888888888888,
              "#fdca26"
             ],
             [
              1,
              "#f0f921"
             ]
            ],
            "type": "heatmap"
           }
          ],
          "heatmapgl": [
           {
            "colorbar": {
             "outlinewidth": 0,
             "ticks": ""
            },
            "colorscale": [
             [
              0,
              "#0d0887"
             ],
             [
              0.1111111111111111,
              "#46039f"
             ],
             [
              0.2222222222222222,
              "#7201a8"
             ],
             [
              0.3333333333333333,
              "#9c179e"
             ],
             [
              0.4444444444444444,
              "#bd3786"
             ],
             [
              0.5555555555555556,
              "#d8576b"
             ],
             [
              0.6666666666666666,
              "#ed7953"
             ],
             [
              0.7777777777777778,
              "#fb9f3a"
             ],
             [
              0.8888888888888888,
              "#fdca26"
             ],
             [
              1,
              "#f0f921"
             ]
            ],
            "type": "heatmapgl"
           }
          ],
          "histogram": [
           {
            "marker": {
             "colorbar": {
              "outlinewidth": 0,
              "ticks": ""
             }
            },
            "type": "histogram"
           }
          ],
          "histogram2d": [
           {
            "colorbar": {
             "outlinewidth": 0,
             "ticks": ""
            },
            "colorscale": [
             [
              0,
              "#0d0887"
             ],
             [
              0.1111111111111111,
              "#46039f"
             ],
             [
              0.2222222222222222,
              "#7201a8"
             ],
             [
              0.3333333333333333,
              "#9c179e"
             ],
             [
              0.4444444444444444,
              "#bd3786"
             ],
             [
              0.5555555555555556,
              "#d8576b"
             ],
             [
              0.6666666666666666,
              "#ed7953"
             ],
             [
              0.7777777777777778,
              "#fb9f3a"
             ],
             [
              0.8888888888888888,
              "#fdca26"
             ],
             [
              1,
              "#f0f921"
             ]
            ],
            "type": "histogram2d"
           }
          ],
          "histogram2dcontour": [
           {
            "colorbar": {
             "outlinewidth": 0,
             "ticks": ""
            },
            "colorscale": [
             [
              0,
              "#0d0887"
             ],
             [
              0.1111111111111111,
              "#46039f"
             ],
             [
              0.2222222222222222,
              "#7201a8"
             ],
             [
              0.3333333333333333,
              "#9c179e"
             ],
             [
              0.4444444444444444,
              "#bd3786"
             ],
             [
              0.5555555555555556,
              "#d8576b"
             ],
             [
              0.6666666666666666,
              "#ed7953"
             ],
             [
              0.7777777777777778,
              "#fb9f3a"
             ],
             [
              0.8888888888888888,
              "#fdca26"
             ],
             [
              1,
              "#f0f921"
             ]
            ],
            "type": "histogram2dcontour"
           }
          ],
          "mesh3d": [
           {
            "colorbar": {
             "outlinewidth": 0,
             "ticks": ""
            },
            "type": "mesh3d"
           }
          ],
          "parcoords": [
           {
            "line": {
             "colorbar": {
              "outlinewidth": 0,
              "ticks": ""
             }
            },
            "type": "parcoords"
           }
          ],
          "pie": [
           {
            "automargin": true,
            "type": "pie"
           }
          ],
          "scatter": [
           {
            "marker": {
             "colorbar": {
              "outlinewidth": 0,
              "ticks": ""
             }
            },
            "type": "scatter"
           }
          ],
          "scatter3d": [
           {
            "line": {
             "colorbar": {
              "outlinewidth": 0,
              "ticks": ""
             }
            },
            "marker": {
             "colorbar": {
              "outlinewidth": 0,
              "ticks": ""
             }
            },
            "type": "scatter3d"
           }
          ],
          "scattercarpet": [
           {
            "marker": {
             "colorbar": {
              "outlinewidth": 0,
              "ticks": ""
             }
            },
            "type": "scattercarpet"
           }
          ],
          "scattergeo": [
           {
            "marker": {
             "colorbar": {
              "outlinewidth": 0,
              "ticks": ""
             }
            },
            "type": "scattergeo"
           }
          ],
          "scattergl": [
           {
            "marker": {
             "colorbar": {
              "outlinewidth": 0,
              "ticks": ""
             }
            },
            "type": "scattergl"
           }
          ],
          "scattermapbox": [
           {
            "marker": {
             "colorbar": {
              "outlinewidth": 0,
              "ticks": ""
             }
            },
            "type": "scattermapbox"
           }
          ],
          "scatterpolar": [
           {
            "marker": {
             "colorbar": {
              "outlinewidth": 0,
              "ticks": ""
             }
            },
            "type": "scatterpolar"
           }
          ],
          "scatterpolargl": [
           {
            "marker": {
             "colorbar": {
              "outlinewidth": 0,
              "ticks": ""
             }
            },
            "type": "scatterpolargl"
           }
          ],
          "scatterternary": [
           {
            "marker": {
             "colorbar": {
              "outlinewidth": 0,
              "ticks": ""
             }
            },
            "type": "scatterternary"
           }
          ],
          "surface": [
           {
            "colorbar": {
             "outlinewidth": 0,
             "ticks": ""
            },
            "colorscale": [
             [
              0,
              "#0d0887"
             ],
             [
              0.1111111111111111,
              "#46039f"
             ],
             [
              0.2222222222222222,
              "#7201a8"
             ],
             [
              0.3333333333333333,
              "#9c179e"
             ],
             [
              0.4444444444444444,
              "#bd3786"
             ],
             [
              0.5555555555555556,
              "#d8576b"
             ],
             [
              0.6666666666666666,
              "#ed7953"
             ],
             [
              0.7777777777777778,
              "#fb9f3a"
             ],
             [
              0.8888888888888888,
              "#fdca26"
             ],
             [
              1,
              "#f0f921"
             ]
            ],
            "type": "surface"
           }
          ],
          "table": [
           {
            "cells": {
             "fill": {
              "color": "#EBF0F8"
             },
             "line": {
              "color": "white"
             }
            },
            "header": {
             "fill": {
              "color": "#C8D4E3"
             },
             "line": {
              "color": "white"
             }
            },
            "type": "table"
           }
          ]
         },
         "layout": {
          "annotationdefaults": {
           "arrowcolor": "#2a3f5f",
           "arrowhead": 0,
           "arrowwidth": 1
          },
          "autotypenumbers": "strict",
          "coloraxis": {
           "colorbar": {
            "outlinewidth": 0,
            "ticks": ""
           }
          },
          "colorscale": {
           "diverging": [
            [
             0,
             "#8e0152"
            ],
            [
             0.1,
             "#c51b7d"
            ],
            [
             0.2,
             "#de77ae"
            ],
            [
             0.3,
             "#f1b6da"
            ],
            [
             0.4,
             "#fde0ef"
            ],
            [
             0.5,
             "#f7f7f7"
            ],
            [
             0.6,
             "#e6f5d0"
            ],
            [
             0.7,
             "#b8e186"
            ],
            [
             0.8,
             "#7fbc41"
            ],
            [
             0.9,
             "#4d9221"
            ],
            [
             1,
             "#276419"
            ]
           ],
           "sequential": [
            [
             0,
             "#0d0887"
            ],
            [
             0.1111111111111111,
             "#46039f"
            ],
            [
             0.2222222222222222,
             "#7201a8"
            ],
            [
             0.3333333333333333,
             "#9c179e"
            ],
            [
             0.4444444444444444,
             "#bd3786"
            ],
            [
             0.5555555555555556,
             "#d8576b"
            ],
            [
             0.6666666666666666,
             "#ed7953"
            ],
            [
             0.7777777777777778,
             "#fb9f3a"
            ],
            [
             0.8888888888888888,
             "#fdca26"
            ],
            [
             1,
             "#f0f921"
            ]
           ],
           "sequentialminus": [
            [
             0,
             "#0d0887"
            ],
            [
             0.1111111111111111,
             "#46039f"
            ],
            [
             0.2222222222222222,
             "#7201a8"
            ],
            [
             0.3333333333333333,
             "#9c179e"
            ],
            [
             0.4444444444444444,
             "#bd3786"
            ],
            [
             0.5555555555555556,
             "#d8576b"
            ],
            [
             0.6666666666666666,
             "#ed7953"
            ],
            [
             0.7777777777777778,
             "#fb9f3a"
            ],
            [
             0.8888888888888888,
             "#fdca26"
            ],
            [
             1,
             "#f0f921"
            ]
           ]
          },
          "colorway": [
           "#636efa",
           "#EF553B",
           "#00cc96",
           "#ab63fa",
           "#FFA15A",
           "#19d3f3",
           "#FF6692",
           "#B6E880",
           "#FF97FF",
           "#FECB52"
          ],
          "font": {
           "color": "#2a3f5f"
          },
          "geo": {
           "bgcolor": "white",
           "lakecolor": "white",
           "landcolor": "#E5ECF6",
           "showlakes": true,
           "showland": true,
           "subunitcolor": "white"
          },
          "hoverlabel": {
           "align": "left"
          },
          "hovermode": "closest",
          "mapbox": {
           "style": "light"
          },
          "paper_bgcolor": "white",
          "plot_bgcolor": "#E5ECF6",
          "polar": {
           "angularaxis": {
            "gridcolor": "white",
            "linecolor": "white",
            "ticks": ""
           },
           "bgcolor": "#E5ECF6",
           "radialaxis": {
            "gridcolor": "white",
            "linecolor": "white",
            "ticks": ""
           }
          },
          "scene": {
           "xaxis": {
            "backgroundcolor": "#E5ECF6",
            "gridcolor": "white",
            "gridwidth": 2,
            "linecolor": "white",
            "showbackground": true,
            "ticks": "",
            "zerolinecolor": "white"
           },
           "yaxis": {
            "backgroundcolor": "#E5ECF6",
            "gridcolor": "white",
            "gridwidth": 2,
            "linecolor": "white",
            "showbackground": true,
            "ticks": "",
            "zerolinecolor": "white"
           },
           "zaxis": {
            "backgroundcolor": "#E5ECF6",
            "gridcolor": "white",
            "gridwidth": 2,
            "linecolor": "white",
            "showbackground": true,
            "ticks": "",
            "zerolinecolor": "white"
           }
          },
          "shapedefaults": {
           "line": {
            "color": "#2a3f5f"
           }
          },
          "ternary": {
           "aaxis": {
            "gridcolor": "white",
            "linecolor": "white",
            "ticks": ""
           },
           "baxis": {
            "gridcolor": "white",
            "linecolor": "white",
            "ticks": ""
           },
           "bgcolor": "#E5ECF6",
           "caxis": {
            "gridcolor": "white",
            "linecolor": "white",
            "ticks": ""
           }
          },
          "title": {
           "x": 0.05
          },
          "xaxis": {
           "automargin": true,
           "gridcolor": "white",
           "linecolor": "white",
           "ticks": "",
           "title": {
            "standoff": 15
           },
           "zerolinecolor": "white",
           "zerolinewidth": 2
          },
          "yaxis": {
           "automargin": true,
           "gridcolor": "white",
           "linecolor": "white",
           "ticks": "",
           "title": {
            "standoff": 15
           },
           "zerolinecolor": "white",
           "zerolinewidth": 2
          }
         }
        },
        "width": 500,
        "xaxis": {
         "anchor": "y",
         "domain": [
          0,
          1
         ],
         "title": {
          "text": "True_Value"
         }
        },
        "yaxis": {
         "anchor": "x",
         "domain": [
          0,
          1
         ],
         "title": {
          "text": "Predict_Value"
         }
        }
       }
      }
     },
     "metadata": {}
    },
    {
     "output_type": "stream",
     "name": "stdout",
     "text": [
      "Residual sum of squares (MSE): 0.00\n",
      "R2-score: 1.00\n",
      "Coefficent shape: (1, 6)\n"
     ]
    }
   ],
   "metadata": {}
  },
  {
   "cell_type": "code",
   "execution_count": null,
   "source": [
    "# To be continued with test data \r\n",
    "# Train data show very good fit with current function"
   ],
   "outputs": [],
   "metadata": {}
  }
 ],
 "metadata": {
  "orig_nbformat": 4,
  "language_info": {
   "name": "python",
   "version": "3.8.8",
   "mimetype": "text/x-python",
   "codemirror_mode": {
    "name": "ipython",
    "version": 3
   },
   "pygments_lexer": "ipython3",
   "nbconvert_exporter": "python",
   "file_extension": ".py"
  },
  "kernelspec": {
   "name": "python3",
   "display_name": "Python 3.8.8 64-bit ('base': conda)"
  },
  "interpreter": {
   "hash": "c0f70214c0dd213f07f54ee5d6e0ea644bdbba35113c9bfe8aaa0d1db03ad5dd"
  }
 },
 "nbformat": 4,
 "nbformat_minor": 2
}